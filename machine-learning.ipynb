{
 "cells": [
  {
   "cell_type": "code",
   "execution_count": 1,
   "metadata": {},
   "outputs": [],
   "source": [
    "# %%"
   ]
  },
  {
   "cell_type": "markdown",
   "metadata": {},
   "source": [
    "# Machine-Learning"
   ]
  },
  {
   "cell_type": "markdown",
   "metadata": {},
   "source": [
    "### Recommendations: Linear Reg, DTRegression, NeuralNetwork, SVM, LogisticReg"
   ]
  },
  {
   "cell_type": "code",
   "execution_count": 2,
   "metadata": {},
   "outputs": [],
   "source": [
    "import numpy as np\n",
    "import pandas as pd\n",
    "import seaborn as sns\n",
    "import matplotlib.pyplot as plt\n",
    "import plotly.express as px\n",
    "import shap\n",
    "\n",
    "from sklearn.model_selection import train_test_split # Random Split\n",
    "from sklearn.metrics import r2_score, mean_squared_error, explained_variance_score\n",
    "from sklearn.preprocessing import StandardScaler\n",
    "\n",
    "from sklearn import set_config\n",
    "set_config(transform_output=\"pandas\") # Keeps feature names after pipeline"
   ]
  },
  {
   "cell_type": "code",
   "execution_count": 3,
   "metadata": {
    "collapsed": false
   },
   "outputs": [],
   "source": [
    "def calculate_score(y_true, y_pred):\n",
    "    print(f\"R2 Score {r2_score(y_true, y_pred)}\")\n",
    "    print(f\"RMSE : {np.sqrt(mean_squared_error(y_true, y_pred))}\")\n",
    "\n",
    "def plot(y_true, y_pred):\n",
    "    # Plotly express plot\n",
    "    h = pd.DataFrame(data={'Actual y':y_true, 'Predicted y': y_pred})\n",
    "    fig = px.scatter(h, x='Actual y', y='Predicted y')\n",
    "    fig.show()"
   ]
  },
  {
   "cell_type": "code",
   "execution_count": 4,
   "metadata": {},
   "outputs": [
    {
     "data": {
      "text/html": [
       "<div>\n",
       "<style scoped>\n",
       "    .dataframe tbody tr th:only-of-type {\n",
       "        vertical-align: middle;\n",
       "    }\n",
       "\n",
       "    .dataframe tbody tr th {\n",
       "        vertical-align: top;\n",
       "    }\n",
       "\n",
       "    .dataframe thead th {\n",
       "        text-align: right;\n",
       "    }\n",
       "</style>\n",
       "<table border=\"1\" class=\"dataframe\">\n",
       "  <thead>\n",
       "    <tr style=\"text-align: right;\">\n",
       "      <th></th>\n",
       "      <th>Unnamed: 0</th>\n",
       "      <th>neighbourhood_cleansed_Ang Mo Kio</th>\n",
       "      <th>neighbourhood_cleansed_Bedok</th>\n",
       "      <th>neighbourhood_cleansed_Bishan</th>\n",
       "      <th>neighbourhood_cleansed_Bukit Batok</th>\n",
       "      <th>neighbourhood_cleansed_Bukit Merah</th>\n",
       "      <th>neighbourhood_cleansed_Bukit Panjang</th>\n",
       "      <th>neighbourhood_cleansed_Bukit Timah</th>\n",
       "      <th>neighbourhood_cleansed_Central Water Catchment</th>\n",
       "      <th>neighbourhood_cleansed_Choa Chu Kang</th>\n",
       "      <th>...</th>\n",
       "      <th>Pool</th>\n",
       "      <th>Extra pillows and blankets</th>\n",
       "      <th>Coffee</th>\n",
       "      <th>Private entrance</th>\n",
       "      <th>host_since_years</th>\n",
       "      <th>distance_from_MRT</th>\n",
       "      <th>distance_from_Bus</th>\n",
       "      <th>distance_from_Mall</th>\n",
       "      <th>distance_from_School</th>\n",
       "      <th>distance_from_Food</th>\n",
       "    </tr>\n",
       "  </thead>\n",
       "  <tbody>\n",
       "    <tr>\n",
       "      <th>0</th>\n",
       "      <td>0</td>\n",
       "      <td>0.0</td>\n",
       "      <td>0.0</td>\n",
       "      <td>0.0</td>\n",
       "      <td>0.0</td>\n",
       "      <td>0.0</td>\n",
       "      <td>0.0</td>\n",
       "      <td>0.0</td>\n",
       "      <td>0.0</td>\n",
       "      <td>0.0</td>\n",
       "      <td>...</td>\n",
       "      <td>False</td>\n",
       "      <td>False</td>\n",
       "      <td>True</td>\n",
       "      <td>True</td>\n",
       "      <td>12</td>\n",
       "      <td>0.842953</td>\n",
       "      <td>0.180102</td>\n",
       "      <td>7.976199</td>\n",
       "      <td>3.515767</td>\n",
       "      <td>0.785094</td>\n",
       "    </tr>\n",
       "    <tr>\n",
       "      <th>1</th>\n",
       "      <td>1</td>\n",
       "      <td>0.0</td>\n",
       "      <td>0.0</td>\n",
       "      <td>0.0</td>\n",
       "      <td>0.0</td>\n",
       "      <td>0.0</td>\n",
       "      <td>0.0</td>\n",
       "      <td>0.0</td>\n",
       "      <td>0.0</td>\n",
       "      <td>0.0</td>\n",
       "      <td>...</td>\n",
       "      <td>False</td>\n",
       "      <td>False</td>\n",
       "      <td>True</td>\n",
       "      <td>False</td>\n",
       "      <td>12</td>\n",
       "      <td>0.880282</td>\n",
       "      <td>0.205346</td>\n",
       "      <td>7.952045</td>\n",
       "      <td>3.786036</td>\n",
       "      <td>0.502588</td>\n",
       "    </tr>\n",
       "    <tr>\n",
       "      <th>2</th>\n",
       "      <td>2</td>\n",
       "      <td>0.0</td>\n",
       "      <td>0.0</td>\n",
       "      <td>0.0</td>\n",
       "      <td>0.0</td>\n",
       "      <td>1.0</td>\n",
       "      <td>0.0</td>\n",
       "      <td>0.0</td>\n",
       "      <td>0.0</td>\n",
       "      <td>0.0</td>\n",
       "      <td>...</td>\n",
       "      <td>False</td>\n",
       "      <td>False</td>\n",
       "      <td>False</td>\n",
       "      <td>False</td>\n",
       "      <td>12</td>\n",
       "      <td>0.549557</td>\n",
       "      <td>0.117975</td>\n",
       "      <td>4.230675</td>\n",
       "      <td>1.095807</td>\n",
       "      <td>0.169376</td>\n",
       "    </tr>\n",
       "    <tr>\n",
       "      <th>3</th>\n",
       "      <td>3</td>\n",
       "      <td>0.0</td>\n",
       "      <td>0.0</td>\n",
       "      <td>0.0</td>\n",
       "      <td>0.0</td>\n",
       "      <td>1.0</td>\n",
       "      <td>0.0</td>\n",
       "      <td>0.0</td>\n",
       "      <td>0.0</td>\n",
       "      <td>0.0</td>\n",
       "      <td>...</td>\n",
       "      <td>False</td>\n",
       "      <td>False</td>\n",
       "      <td>False</td>\n",
       "      <td>False</td>\n",
       "      <td>12</td>\n",
       "      <td>0.609339</td>\n",
       "      <td>0.040906</td>\n",
       "      <td>3.862544</td>\n",
       "      <td>0.685090</td>\n",
       "      <td>0.208523</td>\n",
       "    </tr>\n",
       "    <tr>\n",
       "      <th>4</th>\n",
       "      <td>4</td>\n",
       "      <td>0.0</td>\n",
       "      <td>0.0</td>\n",
       "      <td>0.0</td>\n",
       "      <td>0.0</td>\n",
       "      <td>0.0</td>\n",
       "      <td>0.0</td>\n",
       "      <td>0.0</td>\n",
       "      <td>0.0</td>\n",
       "      <td>0.0</td>\n",
       "      <td>...</td>\n",
       "      <td>False</td>\n",
       "      <td>False</td>\n",
       "      <td>False</td>\n",
       "      <td>True</td>\n",
       "      <td>12</td>\n",
       "      <td>0.738518</td>\n",
       "      <td>0.210803</td>\n",
       "      <td>7.816646</td>\n",
       "      <td>3.809634</td>\n",
       "      <td>0.506811</td>\n",
       "    </tr>\n",
       "  </tbody>\n",
       "</table>\n",
       "<p>5 rows × 132 columns</p>\n",
       "</div>"
      ],
      "text/plain": [
       "   Unnamed: 0  neighbourhood_cleansed_Ang Mo Kio  \\\n",
       "0           0                                0.0   \n",
       "1           1                                0.0   \n",
       "2           2                                0.0   \n",
       "3           3                                0.0   \n",
       "4           4                                0.0   \n",
       "\n",
       "   neighbourhood_cleansed_Bedok  neighbourhood_cleansed_Bishan  \\\n",
       "0                           0.0                            0.0   \n",
       "1                           0.0                            0.0   \n",
       "2                           0.0                            0.0   \n",
       "3                           0.0                            0.0   \n",
       "4                           0.0                            0.0   \n",
       "\n",
       "   neighbourhood_cleansed_Bukit Batok  neighbourhood_cleansed_Bukit Merah  \\\n",
       "0                                 0.0                                 0.0   \n",
       "1                                 0.0                                 0.0   \n",
       "2                                 0.0                                 1.0   \n",
       "3                                 0.0                                 1.0   \n",
       "4                                 0.0                                 0.0   \n",
       "\n",
       "   neighbourhood_cleansed_Bukit Panjang  neighbourhood_cleansed_Bukit Timah  \\\n",
       "0                                   0.0                                 0.0   \n",
       "1                                   0.0                                 0.0   \n",
       "2                                   0.0                                 0.0   \n",
       "3                                   0.0                                 0.0   \n",
       "4                                   0.0                                 0.0   \n",
       "\n",
       "   neighbourhood_cleansed_Central Water Catchment  \\\n",
       "0                                             0.0   \n",
       "1                                             0.0   \n",
       "2                                             0.0   \n",
       "3                                             0.0   \n",
       "4                                             0.0   \n",
       "\n",
       "   neighbourhood_cleansed_Choa Chu Kang  ...   Pool  \\\n",
       "0                                   0.0  ...  False   \n",
       "1                                   0.0  ...  False   \n",
       "2                                   0.0  ...  False   \n",
       "3                                   0.0  ...  False   \n",
       "4                                   0.0  ...  False   \n",
       "\n",
       "   Extra pillows and blankets  Coffee  Private entrance  host_since_years  \\\n",
       "0                       False    True              True                12   \n",
       "1                       False    True             False                12   \n",
       "2                       False   False             False                12   \n",
       "3                       False   False             False                12   \n",
       "4                       False   False              True                12   \n",
       "\n",
       "   distance_from_MRT  distance_from_Bus  distance_from_Mall  \\\n",
       "0           0.842953           0.180102            7.976199   \n",
       "1           0.880282           0.205346            7.952045   \n",
       "2           0.549557           0.117975            4.230675   \n",
       "3           0.609339           0.040906            3.862544   \n",
       "4           0.738518           0.210803            7.816646   \n",
       "\n",
       "   distance_from_School  distance_from_Food  \n",
       "0              3.515767            0.785094  \n",
       "1              3.786036            0.502588  \n",
       "2              1.095807            0.169376  \n",
       "3              0.685090            0.208523  \n",
       "4              3.809634            0.506811  \n",
       "\n",
       "[5 rows x 132 columns]"
      ]
     },
     "execution_count": 4,
     "metadata": {},
     "output_type": "execute_result"
    }
   ],
   "source": [
    "df = pd.read_csv('data/clean_listing.csv')\n",
    "df.head()"
   ]
  },
  {
   "cell_type": "code",
   "execution_count": 5,
   "metadata": {},
   "outputs": [
    {
     "name": "stdout",
     "output_type": "stream",
     "text": [
      "The standard deviation of price of listing is $132.36.\n"
     ]
    }
   ],
   "source": [
    "print(f\"The standard deviation of price of listing is ${df['price'].std():.2f}.\")"
   ]
  },
  {
   "cell_type": "code",
   "execution_count": 6,
   "metadata": {},
   "outputs": [],
   "source": [
    "# Split data\n",
    "Y = df['price']\n",
    "X = df.drop(['price', 'Unnamed: 0', 'latitude', 'longitude'], axis=1)\n",
    "X = X.astype('float64')"
   ]
  },
  {
   "cell_type": "code",
   "execution_count": 7,
   "metadata": {},
   "outputs": [],
   "source": [
    "X_train, X_test, y_train, y_test = train_test_split(X, Y, test_size=0.20, random_state=45)"
   ]
  },
  {
   "cell_type": "code",
   "execution_count": 8,
   "metadata": {
    "collapsed": false
   },
   "outputs": [
    {
     "data": {
      "text/html": [
       "<div>\n",
       "<style scoped>\n",
       "    .dataframe tbody tr th:only-of-type {\n",
       "        vertical-align: middle;\n",
       "    }\n",
       "\n",
       "    .dataframe tbody tr th {\n",
       "        vertical-align: top;\n",
       "    }\n",
       "\n",
       "    .dataframe thead th {\n",
       "        text-align: right;\n",
       "    }\n",
       "</style>\n",
       "<table border=\"1\" class=\"dataframe\">\n",
       "  <thead>\n",
       "    <tr style=\"text-align: right;\">\n",
       "      <th></th>\n",
       "      <th>neighbourhood_cleansed_Ang Mo Kio</th>\n",
       "      <th>neighbourhood_cleansed_Bedok</th>\n",
       "      <th>neighbourhood_cleansed_Bishan</th>\n",
       "      <th>neighbourhood_cleansed_Bukit Batok</th>\n",
       "      <th>neighbourhood_cleansed_Bukit Merah</th>\n",
       "      <th>neighbourhood_cleansed_Bukit Panjang</th>\n",
       "      <th>neighbourhood_cleansed_Bukit Timah</th>\n",
       "      <th>neighbourhood_cleansed_Central Water Catchment</th>\n",
       "      <th>neighbourhood_cleansed_Choa Chu Kang</th>\n",
       "      <th>neighbourhood_cleansed_Clementi</th>\n",
       "      <th>...</th>\n",
       "      <th>Pool</th>\n",
       "      <th>Extra pillows and blankets</th>\n",
       "      <th>Coffee</th>\n",
       "      <th>Private entrance</th>\n",
       "      <th>host_since_years</th>\n",
       "      <th>distance_from_MRT</th>\n",
       "      <th>distance_from_Bus</th>\n",
       "      <th>distance_from_Mall</th>\n",
       "      <th>distance_from_School</th>\n",
       "      <th>distance_from_Food</th>\n",
       "    </tr>\n",
       "  </thead>\n",
       "  <tbody>\n",
       "    <tr>\n",
       "      <th>0</th>\n",
       "      <td>0.0</td>\n",
       "      <td>0.0</td>\n",
       "      <td>0.0</td>\n",
       "      <td>0.0</td>\n",
       "      <td>0.0</td>\n",
       "      <td>0.0</td>\n",
       "      <td>0.0</td>\n",
       "      <td>0.0</td>\n",
       "      <td>0.0</td>\n",
       "      <td>0.0</td>\n",
       "      <td>...</td>\n",
       "      <td>0.0</td>\n",
       "      <td>0.0</td>\n",
       "      <td>1.0</td>\n",
       "      <td>1.0</td>\n",
       "      <td>12.0</td>\n",
       "      <td>0.842953</td>\n",
       "      <td>0.180102</td>\n",
       "      <td>7.976199</td>\n",
       "      <td>3.515767</td>\n",
       "      <td>0.785094</td>\n",
       "    </tr>\n",
       "    <tr>\n",
       "      <th>1</th>\n",
       "      <td>0.0</td>\n",
       "      <td>0.0</td>\n",
       "      <td>0.0</td>\n",
       "      <td>0.0</td>\n",
       "      <td>0.0</td>\n",
       "      <td>0.0</td>\n",
       "      <td>0.0</td>\n",
       "      <td>0.0</td>\n",
       "      <td>0.0</td>\n",
       "      <td>0.0</td>\n",
       "      <td>...</td>\n",
       "      <td>0.0</td>\n",
       "      <td>0.0</td>\n",
       "      <td>1.0</td>\n",
       "      <td>0.0</td>\n",
       "      <td>12.0</td>\n",
       "      <td>0.880282</td>\n",
       "      <td>0.205346</td>\n",
       "      <td>7.952045</td>\n",
       "      <td>3.786036</td>\n",
       "      <td>0.502588</td>\n",
       "    </tr>\n",
       "    <tr>\n",
       "      <th>2</th>\n",
       "      <td>0.0</td>\n",
       "      <td>0.0</td>\n",
       "      <td>0.0</td>\n",
       "      <td>0.0</td>\n",
       "      <td>1.0</td>\n",
       "      <td>0.0</td>\n",
       "      <td>0.0</td>\n",
       "      <td>0.0</td>\n",
       "      <td>0.0</td>\n",
       "      <td>0.0</td>\n",
       "      <td>...</td>\n",
       "      <td>0.0</td>\n",
       "      <td>0.0</td>\n",
       "      <td>0.0</td>\n",
       "      <td>0.0</td>\n",
       "      <td>12.0</td>\n",
       "      <td>0.549557</td>\n",
       "      <td>0.117975</td>\n",
       "      <td>4.230675</td>\n",
       "      <td>1.095807</td>\n",
       "      <td>0.169376</td>\n",
       "    </tr>\n",
       "    <tr>\n",
       "      <th>3</th>\n",
       "      <td>0.0</td>\n",
       "      <td>0.0</td>\n",
       "      <td>0.0</td>\n",
       "      <td>0.0</td>\n",
       "      <td>1.0</td>\n",
       "      <td>0.0</td>\n",
       "      <td>0.0</td>\n",
       "      <td>0.0</td>\n",
       "      <td>0.0</td>\n",
       "      <td>0.0</td>\n",
       "      <td>...</td>\n",
       "      <td>0.0</td>\n",
       "      <td>0.0</td>\n",
       "      <td>0.0</td>\n",
       "      <td>0.0</td>\n",
       "      <td>12.0</td>\n",
       "      <td>0.609339</td>\n",
       "      <td>0.040906</td>\n",
       "      <td>3.862544</td>\n",
       "      <td>0.685090</td>\n",
       "      <td>0.208523</td>\n",
       "    </tr>\n",
       "    <tr>\n",
       "      <th>4</th>\n",
       "      <td>0.0</td>\n",
       "      <td>0.0</td>\n",
       "      <td>0.0</td>\n",
       "      <td>0.0</td>\n",
       "      <td>0.0</td>\n",
       "      <td>0.0</td>\n",
       "      <td>0.0</td>\n",
       "      <td>0.0</td>\n",
       "      <td>0.0</td>\n",
       "      <td>0.0</td>\n",
       "      <td>...</td>\n",
       "      <td>0.0</td>\n",
       "      <td>0.0</td>\n",
       "      <td>0.0</td>\n",
       "      <td>1.0</td>\n",
       "      <td>12.0</td>\n",
       "      <td>0.738518</td>\n",
       "      <td>0.210803</td>\n",
       "      <td>7.816646</td>\n",
       "      <td>3.809634</td>\n",
       "      <td>0.506811</td>\n",
       "    </tr>\n",
       "  </tbody>\n",
       "</table>\n",
       "<p>5 rows × 128 columns</p>\n",
       "</div>"
      ],
      "text/plain": [
       "   neighbourhood_cleansed_Ang Mo Kio  neighbourhood_cleansed_Bedok  \\\n",
       "0                                0.0                           0.0   \n",
       "1                                0.0                           0.0   \n",
       "2                                0.0                           0.0   \n",
       "3                                0.0                           0.0   \n",
       "4                                0.0                           0.0   \n",
       "\n",
       "   neighbourhood_cleansed_Bishan  neighbourhood_cleansed_Bukit Batok  \\\n",
       "0                            0.0                                 0.0   \n",
       "1                            0.0                                 0.0   \n",
       "2                            0.0                                 0.0   \n",
       "3                            0.0                                 0.0   \n",
       "4                            0.0                                 0.0   \n",
       "\n",
       "   neighbourhood_cleansed_Bukit Merah  neighbourhood_cleansed_Bukit Panjang  \\\n",
       "0                                 0.0                                   0.0   \n",
       "1                                 0.0                                   0.0   \n",
       "2                                 1.0                                   0.0   \n",
       "3                                 1.0                                   0.0   \n",
       "4                                 0.0                                   0.0   \n",
       "\n",
       "   neighbourhood_cleansed_Bukit Timah  \\\n",
       "0                                 0.0   \n",
       "1                                 0.0   \n",
       "2                                 0.0   \n",
       "3                                 0.0   \n",
       "4                                 0.0   \n",
       "\n",
       "   neighbourhood_cleansed_Central Water Catchment  \\\n",
       "0                                             0.0   \n",
       "1                                             0.0   \n",
       "2                                             0.0   \n",
       "3                                             0.0   \n",
       "4                                             0.0   \n",
       "\n",
       "   neighbourhood_cleansed_Choa Chu Kang  neighbourhood_cleansed_Clementi  ...  \\\n",
       "0                                   0.0                              0.0  ...   \n",
       "1                                   0.0                              0.0  ...   \n",
       "2                                   0.0                              0.0  ...   \n",
       "3                                   0.0                              0.0  ...   \n",
       "4                                   0.0                              0.0  ...   \n",
       "\n",
       "   Pool  Extra pillows and blankets  Coffee  Private entrance  \\\n",
       "0   0.0                         0.0     1.0               1.0   \n",
       "1   0.0                         0.0     1.0               0.0   \n",
       "2   0.0                         0.0     0.0               0.0   \n",
       "3   0.0                         0.0     0.0               0.0   \n",
       "4   0.0                         0.0     0.0               1.0   \n",
       "\n",
       "   host_since_years  distance_from_MRT  distance_from_Bus  distance_from_Mall  \\\n",
       "0              12.0           0.842953           0.180102            7.976199   \n",
       "1              12.0           0.880282           0.205346            7.952045   \n",
       "2              12.0           0.549557           0.117975            4.230675   \n",
       "3              12.0           0.609339           0.040906            3.862544   \n",
       "4              12.0           0.738518           0.210803            7.816646   \n",
       "\n",
       "   distance_from_School  distance_from_Food  \n",
       "0              3.515767            0.785094  \n",
       "1              3.786036            0.502588  \n",
       "2              1.095807            0.169376  \n",
       "3              0.685090            0.208523  \n",
       "4              3.809634            0.506811  \n",
       "\n",
       "[5 rows x 128 columns]"
      ]
     },
     "execution_count": 8,
     "metadata": {},
     "output_type": "execute_result"
    }
   ],
   "source": [
    "X.head()"
   ]
  },
  {
   "cell_type": "markdown",
   "metadata": {
    "collapsed": false
   },
   "source": [
    "### Model 1: Linear Regression"
   ]
  },
  {
   "cell_type": "code",
   "execution_count": 9,
   "metadata": {},
   "outputs": [
    {
     "name": "stdout",
     "output_type": "stream",
     "text": [
      "Train\n",
      " Score: 0.6131626649085447\n",
      "R2 Score 0.6131626649085447\n",
      "RMSE : 82.73377935660328\n",
      "Test\n",
      " Score: 0.6094672796941423\n",
      "R2 Score 0.6094672796941423\n",
      "RMSE : 80.9760550427124\n"
     ]
    },
    {
     "data": {
      "application/vnd.plotly.v1+json": {
       "config": {
        "plotlyServerURL": "https://plot.ly"
       },
       "data": [
        {
         "hovertemplate": "Actual y=%{x}<br>Predicted y=%{y}<extra></extra>",
         "legendgroup": "",
         "marker": {
          "color": "#636efa",
          "symbol": "circle"
         },
         "mode": "markers",
         "name": "",
         "orientation": "v",
         "showlegend": false,
         "type": "scatter",
         "x": [
          333,
          156,
          174,
          148,
          50,
          39,
          59,
          247,
          193,
          70,
          97,
          31,
          77,
          130,
          134,
          185,
          237,
          30,
          48,
          118,
          55,
          159,
          379,
          238,
          53,
          127,
          69,
          269,
          150,
          30,
          56,
          253,
          99,
          305,
          578,
          246,
          232,
          148,
          346,
          230,
          69,
          60,
          81,
          127,
          200,
          202,
          300,
          350,
          260,
          191,
          46,
          292,
          401,
          188,
          399,
          48,
          260,
          161,
          540,
          70,
          73,
          615,
          45,
          18,
          394,
          403,
          120,
          149,
          100,
          292,
          80,
          216,
          106,
          160,
          126,
          78,
          130,
          391,
          47,
          257,
          24,
          75,
          100,
          45,
          250,
          420,
          163,
          130,
          85,
          379,
          175,
          490,
          49,
          99,
          265,
          48,
          29,
          110,
          168,
          186,
          139,
          120,
          224,
          79,
          343,
          250,
          50,
          145,
          219,
          174,
          69,
          152,
          189,
          225,
          250,
          32,
          75,
          231,
          280,
          154,
          110,
          187,
          36,
          550,
          55,
          540,
          150,
          39,
          173,
          214,
          100,
          310,
          150,
          175,
          105,
          31,
          174,
          133,
          281,
          158,
          69,
          57,
          434,
          81,
          203,
          69,
          204,
          179,
          22,
          290,
          246,
          254,
          201,
          154,
          230,
          200,
          79,
          400,
          40,
          400,
          60,
          69,
          145,
          100,
          49,
          79,
          100,
          375,
          49,
          50,
          500,
          90,
          69,
          155,
          39,
          190,
          347,
          184,
          463,
          79,
          250,
          88,
          95,
          205,
          140,
          458,
          140,
          34,
          162,
          29,
          97,
          101,
          130,
          169,
          187,
          148,
          256,
          95,
          488,
          59,
          60,
          85,
          56,
          78,
          276,
          409,
          62,
          402,
          174,
          364,
          200,
          223,
          161,
          65,
          223,
          88,
          43,
          68,
          287,
          124,
          97,
          122,
          216,
          110,
          620,
          240,
          85,
          316,
          165,
          47,
          69,
          59,
          109,
          220,
          400,
          69,
          281,
          241,
          37,
          169,
          277,
          450,
          80,
          238,
          26,
          95,
          35,
          34,
          110,
          49,
          230,
          350,
          196,
          130,
          90,
          121,
          174,
          133,
          218,
          575,
          97,
          310,
          80,
          315,
          209,
          194,
          200,
          50,
          59,
          119,
          39,
          38,
          40,
          95,
          154,
          313,
          354,
          150,
          120,
          59,
          42,
          120,
          280,
          180,
          367,
          138,
          450,
          49,
          124,
          165,
          101,
          184,
          46,
          297,
          210,
          91,
          186,
          50,
          413,
          49,
          200,
          160,
          131,
          191,
          100,
          350,
          74,
          43,
          155,
          89,
          106,
          65,
          111,
          79,
          456,
          175,
          49,
          98,
          288,
          170,
          45,
          66,
          58,
          187,
          170,
          146,
          100,
          78,
          422,
          270,
          249,
          193,
          45,
          59,
          116,
          65,
          200,
          33,
          404,
          131,
          75,
          176,
          300,
          199,
          346,
          148,
          108,
          50,
          104,
          200,
          430,
          115,
          80,
          450,
          392,
          367,
          67,
          181,
          270,
          377,
          224,
          44,
          135,
          258,
          39,
          300,
          130,
          145,
          409,
          148,
          58,
          59,
          140,
          470,
          350,
          212,
          50,
          145,
          37,
          369,
          57,
          87,
          394,
          411,
          130,
          155,
          300,
          51,
          533,
          135,
          264,
          160,
          400,
          59,
          180,
          70,
          67,
          70,
          328,
          499,
          150,
          99,
          616,
          40,
          236,
          383,
          41,
          60,
          117,
          160,
          330,
          126,
          414,
          40,
          250,
          99,
          149,
          102,
          180,
          155,
          369,
          362,
          170,
          247,
          57,
          45,
          120,
          70,
          387,
          70,
          80,
          68,
          200,
          90,
          20,
          119,
          199,
          250,
          330,
          201,
          121,
          495,
          299,
          528,
          270,
          261,
          85,
          180,
          158,
          465,
          91,
          415,
          135,
          122,
          100,
          53,
          110,
          238,
          102,
          269,
          235,
          40,
          109,
          144,
          243,
          22,
          181,
          50,
          184,
          145,
          250,
          200,
          58,
          120,
          25,
          210,
          49,
          85,
          69,
          69,
          238,
          109,
          399,
          44,
          323,
          48,
          80,
          461,
          49,
          47,
          75,
          96,
          30,
          140,
          457,
          70,
          257,
          120,
          59,
          24,
          265,
          140,
          49,
          409,
          225,
          45,
          239,
          225,
          48,
          49,
          65,
          98,
          88,
          156,
          405,
          59,
          187,
          59,
          70,
          199,
          188,
          46,
          193,
          270,
          239,
          169,
          67,
          30,
          214,
          522,
          225,
          45,
          539,
          45,
          465,
          223,
          44,
          221,
          300,
          69,
          59,
          320,
          59,
          265,
          450,
          57,
          85,
          144,
          499,
          90,
          135,
          250,
          179,
          320,
          75
         ],
         "xaxis": "x",
         "y": [
          200.89962962782826,
          155.75785919767713,
          174.9480337217227,
          152.2853889771987,
          79.99189441223669,
          7.896917627085244,
          41.83247166867959,
          219.30424814158835,
          289.78776309428036,
          116.32857137794406,
          86.3234328965732,
          176.7125458657506,
          112.47791753799126,
          69.40860914032817,
          128.05483360945283,
          239.33785221867504,
          233.4166976682058,
          89.35822350331884,
          121.0816844383047,
          183.03290055767542,
          113.84242063341445,
          179.64445832741578,
          304.8814885980514,
          246.22639891131826,
          53.85656515122945,
          85.13087711616389,
          50.538455115713894,
          223.60711590552523,
          229.418181477772,
          112.04203749007189,
          121.73384593881077,
          265.6157518406996,
          153.12678211526446,
          140.63902310341496,
          353.6404656808477,
          212.9893250211309,
          236.49395355883706,
          203.2725837222901,
          245.56277853067166,
          298.33320881428335,
          41.91692104944916,
          -7.9066412151449015,
          86.73678805278496,
          169.1883207984714,
          209.22897240024383,
          280.0343603245807,
          200.91753953389386,
          321.28663628119386,
          214.87375859723082,
          194.92094729185345,
          96.86244092507772,
          311.6355101022265,
          404.81175329925003,
          122.77111382641581,
          318.26229473231206,
          21.780175714474154,
          257.8726330037664,
          302.5083645899386,
          221.7869083620178,
          126.02202945581142,
          171.9132733017645,
          322.89013113710513,
          159.78811518229296,
          55.47839724744443,
          197.33970585443882,
          376.42612749112834,
          190.8984760895189,
          174.97545343291142,
          91.48079919191726,
          276.8228951643548,
          -116.52409656763051,
          234.83298405178687,
          97.97838446741048,
          107.16357679398973,
          108.99314456503225,
          115.31317443947837,
          156.1723875482257,
          332.16829214314413,
          119.74039103662754,
          179.85228437702236,
          125.067872581987,
          195.155749412599,
          60.73759581776081,
          84.24315559628008,
          198.92770574622122,
          349.3543339571156,
          172.06968102950782,
          325.65287948707646,
          69.78738171173131,
          330.23305498644226,
          233.6518873143022,
          315.4066554540661,
          78.1199295422345,
          46.5153597031681,
          324.8329226013155,
          112.51800529118088,
          71.59088779770477,
          161.38681738436995,
          148.5588853234946,
          193.29177991546413,
          169.08143875724522,
          163.27524888076545,
          257.0420689733928,
          103.97504523824827,
          266.7365612325153,
          138.4694848314718,
          113.3988713380121,
          218.30177296674253,
          170.85206512169137,
          164.60051360637675,
          35.91215314400538,
          154.56078903277205,
          208.75549056886678,
          211.93430594560365,
          333.4810164048801,
          122.285359708968,
          1.8290515044474631,
          259.5976837737643,
          350.1691272716353,
          95.7019843608381,
          189.26031243207393,
          118.79841882275934,
          61.2306354002458,
          344.4725672484826,
          157.577717873643,
          412.9189228497551,
          72.76692920984804,
          11.81410289919802,
          255.7522255660043,
          206.81599797588774,
          142.60762483779536,
          388.74914634627913,
          234.8475406726996,
          223.9677810677236,
          128.03295681687507,
          157.10057453256164,
          125.02637963924744,
          123.11615785703646,
          315.06462685694896,
          138.33397053379178,
          50.601447662504796,
          66.46343899658939,
          483.5996510487039,
          16.912102976458044,
          277.22616782148276,
          38.9502106822273,
          173.73142156039648,
          215.95911219653215,
          127.2225627959368,
          93.02709515488972,
          300.9709341549512,
          295.0499135504921,
          134.81506844982005,
          111.60777210219436,
          260.8094328635967,
          230.04288024302372,
          124.98065562624332,
          225.35148957545653,
          137.68952544736158,
          227.78466805082286,
          153.785906414775,
          73.68596433107562,
          151.50755572392893,
          59.702880806645595,
          14.976065753046626,
          97.18076702068811,
          91.0616000822374,
          417.05560374121836,
          14.781029168624528,
          58.68631289836115,
          376.0008582200658,
          90.9323975693152,
          69.70212585992299,
          91.62968195971787,
          157.53677616519838,
          310.3218758523388,
          304.27428360489574,
          208.5166055498832,
          310.8208689138258,
          16.70708882356402,
          293.656238232814,
          149.61220372995132,
          132.0729949949732,
          247.7927893958992,
          158.29484608548182,
          172.51509925338485,
          84.64064627615399,
          119.36185918514305,
          101.63267548839262,
          55.956475520933736,
          245.74393325422693,
          184.42096853817515,
          164.49347590855024,
          207.8021953503087,
          181.92645998357634,
          116.76267598145414,
          204.76670114126938,
          108.55509998473322,
          369.8784292784526,
          76.07521236279374,
          75.74939439323174,
          18.097363095187475,
          122.43708644159946,
          75.83406213053324,
          320.58202247023047,
          578.3134327040693,
          68.44063776392447,
          362.73966964959374,
          241.76571239084154,
          282.8770304867613,
          235.09906961181093,
          192.91740206295452,
          161.30896222261805,
          92.21968091715027,
          240.9939705332057,
          148.96386308274217,
          15.039741340296871,
          222.68709532062275,
          386.79426623582054,
          100.70473011994682,
          200.5655428589145,
          132.40224434764085,
          186.54777802530003,
          188.17671250207735,
          357.47106712830436,
          294.4112664894769,
          131.57941351671204,
          248.39099364341547,
          109.4187687525275,
          75.84783209356247,
          45.27032104423596,
          55.19135426598505,
          126.36291185478962,
          245.42373128950487,
          301.20475786037485,
          153.17054565940106,
          250.46271691326706,
          244.95778832592617,
          55.99897995540839,
          93.79101159956407,
          302.1118018330005,
          317.09196883812507,
          94.79741966324974,
          215.0781033668822,
          124.53725221111989,
          181.21745595506636,
          51.795988650019645,
          112.40595829550453,
          177.88182899934492,
          20.079941901909905,
          220.6088911447717,
          188.22712225840917,
          272.8286303797934,
          125.39847030123255,
          165.8843672687387,
          168.6396307878134,
          271.71681350906204,
          211.09156966296337,
          249.77667597397232,
          393.1318215267542,
          99.13516031835506,
          88.01011634585844,
          66.54945516600583,
          383.18919885650706,
          259.36181531656695,
          107.72184226109977,
          267.03740937417797,
          155.48323656513048,
          80.6035380378352,
          4.712620937647102,
          59.4668910427843,
          63.6232123642179,
          34.978585075570265,
          101.63228534521164,
          146.4657906679036,
          320.81197598530593,
          422.4166513345763,
          30.173516364846144,
          146.8440217599135,
          93.33162295898569,
          67.08181233523698,
          154.1510955132914,
          367.35506294971964,
          249.7016680343179,
          295.7598903433077,
          214.05644548146066,
          309.8847993930052,
          48.75740209564343,
          108.93795877480737,
          255.07032207728378,
          219.36350822467557,
          209.0612365567068,
          144.20952979781168,
          251.49592759273355,
          266.43464954061096,
          238.4233805127481,
          214.67786586633537,
          32.2177047582985,
          346.22984269926104,
          28.554388267545164,
          239.62622377316046,
          222.33068617151713,
          133.48610386888075,
          160.2725145074631,
          138.28467020307926,
          343.74525266861235,
          103.98918477789117,
          49.77976074977868,
          193.91548656673643,
          207.81776476323063,
          119.05197212187379,
          89.15727035856845,
          90.81229643892559,
          136.05826629521903,
          454.0261598404424,
          294.8903050932251,
          74.61154726361524,
          171.12699969624254,
          239.2319801893991,
          219.75631735740603,
          91.26300985542991,
          127.83093062018293,
          23.109728271993767,
          181.0926681919119,
          169.11893787807608,
          218.08312829520332,
          161.76263419497442,
          154.94892151660466,
          247.46968563078667,
          36.752852185688525,
          218.99723323708508,
          211.47418640752457,
          4.932350166004738,
          58.1594941509035,
          251.58503084715971,
          223.7513745776743,
          284.8045325715091,
          73.70057988150171,
          310.63953554086805,
          175.71569935121408,
          103.38310985886498,
          206.99609631766685,
          337.42534466686504,
          211.14354658997817,
          365.78593668543203,
          193.3984708677462,
          184.93631103398434,
          86.7750243127211,
          71.14446806520948,
          231.56666643376843,
          362.9024456599185,
          47.45352113812349,
          123.5373138641173,
          386.43975508861826,
          330.593344915713,
          274.1025269081334,
          98.36663113397123,
          222.88977671418246,
          304.24721547696385,
          244.50088315829151,
          294.5291863443102,
          56.96888339377462,
          229.27990649883117,
          256.26288459211366,
          137.77382837354008,
          196.42625286235258,
          112.15560349500727,
          186.38952533438422,
          394.61371730404164,
          256.84608374872795,
          124.76769101893211,
          107.47701369731203,
          190.5362270778865,
          339.09032499970687,
          403.3496028367774,
          164.5772749725652,
          124.26674894765299,
          50.47810256593387,
          55.12387078502398,
          299.288842722092,
          76.05672892856687,
          99.62245008240383,
          258.64447283856254,
          381.4384225681617,
          207.8276724693695,
          178.1994149961828,
          222.09154727960743,
          40.42580953653394,
          261.5167465986464,
          146.51709820537005,
          192.56541832880703,
          193.94522573874065,
          271.0711263069076,
          26.274078523811966,
          171.16843543832027,
          249.7737340248329,
          252.80024598916867,
          131.28425270777748,
          311.36526558262744,
          349.7086630018163,
          229.54409951754758,
          63.74752992496573,
          388.78011123578835,
          -22.940209502755295,
          227.75448514554472,
          362.1749816837169,
          131.80089409404394,
          38.91942365720968,
          206.09529138058218,
          111.44717302327301,
          342.54863652053206,
          122.60369776033168,
          304.9080229613953,
          148.03905890214662,
          294.0956973732945,
          149.2990081160288,
          216.9477309791049,
          124.32467953023493,
          197.1300359872281,
          264.0904007361452,
          265.6927074340963,
          312.5418649838845,
          243.84814268033176,
          260.7763215547636,
          51.757464807382476,
          42.825921601958285,
          182.69437693129578,
          129.56223176146895,
          451.7498385438561,
          77.20529563526733,
          97.47666227979809,
          114.08561949813141,
          375.0634442882739,
          110.32427149227946,
          113.90094380794856,
          209.0190869756717,
          260.23712449827013,
          273.61161555278295,
          180.77347443188353,
          174.4782694398591,
          222.22091868542498,
          323.6079256092144,
          234.60996858976495,
          329.7697089794065,
          127.23259454267458,
          281.3885607930154,
          139.44072293016848,
          222.67545962108892,
          202.12870749137642,
          218.75902330482728,
          120.24435745892394,
          209.44299401554784,
          175.0438266747878,
          288.6666665487238,
          -8.231636554607078,
          146.66954494265255,
          218.0484359416701,
          218.97822394137097,
          183.70012714647135,
          210.48989237034073,
          170.18463984943241,
          141.26654161833733,
          149.54553336436052,
          175.26849137592717,
          262.08652404016874,
          135.3180319500198,
          165.227076064716,
          97.1074394117881,
          171.75626183752138,
          196.14709473931097,
          332.89187567819374,
          207.32120630686575,
          68.45435488926753,
          208.9262437989517,
          82.99427349919023,
          250.63613023244932,
          22.894971553188952,
          119.49426707318216,
          141.39294685782644,
          87.22871750711407,
          260.62474755852395,
          151.67103603387142,
          357.46825773788714,
          19.90010973289243,
          239.7223714608756,
          60.101514617796965,
          216.28940498996553,
          357.7482620148567,
          29.92510049501613,
          81.49816941857695,
          60.45322279644867,
          93.07463738993042,
          24.788478190377816,
          52.72372689507071,
          253.57028395213018,
          140.7231389839912,
          229.48583134541593,
          195.10176713930215,
          27.890153028638068,
          135.31968352202824,
          136.49727676340672,
          110.88854101653162,
          75.78043462808434,
          298.02868939756684,
          74.9329251864008,
          39.84908406330375,
          290.0362592167078,
          287.01124169277017,
          25.64347972274257,
          59.283473298834764,
          65.7910335530006,
          123.32241070828248,
          120.6978506209391,
          186.0703578469325,
          311.64787398574754,
          39.13947575376523,
          181.6293967570502,
          76.17834786305681,
          58.730434329243316,
          240.26149175795672,
          253.813076553003,
          76.96438699207663,
          213.3196134284523,
          248.09378957643435,
          229.54631127494707,
          143.83116336674883,
          116.22187316393357,
          -7.671742850905147,
          184.02992730678764,
          411.33646675107394,
          291.9629738563108,
          60.23906226123433,
          330.2781135158135,
          80.16001256379886,
          359.87295274091593,
          229.2046175711588,
          139.92492377459922,
          272.21617557458103,
          333.8550019835902,
          38.11677386227111,
          24.059232360706105,
          304.19242635277783,
          35.51718929518154,
          230.37818985407785,
          63.957257996661504,
          117.11255241456269,
          75.8404982392101,
          152.41293067069898,
          208.26185443883702,
          106.41441235015566,
          163.06732473406566,
          232.62097409340726,
          211.40898826667308,
          210.56467955493576,
          147.7241966649459
         ],
         "yaxis": "y"
        }
       ],
       "layout": {
        "legend": {
         "tracegroupgap": 0
        },
        "margin": {
         "t": 60
        },
        "template": {
         "data": {
          "bar": [
           {
            "error_x": {
             "color": "#2a3f5f"
            },
            "error_y": {
             "color": "#2a3f5f"
            },
            "marker": {
             "line": {
              "color": "#E5ECF6",
              "width": 0.5
             },
             "pattern": {
              "fillmode": "overlay",
              "size": 10,
              "solidity": 0.2
             }
            },
            "type": "bar"
           }
          ],
          "barpolar": [
           {
            "marker": {
             "line": {
              "color": "#E5ECF6",
              "width": 0.5
             },
             "pattern": {
              "fillmode": "overlay",
              "size": 10,
              "solidity": 0.2
             }
            },
            "type": "barpolar"
           }
          ],
          "carpet": [
           {
            "aaxis": {
             "endlinecolor": "#2a3f5f",
             "gridcolor": "white",
             "linecolor": "white",
             "minorgridcolor": "white",
             "startlinecolor": "#2a3f5f"
            },
            "baxis": {
             "endlinecolor": "#2a3f5f",
             "gridcolor": "white",
             "linecolor": "white",
             "minorgridcolor": "white",
             "startlinecolor": "#2a3f5f"
            },
            "type": "carpet"
           }
          ],
          "choropleth": [
           {
            "colorbar": {
             "outlinewidth": 0,
             "ticks": ""
            },
            "type": "choropleth"
           }
          ],
          "contour": [
           {
            "colorbar": {
             "outlinewidth": 0,
             "ticks": ""
            },
            "colorscale": [
             [
              0,
              "#0d0887"
             ],
             [
              0.1111111111111111,
              "#46039f"
             ],
             [
              0.2222222222222222,
              "#7201a8"
             ],
             [
              0.3333333333333333,
              "#9c179e"
             ],
             [
              0.4444444444444444,
              "#bd3786"
             ],
             [
              0.5555555555555556,
              "#d8576b"
             ],
             [
              0.6666666666666666,
              "#ed7953"
             ],
             [
              0.7777777777777778,
              "#fb9f3a"
             ],
             [
              0.8888888888888888,
              "#fdca26"
             ],
             [
              1,
              "#f0f921"
             ]
            ],
            "type": "contour"
           }
          ],
          "contourcarpet": [
           {
            "colorbar": {
             "outlinewidth": 0,
             "ticks": ""
            },
            "type": "contourcarpet"
           }
          ],
          "heatmap": [
           {
            "colorbar": {
             "outlinewidth": 0,
             "ticks": ""
            },
            "colorscale": [
             [
              0,
              "#0d0887"
             ],
             [
              0.1111111111111111,
              "#46039f"
             ],
             [
              0.2222222222222222,
              "#7201a8"
             ],
             [
              0.3333333333333333,
              "#9c179e"
             ],
             [
              0.4444444444444444,
              "#bd3786"
             ],
             [
              0.5555555555555556,
              "#d8576b"
             ],
             [
              0.6666666666666666,
              "#ed7953"
             ],
             [
              0.7777777777777778,
              "#fb9f3a"
             ],
             [
              0.8888888888888888,
              "#fdca26"
             ],
             [
              1,
              "#f0f921"
             ]
            ],
            "type": "heatmap"
           }
          ],
          "heatmapgl": [
           {
            "colorbar": {
             "outlinewidth": 0,
             "ticks": ""
            },
            "colorscale": [
             [
              0,
              "#0d0887"
             ],
             [
              0.1111111111111111,
              "#46039f"
             ],
             [
              0.2222222222222222,
              "#7201a8"
             ],
             [
              0.3333333333333333,
              "#9c179e"
             ],
             [
              0.4444444444444444,
              "#bd3786"
             ],
             [
              0.5555555555555556,
              "#d8576b"
             ],
             [
              0.6666666666666666,
              "#ed7953"
             ],
             [
              0.7777777777777778,
              "#fb9f3a"
             ],
             [
              0.8888888888888888,
              "#fdca26"
             ],
             [
              1,
              "#f0f921"
             ]
            ],
            "type": "heatmapgl"
           }
          ],
          "histogram": [
           {
            "marker": {
             "pattern": {
              "fillmode": "overlay",
              "size": 10,
              "solidity": 0.2
             }
            },
            "type": "histogram"
           }
          ],
          "histogram2d": [
           {
            "colorbar": {
             "outlinewidth": 0,
             "ticks": ""
            },
            "colorscale": [
             [
              0,
              "#0d0887"
             ],
             [
              0.1111111111111111,
              "#46039f"
             ],
             [
              0.2222222222222222,
              "#7201a8"
             ],
             [
              0.3333333333333333,
              "#9c179e"
             ],
             [
              0.4444444444444444,
              "#bd3786"
             ],
             [
              0.5555555555555556,
              "#d8576b"
             ],
             [
              0.6666666666666666,
              "#ed7953"
             ],
             [
              0.7777777777777778,
              "#fb9f3a"
             ],
             [
              0.8888888888888888,
              "#fdca26"
             ],
             [
              1,
              "#f0f921"
             ]
            ],
            "type": "histogram2d"
           }
          ],
          "histogram2dcontour": [
           {
            "colorbar": {
             "outlinewidth": 0,
             "ticks": ""
            },
            "colorscale": [
             [
              0,
              "#0d0887"
             ],
             [
              0.1111111111111111,
              "#46039f"
             ],
             [
              0.2222222222222222,
              "#7201a8"
             ],
             [
              0.3333333333333333,
              "#9c179e"
             ],
             [
              0.4444444444444444,
              "#bd3786"
             ],
             [
              0.5555555555555556,
              "#d8576b"
             ],
             [
              0.6666666666666666,
              "#ed7953"
             ],
             [
              0.7777777777777778,
              "#fb9f3a"
             ],
             [
              0.8888888888888888,
              "#fdca26"
             ],
             [
              1,
              "#f0f921"
             ]
            ],
            "type": "histogram2dcontour"
           }
          ],
          "mesh3d": [
           {
            "colorbar": {
             "outlinewidth": 0,
             "ticks": ""
            },
            "type": "mesh3d"
           }
          ],
          "parcoords": [
           {
            "line": {
             "colorbar": {
              "outlinewidth": 0,
              "ticks": ""
             }
            },
            "type": "parcoords"
           }
          ],
          "pie": [
           {
            "automargin": true,
            "type": "pie"
           }
          ],
          "scatter": [
           {
            "fillpattern": {
             "fillmode": "overlay",
             "size": 10,
             "solidity": 0.2
            },
            "type": "scatter"
           }
          ],
          "scatter3d": [
           {
            "line": {
             "colorbar": {
              "outlinewidth": 0,
              "ticks": ""
             }
            },
            "marker": {
             "colorbar": {
              "outlinewidth": 0,
              "ticks": ""
             }
            },
            "type": "scatter3d"
           }
          ],
          "scattercarpet": [
           {
            "marker": {
             "colorbar": {
              "outlinewidth": 0,
              "ticks": ""
             }
            },
            "type": "scattercarpet"
           }
          ],
          "scattergeo": [
           {
            "marker": {
             "colorbar": {
              "outlinewidth": 0,
              "ticks": ""
             }
            },
            "type": "scattergeo"
           }
          ],
          "scattergl": [
           {
            "marker": {
             "colorbar": {
              "outlinewidth": 0,
              "ticks": ""
             }
            },
            "type": "scattergl"
           }
          ],
          "scattermapbox": [
           {
            "marker": {
             "colorbar": {
              "outlinewidth": 0,
              "ticks": ""
             }
            },
            "type": "scattermapbox"
           }
          ],
          "scatterpolar": [
           {
            "marker": {
             "colorbar": {
              "outlinewidth": 0,
              "ticks": ""
             }
            },
            "type": "scatterpolar"
           }
          ],
          "scatterpolargl": [
           {
            "marker": {
             "colorbar": {
              "outlinewidth": 0,
              "ticks": ""
             }
            },
            "type": "scatterpolargl"
           }
          ],
          "scatterternary": [
           {
            "marker": {
             "colorbar": {
              "outlinewidth": 0,
              "ticks": ""
             }
            },
            "type": "scatterternary"
           }
          ],
          "surface": [
           {
            "colorbar": {
             "outlinewidth": 0,
             "ticks": ""
            },
            "colorscale": [
             [
              0,
              "#0d0887"
             ],
             [
              0.1111111111111111,
              "#46039f"
             ],
             [
              0.2222222222222222,
              "#7201a8"
             ],
             [
              0.3333333333333333,
              "#9c179e"
             ],
             [
              0.4444444444444444,
              "#bd3786"
             ],
             [
              0.5555555555555556,
              "#d8576b"
             ],
             [
              0.6666666666666666,
              "#ed7953"
             ],
             [
              0.7777777777777778,
              "#fb9f3a"
             ],
             [
              0.8888888888888888,
              "#fdca26"
             ],
             [
              1,
              "#f0f921"
             ]
            ],
            "type": "surface"
           }
          ],
          "table": [
           {
            "cells": {
             "fill": {
              "color": "#EBF0F8"
             },
             "line": {
              "color": "white"
             }
            },
            "header": {
             "fill": {
              "color": "#C8D4E3"
             },
             "line": {
              "color": "white"
             }
            },
            "type": "table"
           }
          ]
         },
         "layout": {
          "annotationdefaults": {
           "arrowcolor": "#2a3f5f",
           "arrowhead": 0,
           "arrowwidth": 1
          },
          "autotypenumbers": "strict",
          "coloraxis": {
           "colorbar": {
            "outlinewidth": 0,
            "ticks": ""
           }
          },
          "colorscale": {
           "diverging": [
            [
             0,
             "#8e0152"
            ],
            [
             0.1,
             "#c51b7d"
            ],
            [
             0.2,
             "#de77ae"
            ],
            [
             0.3,
             "#f1b6da"
            ],
            [
             0.4,
             "#fde0ef"
            ],
            [
             0.5,
             "#f7f7f7"
            ],
            [
             0.6,
             "#e6f5d0"
            ],
            [
             0.7,
             "#b8e186"
            ],
            [
             0.8,
             "#7fbc41"
            ],
            [
             0.9,
             "#4d9221"
            ],
            [
             1,
             "#276419"
            ]
           ],
           "sequential": [
            [
             0,
             "#0d0887"
            ],
            [
             0.1111111111111111,
             "#46039f"
            ],
            [
             0.2222222222222222,
             "#7201a8"
            ],
            [
             0.3333333333333333,
             "#9c179e"
            ],
            [
             0.4444444444444444,
             "#bd3786"
            ],
            [
             0.5555555555555556,
             "#d8576b"
            ],
            [
             0.6666666666666666,
             "#ed7953"
            ],
            [
             0.7777777777777778,
             "#fb9f3a"
            ],
            [
             0.8888888888888888,
             "#fdca26"
            ],
            [
             1,
             "#f0f921"
            ]
           ],
           "sequentialminus": [
            [
             0,
             "#0d0887"
            ],
            [
             0.1111111111111111,
             "#46039f"
            ],
            [
             0.2222222222222222,
             "#7201a8"
            ],
            [
             0.3333333333333333,
             "#9c179e"
            ],
            [
             0.4444444444444444,
             "#bd3786"
            ],
            [
             0.5555555555555556,
             "#d8576b"
            ],
            [
             0.6666666666666666,
             "#ed7953"
            ],
            [
             0.7777777777777778,
             "#fb9f3a"
            ],
            [
             0.8888888888888888,
             "#fdca26"
            ],
            [
             1,
             "#f0f921"
            ]
           ]
          },
          "colorway": [
           "#636efa",
           "#EF553B",
           "#00cc96",
           "#ab63fa",
           "#FFA15A",
           "#19d3f3",
           "#FF6692",
           "#B6E880",
           "#FF97FF",
           "#FECB52"
          ],
          "font": {
           "color": "#2a3f5f"
          },
          "geo": {
           "bgcolor": "white",
           "lakecolor": "white",
           "landcolor": "#E5ECF6",
           "showlakes": true,
           "showland": true,
           "subunitcolor": "white"
          },
          "hoverlabel": {
           "align": "left"
          },
          "hovermode": "closest",
          "mapbox": {
           "style": "light"
          },
          "paper_bgcolor": "white",
          "plot_bgcolor": "#E5ECF6",
          "polar": {
           "angularaxis": {
            "gridcolor": "white",
            "linecolor": "white",
            "ticks": ""
           },
           "bgcolor": "#E5ECF6",
           "radialaxis": {
            "gridcolor": "white",
            "linecolor": "white",
            "ticks": ""
           }
          },
          "scene": {
           "xaxis": {
            "backgroundcolor": "#E5ECF6",
            "gridcolor": "white",
            "gridwidth": 2,
            "linecolor": "white",
            "showbackground": true,
            "ticks": "",
            "zerolinecolor": "white"
           },
           "yaxis": {
            "backgroundcolor": "#E5ECF6",
            "gridcolor": "white",
            "gridwidth": 2,
            "linecolor": "white",
            "showbackground": true,
            "ticks": "",
            "zerolinecolor": "white"
           },
           "zaxis": {
            "backgroundcolor": "#E5ECF6",
            "gridcolor": "white",
            "gridwidth": 2,
            "linecolor": "white",
            "showbackground": true,
            "ticks": "",
            "zerolinecolor": "white"
           }
          },
          "shapedefaults": {
           "line": {
            "color": "#2a3f5f"
           }
          },
          "ternary": {
           "aaxis": {
            "gridcolor": "white",
            "linecolor": "white",
            "ticks": ""
           },
           "baxis": {
            "gridcolor": "white",
            "linecolor": "white",
            "ticks": ""
           },
           "bgcolor": "#E5ECF6",
           "caxis": {
            "gridcolor": "white",
            "linecolor": "white",
            "ticks": ""
           }
          },
          "title": {
           "x": 0.05
          },
          "xaxis": {
           "automargin": true,
           "gridcolor": "white",
           "linecolor": "white",
           "ticks": "",
           "title": {
            "standoff": 15
           },
           "zerolinecolor": "white",
           "zerolinewidth": 2
          },
          "yaxis": {
           "automargin": true,
           "gridcolor": "white",
           "linecolor": "white",
           "ticks": "",
           "title": {
            "standoff": 15
           },
           "zerolinecolor": "white",
           "zerolinewidth": 2
          }
         }
        },
        "xaxis": {
         "anchor": "y",
         "domain": [
          0,
          1
         ],
         "title": {
          "text": "Actual y"
         }
        },
        "yaxis": {
         "anchor": "x",
         "domain": [
          0,
          1
         ],
         "title": {
          "text": "Predicted y"
         }
        }
       }
      }
     },
     "metadata": {},
     "output_type": "display_data"
    }
   ],
   "source": [
    "from sklearn.linear_model import LinearRegression\n",
    "\n",
    "model = LinearRegression()\n",
    "\n",
    "model.fit(X_train, y_train)\n",
    "\n",
    "y_train_pred = model.predict(X_train)\n",
    "y_pred = model.predict(X_test)\n",
    "\n",
    "print(f\"Train\\n Score: {model.score(X_train, y_train)}\")\n",
    "calculate_score(y_train, y_train_pred)\n",
    "\n",
    "print(f\"Test\\n Score: {model.score(X_test, y_test)}\")\n",
    "calculate_score(y_test, y_pred)\n",
    "\n",
    "plot(y_test, y_pred)"
   ]
  },
  {
   "cell_type": "code",
   "execution_count": 10,
   "metadata": {},
   "outputs": [
    {
     "name": "stderr",
     "output_type": "stream",
     "text": [
      "Permutation explainer: 2773it [00:50, 43.52it/s]                          \n"
     ]
    },
    {
     "data": {
      "image/png": "[encoded data removed]",
      "text/plain": [
       "<Figure size 800x850 with 3 Axes>"
      ]
     },
     "metadata": {},
     "output_type": "display_data"
    }
   ],
   "source": [
    "explainer = shap.Explainer(model.predict, X_test)\n",
    "shap_values = explainer(X)\n",
    "shap.plots.waterfall(shap_values[20], max_display=14)"
   ]
  },
  {
   "cell_type": "code",
   "execution_count": 11,
   "metadata": {},
   "outputs": [],
   "source": [
    "# for i in range(X.shape[1]):\n",
    "#     print(X.columns[i], \"=\", model.coef_[i].round(5))"
   ]
  },
  {
   "cell_type": "markdown",
   "metadata": {
    "collapsed": false
   },
   "source": [
    "### Model 2: Gradient Boost Regressor"
   ]
  },
  {
   "cell_type": "code",
   "execution_count": 12,
   "metadata": {
    "collapsed": false
   },
   "outputs": [
    {
     "name": "stdout",
     "output_type": "stream",
     "text": [
      "Train\n",
      "Score: 0.9473052504241182\n",
      "R2 Score 0.9473052504241182\n",
      "RMSE : 30.535310804375417\n",
      "Test\n",
      "Score: 0.7640520525218855\n",
      "R2 Score 0.7640520525218855\n",
      "RMSE : 62.941342768477845\n"
     ]
    },
    {
     "data": {
      "application/vnd.plotly.v1+json": {
       "config": {
        "plotlyServerURL": "https://plot.ly"
       },
       "data": [
        {
         "hovertemplate": "Actual y=%{x}<br>Predicted y=%{y}<extra></extra>",
         "legendgroup": "",
         "marker": {
          "color": "#636efa",
          "symbol": "circle"
         },
         "mode": "markers",
         "name": "",
         "orientation": "v",
         "showlegend": false,
         "type": "scatter",
         "x": [
          333,
          156,
          174,
          148,
          50,
          39,
          59,
          247,
          193,
          70,
          97,
          31,
          77,
          130,
          134,
          185,
          237,
          30,
          48,
          118,
          55,
          159,
          379,
          238,
          53,
          127,
          69,
          269,
          150,
          30,
          56,
          253,
          99,
          305,
          578,
          246,
          232,
          148,
          346,
          230,
          69,
          60,
          81,
          127,
          200,
          202,
          300,
          350,
          260,
          191,
          46,
          292,
          401,
          188,
          399,
          48,
          260,
          161,
          540,
          70,
          73,
          615,
          45,
          18,
          394,
          403,
          120,
          149,
          100,
          292,
          80,
          216,
          106,
          160,
          126,
          78,
          130,
          391,
          47,
          257,
          24,
          75,
          100,
          45,
          250,
          420,
          163,
          130,
          85,
          379,
          175,
          490,
          49,
          99,
          265,
          48,
          29,
          110,
          168,
          186,
          139,
          120,
          224,
          79,
          343,
          250,
          50,
          145,
          219,
          174,
          69,
          152,
          189,
          225,
          250,
          32,
          75,
          231,
          280,
          154,
          110,
          187,
          36,
          550,
          55,
          540,
          150,
          39,
          173,
          214,
          100,
          310,
          150,
          175,
          105,
          31,
          174,
          133,
          281,
          158,
          69,
          57,
          434,
          81,
          203,
          69,
          204,
          179,
          22,
          290,
          246,
          254,
          201,
          154,
          230,
          200,
          79,
          400,
          40,
          400,
          60,
          69,
          145,
          100,
          49,
          79,
          100,
          375,
          49,
          50,
          500,
          90,
          69,
          155,
          39,
          190,
          347,
          184,
          463,
          79,
          250,
          88,
          95,
          205,
          140,
          458,
          140,
          34,
          162,
          29,
          97,
          101,
          130,
          169,
          187,
          148,
          256,
          95,
          488,
          59,
          60,
          85,
          56,
          78,
          276,
          409,
          62,
          402,
          174,
          364,
          200,
          223,
          161,
          65,
          223,
          88,
          43,
          68,
          287,
          124,
          97,
          122,
          216,
          110,
          620,
          240,
          85,
          316,
          165,
          47,
          69,
          59,
          109,
          220,
          400,
          69,
          281,
          241,
          37,
          169,
          277,
          450,
          80,
          238,
          26,
          95,
          35,
          34,
          110,
          49,
          230,
          350,
          196,
          130,
          90,
          121,
          174,
          133,
          218,
          575,
          97,
          310,
          80,
          315,
          209,
          194,
          200,
          50,
          59,
          119,
          39,
          38,
          40,
          95,
          154,
          313,
          354,
          150,
          120,
          59,
          42,
          120,
          280,
          180,
          367,
          138,
          450,
          49,
          124,
          165,
          101,
          184,
          46,
          297,
          210,
          91,
          186,
          50,
          413,
          49,
          200,
          160,
          131,
          191,
          100,
          350,
          74,
          43,
          155,
          89,
          106,
          65,
          111,
          79,
          456,
          175,
          49,
          98,
          288,
          170,
          45,
          66,
          58,
          187,
          170,
          146,
          100,
          78,
          422,
          270,
          249,
          193,
          45,
          59,
          116,
          65,
          200,
          33,
          404,
          131,
          75,
          176,
          300,
          199,
          346,
          148,
          108,
          50,
          104,
          200,
          430,
          115,
          80,
          450,
          392,
          367,
          67,
          181,
          270,
          377,
          224,
          44,
          135,
          258,
          39,
          300,
          130,
          145,
          409,
          148,
          58,
          59,
          140,
          470,
          350,
          212,
          50,
          145,
          37,
          369,
          57,
          87,
          394,
          411,
          130,
          155,
          300,
          51,
          533,
          135,
          264,
          160,
          400,
          59,
          180,
          70,
          67,
          70,
          328,
          499,
          150,
          99,
          616,
          40,
          236,
          383,
          41,
          60,
          117,
          160,
          330,
          126,
          414,
          40,
          250,
          99,
          149,
          102,
          180,
          155,
          369,
          362,
          170,
          247,
          57,
          45,
          120,
          70,
          387,
          70,
          80,
          68,
          200,
          90,
          20,
          119,
          199,
          250,
          330,
          201,
          121,
          495,
          299,
          528,
          270,
          261,
          85,
          180,
          158,
          465,
          91,
          415,
          135,
          122,
          100,
          53,
          110,
          238,
          102,
          269,
          235,
          40,
          109,
          144,
          243,
          22,
          181,
          50,
          184,
          145,
          250,
          200,
          58,
          120,
          25,
          210,
          49,
          85,
          69,
          69,
          238,
          109,
          399,
          44,
          323,
          48,
          80,
          461,
          49,
          47,
          75,
          96,
          30,
          140,
          457,
          70,
          257,
          120,
          59,
          24,
          265,
          140,
          49,
          409,
          225,
          45,
          239,
          225,
          48,
          49,
          65,
          98,
          88,
          156,
          405,
          59,
          187,
          59,
          70,
          199,
          188,
          46,
          193,
          270,
          239,
          169,
          67,
          30,
          214,
          522,
          225,
          45,
          539,
          45,
          465,
          223,
          44,
          221,
          300,
          69,
          59,
          320,
          59,
          265,
          450,
          57,
          85,
          144,
          499,
          90,
          135,
          250,
          179,
          320,
          75
         ],
         "xaxis": "x",
         "y": [
          277.4002174613053,
          120.53068173652865,
          156.3115312663578,
          205.19065238107652,
          97.62453716139564,
          37.46341485151754,
          58.11106986807314,
          261.3898436951595,
          270.1609898354093,
          78.34624322689322,
          70.31153616124622,
          37.845414983150775,
          101.3418059791565,
          64.43186417431784,
          125.20112633703117,
          194.7719699803365,
          210.14739434583848,
          80.0667791560066,
          70.12520850091765,
          268.7880369246525,
          71.12614014042141,
          241.436577371526,
          401.3417404658581,
          265.9316257318264,
          73.3190653572058,
          100.11274127618483,
          53.28438137153807,
          199.43369364163053,
          245.8805849270757,
          83.54010169872386,
          47.32758603858906,
          214.25442956663832,
          146.22214836155743,
          186.0242641222957,
          497.157842437685,
          239.66628237433375,
          248.0586768224843,
          243.78257045336267,
          348.7696224429496,
          304.8866500645944,
          69.54877516135234,
          54.3269855463573,
          66.2296849571504,
          133.39481795864626,
          173.47089367730862,
          324.6214601712076,
          149.4199170257594,
          322.82129406311725,
          392.49892614001095,
          210.77552243801472,
          84.28483513453625,
          251.42634895903137,
          391.5565665918851,
          139.45067387705686,
          349.4957003018814,
          46.12890980195251,
          273.68324477180164,
          227.9522178335239,
          227.1990058034802,
          69.52442729236925,
          90.1698145924853,
          483.69995339740956,
          167.22240313804028,
          81.40097889788069,
          303.93583354059285,
          427.06588153139313,
          94.02918719220085,
          119.3852468701764,
          104.04328292573616,
          270.64391861498274,
          42.005173267800025,
          230.59070038505672,
          94.30812237674404,
          154.83297524130774,
          126.61125352262971,
          121.78133633797748,
          135.99511416565477,
          305.54900669090966,
          56.287608598314094,
          211.9552284923125,
          41.5202672732853,
          114.63125755727204,
          114.22424996883848,
          64.3430052445411,
          223.96573347356178,
          355.1999457794091,
          137.0626402848717,
          326.4004577188456,
          91.81639618069879,
          406.41314730473033,
          200.58093677147835,
          352.79608837403407,
          49.46764693210829,
          55.1120977824312,
          282.47056359098315,
          61.94541875185672,
          34.74288060910585,
          135.3672546057771,
          162.62434210966003,
          222.11907819765906,
          243.92598721837913,
          118.08474959868657,
          311.2472817021485,
          62.712289957752105,
          234.5596543496798,
          99.97186776844856,
          84.17867548742514,
          154.41943686333485,
          152.9466002957856,
          142.03136193121284,
          71.11926432052991,
          131.2411090544267,
          163.089997877627,
          219.77264798488332,
          273.48294831891064,
          85.13646772461297,
          108.60641193307123,
          260.1326435618254,
          239.9453213446965,
          169.06136802200282,
          113.31028194924696,
          184.30169278713217,
          65.57149892899795,
          458.1869655698772,
          50.135376814753386,
          473.2690452326306,
          26.53837938966522,
          39.86352582087911,
          195.76395035541844,
          254.51611508448067,
          132.65973449872732,
          298.1890699224378,
          158.62162081944828,
          230.82364915747178,
          86.7313504061556,
          36.875333953675806,
          137.88032988115495,
          139.02666481485548,
          312.1800309787756,
          221.78281193879977,
          48.678222875307874,
          48.43439628353157,
          458.79819297153233,
          69.21267665472025,
          248.15604839750543,
          58.58068632108026,
          201.2597176212535,
          194.65658592564586,
          31.112332030988966,
          154.80351498874947,
          226.93176427255796,
          251.99374240076455,
          142.44627148133304,
          140.03236790277336,
          241.06431592749718,
          205.37064102768582,
          69.47364149251796,
          283.8211739005363,
          126.55673163034027,
          184.8287176364936,
          111.63167162233027,
          53.343441797272014,
          152.0469827344111,
          94.56025715857855,
          48.04298911215166,
          92.11105573566621,
          90.60897245131837,
          512.2505156541541,
          48.57191838164267,
          50.71354893430952,
          442.40806022218004,
          101.62119323517335,
          48.240503016167374,
          153.04936950594643,
          197.5293358530996,
          203.77519499859753,
          330.9429465327255,
          165.97155914667388,
          409.7785721915315,
          77.04107197781563,
          325.92414423637376,
          137.54485292357134,
          134.31246890495603,
          214.18650236649015,
          128.8529075109466,
          195.39321970982715,
          92.15533006998294,
          96.11062809577012,
          133.78184817994716,
          66.92450846540757,
          156.60939988516813,
          132.3070452470522,
          158.7849242849338,
          231.82987458308747,
          194.20000492184968,
          116.81642140890582,
          283.80087497454963,
          86.35957959722556,
          452.6149525500796,
          58.03512849909595,
          121.99117436455731,
          44.34407232654713,
          65.03732966228885,
          61.15825669916126,
          366.0810837941461,
          472.2569938604215,
          79.2852925471727,
          394.55198577270926,
          160.3818403088029,
          197.2957751552536,
          236.61701552321585,
          216.53165738786606,
          144.8615247571409,
          97.4036987016219,
          193.12391306756768,
          97.1781885685405,
          46.83408060204093,
          115.16369123027343,
          397.8127817927781,
          149.40412383184452,
          132.553188634522,
          180.54012544568212,
          201.15303226760832,
          139.8570827037766,
          454.87962651920486,
          219.63050252437807,
          95.78098665800727,
          259.3527326992217,
          135.41172751309838,
          49.93122291986668,
          46.558614579783374,
          53.02757848705688,
          114.34060743947241,
          180.67656357547796,
          340.62152203095076,
          82.23236686764668,
          254.94714433526593,
          231.42497840392622,
          94.19562573854225,
          114.27535240114065,
          235.94913244094002,
          330.6450899692485,
          38.36331109540376,
          227.9786603779492,
          103.83681340233592,
          114.14262457849743,
          158.05171914019095,
          96.52660879510098,
          94.9559845843882,
          46.18692140721264,
          209.7131843459989,
          163.96410726173855,
          207.34623897500842,
          203.03762112787817,
          149.44666181546444,
          129.15980897429247,
          219.78789395127274,
          172.82944475464024,
          220.5988736230049,
          327.3560756477856,
          117.43477618024433,
          209.97428324203904,
          116.17557019685444,
          322.37368929771617,
          256.4524773798104,
          178.77333907653775,
          220.36206951741121,
          80.79510530161467,
          55.827278313632064,
          73.36096873844079,
          46.85590713332409,
          53.29387216277383,
          74.1480330570817,
          84.23245946826263,
          203.4376981690523,
          337.3158319529098,
          413.9943102445148,
          65.26552025258594,
          105.79527177072679,
          69.33416483813104,
          57.34091527712161,
          142.675285867129,
          361.3500203619862,
          189.71626842465315,
          423.25189475019033,
          252.59571252644764,
          322.77388620533276,
          100.93615384313748,
          131.77044621169802,
          236.84840752291777,
          159.61349359251807,
          166.29385400959595,
          50.25667636161085,
          242.94637934799596,
          316.4893171134615,
          162.65358972170358,
          190.22143963810723,
          48.26012403093597,
          390.13799021591626,
          45.873567202229964,
          264.7689577059666,
          219.55267511750392,
          93.76911858963513,
          201.83356252373366,
          155.7963676158636,
          308.03278192844897,
          102.96208101457331,
          52.44855589100995,
          175.88277064270952,
          198.11454797354762,
          84.11241935018616,
          126.85709737360469,
          101.51198276482134,
          78.72083538209688,
          435.81373280651513,
          216.7552855398076,
          53.406894641228156,
          120.10425314087952,
          234.9738282884105,
          219.94339420110006,
          120.87707522159063,
          56.251560588498975,
          77.77114264506582,
          205.1512625543842,
          156.00801081042027,
          187.86951775017926,
          141.7039098348868,
          78.99479569968798,
          394.5035933325306,
          117.09757875427245,
          312.8057975142641,
          205.6206340791114,
          34.88764882929223,
          56.95749923585538,
          245.60068161137832,
          100.42310000472172,
          268.78694700015234,
          81.5744848361978,
          384.7168534494265,
          146.57470107389918,
          52.271253820172326,
          193.1622868714177,
          322.5714962036332,
          205.85595205160422,
          324.6938402726061,
          174.96557545333653,
          126.65297346815716,
          104.2380359640006,
          93.49918699204834,
          225.61239100489286,
          434.9807355164713,
          116.62232013862602,
          150.45118331456166,
          453.90229632668104,
          404.2023410421656,
          328.4438752433399,
          85.49774759715741,
          284.76519760148386,
          243.50828010495678,
          363.55601692011555,
          166.8830293564028,
          77.80363680442238,
          201.3402493431401,
          275.37899814530084,
          77.76614984691987,
          267.76107972699805,
          102.4298549243473,
          125.85735430100432,
          402.22820334563943,
          247.41203142439963,
          75.02596762089507,
          66.80818844222117,
          151.62319257790458,
          427.0664975919053,
          359.5476957215339,
          291.9767653514816,
          124.03913338796106,
          118.40275435608943,
          74.80853566193838,
          361.3879277615651,
          63.6455379341911,
          97.97024442477918,
          161.6308578977799,
          395.2813648439785,
          100.31714289379552,
          148.01844544980966,
          215.81030910106364,
          49.33918982552782,
          439.36493825130987,
          137.53669935202686,
          248.51251279894893,
          230.30804462452764,
          343.49236626119045,
          50.61777305185059,
          161.0212862112891,
          170.4948561724916,
          96.24542461608067,
          210.89996438156408,
          345.70672350971137,
          474.51965329791364,
          172.644409274233,
          69.36315865975135,
          544.1699343991104,
          70.43028515784259,
          191.93537208748347,
          453.0677892281726,
          50.444246806749874,
          100.74832168948419,
          170.09269008540528,
          141.02784728085192,
          339.29636749615923,
          156.29556463364113,
          364.3681140598848,
          64.40857269059165,
          257.6146590707282,
          154.21412042726476,
          220.05567334295324,
          112.12909197423345,
          203.6999197046864,
          288.97877749924334,
          248.43246686416006,
          351.6152850722222,
          267.01694695537657,
          213.76410166059267,
          51.66403249325071,
          94.21685316045742,
          129.0001930735875,
          63.41927616349727,
          403.16144607056617,
          96.57435190828099,
          134.40422051316017,
          100.98268918292233,
          323.50925356088266,
          108.50092627569266,
          152.2567293452896,
          102.06652543554667,
          220.00469626809672,
          240.36106305599395,
          237.23264087049236,
          207.88799072589364,
          164.2792279832055,
          381.02890159230446,
          335.63041477600865,
          363.23448397525715,
          312.67391255492237,
          246.93201375864876,
          124.93108409149967,
          219.8347528623059,
          229.45878628535255,
          206.91599600138554,
          114.70299998229608,
          197.64876831100258,
          139.16855664744892,
          198.227616883382,
          49.62523691588854,
          131.05775897092747,
          123.2385931372765,
          264.13683354004684,
          110.05847354933135,
          270.4555926243544,
          267.94994866080367,
          152.20649686334352,
          97.68634222882618,
          222.28195336891196,
          229.14062204237777,
          22.42243279684351,
          161.3565409063673,
          72.29744012432361,
          162.4451977175303,
          200.96702216291703,
          313.34269259603604,
          166.2030378687468,
          54.308336033758515,
          187.9081313123322,
          97.2179570685331,
          281.0006780393088,
          50.4971082707923,
          106.36961174318579,
          61.652582104133465,
          79.36852878504202,
          254.73244397877448,
          129.39947792713753,
          400.3410576880982,
          24.96539297384613,
          292.8319944028891,
          61.451198727258664,
          107.3688885077524,
          428.2868062746116,
          54.79438431098621,
          78.40111033943043,
          75.12629114507138,
          91.0682500867544,
          94.0931174344212,
          107.70997869739544,
          288.30221996631127,
          158.31822541679725,
          303.72072063778876,
          127.80756236770662,
          49.302448413309016,
          43.173480126830974,
          192.7149272106287,
          147.53094658745866,
          55.49535594022671,
          428.2351743306185,
          46.64636393233225,
          39.09034875855063,
          247.55125843605217,
          409.51932576447706,
          59.40668738613736,
          44.73050935453529,
          67.84174545208906,
          101.16290153506033,
          84.86049513049528,
          173.56267714834377,
          429.87591913075414,
          51.10892705334189,
          159.88148697377588,
          66.32860703577441,
          91.43623344127612,
          164.15007383431848,
          232.6514207386735,
          133.95691440960258,
          212.9825901036516,
          207.076552407664,
          243.4504930500938,
          162.69360140894312,
          66.31158142974594,
          22.156589318546036,
          237.6964431244438,
          388.9523350443174,
          247.08024727760966,
          66.2844815922632,
          349.88650184646366,
          45.13475761320524,
          281.9910468202217,
          207.8288123914899,
          87.79880408193046,
          240.0930646874328,
          340.2900529260515,
          52.35341494965184,
          49.89849233696801,
          330.5173598943961,
          51.56244202886872,
          220.9139194095797,
          134.2251624689966,
          78.59441338478798,
          104.79472577498484,
          166.02286702803397,
          225.22270218686523,
          133.86802121867342,
          115.98689925088253,
          244.25455502454892,
          220.00175608509323,
          269.73984085889487,
          116.1315904565071
         ],
         "yaxis": "y"
        }
       ],
       "layout": {
        "legend": {
         "tracegroupgap": 0
        },
        "margin": {
         "t": 60
        },
        "template": {
         "data": {
          "bar": [
           {
            "error_x": {
             "color": "#2a3f5f"
            },
            "error_y": {
             "color": "#2a3f5f"
            },
            "marker": {
             "line": {
              "color": "#E5ECF6",
              "width": 0.5
             },
             "pattern": {
              "fillmode": "overlay",
              "size": 10,
              "solidity": 0.2
             }
            },
            "type": "bar"
           }
          ],
          "barpolar": [
           {
            "marker": {
             "line": {
              "color": "#E5ECF6",
              "width": 0.5
             },
             "pattern": {
              "fillmode": "overlay",
              "size": 10,
              "solidity": 0.2
             }
            },
            "type": "barpolar"
           }
          ],
          "carpet": [
           {
            "aaxis": {
             "endlinecolor": "#2a3f5f",
             "gridcolor": "white",
             "linecolor": "white",
             "minorgridcolor": "white",
             "startlinecolor": "#2a3f5f"
            },
            "baxis": {
             "endlinecolor": "#2a3f5f",
             "gridcolor": "white",
             "linecolor": "white",
             "minorgridcolor": "white",
             "startlinecolor": "#2a3f5f"
            },
            "type": "carpet"
           }
          ],
          "choropleth": [
           {
            "colorbar": {
             "outlinewidth": 0,
             "ticks": ""
            },
            "type": "choropleth"
           }
          ],
          "contour": [
           {
            "colorbar": {
             "outlinewidth": 0,
             "ticks": ""
            },
            "colorscale": [
             [
              0,
              "#0d0887"
             ],
             [
              0.1111111111111111,
              "#46039f"
             ],
             [
              0.2222222222222222,
              "#7201a8"
             ],
             [
              0.3333333333333333,
              "#9c179e"
             ],
             [
              0.4444444444444444,
              "#bd3786"
             ],
             [
              0.5555555555555556,
              "#d8576b"
             ],
             [
              0.6666666666666666,
              "#ed7953"
             ],
             [
              0.7777777777777778,
              "#fb9f3a"
             ],
             [
              0.8888888888888888,
              "#fdca26"
             ],
             [
              1,
              "#f0f921"
             ]
            ],
            "type": "contour"
           }
          ],
          "contourcarpet": [
           {
            "colorbar": {
             "outlinewidth": 0,
             "ticks": ""
            },
            "type": "contourcarpet"
           }
          ],
          "heatmap": [
           {
            "colorbar": {
             "outlinewidth": 0,
             "ticks": ""
            },
            "colorscale": [
             [
              0,
              "#0d0887"
             ],
             [
              0.1111111111111111,
              "#46039f"
             ],
             [
              0.2222222222222222,
              "#7201a8"
             ],
             [
              0.3333333333333333,
              "#9c179e"
             ],
             [
              0.4444444444444444,
              "#bd3786"
             ],
             [
              0.5555555555555556,
              "#d8576b"
             ],
             [
              0.6666666666666666,
              "#ed7953"
             ],
             [
              0.7777777777777778,
              "#fb9f3a"
             ],
             [
              0.8888888888888888,
              "#fdca26"
             ],
             [
              1,
              "#f0f921"
             ]
            ],
            "type": "heatmap"
           }
          ],
          "heatmapgl": [
           {
            "colorbar": {
             "outlinewidth": 0,
             "ticks": ""
            },
            "colorscale": [
             [
              0,
              "#0d0887"
             ],
             [
              0.1111111111111111,
              "#46039f"
             ],
             [
              0.2222222222222222,
              "#7201a8"
             ],
             [
              0.3333333333333333,
              "#9c179e"
             ],
             [
              0.4444444444444444,
              "#bd3786"
             ],
             [
              0.5555555555555556,
              "#d8576b"
             ],
             [
              0.6666666666666666,
              "#ed7953"
             ],
             [
              0.7777777777777778,
              "#fb9f3a"
             ],
             [
              0.8888888888888888,
              "#fdca26"
             ],
             [
              1,
              "#f0f921"
             ]
            ],
            "type": "heatmapgl"
           }
          ],
          "histogram": [
           {
            "marker": {
             "pattern": {
              "fillmode": "overlay",
              "size": 10,
              "solidity": 0.2
             }
            },
            "type": "histogram"
           }
          ],
          "histogram2d": [
           {
            "colorbar": {
             "outlinewidth": 0,
             "ticks": ""
            },
            "colorscale": [
             [
              0,
              "#0d0887"
             ],
             [
              0.1111111111111111,
              "#46039f"
             ],
             [
              0.2222222222222222,
              "#7201a8"
             ],
             [
              0.3333333333333333,
              "#9c179e"
             ],
             [
              0.4444444444444444,
              "#bd3786"
             ],
             [
              0.5555555555555556,
              "#d8576b"
             ],
             [
              0.6666666666666666,
              "#ed7953"
             ],
             [
              0.7777777777777778,
              "#fb9f3a"
             ],
             [
              0.8888888888888888,
              "#fdca26"
             ],
             [
              1,
              "#f0f921"
             ]
            ],
            "type": "histogram2d"
           }
          ],
          "histogram2dcontour": [
           {
            "colorbar": {
             "outlinewidth": 0,
             "ticks": ""
            },
            "colorscale": [
             [
              0,
              "#0d0887"
             ],
             [
              0.1111111111111111,
              "#46039f"
             ],
             [
              0.2222222222222222,
              "#7201a8"
             ],
             [
              0.3333333333333333,
              "#9c179e"
             ],
             [
              0.4444444444444444,
              "#bd3786"
             ],
             [
              0.5555555555555556,
              "#d8576b"
             ],
             [
              0.6666666666666666,
              "#ed7953"
             ],
             [
              0.7777777777777778,
              "#fb9f3a"
             ],
             [
              0.8888888888888888,
              "#fdca26"
             ],
             [
              1,
              "#f0f921"
             ]
            ],
            "type": "histogram2dcontour"
           }
          ],
          "mesh3d": [
           {
            "colorbar": {
             "outlinewidth": 0,
             "ticks": ""
            },
            "type": "mesh3d"
           }
          ],
          "parcoords": [
           {
            "line": {
             "colorbar": {
              "outlinewidth": 0,
              "ticks": ""
             }
            },
            "type": "parcoords"
           }
          ],
          "pie": [
           {
            "automargin": true,
            "type": "pie"
           }
          ],
          "scatter": [
           {
            "fillpattern": {
             "fillmode": "overlay",
             "size": 10,
             "solidity": 0.2
            },
            "type": "scatter"
           }
          ],
          "scatter3d": [
           {
            "line": {
             "colorbar": {
              "outlinewidth": 0,
              "ticks": ""
             }
            },
            "marker": {
             "colorbar": {
              "outlinewidth": 0,
              "ticks": ""
             }
            },
            "type": "scatter3d"
           }
          ],
          "scattercarpet": [
           {
            "marker": {
             "colorbar": {
              "outlinewidth": 0,
              "ticks": ""
             }
            },
            "type": "scattercarpet"
           }
          ],
          "scattergeo": [
           {
            "marker": {
             "colorbar": {
              "outlinewidth": 0,
              "ticks": ""
             }
            },
            "type": "scattergeo"
           }
          ],
          "scattergl": [
           {
            "marker": {
             "colorbar": {
              "outlinewidth": 0,
              "ticks": ""
             }
            },
            "type": "scattergl"
           }
          ],
          "scattermapbox": [
           {
            "marker": {
             "colorbar": {
              "outlinewidth": 0,
              "ticks": ""
             }
            },
            "type": "scattermapbox"
           }
          ],
          "scatterpolar": [
           {
            "marker": {
             "colorbar": {
              "outlinewidth": 0,
              "ticks": ""
             }
            },
            "type": "scatterpolar"
           }
          ],
          "scatterpolargl": [
           {
            "marker": {
             "colorbar": {
              "outlinewidth": 0,
              "ticks": ""
             }
            },
            "type": "scatterpolargl"
           }
          ],
          "scatterternary": [
           {
            "marker": {
             "colorbar": {
              "outlinewidth": 0,
              "ticks": ""
             }
            },
            "type": "scatterternary"
           }
          ],
          "surface": [
           {
            "colorbar": {
             "outlinewidth": 0,
             "ticks": ""
            },
            "colorscale": [
             [
              0,
              "#0d0887"
             ],
             [
              0.1111111111111111,
              "#46039f"
             ],
             [
              0.2222222222222222,
              "#7201a8"
             ],
             [
              0.3333333333333333,
              "#9c179e"
             ],
             [
              0.4444444444444444,
              "#bd3786"
             ],
             [
              0.5555555555555556,
              "#d8576b"
             ],
             [
              0.6666666666666666,
              "#ed7953"
             ],
             [
              0.7777777777777778,
              "#fb9f3a"
             ],
             [
              0.8888888888888888,
              "#fdca26"
             ],
             [
              1,
              "#f0f921"
             ]
            ],
            "type": "surface"
           }
          ],
          "table": [
           {
            "cells": {
             "fill": {
              "color": "#EBF0F8"
             },
             "line": {
              "color": "white"
             }
            },
            "header": {
             "fill": {
              "color": "#C8D4E3"
             },
             "line": {
              "color": "white"
             }
            },
            "type": "table"
           }
          ]
         },
         "layout": {
          "annotationdefaults": {
           "arrowcolor": "#2a3f5f",
           "arrowhead": 0,
           "arrowwidth": 1
          },
          "autotypenumbers": "strict",
          "coloraxis": {
           "colorbar": {
            "outlinewidth": 0,
            "ticks": ""
           }
          },
          "colorscale": {
           "diverging": [
            [
             0,
             "#8e0152"
            ],
            [
             0.1,
             "#c51b7d"
            ],
            [
             0.2,
             "#de77ae"
            ],
            [
             0.3,
             "#f1b6da"
            ],
            [
             0.4,
             "#fde0ef"
            ],
            [
             0.5,
             "#f7f7f7"
            ],
            [
             0.6,
             "#e6f5d0"
            ],
            [
             0.7,
             "#b8e186"
            ],
            [
             0.8,
             "#7fbc41"
            ],
            [
             0.9,
             "#4d9221"
            ],
            [
             1,
             "#276419"
            ]
           ],
           "sequential": [
            [
             0,
             "#0d0887"
            ],
            [
             0.1111111111111111,
             "#46039f"
            ],
            [
             0.2222222222222222,
             "#7201a8"
            ],
            [
             0.3333333333333333,
             "#9c179e"
            ],
            [
             0.4444444444444444,
             "#bd3786"
            ],
            [
             0.5555555555555556,
             "#d8576b"
            ],
            [
             0.6666666666666666,
             "#ed7953"
            ],
            [
             0.7777777777777778,
             "#fb9f3a"
            ],
            [
             0.8888888888888888,
             "#fdca26"
            ],
            [
             1,
             "#f0f921"
            ]
           ],
           "sequentialminus": [
            [
             0,
             "#0d0887"
            ],
            [
             0.1111111111111111,
             "#46039f"
            ],
            [
             0.2222222222222222,
             "#7201a8"
            ],
            [
             0.3333333333333333,
             "#9c179e"
            ],
            [
             0.4444444444444444,
             "#bd3786"
            ],
            [
             0.5555555555555556,
             "#d8576b"
            ],
            [
             0.6666666666666666,
             "#ed7953"
            ],
            [
             0.7777777777777778,
             "#fb9f3a"
            ],
            [
             0.8888888888888888,
             "#fdca26"
            ],
            [
             1,
             "#f0f921"
            ]
           ]
          },
          "colorway": [
           "#636efa",
           "#EF553B",
           "#00cc96",
           "#ab63fa",
           "#FFA15A",
           "#19d3f3",
           "#FF6692",
           "#B6E880",
           "#FF97FF",
           "#FECB52"
          ],
          "font": {
           "color": "#2a3f5f"
          },
          "geo": {
           "bgcolor": "white",
           "lakecolor": "white",
           "landcolor": "#E5ECF6",
           "showlakes": true,
           "showland": true,
           "subunitcolor": "white"
          },
          "hoverlabel": {
           "align": "left"
          },
          "hovermode": "closest",
          "mapbox": {
           "style": "light"
          },
          "paper_bgcolor": "white",
          "plot_bgcolor": "#E5ECF6",
          "polar": {
           "angularaxis": {
            "gridcolor": "white",
            "linecolor": "white",
            "ticks": ""
           },
           "bgcolor": "#E5ECF6",
           "radialaxis": {
            "gridcolor": "white",
            "linecolor": "white",
            "ticks": ""
           }
          },
          "scene": {
           "xaxis": {
            "backgroundcolor": "#E5ECF6",
            "gridcolor": "white",
            "gridwidth": 2,
            "linecolor": "white",
            "showbackground": true,
            "ticks": "",
            "zerolinecolor": "white"
           },
           "yaxis": {
            "backgroundcolor": "#E5ECF6",
            "gridcolor": "white",
            "gridwidth": 2,
            "linecolor": "white",
            "showbackground": true,
            "ticks": "",
            "zerolinecolor": "white"
           },
           "zaxis": {
            "backgroundcolor": "#E5ECF6",
            "gridcolor": "white",
            "gridwidth": 2,
            "linecolor": "white",
            "showbackground": true,
            "ticks": "",
            "zerolinecolor": "white"
           }
          },
          "shapedefaults": {
           "line": {
            "color": "#2a3f5f"
           }
          },
          "ternary": {
           "aaxis": {
            "gridcolor": "white",
            "linecolor": "white",
            "ticks": ""
           },
           "baxis": {
            "gridcolor": "white",
            "linecolor": "white",
            "ticks": ""
           },
           "bgcolor": "#E5ECF6",
           "caxis": {
            "gridcolor": "white",
            "linecolor": "white",
            "ticks": ""
           }
          },
          "title": {
           "x": 0.05
          },
          "xaxis": {
           "automargin": true,
           "gridcolor": "white",
           "linecolor": "white",
           "ticks": "",
           "title": {
            "standoff": 15
           },
           "zerolinecolor": "white",
           "zerolinewidth": 2
          },
          "yaxis": {
           "automargin": true,
           "gridcolor": "white",
           "linecolor": "white",
           "ticks": "",
           "title": {
            "standoff": 15
           },
           "zerolinecolor": "white",
           "zerolinewidth": 2
          }
         }
        },
        "xaxis": {
         "anchor": "y",
         "domain": [
          0,
          1
         ],
         "title": {
          "text": "Actual y"
         }
        },
        "yaxis": {
         "anchor": "x",
         "domain": [
          0,
          1
         ],
         "title": {
          "text": "Predicted y"
         }
        }
       }
      }
     },
     "metadata": {},
     "output_type": "display_data"
    }
   ],
   "source": [
    "from sklearn.ensemble import HistGradientBoostingRegressor\n",
    "\n",
    "reg = HistGradientBoostingRegressor()\n",
    "\n",
    "reg.fit(X_train, y_train)\n",
    "\n",
    "y_train_pred = reg.predict(X_train)\n",
    "y_pred = reg.predict(X_test)\n",
    "\n",
    "print(f\"Train\\nScore: {reg.score(X_train, y_train)}\")\n",
    "calculate_score(y_train, y_train_pred)\n",
    "\n",
    "print(f\"Test\\nScore: {reg.score(X_test, y_test)}\")\n",
    "calculate_score(y_test, y_pred)\n",
    "\n",
    "plot(y_test, y_pred)"
   ]
  },
  {
   "cell_type": "markdown",
   "metadata": {},
   "source": [
    "### Model 3: XGBoost Regression"
   ]
  },
  {
   "cell_type": "markdown",
   "metadata": {},
   "source": [
    "We can use gradient boosting - a type of ensemble machine learning algorithms. Ensemble is a collection of decision trees. Every iteration, a decision tree is added to model to minimise the error. Models are fit using any arbitrary differentiable loss function and gradient descent optimization algorithm, and the goal is to minimise loss gradient. We will use XGBoost API to do the model fitting."
   ]
  },
  {
   "cell_type": "code",
   "execution_count": 13,
   "metadata": {},
   "outputs": [
    {
     "name": "stdout",
     "output_type": "stream",
     "text": [
      "Train\n",
      "Score:1.0\n",
      "R2 Score 0.9907481501980658\n",
      "RMSE : 12.794784018083211\n",
      "Test\n",
      "Score:0.7729414478612586\n",
      "R2 Score 0.7729414478612586\n",
      "RMSE : 61.74429468712888\n"
     ]
    },
    {
     "data": {
      "application/vnd.plotly.v1+json": {
       "config": {
        "plotlyServerURL": "https://plot.ly"
       },
       "data": [
        {
         "hovertemplate": "Actual y=%{x}<br>Predicted y=%{y}<extra></extra>",
         "legendgroup": "",
         "marker": {
          "color": "#636efa",
          "symbol": "circle"
         },
         "mode": "markers",
         "name": "",
         "orientation": "v",
         "showlegend": false,
         "type": "scatter",
         "x": [
          333,
          156,
          174,
          148,
          50,
          39,
          59,
          247,
          193,
          70,
          97,
          31,
          77,
          130,
          134,
          185,
          237,
          30,
          48,
          118,
          55,
          159,
          379,
          238,
          53,
          127,
          69,
          269,
          150,
          30,
          56,
          253,
          99,
          305,
          578,
          246,
          232,
          148,
          346,
          230,
          69,
          60,
          81,
          127,
          200,
          202,
          300,
          350,
          260,
          191,
          46,
          292,
          401,
          188,
          399,
          48,
          260,
          161,
          540,
          70,
          73,
          615,
          45,
          18,
          394,
          403,
          120,
          149,
          100,
          292,
          80,
          216,
          106,
          160,
          126,
          78,
          130,
          391,
          47,
          257,
          24,
          75,
          100,
          45,
          250,
          420,
          163,
          130,
          85,
          379,
          175,
          490,
          49,
          99,
          265,
          48,
          29,
          110,
          168,
          186,
          139,
          120,
          224,
          79,
          343,
          250,
          50,
          145,
          219,
          174,
          69,
          152,
          189,
          225,
          250,
          32,
          75,
          231,
          280,
          154,
          110,
          187,
          36,
          550,
          55,
          540,
          150,
          39,
          173,
          214,
          100,
          310,
          150,
          175,
          105,
          31,
          174,
          133,
          281,
          158,
          69,
          57,
          434,
          81,
          203,
          69,
          204,
          179,
          22,
          290,
          246,
          254,
          201,
          154,
          230,
          200,
          79,
          400,
          40,
          400,
          60,
          69,
          145,
          100,
          49,
          79,
          100,
          375,
          49,
          50,
          500,
          90,
          69,
          155,
          39,
          190,
          347,
          184,
          463,
          79,
          250,
          88,
          95,
          205,
          140,
          458,
          140,
          34,
          162,
          29,
          97,
          101,
          130,
          169,
          187,
          148,
          256,
          95,
          488,
          59,
          60,
          85,
          56,
          78,
          276,
          409,
          62,
          402,
          174,
          364,
          200,
          223,
          161,
          65,
          223,
          88,
          43,
          68,
          287,
          124,
          97,
          122,
          216,
          110,
          620,
          240,
          85,
          316,
          165,
          47,
          69,
          59,
          109,
          220,
          400,
          69,
          281,
          241,
          37,
          169,
          277,
          450,
          80,
          238,
          26,
          95,
          35,
          34,
          110,
          49,
          230,
          350,
          196,
          130,
          90,
          121,
          174,
          133,
          218,
          575,
          97,
          310,
          80,
          315,
          209,
          194,
          200,
          50,
          59,
          119,
          39,
          38,
          40,
          95,
          154,
          313,
          354,
          150,
          120,
          59,
          42,
          120,
          280,
          180,
          367,
          138,
          450,
          49,
          124,
          165,
          101,
          184,
          46,
          297,
          210,
          91,
          186,
          50,
          413,
          49,
          200,
          160,
          131,
          191,
          100,
          350,
          74,
          43,
          155,
          89,
          106,
          65,
          111,
          79,
          456,
          175,
          49,
          98,
          288,
          170,
          45,
          66,
          58,
          187,
          170,
          146,
          100,
          78,
          422,
          270,
          249,
          193,
          45,
          59,
          116,
          65,
          200,
          33,
          404,
          131,
          75,
          176,
          300,
          199,
          346,
          148,
          108,
          50,
          104,
          200,
          430,
          115,
          80,
          450,
          392,
          367,
          67,
          181,
          270,
          377,
          224,
          44,
          135,
          258,
          39,
          300,
          130,
          145,
          409,
          148,
          58,
          59,
          140,
          470,
          350,
          212,
          50,
          145,
          37,
          369,
          57,
          87,
          394,
          411,
          130,
          155,
          300,
          51,
          533,
          135,
          264,
          160,
          400,
          59,
          180,
          70,
          67,
          70,
          328,
          499,
          150,
          99,
          616,
          40,
          236,
          383,
          41,
          60,
          117,
          160,
          330,
          126,
          414,
          40,
          250,
          99,
          149,
          102,
          180,
          155,
          369,
          362,
          170,
          247,
          57,
          45,
          120,
          70,
          387,
          70,
          80,
          68,
          200,
          90,
          20,
          119,
          199,
          250,
          330,
          201,
          121,
          495,
          299,
          528,
          270,
          261,
          85,
          180,
          158,
          465,
          91,
          415,
          135,
          122,
          100,
          53,
          110,
          238,
          102,
          269,
          235,
          40,
          109,
          144,
          243,
          22,
          181,
          50,
          184,
          145,
          250,
          200,
          58,
          120,
          25,
          210,
          49,
          85,
          69,
          69,
          238,
          109,
          399,
          44,
          323,
          48,
          80,
          461,
          49,
          47,
          75,
          96,
          30,
          140,
          457,
          70,
          257,
          120,
          59,
          24,
          265,
          140,
          49,
          409,
          225,
          45,
          239,
          225,
          48,
          49,
          65,
          98,
          88,
          156,
          405,
          59,
          187,
          59,
          70,
          199,
          188,
          46,
          193,
          270,
          239,
          169,
          67,
          30,
          214,
          522,
          225,
          45,
          539,
          45,
          465,
          223,
          44,
          221,
          300,
          69,
          59,
          320,
          59,
          265,
          450,
          57,
          85,
          144,
          499,
          90,
          135,
          250,
          179,
          320,
          75
         ],
         "xaxis": "x",
         "y": [
          297.93548583984375,
          133.2062530517578,
          167.98912048339844,
          228.76292419433594,
          105.87678527832031,
          39.31589126586914,
          54.703514099121094,
          255.5553741455078,
          246.45518493652344,
          90.66104888916016,
          82.78680419921875,
          16.917156219482422,
          87.70988464355469,
          90.99063873291016,
          132.4170379638672,
          214.89462280273438,
          207.99896240234375,
          113.43694305419922,
          76.3406982421875,
          258.20623779296875,
          61.453285217285156,
          236.72450256347656,
          383.7837829589844,
          194.09828186035156,
          80.4448013305664,
          105.75318908691406,
          58.19041061401367,
          172.5212860107422,
          283.0143737792969,
          52.61028289794922,
          66.00446319580078,
          197.37818908691406,
          121.43936157226562,
          260.04168701171875,
          519.0850219726562,
          246.9044647216797,
          211.5139923095703,
          197.90487670898438,
          392.7255859375,
          289.57611083984375,
          63.826969146728516,
          79.83860778808594,
          65.84986877441406,
          128.52700805664062,
          207.0123748779297,
          347.66094970703125,
          186.7212371826172,
          303.3247375488281,
          376.3116760253906,
          207.97743225097656,
          70.93853759765625,
          260.938720703125,
          395.59197998046875,
          154.72129821777344,
          367.13134765625,
          48.11015701293945,
          279.45111083984375,
          225.1808624267578,
          221.02442932128906,
          64.5242919921875,
          97.52442932128906,
          499.970947265625,
          174.33248901367188,
          35.071632385253906,
          278.8680725097656,
          415.385498046875,
          100.47882080078125,
          139.439697265625,
          72.00489807128906,
          239.02061462402344,
          83.0189437866211,
          226.54452514648438,
          80.87796783447266,
          155.03121948242188,
          102.63119506835938,
          145.21673583984375,
          126.10855102539062,
          340.0299377441406,
          49.213951110839844,
          227.68258666992188,
          40.06216812133789,
          103.96995544433594,
          76.06549072265625,
          61.012046813964844,
          195.2078857421875,
          412.9308166503906,
          140.0255126953125,
          269.1851501464844,
          105.85897064208984,
          407.9539794921875,
          203.98475646972656,
          345.51947021484375,
          59.92352294921875,
          47.6427001953125,
          276.1590270996094,
          61.14525604248047,
          55.075809478759766,
          136.1710205078125,
          153.03762817382812,
          245.10543823242188,
          265.6048583984375,
          133.58016967773438,
          256.90008544921875,
          65.0467758178711,
          277.9006652832031,
          94.00521087646484,
          89.70511627197266,
          156.77037048339844,
          110.55607604980469,
          155.98507690429688,
          65.81279754638672,
          136.04449462890625,
          178.9132080078125,
          215.9335479736328,
          245.1996612548828,
          66.69055938720703,
          96.7581787109375,
          252.36557006835938,
          236.88604736328125,
          152.82058715820312,
          110.81891632080078,
          185.6163330078125,
          46.56099319458008,
          470.9466247558594,
          47.027793884277344,
          442.2608337402344,
          30.224687576293945,
          41.72217559814453,
          202.10972595214844,
          233.81517028808594,
          128.03990173339844,
          267.30816650390625,
          123.5709457397461,
          225.25167846679688,
          90.53079223632812,
          24.542211532592773,
          146.53643798828125,
          147.89151000976562,
          286.4335632324219,
          219.21981811523438,
          49.34917449951172,
          52.532630920410156,
          427.7940979003906,
          96.84410095214844,
          247.5530242919922,
          48.23922348022461,
          186.97434997558594,
          168.31048583984375,
          35.66056442260742,
          180.611572265625,
          224.1746826171875,
          252.1351318359375,
          168.6884765625,
          138.60324096679688,
          198.1912078857422,
          211.61631774902344,
          68.7158203125,
          296.7039794921875,
          158.10415649414062,
          169.2858123779297,
          156.79330444335938,
          44.79389190673828,
          137.6150360107422,
          93.12093353271484,
          50.4015007019043,
          77.84186553955078,
          79.47669982910156,
          549.944580078125,
          52.64384078979492,
          61.86658477783203,
          424.4391784667969,
          86.05599975585938,
          52.24205017089844,
          164.54257202148438,
          148.5825653076172,
          261.9509582519531,
          338.9468994140625,
          165.2835693359375,
          357.7916259765625,
          100.72843170166016,
          310.8165588378906,
          101.28286743164062,
          116.5578384399414,
          214.48513793945312,
          137.49513244628906,
          208.72207641601562,
          105.86602783203125,
          88.24271392822266,
          132.85264587402344,
          50.56234359741211,
          147.91583251953125,
          127.81912994384766,
          152.9161834716797,
          246.53060913085938,
          179.89877319335938,
          111.01114654541016,
          281.9126892089844,
          94.3736801147461,
          433.72705078125,
          61.607784271240234,
          102.30474090576172,
          31.19820213317871,
          58.45500946044922,
          74.23609161376953,
          397.9900207519531,
          456.2427978515625,
          69.36712646484375,
          396.2685546875,
          186.0711212158203,
          212.39743041992188,
          236.38101196289062,
          228.41049194335938,
          151.70399475097656,
          68.69319152832031,
          200.20533752441406,
          92.87297821044922,
          48.11155700683594,
          129.4424285888672,
          414.3580627441406,
          131.21337890625,
          152.14666748046875,
          186.41000366210938,
          196.55552673339844,
          129.2733154296875,
          451.1715087890625,
          246.47586059570312,
          106.68920135498047,
          242.46902465820312,
          130.99124145507812,
          52.52602767944336,
          44.69432067871094,
          52.119789123535156,
          155.77769470214844,
          185.18023681640625,
          320.6250305175781,
          77.7455825805664,
          242.2943572998047,
          242.5596160888672,
          61.57196044921875,
          128.14231872558594,
          233.35934448242188,
          299.6182861328125,
          47.77006149291992,
          241.4320068359375,
          86.58279418945312,
          112.87320709228516,
          111.06656646728516,
          88.76344299316406,
          127.64681243896484,
          50.02653884887695,
          213.96841430664062,
          188.65655517578125,
          221.05377197265625,
          197.47186279296875,
          127.81942749023438,
          138.22457885742188,
          184.71925354003906,
          189.67678833007812,
          247.55345153808594,
          352.57989501953125,
          109.02511596679688,
          242.7672576904297,
          122.21755981445312,
          293.5395812988281,
          246.69139099121094,
          174.2762451171875,
          222.53367614746094,
          92.96501159667969,
          57.82695007324219,
          86.62073516845703,
          40.51059341430664,
          38.63285446166992,
          58.06706619262695,
          93.3446044921875,
          184.9938201904297,
          331.4947204589844,
          409.0384826660156,
          74.91433715820312,
          179.03350830078125,
          65.40364837646484,
          42.476295471191406,
          132.78994750976562,
          386.5061950683594,
          185.01504516601562,
          411.2729187011719,
          257.79296875,
          322.4639587402344,
          80.28585815429688,
          187.64730834960938,
          223.16571044921875,
          154.9744415283203,
          166.72364807128906,
          55.18502426147461,
          270.2201232910156,
          316.4345397949219,
          196.5419158935547,
          210.40960693359375,
          64.8926773071289,
          427.280029296875,
          44.826011657714844,
          260.65130615234375,
          218.4560546875,
          110.27994537353516,
          195.2300262451172,
          110.91404724121094,
          307.7102966308594,
          88.7551040649414,
          49.34043884277344,
          174.55999755859375,
          167.2965087890625,
          110.6222152709961,
          75.5203628540039,
          107.01627349853516,
          81.88372802734375,
          442.0956115722656,
          220.9291534423828,
          52.415279388427734,
          148.95367431640625,
          207.9388427734375,
          224.66949462890625,
          119.22598266601562,
          110.04889678955078,
          86.26516723632812,
          205.927734375,
          170.82008361816406,
          182.68617248535156,
          90.95629119873047,
          76.25257873535156,
          385.0685119628906,
          155.13511657714844,
          232.41549682617188,
          219.9466552734375,
          46.711082458496094,
          55.68880844116211,
          223.86318969726562,
          141.06924438476562,
          262.8559265136719,
          62.89931106567383,
          425.99951171875,
          138.7419891357422,
          52.567020416259766,
          201.7831573486328,
          324.4776611328125,
          255.1109161376953,
          345.6983947753906,
          159.91607666015625,
          136.97483825683594,
          70.66165161132812,
          80.50593566894531,
          226.70347595214844,
          406.35504150390625,
          138.68490600585938,
          88.26402282714844,
          457.15802001953125,
          405.4878845214844,
          317.728759765625,
          87.18870544433594,
          288.6259460449219,
          259.5648193359375,
          329.4904479980469,
          193.3736114501953,
          76.30542755126953,
          239.10684204101562,
          259.6797790527344,
          77.49606323242188,
          262.1723937988281,
          103.87487030029297,
          163.3150634765625,
          349.3207702636719,
          239.88473510742188,
          79.74837493896484,
          49.23365783691406,
          146.27713012695312,
          409.0851135253906,
          377.39971923828125,
          353.95654296875,
          112.86968231201172,
          81.38282775878906,
          85.71533203125,
          341.4146728515625,
          64.92427825927734,
          87.78922271728516,
          159.78390502929688,
          352.007568359375,
          138.36196899414062,
          144.59600830078125,
          277.363525390625,
          49.19700241088867,
          461.92034912109375,
          132.27565002441406,
          220.45062255859375,
          226.08143615722656,
          321.6520080566406,
          50.52651596069336,
          187.66107177734375,
          117.58562469482422,
          98.4103012084961,
          210.8144989013672,
          359.1445007324219,
          462.6893005371094,
          169.30039978027344,
          77.83228302001953,
          527.4832763671875,
          82.20716094970703,
          217.77732849121094,
          464.3507995605469,
          42.57288360595703,
          70.20646667480469,
          171.62998962402344,
          147.8501739501953,
          317.0954284667969,
          150.19386291503906,
          359.4422912597656,
          52.72500228881836,
          257.6553955078125,
          131.3638916015625,
          165.52725219726562,
          115.57868957519531,
          230.29673767089844,
          291.7750244140625,
          297.2962341308594,
          340.74267578125,
          203.77110290527344,
          213.0190887451172,
          59.39989471435547,
          67.05184936523438,
          141.2646484375,
          80.04983520507812,
          419.8745422363281,
          101.70240783691406,
          139.53211975097656,
          98.67805480957031,
          291.9618835449219,
          135.49842834472656,
          146.85482788085938,
          127.562255859375,
          224.21595764160156,
          280.3421630859375,
          264.5240173339844,
          220.3740997314453,
          183.2045440673828,
          365.5362243652344,
          362.088134765625,
          319.86199951171875,
          305.6730041503906,
          240.85816955566406,
          132.6586456298828,
          192.9727020263672,
          199.51324462890625,
          216.75601196289062,
          120.74164581298828,
          238.94076538085938,
          144.4984588623047,
          165.84217834472656,
          70.08856201171875,
          105.34437561035156,
          118.88345336914062,
          260.5054626464844,
          112.67056274414062,
          249.41297912597656,
          247.76254272460938,
          84.1452865600586,
          125.57084655761719,
          177.37217712402344,
          231.0792999267578,
          37.921730041503906,
          174.99339294433594,
          73.06245422363281,
          187.88978576660156,
          180.79869079589844,
          298.96173095703125,
          176.7694091796875,
          56.13414764404297,
          202.96221923828125,
          112.96883392333984,
          304.4372253417969,
          53.8209342956543,
          98.13319396972656,
          74.72904205322266,
          70.08184814453125,
          246.5578155517578,
          106.6172103881836,
          409.05938720703125,
          37.83991241455078,
          273.5002746582031,
          67.14948272705078,
          79.86896514892578,
          418.29852294921875,
          52.343013763427734,
          50.55647277832031,
          64.20586395263672,
          92.97502136230469,
          59.14502716064453,
          133.07656860351562,
          283.443603515625,
          111.91732025146484,
          250.23204040527344,
          145.8598175048828,
          51.021751403808594,
          42.00173568725586,
          215.20286560058594,
          153.2200164794922,
          61.163368225097656,
          422.38409423828125,
          45.814491271972656,
          42.714725494384766,
          254.3698272705078,
          357.9818420410156,
          55.72455596923828,
          41.167015075683594,
          46.42461013793945,
          91.05516815185547,
          84.97862243652344,
          176.8272705078125,
          422.18560791015625,
          48.16888427734375,
          170.5034942626953,
          58.150150299072266,
          81.97605895996094,
          168.40589904785156,
          232.4361114501953,
          254.36309814453125,
          220.13699340820312,
          217.58883666992188,
          231.6319122314453,
          156.51702880859375,
          76.69127655029297,
          48.48990249633789,
          181.42701721191406,
          413.88311767578125,
          246.54946899414062,
          55.5296516418457,
          329.2267150878906,
          33.96921157836914,
          280.9959411621094,
          240.17689514160156,
          92.17671966552734,
          239.76416015625,
          324.8528137207031,
          59.36734390258789,
          47.60164260864258,
          326.9145812988281,
          48.413299560546875,
          240.43983459472656,
          96.92953491210938,
          82.14048767089844,
          88.11408996582031,
          175.49026489257812,
          231.52297973632812,
          123.32882690429688,
          120.1172866821289,
          241.74099731445312,
          215.726318359375,
          278.2177429199219,
          108.54927825927734
         ],
         "yaxis": "y"
        }
       ],
       "layout": {
        "legend": {
         "tracegroupgap": 0
        },
        "margin": {
         "t": 60
        },
        "template": {
         "data": {
          "bar": [
           {
            "error_x": {
             "color": "#2a3f5f"
            },
            "error_y": {
             "color": "#2a3f5f"
            },
            "marker": {
             "line": {
              "color": "#E5ECF6",
              "width": 0.5
             },
             "pattern": {
              "fillmode": "overlay",
              "size": 10,
              "solidity": 0.2
             }
            },
            "type": "bar"
           }
          ],
          "barpolar": [
           {
            "marker": {
             "line": {
              "color": "#E5ECF6",
              "width": 0.5
             },
             "pattern": {
              "fillmode": "overlay",
              "size": 10,
              "solidity": 0.2
             }
            },
            "type": "barpolar"
           }
          ],
          "carpet": [
           {
            "aaxis": {
             "endlinecolor": "#2a3f5f",
             "gridcolor": "white",
             "linecolor": "white",
             "minorgridcolor": "white",
             "startlinecolor": "#2a3f5f"
            },
            "baxis": {
             "endlinecolor": "#2a3f5f",
             "gridcolor": "white",
             "linecolor": "white",
             "minorgridcolor": "white",
             "startlinecolor": "#2a3f5f"
            },
            "type": "carpet"
           }
          ],
          "choropleth": [
           {
            "colorbar": {
             "outlinewidth": 0,
             "ticks": ""
            },
            "type": "choropleth"
           }
          ],
          "contour": [
           {
            "colorbar": {
             "outlinewidth": 0,
             "ticks": ""
            },
            "colorscale": [
             [
              0,
              "#0d0887"
             ],
             [
              0.1111111111111111,
              "#46039f"
             ],
             [
              0.2222222222222222,
              "#7201a8"
             ],
             [
              0.3333333333333333,
              "#9c179e"
             ],
             [
              0.4444444444444444,
              "#bd3786"
             ],
             [
              0.5555555555555556,
              "#d8576b"
             ],
             [
              0.6666666666666666,
              "#ed7953"
             ],
             [
              0.7777777777777778,
              "#fb9f3a"
             ],
             [
              0.8888888888888888,
              "#fdca26"
             ],
             [
              1,
              "#f0f921"
             ]
            ],
            "type": "contour"
           }
          ],
          "contourcarpet": [
           {
            "colorbar": {
             "outlinewidth": 0,
             "ticks": ""
            },
            "type": "contourcarpet"
           }
          ],
          "heatmap": [
           {
            "colorbar": {
             "outlinewidth": 0,
             "ticks": ""
            },
            "colorscale": [
             [
              0,
              "#0d0887"
             ],
             [
              0.1111111111111111,
              "#46039f"
             ],
             [
              0.2222222222222222,
              "#7201a8"
             ],
             [
              0.3333333333333333,
              "#9c179e"
             ],
             [
              0.4444444444444444,
              "#bd3786"
             ],
             [
              0.5555555555555556,
              "#d8576b"
             ],
             [
              0.6666666666666666,
              "#ed7953"
             ],
             [
              0.7777777777777778,
              "#fb9f3a"
             ],
             [
              0.8888888888888888,
              "#fdca26"
             ],
             [
              1,
              "#f0f921"
             ]
            ],
            "type": "heatmap"
           }
          ],
          "heatmapgl": [
           {
            "colorbar": {
             "outlinewidth": 0,
             "ticks": ""
            },
            "colorscale": [
             [
              0,
              "#0d0887"
             ],
             [
              0.1111111111111111,
              "#46039f"
             ],
             [
              0.2222222222222222,
              "#7201a8"
             ],
             [
              0.3333333333333333,
              "#9c179e"
             ],
             [
              0.4444444444444444,
              "#bd3786"
             ],
             [
              0.5555555555555556,
              "#d8576b"
             ],
             [
              0.6666666666666666,
              "#ed7953"
             ],
             [
              0.7777777777777778,
              "#fb9f3a"
             ],
             [
              0.8888888888888888,
              "#fdca26"
             ],
             [
              1,
              "#f0f921"
             ]
            ],
            "type": "heatmapgl"
           }
          ],
          "histogram": [
           {
            "marker": {
             "pattern": {
              "fillmode": "overlay",
              "size": 10,
              "solidity": 0.2
             }
            },
            "type": "histogram"
           }
          ],
          "histogram2d": [
           {
            "colorbar": {
             "outlinewidth": 0,
             "ticks": ""
            },
            "colorscale": [
             [
              0,
              "#0d0887"
             ],
             [
              0.1111111111111111,
              "#46039f"
             ],
             [
              0.2222222222222222,
              "#7201a8"
             ],
             [
              0.3333333333333333,
              "#9c179e"
             ],
             [
              0.4444444444444444,
              "#bd3786"
             ],
             [
              0.5555555555555556,
              "#d8576b"
             ],
             [
              0.6666666666666666,
              "#ed7953"
             ],
             [
              0.7777777777777778,
              "#fb9f3a"
             ],
             [
              0.8888888888888888,
              "#fdca26"
             ],
             [
              1,
              "#f0f921"
             ]
            ],
            "type": "histogram2d"
           }
          ],
          "histogram2dcontour": [
           {
            "colorbar": {
             "outlinewidth": 0,
             "ticks": ""
            },
            "colorscale": [
             [
              0,
              "#0d0887"
             ],
             [
              0.1111111111111111,
              "#46039f"
             ],
             [
              0.2222222222222222,
              "#7201a8"
             ],
             [
              0.3333333333333333,
              "#9c179e"
             ],
             [
              0.4444444444444444,
              "#bd3786"
             ],
             [
              0.5555555555555556,
              "#d8576b"
             ],
             [
              0.6666666666666666,
              "#ed7953"
             ],
             [
              0.7777777777777778,
              "#fb9f3a"
             ],
             [
              0.8888888888888888,
              "#fdca26"
             ],
             [
              1,
              "#f0f921"
             ]
            ],
            "type": "histogram2dcontour"
           }
          ],
          "mesh3d": [
           {
            "colorbar": {
             "outlinewidth": 0,
             "ticks": ""
            },
            "type": "mesh3d"
           }
          ],
          "parcoords": [
           {
            "line": {
             "colorbar": {
              "outlinewidth": 0,
              "ticks": ""
             }
            },
            "type": "parcoords"
           }
          ],
          "pie": [
           {
            "automargin": true,
            "type": "pie"
           }
          ],
          "scatter": [
           {
            "fillpattern": {
             "fillmode": "overlay",
             "size": 10,
             "solidity": 0.2
            },
            "type": "scatter"
           }
          ],
          "scatter3d": [
           {
            "line": {
             "colorbar": {
              "outlinewidth": 0,
              "ticks": ""
             }
            },
            "marker": {
             "colorbar": {
              "outlinewidth": 0,
              "ticks": ""
             }
            },
            "type": "scatter3d"
           }
          ],
          "scattercarpet": [
           {
            "marker": {
             "colorbar": {
              "outlinewidth": 0,
              "ticks": ""
             }
            },
            "type": "scattercarpet"
           }
          ],
          "scattergeo": [
           {
            "marker": {
             "colorbar": {
              "outlinewidth": 0,
              "ticks": ""
             }
            },
            "type": "scattergeo"
           }
          ],
          "scattergl": [
           {
            "marker": {
             "colorbar": {
              "outlinewidth": 0,
              "ticks": ""
             }
            },
            "type": "scattergl"
           }
          ],
          "scattermapbox": [
           {
            "marker": {
             "colorbar": {
              "outlinewidth": 0,
              "ticks": ""
             }
            },
            "type": "scattermapbox"
           }
          ],
          "scatterpolar": [
           {
            "marker": {
             "colorbar": {
              "outlinewidth": 0,
              "ticks": ""
             }
            },
            "type": "scatterpolar"
           }
          ],
          "scatterpolargl": [
           {
            "marker": {
             "colorbar": {
              "outlinewidth": 0,
              "ticks": ""
             }
            },
            "type": "scatterpolargl"
           }
          ],
          "scatterternary": [
           {
            "marker": {
             "colorbar": {
              "outlinewidth": 0,
              "ticks": ""
             }
            },
            "type": "scatterternary"
           }
          ],
          "surface": [
           {
            "colorbar": {
             "outlinewidth": 0,
             "ticks": ""
            },
            "colorscale": [
             [
              0,
              "#0d0887"
             ],
             [
              0.1111111111111111,
              "#46039f"
             ],
             [
              0.2222222222222222,
              "#7201a8"
             ],
             [
              0.3333333333333333,
              "#9c179e"
             ],
             [
              0.4444444444444444,
              "#bd3786"
             ],
             [
              0.5555555555555556,
              "#d8576b"
             ],
             [
              0.6666666666666666,
              "#ed7953"
             ],
             [
              0.7777777777777778,
              "#fb9f3a"
             ],
             [
              0.8888888888888888,
              "#fdca26"
             ],
             [
              1,
              "#f0f921"
             ]
            ],
            "type": "surface"
           }
          ],
          "table": [
           {
            "cells": {
             "fill": {
              "color": "#EBF0F8"
             },
             "line": {
              "color": "white"
             }
            },
            "header": {
             "fill": {
              "color": "#C8D4E3"
             },
             "line": {
              "color": "white"
             }
            },
            "type": "table"
           }
          ]
         },
         "layout": {
          "annotationdefaults": {
           "arrowcolor": "#2a3f5f",
           "arrowhead": 0,
           "arrowwidth": 1
          },
          "autotypenumbers": "strict",
          "coloraxis": {
           "colorbar": {
            "outlinewidth": 0,
            "ticks": ""
           }
          },
          "colorscale": {
           "diverging": [
            [
             0,
             "#8e0152"
            ],
            [
             0.1,
             "#c51b7d"
            ],
            [
             0.2,
             "#de77ae"
            ],
            [
             0.3,
             "#f1b6da"
            ],
            [
             0.4,
             "#fde0ef"
            ],
            [
             0.5,
             "#f7f7f7"
            ],
            [
             0.6,
             "#e6f5d0"
            ],
            [
             0.7,
             "#b8e186"
            ],
            [
             0.8,
             "#7fbc41"
            ],
            [
             0.9,
             "#4d9221"
            ],
            [
             1,
             "#276419"
            ]
           ],
           "sequential": [
            [
             0,
             "#0d0887"
            ],
            [
             0.1111111111111111,
             "#46039f"
            ],
            [
             0.2222222222222222,
             "#7201a8"
            ],
            [
             0.3333333333333333,
             "#9c179e"
            ],
            [
             0.4444444444444444,
             "#bd3786"
            ],
            [
             0.5555555555555556,
             "#d8576b"
            ],
            [
             0.6666666666666666,
             "#ed7953"
            ],
            [
             0.7777777777777778,
             "#fb9f3a"
            ],
            [
             0.8888888888888888,
             "#fdca26"
            ],
            [
             1,
             "#f0f921"
            ]
           ],
           "sequentialminus": [
            [
             0,
             "#0d0887"
            ],
            [
             0.1111111111111111,
             "#46039f"
            ],
            [
             0.2222222222222222,
             "#7201a8"
            ],
            [
             0.3333333333333333,
             "#9c179e"
            ],
            [
             0.4444444444444444,
             "#bd3786"
            ],
            [
             0.5555555555555556,
             "#d8576b"
            ],
            [
             0.6666666666666666,
             "#ed7953"
            ],
            [
             0.7777777777777778,
             "#fb9f3a"
            ],
            [
             0.8888888888888888,
             "#fdca26"
            ],
            [
             1,
             "#f0f921"
            ]
           ]
          },
          "colorway": [
           "#636efa",
           "#EF553B",
           "#00cc96",
           "#ab63fa",
           "#FFA15A",
           "#19d3f3",
           "#FF6692",
           "#B6E880",
           "#FF97FF",
           "#FECB52"
          ],
          "font": {
           "color": "#2a3f5f"
          },
          "geo": {
           "bgcolor": "white",
           "lakecolor": "white",
           "landcolor": "#E5ECF6",
           "showlakes": true,
           "showland": true,
           "subunitcolor": "white"
          },
          "hoverlabel": {
           "align": "left"
          },
          "hovermode": "closest",
          "mapbox": {
           "style": "light"
          },
          "paper_bgcolor": "white",
          "plot_bgcolor": "#E5ECF6",
          "polar": {
           "angularaxis": {
            "gridcolor": "white",
            "linecolor": "white",
            "ticks": ""
           },
           "bgcolor": "#E5ECF6",
           "radialaxis": {
            "gridcolor": "white",
            "linecolor": "white",
            "ticks": ""
           }
          },
          "scene": {
           "xaxis": {
            "backgroundcolor": "#E5ECF6",
            "gridcolor": "white",
            "gridwidth": 2,
            "linecolor": "white",
            "showbackground": true,
            "ticks": "",
            "zerolinecolor": "white"
           },
           "yaxis": {
            "backgroundcolor": "#E5ECF6",
            "gridcolor": "white",
            "gridwidth": 2,
            "linecolor": "white",
            "showbackground": true,
            "ticks": "",
            "zerolinecolor": "white"
           },
           "zaxis": {
            "backgroundcolor": "#E5ECF6",
            "gridcolor": "white",
            "gridwidth": 2,
            "linecolor": "white",
            "showbackground": true,
            "ticks": "",
            "zerolinecolor": "white"
           }
          },
          "shapedefaults": {
           "line": {
            "color": "#2a3f5f"
           }
          },
          "ternary": {
           "aaxis": {
            "gridcolor": "white",
            "linecolor": "white",
            "ticks": ""
           },
           "baxis": {
            "gridcolor": "white",
            "linecolor": "white",
            "ticks": ""
           },
           "bgcolor": "#E5ECF6",
           "caxis": {
            "gridcolor": "white",
            "linecolor": "white",
            "ticks": ""
           }
          },
          "title": {
           "x": 0.05
          },
          "xaxis": {
           "automargin": true,
           "gridcolor": "white",
           "linecolor": "white",
           "ticks": "",
           "title": {
            "standoff": 15
           },
           "zerolinecolor": "white",
           "zerolinewidth": 2
          },
          "yaxis": {
           "automargin": true,
           "gridcolor": "white",
           "linecolor": "white",
           "ticks": "",
           "title": {
            "standoff": 15
           },
           "zerolinecolor": "white",
           "zerolinewidth": 2
          }
         }
        },
        "xaxis": {
         "anchor": "y",
         "domain": [
          0,
          1
         ],
         "title": {
          "text": "Actual y"
         }
        },
        "yaxis": {
         "anchor": "x",
         "domain": [
          0,
          1
         ],
         "title": {
          "text": "Predicted y"
         }
        }
       }
      }
     },
     "metadata": {},
     "output_type": "display_data"
    },
    {
     "data": {
      "image/png": "[encoded data removed]",
      "text/plain": [
       "<Figure size 640x480 with 1 Axes>"
      ]
     },
     "metadata": {},
     "output_type": "display_data"
    }
   ],
   "source": [
    "import xgboost as xgb\n",
    "\n",
    "model = xgb.sklearn.XGBRegressor(tree_method='hist', objective='reg:squarederror', n_estimators = 2500,\n",
    "                         learning_rate=0.01)\n",
    "\n",
    "model.fit(X_train.astype('float64'), y_train) # Cast bool -> float64 (0, 1)\n",
    "y_pred = model.predict(X_test)\n",
    "y_train_pred = model.predict(X_train)\n",
    "\n",
    "print(f\"Train\\nScore:{model.score(X_train, y_train_pred)}\")\n",
    "calculate_score(y_train, y_train_pred)\n",
    "\n",
    "print(f\"Test\\nScore:{model.score(X_test, y_test)}\")\n",
    "calculate_score(y_test, y_pred)\n",
    "\n",
    "xgb.plot_importance(model.get_booster(), max_num_features=40)\n",
    "\n",
    "plot(y_test, y_pred)"
   ]
  },
  {
   "cell_type": "markdown",
   "metadata": {
    "collapsed": false
   },
   "source": [
    "### Model 4: Neural Networks"
   ]
  },
  {
   "cell_type": "code",
   "execution_count": 14,
   "metadata": {
    "collapsed": false
   },
   "outputs": [],
   "source": [
    "X_train, X_val_and_test, y_train, y_val_and_test = train_test_split(X, Y, test_size=0.33, random_state=101)\n",
    "\n",
    "s_scaler = StandardScaler()\n",
    "X_train = s_scaler.fit_transform(X_train.astype(np.float64))\n",
    "X_val_and_test = s_scaler.transform(X_val_and_test.astype(np.float64))\n",
    "\n",
    "X_val, X_test, y_val, y_test = train_test_split(X_val_and_test, y_val_and_test, test_size=0.5)"
   ]
  },
  {
   "cell_type": "code",
   "execution_count": 15,
   "metadata": {
    "collapsed": false
   },
   "outputs": [],
   "source": [
    "from keras.models import Sequential\n",
    "from keras.layers import Dense\n",
    "\n",
    "model = Sequential()\n",
    "\n",
    "model.add(Dense(256, activation='linear', input_shape=(len(X_val.columns), )))\n",
    "model.add(Dense(128, activation='linear'))\n",
    "model.add(Dense(64, activation='linear'))\n",
    "model.add(Dense(32, activation='linear'))\n",
    "model.add(Dense(16, activation='linear'))\n",
    "model.add(Dense(8, activation='linear'))\n",
    "model.add(Dense(1, activation='linear'))\n",
    "\n",
    "model.compile(loss='mean_squared_error', optimizer='adam')"
   ]
  },
  {
   "attachments": {},
   "cell_type": "markdown",
   "metadata": {
    "collapsed": false
   },
   "source": [
    "Input (n layers) -> Hidden Layer(s) (256, 128, ..., 8) -> Output (1 layer): Price"
   ]
  },
  {
   "cell_type": "code",
   "execution_count": 16,
   "metadata": {
    "collapsed": false
   },
   "outputs": [
    {
     "name": "stdout",
     "output_type": "stream",
     "text": [
      "Epoch 1/600\n"
     ]
    },
    {
     "name": "stderr",
     "output_type": "stream",
     "text": [
      "2023-04-14 14:10:52.566905: W tensorflow/tsl/platform/profile_utils/cpu_utils.cc:128] Failed to get CPU frequency: 0 Hz\n"
     ]
    },
    {
     "name": "stdout",
     "output_type": "stream",
     "text": [
      "15/15 [==============================] - 0s 6ms/step - loss: 47316.6836 - val_loss: 39468.9023\n",
      "Epoch 2/600\n",
      "15/15 [==============================] - 0s 2ms/step - loss: 39636.9883 - val_loss: 34728.8945\n",
      "Epoch 3/600\n",
      "15/15 [==============================] - 0s 2ms/step - loss: 34253.2734 - val_loss: 28985.7363\n",
      "Epoch 4/600\n",
      "15/15 [==============================] - 0s 2ms/step - loss: 25775.6270 - val_loss: 18148.8574\n",
      "Epoch 5/600\n",
      "15/15 [==============================] - 0s 2ms/step - loss: 12067.0928 - val_loss: 7879.9346\n",
      "Epoch 6/600\n",
      "15/15 [==============================] - 0s 2ms/step - loss: 9180.5596 - val_loss: 7195.9941\n",
      "Epoch 7/600\n",
      "15/15 [==============================] - 0s 2ms/step - loss: 8842.1943 - val_loss: 6438.1069\n",
      "Epoch 8/600\n",
      "15/15 [==============================] - 0s 2ms/step - loss: 8056.8379 - val_loss: 6994.3623\n",
      "Epoch 9/600\n",
      "15/15 [==============================] - 0s 2ms/step - loss: 7721.3799 - val_loss: 6835.1538\n",
      "Epoch 10/600\n",
      "15/15 [==============================] - 0s 2ms/step - loss: 7669.5327 - val_loss: 6522.2173\n",
      "Epoch 11/600\n",
      "15/15 [==============================] - 0s 2ms/step - loss: 7518.5083 - val_loss: 6599.2388\n",
      "Epoch 12/600\n",
      "15/15 [==============================] - 0s 2ms/step - loss: 7725.6870 - val_loss: 6960.5527\n",
      "Epoch 13/600\n",
      "15/15 [==============================] - 0s 2ms/step - loss: 7604.3950 - val_loss: 6635.8369\n",
      "Epoch 14/600\n",
      "15/15 [==============================] - 0s 2ms/step - loss: 7628.3276 - val_loss: 7319.7837\n",
      "Epoch 15/600\n",
      "15/15 [==============================] - 0s 2ms/step - loss: 7574.9434 - val_loss: 6794.9341\n",
      "Epoch 16/600\n",
      "15/15 [==============================] - 0s 2ms/step - loss: 7554.8384 - val_loss: 6918.6211\n",
      "Epoch 17/600\n",
      "15/15 [==============================] - 0s 2ms/step - loss: 7542.2617 - val_loss: 6635.4102\n",
      "Epoch 18/600\n",
      "15/15 [==============================] - 0s 2ms/step - loss: 7544.3999 - val_loss: 6566.3433\n",
      "Epoch 19/600\n",
      "15/15 [==============================] - 0s 2ms/step - loss: 7494.0522 - val_loss: 6718.7344\n",
      "Epoch 20/600\n",
      "15/15 [==============================] - 0s 2ms/step - loss: 7495.6016 - val_loss: 6472.9873\n",
      "Epoch 21/600\n",
      "15/15 [==============================] - 0s 2ms/step - loss: 7450.7856 - val_loss: 6596.4521\n",
      "Epoch 22/600\n",
      "15/15 [==============================] - 0s 3ms/step - loss: 7327.6328 - val_loss: 6716.9834\n",
      "Epoch 23/600\n",
      "15/15 [==============================] - 0s 2ms/step - loss: 7315.4272 - val_loss: 6551.0464\n",
      "Epoch 24/600\n",
      "15/15 [==============================] - 0s 2ms/step - loss: 7366.3286 - val_loss: 6229.0806\n",
      "Epoch 25/600\n",
      "15/15 [==============================] - 0s 2ms/step - loss: 7360.9209 - val_loss: 6990.4380\n",
      "Epoch 26/600\n",
      "15/15 [==============================] - 0s 2ms/step - loss: 7461.5869 - val_loss: 6500.3135\n",
      "Epoch 27/600\n",
      "15/15 [==============================] - 0s 2ms/step - loss: 7408.0308 - val_loss: 6496.8457\n",
      "Epoch 28/600\n",
      "15/15 [==============================] - 0s 2ms/step - loss: 7490.2207 - val_loss: 6443.8442\n",
      "Epoch 29/600\n",
      "15/15 [==============================] - 0s 2ms/step - loss: 7444.4072 - val_loss: 6353.2861\n",
      "Epoch 30/600\n",
      "15/15 [==============================] - 0s 2ms/step - loss: 7420.6528 - val_loss: 6728.1353\n",
      "Epoch 31/600\n",
      "15/15 [==============================] - 0s 2ms/step - loss: 7361.9194 - val_loss: 6710.4414\n",
      "Epoch 32/600\n",
      "15/15 [==============================] - 0s 2ms/step - loss: 7350.0005 - val_loss: 6512.5508\n",
      "Epoch 33/600\n",
      "15/15 [==============================] - 0s 2ms/step - loss: 7421.5908 - val_loss: 6840.1626\n",
      "Epoch 34/600\n",
      "15/15 [==============================] - 0s 2ms/step - loss: 7673.0488 - val_loss: 6555.9526\n",
      "Epoch 35/600\n",
      "15/15 [==============================] - 0s 2ms/step - loss: 7657.8975 - val_loss: 6266.8091\n",
      "Epoch 36/600\n",
      "15/15 [==============================] - 0s 2ms/step - loss: 7451.7334 - val_loss: 6261.0103\n",
      "Epoch 37/600\n",
      "15/15 [==============================] - 0s 2ms/step - loss: 7248.9810 - val_loss: 6718.1353\n",
      "Epoch 38/600\n",
      "15/15 [==============================] - 0s 2ms/step - loss: 7432.9468 - val_loss: 6437.2793\n",
      "Epoch 39/600\n",
      "15/15 [==============================] - 0s 2ms/step - loss: 7340.7334 - val_loss: 6376.6299\n",
      "Epoch 40/600\n",
      "15/15 [==============================] - 0s 2ms/step - loss: 7233.0903 - val_loss: 6459.2266\n",
      "Epoch 41/600\n",
      "15/15 [==============================] - 0s 2ms/step - loss: 7261.6851 - val_loss: 6644.7798\n",
      "Epoch 42/600\n",
      "15/15 [==============================] - 0s 2ms/step - loss: 7343.6460 - val_loss: 6712.2563\n",
      "Epoch 43/600\n",
      "15/15 [==============================] - 0s 2ms/step - loss: 7426.3657 - val_loss: 6380.1323\n",
      "Epoch 44/600\n",
      "15/15 [==============================] - 0s 2ms/step - loss: 7348.0615 - val_loss: 6742.2817\n",
      "Epoch 45/600\n",
      "15/15 [==============================] - 0s 2ms/step - loss: 7237.6548 - val_loss: 6364.4668\n",
      "Epoch 46/600\n",
      "15/15 [==============================] - 0s 2ms/step - loss: 7219.9434 - val_loss: 6304.0122\n",
      "Epoch 47/600\n",
      "15/15 [==============================] - 0s 2ms/step - loss: 7155.4922 - val_loss: 6517.7500\n",
      "Epoch 48/600\n",
      "15/15 [==============================] - 0s 2ms/step - loss: 7350.7915 - val_loss: 6946.4644\n",
      "Epoch 49/600\n",
      "15/15 [==============================] - 0s 3ms/step - loss: 7257.8521 - val_loss: 6754.2334\n",
      "Epoch 50/600\n",
      "15/15 [==============================] - 0s 2ms/step - loss: 7297.2358 - val_loss: 6593.6826\n",
      "Epoch 51/600\n",
      "15/15 [==============================] - 0s 2ms/step - loss: 7226.3613 - val_loss: 6390.0190\n",
      "Epoch 52/600\n",
      "15/15 [==============================] - 0s 2ms/step - loss: 7283.0015 - val_loss: 6432.4780\n",
      "Epoch 53/600\n",
      "15/15 [==============================] - 0s 2ms/step - loss: 7181.2656 - val_loss: 6503.7124\n",
      "Epoch 54/600\n",
      "15/15 [==============================] - 0s 2ms/step - loss: 7222.2432 - val_loss: 6758.2373\n",
      "Epoch 55/600\n",
      "15/15 [==============================] - 0s 2ms/step - loss: 7186.4727 - val_loss: 6482.6777\n",
      "Epoch 56/600\n",
      "15/15 [==============================] - 0s 2ms/step - loss: 7240.6123 - val_loss: 6602.2930\n",
      "Epoch 57/600\n",
      "15/15 [==============================] - 0s 2ms/step - loss: 7150.2554 - val_loss: 6517.6245\n",
      "Epoch 58/600\n",
      "15/15 [==============================] - 0s 2ms/step - loss: 7149.3203 - val_loss: 6382.2725\n",
      "Epoch 59/600\n",
      "15/15 [==============================] - 0s 2ms/step - loss: 7149.9531 - val_loss: 6475.1562\n",
      "Epoch 60/600\n",
      "15/15 [==============================] - 0s 2ms/step - loss: 7306.5518 - val_loss: 6532.3701\n",
      "Epoch 61/600\n",
      "15/15 [==============================] - 0s 2ms/step - loss: 7263.0454 - val_loss: 6413.8931\n",
      "Epoch 62/600\n",
      "15/15 [==============================] - 0s 2ms/step - loss: 7263.5947 - val_loss: 6490.1992\n",
      "Epoch 63/600\n",
      "15/15 [==============================] - 0s 2ms/step - loss: 7104.7324 - val_loss: 6482.7793\n",
      "Epoch 64/600\n",
      "15/15 [==============================] - 0s 2ms/step - loss: 7154.0913 - val_loss: 6352.9858\n",
      "Epoch 65/600\n",
      "15/15 [==============================] - 0s 2ms/step - loss: 7232.2422 - val_loss: 6451.6519\n",
      "Epoch 66/600\n",
      "15/15 [==============================] - 0s 2ms/step - loss: 7213.5317 - val_loss: 6940.4766\n",
      "Epoch 67/600\n",
      "15/15 [==============================] - 0s 2ms/step - loss: 7521.2280 - val_loss: 6718.5723\n",
      "Epoch 68/600\n",
      "15/15 [==============================] - 0s 2ms/step - loss: 7304.6895 - val_loss: 6442.1846\n",
      "Epoch 69/600\n",
      "15/15 [==============================] - 0s 2ms/step - loss: 7095.4390 - val_loss: 6593.7949\n",
      "Epoch 70/600\n",
      "15/15 [==============================] - 0s 2ms/step - loss: 7158.8867 - val_loss: 6620.9814\n",
      "Epoch 71/600\n",
      "15/15 [==============================] - 0s 2ms/step - loss: 7318.7104 - val_loss: 6237.1421\n",
      "Epoch 72/600\n",
      "15/15 [==============================] - 0s 2ms/step - loss: 7337.0981 - val_loss: 6460.2944\n",
      "Epoch 73/600\n",
      "15/15 [==============================] - 0s 4ms/step - loss: 7257.8018 - val_loss: 6474.4819\n",
      "Epoch 74/600\n",
      "15/15 [==============================] - 0s 2ms/step - loss: 7101.0181 - val_loss: 6440.0063\n",
      "Epoch 75/600\n",
      "15/15 [==============================] - 0s 2ms/step - loss: 7111.4893 - val_loss: 6808.2378\n",
      "Epoch 76/600\n",
      "15/15 [==============================] - 0s 2ms/step - loss: 7126.2490 - val_loss: 6244.2725\n",
      "Epoch 77/600\n",
      "15/15 [==============================] - 0s 2ms/step - loss: 7116.1572 - val_loss: 6487.8418\n",
      "Epoch 78/600\n",
      "15/15 [==============================] - 0s 2ms/step - loss: 7178.1885 - val_loss: 6705.5234\n",
      "Epoch 79/600\n",
      "15/15 [==============================] - 0s 2ms/step - loss: 7332.9175 - val_loss: 6776.8154\n",
      "Epoch 80/600\n",
      "15/15 [==============================] - 0s 2ms/step - loss: 7169.9370 - val_loss: 6458.4551\n",
      "Epoch 81/600\n",
      "15/15 [==============================] - 0s 2ms/step - loss: 7223.5542 - val_loss: 6545.1777\n",
      "Epoch 82/600\n",
      "15/15 [==============================] - 0s 2ms/step - loss: 7180.7710 - val_loss: 6603.0229\n",
      "Epoch 83/600\n",
      "15/15 [==============================] - 0s 2ms/step - loss: 7172.2021 - val_loss: 6284.6465\n",
      "Epoch 84/600\n",
      "15/15 [==============================] - 0s 2ms/step - loss: 7140.9961 - val_loss: 6374.0845\n",
      "Epoch 85/600\n",
      "15/15 [==============================] - 0s 2ms/step - loss: 7073.3125 - val_loss: 6433.5244\n",
      "Epoch 86/600\n",
      "15/15 [==============================] - 0s 2ms/step - loss: 7123.7275 - val_loss: 6428.7295\n",
      "Epoch 87/600\n",
      "15/15 [==============================] - 0s 2ms/step - loss: 7200.8491 - val_loss: 6570.3862\n",
      "Epoch 88/600\n",
      "15/15 [==============================] - 0s 2ms/step - loss: 7349.4023 - val_loss: 6848.2090\n",
      "Epoch 89/600\n",
      "15/15 [==============================] - 0s 2ms/step - loss: 7298.9932 - val_loss: 6340.9565\n",
      "Epoch 90/600\n",
      "15/15 [==============================] - 0s 2ms/step - loss: 7300.1357 - val_loss: 6709.9463\n",
      "Epoch 91/600\n",
      "15/15 [==============================] - 0s 2ms/step - loss: 7228.4380 - val_loss: 6467.4917\n",
      "Epoch 92/600\n",
      "15/15 [==============================] - 0s 2ms/step - loss: 7145.8286 - val_loss: 6609.5093\n",
      "Epoch 93/600\n",
      "15/15 [==============================] - 0s 2ms/step - loss: 7071.8379 - val_loss: 6446.6699\n",
      "Epoch 94/600\n",
      "15/15 [==============================] - 0s 2ms/step - loss: 7136.4604 - val_loss: 6417.6621\n",
      "Epoch 95/600\n",
      "15/15 [==============================] - 0s 2ms/step - loss: 7114.6948 - val_loss: 6565.5493\n",
      "Epoch 96/600\n",
      "15/15 [==============================] - 0s 2ms/step - loss: 7146.5571 - val_loss: 6538.4150\n",
      "Epoch 97/600\n",
      "15/15 [==============================] - 0s 2ms/step - loss: 7166.4961 - val_loss: 6565.2788\n",
      "Epoch 98/600\n",
      "15/15 [==============================] - 0s 2ms/step - loss: 7121.6240 - val_loss: 6605.7256\n",
      "Epoch 99/600\n",
      "15/15 [==============================] - 0s 3ms/step - loss: 7092.5503 - val_loss: 6291.2520\n",
      "Epoch 100/600\n",
      "15/15 [==============================] - 0s 2ms/step - loss: 7072.5225 - val_loss: 6505.4321\n",
      "Epoch 101/600\n",
      "15/15 [==============================] - 0s 2ms/step - loss: 7136.0356 - val_loss: 6377.6060\n",
      "Epoch 102/600\n",
      "15/15 [==============================] - 0s 2ms/step - loss: 7102.4858 - val_loss: 6625.3267\n",
      "Epoch 103/600\n",
      "15/15 [==============================] - 0s 2ms/step - loss: 7218.7778 - val_loss: 6472.2422\n",
      "Epoch 104/600\n",
      "15/15 [==============================] - 0s 2ms/step - loss: 7175.5605 - val_loss: 6486.0688\n",
      "Epoch 105/600\n",
      "15/15 [==============================] - 0s 2ms/step - loss: 7130.7134 - val_loss: 6401.4844\n",
      "Epoch 106/600\n",
      "15/15 [==============================] - 0s 2ms/step - loss: 7181.8081 - val_loss: 6358.7178\n",
      "Epoch 107/600\n",
      "15/15 [==============================] - 0s 2ms/step - loss: 7142.2251 - val_loss: 6520.1011\n",
      "Epoch 108/600\n",
      "15/15 [==============================] - 0s 2ms/step - loss: 7097.6758 - val_loss: 6759.4136\n",
      "Epoch 109/600\n",
      "15/15 [==============================] - 0s 2ms/step - loss: 7345.8706 - val_loss: 6382.7349\n",
      "Epoch 110/600\n",
      "15/15 [==============================] - 0s 2ms/step - loss: 7140.3809 - val_loss: 6660.3706\n",
      "Epoch 111/600\n",
      "15/15 [==============================] - 0s 2ms/step - loss: 7250.2222 - val_loss: 6903.0557\n",
      "Epoch 112/600\n",
      "15/15 [==============================] - 0s 2ms/step - loss: 7181.0474 - val_loss: 6621.4702\n",
      "Epoch 113/600\n",
      "15/15 [==============================] - 0s 2ms/step - loss: 7229.9941 - val_loss: 6451.3022\n",
      "Epoch 114/600\n",
      "15/15 [==============================] - 0s 2ms/step - loss: 7199.0200 - val_loss: 6374.4873\n",
      "Epoch 115/600\n",
      "15/15 [==============================] - 0s 2ms/step - loss: 7177.4741 - val_loss: 6446.1265\n",
      "Epoch 116/600\n",
      "15/15 [==============================] - 0s 2ms/step - loss: 7069.7632 - val_loss: 6494.7344\n",
      "Epoch 117/600\n",
      "15/15 [==============================] - 0s 2ms/step - loss: 7104.7192 - val_loss: 6486.3843\n",
      "Epoch 118/600\n",
      "15/15 [==============================] - 0s 2ms/step - loss: 7088.2480 - val_loss: 6386.7490\n",
      "Epoch 119/600\n",
      "15/15 [==============================] - 0s 2ms/step - loss: 7164.6484 - val_loss: 6607.0991\n",
      "Epoch 120/600\n",
      "15/15 [==============================] - 0s 2ms/step - loss: 7131.4819 - val_loss: 6399.6899\n",
      "Epoch 121/600\n",
      "15/15 [==============================] - 0s 2ms/step - loss: 7050.7144 - val_loss: 6541.5312\n",
      "Epoch 122/600\n",
      "15/15 [==============================] - 0s 2ms/step - loss: 7228.6104 - val_loss: 6572.8022\n",
      "Epoch 123/600\n",
      "15/15 [==============================] - 0s 2ms/step - loss: 7074.4341 - val_loss: 6319.2949\n",
      "Epoch 124/600\n",
      "15/15 [==============================] - 0s 2ms/step - loss: 7109.9219 - val_loss: 6429.8853\n",
      "Epoch 125/600\n",
      "15/15 [==============================] - 0s 2ms/step - loss: 7107.2466 - val_loss: 6452.9268\n",
      "Epoch 126/600\n",
      "15/15 [==============================] - 0s 2ms/step - loss: 7073.3828 - val_loss: 6422.7422\n",
      "Epoch 127/600\n",
      "15/15 [==============================] - 0s 3ms/step - loss: 7162.1450 - val_loss: 6534.5815\n",
      "Epoch 128/600\n",
      "15/15 [==============================] - 0s 2ms/step - loss: 7144.2529 - val_loss: 6412.8628\n",
      "Epoch 129/600\n",
      "15/15 [==============================] - 0s 2ms/step - loss: 7150.2290 - val_loss: 6667.2334\n",
      "Epoch 130/600\n",
      "15/15 [==============================] - 0s 2ms/step - loss: 7129.3228 - val_loss: 6432.7871\n",
      "Epoch 131/600\n",
      "15/15 [==============================] - 0s 2ms/step - loss: 7065.6963 - val_loss: 6471.3389\n",
      "Epoch 132/600\n",
      "15/15 [==============================] - 0s 2ms/step - loss: 7116.4619 - val_loss: 6784.3018\n",
      "Epoch 133/600\n",
      "15/15 [==============================] - 0s 2ms/step - loss: 7250.6631 - val_loss: 6553.7192\n",
      "Epoch 134/600\n",
      "15/15 [==============================] - 0s 2ms/step - loss: 7165.3052 - val_loss: 6931.2300\n",
      "Epoch 135/600\n",
      "15/15 [==============================] - 0s 2ms/step - loss: 7176.8608 - val_loss: 6747.8301\n",
      "Epoch 136/600\n",
      "15/15 [==============================] - 0s 2ms/step - loss: 7139.5127 - val_loss: 6381.5054\n",
      "Epoch 137/600\n",
      "15/15 [==============================] - 0s 2ms/step - loss: 7098.9478 - val_loss: 6662.1758\n",
      "Epoch 138/600\n",
      "15/15 [==============================] - 0s 2ms/step - loss: 7221.5591 - val_loss: 6386.1494\n",
      "Epoch 139/600\n",
      "15/15 [==============================] - 0s 2ms/step - loss: 7114.1934 - val_loss: 6863.3560\n",
      "Epoch 140/600\n",
      "15/15 [==============================] - 0s 2ms/step - loss: 7342.0181 - val_loss: 6569.2407\n",
      "Epoch 141/600\n",
      "15/15 [==============================] - 0s 2ms/step - loss: 7081.9316 - val_loss: 6550.1724\n",
      "Epoch 142/600\n",
      "15/15 [==============================] - 0s 2ms/step - loss: 7068.9316 - val_loss: 6395.9619\n",
      "Epoch 143/600\n",
      "15/15 [==============================] - 0s 2ms/step - loss: 7037.2939 - val_loss: 6699.8140\n",
      "Epoch 144/600\n",
      "15/15 [==============================] - 0s 2ms/step - loss: 7112.2666 - val_loss: 6297.8809\n",
      "Epoch 145/600\n",
      "15/15 [==============================] - 0s 2ms/step - loss: 7069.7832 - val_loss: 6450.8906\n",
      "Epoch 146/600\n",
      "15/15 [==============================] - 0s 2ms/step - loss: 7086.8462 - val_loss: 6473.7666\n",
      "Epoch 147/600\n",
      "15/15 [==============================] - 0s 2ms/step - loss: 7087.1274 - val_loss: 6500.0503\n",
      "Epoch 148/600\n",
      "15/15 [==============================] - 0s 2ms/step - loss: 7043.5044 - val_loss: 6344.2607\n",
      "Epoch 149/600\n",
      "15/15 [==============================] - 0s 3ms/step - loss: 7044.3457 - val_loss: 6602.6777\n",
      "Epoch 150/600\n",
      "15/15 [==============================] - 0s 2ms/step - loss: 7029.3970 - val_loss: 6284.9336\n",
      "Epoch 151/600\n",
      "15/15 [==============================] - 0s 2ms/step - loss: 7059.9966 - val_loss: 6598.7554\n",
      "Epoch 152/600\n",
      "15/15 [==============================] - 0s 2ms/step - loss: 7305.5742 - val_loss: 6899.5386\n",
      "Epoch 153/600\n",
      "15/15 [==============================] - 0s 2ms/step - loss: 7151.7476 - val_loss: 6289.8257\n",
      "Epoch 154/600\n",
      "15/15 [==============================] - 0s 2ms/step - loss: 7080.5645 - val_loss: 6411.9487\n",
      "Epoch 155/600\n",
      "15/15 [==============================] - 0s 2ms/step - loss: 7111.9575 - val_loss: 6334.0674\n",
      "Epoch 156/600\n",
      "15/15 [==============================] - 0s 2ms/step - loss: 7015.3022 - val_loss: 6455.7173\n",
      "Epoch 157/600\n",
      "15/15 [==============================] - 0s 2ms/step - loss: 7079.8057 - val_loss: 6428.7622\n",
      "Epoch 158/600\n",
      "15/15 [==============================] - 0s 2ms/step - loss: 7067.4429 - val_loss: 6510.1343\n",
      "Epoch 159/600\n",
      "15/15 [==============================] - 0s 2ms/step - loss: 7166.7710 - val_loss: 6874.4253\n",
      "Epoch 160/600\n",
      "15/15 [==============================] - 0s 2ms/step - loss: 7180.8018 - val_loss: 6308.1206\n",
      "Epoch 161/600\n",
      "15/15 [==============================] - 0s 2ms/step - loss: 7072.6108 - val_loss: 6427.0981\n",
      "Epoch 162/600\n",
      "15/15 [==============================] - 0s 2ms/step - loss: 7144.6489 - val_loss: 6777.0991\n",
      "Epoch 163/600\n",
      "15/15 [==============================] - 0s 2ms/step - loss: 7161.8906 - val_loss: 6539.4834\n",
      "Epoch 164/600\n",
      "15/15 [==============================] - 0s 2ms/step - loss: 7200.9648 - val_loss: 6685.1733\n",
      "Epoch 165/600\n",
      "15/15 [==============================] - 0s 2ms/step - loss: 7065.8730 - val_loss: 6329.5894\n",
      "Epoch 166/600\n",
      "15/15 [==============================] - 0s 2ms/step - loss: 7088.4487 - val_loss: 6383.6196\n",
      "Epoch 167/600\n",
      "15/15 [==============================] - 0s 2ms/step - loss: 7121.5376 - val_loss: 6295.5635\n",
      "Epoch 168/600\n",
      "15/15 [==============================] - 0s 2ms/step - loss: 7028.5903 - val_loss: 6612.1577\n",
      "Epoch 169/600\n",
      "15/15 [==============================] - 0s 3ms/step - loss: 7045.7686 - val_loss: 6323.0088\n",
      "Epoch 170/600\n",
      "15/15 [==============================] - 0s 2ms/step - loss: 7070.9194 - val_loss: 6541.0601\n",
      "Epoch 171/600\n",
      "15/15 [==============================] - 0s 2ms/step - loss: 7050.3760 - val_loss: 6339.7461\n",
      "Epoch 172/600\n",
      "15/15 [==============================] - 0s 2ms/step - loss: 7144.6348 - val_loss: 6355.7173\n",
      "Epoch 173/600\n",
      "15/15 [==============================] - 0s 2ms/step - loss: 7183.2446 - val_loss: 6514.6665\n",
      "Epoch 174/600\n",
      "15/15 [==============================] - 0s 2ms/step - loss: 7042.6216 - val_loss: 6331.5459\n",
      "Epoch 175/600\n",
      "15/15 [==============================] - 0s 2ms/step - loss: 7079.6738 - val_loss: 6503.2749\n",
      "Epoch 176/600\n",
      "15/15 [==============================] - 0s 2ms/step - loss: 7089.5518 - val_loss: 6432.7861\n",
      "Epoch 177/600\n",
      "15/15 [==============================] - 0s 2ms/step - loss: 7006.3569 - val_loss: 6480.3955\n",
      "Epoch 178/600\n",
      "15/15 [==============================] - 0s 2ms/step - loss: 7017.2588 - val_loss: 6371.7051\n",
      "Epoch 179/600\n",
      "15/15 [==============================] - 0s 2ms/step - loss: 7038.5591 - val_loss: 6398.9961\n",
      "Epoch 180/600\n",
      "15/15 [==============================] - 0s 2ms/step - loss: 7090.3027 - val_loss: 6564.0127\n",
      "Epoch 181/600\n",
      "15/15 [==============================] - 0s 2ms/step - loss: 7057.2026 - val_loss: 6287.5498\n",
      "Epoch 182/600\n",
      "15/15 [==============================] - 0s 2ms/step - loss: 7073.2158 - val_loss: 6369.9951\n",
      "Epoch 183/600\n",
      "15/15 [==============================] - 0s 2ms/step - loss: 7100.7300 - val_loss: 6556.2046\n",
      "Epoch 184/600\n",
      "15/15 [==============================] - 0s 2ms/step - loss: 7073.1533 - val_loss: 6330.1899\n",
      "Epoch 185/600\n",
      "15/15 [==============================] - 0s 2ms/step - loss: 7080.8999 - val_loss: 6573.6357\n",
      "Epoch 186/600\n",
      "15/15 [==============================] - 0s 2ms/step - loss: 7131.0332 - val_loss: 6414.0825\n",
      "Epoch 187/600\n",
      "15/15 [==============================] - 0s 2ms/step - loss: 7107.8486 - val_loss: 6559.8252\n",
      "Epoch 188/600\n",
      "15/15 [==============================] - 0s 3ms/step - loss: 7063.0244 - val_loss: 6383.5327\n",
      "Epoch 189/600\n",
      "15/15 [==============================] - 0s 2ms/step - loss: 7045.3145 - val_loss: 6463.7651\n",
      "Epoch 190/600\n",
      "15/15 [==============================] - 0s 2ms/step - loss: 7091.0122 - val_loss: 6379.7275\n",
      "Epoch 191/600\n",
      "15/15 [==============================] - 0s 2ms/step - loss: 7045.2109 - val_loss: 6630.6978\n",
      "Epoch 192/600\n",
      "15/15 [==============================] - 0s 2ms/step - loss: 7027.8359 - val_loss: 6511.6606\n",
      "Epoch 193/600\n",
      "15/15 [==============================] - 0s 2ms/step - loss: 7037.7549 - val_loss: 6429.3472\n",
      "Epoch 194/600\n",
      "15/15 [==============================] - 0s 2ms/step - loss: 7156.4863 - val_loss: 6488.1924\n",
      "Epoch 195/600\n",
      "15/15 [==============================] - 0s 2ms/step - loss: 7250.4307 - val_loss: 6497.5503\n",
      "Epoch 196/600\n",
      "15/15 [==============================] - 0s 2ms/step - loss: 7007.1738 - val_loss: 6367.1177\n",
      "Epoch 197/600\n",
      "15/15 [==============================] - 0s 2ms/step - loss: 7051.7256 - val_loss: 6440.5605\n",
      "Epoch 198/600\n",
      "15/15 [==============================] - 0s 2ms/step - loss: 7040.4683 - val_loss: 6409.7935\n",
      "Epoch 199/600\n",
      "15/15 [==============================] - 0s 2ms/step - loss: 7092.7793 - val_loss: 6532.5249\n",
      "Epoch 200/600\n",
      "15/15 [==============================] - 0s 2ms/step - loss: 7117.8696 - val_loss: 6561.9624\n",
      "Epoch 201/600\n",
      "15/15 [==============================] - 0s 2ms/step - loss: 7058.8364 - val_loss: 6391.9570\n",
      "Epoch 202/600\n",
      "15/15 [==============================] - 0s 2ms/step - loss: 7102.2075 - val_loss: 6610.1699\n",
      "Epoch 203/600\n",
      "15/15 [==============================] - 0s 2ms/step - loss: 7117.7490 - val_loss: 6371.5063\n",
      "Epoch 204/600\n",
      "15/15 [==============================] - 0s 2ms/step - loss: 7068.7822 - val_loss: 6384.0693\n",
      "Epoch 205/600\n",
      "15/15 [==============================] - 0s 2ms/step - loss: 7017.2031 - val_loss: 6508.1270\n",
      "Epoch 206/600\n",
      "15/15 [==============================] - 0s 2ms/step - loss: 7032.2861 - val_loss: 6366.0933\n",
      "Epoch 207/600\n",
      "15/15 [==============================] - 0s 2ms/step - loss: 7025.9126 - val_loss: 6494.8804\n",
      "Epoch 208/600\n",
      "15/15 [==============================] - 0s 3ms/step - loss: 7049.8057 - val_loss: 6444.1953\n",
      "Epoch 209/600\n",
      "15/15 [==============================] - 0s 2ms/step - loss: 7063.6748 - val_loss: 6579.0571\n",
      "Epoch 210/600\n",
      "15/15 [==============================] - 0s 2ms/step - loss: 7051.0459 - val_loss: 6537.4844\n",
      "Epoch 211/600\n",
      "15/15 [==============================] - 0s 2ms/step - loss: 7044.5532 - val_loss: 6296.9780\n",
      "Epoch 212/600\n",
      "15/15 [==============================] - 0s 2ms/step - loss: 7166.6665 - val_loss: 6475.8862\n",
      "Epoch 213/600\n",
      "15/15 [==============================] - 0s 2ms/step - loss: 7128.4512 - val_loss: 6482.9585\n",
      "Epoch 214/600\n",
      "15/15 [==============================] - 0s 2ms/step - loss: 6998.5181 - val_loss: 6639.3979\n",
      "Epoch 215/600\n",
      "15/15 [==============================] - 0s 2ms/step - loss: 7142.3101 - val_loss: 6434.0542\n",
      "Epoch 216/600\n",
      "15/15 [==============================] - 0s 2ms/step - loss: 7096.1611 - val_loss: 6410.1265\n",
      "Epoch 217/600\n",
      "15/15 [==============================] - 0s 2ms/step - loss: 7042.0122 - val_loss: 6532.1343\n",
      "Epoch 218/600\n",
      "15/15 [==============================] - 0s 2ms/step - loss: 6975.5186 - val_loss: 6428.3667\n",
      "Epoch 219/600\n",
      "15/15 [==============================] - 0s 2ms/step - loss: 7037.6396 - val_loss: 6409.5972\n",
      "Epoch 220/600\n",
      "15/15 [==============================] - 0s 2ms/step - loss: 7058.1978 - val_loss: 6520.0107\n",
      "Epoch 221/600\n",
      "15/15 [==============================] - 0s 2ms/step - loss: 7044.5933 - val_loss: 6280.4771\n",
      "Epoch 222/600\n",
      "15/15 [==============================] - 0s 2ms/step - loss: 6993.3242 - val_loss: 6515.7251\n",
      "Epoch 223/600\n",
      "15/15 [==============================] - 0s 2ms/step - loss: 7072.9121 - val_loss: 6362.9937\n",
      "Epoch 224/600\n",
      "15/15 [==============================] - 0s 2ms/step - loss: 7039.0928 - val_loss: 6466.5459\n",
      "Epoch 225/600\n",
      "15/15 [==============================] - 0s 2ms/step - loss: 7162.9839 - val_loss: 6652.0918\n",
      "Epoch 226/600\n",
      "15/15 [==============================] - 0s 2ms/step - loss: 7004.0107 - val_loss: 6449.4116\n",
      "Epoch 227/600\n",
      "15/15 [==============================] - 0s 2ms/step - loss: 7039.4395 - val_loss: 6523.6616\n",
      "Epoch 228/600\n",
      "15/15 [==============================] - 0s 3ms/step - loss: 7027.3345 - val_loss: 6353.1953\n",
      "Epoch 229/600\n",
      "15/15 [==============================] - 0s 2ms/step - loss: 7039.5186 - val_loss: 6417.1348\n",
      "Epoch 230/600\n",
      "15/15 [==============================] - 0s 2ms/step - loss: 7048.1924 - val_loss: 6411.9409\n",
      "Epoch 231/600\n",
      "15/15 [==============================] - 0s 2ms/step - loss: 7028.9849 - val_loss: 6497.3320\n",
      "Epoch 232/600\n",
      "15/15 [==============================] - 0s 2ms/step - loss: 7007.6353 - val_loss: 6421.6152\n",
      "Epoch 233/600\n",
      "15/15 [==============================] - 0s 2ms/step - loss: 7049.6670 - val_loss: 6647.0781\n",
      "Epoch 234/600\n",
      "15/15 [==============================] - 0s 2ms/step - loss: 7030.3242 - val_loss: 6511.3511\n",
      "Epoch 235/600\n",
      "15/15 [==============================] - 0s 2ms/step - loss: 7080.8018 - val_loss: 6530.1211\n",
      "Epoch 236/600\n",
      "15/15 [==============================] - 0s 2ms/step - loss: 7069.5376 - val_loss: 6361.6807\n",
      "Epoch 237/600\n",
      "15/15 [==============================] - 0s 2ms/step - loss: 7006.3408 - val_loss: 6551.7007\n",
      "Epoch 238/600\n",
      "15/15 [==============================] - 0s 2ms/step - loss: 7025.6494 - val_loss: 6301.7642\n",
      "Epoch 239/600\n",
      "15/15 [==============================] - 0s 2ms/step - loss: 6980.2725 - val_loss: 6499.0933\n",
      "Epoch 240/600\n",
      "15/15 [==============================] - 0s 2ms/step - loss: 7083.6289 - val_loss: 6441.9321\n",
      "Epoch 241/600\n",
      "15/15 [==============================] - 0s 2ms/step - loss: 7071.4761 - val_loss: 6481.5962\n",
      "Epoch 242/600\n",
      "15/15 [==============================] - 0s 2ms/step - loss: 7022.2012 - val_loss: 6533.3530\n",
      "Epoch 243/600\n",
      "15/15 [==============================] - 0s 2ms/step - loss: 7035.7021 - val_loss: 6397.1685\n",
      "Epoch 244/600\n",
      "15/15 [==============================] - 0s 2ms/step - loss: 7024.8428 - val_loss: 6417.2319\n",
      "Epoch 245/600\n",
      "15/15 [==============================] - 0s 2ms/step - loss: 7043.1265 - val_loss: 6457.2563\n",
      "Epoch 246/600\n",
      "15/15 [==============================] - 0s 2ms/step - loss: 7011.1367 - val_loss: 6359.4194\n",
      "Epoch 247/600\n",
      "15/15 [==============================] - 0s 2ms/step - loss: 6999.6743 - val_loss: 6457.0381\n",
      "Epoch 248/600\n",
      "15/15 [==============================] - 0s 2ms/step - loss: 6996.2700 - val_loss: 6360.6221\n",
      "Epoch 249/600\n",
      "15/15 [==============================] - 0s 2ms/step - loss: 7013.8101 - val_loss: 6407.6748\n",
      "Epoch 250/600\n",
      "15/15 [==============================] - 0s 3ms/step - loss: 7042.3452 - val_loss: 6599.2129\n",
      "Epoch 251/600\n",
      "15/15 [==============================] - 0s 2ms/step - loss: 7080.7446 - val_loss: 6350.4390\n",
      "Epoch 252/600\n",
      "15/15 [==============================] - 0s 2ms/step - loss: 7076.7861 - val_loss: 6326.2041\n",
      "Epoch 253/600\n",
      "15/15 [==============================] - 0s 2ms/step - loss: 7056.6050 - val_loss: 6651.8545\n",
      "Epoch 254/600\n",
      "15/15 [==============================] - 0s 2ms/step - loss: 7003.1221 - val_loss: 6408.9551\n",
      "Epoch 255/600\n",
      "15/15 [==============================] - 0s 2ms/step - loss: 7136.0830 - val_loss: 6363.0674\n",
      "Epoch 256/600\n",
      "15/15 [==============================] - 0s 2ms/step - loss: 7085.2822 - val_loss: 6594.2129\n",
      "Epoch 257/600\n",
      "15/15 [==============================] - 0s 2ms/step - loss: 7009.4180 - val_loss: 6360.0034\n",
      "Epoch 258/600\n",
      "15/15 [==============================] - 0s 2ms/step - loss: 7110.0562 - val_loss: 6439.2993\n",
      "Epoch 259/600\n",
      "15/15 [==============================] - 0s 2ms/step - loss: 7080.5981 - val_loss: 6492.1943\n",
      "Epoch 260/600\n",
      "15/15 [==============================] - 0s 2ms/step - loss: 7057.0015 - val_loss: 6399.0869\n",
      "Epoch 261/600\n",
      "15/15 [==============================] - 0s 2ms/step - loss: 7053.1504 - val_loss: 6357.2251\n",
      "Epoch 262/600\n",
      "15/15 [==============================] - 0s 2ms/step - loss: 7044.5571 - val_loss: 6675.8345\n",
      "Epoch 263/600\n",
      "15/15 [==============================] - 0s 2ms/step - loss: 7247.1841 - val_loss: 6744.1113\n",
      "Epoch 264/600\n",
      "15/15 [==============================] - 0s 2ms/step - loss: 7300.8145 - val_loss: 6515.2065\n",
      "Epoch 265/600\n",
      "15/15 [==============================] - 0s 2ms/step - loss: 7256.3672 - val_loss: 6469.5732\n",
      "Epoch 266/600\n",
      "15/15 [==============================] - 0s 2ms/step - loss: 7085.0942 - val_loss: 6388.5312\n",
      "Epoch 267/600\n",
      "15/15 [==============================] - 0s 2ms/step - loss: 7087.7402 - val_loss: 6581.6587\n",
      "Epoch 268/600\n",
      "15/15 [==============================] - 0s 2ms/step - loss: 7007.3979 - val_loss: 6333.9702\n",
      "Epoch 269/600\n",
      "15/15 [==============================] - 0s 2ms/step - loss: 7014.1982 - val_loss: 6603.1431\n",
      "Epoch 270/600\n",
      "15/15 [==============================] - 0s 2ms/step - loss: 7047.4609 - val_loss: 6415.9175\n",
      "Epoch 271/600\n",
      "15/15 [==============================] - 0s 2ms/step - loss: 7034.6538 - val_loss: 6385.0083\n",
      "Epoch 272/600\n",
      "15/15 [==============================] - 0s 3ms/step - loss: 6985.3809 - val_loss: 6405.3765\n",
      "Epoch 273/600\n",
      "15/15 [==============================] - 0s 2ms/step - loss: 7053.0244 - val_loss: 6340.9307\n",
      "Epoch 274/600\n",
      "15/15 [==============================] - 0s 2ms/step - loss: 7038.2129 - val_loss: 6513.0034\n",
      "Epoch 275/600\n",
      "15/15 [==============================] - 0s 2ms/step - loss: 7066.4351 - val_loss: 6469.6431\n",
      "Epoch 276/600\n",
      "15/15 [==============================] - 0s 2ms/step - loss: 7016.0542 - val_loss: 6436.5991\n",
      "Epoch 277/600\n",
      "15/15 [==============================] - 0s 2ms/step - loss: 7144.5352 - val_loss: 6615.6699\n",
      "Epoch 278/600\n",
      "15/15 [==============================] - 0s 2ms/step - loss: 7145.5200 - val_loss: 6455.9585\n",
      "Epoch 279/600\n",
      "15/15 [==============================] - 0s 2ms/step - loss: 7157.7393 - val_loss: 6537.6885\n",
      "Epoch 280/600\n",
      "15/15 [==============================] - 0s 2ms/step - loss: 7103.6646 - val_loss: 6376.9575\n",
      "Epoch 281/600\n",
      "15/15 [==============================] - 0s 2ms/step - loss: 7048.0225 - val_loss: 6352.1768\n",
      "Epoch 282/600\n",
      "15/15 [==============================] - 0s 2ms/step - loss: 7005.5728 - val_loss: 6325.9072\n",
      "Epoch 283/600\n",
      "15/15 [==============================] - 0s 2ms/step - loss: 7083.1270 - val_loss: 6516.2402\n",
      "Epoch 284/600\n",
      "15/15 [==============================] - 0s 2ms/step - loss: 7032.9751 - val_loss: 6584.2881\n",
      "Epoch 285/600\n",
      "15/15 [==============================] - 0s 2ms/step - loss: 7033.4595 - val_loss: 6487.5791\n",
      "Epoch 286/600\n",
      "15/15 [==============================] - 0s 2ms/step - loss: 7080.8101 - val_loss: 6466.8594\n",
      "Epoch 287/600\n",
      "15/15 [==============================] - 0s 2ms/step - loss: 7084.4028 - val_loss: 6432.5635\n",
      "Epoch 288/600\n",
      "15/15 [==============================] - 0s 2ms/step - loss: 7078.2769 - val_loss: 6376.4946\n",
      "Epoch 289/600\n",
      "15/15 [==============================] - 0s 2ms/step - loss: 7043.3213 - val_loss: 6337.2769\n",
      "Epoch 290/600\n",
      "15/15 [==============================] - 0s 2ms/step - loss: 7052.5977 - val_loss: 6472.0195\n",
      "Epoch 291/600\n",
      "15/15 [==============================] - 0s 2ms/step - loss: 7053.8125 - val_loss: 6408.3555\n",
      "Epoch 292/600\n",
      "15/15 [==============================] - 0s 2ms/step - loss: 7061.0508 - val_loss: 6377.6611\n",
      "Epoch 293/600\n",
      "15/15 [==============================] - 0s 2ms/step - loss: 7040.9902 - val_loss: 6482.0479\n",
      "Epoch 294/600\n",
      "15/15 [==============================] - 0s 2ms/step - loss: 7040.5527 - val_loss: 6390.4663\n",
      "Epoch 295/600\n",
      "15/15 [==============================] - 0s 2ms/step - loss: 7008.7300 - val_loss: 6469.5737\n",
      "Epoch 296/600\n",
      "15/15 [==============================] - 0s 2ms/step - loss: 7031.1777 - val_loss: 6416.5405\n",
      "Epoch 297/600\n",
      "15/15 [==============================] - 0s 2ms/step - loss: 7034.1548 - val_loss: 6830.7861\n",
      "Epoch 298/600\n",
      "15/15 [==============================] - 0s 3ms/step - loss: 7188.9131 - val_loss: 6377.7007\n",
      "Epoch 299/600\n",
      "15/15 [==============================] - 0s 2ms/step - loss: 7066.6187 - val_loss: 6527.3706\n",
      "Epoch 300/600\n",
      "15/15 [==============================] - 0s 2ms/step - loss: 7021.0557 - val_loss: 6429.3877\n",
      "Epoch 301/600\n",
      "15/15 [==============================] - 0s 2ms/step - loss: 7025.4229 - val_loss: 6577.9204\n",
      "Epoch 302/600\n",
      "15/15 [==============================] - 0s 2ms/step - loss: 6988.5537 - val_loss: 6423.1099\n",
      "Epoch 303/600\n",
      "15/15 [==============================] - 0s 2ms/step - loss: 6991.9946 - val_loss: 6447.3452\n",
      "Epoch 304/600\n",
      "15/15 [==============================] - 0s 2ms/step - loss: 6997.0625 - val_loss: 6436.8877\n",
      "Epoch 305/600\n",
      "15/15 [==============================] - 0s 2ms/step - loss: 7043.6455 - val_loss: 6492.2686\n",
      "Epoch 306/600\n",
      "15/15 [==============================] - 0s 2ms/step - loss: 7018.3574 - val_loss: 6422.7969\n",
      "Epoch 307/600\n",
      "15/15 [==============================] - 0s 2ms/step - loss: 6983.4629 - val_loss: 6457.4775\n",
      "Epoch 308/600\n",
      "15/15 [==============================] - 0s 2ms/step - loss: 7101.8433 - val_loss: 6439.9414\n",
      "Epoch 309/600\n",
      "15/15 [==============================] - 0s 2ms/step - loss: 7160.8438 - val_loss: 6557.9487\n",
      "Epoch 310/600\n",
      "15/15 [==============================] - 0s 2ms/step - loss: 7137.2935 - val_loss: 6419.8359\n",
      "Epoch 311/600\n",
      "15/15 [==============================] - 0s 2ms/step - loss: 7075.0015 - val_loss: 6491.9194\n",
      "Epoch 312/600\n",
      "15/15 [==============================] - 0s 2ms/step - loss: 7010.5562 - val_loss: 6396.6543\n",
      "Epoch 313/600\n",
      "15/15 [==============================] - 0s 2ms/step - loss: 6990.8169 - val_loss: 6581.6704\n",
      "Epoch 314/600\n",
      "15/15 [==============================] - 0s 2ms/step - loss: 7081.5884 - val_loss: 6457.0244\n",
      "Epoch 315/600\n",
      "15/15 [==============================] - 0s 2ms/step - loss: 6981.7607 - val_loss: 6514.5073\n",
      "Epoch 316/600\n",
      "15/15 [==============================] - 0s 2ms/step - loss: 7008.4746 - val_loss: 6396.9292\n",
      "Epoch 317/600\n",
      "15/15 [==============================] - 0s 2ms/step - loss: 7001.2305 - val_loss: 6691.4380\n",
      "Epoch 318/600\n",
      "15/15 [==============================] - 0s 2ms/step - loss: 7146.2471 - val_loss: 6529.2700\n",
      "Epoch 319/600\n",
      "15/15 [==============================] - 0s 2ms/step - loss: 6980.1670 - val_loss: 6389.4434\n",
      "Epoch 320/600\n",
      "15/15 [==============================] - 0s 2ms/step - loss: 7076.0723 - val_loss: 6441.2964\n",
      "Epoch 321/600\n",
      "15/15 [==============================] - 0s 2ms/step - loss: 7261.4243 - val_loss: 6526.8120\n",
      "Epoch 322/600\n",
      "15/15 [==============================] - 0s 2ms/step - loss: 7016.6821 - val_loss: 6473.4302\n",
      "Epoch 323/600\n",
      "15/15 [==============================] - 0s 4ms/step - loss: 7051.8569 - val_loss: 6511.8984\n",
      "Epoch 324/600\n",
      "15/15 [==============================] - 0s 2ms/step - loss: 7010.1772 - val_loss: 6337.4824\n",
      "Epoch 325/600\n",
      "15/15 [==============================] - 0s 2ms/step - loss: 7030.2754 - val_loss: 6606.8921\n",
      "Epoch 326/600\n",
      "15/15 [==============================] - 0s 2ms/step - loss: 6988.8354 - val_loss: 6418.9458\n",
      "Epoch 327/600\n",
      "15/15 [==============================] - 0s 2ms/step - loss: 6988.3896 - val_loss: 6467.9243\n",
      "Epoch 328/600\n",
      "15/15 [==============================] - 0s 2ms/step - loss: 7018.5684 - val_loss: 6392.8267\n",
      "Epoch 329/600\n",
      "15/15 [==============================] - 0s 2ms/step - loss: 7051.9751 - val_loss: 6471.9639\n",
      "Epoch 330/600\n",
      "15/15 [==============================] - 0s 2ms/step - loss: 7053.6948 - val_loss: 6510.9248\n",
      "Epoch 331/600\n",
      "15/15 [==============================] - 0s 2ms/step - loss: 7089.1958 - val_loss: 6432.2017\n",
      "Epoch 332/600\n",
      "15/15 [==============================] - 0s 2ms/step - loss: 6943.1572 - val_loss: 6397.6167\n",
      "Epoch 333/600\n",
      "15/15 [==============================] - 0s 2ms/step - loss: 6994.3979 - val_loss: 6359.3076\n",
      "Epoch 334/600\n",
      "15/15 [==============================] - 0s 2ms/step - loss: 6998.3486 - val_loss: 6378.5610\n",
      "Epoch 335/600\n",
      "15/15 [==============================] - 0s 2ms/step - loss: 6954.9048 - val_loss: 6461.3770\n",
      "Epoch 336/600\n",
      "15/15 [==============================] - 0s 2ms/step - loss: 7055.4927 - val_loss: 6589.6206\n",
      "Epoch 337/600\n",
      "15/15 [==============================] - 0s 2ms/step - loss: 7036.7168 - val_loss: 6407.0376\n",
      "Epoch 338/600\n",
      "15/15 [==============================] - 0s 2ms/step - loss: 6992.7246 - val_loss: 6585.8369\n",
      "Epoch 339/600\n",
      "15/15 [==============================] - 0s 2ms/step - loss: 7079.7759 - val_loss: 6476.4595\n",
      "Epoch 340/600\n",
      "15/15 [==============================] - 0s 2ms/step - loss: 7009.4585 - val_loss: 6348.3716\n",
      "Epoch 341/600\n",
      "15/15 [==============================] - 0s 2ms/step - loss: 7001.9297 - val_loss: 6506.3154\n",
      "Epoch 342/600\n",
      "15/15 [==============================] - 0s 2ms/step - loss: 7145.9941 - val_loss: 6317.9482\n",
      "Epoch 343/600\n",
      "15/15 [==============================] - 0s 2ms/step - loss: 7111.8901 - val_loss: 6451.8047\n",
      "Epoch 344/600\n",
      "15/15 [==============================] - 0s 2ms/step - loss: 7033.6616 - val_loss: 6422.9956\n",
      "Epoch 345/600\n",
      "15/15 [==============================] - 0s 2ms/step - loss: 7008.2095 - val_loss: 6446.9224\n",
      "Epoch 346/600\n",
      "15/15 [==============================] - 0s 2ms/step - loss: 7043.2334 - val_loss: 6535.6636\n",
      "Epoch 347/600\n",
      "15/15 [==============================] - 0s 2ms/step - loss: 7063.4956 - val_loss: 6502.0059\n",
      "Epoch 348/600\n",
      "15/15 [==============================] - 0s 2ms/step - loss: 7092.9858 - val_loss: 6582.7217\n",
      "Epoch 349/600\n",
      "15/15 [==============================] - 0s 2ms/step - loss: 7174.1172 - val_loss: 6411.3462\n",
      "Epoch 350/600\n",
      "15/15 [==============================] - 0s 3ms/step - loss: 7052.0737 - val_loss: 6439.5010\n",
      "Epoch 351/600\n",
      "15/15 [==============================] - 0s 2ms/step - loss: 7078.9717 - val_loss: 6364.1626\n",
      "Epoch 352/600\n",
      "15/15 [==============================] - 0s 2ms/step - loss: 7179.8887 - val_loss: 6400.6016\n",
      "Epoch 353/600\n",
      "15/15 [==============================] - 0s 2ms/step - loss: 7226.0981 - val_loss: 6507.1362\n",
      "Epoch 354/600\n",
      "15/15 [==============================] - 0s 2ms/step - loss: 6991.5005 - val_loss: 6453.9868\n",
      "Epoch 355/600\n",
      "15/15 [==============================] - 0s 2ms/step - loss: 6973.7979 - val_loss: 6588.9336\n",
      "Epoch 356/600\n",
      "15/15 [==============================] - 0s 2ms/step - loss: 7003.5747 - val_loss: 6562.5010\n",
      "Epoch 357/600\n",
      "15/15 [==============================] - 0s 2ms/step - loss: 7015.2300 - val_loss: 6507.1748\n",
      "Epoch 358/600\n",
      "15/15 [==============================] - 0s 2ms/step - loss: 7097.8081 - val_loss: 6395.9062\n",
      "Epoch 359/600\n",
      "15/15 [==============================] - 0s 2ms/step - loss: 7109.2847 - val_loss: 6369.7173\n",
      "Epoch 360/600\n",
      "15/15 [==============================] - 0s 2ms/step - loss: 6973.4531 - val_loss: 6469.0630\n",
      "Epoch 361/600\n",
      "15/15 [==============================] - 0s 2ms/step - loss: 6980.9160 - val_loss: 6482.1055\n",
      "Epoch 362/600\n",
      "15/15 [==============================] - 0s 2ms/step - loss: 7001.4521 - val_loss: 6360.6177\n",
      "Epoch 363/600\n",
      "15/15 [==============================] - 0s 2ms/step - loss: 6991.5581 - val_loss: 6534.3174\n",
      "Epoch 364/600\n",
      "15/15 [==============================] - 0s 2ms/step - loss: 7018.4971 - val_loss: 6411.9956\n",
      "Epoch 365/600\n",
      "15/15 [==============================] - 0s 2ms/step - loss: 7002.0996 - val_loss: 6493.2676\n",
      "Epoch 366/600\n",
      "15/15 [==============================] - 0s 3ms/step - loss: 7001.3740 - val_loss: 6418.4741\n",
      "Epoch 367/600\n",
      "15/15 [==============================] - 0s 2ms/step - loss: 7000.0425 - val_loss: 6455.8438\n",
      "Epoch 368/600\n",
      "15/15 [==============================] - 0s 2ms/step - loss: 6989.6548 - val_loss: 6375.1519\n",
      "Epoch 369/600\n",
      "15/15 [==============================] - 0s 2ms/step - loss: 6992.7295 - val_loss: 6450.7588\n",
      "Epoch 370/600\n",
      "15/15 [==============================] - 0s 2ms/step - loss: 6982.8262 - val_loss: 6349.1045\n",
      "Epoch 371/600\n",
      "15/15 [==============================] - 0s 2ms/step - loss: 7041.4365 - val_loss: 6478.0083\n",
      "Epoch 372/600\n",
      "15/15 [==============================] - 0s 2ms/step - loss: 7036.8120 - val_loss: 6324.5244\n",
      "Epoch 373/600\n",
      "15/15 [==============================] - 0s 2ms/step - loss: 7024.9668 - val_loss: 6610.1230\n",
      "Epoch 374/600\n",
      "15/15 [==============================] - 0s 2ms/step - loss: 7062.6484 - val_loss: 6623.5981\n",
      "Epoch 375/600\n",
      "15/15 [==============================] - 0s 2ms/step - loss: 7112.1929 - val_loss: 6467.6060\n",
      "Epoch 376/600\n",
      "15/15 [==============================] - 0s 2ms/step - loss: 7001.2886 - val_loss: 6485.9663\n",
      "Epoch 377/600\n",
      "15/15 [==============================] - 0s 2ms/step - loss: 6990.1670 - val_loss: 6449.4478\n",
      "Epoch 378/600\n",
      "15/15 [==============================] - 0s 2ms/step - loss: 6921.0771 - val_loss: 6478.6685\n",
      "Epoch 379/600\n",
      "15/15 [==============================] - 0s 2ms/step - loss: 7001.5752 - val_loss: 6354.1909\n",
      "Epoch 380/600\n",
      "15/15 [==============================] - 0s 2ms/step - loss: 7043.2573 - val_loss: 6396.2993\n",
      "Epoch 381/600\n",
      "15/15 [==============================] - 0s 2ms/step - loss: 6975.7749 - val_loss: 6409.2280\n",
      "Epoch 382/600\n",
      "15/15 [==============================] - 0s 3ms/step - loss: 7009.7271 - val_loss: 6755.4434\n",
      "Epoch 383/600\n",
      "15/15 [==============================] - 0s 2ms/step - loss: 7195.2822 - val_loss: 6435.6904\n",
      "Epoch 384/600\n",
      "15/15 [==============================] - 0s 2ms/step - loss: 6960.2612 - val_loss: 6450.3413\n",
      "Epoch 385/600\n",
      "15/15 [==============================] - 0s 2ms/step - loss: 7039.2607 - val_loss: 6512.7920\n",
      "Epoch 386/600\n",
      "15/15 [==============================] - 0s 2ms/step - loss: 6997.0000 - val_loss: 6367.4106\n",
      "Epoch 387/600\n",
      "15/15 [==============================] - 0s 2ms/step - loss: 7008.6450 - val_loss: 6357.1377\n",
      "Epoch 388/600\n",
      "15/15 [==============================] - 0s 2ms/step - loss: 6985.1084 - val_loss: 6573.4014\n",
      "Epoch 389/600\n",
      "15/15 [==============================] - 0s 2ms/step - loss: 7014.5825 - val_loss: 6445.6523\n",
      "Epoch 390/600\n",
      "15/15 [==============================] - 0s 2ms/step - loss: 7135.1211 - val_loss: 6431.6255\n",
      "Epoch 391/600\n",
      "15/15 [==============================] - 0s 2ms/step - loss: 7049.3843 - val_loss: 6481.7148\n",
      "Epoch 392/600\n",
      "15/15 [==============================] - 0s 2ms/step - loss: 7023.8228 - val_loss: 6518.3149\n",
      "Epoch 393/600\n",
      "15/15 [==============================] - 0s 2ms/step - loss: 7001.8784 - val_loss: 6456.5957\n",
      "Epoch 394/600\n",
      "15/15 [==============================] - 0s 2ms/step - loss: 7033.9087 - val_loss: 6467.8486\n",
      "Epoch 395/600\n",
      "15/15 [==============================] - 0s 2ms/step - loss: 7059.1558 - val_loss: 6399.0425\n",
      "Epoch 396/600\n",
      "15/15 [==============================] - 0s 2ms/step - loss: 7014.8389 - val_loss: 6560.8530\n",
      "Epoch 397/600\n",
      "15/15 [==============================] - 0s 2ms/step - loss: 6977.3008 - val_loss: 6444.8359\n",
      "Epoch 398/600\n",
      "15/15 [==============================] - 0s 2ms/step - loss: 6977.4468 - val_loss: 6493.2969\n",
      "Epoch 399/600\n",
      "15/15 [==============================] - 0s 2ms/step - loss: 7032.3721 - val_loss: 6400.9995\n",
      "Epoch 400/600\n",
      "15/15 [==============================] - 0s 2ms/step - loss: 7067.5112 - val_loss: 6418.6211\n",
      "Epoch 401/600\n",
      "15/15 [==============================] - 0s 2ms/step - loss: 6955.8369 - val_loss: 6411.9180\n",
      "Epoch 402/600\n",
      "15/15 [==============================] - 0s 2ms/step - loss: 6991.5200 - val_loss: 6282.8770\n",
      "Epoch 403/600\n",
      "15/15 [==============================] - 0s 2ms/step - loss: 7029.3096 - val_loss: 6505.9590\n",
      "Epoch 404/600\n",
      "15/15 [==============================] - 0s 3ms/step - loss: 7000.4668 - val_loss: 6413.2490\n",
      "Epoch 405/600\n",
      "15/15 [==============================] - 0s 2ms/step - loss: 6930.1919 - val_loss: 6472.0146\n",
      "Epoch 406/600\n",
      "15/15 [==============================] - 0s 2ms/step - loss: 7028.7837 - val_loss: 6435.8931\n",
      "Epoch 407/600\n",
      "15/15 [==============================] - 0s 2ms/step - loss: 7017.7964 - val_loss: 6382.1836\n",
      "Epoch 408/600\n",
      "15/15 [==============================] - 0s 2ms/step - loss: 6983.4136 - val_loss: 6420.7163\n",
      "Epoch 409/600\n",
      "15/15 [==============================] - 0s 2ms/step - loss: 6964.0781 - val_loss: 6599.4941\n",
      "Epoch 410/600\n",
      "15/15 [==============================] - 0s 2ms/step - loss: 7008.5747 - val_loss: 6596.0044\n",
      "Epoch 411/600\n",
      "15/15 [==============================] - 0s 2ms/step - loss: 7060.7417 - val_loss: 6337.3027\n",
      "Epoch 412/600\n",
      "15/15 [==============================] - 0s 2ms/step - loss: 6993.5488 - val_loss: 6440.0195\n",
      "Epoch 413/600\n",
      "15/15 [==============================] - 0s 2ms/step - loss: 6989.1006 - val_loss: 6460.1099\n",
      "Epoch 414/600\n",
      "15/15 [==============================] - 0s 2ms/step - loss: 6967.1924 - val_loss: 6408.2500\n",
      "Epoch 415/600\n",
      "15/15 [==============================] - 0s 2ms/step - loss: 7069.5010 - val_loss: 6740.1357\n",
      "Epoch 416/600\n",
      "15/15 [==============================] - 0s 2ms/step - loss: 7125.1875 - val_loss: 6754.9629\n",
      "Epoch 417/600\n",
      "15/15 [==============================] - 0s 2ms/step - loss: 7221.5591 - val_loss: 6710.9536\n",
      "Epoch 418/600\n",
      "15/15 [==============================] - 0s 2ms/step - loss: 7053.2817 - val_loss: 6388.5034\n",
      "Epoch 419/600\n",
      "15/15 [==============================] - 0s 2ms/step - loss: 7010.5400 - val_loss: 6466.6821\n",
      "Epoch 420/600\n",
      "15/15 [==============================] - 0s 2ms/step - loss: 7047.0640 - val_loss: 6585.1260\n",
      "Epoch 421/600\n",
      "15/15 [==============================] - 0s 3ms/step - loss: 7116.4971 - val_loss: 6605.2251\n",
      "Epoch 422/600\n",
      "15/15 [==============================] - 0s 2ms/step - loss: 6896.1548 - val_loss: 6653.6167\n",
      "Epoch 423/600\n",
      "15/15 [==============================] - 0s 2ms/step - loss: 7004.1729 - val_loss: 6443.6147\n",
      "Epoch 424/600\n",
      "15/15 [==============================] - 0s 2ms/step - loss: 7038.4854 - val_loss: 6326.9009\n",
      "Epoch 425/600\n",
      "15/15 [==============================] - 0s 2ms/step - loss: 6981.4473 - val_loss: 6459.5176\n",
      "Epoch 426/600\n",
      "15/15 [==============================] - 0s 2ms/step - loss: 7018.0742 - val_loss: 6393.6118\n",
      "Epoch 427/600\n",
      "15/15 [==============================] - 0s 2ms/step - loss: 6967.2300 - val_loss: 6391.2461\n",
      "Epoch 428/600\n",
      "15/15 [==============================] - 0s 2ms/step - loss: 6987.1406 - val_loss: 6440.2837\n",
      "Epoch 429/600\n",
      "15/15 [==============================] - 0s 2ms/step - loss: 7046.9175 - val_loss: 6550.0610\n",
      "Epoch 430/600\n",
      "15/15 [==============================] - 0s 2ms/step - loss: 7008.9150 - val_loss: 6406.6279\n",
      "Epoch 431/600\n",
      "15/15 [==============================] - 0s 2ms/step - loss: 7016.5034 - val_loss: 6433.3999\n",
      "Epoch 432/600\n",
      "15/15 [==============================] - 0s 2ms/step - loss: 6960.0264 - val_loss: 6354.7217\n",
      "Epoch 433/600\n",
      "15/15 [==============================] - 0s 2ms/step - loss: 6962.7090 - val_loss: 6422.0640\n",
      "Epoch 434/600\n",
      "15/15 [==============================] - 0s 2ms/step - loss: 6974.6899 - val_loss: 6456.5859\n",
      "Epoch 435/600\n",
      "15/15 [==============================] - 0s 2ms/step - loss: 6999.0327 - val_loss: 6344.1768\n",
      "Epoch 436/600\n",
      "15/15 [==============================] - 0s 3ms/step - loss: 7070.9121 - val_loss: 6307.8604\n",
      "Epoch 437/600\n",
      "15/15 [==============================] - 0s 2ms/step - loss: 6983.9673 - val_loss: 6407.5869\n",
      "Epoch 438/600\n",
      "15/15 [==============================] - 0s 2ms/step - loss: 7026.8179 - val_loss: 6615.5610\n",
      "Epoch 439/600\n",
      "15/15 [==============================] - 0s 2ms/step - loss: 7076.9751 - val_loss: 6629.4165\n",
      "Epoch 440/600\n",
      "15/15 [==============================] - 0s 2ms/step - loss: 7018.3906 - val_loss: 6450.3857\n",
      "Epoch 441/600\n",
      "15/15 [==============================] - 0s 2ms/step - loss: 7004.8042 - val_loss: 6433.2593\n",
      "Epoch 442/600\n",
      "15/15 [==============================] - 0s 2ms/step - loss: 6940.2168 - val_loss: 6415.8857\n",
      "Epoch 443/600\n",
      "15/15 [==============================] - 0s 2ms/step - loss: 6960.3306 - val_loss: 6432.1230\n",
      "Epoch 444/600\n",
      "15/15 [==============================] - 0s 2ms/step - loss: 6997.1328 - val_loss: 6427.0918\n",
      "Epoch 445/600\n",
      "15/15 [==============================] - 0s 2ms/step - loss: 7036.5557 - val_loss: 6456.8101\n",
      "Epoch 446/600\n",
      "15/15 [==============================] - 0s 2ms/step - loss: 7073.2197 - val_loss: 6458.8027\n",
      "Epoch 447/600\n",
      "15/15 [==============================] - 0s 2ms/step - loss: 6964.3916 - val_loss: 6468.0664\n",
      "Epoch 448/600\n",
      "15/15 [==============================] - 0s 2ms/step - loss: 6957.4829 - val_loss: 6398.0913\n",
      "Epoch 449/600\n",
      "15/15 [==============================] - 0s 2ms/step - loss: 7039.2109 - val_loss: 6458.6113\n",
      "Epoch 450/600\n",
      "15/15 [==============================] - 0s 2ms/step - loss: 6949.8154 - val_loss: 6377.2852\n",
      "Epoch 451/600\n",
      "15/15 [==============================] - 0s 2ms/step - loss: 6940.9087 - val_loss: 6469.5225\n",
      "Epoch 452/600\n",
      "15/15 [==============================] - 0s 2ms/step - loss: 6999.9956 - val_loss: 6358.9575\n",
      "Epoch 453/600\n",
      "15/15 [==============================] - 0s 3ms/step - loss: 6968.2344 - val_loss: 6493.6006\n",
      "Epoch 454/600\n",
      "15/15 [==============================] - 0s 2ms/step - loss: 6936.3330 - val_loss: 6370.6865\n",
      "Epoch 455/600\n",
      "15/15 [==============================] - 0s 2ms/step - loss: 6989.0220 - val_loss: 6380.7446\n",
      "Epoch 456/600\n",
      "15/15 [==============================] - 0s 2ms/step - loss: 7002.4585 - val_loss: 6364.5332\n",
      "Epoch 457/600\n",
      "15/15 [==============================] - 0s 2ms/step - loss: 6960.9385 - val_loss: 6489.8457\n",
      "Epoch 458/600\n",
      "15/15 [==============================] - 0s 2ms/step - loss: 6973.0591 - val_loss: 6484.2910\n",
      "Epoch 459/600\n",
      "15/15 [==============================] - 0s 2ms/step - loss: 6951.6128 - val_loss: 6347.1523\n",
      "Epoch 460/600\n",
      "15/15 [==============================] - 0s 2ms/step - loss: 6982.6001 - val_loss: 6427.1660\n",
      "Epoch 461/600\n",
      "15/15 [==============================] - 0s 2ms/step - loss: 6975.3574 - val_loss: 6410.7866\n",
      "Epoch 462/600\n",
      "15/15 [==============================] - 0s 2ms/step - loss: 6979.5020 - val_loss: 6548.0215\n",
      "Epoch 463/600\n",
      "15/15 [==============================] - 0s 2ms/step - loss: 6964.8887 - val_loss: 6432.3979\n",
      "Epoch 464/600\n",
      "15/15 [==============================] - 0s 2ms/step - loss: 7042.3931 - val_loss: 6473.3101\n",
      "Epoch 465/600\n",
      "15/15 [==============================] - 0s 2ms/step - loss: 7092.2524 - val_loss: 6545.9946\n",
      "Epoch 466/600\n",
      "15/15 [==============================] - 0s 2ms/step - loss: 7062.9956 - val_loss: 6464.4336\n",
      "Epoch 467/600\n",
      "15/15 [==============================] - 0s 2ms/step - loss: 6978.4443 - val_loss: 6462.2861\n",
      "Epoch 468/600\n",
      "15/15 [==============================] - 0s 2ms/step - loss: 7000.0063 - val_loss: 6582.0186\n",
      "Epoch 469/600\n",
      "15/15 [==============================] - 0s 2ms/step - loss: 6943.1211 - val_loss: 6452.0562\n",
      "Epoch 470/600\n",
      "15/15 [==============================] - 0s 2ms/step - loss: 6990.0737 - val_loss: 6385.1953\n",
      "Epoch 471/600\n",
      "15/15 [==============================] - 0s 3ms/step - loss: 6951.4077 - val_loss: 6433.8086\n",
      "Epoch 472/600\n",
      "15/15 [==============================] - 0s 2ms/step - loss: 6929.9331 - val_loss: 6380.7173\n",
      "Epoch 473/600\n",
      "15/15 [==============================] - 0s 2ms/step - loss: 6983.0400 - val_loss: 6414.1890\n",
      "Epoch 474/600\n",
      "15/15 [==============================] - 0s 2ms/step - loss: 6970.0928 - val_loss: 6504.1694\n",
      "Epoch 475/600\n",
      "15/15 [==============================] - 0s 2ms/step - loss: 7017.8364 - val_loss: 6432.2173\n",
      "Epoch 476/600\n",
      "15/15 [==============================] - 0s 2ms/step - loss: 6938.4272 - val_loss: 6368.7583\n",
      "Epoch 477/600\n",
      "15/15 [==============================] - 0s 2ms/step - loss: 6985.2231 - val_loss: 6387.8579\n",
      "Epoch 478/600\n",
      "15/15 [==============================] - 0s 2ms/step - loss: 6964.7505 - val_loss: 6443.8740\n",
      "Epoch 479/600\n",
      "15/15 [==============================] - 0s 2ms/step - loss: 7018.1680 - val_loss: 6413.7837\n",
      "Epoch 480/600\n",
      "15/15 [==============================] - 0s 2ms/step - loss: 6962.7817 - val_loss: 6496.6924\n",
      "Epoch 481/600\n",
      "15/15 [==============================] - 0s 2ms/step - loss: 6996.5288 - val_loss: 6381.1279\n",
      "Epoch 482/600\n",
      "15/15 [==============================] - 0s 2ms/step - loss: 7033.0352 - val_loss: 6428.9668\n",
      "Epoch 483/600\n",
      "15/15 [==============================] - 0s 2ms/step - loss: 7028.2480 - val_loss: 6437.6787\n",
      "Epoch 484/600\n",
      "15/15 [==============================] - 0s 2ms/step - loss: 7093.5806 - val_loss: 6450.6060\n",
      "Epoch 485/600\n",
      "15/15 [==============================] - 0s 3ms/step - loss: 7023.7378 - val_loss: 6445.6724\n",
      "Epoch 486/600\n",
      "15/15 [==============================] - 0s 2ms/step - loss: 6991.0430 - val_loss: 6352.0576\n",
      "Epoch 487/600\n",
      "15/15 [==============================] - 0s 2ms/step - loss: 6982.0015 - val_loss: 6425.7915\n",
      "Epoch 488/600\n",
      "15/15 [==============================] - 0s 2ms/step - loss: 6960.2065 - val_loss: 6345.6201\n",
      "Epoch 489/600\n",
      "15/15 [==============================] - 0s 2ms/step - loss: 6941.7417 - val_loss: 6325.3374\n",
      "Epoch 490/600\n",
      "15/15 [==============================] - 0s 2ms/step - loss: 7043.0508 - val_loss: 6767.2642\n",
      "Epoch 491/600\n",
      "15/15 [==============================] - 0s 2ms/step - loss: 7022.8052 - val_loss: 6432.2783\n",
      "Epoch 492/600\n",
      "15/15 [==============================] - 0s 2ms/step - loss: 7048.4028 - val_loss: 6766.7109\n",
      "Epoch 493/600\n",
      "15/15 [==============================] - 0s 2ms/step - loss: 7165.0254 - val_loss: 6795.6035\n",
      "Epoch 494/600\n",
      "15/15 [==============================] - 0s 2ms/step - loss: 7132.2080 - val_loss: 6487.0752\n",
      "Epoch 495/600\n",
      "15/15 [==============================] - 0s 2ms/step - loss: 6999.2808 - val_loss: 6423.1870\n",
      "Epoch 496/600\n",
      "15/15 [==============================] - 0s 2ms/step - loss: 6943.1079 - val_loss: 6402.7192\n",
      "Epoch 497/600\n",
      "15/15 [==============================] - 0s 2ms/step - loss: 6939.0703 - val_loss: 6428.7969\n",
      "Epoch 498/600\n",
      "15/15 [==============================] - 0s 2ms/step - loss: 7029.4707 - val_loss: 6494.9897\n",
      "Epoch 499/600\n",
      "15/15 [==============================] - 0s 2ms/step - loss: 7100.0107 - val_loss: 6340.7915\n",
      "Epoch 500/600\n",
      "15/15 [==============================] - 0s 3ms/step - loss: 6984.4414 - val_loss: 6390.9595\n",
      "Epoch 501/600\n",
      "15/15 [==============================] - 0s 2ms/step - loss: 7058.6372 - val_loss: 6554.4971\n",
      "Epoch 502/600\n",
      "15/15 [==============================] - 0s 2ms/step - loss: 6960.5913 - val_loss: 6480.1172\n",
      "Epoch 503/600\n",
      "15/15 [==============================] - 0s 2ms/step - loss: 7039.3037 - val_loss: 6511.7974\n",
      "Epoch 504/600\n",
      "15/15 [==============================] - 0s 2ms/step - loss: 6990.5503 - val_loss: 6480.2515\n",
      "Epoch 505/600\n",
      "15/15 [==============================] - 0s 2ms/step - loss: 6971.1362 - val_loss: 6408.9829\n",
      "Epoch 506/600\n",
      "15/15 [==============================] - 0s 2ms/step - loss: 6923.6562 - val_loss: 6508.6787\n",
      "Epoch 507/600\n",
      "15/15 [==============================] - 0s 2ms/step - loss: 6975.5176 - val_loss: 6447.8750\n",
      "Epoch 508/600\n",
      "15/15 [==============================] - 0s 2ms/step - loss: 6971.8149 - val_loss: 6413.0044\n",
      "Epoch 509/600\n",
      "15/15 [==============================] - 0s 2ms/step - loss: 6975.1938 - val_loss: 6454.0308\n",
      "Epoch 510/600\n",
      "15/15 [==============================] - 0s 2ms/step - loss: 6958.0508 - val_loss: 6413.1270\n",
      "Epoch 511/600\n",
      "15/15 [==============================] - 0s 2ms/step - loss: 7024.6128 - val_loss: 6595.8789\n",
      "Epoch 512/600\n",
      "15/15 [==============================] - 0s 2ms/step - loss: 7073.7520 - val_loss: 6352.4888\n",
      "Epoch 513/600\n",
      "15/15 [==============================] - 0s 2ms/step - loss: 6982.9561 - val_loss: 6380.8560\n",
      "Epoch 514/600\n",
      "15/15 [==============================] - 0s 2ms/step - loss: 7071.5762 - val_loss: 6481.1128\n",
      "Epoch 515/600\n",
      "15/15 [==============================] - 0s 2ms/step - loss: 6949.3843 - val_loss: 6391.3687\n",
      "Epoch 516/600\n",
      "15/15 [==============================] - 0s 3ms/step - loss: 7058.7109 - val_loss: 6742.2666\n",
      "Epoch 517/600\n",
      "15/15 [==============================] - 0s 2ms/step - loss: 7150.7710 - val_loss: 6434.5225\n",
      "Epoch 518/600\n",
      "15/15 [==============================] - 0s 2ms/step - loss: 7005.5479 - val_loss: 6472.1948\n",
      "Epoch 519/600\n",
      "15/15 [==============================] - 0s 2ms/step - loss: 7081.1094 - val_loss: 6434.4565\n",
      "Epoch 520/600\n",
      "15/15 [==============================] - 0s 2ms/step - loss: 7168.9844 - val_loss: 6730.8457\n",
      "Epoch 521/600\n",
      "15/15 [==============================] - 0s 2ms/step - loss: 7089.1050 - val_loss: 6419.3687\n",
      "Epoch 522/600\n",
      "15/15 [==============================] - 0s 2ms/step - loss: 6992.3652 - val_loss: 6497.9785\n",
      "Epoch 523/600\n",
      "15/15 [==============================] - 0s 2ms/step - loss: 6975.1953 - val_loss: 6497.0493\n",
      "Epoch 524/600\n",
      "15/15 [==============================] - 0s 2ms/step - loss: 6966.2876 - val_loss: 6382.9536\n",
      "Epoch 525/600\n",
      "15/15 [==============================] - 0s 2ms/step - loss: 6967.0684 - val_loss: 6377.2446\n",
      "Epoch 526/600\n",
      "15/15 [==============================] - 0s 2ms/step - loss: 7005.9639 - val_loss: 6490.4292\n",
      "Epoch 527/600\n",
      "15/15 [==============================] - 0s 2ms/step - loss: 6965.8179 - val_loss: 6407.1660\n",
      "Epoch 528/600\n",
      "15/15 [==============================] - 0s 2ms/step - loss: 6956.2188 - val_loss: 6416.8574\n",
      "Epoch 529/600\n",
      "15/15 [==============================] - 0s 2ms/step - loss: 7013.9185 - val_loss: 6354.6431\n",
      "Epoch 530/600\n",
      "15/15 [==============================] - 0s 2ms/step - loss: 6996.9707 - val_loss: 6379.7402\n",
      "Epoch 531/600\n",
      "15/15 [==============================] - 0s 2ms/step - loss: 6951.3721 - val_loss: 6526.3794\n",
      "Epoch 532/600\n",
      "15/15 [==============================] - 0s 2ms/step - loss: 6961.8779 - val_loss: 6417.1157\n",
      "Epoch 533/600\n",
      "15/15 [==============================] - 0s 3ms/step - loss: 6937.9731 - val_loss: 6463.9917\n",
      "Epoch 534/600\n",
      "15/15 [==============================] - 0s 2ms/step - loss: 6969.9756 - val_loss: 6390.0283\n",
      "Epoch 535/600\n",
      "15/15 [==============================] - 0s 2ms/step - loss: 6950.1294 - val_loss: 6508.1196\n",
      "Epoch 536/600\n",
      "15/15 [==============================] - 0s 2ms/step - loss: 7076.2246 - val_loss: 6426.8521\n",
      "Epoch 537/600\n",
      "15/15 [==============================] - 0s 2ms/step - loss: 6973.5479 - val_loss: 6519.2520\n",
      "Epoch 538/600\n",
      "15/15 [==============================] - 0s 2ms/step - loss: 7027.7642 - val_loss: 6358.0688\n",
      "Epoch 539/600\n",
      "15/15 [==============================] - 0s 2ms/step - loss: 7126.4658 - val_loss: 6626.9517\n",
      "Epoch 540/600\n",
      "15/15 [==============================] - 0s 2ms/step - loss: 7108.2622 - val_loss: 6491.1353\n",
      "Epoch 541/600\n",
      "15/15 [==============================] - 0s 2ms/step - loss: 6989.2305 - val_loss: 6449.4668\n",
      "Epoch 542/600\n",
      "15/15 [==============================] - 0s 2ms/step - loss: 6953.9004 - val_loss: 6459.2095\n",
      "Epoch 543/600\n",
      "15/15 [==============================] - 0s 2ms/step - loss: 6945.2754 - val_loss: 6430.2480\n",
      "Epoch 544/600\n",
      "15/15 [==============================] - 0s 2ms/step - loss: 6928.7612 - val_loss: 6451.1587\n",
      "Epoch 545/600\n",
      "15/15 [==============================] - 0s 2ms/step - loss: 7014.2559 - val_loss: 6520.0352\n",
      "Epoch 546/600\n",
      "15/15 [==============================] - 0s 3ms/step - loss: 6976.1592 - val_loss: 6347.3950\n",
      "Epoch 547/600\n",
      "15/15 [==============================] - 0s 2ms/step - loss: 6959.1143 - val_loss: 6440.0425\n",
      "Epoch 548/600\n",
      "15/15 [==============================] - 0s 2ms/step - loss: 6986.1348 - val_loss: 6402.2192\n",
      "Epoch 549/600\n",
      "15/15 [==============================] - 0s 2ms/step - loss: 6942.1460 - val_loss: 6461.5977\n",
      "Epoch 550/600\n",
      "15/15 [==============================] - 0s 2ms/step - loss: 6997.5176 - val_loss: 6466.8286\n",
      "Epoch 551/600\n",
      "15/15 [==============================] - 0s 2ms/step - loss: 6957.0474 - val_loss: 6523.8950\n",
      "Epoch 552/600\n",
      "15/15 [==============================] - 0s 2ms/step - loss: 7017.4834 - val_loss: 6503.2490\n",
      "Epoch 553/600\n",
      "15/15 [==============================] - 0s 2ms/step - loss: 6998.4355 - val_loss: 6425.4536\n",
      "Epoch 554/600\n",
      "15/15 [==============================] - 0s 2ms/step - loss: 7021.1050 - val_loss: 6521.6011\n",
      "Epoch 555/600\n",
      "15/15 [==============================] - 0s 2ms/step - loss: 7097.0322 - val_loss: 6604.5928\n",
      "Epoch 556/600\n",
      "15/15 [==============================] - 0s 2ms/step - loss: 7059.6826 - val_loss: 6501.6929\n",
      "Epoch 557/600\n",
      "15/15 [==============================] - 0s 2ms/step - loss: 7032.1289 - val_loss: 6450.4556\n",
      "Epoch 558/600\n",
      "15/15 [==============================] - 0s 2ms/step - loss: 6910.5781 - val_loss: 6414.6631\n",
      "Epoch 559/600\n",
      "15/15 [==============================] - 0s 3ms/step - loss: 6965.5542 - val_loss: 6474.5742\n",
      "Epoch 560/600\n",
      "15/15 [==============================] - 0s 2ms/step - loss: 6991.9717 - val_loss: 6330.7510\n",
      "Epoch 561/600\n",
      "15/15 [==============================] - 0s 2ms/step - loss: 7010.5620 - val_loss: 6445.6548\n",
      "Epoch 562/600\n",
      "15/15 [==============================] - 0s 2ms/step - loss: 6991.2817 - val_loss: 6460.6777\n",
      "Epoch 563/600\n",
      "15/15 [==============================] - 0s 2ms/step - loss: 6976.2544 - val_loss: 6423.6729\n",
      "Epoch 564/600\n",
      "15/15 [==============================] - 0s 2ms/step - loss: 6947.1758 - val_loss: 6386.7114\n",
      "Epoch 565/600\n",
      "15/15 [==============================] - 0s 2ms/step - loss: 6963.8862 - val_loss: 6455.3408\n",
      "Epoch 566/600\n",
      "15/15 [==============================] - 0s 2ms/step - loss: 6887.8984 - val_loss: 6611.4541\n",
      "Epoch 567/600\n",
      "15/15 [==============================] - 0s 2ms/step - loss: 7094.8789 - val_loss: 6458.9629\n",
      "Epoch 568/600\n",
      "15/15 [==============================] - 0s 2ms/step - loss: 6954.6528 - val_loss: 6460.4897\n",
      "Epoch 569/600\n",
      "15/15 [==============================] - 0s 2ms/step - loss: 6940.0005 - val_loss: 6513.0039\n",
      "Epoch 570/600\n",
      "15/15 [==============================] - 0s 2ms/step - loss: 7023.4541 - val_loss: 6453.5430\n",
      "Epoch 571/600\n",
      "15/15 [==============================] - 0s 2ms/step - loss: 7150.3525 - val_loss: 6392.8135\n",
      "Epoch 572/600\n",
      "15/15 [==============================] - 0s 2ms/step - loss: 7034.3345 - val_loss: 6533.0547\n",
      "Epoch 573/600\n",
      "15/15 [==============================] - 0s 3ms/step - loss: 6959.9771 - val_loss: 6479.4888\n",
      "Epoch 574/600\n",
      "15/15 [==============================] - 0s 2ms/step - loss: 6959.1899 - val_loss: 6401.1157\n",
      "Epoch 575/600\n",
      "15/15 [==============================] - 0s 2ms/step - loss: 7005.4976 - val_loss: 6639.2441\n",
      "Epoch 576/600\n",
      "15/15 [==============================] - 0s 2ms/step - loss: 7082.6699 - val_loss: 6740.4927\n",
      "Epoch 577/600\n",
      "15/15 [==============================] - 0s 2ms/step - loss: 7061.0732 - val_loss: 6538.7852\n",
      "Epoch 578/600\n",
      "15/15 [==============================] - 0s 2ms/step - loss: 7110.2012 - val_loss: 6439.9985\n",
      "Epoch 579/600\n",
      "15/15 [==============================] - 0s 2ms/step - loss: 6963.8721 - val_loss: 6401.4624\n",
      "Epoch 580/600\n",
      "15/15 [==============================] - 0s 2ms/step - loss: 6989.9941 - val_loss: 6500.5513\n",
      "Epoch 581/600\n",
      "15/15 [==============================] - 0s 2ms/step - loss: 7080.8086 - val_loss: 6749.7236\n",
      "Epoch 582/600\n",
      "15/15 [==============================] - 0s 2ms/step - loss: 7070.5254 - val_loss: 6487.4326\n",
      "Epoch 583/600\n",
      "15/15 [==============================] - 0s 2ms/step - loss: 7037.9995 - val_loss: 6386.9692\n",
      "Epoch 584/600\n",
      "15/15 [==============================] - 0s 2ms/step - loss: 6948.4644 - val_loss: 6379.9609\n",
      "Epoch 585/600\n",
      "15/15 [==============================] - 0s 2ms/step - loss: 6959.8574 - val_loss: 6334.3052\n",
      "Epoch 586/600\n",
      "15/15 [==============================] - 0s 2ms/step - loss: 6923.1982 - val_loss: 6442.5059\n",
      "Epoch 587/600\n",
      "15/15 [==============================] - 0s 2ms/step - loss: 6978.5259 - val_loss: 6455.7358\n",
      "Epoch 588/600\n",
      "15/15 [==============================] - 0s 3ms/step - loss: 6950.3779 - val_loss: 6339.4355\n",
      "Epoch 589/600\n",
      "15/15 [==============================] - 0s 2ms/step - loss: 7012.8848 - val_loss: 6580.1289\n",
      "Epoch 590/600\n",
      "15/15 [==============================] - 0s 2ms/step - loss: 6989.8135 - val_loss: 6400.7959\n",
      "Epoch 591/600\n",
      "15/15 [==============================] - 0s 2ms/step - loss: 6960.4780 - val_loss: 6451.1099\n",
      "Epoch 592/600\n",
      "15/15 [==============================] - 0s 2ms/step - loss: 6956.9194 - val_loss: 6417.1021\n",
      "Epoch 593/600\n",
      "15/15 [==============================] - 0s 2ms/step - loss: 6940.7578 - val_loss: 6467.8940\n",
      "Epoch 594/600\n",
      "15/15 [==============================] - 0s 2ms/step - loss: 6942.2891 - val_loss: 6420.9902\n",
      "Epoch 595/600\n",
      "15/15 [==============================] - 0s 2ms/step - loss: 6999.7031 - val_loss: 6511.9380\n",
      "Epoch 596/600\n",
      "15/15 [==============================] - 0s 2ms/step - loss: 6959.2134 - val_loss: 6527.6509\n",
      "Epoch 597/600\n",
      "15/15 [==============================] - 0s 2ms/step - loss: 7004.4517 - val_loss: 6358.2271\n",
      "Epoch 598/600\n",
      "15/15 [==============================] - 0s 2ms/step - loss: 6943.2710 - val_loss: 6522.0986\n",
      "Epoch 599/600\n",
      "15/15 [==============================] - 0s 2ms/step - loss: 7067.1069 - val_loss: 6596.9092\n",
      "Epoch 600/600\n",
      "15/15 [==============================] - 0s 2ms/step - loss: 6943.0010 - val_loss: 6322.8760\n",
      "Model: \"sequential\"\n",
      "_________________________________________________________________\n",
      " Layer (type)                Output Shape              Param #   \n",
      "=================================================================\n",
      " dense (Dense)               (None, 256)               33024     \n",
      "                                                                 \n",
      " dense_1 (Dense)             (None, 128)               32896     \n",
      "                                                                 \n",
      " dense_2 (Dense)             (None, 64)                8256      \n",
      "                                                                 \n",
      " dense_3 (Dense)             (None, 32)                2080      \n",
      "                                                                 \n",
      " dense_4 (Dense)             (None, 16)                528       \n",
      "                                                                 \n",
      " dense_5 (Dense)             (None, 8)                 136       \n",
      "                                                                 \n",
      " dense_6 (Dense)             (None, 1)                 9         \n",
      "                                                                 \n",
      "=================================================================\n",
      "Total params: 76,929\n",
      "Trainable params: 76,929\n",
      "Non-trainable params: 0\n",
      "_________________________________________________________________\n"
     ]
    }
   ],
   "source": [
    "model.fit(x=X_train,y=y_train,\n",
    "          validation_data=(X_test,y_test),\n",
    "          batch_size=128,epochs=600)\n",
    "model.summary()"
   ]
  },
  {
   "cell_type": "code",
   "execution_count": 17,
   "metadata": {
    "collapsed": false
   },
   "outputs": [
    {
     "data": {
      "text/plain": [
       "<Axes: >"
      ]
     },
     "execution_count": 17,
     "metadata": {},
     "output_type": "execute_result"
    },
    {
     "data": {
      "image/png": "[encoded data removed]",
      "text/plain": [
       "<Figure size 1200x800 with 1 Axes>"
      ]
     },
     "metadata": {},
     "output_type": "display_data"
    }
   ],
   "source": [
    "loss_df = pd.DataFrame(model.history.history)\n",
    "loss_df.plot(figsize=(12,8))\n"
   ]
  },
  {
   "cell_type": "code",
   "execution_count": 18,
   "metadata": {
    "collapsed": false
   },
   "outputs": [
    {
     "name": "stdout",
     "output_type": "stream",
     "text": [
      "15/15 [==============================] - 0s 559us/step\n",
      "RMSE: 79.51651552196114\n",
      "R^2 Score: 0.6304835545554245\n"
     ]
    },
    {
     "data": {
      "application/vnd.plotly.v1+json": {
       "config": {
        "plotlyServerURL": "https://plot.ly"
       },
       "data": [
        {
         "hovertemplate": "Actual y=%{x}<br>Predicted y=%{y}<extra></extra>",
         "legendgroup": "",
         "marker": {
          "color": "#636efa",
          "symbol": "circle"
         },
         "mode": "markers",
         "name": "",
         "orientation": "v",
         "showlegend": false,
         "type": "scatter",
         "x": [
          120,
          305,
          59,
          124,
          95,
          140,
          203,
          364,
          109,
          53,
          98,
          60,
          119,
          320,
          130,
          209,
          65,
          350,
          276,
          409,
          110,
          45,
          119,
          181,
          140,
          125,
          84,
          577,
          59,
          327,
          200,
          65,
          290,
          232,
          71,
          300,
          160,
          246,
          80,
          59,
          287,
          58,
          43,
          149,
          238,
          132,
          620,
          43,
          79,
          50,
          60,
          300,
          279,
          13,
          187,
          230,
          54,
          187,
          189,
          82,
          102,
          275,
          246,
          44,
          75,
          135,
          69,
          243,
          430,
          40,
          60,
          130,
          287,
          150,
          198,
          452,
          120,
          62,
          38,
          155,
          90,
          281,
          235,
          79,
          125,
          50,
          402,
          105,
          140,
          356,
          110,
          78,
          460,
          457,
          250,
          180,
          30,
          261,
          416,
          56,
          158,
          33,
          110,
          501,
          315,
          210,
          457,
          68,
          90,
          413,
          31,
          99,
          191,
          220,
          181,
          34,
          109,
          100,
          260,
          113,
          235,
          387,
          495,
          261,
          44,
          59,
          99,
          386,
          159,
          183,
          78,
          319,
          97,
          110,
          70,
          22,
          441,
          85,
          162,
          69,
          36,
          175,
          193,
          229,
          345,
          115,
          527,
          250,
          53,
          244,
          239,
          66,
          39,
          205,
          131,
          56,
          220,
          174,
          69,
          130,
          148,
          66,
          399,
          108,
          107,
          201,
          96,
          261,
          100,
          130,
          209,
          527,
          43,
          242,
          450,
          283,
          120,
          150,
          49,
          328,
          240,
          69,
          115,
          404,
          150,
          243,
          320,
          22,
          379,
          343,
          350,
          90,
          120,
          507,
          346,
          184,
          200,
          100,
          110,
          29,
          49,
          525,
          219,
          189,
          250,
          79,
          180,
          47,
          69,
          305,
          110,
          106,
          201,
          178,
          409,
          110,
          80,
          242,
          465,
          126,
          29,
          399,
          318,
          387,
          488,
          322,
          59,
          47,
          354,
          196,
          115,
          50,
          187,
          80,
          235,
          36,
          40,
          165,
          55,
          201,
          145,
          79,
          189,
          33,
          516,
          413,
          92,
          190,
          207,
          399,
          197,
          46,
          316,
          179,
          585,
          41,
          200,
          239,
          145,
          52,
          124,
          85,
          79,
          175,
          508,
          200,
          94,
          399,
          93,
          55,
          96,
          55,
          136,
          212,
          69,
          49,
          191,
          48,
          231,
          457,
          98,
          69,
          59,
          411,
          38,
          60,
          481,
          170,
          440,
          109,
          33,
          100,
          170,
          350,
          42,
          102,
          107,
          399,
          100,
          59,
          156,
          253,
          67,
          60,
          300,
          79,
          135,
          188,
          150,
          276,
          198,
          167,
          148,
          168,
          187,
          250,
          95,
          483,
          169,
          70,
          140,
          101,
          40,
          391,
          70,
          320,
          186,
          49,
          144,
          67,
          273,
          400,
          350,
          69,
          335,
          200,
          117,
          55,
          60,
          393,
          388,
          105,
          53,
          130,
          68,
          24,
          225,
          120,
          550,
          255,
          80,
          150,
          281,
          210,
          69,
          67,
          188,
          154,
          20,
          160,
          150,
          150,
          20,
          200,
          221,
          150,
          39,
          63,
          70,
          135,
          275,
          125,
          43,
          78,
          311,
          183,
          96,
          49,
          401,
          330,
          45,
          62,
          69,
          100,
          49,
          64,
          160,
          147,
          50,
          500,
          320,
          265,
          335,
          97,
          90,
          325,
          100,
          166,
          182,
          120,
          99,
          90,
          160,
          49,
          213,
          167,
          35,
          45,
          214,
          196,
          110,
          49,
          120,
          133,
          59,
          52,
          49,
          204,
          107,
          135,
          169,
          561,
          200,
          90,
          279,
          377,
          113,
          118,
          150,
          68,
          49,
          47,
          280,
          30,
          145,
          330,
          232,
          80,
          24,
          69,
          350,
          33,
          50,
          49,
          68,
          35,
          121,
          189,
          511,
          172,
          140,
          127,
          134,
          500,
          58,
          59,
          65,
          188
         ],
         "xaxis": "x",
         "y": [
          159.85728454589844,
          132.94337463378906,
          139.94960021972656,
          166.10769653320312,
          105.89176177978516,
          99.47635650634766,
          246.38357543945312,
          297.0342102050781,
          144.32046508789062,
          96.36360168457031,
          109.20552825927734,
          103.75121307373047,
          26.816993713378906,
          353.3042297363281,
          79.0566177368164,
          229.53399658203125,
          106.29226684570312,
          330.065673828125,
          338.5264892578125,
          391.487060546875,
          208.1153106689453,
          -1.4183292388916016,
          149.87583923339844,
          130.47360229492188,
          152.72799682617188,
          190.9544219970703,
          97.09265899658203,
          290.93609619140625,
          39.60633087158203,
          361.0247802734375,
          340.6692199707031,
          67.33446502685547,
          297.8460693359375,
          294.31048583984375,
          13.477293968200684,
          312.0623779296875,
          141.35214233398438,
          232.876220703125,
          129.26983642578125,
          107.87450408935547,
          319.40863037109375,
          102.01598358154297,
          55.46657943725586,
          151.1734161376953,
          225.6348419189453,
          146.8697509765625,
          378.38177490234375,
          21.147897720336914,
          26.59976577758789,
          57.987308502197266,
          56.57549285888672,
          210.28013610839844,
          308.0249938964844,
          84.02886199951172,
          194.39183044433594,
          239.4651336669922,
          83.03125,
          298.62493896484375,
          220.0539093017578,
          123.44036102294922,
          215.69778442382812,
          240.122802734375,
          245.93643188476562,
          19.08579444885254,
          131.63250732421875,
          178.2091522216797,
          157.68345642089844,
          276.9883728027344,
          340.3257141113281,
          22.273277282714844,
          58.52115249633789,
          105.01729583740234,
          375.51690673828125,
          151.77987670898438,
          174.65736389160156,
          401.95013427734375,
          56.085357666015625,
          83.77629852294922,
          79.39550018310547,
          189.96261596679688,
          140.69691467285156,
          321.7812805175781,
          232.2659454345703,
          112.82166290283203,
          139.90858459472656,
          59.23240280151367,
          354.6253662109375,
          -19.97217559814453,
          163.50579833984375,
          402.9129943847656,
          159.01951599121094,
          133.72474670410156,
          388.768798828125,
          254.03140258789062,
          220.43214416503906,
          73.5162124633789,
          51.1923942565918,
          253.2950439453125,
          334.3182067871094,
          88.32715606689453,
          137.12428283691406,
          61.99369812011719,
          182.2133331298828,
          200.98095703125,
          387.5513610839844,
          257.3089599609375,
          343.743408203125,
          -5.9914870262146,
          187.3372344970703,
          391.33935546875,
          176.7314910888672,
          64.6470718383789,
          94.75916290283203,
          166.8372802734375,
          303.9119873046875,
          47.074310302734375,
          130.27618408203125,
          215.5626983642578,
          278.2736511230469,
          135.33596801757812,
          110.4003677368164,
          416.9166259765625,
          304.21002197265625,
          245.2703399658203,
          53.76862716674805,
          45.726314544677734,
          32.996097564697266,
          308.9076232910156,
          169.88816833496094,
          206.59524536132812,
          122.6348876953125,
          317.42840576171875,
          229.85256958007812,
          119.26119232177734,
          95.66808319091797,
          108.85010528564453,
          286.1727294921875,
          187.13934326171875,
          168.07872009277344,
          59.1296272277832,
          27.38562774658203,
          231.40481567382812,
          302.6265869140625,
          240.98341369628906,
          335.33929443359375,
          204.03102111816406,
          332.58477783203125,
          130.5496368408203,
          82.73660278320312,
          235.49954223632812,
          213.95655822753906,
          129.77334594726562,
          54.96940612792969,
          197.3984832763672,
          122.00163269042969,
          48.84226608276367,
          162.0777130126953,
          126.77008819580078,
          42.19933319091797,
          76.1247787475586,
          211.6273956298828,
          138.3043975830078,
          323.3835144042969,
          163.63357543945312,
          99.43327331542969,
          156.0231170654297,
          95.7912826538086,
          232.4083709716797,
          82.8289566040039,
          246.50172424316406,
          155.5668182373047,
          282.2032165527344,
          62.81951141357422,
          206.68063354492188,
          436.18072509765625,
          250.4777069091797,
          197.88543701171875,
          70.88505554199219,
          22.363615036010742,
          300.9840393066406,
          206.57176208496094,
          66.82353973388672,
          147.072021484375,
          377.9828796386719,
          275.7681884765625,
          289.772216796875,
          297.8759460449219,
          133.1661834716797,
          321.58966064453125,
          246.71754455566406,
          341.52960205078125,
          111.13883209228516,
          90.14310455322266,
          217.2884979248047,
          328.46734619140625,
          203.7686004638672,
          240.70521545410156,
          133.0895538330078,
          174.7868194580078,
          42.19580841064453,
          32.27665328979492,
          454.96234130859375,
          223.11830139160156,
          185.5225372314453,
          286.49749755859375,
          97.22293090820312,
          233.72415161132812,
          115.76741790771484,
          37.84781265258789,
          232.13510131835938,
          185.6407012939453,
          67.90814971923828,
          105.71763610839844,
          217.1484375,
          398.09832763671875,
          163.20350646972656,
          63.68296432495117,
          248.7628631591797,
          228.81626892089844,
          122.4557876586914,
          82.32477569580078,
          309.98455810546875,
          245.84185791015625,
          331.8148193359375,
          378.64312744140625,
          234.9780731201172,
          144.25421142578125,
          207.7101593017578,
          339.357666015625,
          250.9867401123047,
          139.92665100097656,
          45.12295150756836,
          180.01345825195312,
          48.770469665527344,
          266.11651611328125,
          60.0606803894043,
          110.33975982666016,
          213.68028259277344,
          162.56272888183594,
          235.30506896972656,
          193.17578125,
          68.75440216064453,
          251.69461059570312,
          14.265460014343262,
          281.4327392578125,
          346.2151184082031,
          78.0569076538086,
          278.8752136230469,
          189.62474060058594,
          362.120849609375,
          180.40016174316406,
          53.297542572021484,
          287.19403076171875,
          306.26220703125,
          367.12677001953125,
          144.37852478027344,
          226.5625457763672,
          216.30877685546875,
          183.07049560546875,
          162.26416015625,
          128.0731964111328,
          129.30670166015625,
          155.9677276611328,
          217.25430297851562,
          321.6005554199219,
          247.29331970214844,
          144.2241668701172,
          347.6971130371094,
          83.65508270263672,
          48.133296966552734,
          80.48339080810547,
          103.26009368896484,
          110.77423095703125,
          158.42796325683594,
          84.03731536865234,
          98.41451263427734,
          271.091064453125,
          72.32262420654297,
          267.0824890136719,
          242.10572814941406,
          252.3933868408203,
          46.717586517333984,
          73.55138397216797,
          381.6706237792969,
          54.043270111083984,
          118.142822265625,
          272.626220703125,
          204.8074951171875,
          370.4908447265625,
          113.60965728759766,
          73.74299621582031,
          95.4217300415039,
          192.68678283691406,
          257.6335754394531,
          42.480472564697266,
          168.7121124267578,
          130.87474060058594,
          319.5765380859375,
          113.27843475341797,
          30.972427368164062,
          136.0718231201172,
          288.88409423828125,
          -0.9523338675498962,
          70.22312927246094,
          346.23779296875,
          92.7120132446289,
          134.36312866210938,
          184.5542755126953,
          220.2979736328125,
          300.11517333984375,
          230.93885803222656,
          219.3808135986328,
          146.0917205810547,
          183.888916015625,
          149.16766357421875,
          289.5351257324219,
          145.28683471679688,
          363.75946044921875,
          263.1097106933594,
          32.59486389160156,
          117.25537872314453,
          97.10707092285156,
          168.48468017578125,
          332.9967956542969,
          218.82574462890625,
          130.443115234375,
          189.69017028808594,
          -4.588055610656738,
          137.35792541503906,
          85.9677963256836,
          231.9108428955078,
          193.3174591064453,
          309.1671142578125,
          83.43875885009766,
          317.09844970703125,
          240.138427734375,
          178.9092559814453,
          116.83063507080078,
          95.24568939208984,
          288.60858154296875,
          117.86780548095703,
          160.9304962158203,
          98.34757995605469,
          50.44552993774414,
          120.4163589477539,
          92.83666229248047,
          285.2574462890625,
          181.48899841308594,
          258.67669677734375,
          247.06686401367188,
          141.30482482910156,
          159.3066864013672,
          341.32373046875,
          266.16943359375,
          84.29216766357422,
          -44.0997314453125,
          232.9314727783203,
          121.59064483642578,
          22.15815544128418,
          230.42567443847656,
          152.68423461914062,
          187.97935485839844,
          110.99060821533203,
          258.76025390625,
          175.49464416503906,
          29.618947982788086,
          142.57962036132812,
          66.84503173828125,
          218.91445922851562,
          243.2082977294922,
          227.6883087158203,
          186.37937927246094,
          55.10363006591797,
          112.61333465576172,
          328.48480224609375,
          140.7344512939453,
          76.84136199951172,
          36.22427749633789,
          373.401611328125,
          96.02830505371094,
          31.087432861328125,
          137.6499481201172,
          101.87488555908203,
          94.65694427490234,
          44.551605224609375,
          -95.50885009765625,
          214.92196655273438,
          163.42015075683594,
          44.40509033203125,
          427.5324401855469,
          195.53919982910156,
          215.6497039794922,
          391.52215576171875,
          95.4823989868164,
          88.0292739868164,
          320.435302734375,
          203.92311096191406,
          259.79052734375,
          227.7559051513672,
          180.32492065429688,
          256.7183837890625,
          160.51512145996094,
          128.37155151367188,
          59.9196662902832,
          314.0440673828125,
          147.5543975830078,
          99.93231201171875,
          83.4465560913086,
          187.4177703857422,
          222.59832763671875,
          141.7169647216797,
          40.9661750793457,
          196.9128875732422,
          124.66522979736328,
          45.106143951416016,
          83.52139282226562,
          62.73724365234375,
          194.41412353515625,
          107.80040740966797,
          156.2171630859375,
          295.4481201171875,
          317.6954345703125,
          155.4245147705078,
          121.10491180419922,
          217.53721618652344,
          234.64500427246094,
          179.1863555908203,
          144.1591033935547,
          76.76215362548828,
          230.63230895996094,
          55.436153411865234,
          47.8534049987793,
          243.12225341796875,
          85.28437042236328,
          147.82647705078125,
          68.21256256103516,
          231.63790893554688,
          126.48988342285156,
          118.85426330566406,
          62.2173957824707,
          263.1973876953125,
          88.77600860595703,
          80.04393005371094,
          -8.995491981506348,
          138.1085662841797,
          55.154048919677734,
          133.23880004882812,
          84.47429656982422,
          287.04315185546875,
          222.36361694335938,
          168.94998168945312,
          60.53215026855469,
          133.81263732910156,
          90.6368408203125,
          77.94420623779297,
          17.065427780151367,
          28.475881576538086,
          92.26007080078125
         ],
         "yaxis": "y"
        }
       ],
       "layout": {
        "legend": {
         "tracegroupgap": 0
        },
        "margin": {
         "t": 60
        },
        "template": {
         "data": {
          "bar": [
           {
            "error_x": {
             "color": "#2a3f5f"
            },
            "error_y": {
             "color": "#2a3f5f"
            },
            "marker": {
             "line": {
              "color": "#E5ECF6",
              "width": 0.5
             },
             "pattern": {
              "fillmode": "overlay",
              "size": 10,
              "solidity": 0.2
             }
            },
            "type": "bar"
           }
          ],
          "barpolar": [
           {
            "marker": {
             "line": {
              "color": "#E5ECF6",
              "width": 0.5
             },
             "pattern": {
              "fillmode": "overlay",
              "size": 10,
              "solidity": 0.2
             }
            },
            "type": "barpolar"
           }
          ],
          "carpet": [
           {
            "aaxis": {
             "endlinecolor": "#2a3f5f",
             "gridcolor": "white",
             "linecolor": "white",
             "minorgridcolor": "white",
             "startlinecolor": "#2a3f5f"
            },
            "baxis": {
             "endlinecolor": "#2a3f5f",
             "gridcolor": "white",
             "linecolor": "white",
             "minorgridcolor": "white",
             "startlinecolor": "#2a3f5f"
            },
            "type": "carpet"
           }
          ],
          "choropleth": [
           {
            "colorbar": {
             "outlinewidth": 0,
             "ticks": ""
            },
            "type": "choropleth"
           }
          ],
          "contour": [
           {
            "colorbar": {
             "outlinewidth": 0,
             "ticks": ""
            },
            "colorscale": [
             [
              0,
              "#0d0887"
             ],
             [
              0.1111111111111111,
              "#46039f"
             ],
             [
              0.2222222222222222,
              "#7201a8"
             ],
             [
              0.3333333333333333,
              "#9c179e"
             ],
             [
              0.4444444444444444,
              "#bd3786"
             ],
             [
              0.5555555555555556,
              "#d8576b"
             ],
             [
              0.6666666666666666,
              "#ed7953"
             ],
             [
              0.7777777777777778,
              "#fb9f3a"
             ],
             [
              0.8888888888888888,
              "#fdca26"
             ],
             [
              1,
              "#f0f921"
             ]
            ],
            "type": "contour"
           }
          ],
          "contourcarpet": [
           {
            "colorbar": {
             "outlinewidth": 0,
             "ticks": ""
            },
            "type": "contourcarpet"
           }
          ],
          "heatmap": [
           {
            "colorbar": {
             "outlinewidth": 0,
             "ticks": ""
            },
            "colorscale": [
             [
              0,
              "#0d0887"
             ],
             [
              0.1111111111111111,
              "#46039f"
             ],
             [
              0.2222222222222222,
              "#7201a8"
             ],
             [
              0.3333333333333333,
              "#9c179e"
             ],
             [
              0.4444444444444444,
              "#bd3786"
             ],
             [
              0.5555555555555556,
              "#d8576b"
             ],
             [
              0.6666666666666666,
              "#ed7953"
             ],
             [
              0.7777777777777778,
              "#fb9f3a"
             ],
             [
              0.8888888888888888,
              "#fdca26"
             ],
             [
              1,
              "#f0f921"
             ]
            ],
            "type": "heatmap"
           }
          ],
          "heatmapgl": [
           {
            "colorbar": {
             "outlinewidth": 0,
             "ticks": ""
            },
            "colorscale": [
             [
              0,
              "#0d0887"
             ],
             [
              0.1111111111111111,
              "#46039f"
             ],
             [
              0.2222222222222222,
              "#7201a8"
             ],
             [
              0.3333333333333333,
              "#9c179e"
             ],
             [
              0.4444444444444444,
              "#bd3786"
             ],
             [
              0.5555555555555556,
              "#d8576b"
             ],
             [
              0.6666666666666666,
              "#ed7953"
             ],
             [
              0.7777777777777778,
              "#fb9f3a"
             ],
             [
              0.8888888888888888,
              "#fdca26"
             ],
             [
              1,
              "#f0f921"
             ]
            ],
            "type": "heatmapgl"
           }
          ],
          "histogram": [
           {
            "marker": {
             "pattern": {
              "fillmode": "overlay",
              "size": 10,
              "solidity": 0.2
             }
            },
            "type": "histogram"
           }
          ],
          "histogram2d": [
           {
            "colorbar": {
             "outlinewidth": 0,
             "ticks": ""
            },
            "colorscale": [
             [
              0,
              "#0d0887"
             ],
             [
              0.1111111111111111,
              "#46039f"
             ],
             [
              0.2222222222222222,
              "#7201a8"
             ],
             [
              0.3333333333333333,
              "#9c179e"
             ],
             [
              0.4444444444444444,
              "#bd3786"
             ],
             [
              0.5555555555555556,
              "#d8576b"
             ],
             [
              0.6666666666666666,
              "#ed7953"
             ],
             [
              0.7777777777777778,
              "#fb9f3a"
             ],
             [
              0.8888888888888888,
              "#fdca26"
             ],
             [
              1,
              "#f0f921"
             ]
            ],
            "type": "histogram2d"
           }
          ],
          "histogram2dcontour": [
           {
            "colorbar": {
             "outlinewidth": 0,
             "ticks": ""
            },
            "colorscale": [
             [
              0,
              "#0d0887"
             ],
             [
              0.1111111111111111,
              "#46039f"
             ],
             [
              0.2222222222222222,
              "#7201a8"
             ],
             [
              0.3333333333333333,
              "#9c179e"
             ],
             [
              0.4444444444444444,
              "#bd3786"
             ],
             [
              0.5555555555555556,
              "#d8576b"
             ],
             [
              0.6666666666666666,
              "#ed7953"
             ],
             [
              0.7777777777777778,
              "#fb9f3a"
             ],
             [
              0.8888888888888888,
              "#fdca26"
             ],
             [
              1,
              "#f0f921"
             ]
            ],
            "type": "histogram2dcontour"
           }
          ],
          "mesh3d": [
           {
            "colorbar": {
             "outlinewidth": 0,
             "ticks": ""
            },
            "type": "mesh3d"
           }
          ],
          "parcoords": [
           {
            "line": {
             "colorbar": {
              "outlinewidth": 0,
              "ticks": ""
             }
            },
            "type": "parcoords"
           }
          ],
          "pie": [
           {
            "automargin": true,
            "type": "pie"
           }
          ],
          "scatter": [
           {
            "fillpattern": {
             "fillmode": "overlay",
             "size": 10,
             "solidity": 0.2
            },
            "type": "scatter"
           }
          ],
          "scatter3d": [
           {
            "line": {
             "colorbar": {
              "outlinewidth": 0,
              "ticks": ""
             }
            },
            "marker": {
             "colorbar": {
              "outlinewidth": 0,
              "ticks": ""
             }
            },
            "type": "scatter3d"
           }
          ],
          "scattercarpet": [
           {
            "marker": {
             "colorbar": {
              "outlinewidth": 0,
              "ticks": ""
             }
            },
            "type": "scattercarpet"
           }
          ],
          "scattergeo": [
           {
            "marker": {
             "colorbar": {
              "outlinewidth": 0,
              "ticks": ""
             }
            },
            "type": "scattergeo"
           }
          ],
          "scattergl": [
           {
            "marker": {
             "colorbar": {
              "outlinewidth": 0,
              "ticks": ""
             }
            },
            "type": "scattergl"
           }
          ],
          "scattermapbox": [
           {
            "marker": {
             "colorbar": {
              "outlinewidth": 0,
              "ticks": ""
             }
            },
            "type": "scattermapbox"
           }
          ],
          "scatterpolar": [
           {
            "marker": {
             "colorbar": {
              "outlinewidth": 0,
              "ticks": ""
             }
            },
            "type": "scatterpolar"
           }
          ],
          "scatterpolargl": [
           {
            "marker": {
             "colorbar": {
              "outlinewidth": 0,
              "ticks": ""
             }
            },
            "type": "scatterpolargl"
           }
          ],
          "scatterternary": [
           {
            "marker": {
             "colorbar": {
              "outlinewidth": 0,
              "ticks": ""
             }
            },
            "type": "scatterternary"
           }
          ],
          "surface": [
           {
            "colorbar": {
             "outlinewidth": 0,
             "ticks": ""
            },
            "colorscale": [
             [
              0,
              "#0d0887"
             ],
             [
              0.1111111111111111,
              "#46039f"
             ],
             [
              0.2222222222222222,
              "#7201a8"
             ],
             [
              0.3333333333333333,
              "#9c179e"
             ],
             [
              0.4444444444444444,
              "#bd3786"
             ],
             [
              0.5555555555555556,
              "#d8576b"
             ],
             [
              0.6666666666666666,
              "#ed7953"
             ],
             [
              0.7777777777777778,
              "#fb9f3a"
             ],
             [
              0.8888888888888888,
              "#fdca26"
             ],
             [
              1,
              "#f0f921"
             ]
            ],
            "type": "surface"
           }
          ],
          "table": [
           {
            "cells": {
             "fill": {
              "color": "#EBF0F8"
             },
             "line": {
              "color": "white"
             }
            },
            "header": {
             "fill": {
              "color": "#C8D4E3"
             },
             "line": {
              "color": "white"
             }
            },
            "type": "table"
           }
          ]
         },
         "layout": {
          "annotationdefaults": {
           "arrowcolor": "#2a3f5f",
           "arrowhead": 0,
           "arrowwidth": 1
          },
          "autotypenumbers": "strict",
          "coloraxis": {
           "colorbar": {
            "outlinewidth": 0,
            "ticks": ""
           }
          },
          "colorscale": {
           "diverging": [
            [
             0,
             "#8e0152"
            ],
            [
             0.1,
             "#c51b7d"
            ],
            [
             0.2,
             "#de77ae"
            ],
            [
             0.3,
             "#f1b6da"
            ],
            [
             0.4,
             "#fde0ef"
            ],
            [
             0.5,
             "#f7f7f7"
            ],
            [
             0.6,
             "#e6f5d0"
            ],
            [
             0.7,
             "#b8e186"
            ],
            [
             0.8,
             "#7fbc41"
            ],
            [
             0.9,
             "#4d9221"
            ],
            [
             1,
             "#276419"
            ]
           ],
           "sequential": [
            [
             0,
             "#0d0887"
            ],
            [
             0.1111111111111111,
             "#46039f"
            ],
            [
             0.2222222222222222,
             "#7201a8"
            ],
            [
             0.3333333333333333,
             "#9c179e"
            ],
            [
             0.4444444444444444,
             "#bd3786"
            ],
            [
             0.5555555555555556,
             "#d8576b"
            ],
            [
             0.6666666666666666,
             "#ed7953"
            ],
            [
             0.7777777777777778,
             "#fb9f3a"
            ],
            [
             0.8888888888888888,
             "#fdca26"
            ],
            [
             1,
             "#f0f921"
            ]
           ],
           "sequentialminus": [
            [
             0,
             "#0d0887"
            ],
            [
             0.1111111111111111,
             "#46039f"
            ],
            [
             0.2222222222222222,
             "#7201a8"
            ],
            [
             0.3333333333333333,
             "#9c179e"
            ],
            [
             0.4444444444444444,
             "#bd3786"
            ],
            [
             0.5555555555555556,
             "#d8576b"
            ],
            [
             0.6666666666666666,
             "#ed7953"
            ],
            [
             0.7777777777777778,
             "#fb9f3a"
            ],
            [
             0.8888888888888888,
             "#fdca26"
            ],
            [
             1,
             "#f0f921"
            ]
           ]
          },
          "colorway": [
           "#636efa",
           "#EF553B",
           "#00cc96",
           "#ab63fa",
           "#FFA15A",
           "#19d3f3",
           "#FF6692",
           "#B6E880",
           "#FF97FF",
           "#FECB52"
          ],
          "font": {
           "color": "#2a3f5f"
          },
          "geo": {
           "bgcolor": "white",
           "lakecolor": "white",
           "landcolor": "#E5ECF6",
           "showlakes": true,
           "showland": true,
           "subunitcolor": "white"
          },
          "hoverlabel": {
           "align": "left"
          },
          "hovermode": "closest",
          "mapbox": {
           "style": "light"
          },
          "paper_bgcolor": "white",
          "plot_bgcolor": "#E5ECF6",
          "polar": {
           "angularaxis": {
            "gridcolor": "white",
            "linecolor": "white",
            "ticks": ""
           },
           "bgcolor": "#E5ECF6",
           "radialaxis": {
            "gridcolor": "white",
            "linecolor": "white",
            "ticks": ""
           }
          },
          "scene": {
           "xaxis": {
            "backgroundcolor": "#E5ECF6",
            "gridcolor": "white",
            "gridwidth": 2,
            "linecolor": "white",
            "showbackground": true,
            "ticks": "",
            "zerolinecolor": "white"
           },
           "yaxis": {
            "backgroundcolor": "#E5ECF6",
            "gridcolor": "white",
            "gridwidth": 2,
            "linecolor": "white",
            "showbackground": true,
            "ticks": "",
            "zerolinecolor": "white"
           },
           "zaxis": {
            "backgroundcolor": "#E5ECF6",
            "gridcolor": "white",
            "gridwidth": 2,
            "linecolor": "white",
            "showbackground": true,
            "ticks": "",
            "zerolinecolor": "white"
           }
          },
          "shapedefaults": {
           "line": {
            "color": "#2a3f5f"
           }
          },
          "ternary": {
           "aaxis": {
            "gridcolor": "white",
            "linecolor": "white",
            "ticks": ""
           },
           "baxis": {
            "gridcolor": "white",
            "linecolor": "white",
            "ticks": ""
           },
           "bgcolor": "#E5ECF6",
           "caxis": {
            "gridcolor": "white",
            "linecolor": "white",
            "ticks": ""
           }
          },
          "title": {
           "x": 0.05
          },
          "xaxis": {
           "automargin": true,
           "gridcolor": "white",
           "linecolor": "white",
           "ticks": "",
           "title": {
            "standoff": 15
           },
           "zerolinecolor": "white",
           "zerolinewidth": 2
          },
          "yaxis": {
           "automargin": true,
           "gridcolor": "white",
           "linecolor": "white",
           "ticks": "",
           "title": {
            "standoff": 15
           },
           "zerolinecolor": "white",
           "zerolinewidth": 2
          }
         }
        },
        "xaxis": {
         "anchor": "y",
         "domain": [
          0,
          1
         ],
         "title": {
          "text": "Actual y"
         }
        },
        "yaxis": {
         "anchor": "x",
         "domain": [
          0,
          1
         ],
         "title": {
          "text": "Predicted y"
         }
        }
       }
      }
     },
     "metadata": {},
     "output_type": "display_data"
    }
   ],
   "source": [
    "y_pred = model.predict(X_test)\n",
    "print('RMSE:', np.sqrt(mean_squared_error(y_test, y_pred)))\n",
    "print('R^2 Score:',explained_variance_score(y_test,y_pred))\n",
    "# Visualizing Our predictions\n",
    "\n",
    "y_pred = np.array(y_pred).flatten()\n",
    "y_test = np.array(y_test)\n",
    "\n",
    "plot(y_test, y_pred)\n"
   ]
  },
  {
   "attachments": {},
   "cell_type": "markdown",
   "metadata": {
    "collapsed": false
   },
   "source": [
    "We can conclude that HistGradientBoostingRegressor achieve the best results, with the lowest RMSE (~60) and the higher R^2 score (~0.75). All other models achieve decent results, with RMSE around half of standard deviation, and R^2 > 0.5."
   ]
  }
 ],
 "metadata": {
  "kernelspec": {
   "display_name": "Python 3 (ipykernel)",
   "language": "python",
   "name": "python3"
  },
  "language_info": {
   "codemirror_mode": {
    "name": "ipython",
    "version": 3
   },
   "file_extension": ".py",
   "mimetype": "text/x-python",
   "name": "python",
   "nbconvert_exporter": "python",
   "pygments_lexer": "ipython3",
   "version": "3.10.10"
  }
 },
 "nbformat": 4,
 "nbformat_minor": 2
}
