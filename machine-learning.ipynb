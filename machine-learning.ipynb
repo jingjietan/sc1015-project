{
 "cells": [
  {
   "cell_type": "code",
   "execution_count": 1,
   "metadata": {},
   "outputs": [],
   "source": [
    "random_state = 4392"
   ]
  },
  {
   "cell_type": "markdown",
   "metadata": {},
   "source": [
    "# Machine-Learning"
   ]
  },
  {
   "cell_type": "markdown",
   "metadata": {},
   "source": [
    "### Recommendations: Linear Reg, DTRegression, NeuralNetwork, SVM, LogisticReg"
   ]
  },
  {
   "cell_type": "code",
   "execution_count": 2,
   "metadata": {},
   "outputs": [],
   "source": [
    "import numpy as np\n",
    "import pandas as pd\n",
    "import seaborn as sns\n",
    "import matplotlib.pyplot as plt\n",
    "import plotly.express as px\n",
    "import shap\n",
    "\n",
    "from sklearn.model_selection import train_test_split # Random Split\n",
    "from sklearn.metrics import r2_score, mean_squared_error, explained_variance_score\n",
    "from sklearn.preprocessing import StandardScaler\n",
    "\n",
    "from sklearn import set_config\n",
    "set_config(transform_output=\"pandas\") # Keeps feature names after pipeline"
   ]
  },
  {
   "cell_type": "code",
   "execution_count": 3,
   "metadata": {
    "collapsed": false
   },
   "outputs": [],
   "source": [
    "def calculate_score(y_true, y_pred):\n",
    "    print(f\"R2 Score {r2_score(y_true, y_pred)}\")\n",
    "    print(f\"RMSE : {np.sqrt(mean_squared_error(y_true, y_pred))}\")\n",
    "\n",
    "def plot(y_true, y_pred):\n",
    "    # Plotly express plot\n",
    "    h = pd.DataFrame(data={'Actual y':y_true, 'Predicted y': y_pred})\n",
    "    fig = px.scatter(h, x='Actual y', y='Predicted y')\n",
    "    fig.show()"
   ]
  },
  {
   "cell_type": "code",
   "execution_count": 4,
   "metadata": {},
   "outputs": [
    {
     "data": {
      "text/html": [
       "<div>\n",
       "<style scoped>\n",
       "    .dataframe tbody tr th:only-of-type {\n",
       "        vertical-align: middle;\n",
       "    }\n",
       "\n",
       "    .dataframe tbody tr th {\n",
       "        vertical-align: top;\n",
       "    }\n",
       "\n",
       "    .dataframe thead th {\n",
       "        text-align: right;\n",
       "    }\n",
       "</style>\n",
       "<table border=\"1\" class=\"dataframe\">\n",
       "  <thead>\n",
       "    <tr style=\"text-align: right;\">\n",
       "      <th></th>\n",
       "      <th>Unnamed: 0</th>\n",
       "      <th>neighbourhood_cleansed_Ang Mo Kio</th>\n",
       "      <th>neighbourhood_cleansed_Bedok</th>\n",
       "      <th>neighbourhood_cleansed_Bishan</th>\n",
       "      <th>neighbourhood_cleansed_Bukit Batok</th>\n",
       "      <th>neighbourhood_cleansed_Bukit Merah</th>\n",
       "      <th>neighbourhood_cleansed_Bukit Panjang</th>\n",
       "      <th>neighbourhood_cleansed_Bukit Timah</th>\n",
       "      <th>neighbourhood_cleansed_Central Water Catchment</th>\n",
       "      <th>neighbourhood_cleansed_Choa Chu Kang</th>\n",
       "      <th>...</th>\n",
       "      <th>Pool</th>\n",
       "      <th>Extra pillows and blankets</th>\n",
       "      <th>Coffee</th>\n",
       "      <th>Private entrance</th>\n",
       "      <th>host_since_years</th>\n",
       "      <th>distance_from_MRT</th>\n",
       "      <th>distance_from_Bus</th>\n",
       "      <th>distance_from_Mall</th>\n",
       "      <th>distance_from_School</th>\n",
       "      <th>distance_from_Food</th>\n",
       "    </tr>\n",
       "  </thead>\n",
       "  <tbody>\n",
       "    <tr>\n",
       "      <th>0</th>\n",
       "      <td>0</td>\n",
       "      <td>0.0</td>\n",
       "      <td>0.0</td>\n",
       "      <td>0.0</td>\n",
       "      <td>0.0</td>\n",
       "      <td>0.0</td>\n",
       "      <td>0.0</td>\n",
       "      <td>0.0</td>\n",
       "      <td>0.0</td>\n",
       "      <td>0.0</td>\n",
       "      <td>...</td>\n",
       "      <td>False</td>\n",
       "      <td>False</td>\n",
       "      <td>True</td>\n",
       "      <td>True</td>\n",
       "      <td>12</td>\n",
       "      <td>0.842953</td>\n",
       "      <td>0.180102</td>\n",
       "      <td>7.976199</td>\n",
       "      <td>3.515767</td>\n",
       "      <td>0.785094</td>\n",
       "    </tr>\n",
       "    <tr>\n",
       "      <th>1</th>\n",
       "      <td>1</td>\n",
       "      <td>0.0</td>\n",
       "      <td>0.0</td>\n",
       "      <td>0.0</td>\n",
       "      <td>0.0</td>\n",
       "      <td>0.0</td>\n",
       "      <td>0.0</td>\n",
       "      <td>0.0</td>\n",
       "      <td>0.0</td>\n",
       "      <td>0.0</td>\n",
       "      <td>...</td>\n",
       "      <td>False</td>\n",
       "      <td>False</td>\n",
       "      <td>True</td>\n",
       "      <td>False</td>\n",
       "      <td>12</td>\n",
       "      <td>0.880282</td>\n",
       "      <td>0.205346</td>\n",
       "      <td>7.952045</td>\n",
       "      <td>3.786036</td>\n",
       "      <td>0.502588</td>\n",
       "    </tr>\n",
       "    <tr>\n",
       "      <th>2</th>\n",
       "      <td>2</td>\n",
       "      <td>0.0</td>\n",
       "      <td>0.0</td>\n",
       "      <td>0.0</td>\n",
       "      <td>0.0</td>\n",
       "      <td>1.0</td>\n",
       "      <td>0.0</td>\n",
       "      <td>0.0</td>\n",
       "      <td>0.0</td>\n",
       "      <td>0.0</td>\n",
       "      <td>...</td>\n",
       "      <td>False</td>\n",
       "      <td>False</td>\n",
       "      <td>False</td>\n",
       "      <td>False</td>\n",
       "      <td>12</td>\n",
       "      <td>0.549557</td>\n",
       "      <td>0.117975</td>\n",
       "      <td>4.230675</td>\n",
       "      <td>1.095807</td>\n",
       "      <td>0.169376</td>\n",
       "    </tr>\n",
       "    <tr>\n",
       "      <th>3</th>\n",
       "      <td>3</td>\n",
       "      <td>0.0</td>\n",
       "      <td>0.0</td>\n",
       "      <td>0.0</td>\n",
       "      <td>0.0</td>\n",
       "      <td>1.0</td>\n",
       "      <td>0.0</td>\n",
       "      <td>0.0</td>\n",
       "      <td>0.0</td>\n",
       "      <td>0.0</td>\n",
       "      <td>...</td>\n",
       "      <td>False</td>\n",
       "      <td>False</td>\n",
       "      <td>False</td>\n",
       "      <td>False</td>\n",
       "      <td>12</td>\n",
       "      <td>0.609339</td>\n",
       "      <td>0.040906</td>\n",
       "      <td>3.862544</td>\n",
       "      <td>0.685090</td>\n",
       "      <td>0.208523</td>\n",
       "    </tr>\n",
       "    <tr>\n",
       "      <th>4</th>\n",
       "      <td>4</td>\n",
       "      <td>0.0</td>\n",
       "      <td>0.0</td>\n",
       "      <td>0.0</td>\n",
       "      <td>0.0</td>\n",
       "      <td>0.0</td>\n",
       "      <td>0.0</td>\n",
       "      <td>0.0</td>\n",
       "      <td>0.0</td>\n",
       "      <td>0.0</td>\n",
       "      <td>...</td>\n",
       "      <td>False</td>\n",
       "      <td>False</td>\n",
       "      <td>False</td>\n",
       "      <td>True</td>\n",
       "      <td>12</td>\n",
       "      <td>0.738518</td>\n",
       "      <td>0.210803</td>\n",
       "      <td>7.816646</td>\n",
       "      <td>3.809634</td>\n",
       "      <td>0.506811</td>\n",
       "    </tr>\n",
       "  </tbody>\n",
       "</table>\n",
       "<p>5 rows × 132 columns</p>\n",
       "</div>"
      ],
      "text/plain": [
       "   Unnamed: 0  neighbourhood_cleansed_Ang Mo Kio  \\\n",
       "0           0                                0.0   \n",
       "1           1                                0.0   \n",
       "2           2                                0.0   \n",
       "3           3                                0.0   \n",
       "4           4                                0.0   \n",
       "\n",
       "   neighbourhood_cleansed_Bedok  neighbourhood_cleansed_Bishan  \\\n",
       "0                           0.0                            0.0   \n",
       "1                           0.0                            0.0   \n",
       "2                           0.0                            0.0   \n",
       "3                           0.0                            0.0   \n",
       "4                           0.0                            0.0   \n",
       "\n",
       "   neighbourhood_cleansed_Bukit Batok  neighbourhood_cleansed_Bukit Merah  \\\n",
       "0                                 0.0                                 0.0   \n",
       "1                                 0.0                                 0.0   \n",
       "2                                 0.0                                 1.0   \n",
       "3                                 0.0                                 1.0   \n",
       "4                                 0.0                                 0.0   \n",
       "\n",
       "   neighbourhood_cleansed_Bukit Panjang  neighbourhood_cleansed_Bukit Timah  \\\n",
       "0                                   0.0                                 0.0   \n",
       "1                                   0.0                                 0.0   \n",
       "2                                   0.0                                 0.0   \n",
       "3                                   0.0                                 0.0   \n",
       "4                                   0.0                                 0.0   \n",
       "\n",
       "   neighbourhood_cleansed_Central Water Catchment  \\\n",
       "0                                             0.0   \n",
       "1                                             0.0   \n",
       "2                                             0.0   \n",
       "3                                             0.0   \n",
       "4                                             0.0   \n",
       "\n",
       "   neighbourhood_cleansed_Choa Chu Kang  ...   Pool  \\\n",
       "0                                   0.0  ...  False   \n",
       "1                                   0.0  ...  False   \n",
       "2                                   0.0  ...  False   \n",
       "3                                   0.0  ...  False   \n",
       "4                                   0.0  ...  False   \n",
       "\n",
       "   Extra pillows and blankets  Coffee  Private entrance  host_since_years  \\\n",
       "0                       False    True              True                12   \n",
       "1                       False    True             False                12   \n",
       "2                       False   False             False                12   \n",
       "3                       False   False             False                12   \n",
       "4                       False   False              True                12   \n",
       "\n",
       "   distance_from_MRT  distance_from_Bus  distance_from_Mall  \\\n",
       "0           0.842953           0.180102            7.976199   \n",
       "1           0.880282           0.205346            7.952045   \n",
       "2           0.549557           0.117975            4.230675   \n",
       "3           0.609339           0.040906            3.862544   \n",
       "4           0.738518           0.210803            7.816646   \n",
       "\n",
       "   distance_from_School  distance_from_Food  \n",
       "0              3.515767            0.785094  \n",
       "1              3.786036            0.502588  \n",
       "2              1.095807            0.169376  \n",
       "3              0.685090            0.208523  \n",
       "4              3.809634            0.506811  \n",
       "\n",
       "[5 rows x 132 columns]"
      ]
     },
     "execution_count": 4,
     "metadata": {},
     "output_type": "execute_result"
    }
   ],
   "source": [
    "df = pd.read_csv('data/clean_listing.csv')\n",
    "df.head()"
   ]
  },
  {
   "cell_type": "code",
   "execution_count": 5,
   "metadata": {},
   "outputs": [
    {
     "name": "stdout",
     "output_type": "stream",
     "text": [
      "The standard deviation of price of listing is $132.36.\n"
     ]
    }
   ],
   "source": [
    "print(f\"The standard deviation of price of listing is ${df['price'].std():.2f}.\")"
   ]
  },
  {
   "cell_type": "code",
   "execution_count": 6,
   "metadata": {},
   "outputs": [],
   "source": [
    "# Split data and drop unnecessary data\n",
    "Y = df['price']\n",
    "X = df.drop(['price', 'Unnamed: 0', 'latitude', 'longitude'], axis=1)\n",
    "X = X.astype('float64')"
   ]
  },
  {
   "cell_type": "code",
   "execution_count": 7,
   "metadata": {},
   "outputs": [],
   "source": [
    "X_train, X_test, y_train, y_test = train_test_split(X, Y, test_size=0.20, random_state=45)"
   ]
  },
  {
   "cell_type": "code",
   "execution_count": 8,
   "metadata": {
    "collapsed": false
   },
   "outputs": [
    {
     "data": {
      "text/html": [
       "<div>\n",
       "<style scoped>\n",
       "    .dataframe tbody tr th:only-of-type {\n",
       "        vertical-align: middle;\n",
       "    }\n",
       "\n",
       "    .dataframe tbody tr th {\n",
       "        vertical-align: top;\n",
       "    }\n",
       "\n",
       "    .dataframe thead th {\n",
       "        text-align: right;\n",
       "    }\n",
       "</style>\n",
       "<table border=\"1\" class=\"dataframe\">\n",
       "  <thead>\n",
       "    <tr style=\"text-align: right;\">\n",
       "      <th></th>\n",
       "      <th>neighbourhood_cleansed_Ang Mo Kio</th>\n",
       "      <th>neighbourhood_cleansed_Bedok</th>\n",
       "      <th>neighbourhood_cleansed_Bishan</th>\n",
       "      <th>neighbourhood_cleansed_Bukit Batok</th>\n",
       "      <th>neighbourhood_cleansed_Bukit Merah</th>\n",
       "      <th>neighbourhood_cleansed_Bukit Panjang</th>\n",
       "      <th>neighbourhood_cleansed_Bukit Timah</th>\n",
       "      <th>neighbourhood_cleansed_Central Water Catchment</th>\n",
       "      <th>neighbourhood_cleansed_Choa Chu Kang</th>\n",
       "      <th>neighbourhood_cleansed_Clementi</th>\n",
       "      <th>...</th>\n",
       "      <th>Pool</th>\n",
       "      <th>Extra pillows and blankets</th>\n",
       "      <th>Coffee</th>\n",
       "      <th>Private entrance</th>\n",
       "      <th>host_since_years</th>\n",
       "      <th>distance_from_MRT</th>\n",
       "      <th>distance_from_Bus</th>\n",
       "      <th>distance_from_Mall</th>\n",
       "      <th>distance_from_School</th>\n",
       "      <th>distance_from_Food</th>\n",
       "    </tr>\n",
       "  </thead>\n",
       "  <tbody>\n",
       "    <tr>\n",
       "      <th>0</th>\n",
       "      <td>0.0</td>\n",
       "      <td>0.0</td>\n",
       "      <td>0.0</td>\n",
       "      <td>0.0</td>\n",
       "      <td>0.0</td>\n",
       "      <td>0.0</td>\n",
       "      <td>0.0</td>\n",
       "      <td>0.0</td>\n",
       "      <td>0.0</td>\n",
       "      <td>0.0</td>\n",
       "      <td>...</td>\n",
       "      <td>0.0</td>\n",
       "      <td>0.0</td>\n",
       "      <td>1.0</td>\n",
       "      <td>1.0</td>\n",
       "      <td>12.0</td>\n",
       "      <td>0.842953</td>\n",
       "      <td>0.180102</td>\n",
       "      <td>7.976199</td>\n",
       "      <td>3.515767</td>\n",
       "      <td>0.785094</td>\n",
       "    </tr>\n",
       "    <tr>\n",
       "      <th>1</th>\n",
       "      <td>0.0</td>\n",
       "      <td>0.0</td>\n",
       "      <td>0.0</td>\n",
       "      <td>0.0</td>\n",
       "      <td>0.0</td>\n",
       "      <td>0.0</td>\n",
       "      <td>0.0</td>\n",
       "      <td>0.0</td>\n",
       "      <td>0.0</td>\n",
       "      <td>0.0</td>\n",
       "      <td>...</td>\n",
       "      <td>0.0</td>\n",
       "      <td>0.0</td>\n",
       "      <td>1.0</td>\n",
       "      <td>0.0</td>\n",
       "      <td>12.0</td>\n",
       "      <td>0.880282</td>\n",
       "      <td>0.205346</td>\n",
       "      <td>7.952045</td>\n",
       "      <td>3.786036</td>\n",
       "      <td>0.502588</td>\n",
       "    </tr>\n",
       "    <tr>\n",
       "      <th>2</th>\n",
       "      <td>0.0</td>\n",
       "      <td>0.0</td>\n",
       "      <td>0.0</td>\n",
       "      <td>0.0</td>\n",
       "      <td>1.0</td>\n",
       "      <td>0.0</td>\n",
       "      <td>0.0</td>\n",
       "      <td>0.0</td>\n",
       "      <td>0.0</td>\n",
       "      <td>0.0</td>\n",
       "      <td>...</td>\n",
       "      <td>0.0</td>\n",
       "      <td>0.0</td>\n",
       "      <td>0.0</td>\n",
       "      <td>0.0</td>\n",
       "      <td>12.0</td>\n",
       "      <td>0.549557</td>\n",
       "      <td>0.117975</td>\n",
       "      <td>4.230675</td>\n",
       "      <td>1.095807</td>\n",
       "      <td>0.169376</td>\n",
       "    </tr>\n",
       "    <tr>\n",
       "      <th>3</th>\n",
       "      <td>0.0</td>\n",
       "      <td>0.0</td>\n",
       "      <td>0.0</td>\n",
       "      <td>0.0</td>\n",
       "      <td>1.0</td>\n",
       "      <td>0.0</td>\n",
       "      <td>0.0</td>\n",
       "      <td>0.0</td>\n",
       "      <td>0.0</td>\n",
       "      <td>0.0</td>\n",
       "      <td>...</td>\n",
       "      <td>0.0</td>\n",
       "      <td>0.0</td>\n",
       "      <td>0.0</td>\n",
       "      <td>0.0</td>\n",
       "      <td>12.0</td>\n",
       "      <td>0.609339</td>\n",
       "      <td>0.040906</td>\n",
       "      <td>3.862544</td>\n",
       "      <td>0.685090</td>\n",
       "      <td>0.208523</td>\n",
       "    </tr>\n",
       "    <tr>\n",
       "      <th>4</th>\n",
       "      <td>0.0</td>\n",
       "      <td>0.0</td>\n",
       "      <td>0.0</td>\n",
       "      <td>0.0</td>\n",
       "      <td>0.0</td>\n",
       "      <td>0.0</td>\n",
       "      <td>0.0</td>\n",
       "      <td>0.0</td>\n",
       "      <td>0.0</td>\n",
       "      <td>0.0</td>\n",
       "      <td>...</td>\n",
       "      <td>0.0</td>\n",
       "      <td>0.0</td>\n",
       "      <td>0.0</td>\n",
       "      <td>1.0</td>\n",
       "      <td>12.0</td>\n",
       "      <td>0.738518</td>\n",
       "      <td>0.210803</td>\n",
       "      <td>7.816646</td>\n",
       "      <td>3.809634</td>\n",
       "      <td>0.506811</td>\n",
       "    </tr>\n",
       "  </tbody>\n",
       "</table>\n",
       "<p>5 rows × 128 columns</p>\n",
       "</div>"
      ],
      "text/plain": [
       "   neighbourhood_cleansed_Ang Mo Kio  neighbourhood_cleansed_Bedok  \\\n",
       "0                                0.0                           0.0   \n",
       "1                                0.0                           0.0   \n",
       "2                                0.0                           0.0   \n",
       "3                                0.0                           0.0   \n",
       "4                                0.0                           0.0   \n",
       "\n",
       "   neighbourhood_cleansed_Bishan  neighbourhood_cleansed_Bukit Batok  \\\n",
       "0                            0.0                                 0.0   \n",
       "1                            0.0                                 0.0   \n",
       "2                            0.0                                 0.0   \n",
       "3                            0.0                                 0.0   \n",
       "4                            0.0                                 0.0   \n",
       "\n",
       "   neighbourhood_cleansed_Bukit Merah  neighbourhood_cleansed_Bukit Panjang  \\\n",
       "0                                 0.0                                   0.0   \n",
       "1                                 0.0                                   0.0   \n",
       "2                                 1.0                                   0.0   \n",
       "3                                 1.0                                   0.0   \n",
       "4                                 0.0                                   0.0   \n",
       "\n",
       "   neighbourhood_cleansed_Bukit Timah  \\\n",
       "0                                 0.0   \n",
       "1                                 0.0   \n",
       "2                                 0.0   \n",
       "3                                 0.0   \n",
       "4                                 0.0   \n",
       "\n",
       "   neighbourhood_cleansed_Central Water Catchment  \\\n",
       "0                                             0.0   \n",
       "1                                             0.0   \n",
       "2                                             0.0   \n",
       "3                                             0.0   \n",
       "4                                             0.0   \n",
       "\n",
       "   neighbourhood_cleansed_Choa Chu Kang  neighbourhood_cleansed_Clementi  ...  \\\n",
       "0                                   0.0                              0.0  ...   \n",
       "1                                   0.0                              0.0  ...   \n",
       "2                                   0.0                              0.0  ...   \n",
       "3                                   0.0                              0.0  ...   \n",
       "4                                   0.0                              0.0  ...   \n",
       "\n",
       "   Pool  Extra pillows and blankets  Coffee  Private entrance  \\\n",
       "0   0.0                         0.0     1.0               1.0   \n",
       "1   0.0                         0.0     1.0               0.0   \n",
       "2   0.0                         0.0     0.0               0.0   \n",
       "3   0.0                         0.0     0.0               0.0   \n",
       "4   0.0                         0.0     0.0               1.0   \n",
       "\n",
       "   host_since_years  distance_from_MRT  distance_from_Bus  distance_from_Mall  \\\n",
       "0              12.0           0.842953           0.180102            7.976199   \n",
       "1              12.0           0.880282           0.205346            7.952045   \n",
       "2              12.0           0.549557           0.117975            4.230675   \n",
       "3              12.0           0.609339           0.040906            3.862544   \n",
       "4              12.0           0.738518           0.210803            7.816646   \n",
       "\n",
       "   distance_from_School  distance_from_Food  \n",
       "0              3.515767            0.785094  \n",
       "1              3.786036            0.502588  \n",
       "2              1.095807            0.169376  \n",
       "3              0.685090            0.208523  \n",
       "4              3.809634            0.506811  \n",
       "\n",
       "[5 rows x 128 columns]"
      ]
     },
     "execution_count": 8,
     "metadata": {},
     "output_type": "execute_result"
    }
   ],
   "source": [
    "X.head()"
   ]
  },
  {
   "attachments": {},
   "cell_type": "markdown",
   "metadata": {},
   "source": [
    "# Part 1:\n",
    "Finding a model that best predicts price. We will being trying :\n",
    "- linear model: Linear Regression\n",
    "- tree-based model: HistGradientBoostRegressor, XGBoost\n",
    "- and to try something new: Neural Network."
   ]
  },
  {
   "attachments": {},
   "cell_type": "markdown",
   "metadata": {},
   "source": [
    "We will be using $R^2$ score to compare the goodness of the model, and RMSE to find the accuracy of the prediction."
   ]
  },
  {
   "cell_type": "markdown",
   "metadata": {
    "collapsed": false
   },
   "source": [
    "### Model 1: Linear Regression"
   ]
  },
  {
   "cell_type": "code",
   "execution_count": 9,
   "metadata": {},
   "outputs": [
    {
     "name": "stdout",
     "output_type": "stream",
     "text": [
      "Train\n",
      " Score: 0.6131626649085447\n",
      "R2 Score 0.6131626649085447\n",
      "RMSE : 82.73377935660328\n",
      "Test\n",
      " Score: 0.6094672796941423\n",
      "R2 Score 0.6094672796941423\n",
      "RMSE : 80.9760550427124\n"
     ]
    },
    {
     "data": {
      "application/vnd.plotly.v1+json": {
       "config": {
        "plotlyServerURL": "https://plot.ly"
       },
       "data": [
        {
         "hovertemplate": "Actual y=%{x}<br>Predicted y=%{y}<extra></extra>",
         "legendgroup": "",
         "marker": {
          "color": "#636efa",
          "symbol": "circle"
         },
         "mode": "markers",
         "name": "",
         "orientation": "v",
         "showlegend": false,
         "type": "scatter",
         "x": [
          333,
          156,
          174,
          148,
          50,
          39,
          59,
          247,
          193,
          70,
          97,
          31,
          77,
          130,
          134,
          185,
          237,
          30,
          48,
          118,
          55,
          159,
          379,
          238,
          53,
          127,
          69,
          269,
          150,
          30,
          56,
          253,
          99,
          305,
          578,
          246,
          232,
          148,
          346,
          230,
          69,
          60,
          81,
          127,
          200,
          202,
          300,
          350,
          260,
          191,
          46,
          292,
          401,
          188,
          399,
          48,
          260,
          161,
          540,
          70,
          73,
          615,
          45,
          18,
          394,
          403,
          120,
          149,
          100,
          292,
          80,
          216,
          106,
          160,
          126,
          78,
          130,
          391,
          47,
          257,
          24,
          75,
          100,
          45,
          250,
          420,
          163,
          130,
          85,
          379,
          175,
          490,
          49,
          99,
          265,
          48,
          29,
          110,
          168,
          186,
          139,
          120,
          224,
          79,
          343,
          250,
          50,
          145,
          219,
          174,
          69,
          152,
          189,
          225,
          250,
          32,
          75,
          231,
          280,
          154,
          110,
          187,
          36,
          550,
          55,
          540,
          150,
          39,
          173,
          214,
          100,
          310,
          150,
          175,
          105,
          31,
          174,
          133,
          281,
          158,
          69,
          57,
          434,
          81,
          203,
          69,
          204,
          179,
          22,
          290,
          246,
          254,
          201,
          154,
          230,
          200,
          79,
          400,
          40,
          400,
          60,
          69,
          145,
          100,
          49,
          79,
          100,
          375,
          49,
          50,
          500,
          90,
          69,
          155,
          39,
          190,
          347,
          184,
          463,
          79,
          250,
          88,
          95,
          205,
          140,
          458,
          140,
          34,
          162,
          29,
          97,
          101,
          130,
          169,
          187,
          148,
          256,
          95,
          488,
          59,
          60,
          85,
          56,
          78,
          276,
          409,
          62,
          402,
          174,
          364,
          200,
          223,
          161,
          65,
          223,
          88,
          43,
          68,
          287,
          124,
          97,
          122,
          216,
          110,
          620,
          240,
          85,
          316,
          165,
          47,
          69,
          59,
          109,
          220,
          400,
          69,
          281,
          241,
          37,
          169,
          277,
          450,
          80,
          238,
          26,
          95,
          35,
          34,
          110,
          49,
          230,
          350,
          196,
          130,
          90,
          121,
          174,
          133,
          218,
          575,
          97,
          310,
          80,
          315,
          209,
          194,
          200,
          50,
          59,
          119,
          39,
          38,
          40,
          95,
          154,
          313,
          354,
          150,
          120,
          59,
          42,
          120,
          280,
          180,
          367,
          138,
          450,
          49,
          124,
          165,
          101,
          184,
          46,
          297,
          210,
          91,
          186,
          50,
          413,
          49,
          200,
          160,
          131,
          191,
          100,
          350,
          74,
          43,
          155,
          89,
          106,
          65,
          111,
          79,
          456,
          175,
          49,
          98,
          288,
          170,
          45,
          66,
          58,
          187,
          170,
          146,
          100,
          78,
          422,
          270,
          249,
          193,
          45,
          59,
          116,
          65,
          200,
          33,
          404,
          131,
          75,
          176,
          300,
          199,
          346,
          148,
          108,
          50,
          104,
          200,
          430,
          115,
          80,
          450,
          392,
          367,
          67,
          181,
          270,
          377,
          224,
          44,
          135,
          258,
          39,
          300,
          130,
          145,
          409,
          148,
          58,
          59,
          140,
          470,
          350,
          212,
          50,
          145,
          37,
          369,
          57,
          87,
          394,
          411,
          130,
          155,
          300,
          51,
          533,
          135,
          264,
          160,
          400,
          59,
          180,
          70,
          67,
          70,
          328,
          499,
          150,
          99,
          616,
          40,
          236,
          383,
          41,
          60,
          117,
          160,
          330,
          126,
          414,
          40,
          250,
          99,
          149,
          102,
          180,
          155,
          369,
          362,
          170,
          247,
          57,
          45,
          120,
          70,
          387,
          70,
          80,
          68,
          200,
          90,
          20,
          119,
          199,
          250,
          330,
          201,
          121,
          495,
          299,
          528,
          270,
          261,
          85,
          180,
          158,
          465,
          91,
          415,
          135,
          122,
          100,
          53,
          110,
          238,
          102,
          269,
          235,
          40,
          109,
          144,
          243,
          22,
          181,
          50,
          184,
          145,
          250,
          200,
          58,
          120,
          25,
          210,
          49,
          85,
          69,
          69,
          238,
          109,
          399,
          44,
          323,
          48,
          80,
          461,
          49,
          47,
          75,
          96,
          30,
          140,
          457,
          70,
          257,
          120,
          59,
          24,
          265,
          140,
          49,
          409,
          225,
          45,
          239,
          225,
          48,
          49,
          65,
          98,
          88,
          156,
          405,
          59,
          187,
          59,
          70,
          199,
          188,
          46,
          193,
          270,
          239,
          169,
          67,
          30,
          214,
          522,
          225,
          45,
          539,
          45,
          465,
          223,
          44,
          221,
          300,
          69,
          59,
          320,
          59,
          265,
          450,
          57,
          85,
          144,
          499,
          90,
          135,
          250,
          179,
          320,
          75
         ],
         "xaxis": "x",
         "y": [
          200.89962962782826,
          155.75785919767713,
          174.9480337217227,
          152.2853889771987,
          79.99189441223669,
          7.896917627085244,
          41.83247166867959,
          219.30424814158835,
          289.78776309428036,
          116.32857137794406,
          86.3234328965732,
          176.7125458657506,
          112.47791753799126,
          69.40860914032817,
          128.05483360945283,
          239.33785221867504,
          233.4166976682058,
          89.35822350331884,
          121.0816844383047,
          183.03290055767542,
          113.84242063341445,
          179.64445832741578,
          304.8814885980514,
          246.22639891131826,
          53.85656515122945,
          85.13087711616389,
          50.538455115713894,
          223.60711590552523,
          229.418181477772,
          112.04203749007189,
          121.73384593881077,
          265.6157518406996,
          153.12678211526446,
          140.63902310341496,
          353.6404656808477,
          212.9893250211309,
          236.49395355883706,
          203.2725837222901,
          245.56277853067166,
          298.33320881428335,
          41.91692104944916,
          -7.9066412151449015,
          86.73678805278496,
          169.1883207984714,
          209.22897240024383,
          280.0343603245807,
          200.91753953389386,
          321.28663628119386,
          214.87375859723082,
          194.92094729185345,
          96.86244092507772,
          311.6355101022265,
          404.81175329925003,
          122.77111382641581,
          318.26229473231206,
          21.780175714474154,
          257.8726330037664,
          302.5083645899386,
          221.7869083620178,
          126.02202945581142,
          171.9132733017645,
          322.89013113710513,
          159.78811518229296,
          55.47839724744443,
          197.33970585443882,
          376.42612749112834,
          190.8984760895189,
          174.97545343291142,
          91.48079919191726,
          276.8228951643548,
          -116.52409656763051,
          234.83298405178687,
          97.97838446741048,
          107.16357679398973,
          108.99314456503225,
          115.31317443947837,
          156.1723875482257,
          332.16829214314413,
          119.74039103662754,
          179.85228437702236,
          125.067872581987,
          195.155749412599,
          60.73759581776081,
          84.24315559628008,
          198.92770574622122,
          349.3543339571156,
          172.06968102950782,
          325.65287948707646,
          69.78738171173131,
          330.23305498644226,
          233.6518873143022,
          315.4066554540661,
          78.1199295422345,
          46.5153597031681,
          324.8329226013155,
          112.51800529118088,
          71.59088779770477,
          161.38681738436995,
          148.5588853234946,
          193.29177991546413,
          169.08143875724522,
          163.27524888076545,
          257.0420689733928,
          103.97504523824827,
          266.7365612325153,
          138.4694848314718,
          113.3988713380121,
          218.30177296674253,
          170.85206512169137,
          164.60051360637675,
          35.91215314400538,
          154.56078903277205,
          208.75549056886678,
          211.93430594560365,
          333.4810164048801,
          122.285359708968,
          1.8290515044474631,
          259.5976837737643,
          350.1691272716353,
          95.7019843608381,
          189.26031243207393,
          118.79841882275934,
          61.2306354002458,
          344.4725672484826,
          157.577717873643,
          412.9189228497551,
          72.76692920984804,
          11.81410289919802,
          255.7522255660043,
          206.81599797588774,
          142.60762483779536,
          388.74914634627913,
          234.8475406726996,
          223.9677810677236,
          128.03295681687507,
          157.10057453256164,
          125.02637963924744,
          123.11615785703646,
          315.06462685694896,
          138.33397053379178,
          50.601447662504796,
          66.46343899658939,
          483.5996510487039,
          16.912102976458044,
          277.22616782148276,
          38.9502106822273,
          173.73142156039648,
          215.95911219653215,
          127.2225627959368,
          93.02709515488972,
          300.9709341549512,
          295.0499135504921,
          134.81506844982005,
          111.60777210219436,
          260.8094328635967,
          230.04288024302372,
          124.98065562624332,
          225.35148957545653,
          137.68952544736158,
          227.78466805082286,
          153.785906414775,
          73.68596433107562,
          151.50755572392893,
          59.702880806645595,
          14.976065753046626,
          97.18076702068811,
          91.0616000822374,
          417.05560374121836,
          14.781029168624528,
          58.68631289836115,
          376.0008582200658,
          90.9323975693152,
          69.70212585992299,
          91.62968195971787,
          157.53677616519838,
          310.3218758523388,
          304.27428360489574,
          208.5166055498832,
          310.8208689138258,
          16.70708882356402,
          293.656238232814,
          149.61220372995132,
          132.0729949949732,
          247.7927893958992,
          158.29484608548182,
          172.51509925338485,
          84.64064627615399,
          119.36185918514305,
          101.63267548839262,
          55.956475520933736,
          245.74393325422693,
          184.42096853817515,
          164.49347590855024,
          207.8021953503087,
          181.92645998357634,
          116.76267598145414,
          204.76670114126938,
          108.55509998473322,
          369.8784292784526,
          76.07521236279374,
          75.74939439323174,
          18.097363095187475,
          122.43708644159946,
          75.83406213053324,
          320.58202247023047,
          578.3134327040693,
          68.44063776392447,
          362.73966964959374,
          241.76571239084154,
          282.8770304867613,
          235.09906961181093,
          192.91740206295452,
          161.30896222261805,
          92.21968091715027,
          240.9939705332057,
          148.96386308274217,
          15.039741340296871,
          222.68709532062275,
          386.79426623582054,
          100.70473011994682,
          200.5655428589145,
          132.40224434764085,
          186.54777802530003,
          188.17671250207735,
          357.47106712830436,
          294.4112664894769,
          131.57941351671204,
          248.39099364341547,
          109.4187687525275,
          75.84783209356247,
          45.27032104423596,
          55.19135426598505,
          126.36291185478962,
          245.42373128950487,
          301.20475786037485,
          153.17054565940106,
          250.46271691326706,
          244.95778832592617,
          55.99897995540839,
          93.79101159956407,
          302.1118018330005,
          317.09196883812507,
          94.79741966324974,
          215.0781033668822,
          124.53725221111989,
          181.21745595506636,
          51.795988650019645,
          112.40595829550453,
          177.88182899934492,
          20.079941901909905,
          220.6088911447717,
          188.22712225840917,
          272.8286303797934,
          125.39847030123255,
          165.8843672687387,
          168.6396307878134,
          271.71681350906204,
          211.09156966296337,
          249.77667597397232,
          393.1318215267542,
          99.13516031835506,
          88.01011634585844,
          66.54945516600583,
          383.18919885650706,
          259.36181531656695,
          107.72184226109977,
          267.03740937417797,
          155.48323656513048,
          80.6035380378352,
          4.712620937647102,
          59.4668910427843,
          63.6232123642179,
          34.978585075570265,
          101.63228534521164,
          146.4657906679036,
          320.81197598530593,
          422.4166513345763,
          30.173516364846144,
          146.8440217599135,
          93.33162295898569,
          67.08181233523698,
          154.1510955132914,
          367.35506294971964,
          249.7016680343179,
          295.7598903433077,
          214.05644548146066,
          309.8847993930052,
          48.75740209564343,
          108.93795877480737,
          255.07032207728378,
          219.36350822467557,
          209.0612365567068,
          144.20952979781168,
          251.49592759273355,
          266.43464954061096,
          238.4233805127481,
          214.67786586633537,
          32.2177047582985,
          346.22984269926104,
          28.554388267545164,
          239.62622377316046,
          222.33068617151713,
          133.48610386888075,
          160.2725145074631,
          138.28467020307926,
          343.74525266861235,
          103.98918477789117,
          49.77976074977868,
          193.91548656673643,
          207.81776476323063,
          119.05197212187379,
          89.15727035856845,
          90.81229643892559,
          136.05826629521903,
          454.0261598404424,
          294.8903050932251,
          74.61154726361524,
          171.12699969624254,
          239.2319801893991,
          219.75631735740603,
          91.26300985542991,
          127.83093062018293,
          23.109728271993767,
          181.0926681919119,
          169.11893787807608,
          218.08312829520332,
          161.76263419497442,
          154.94892151660466,
          247.46968563078667,
          36.752852185688525,
          218.99723323708508,
          211.47418640752457,
          4.932350166004738,
          58.1594941509035,
          251.58503084715971,
          223.7513745776743,
          284.8045325715091,
          73.70057988150171,
          310.63953554086805,
          175.71569935121408,
          103.38310985886498,
          206.99609631766685,
          337.42534466686504,
          211.14354658997817,
          365.78593668543203,
          193.3984708677462,
          184.93631103398434,
          86.7750243127211,
          71.14446806520948,
          231.56666643376843,
          362.9024456599185,
          47.45352113812349,
          123.5373138641173,
          386.43975508861826,
          330.593344915713,
          274.1025269081334,
          98.36663113397123,
          222.88977671418246,
          304.24721547696385,
          244.50088315829151,
          294.5291863443102,
          56.96888339377462,
          229.27990649883117,
          256.26288459211366,
          137.77382837354008,
          196.42625286235258,
          112.15560349500727,
          186.38952533438422,
          394.61371730404164,
          256.84608374872795,
          124.76769101893211,
          107.47701369731203,
          190.5362270778865,
          339.09032499970687,
          403.3496028367774,
          164.5772749725652,
          124.26674894765299,
          50.47810256593387,
          55.12387078502398,
          299.288842722092,
          76.05672892856687,
          99.62245008240383,
          258.64447283856254,
          381.4384225681617,
          207.8276724693695,
          178.1994149961828,
          222.09154727960743,
          40.42580953653394,
          261.5167465986464,
          146.51709820537005,
          192.56541832880703,
          193.94522573874065,
          271.0711263069076,
          26.274078523811966,
          171.16843543832027,
          249.7737340248329,
          252.80024598916867,
          131.28425270777748,
          311.36526558262744,
          349.7086630018163,
          229.54409951754758,
          63.74752992496573,
          388.78011123578835,
          -22.940209502755295,
          227.75448514554472,
          362.1749816837169,
          131.80089409404394,
          38.91942365720968,
          206.09529138058218,
          111.44717302327301,
          342.54863652053206,
          122.60369776033168,
          304.9080229613953,
          148.03905890214662,
          294.0956973732945,
          149.2990081160288,
          216.9477309791049,
          124.32467953023493,
          197.1300359872281,
          264.0904007361452,
          265.6927074340963,
          312.5418649838845,
          243.84814268033176,
          260.7763215547636,
          51.757464807382476,
          42.825921601958285,
          182.69437693129578,
          129.56223176146895,
          451.7498385438561,
          77.20529563526733,
          97.47666227979809,
          114.08561949813141,
          375.0634442882739,
          110.32427149227946,
          113.90094380794856,
          209.0190869756717,
          260.23712449827013,
          273.61161555278295,
          180.77347443188353,
          174.4782694398591,
          222.22091868542498,
          323.6079256092144,
          234.60996858976495,
          329.7697089794065,
          127.23259454267458,
          281.3885607930154,
          139.44072293016848,
          222.67545962108892,
          202.12870749137642,
          218.75902330482728,
          120.24435745892394,
          209.44299401554784,
          175.0438266747878,
          288.6666665487238,
          -8.231636554607078,
          146.66954494265255,
          218.0484359416701,
          218.97822394137097,
          183.70012714647135,
          210.48989237034073,
          170.18463984943241,
          141.26654161833733,
          149.54553336436052,
          175.26849137592717,
          262.08652404016874,
          135.3180319500198,
          165.227076064716,
          97.1074394117881,
          171.75626183752138,
          196.14709473931097,
          332.89187567819374,
          207.32120630686575,
          68.45435488926753,
          208.9262437989517,
          82.99427349919023,
          250.63613023244932,
          22.894971553188952,
          119.49426707318216,
          141.39294685782644,
          87.22871750711407,
          260.62474755852395,
          151.67103603387142,
          357.46825773788714,
          19.90010973289243,
          239.7223714608756,
          60.101514617796965,
          216.28940498996553,
          357.7482620148567,
          29.92510049501613,
          81.49816941857695,
          60.45322279644867,
          93.07463738993042,
          24.788478190377816,
          52.72372689507071,
          253.57028395213018,
          140.7231389839912,
          229.48583134541593,
          195.10176713930215,
          27.890153028638068,
          135.31968352202824,
          136.49727676340672,
          110.88854101653162,
          75.78043462808434,
          298.02868939756684,
          74.9329251864008,
          39.84908406330375,
          290.0362592167078,
          287.01124169277017,
          25.64347972274257,
          59.283473298834764,
          65.7910335530006,
          123.32241070828248,
          120.6978506209391,
          186.0703578469325,
          311.64787398574754,
          39.13947575376523,
          181.6293967570502,
          76.17834786305681,
          58.730434329243316,
          240.26149175795672,
          253.813076553003,
          76.96438699207663,
          213.3196134284523,
          248.09378957643435,
          229.54631127494707,
          143.83116336674883,
          116.22187316393357,
          -7.671742850905147,
          184.02992730678764,
          411.33646675107394,
          291.9629738563108,
          60.23906226123433,
          330.2781135158135,
          80.16001256379886,
          359.87295274091593,
          229.2046175711588,
          139.92492377459922,
          272.21617557458103,
          333.8550019835902,
          38.11677386227111,
          24.059232360706105,
          304.19242635277783,
          35.51718929518154,
          230.37818985407785,
          63.957257996661504,
          117.11255241456269,
          75.8404982392101,
          152.41293067069898,
          208.26185443883702,
          106.41441235015566,
          163.06732473406566,
          232.62097409340726,
          211.40898826667308,
          210.56467955493576,
          147.7241966649459
         ],
         "yaxis": "y"
        }
       ],
       "layout": {
        "legend": {
         "tracegroupgap": 0
        },
        "margin": {
         "t": 60
        },
        "template": {
         "data": {
          "bar": [
           {
            "error_x": {
             "color": "#2a3f5f"
            },
            "error_y": {
             "color": "#2a3f5f"
            },
            "marker": {
             "line": {
              "color": "#E5ECF6",
              "width": 0.5
             },
             "pattern": {
              "fillmode": "overlay",
              "size": 10,
              "solidity": 0.2
             }
            },
            "type": "bar"
           }
          ],
          "barpolar": [
           {
            "marker": {
             "line": {
              "color": "#E5ECF6",
              "width": 0.5
             },
             "pattern": {
              "fillmode": "overlay",
              "size": 10,
              "solidity": 0.2
             }
            },
            "type": "barpolar"
           }
          ],
          "carpet": [
           {
            "aaxis": {
             "endlinecolor": "#2a3f5f",
             "gridcolor": "white",
             "linecolor": "white",
             "minorgridcolor": "white",
             "startlinecolor": "#2a3f5f"
            },
            "baxis": {
             "endlinecolor": "#2a3f5f",
             "gridcolor": "white",
             "linecolor": "white",
             "minorgridcolor": "white",
             "startlinecolor": "#2a3f5f"
            },
            "type": "carpet"
           }
          ],
          "choropleth": [
           {
            "colorbar": {
             "outlinewidth": 0,
             "ticks": ""
            },
            "type": "choropleth"
           }
          ],
          "contour": [
           {
            "colorbar": {
             "outlinewidth": 0,
             "ticks": ""
            },
            "colorscale": [
             [
              0,
              "#0d0887"
             ],
             [
              0.1111111111111111,
              "#46039f"
             ],
             [
              0.2222222222222222,
              "#7201a8"
             ],
             [
              0.3333333333333333,
              "#9c179e"
             ],
             [
              0.4444444444444444,
              "#bd3786"
             ],
             [
              0.5555555555555556,
              "#d8576b"
             ],
             [
              0.6666666666666666,
              "#ed7953"
             ],
             [
              0.7777777777777778,
              "#fb9f3a"
             ],
             [
              0.8888888888888888,
              "#fdca26"
             ],
             [
              1,
              "#f0f921"
             ]
            ],
            "type": "contour"
           }
          ],
          "contourcarpet": [
           {
            "colorbar": {
             "outlinewidth": 0,
             "ticks": ""
            },
            "type": "contourcarpet"
           }
          ],
          "heatmap": [
           {
            "colorbar": {
             "outlinewidth": 0,
             "ticks": ""
            },
            "colorscale": [
             [
              0,
              "#0d0887"
             ],
             [
              0.1111111111111111,
              "#46039f"
             ],
             [
              0.2222222222222222,
              "#7201a8"
             ],
             [
              0.3333333333333333,
              "#9c179e"
             ],
             [
              0.4444444444444444,
              "#bd3786"
             ],
             [
              0.5555555555555556,
              "#d8576b"
             ],
             [
              0.6666666666666666,
              "#ed7953"
             ],
             [
              0.7777777777777778,
              "#fb9f3a"
             ],
             [
              0.8888888888888888,
              "#fdca26"
             ],
             [
              1,
              "#f0f921"
             ]
            ],
            "type": "heatmap"
           }
          ],
          "heatmapgl": [
           {
            "colorbar": {
             "outlinewidth": 0,
             "ticks": ""
            },
            "colorscale": [
             [
              0,
              "#0d0887"
             ],
             [
              0.1111111111111111,
              "#46039f"
             ],
             [
              0.2222222222222222,
              "#7201a8"
             ],
             [
              0.3333333333333333,
              "#9c179e"
             ],
             [
              0.4444444444444444,
              "#bd3786"
             ],
             [
              0.5555555555555556,
              "#d8576b"
             ],
             [
              0.6666666666666666,
              "#ed7953"
             ],
             [
              0.7777777777777778,
              "#fb9f3a"
             ],
             [
              0.8888888888888888,
              "#fdca26"
             ],
             [
              1,
              "#f0f921"
             ]
            ],
            "type": "heatmapgl"
           }
          ],
          "histogram": [
           {
            "marker": {
             "pattern": {
              "fillmode": "overlay",
              "size": 10,
              "solidity": 0.2
             }
            },
            "type": "histogram"
           }
          ],
          "histogram2d": [
           {
            "colorbar": {
             "outlinewidth": 0,
             "ticks": ""
            },
            "colorscale": [
             [
              0,
              "#0d0887"
             ],
             [
              0.1111111111111111,
              "#46039f"
             ],
             [
              0.2222222222222222,
              "#7201a8"
             ],
             [
              0.3333333333333333,
              "#9c179e"
             ],
             [
              0.4444444444444444,
              "#bd3786"
             ],
             [
              0.5555555555555556,
              "#d8576b"
             ],
             [
              0.6666666666666666,
              "#ed7953"
             ],
             [
              0.7777777777777778,
              "#fb9f3a"
             ],
             [
              0.8888888888888888,
              "#fdca26"
             ],
             [
              1,
              "#f0f921"
             ]
            ],
            "type": "histogram2d"
           }
          ],
          "histogram2dcontour": [
           {
            "colorbar": {
             "outlinewidth": 0,
             "ticks": ""
            },
            "colorscale": [
             [
              0,
              "#0d0887"
             ],
             [
              0.1111111111111111,
              "#46039f"
             ],
             [
              0.2222222222222222,
              "#7201a8"
             ],
             [
              0.3333333333333333,
              "#9c179e"
             ],
             [
              0.4444444444444444,
              "#bd3786"
             ],
             [
              0.5555555555555556,
              "#d8576b"
             ],
             [
              0.6666666666666666,
              "#ed7953"
             ],
             [
              0.7777777777777778,
              "#fb9f3a"
             ],
             [
              0.8888888888888888,
              "#fdca26"
             ],
             [
              1,
              "#f0f921"
             ]
            ],
            "type": "histogram2dcontour"
           }
          ],
          "mesh3d": [
           {
            "colorbar": {
             "outlinewidth": 0,
             "ticks": ""
            },
            "type": "mesh3d"
           }
          ],
          "parcoords": [
           {
            "line": {
             "colorbar": {
              "outlinewidth": 0,
              "ticks": ""
             }
            },
            "type": "parcoords"
           }
          ],
          "pie": [
           {
            "automargin": true,
            "type": "pie"
           }
          ],
          "scatter": [
           {
            "fillpattern": {
             "fillmode": "overlay",
             "size": 10,
             "solidity": 0.2
            },
            "type": "scatter"
           }
          ],
          "scatter3d": [
           {
            "line": {
             "colorbar": {
              "outlinewidth": 0,
              "ticks": ""
             }
            },
            "marker": {
             "colorbar": {
              "outlinewidth": 0,
              "ticks": ""
             }
            },
            "type": "scatter3d"
           }
          ],
          "scattercarpet": [
           {
            "marker": {
             "colorbar": {
              "outlinewidth": 0,
              "ticks": ""
             }
            },
            "type": "scattercarpet"
           }
          ],
          "scattergeo": [
           {
            "marker": {
             "colorbar": {
              "outlinewidth": 0,
              "ticks": ""
             }
            },
            "type": "scattergeo"
           }
          ],
          "scattergl": [
           {
            "marker": {
             "colorbar": {
              "outlinewidth": 0,
              "ticks": ""
             }
            },
            "type": "scattergl"
           }
          ],
          "scattermapbox": [
           {
            "marker": {
             "colorbar": {
              "outlinewidth": 0,
              "ticks": ""
             }
            },
            "type": "scattermapbox"
           }
          ],
          "scatterpolar": [
           {
            "marker": {
             "colorbar": {
              "outlinewidth": 0,
              "ticks": ""
             }
            },
            "type": "scatterpolar"
           }
          ],
          "scatterpolargl": [
           {
            "marker": {
             "colorbar": {
              "outlinewidth": 0,
              "ticks": ""
             }
            },
            "type": "scatterpolargl"
           }
          ],
          "scatterternary": [
           {
            "marker": {
             "colorbar": {
              "outlinewidth": 0,
              "ticks": ""
             }
            },
            "type": "scatterternary"
           }
          ],
          "surface": [
           {
            "colorbar": {
             "outlinewidth": 0,
             "ticks": ""
            },
            "colorscale": [
             [
              0,
              "#0d0887"
             ],
             [
              0.1111111111111111,
              "#46039f"
             ],
             [
              0.2222222222222222,
              "#7201a8"
             ],
             [
              0.3333333333333333,
              "#9c179e"
             ],
             [
              0.4444444444444444,
              "#bd3786"
             ],
             [
              0.5555555555555556,
              "#d8576b"
             ],
             [
              0.6666666666666666,
              "#ed7953"
             ],
             [
              0.7777777777777778,
              "#fb9f3a"
             ],
             [
              0.8888888888888888,
              "#fdca26"
             ],
             [
              1,
              "#f0f921"
             ]
            ],
            "type": "surface"
           }
          ],
          "table": [
           {
            "cells": {
             "fill": {
              "color": "#EBF0F8"
             },
             "line": {
              "color": "white"
             }
            },
            "header": {
             "fill": {
              "color": "#C8D4E3"
             },
             "line": {
              "color": "white"
             }
            },
            "type": "table"
           }
          ]
         },
         "layout": {
          "annotationdefaults": {
           "arrowcolor": "#2a3f5f",
           "arrowhead": 0,
           "arrowwidth": 1
          },
          "autotypenumbers": "strict",
          "coloraxis": {
           "colorbar": {
            "outlinewidth": 0,
            "ticks": ""
           }
          },
          "colorscale": {
           "diverging": [
            [
             0,
             "#8e0152"
            ],
            [
             0.1,
             "#c51b7d"
            ],
            [
             0.2,
             "#de77ae"
            ],
            [
             0.3,
             "#f1b6da"
            ],
            [
             0.4,
             "#fde0ef"
            ],
            [
             0.5,
             "#f7f7f7"
            ],
            [
             0.6,
             "#e6f5d0"
            ],
            [
             0.7,
             "#b8e186"
            ],
            [
             0.8,
             "#7fbc41"
            ],
            [
             0.9,
             "#4d9221"
            ],
            [
             1,
             "#276419"
            ]
           ],
           "sequential": [
            [
             0,
             "#0d0887"
            ],
            [
             0.1111111111111111,
             "#46039f"
            ],
            [
             0.2222222222222222,
             "#7201a8"
            ],
            [
             0.3333333333333333,
             "#9c179e"
            ],
            [
             0.4444444444444444,
             "#bd3786"
            ],
            [
             0.5555555555555556,
             "#d8576b"
            ],
            [
             0.6666666666666666,
             "#ed7953"
            ],
            [
             0.7777777777777778,
             "#fb9f3a"
            ],
            [
             0.8888888888888888,
             "#fdca26"
            ],
            [
             1,
             "#f0f921"
            ]
           ],
           "sequentialminus": [
            [
             0,
             "#0d0887"
            ],
            [
             0.1111111111111111,
             "#46039f"
            ],
            [
             0.2222222222222222,
             "#7201a8"
            ],
            [
             0.3333333333333333,
             "#9c179e"
            ],
            [
             0.4444444444444444,
             "#bd3786"
            ],
            [
             0.5555555555555556,
             "#d8576b"
            ],
            [
             0.6666666666666666,
             "#ed7953"
            ],
            [
             0.7777777777777778,
             "#fb9f3a"
            ],
            [
             0.8888888888888888,
             "#fdca26"
            ],
            [
             1,
             "#f0f921"
            ]
           ]
          },
          "colorway": [
           "#636efa",
           "#EF553B",
           "#00cc96",
           "#ab63fa",
           "#FFA15A",
           "#19d3f3",
           "#FF6692",
           "#B6E880",
           "#FF97FF",
           "#FECB52"
          ],
          "font": {
           "color": "#2a3f5f"
          },
          "geo": {
           "bgcolor": "white",
           "lakecolor": "white",
           "landcolor": "#E5ECF6",
           "showlakes": true,
           "showland": true,
           "subunitcolor": "white"
          },
          "hoverlabel": {
           "align": "left"
          },
          "hovermode": "closest",
          "mapbox": {
           "style": "light"
          },
          "paper_bgcolor": "white",
          "plot_bgcolor": "#E5ECF6",
          "polar": {
           "angularaxis": {
            "gridcolor": "white",
            "linecolor": "white",
            "ticks": ""
           },
           "bgcolor": "#E5ECF6",
           "radialaxis": {
            "gridcolor": "white",
            "linecolor": "white",
            "ticks": ""
           }
          },
          "scene": {
           "xaxis": {
            "backgroundcolor": "#E5ECF6",
            "gridcolor": "white",
            "gridwidth": 2,
            "linecolor": "white",
            "showbackground": true,
            "ticks": "",
            "zerolinecolor": "white"
           },
           "yaxis": {
            "backgroundcolor": "#E5ECF6",
            "gridcolor": "white",
            "gridwidth": 2,
            "linecolor": "white",
            "showbackground": true,
            "ticks": "",
            "zerolinecolor": "white"
           },
           "zaxis": {
            "backgroundcolor": "#E5ECF6",
            "gridcolor": "white",
            "gridwidth": 2,
            "linecolor": "white",
            "showbackground": true,
            "ticks": "",
            "zerolinecolor": "white"
           }
          },
          "shapedefaults": {
           "line": {
            "color": "#2a3f5f"
           }
          },
          "ternary": {
           "aaxis": {
            "gridcolor": "white",
            "linecolor": "white",
            "ticks": ""
           },
           "baxis": {
            "gridcolor": "white",
            "linecolor": "white",
            "ticks": ""
           },
           "bgcolor": "#E5ECF6",
           "caxis": {
            "gridcolor": "white",
            "linecolor": "white",
            "ticks": ""
           }
          },
          "title": {
           "x": 0.05
          },
          "xaxis": {
           "automargin": true,
           "gridcolor": "white",
           "linecolor": "white",
           "ticks": "",
           "title": {
            "standoff": 15
           },
           "zerolinecolor": "white",
           "zerolinewidth": 2
          },
          "yaxis": {
           "automargin": true,
           "gridcolor": "white",
           "linecolor": "white",
           "ticks": "",
           "title": {
            "standoff": 15
           },
           "zerolinecolor": "white",
           "zerolinewidth": 2
          }
         }
        },
        "xaxis": {
         "anchor": "y",
         "domain": [
          0,
          1
         ],
         "title": {
          "text": "Actual y"
         }
        },
        "yaxis": {
         "anchor": "x",
         "domain": [
          0,
          1
         ],
         "title": {
          "text": "Predicted y"
         }
        }
       }
      }
     },
     "metadata": {},
     "output_type": "display_data"
    }
   ],
   "source": [
    "from sklearn.linear_model import LinearRegression\n",
    "\n",
    "model = LinearRegression()\n",
    "\n",
    "model.fit(X_train, y_train)\n",
    "\n",
    "y_train_pred = model.predict(X_train)\n",
    "y_pred = model.predict(X_test)\n",
    "\n",
    "print(f\"Train\\n Score: {model.score(X_train, y_train)}\")\n",
    "calculate_score(y_train, y_train_pred)\n",
    "\n",
    "print(f\"Test\\n Score: {model.score(X_test, y_test)}\")\n",
    "calculate_score(y_test, y_pred)\n",
    "\n",
    "plot(y_test, y_pred)"
   ]
  },
  {
   "cell_type": "code",
   "execution_count": 10,
   "metadata": {},
   "outputs": [],
   "source": [
    "# explainer = shap.Explainer(model.predict, X_test)\n",
    "# shap_values = explainer(X)\n",
    "# shap.plots.waterfall(shap_values[20], max_display=14)"
   ]
  },
  {
   "cell_type": "code",
   "execution_count": 11,
   "metadata": {},
   "outputs": [],
   "source": [
    "# for i in range(X.shape[1]):\n",
    "#     print(X.columns[i], \"=\", model.coef_[i].round(5))"
   ]
  },
  {
   "cell_type": "markdown",
   "metadata": {
    "collapsed": false
   },
   "source": [
    "### Model 2: Gradient Boost Regressor"
   ]
  },
  {
   "attachments": {},
   "cell_type": "markdown",
   "metadata": {},
   "source": [
    "We can use gradient boosting - a type of ensemble machine learning algorithms. Ensemble is a collection of decision trees. Every iteration, a decision tree is added to model to minimise the error. Models are fit using any arbitrary differentiable loss function and gradient descent optimization algorithm, and the goal is to minimise loss gradient. We will be using HistGradientBoostingRegressor from sklearn."
   ]
  },
  {
   "cell_type": "code",
   "execution_count": 12,
   "metadata": {
    "collapsed": false
   },
   "outputs": [
    {
     "name": "stdout",
     "output_type": "stream",
     "text": [
      "Train\n",
      "Score: 0.9473052504241182\n",
      "R2 Score 0.9473052504241182\n",
      "RMSE : 30.535310804375417\n",
      "Test\n",
      "Score: 0.7640520525218855\n",
      "R2 Score 0.7640520525218855\n",
      "RMSE : 62.941342768477845\n"
     ]
    },
    {
     "data": {
      "application/vnd.plotly.v1+json": {
       "config": {
        "plotlyServerURL": "https://plot.ly"
       },
       "data": [
        {
         "hovertemplate": "Actual y=%{x}<br>Predicted y=%{y}<extra></extra>",
         "legendgroup": "",
         "marker": {
          "color": "#636efa",
          "symbol": "circle"
         },
         "mode": "markers",
         "name": "",
         "orientation": "v",
         "showlegend": false,
         "type": "scatter",
         "x": [
          333,
          156,
          174,
          148,
          50,
          39,
          59,
          247,
          193,
          70,
          97,
          31,
          77,
          130,
          134,
          185,
          237,
          30,
          48,
          118,
          55,
          159,
          379,
          238,
          53,
          127,
          69,
          269,
          150,
          30,
          56,
          253,
          99,
          305,
          578,
          246,
          232,
          148,
          346,
          230,
          69,
          60,
          81,
          127,
          200,
          202,
          300,
          350,
          260,
          191,
          46,
          292,
          401,
          188,
          399,
          48,
          260,
          161,
          540,
          70,
          73,
          615,
          45,
          18,
          394,
          403,
          120,
          149,
          100,
          292,
          80,
          216,
          106,
          160,
          126,
          78,
          130,
          391,
          47,
          257,
          24,
          75,
          100,
          45,
          250,
          420,
          163,
          130,
          85,
          379,
          175,
          490,
          49,
          99,
          265,
          48,
          29,
          110,
          168,
          186,
          139,
          120,
          224,
          79,
          343,
          250,
          50,
          145,
          219,
          174,
          69,
          152,
          189,
          225,
          250,
          32,
          75,
          231,
          280,
          154,
          110,
          187,
          36,
          550,
          55,
          540,
          150,
          39,
          173,
          214,
          100,
          310,
          150,
          175,
          105,
          31,
          174,
          133,
          281,
          158,
          69,
          57,
          434,
          81,
          203,
          69,
          204,
          179,
          22,
          290,
          246,
          254,
          201,
          154,
          230,
          200,
          79,
          400,
          40,
          400,
          60,
          69,
          145,
          100,
          49,
          79,
          100,
          375,
          49,
          50,
          500,
          90,
          69,
          155,
          39,
          190,
          347,
          184,
          463,
          79,
          250,
          88,
          95,
          205,
          140,
          458,
          140,
          34,
          162,
          29,
          97,
          101,
          130,
          169,
          187,
          148,
          256,
          95,
          488,
          59,
          60,
          85,
          56,
          78,
          276,
          409,
          62,
          402,
          174,
          364,
          200,
          223,
          161,
          65,
          223,
          88,
          43,
          68,
          287,
          124,
          97,
          122,
          216,
          110,
          620,
          240,
          85,
          316,
          165,
          47,
          69,
          59,
          109,
          220,
          400,
          69,
          281,
          241,
          37,
          169,
          277,
          450,
          80,
          238,
          26,
          95,
          35,
          34,
          110,
          49,
          230,
          350,
          196,
          130,
          90,
          121,
          174,
          133,
          218,
          575,
          97,
          310,
          80,
          315,
          209,
          194,
          200,
          50,
          59,
          119,
          39,
          38,
          40,
          95,
          154,
          313,
          354,
          150,
          120,
          59,
          42,
          120,
          280,
          180,
          367,
          138,
          450,
          49,
          124,
          165,
          101,
          184,
          46,
          297,
          210,
          91,
          186,
          50,
          413,
          49,
          200,
          160,
          131,
          191,
          100,
          350,
          74,
          43,
          155,
          89,
          106,
          65,
          111,
          79,
          456,
          175,
          49,
          98,
          288,
          170,
          45,
          66,
          58,
          187,
          170,
          146,
          100,
          78,
          422,
          270,
          249,
          193,
          45,
          59,
          116,
          65,
          200,
          33,
          404,
          131,
          75,
          176,
          300,
          199,
          346,
          148,
          108,
          50,
          104,
          200,
          430,
          115,
          80,
          450,
          392,
          367,
          67,
          181,
          270,
          377,
          224,
          44,
          135,
          258,
          39,
          300,
          130,
          145,
          409,
          148,
          58,
          59,
          140,
          470,
          350,
          212,
          50,
          145,
          37,
          369,
          57,
          87,
          394,
          411,
          130,
          155,
          300,
          51,
          533,
          135,
          264,
          160,
          400,
          59,
          180,
          70,
          67,
          70,
          328,
          499,
          150,
          99,
          616,
          40,
          236,
          383,
          41,
          60,
          117,
          160,
          330,
          126,
          414,
          40,
          250,
          99,
          149,
          102,
          180,
          155,
          369,
          362,
          170,
          247,
          57,
          45,
          120,
          70,
          387,
          70,
          80,
          68,
          200,
          90,
          20,
          119,
          199,
          250,
          330,
          201,
          121,
          495,
          299,
          528,
          270,
          261,
          85,
          180,
          158,
          465,
          91,
          415,
          135,
          122,
          100,
          53,
          110,
          238,
          102,
          269,
          235,
          40,
          109,
          144,
          243,
          22,
          181,
          50,
          184,
          145,
          250,
          200,
          58,
          120,
          25,
          210,
          49,
          85,
          69,
          69,
          238,
          109,
          399,
          44,
          323,
          48,
          80,
          461,
          49,
          47,
          75,
          96,
          30,
          140,
          457,
          70,
          257,
          120,
          59,
          24,
          265,
          140,
          49,
          409,
          225,
          45,
          239,
          225,
          48,
          49,
          65,
          98,
          88,
          156,
          405,
          59,
          187,
          59,
          70,
          199,
          188,
          46,
          193,
          270,
          239,
          169,
          67,
          30,
          214,
          522,
          225,
          45,
          539,
          45,
          465,
          223,
          44,
          221,
          300,
          69,
          59,
          320,
          59,
          265,
          450,
          57,
          85,
          144,
          499,
          90,
          135,
          250,
          179,
          320,
          75
         ],
         "xaxis": "x",
         "y": [
          277.4002174613053,
          120.53068173652865,
          156.3115312663578,
          205.19065238107652,
          97.62453716139564,
          37.46341485151754,
          58.11106986807314,
          261.3898436951595,
          270.1609898354093,
          78.34624322689322,
          70.31153616124622,
          37.845414983150775,
          101.3418059791565,
          64.43186417431784,
          125.20112633703117,
          194.7719699803365,
          210.14739434583848,
          80.0667791560066,
          70.12520850091765,
          268.7880369246525,
          71.12614014042141,
          241.436577371526,
          401.3417404658581,
          265.9316257318264,
          73.3190653572058,
          100.11274127618483,
          53.28438137153807,
          199.43369364163053,
          245.8805849270757,
          83.54010169872386,
          47.32758603858906,
          214.25442956663832,
          146.22214836155743,
          186.0242641222957,
          497.157842437685,
          239.66628237433375,
          248.0586768224843,
          243.78257045336267,
          348.7696224429496,
          304.8866500645944,
          69.54877516135234,
          54.3269855463573,
          66.2296849571504,
          133.39481795864626,
          173.47089367730862,
          324.6214601712076,
          149.4199170257594,
          322.82129406311725,
          392.49892614001095,
          210.77552243801472,
          84.28483513453625,
          251.42634895903137,
          391.5565665918851,
          139.45067387705686,
          349.4957003018814,
          46.12890980195251,
          273.68324477180164,
          227.9522178335239,
          227.1990058034802,
          69.52442729236925,
          90.1698145924853,
          483.69995339740956,
          167.22240313804028,
          81.40097889788069,
          303.93583354059285,
          427.06588153139313,
          94.02918719220085,
          119.3852468701764,
          104.04328292573616,
          270.64391861498274,
          42.005173267800025,
          230.59070038505672,
          94.30812237674404,
          154.83297524130774,
          126.61125352262971,
          121.78133633797748,
          135.99511416565477,
          305.54900669090966,
          56.287608598314094,
          211.9552284923125,
          41.5202672732853,
          114.63125755727204,
          114.22424996883848,
          64.3430052445411,
          223.96573347356178,
          355.1999457794091,
          137.0626402848717,
          326.4004577188456,
          91.81639618069879,
          406.41314730473033,
          200.58093677147835,
          352.79608837403407,
          49.46764693210829,
          55.1120977824312,
          282.47056359098315,
          61.94541875185672,
          34.74288060910585,
          135.3672546057771,
          162.62434210966003,
          222.11907819765906,
          243.92598721837913,
          118.08474959868657,
          311.2472817021485,
          62.712289957752105,
          234.5596543496798,
          99.97186776844856,
          84.17867548742514,
          154.41943686333485,
          152.9466002957856,
          142.03136193121284,
          71.11926432052991,
          131.2411090544267,
          163.089997877627,
          219.77264798488332,
          273.48294831891064,
          85.13646772461297,
          108.60641193307123,
          260.1326435618254,
          239.9453213446965,
          169.06136802200282,
          113.31028194924696,
          184.30169278713217,
          65.57149892899795,
          458.1869655698772,
          50.135376814753386,
          473.2690452326306,
          26.53837938966522,
          39.86352582087911,
          195.76395035541844,
          254.51611508448067,
          132.65973449872732,
          298.1890699224378,
          158.62162081944828,
          230.82364915747178,
          86.7313504061556,
          36.875333953675806,
          137.88032988115495,
          139.02666481485548,
          312.1800309787756,
          221.78281193879977,
          48.678222875307874,
          48.43439628353157,
          458.79819297153233,
          69.21267665472025,
          248.15604839750543,
          58.58068632108026,
          201.2597176212535,
          194.65658592564586,
          31.112332030988966,
          154.80351498874947,
          226.93176427255796,
          251.99374240076455,
          142.44627148133304,
          140.03236790277336,
          241.06431592749718,
          205.37064102768582,
          69.47364149251796,
          283.8211739005363,
          126.55673163034027,
          184.8287176364936,
          111.63167162233027,
          53.343441797272014,
          152.0469827344111,
          94.56025715857855,
          48.04298911215166,
          92.11105573566621,
          90.60897245131837,
          512.2505156541541,
          48.57191838164267,
          50.71354893430952,
          442.40806022218004,
          101.62119323517335,
          48.240503016167374,
          153.04936950594643,
          197.5293358530996,
          203.77519499859753,
          330.9429465327255,
          165.97155914667388,
          409.7785721915315,
          77.04107197781563,
          325.92414423637376,
          137.54485292357134,
          134.31246890495603,
          214.18650236649015,
          128.8529075109466,
          195.39321970982715,
          92.15533006998294,
          96.11062809577012,
          133.78184817994716,
          66.92450846540757,
          156.60939988516813,
          132.3070452470522,
          158.7849242849338,
          231.82987458308747,
          194.20000492184968,
          116.81642140890582,
          283.80087497454963,
          86.35957959722556,
          452.6149525500796,
          58.03512849909595,
          121.99117436455731,
          44.34407232654713,
          65.03732966228885,
          61.15825669916126,
          366.0810837941461,
          472.2569938604215,
          79.2852925471727,
          394.55198577270926,
          160.3818403088029,
          197.2957751552536,
          236.61701552321585,
          216.53165738786606,
          144.8615247571409,
          97.4036987016219,
          193.12391306756768,
          97.1781885685405,
          46.83408060204093,
          115.16369123027343,
          397.8127817927781,
          149.40412383184452,
          132.553188634522,
          180.54012544568212,
          201.15303226760832,
          139.8570827037766,
          454.87962651920486,
          219.63050252437807,
          95.78098665800727,
          259.3527326992217,
          135.41172751309838,
          49.93122291986668,
          46.558614579783374,
          53.02757848705688,
          114.34060743947241,
          180.67656357547796,
          340.62152203095076,
          82.23236686764668,
          254.94714433526593,
          231.42497840392622,
          94.19562573854225,
          114.27535240114065,
          235.94913244094002,
          330.6450899692485,
          38.36331109540376,
          227.9786603779492,
          103.83681340233592,
          114.14262457849743,
          158.05171914019095,
          96.52660879510098,
          94.9559845843882,
          46.18692140721264,
          209.7131843459989,
          163.96410726173855,
          207.34623897500842,
          203.03762112787817,
          149.44666181546444,
          129.15980897429247,
          219.78789395127274,
          172.82944475464024,
          220.5988736230049,
          327.3560756477856,
          117.43477618024433,
          209.97428324203904,
          116.17557019685444,
          322.37368929771617,
          256.4524773798104,
          178.77333907653775,
          220.36206951741121,
          80.79510530161467,
          55.827278313632064,
          73.36096873844079,
          46.85590713332409,
          53.29387216277383,
          74.1480330570817,
          84.23245946826263,
          203.4376981690523,
          337.3158319529098,
          413.9943102445148,
          65.26552025258594,
          105.79527177072679,
          69.33416483813104,
          57.34091527712161,
          142.675285867129,
          361.3500203619862,
          189.71626842465315,
          423.25189475019033,
          252.59571252644764,
          322.77388620533276,
          100.93615384313748,
          131.77044621169802,
          236.84840752291777,
          159.61349359251807,
          166.29385400959595,
          50.25667636161085,
          242.94637934799596,
          316.4893171134615,
          162.65358972170358,
          190.22143963810723,
          48.26012403093597,
          390.13799021591626,
          45.873567202229964,
          264.7689577059666,
          219.55267511750392,
          93.76911858963513,
          201.83356252373366,
          155.7963676158636,
          308.03278192844897,
          102.96208101457331,
          52.44855589100995,
          175.88277064270952,
          198.11454797354762,
          84.11241935018616,
          126.85709737360469,
          101.51198276482134,
          78.72083538209688,
          435.81373280651513,
          216.7552855398076,
          53.406894641228156,
          120.10425314087952,
          234.9738282884105,
          219.94339420110006,
          120.87707522159063,
          56.251560588498975,
          77.77114264506582,
          205.1512625543842,
          156.00801081042027,
          187.86951775017926,
          141.7039098348868,
          78.99479569968798,
          394.5035933325306,
          117.09757875427245,
          312.8057975142641,
          205.6206340791114,
          34.88764882929223,
          56.95749923585538,
          245.60068161137832,
          100.42310000472172,
          268.78694700015234,
          81.5744848361978,
          384.7168534494265,
          146.57470107389918,
          52.271253820172326,
          193.1622868714177,
          322.5714962036332,
          205.85595205160422,
          324.6938402726061,
          174.96557545333653,
          126.65297346815716,
          104.2380359640006,
          93.49918699204834,
          225.61239100489286,
          434.9807355164713,
          116.62232013862602,
          150.45118331456166,
          453.90229632668104,
          404.2023410421656,
          328.4438752433399,
          85.49774759715741,
          284.76519760148386,
          243.50828010495678,
          363.55601692011555,
          166.8830293564028,
          77.80363680442238,
          201.3402493431401,
          275.37899814530084,
          77.76614984691987,
          267.76107972699805,
          102.4298549243473,
          125.85735430100432,
          402.22820334563943,
          247.41203142439963,
          75.02596762089507,
          66.80818844222117,
          151.62319257790458,
          427.0664975919053,
          359.5476957215339,
          291.9767653514816,
          124.03913338796106,
          118.40275435608943,
          74.80853566193838,
          361.3879277615651,
          63.6455379341911,
          97.97024442477918,
          161.6308578977799,
          395.2813648439785,
          100.31714289379552,
          148.01844544980966,
          215.81030910106364,
          49.33918982552782,
          439.36493825130987,
          137.53669935202686,
          248.51251279894893,
          230.30804462452764,
          343.49236626119045,
          50.61777305185059,
          161.0212862112891,
          170.4948561724916,
          96.24542461608067,
          210.89996438156408,
          345.70672350971137,
          474.51965329791364,
          172.644409274233,
          69.36315865975135,
          544.1699343991104,
          70.43028515784259,
          191.93537208748347,
          453.0677892281726,
          50.444246806749874,
          100.74832168948419,
          170.09269008540528,
          141.02784728085192,
          339.29636749615923,
          156.29556463364113,
          364.3681140598848,
          64.40857269059165,
          257.6146590707282,
          154.21412042726476,
          220.05567334295324,
          112.12909197423345,
          203.6999197046864,
          288.97877749924334,
          248.43246686416006,
          351.6152850722222,
          267.01694695537657,
          213.76410166059267,
          51.66403249325071,
          94.21685316045742,
          129.0001930735875,
          63.41927616349727,
          403.16144607056617,
          96.57435190828099,
          134.40422051316017,
          100.98268918292233,
          323.50925356088266,
          108.50092627569266,
          152.2567293452896,
          102.06652543554667,
          220.00469626809672,
          240.36106305599395,
          237.23264087049236,
          207.88799072589364,
          164.2792279832055,
          381.02890159230446,
          335.63041477600865,
          363.23448397525715,
          312.67391255492237,
          246.93201375864876,
          124.93108409149967,
          219.8347528623059,
          229.45878628535255,
          206.91599600138554,
          114.70299998229608,
          197.64876831100258,
          139.16855664744892,
          198.227616883382,
          49.62523691588854,
          131.05775897092747,
          123.2385931372765,
          264.13683354004684,
          110.05847354933135,
          270.4555926243544,
          267.94994866080367,
          152.20649686334352,
          97.68634222882618,
          222.28195336891196,
          229.14062204237777,
          22.42243279684351,
          161.3565409063673,
          72.29744012432361,
          162.4451977175303,
          200.96702216291703,
          313.34269259603604,
          166.2030378687468,
          54.308336033758515,
          187.9081313123322,
          97.2179570685331,
          281.0006780393088,
          50.4971082707923,
          106.36961174318579,
          61.652582104133465,
          79.36852878504202,
          254.73244397877448,
          129.39947792713753,
          400.3410576880982,
          24.96539297384613,
          292.8319944028891,
          61.451198727258664,
          107.3688885077524,
          428.2868062746116,
          54.79438431098621,
          78.40111033943043,
          75.12629114507138,
          91.0682500867544,
          94.0931174344212,
          107.70997869739544,
          288.30221996631127,
          158.31822541679725,
          303.72072063778876,
          127.80756236770662,
          49.302448413309016,
          43.173480126830974,
          192.7149272106287,
          147.53094658745866,
          55.49535594022671,
          428.2351743306185,
          46.64636393233225,
          39.09034875855063,
          247.55125843605217,
          409.51932576447706,
          59.40668738613736,
          44.73050935453529,
          67.84174545208906,
          101.16290153506033,
          84.86049513049528,
          173.56267714834377,
          429.87591913075414,
          51.10892705334189,
          159.88148697377588,
          66.32860703577441,
          91.43623344127612,
          164.15007383431848,
          232.6514207386735,
          133.95691440960258,
          212.9825901036516,
          207.076552407664,
          243.4504930500938,
          162.69360140894312,
          66.31158142974594,
          22.156589318546036,
          237.6964431244438,
          388.9523350443174,
          247.08024727760966,
          66.2844815922632,
          349.88650184646366,
          45.13475761320524,
          281.9910468202217,
          207.8288123914899,
          87.79880408193046,
          240.0930646874328,
          340.2900529260515,
          52.35341494965184,
          49.89849233696801,
          330.5173598943961,
          51.56244202886872,
          220.9139194095797,
          134.2251624689966,
          78.59441338478798,
          104.79472577498484,
          166.02286702803397,
          225.22270218686523,
          133.86802121867342,
          115.98689925088253,
          244.25455502454892,
          220.00175608509323,
          269.73984085889487,
          116.1315904565071
         ],
         "yaxis": "y"
        }
       ],
       "layout": {
        "legend": {
         "tracegroupgap": 0
        },
        "margin": {
         "t": 60
        },
        "template": {
         "data": {
          "bar": [
           {
            "error_x": {
             "color": "#2a3f5f"
            },
            "error_y": {
             "color": "#2a3f5f"
            },
            "marker": {
             "line": {
              "color": "#E5ECF6",
              "width": 0.5
             },
             "pattern": {
              "fillmode": "overlay",
              "size": 10,
              "solidity": 0.2
             }
            },
            "type": "bar"
           }
          ],
          "barpolar": [
           {
            "marker": {
             "line": {
              "color": "#E5ECF6",
              "width": 0.5
             },
             "pattern": {
              "fillmode": "overlay",
              "size": 10,
              "solidity": 0.2
             }
            },
            "type": "barpolar"
           }
          ],
          "carpet": [
           {
            "aaxis": {
             "endlinecolor": "#2a3f5f",
             "gridcolor": "white",
             "linecolor": "white",
             "minorgridcolor": "white",
             "startlinecolor": "#2a3f5f"
            },
            "baxis": {
             "endlinecolor": "#2a3f5f",
             "gridcolor": "white",
             "linecolor": "white",
             "minorgridcolor": "white",
             "startlinecolor": "#2a3f5f"
            },
            "type": "carpet"
           }
          ],
          "choropleth": [
           {
            "colorbar": {
             "outlinewidth": 0,
             "ticks": ""
            },
            "type": "choropleth"
           }
          ],
          "contour": [
           {
            "colorbar": {
             "outlinewidth": 0,
             "ticks": ""
            },
            "colorscale": [
             [
              0,
              "#0d0887"
             ],
             [
              0.1111111111111111,
              "#46039f"
             ],
             [
              0.2222222222222222,
              "#7201a8"
             ],
             [
              0.3333333333333333,
              "#9c179e"
             ],
             [
              0.4444444444444444,
              "#bd3786"
             ],
             [
              0.5555555555555556,
              "#d8576b"
             ],
             [
              0.6666666666666666,
              "#ed7953"
             ],
             [
              0.7777777777777778,
              "#fb9f3a"
             ],
             [
              0.8888888888888888,
              "#fdca26"
             ],
             [
              1,
              "#f0f921"
             ]
            ],
            "type": "contour"
           }
          ],
          "contourcarpet": [
           {
            "colorbar": {
             "outlinewidth": 0,
             "ticks": ""
            },
            "type": "contourcarpet"
           }
          ],
          "heatmap": [
           {
            "colorbar": {
             "outlinewidth": 0,
             "ticks": ""
            },
            "colorscale": [
             [
              0,
              "#0d0887"
             ],
             [
              0.1111111111111111,
              "#46039f"
             ],
             [
              0.2222222222222222,
              "#7201a8"
             ],
             [
              0.3333333333333333,
              "#9c179e"
             ],
             [
              0.4444444444444444,
              "#bd3786"
             ],
             [
              0.5555555555555556,
              "#d8576b"
             ],
             [
              0.6666666666666666,
              "#ed7953"
             ],
             [
              0.7777777777777778,
              "#fb9f3a"
             ],
             [
              0.8888888888888888,
              "#fdca26"
             ],
             [
              1,
              "#f0f921"
             ]
            ],
            "type": "heatmap"
           }
          ],
          "heatmapgl": [
           {
            "colorbar": {
             "outlinewidth": 0,
             "ticks": ""
            },
            "colorscale": [
             [
              0,
              "#0d0887"
             ],
             [
              0.1111111111111111,
              "#46039f"
             ],
             [
              0.2222222222222222,
              "#7201a8"
             ],
             [
              0.3333333333333333,
              "#9c179e"
             ],
             [
              0.4444444444444444,
              "#bd3786"
             ],
             [
              0.5555555555555556,
              "#d8576b"
             ],
             [
              0.6666666666666666,
              "#ed7953"
             ],
             [
              0.7777777777777778,
              "#fb9f3a"
             ],
             [
              0.8888888888888888,
              "#fdca26"
             ],
             [
              1,
              "#f0f921"
             ]
            ],
            "type": "heatmapgl"
           }
          ],
          "histogram": [
           {
            "marker": {
             "pattern": {
              "fillmode": "overlay",
              "size": 10,
              "solidity": 0.2
             }
            },
            "type": "histogram"
           }
          ],
          "histogram2d": [
           {
            "colorbar": {
             "outlinewidth": 0,
             "ticks": ""
            },
            "colorscale": [
             [
              0,
              "#0d0887"
             ],
             [
              0.1111111111111111,
              "#46039f"
             ],
             [
              0.2222222222222222,
              "#7201a8"
             ],
             [
              0.3333333333333333,
              "#9c179e"
             ],
             [
              0.4444444444444444,
              "#bd3786"
             ],
             [
              0.5555555555555556,
              "#d8576b"
             ],
             [
              0.6666666666666666,
              "#ed7953"
             ],
             [
              0.7777777777777778,
              "#fb9f3a"
             ],
             [
              0.8888888888888888,
              "#fdca26"
             ],
             [
              1,
              "#f0f921"
             ]
            ],
            "type": "histogram2d"
           }
          ],
          "histogram2dcontour": [
           {
            "colorbar": {
             "outlinewidth": 0,
             "ticks": ""
            },
            "colorscale": [
             [
              0,
              "#0d0887"
             ],
             [
              0.1111111111111111,
              "#46039f"
             ],
             [
              0.2222222222222222,
              "#7201a8"
             ],
             [
              0.3333333333333333,
              "#9c179e"
             ],
             [
              0.4444444444444444,
              "#bd3786"
             ],
             [
              0.5555555555555556,
              "#d8576b"
             ],
             [
              0.6666666666666666,
              "#ed7953"
             ],
             [
              0.7777777777777778,
              "#fb9f3a"
             ],
             [
              0.8888888888888888,
              "#fdca26"
             ],
             [
              1,
              "#f0f921"
             ]
            ],
            "type": "histogram2dcontour"
           }
          ],
          "mesh3d": [
           {
            "colorbar": {
             "outlinewidth": 0,
             "ticks": ""
            },
            "type": "mesh3d"
           }
          ],
          "parcoords": [
           {
            "line": {
             "colorbar": {
              "outlinewidth": 0,
              "ticks": ""
             }
            },
            "type": "parcoords"
           }
          ],
          "pie": [
           {
            "automargin": true,
            "type": "pie"
           }
          ],
          "scatter": [
           {
            "fillpattern": {
             "fillmode": "overlay",
             "size": 10,
             "solidity": 0.2
            },
            "type": "scatter"
           }
          ],
          "scatter3d": [
           {
            "line": {
             "colorbar": {
              "outlinewidth": 0,
              "ticks": ""
             }
            },
            "marker": {
             "colorbar": {
              "outlinewidth": 0,
              "ticks": ""
             }
            },
            "type": "scatter3d"
           }
          ],
          "scattercarpet": [
           {
            "marker": {
             "colorbar": {
              "outlinewidth": 0,
              "ticks": ""
             }
            },
            "type": "scattercarpet"
           }
          ],
          "scattergeo": [
           {
            "marker": {
             "colorbar": {
              "outlinewidth": 0,
              "ticks": ""
             }
            },
            "type": "scattergeo"
           }
          ],
          "scattergl": [
           {
            "marker": {
             "colorbar": {
              "outlinewidth": 0,
              "ticks": ""
             }
            },
            "type": "scattergl"
           }
          ],
          "scattermapbox": [
           {
            "marker": {
             "colorbar": {
              "outlinewidth": 0,
              "ticks": ""
             }
            },
            "type": "scattermapbox"
           }
          ],
          "scatterpolar": [
           {
            "marker": {
             "colorbar": {
              "outlinewidth": 0,
              "ticks": ""
             }
            },
            "type": "scatterpolar"
           }
          ],
          "scatterpolargl": [
           {
            "marker": {
             "colorbar": {
              "outlinewidth": 0,
              "ticks": ""
             }
            },
            "type": "scatterpolargl"
           }
          ],
          "scatterternary": [
           {
            "marker": {
             "colorbar": {
              "outlinewidth": 0,
              "ticks": ""
             }
            },
            "type": "scatterternary"
           }
          ],
          "surface": [
           {
            "colorbar": {
             "outlinewidth": 0,
             "ticks": ""
            },
            "colorscale": [
             [
              0,
              "#0d0887"
             ],
             [
              0.1111111111111111,
              "#46039f"
             ],
             [
              0.2222222222222222,
              "#7201a8"
             ],
             [
              0.3333333333333333,
              "#9c179e"
             ],
             [
              0.4444444444444444,
              "#bd3786"
             ],
             [
              0.5555555555555556,
              "#d8576b"
             ],
             [
              0.6666666666666666,
              "#ed7953"
             ],
             [
              0.7777777777777778,
              "#fb9f3a"
             ],
             [
              0.8888888888888888,
              "#fdca26"
             ],
             [
              1,
              "#f0f921"
             ]
            ],
            "type": "surface"
           }
          ],
          "table": [
           {
            "cells": {
             "fill": {
              "color": "#EBF0F8"
             },
             "line": {
              "color": "white"
             }
            },
            "header": {
             "fill": {
              "color": "#C8D4E3"
             },
             "line": {
              "color": "white"
             }
            },
            "type": "table"
           }
          ]
         },
         "layout": {
          "annotationdefaults": {
           "arrowcolor": "#2a3f5f",
           "arrowhead": 0,
           "arrowwidth": 1
          },
          "autotypenumbers": "strict",
          "coloraxis": {
           "colorbar": {
            "outlinewidth": 0,
            "ticks": ""
           }
          },
          "colorscale": {
           "diverging": [
            [
             0,
             "#8e0152"
            ],
            [
             0.1,
             "#c51b7d"
            ],
            [
             0.2,
             "#de77ae"
            ],
            [
             0.3,
             "#f1b6da"
            ],
            [
             0.4,
             "#fde0ef"
            ],
            [
             0.5,
             "#f7f7f7"
            ],
            [
             0.6,
             "#e6f5d0"
            ],
            [
             0.7,
             "#b8e186"
            ],
            [
             0.8,
             "#7fbc41"
            ],
            [
             0.9,
             "#4d9221"
            ],
            [
             1,
             "#276419"
            ]
           ],
           "sequential": [
            [
             0,
             "#0d0887"
            ],
            [
             0.1111111111111111,
             "#46039f"
            ],
            [
             0.2222222222222222,
             "#7201a8"
            ],
            [
             0.3333333333333333,
             "#9c179e"
            ],
            [
             0.4444444444444444,
             "#bd3786"
            ],
            [
             0.5555555555555556,
             "#d8576b"
            ],
            [
             0.6666666666666666,
             "#ed7953"
            ],
            [
             0.7777777777777778,
             "#fb9f3a"
            ],
            [
             0.8888888888888888,
             "#fdca26"
            ],
            [
             1,
             "#f0f921"
            ]
           ],
           "sequentialminus": [
            [
             0,
             "#0d0887"
            ],
            [
             0.1111111111111111,
             "#46039f"
            ],
            [
             0.2222222222222222,
             "#7201a8"
            ],
            [
             0.3333333333333333,
             "#9c179e"
            ],
            [
             0.4444444444444444,
             "#bd3786"
            ],
            [
             0.5555555555555556,
             "#d8576b"
            ],
            [
             0.6666666666666666,
             "#ed7953"
            ],
            [
             0.7777777777777778,
             "#fb9f3a"
            ],
            [
             0.8888888888888888,
             "#fdca26"
            ],
            [
             1,
             "#f0f921"
            ]
           ]
          },
          "colorway": [
           "#636efa",
           "#EF553B",
           "#00cc96",
           "#ab63fa",
           "#FFA15A",
           "#19d3f3",
           "#FF6692",
           "#B6E880",
           "#FF97FF",
           "#FECB52"
          ],
          "font": {
           "color": "#2a3f5f"
          },
          "geo": {
           "bgcolor": "white",
           "lakecolor": "white",
           "landcolor": "#E5ECF6",
           "showlakes": true,
           "showland": true,
           "subunitcolor": "white"
          },
          "hoverlabel": {
           "align": "left"
          },
          "hovermode": "closest",
          "mapbox": {
           "style": "light"
          },
          "paper_bgcolor": "white",
          "plot_bgcolor": "#E5ECF6",
          "polar": {
           "angularaxis": {
            "gridcolor": "white",
            "linecolor": "white",
            "ticks": ""
           },
           "bgcolor": "#E5ECF6",
           "radialaxis": {
            "gridcolor": "white",
            "linecolor": "white",
            "ticks": ""
           }
          },
          "scene": {
           "xaxis": {
            "backgroundcolor": "#E5ECF6",
            "gridcolor": "white",
            "gridwidth": 2,
            "linecolor": "white",
            "showbackground": true,
            "ticks": "",
            "zerolinecolor": "white"
           },
           "yaxis": {
            "backgroundcolor": "#E5ECF6",
            "gridcolor": "white",
            "gridwidth": 2,
            "linecolor": "white",
            "showbackground": true,
            "ticks": "",
            "zerolinecolor": "white"
           },
           "zaxis": {
            "backgroundcolor": "#E5ECF6",
            "gridcolor": "white",
            "gridwidth": 2,
            "linecolor": "white",
            "showbackground": true,
            "ticks": "",
            "zerolinecolor": "white"
           }
          },
          "shapedefaults": {
           "line": {
            "color": "#2a3f5f"
           }
          },
          "ternary": {
           "aaxis": {
            "gridcolor": "white",
            "linecolor": "white",
            "ticks": ""
           },
           "baxis": {
            "gridcolor": "white",
            "linecolor": "white",
            "ticks": ""
           },
           "bgcolor": "#E5ECF6",
           "caxis": {
            "gridcolor": "white",
            "linecolor": "white",
            "ticks": ""
           }
          },
          "title": {
           "x": 0.05
          },
          "xaxis": {
           "automargin": true,
           "gridcolor": "white",
           "linecolor": "white",
           "ticks": "",
           "title": {
            "standoff": 15
           },
           "zerolinecolor": "white",
           "zerolinewidth": 2
          },
          "yaxis": {
           "automargin": true,
           "gridcolor": "white",
           "linecolor": "white",
           "ticks": "",
           "title": {
            "standoff": 15
           },
           "zerolinecolor": "white",
           "zerolinewidth": 2
          }
         }
        },
        "xaxis": {
         "anchor": "y",
         "domain": [
          0,
          1
         ],
         "title": {
          "text": "Actual y"
         }
        },
        "yaxis": {
         "anchor": "x",
         "domain": [
          0,
          1
         ],
         "title": {
          "text": "Predicted y"
         }
        }
       }
      }
     },
     "metadata": {},
     "output_type": "display_data"
    }
   ],
   "source": [
    "from sklearn.ensemble import HistGradientBoostingRegressor\n",
    "\n",
    "reg = HistGradientBoostingRegressor(random_state=random_state)\n",
    "\n",
    "reg.fit(X_train, y_train)\n",
    "\n",
    "y_train_pred = reg.predict(X_train)\n",
    "y_pred = reg.predict(X_test)\n",
    "\n",
    "print(f\"Train\\nScore: {reg.score(X_train, y_train)}\")\n",
    "calculate_score(y_train, y_train_pred)\n",
    "\n",
    "print(f\"Test\\nScore: {reg.score(X_test, y_test)}\")\n",
    "calculate_score(y_test, y_pred)\n",
    "\n",
    "plot(y_test, y_pred)"
   ]
  },
  {
   "cell_type": "markdown",
   "metadata": {},
   "source": [
    "### Model 3: XGBoost Regression"
   ]
  },
  {
   "cell_type": "markdown",
   "metadata": {},
   "source": [
    "We can use gradient boosting - a type of ensemble machine learning algorithms. Ensemble is a collection of decision trees. Every iteration, a decision tree is added to model to minimise the error. Models are fit using any arbitrary differentiable loss function and gradient descent optimization algorithm, and the goal is to minimise loss gradient. We will use XGBoost API to do the model fitting."
   ]
  },
  {
   "cell_type": "code",
   "execution_count": 13,
   "metadata": {},
   "outputs": [
    {
     "name": "stdout",
     "output_type": "stream",
     "text": [
      "Train\n",
      "Score:1.0\n",
      "R2 Score 0.9907481501980658\n",
      "RMSE : 12.794784018083211\n",
      "Test\n",
      "Score:0.7729414478612586\n",
      "R2 Score 0.7729414478612586\n",
      "RMSE : 61.74429468712888\n"
     ]
    },
    {
     "data": {
      "application/vnd.plotly.v1+json": {
       "config": {
        "plotlyServerURL": "https://plot.ly"
       },
       "data": [
        {
         "hovertemplate": "Actual y=%{x}<br>Predicted y=%{y}<extra></extra>",
         "legendgroup": "",
         "marker": {
          "color": "#636efa",
          "symbol": "circle"
         },
         "mode": "markers",
         "name": "",
         "orientation": "v",
         "showlegend": false,
         "type": "scatter",
         "x": [
          333,
          156,
          174,
          148,
          50,
          39,
          59,
          247,
          193,
          70,
          97,
          31,
          77,
          130,
          134,
          185,
          237,
          30,
          48,
          118,
          55,
          159,
          379,
          238,
          53,
          127,
          69,
          269,
          150,
          30,
          56,
          253,
          99,
          305,
          578,
          246,
          232,
          148,
          346,
          230,
          69,
          60,
          81,
          127,
          200,
          202,
          300,
          350,
          260,
          191,
          46,
          292,
          401,
          188,
          399,
          48,
          260,
          161,
          540,
          70,
          73,
          615,
          45,
          18,
          394,
          403,
          120,
          149,
          100,
          292,
          80,
          216,
          106,
          160,
          126,
          78,
          130,
          391,
          47,
          257,
          24,
          75,
          100,
          45,
          250,
          420,
          163,
          130,
          85,
          379,
          175,
          490,
          49,
          99,
          265,
          48,
          29,
          110,
          168,
          186,
          139,
          120,
          224,
          79,
          343,
          250,
          50,
          145,
          219,
          174,
          69,
          152,
          189,
          225,
          250,
          32,
          75,
          231,
          280,
          154,
          110,
          187,
          36,
          550,
          55,
          540,
          150,
          39,
          173,
          214,
          100,
          310,
          150,
          175,
          105,
          31,
          174,
          133,
          281,
          158,
          69,
          57,
          434,
          81,
          203,
          69,
          204,
          179,
          22,
          290,
          246,
          254,
          201,
          154,
          230,
          200,
          79,
          400,
          40,
          400,
          60,
          69,
          145,
          100,
          49,
          79,
          100,
          375,
          49,
          50,
          500,
          90,
          69,
          155,
          39,
          190,
          347,
          184,
          463,
          79,
          250,
          88,
          95,
          205,
          140,
          458,
          140,
          34,
          162,
          29,
          97,
          101,
          130,
          169,
          187,
          148,
          256,
          95,
          488,
          59,
          60,
          85,
          56,
          78,
          276,
          409,
          62,
          402,
          174,
          364,
          200,
          223,
          161,
          65,
          223,
          88,
          43,
          68,
          287,
          124,
          97,
          122,
          216,
          110,
          620,
          240,
          85,
          316,
          165,
          47,
          69,
          59,
          109,
          220,
          400,
          69,
          281,
          241,
          37,
          169,
          277,
          450,
          80,
          238,
          26,
          95,
          35,
          34,
          110,
          49,
          230,
          350,
          196,
          130,
          90,
          121,
          174,
          133,
          218,
          575,
          97,
          310,
          80,
          315,
          209,
          194,
          200,
          50,
          59,
          119,
          39,
          38,
          40,
          95,
          154,
          313,
          354,
          150,
          120,
          59,
          42,
          120,
          280,
          180,
          367,
          138,
          450,
          49,
          124,
          165,
          101,
          184,
          46,
          297,
          210,
          91,
          186,
          50,
          413,
          49,
          200,
          160,
          131,
          191,
          100,
          350,
          74,
          43,
          155,
          89,
          106,
          65,
          111,
          79,
          456,
          175,
          49,
          98,
          288,
          170,
          45,
          66,
          58,
          187,
          170,
          146,
          100,
          78,
          422,
          270,
          249,
          193,
          45,
          59,
          116,
          65,
          200,
          33,
          404,
          131,
          75,
          176,
          300,
          199,
          346,
          148,
          108,
          50,
          104,
          200,
          430,
          115,
          80,
          450,
          392,
          367,
          67,
          181,
          270,
          377,
          224,
          44,
          135,
          258,
          39,
          300,
          130,
          145,
          409,
          148,
          58,
          59,
          140,
          470,
          350,
          212,
          50,
          145,
          37,
          369,
          57,
          87,
          394,
          411,
          130,
          155,
          300,
          51,
          533,
          135,
          264,
          160,
          400,
          59,
          180,
          70,
          67,
          70,
          328,
          499,
          150,
          99,
          616,
          40,
          236,
          383,
          41,
          60,
          117,
          160,
          330,
          126,
          414,
          40,
          250,
          99,
          149,
          102,
          180,
          155,
          369,
          362,
          170,
          247,
          57,
          45,
          120,
          70,
          387,
          70,
          80,
          68,
          200,
          90,
          20,
          119,
          199,
          250,
          330,
          201,
          121,
          495,
          299,
          528,
          270,
          261,
          85,
          180,
          158,
          465,
          91,
          415,
          135,
          122,
          100,
          53,
          110,
          238,
          102,
          269,
          235,
          40,
          109,
          144,
          243,
          22,
          181,
          50,
          184,
          145,
          250,
          200,
          58,
          120,
          25,
          210,
          49,
          85,
          69,
          69,
          238,
          109,
          399,
          44,
          323,
          48,
          80,
          461,
          49,
          47,
          75,
          96,
          30,
          140,
          457,
          70,
          257,
          120,
          59,
          24,
          265,
          140,
          49,
          409,
          225,
          45,
          239,
          225,
          48,
          49,
          65,
          98,
          88,
          156,
          405,
          59,
          187,
          59,
          70,
          199,
          188,
          46,
          193,
          270,
          239,
          169,
          67,
          30,
          214,
          522,
          225,
          45,
          539,
          45,
          465,
          223,
          44,
          221,
          300,
          69,
          59,
          320,
          59,
          265,
          450,
          57,
          85,
          144,
          499,
          90,
          135,
          250,
          179,
          320,
          75
         ],
         "xaxis": "x",
         "y": [
          297.93548583984375,
          133.2062530517578,
          167.98912048339844,
          228.76292419433594,
          105.87678527832031,
          39.31589126586914,
          54.703514099121094,
          255.5553741455078,
          246.45518493652344,
          90.66104888916016,
          82.78680419921875,
          16.917156219482422,
          87.70988464355469,
          90.99063873291016,
          132.4170379638672,
          214.89462280273438,
          207.99896240234375,
          113.43694305419922,
          76.3406982421875,
          258.20623779296875,
          61.453285217285156,
          236.72450256347656,
          383.7837829589844,
          194.09828186035156,
          80.4448013305664,
          105.75318908691406,
          58.19041061401367,
          172.5212860107422,
          283.0143737792969,
          52.61028289794922,
          66.00446319580078,
          197.37818908691406,
          121.43936157226562,
          260.04168701171875,
          519.0850219726562,
          246.9044647216797,
          211.5139923095703,
          197.90487670898438,
          392.7255859375,
          289.57611083984375,
          63.826969146728516,
          79.83860778808594,
          65.84986877441406,
          128.52700805664062,
          207.0123748779297,
          347.66094970703125,
          186.7212371826172,
          303.3247375488281,
          376.3116760253906,
          207.97743225097656,
          70.93853759765625,
          260.938720703125,
          395.59197998046875,
          154.72129821777344,
          367.13134765625,
          48.11015701293945,
          279.45111083984375,
          225.1808624267578,
          221.02442932128906,
          64.5242919921875,
          97.52442932128906,
          499.970947265625,
          174.33248901367188,
          35.071632385253906,
          278.8680725097656,
          415.385498046875,
          100.47882080078125,
          139.439697265625,
          72.00489807128906,
          239.02061462402344,
          83.0189437866211,
          226.54452514648438,
          80.87796783447266,
          155.03121948242188,
          102.63119506835938,
          145.21673583984375,
          126.10855102539062,
          340.0299377441406,
          49.213951110839844,
          227.68258666992188,
          40.06216812133789,
          103.96995544433594,
          76.06549072265625,
          61.012046813964844,
          195.2078857421875,
          412.9308166503906,
          140.0255126953125,
          269.1851501464844,
          105.85897064208984,
          407.9539794921875,
          203.98475646972656,
          345.51947021484375,
          59.92352294921875,
          47.6427001953125,
          276.1590270996094,
          61.14525604248047,
          55.075809478759766,
          136.1710205078125,
          153.03762817382812,
          245.10543823242188,
          265.6048583984375,
          133.58016967773438,
          256.90008544921875,
          65.0467758178711,
          277.9006652832031,
          94.00521087646484,
          89.70511627197266,
          156.77037048339844,
          110.55607604980469,
          155.98507690429688,
          65.81279754638672,
          136.04449462890625,
          178.9132080078125,
          215.9335479736328,
          245.1996612548828,
          66.69055938720703,
          96.7581787109375,
          252.36557006835938,
          236.88604736328125,
          152.82058715820312,
          110.81891632080078,
          185.6163330078125,
          46.56099319458008,
          470.9466247558594,
          47.027793884277344,
          442.2608337402344,
          30.224687576293945,
          41.72217559814453,
          202.10972595214844,
          233.81517028808594,
          128.03990173339844,
          267.30816650390625,
          123.5709457397461,
          225.25167846679688,
          90.53079223632812,
          24.542211532592773,
          146.53643798828125,
          147.89151000976562,
          286.4335632324219,
          219.21981811523438,
          49.34917449951172,
          52.532630920410156,
          427.7940979003906,
          96.84410095214844,
          247.5530242919922,
          48.23922348022461,
          186.97434997558594,
          168.31048583984375,
          35.66056442260742,
          180.611572265625,
          224.1746826171875,
          252.1351318359375,
          168.6884765625,
          138.60324096679688,
          198.1912078857422,
          211.61631774902344,
          68.7158203125,
          296.7039794921875,
          158.10415649414062,
          169.2858123779297,
          156.79330444335938,
          44.79389190673828,
          137.6150360107422,
          93.12093353271484,
          50.4015007019043,
          77.84186553955078,
          79.47669982910156,
          549.944580078125,
          52.64384078979492,
          61.86658477783203,
          424.4391784667969,
          86.05599975585938,
          52.24205017089844,
          164.54257202148438,
          148.5825653076172,
          261.9509582519531,
          338.9468994140625,
          165.2835693359375,
          357.7916259765625,
          100.72843170166016,
          310.8165588378906,
          101.28286743164062,
          116.5578384399414,
          214.48513793945312,
          137.49513244628906,
          208.72207641601562,
          105.86602783203125,
          88.24271392822266,
          132.85264587402344,
          50.56234359741211,
          147.91583251953125,
          127.81912994384766,
          152.9161834716797,
          246.53060913085938,
          179.89877319335938,
          111.01114654541016,
          281.9126892089844,
          94.3736801147461,
          433.72705078125,
          61.607784271240234,
          102.30474090576172,
          31.19820213317871,
          58.45500946044922,
          74.23609161376953,
          397.9900207519531,
          456.2427978515625,
          69.36712646484375,
          396.2685546875,
          186.0711212158203,
          212.39743041992188,
          236.38101196289062,
          228.41049194335938,
          151.70399475097656,
          68.69319152832031,
          200.20533752441406,
          92.87297821044922,
          48.11155700683594,
          129.4424285888672,
          414.3580627441406,
          131.21337890625,
          152.14666748046875,
          186.41000366210938,
          196.55552673339844,
          129.2733154296875,
          451.1715087890625,
          246.47586059570312,
          106.68920135498047,
          242.46902465820312,
          130.99124145507812,
          52.52602767944336,
          44.69432067871094,
          52.119789123535156,
          155.77769470214844,
          185.18023681640625,
          320.6250305175781,
          77.7455825805664,
          242.2943572998047,
          242.5596160888672,
          61.57196044921875,
          128.14231872558594,
          233.35934448242188,
          299.6182861328125,
          47.77006149291992,
          241.4320068359375,
          86.58279418945312,
          112.87320709228516,
          111.06656646728516,
          88.76344299316406,
          127.64681243896484,
          50.02653884887695,
          213.96841430664062,
          188.65655517578125,
          221.05377197265625,
          197.47186279296875,
          127.81942749023438,
          138.22457885742188,
          184.71925354003906,
          189.67678833007812,
          247.55345153808594,
          352.57989501953125,
          109.02511596679688,
          242.7672576904297,
          122.21755981445312,
          293.5395812988281,
          246.69139099121094,
          174.2762451171875,
          222.53367614746094,
          92.96501159667969,
          57.82695007324219,
          86.62073516845703,
          40.51059341430664,
          38.63285446166992,
          58.06706619262695,
          93.3446044921875,
          184.9938201904297,
          331.4947204589844,
          409.0384826660156,
          74.91433715820312,
          179.03350830078125,
          65.40364837646484,
          42.476295471191406,
          132.78994750976562,
          386.5061950683594,
          185.01504516601562,
          411.2729187011719,
          257.79296875,
          322.4639587402344,
          80.28585815429688,
          187.64730834960938,
          223.16571044921875,
          154.9744415283203,
          166.72364807128906,
          55.18502426147461,
          270.2201232910156,
          316.4345397949219,
          196.5419158935547,
          210.40960693359375,
          64.8926773071289,
          427.280029296875,
          44.826011657714844,
          260.65130615234375,
          218.4560546875,
          110.27994537353516,
          195.2300262451172,
          110.91404724121094,
          307.7102966308594,
          88.7551040649414,
          49.34043884277344,
          174.55999755859375,
          167.2965087890625,
          110.6222152709961,
          75.5203628540039,
          107.01627349853516,
          81.88372802734375,
          442.0956115722656,
          220.9291534423828,
          52.415279388427734,
          148.95367431640625,
          207.9388427734375,
          224.66949462890625,
          119.22598266601562,
          110.04889678955078,
          86.26516723632812,
          205.927734375,
          170.82008361816406,
          182.68617248535156,
          90.95629119873047,
          76.25257873535156,
          385.0685119628906,
          155.13511657714844,
          232.41549682617188,
          219.9466552734375,
          46.711082458496094,
          55.68880844116211,
          223.86318969726562,
          141.06924438476562,
          262.8559265136719,
          62.89931106567383,
          425.99951171875,
          138.7419891357422,
          52.567020416259766,
          201.7831573486328,
          324.4776611328125,
          255.1109161376953,
          345.6983947753906,
          159.91607666015625,
          136.97483825683594,
          70.66165161132812,
          80.50593566894531,
          226.70347595214844,
          406.35504150390625,
          138.68490600585938,
          88.26402282714844,
          457.15802001953125,
          405.4878845214844,
          317.728759765625,
          87.18870544433594,
          288.6259460449219,
          259.5648193359375,
          329.4904479980469,
          193.3736114501953,
          76.30542755126953,
          239.10684204101562,
          259.6797790527344,
          77.49606323242188,
          262.1723937988281,
          103.87487030029297,
          163.3150634765625,
          349.3207702636719,
          239.88473510742188,
          79.74837493896484,
          49.23365783691406,
          146.27713012695312,
          409.0851135253906,
          377.39971923828125,
          353.95654296875,
          112.86968231201172,
          81.38282775878906,
          85.71533203125,
          341.4146728515625,
          64.92427825927734,
          87.78922271728516,
          159.78390502929688,
          352.007568359375,
          138.36196899414062,
          144.59600830078125,
          277.363525390625,
          49.19700241088867,
          461.92034912109375,
          132.27565002441406,
          220.45062255859375,
          226.08143615722656,
          321.6520080566406,
          50.52651596069336,
          187.66107177734375,
          117.58562469482422,
          98.4103012084961,
          210.8144989013672,
          359.1445007324219,
          462.6893005371094,
          169.30039978027344,
          77.83228302001953,
          527.4832763671875,
          82.20716094970703,
          217.77732849121094,
          464.3507995605469,
          42.57288360595703,
          70.20646667480469,
          171.62998962402344,
          147.8501739501953,
          317.0954284667969,
          150.19386291503906,
          359.4422912597656,
          52.72500228881836,
          257.6553955078125,
          131.3638916015625,
          165.52725219726562,
          115.57868957519531,
          230.29673767089844,
          291.7750244140625,
          297.2962341308594,
          340.74267578125,
          203.77110290527344,
          213.0190887451172,
          59.39989471435547,
          67.05184936523438,
          141.2646484375,
          80.04983520507812,
          419.8745422363281,
          101.70240783691406,
          139.53211975097656,
          98.67805480957031,
          291.9618835449219,
          135.49842834472656,
          146.85482788085938,
          127.562255859375,
          224.21595764160156,
          280.3421630859375,
          264.5240173339844,
          220.3740997314453,
          183.2045440673828,
          365.5362243652344,
          362.088134765625,
          319.86199951171875,
          305.6730041503906,
          240.85816955566406,
          132.6586456298828,
          192.9727020263672,
          199.51324462890625,
          216.75601196289062,
          120.74164581298828,
          238.94076538085938,
          144.4984588623047,
          165.84217834472656,
          70.08856201171875,
          105.34437561035156,
          118.88345336914062,
          260.5054626464844,
          112.67056274414062,
          249.41297912597656,
          247.76254272460938,
          84.1452865600586,
          125.57084655761719,
          177.37217712402344,
          231.0792999267578,
          37.921730041503906,
          174.99339294433594,
          73.06245422363281,
          187.88978576660156,
          180.79869079589844,
          298.96173095703125,
          176.7694091796875,
          56.13414764404297,
          202.96221923828125,
          112.96883392333984,
          304.4372253417969,
          53.8209342956543,
          98.13319396972656,
          74.72904205322266,
          70.08184814453125,
          246.5578155517578,
          106.6172103881836,
          409.05938720703125,
          37.83991241455078,
          273.5002746582031,
          67.14948272705078,
          79.86896514892578,
          418.29852294921875,
          52.343013763427734,
          50.55647277832031,
          64.20586395263672,
          92.97502136230469,
          59.14502716064453,
          133.07656860351562,
          283.443603515625,
          111.91732025146484,
          250.23204040527344,
          145.8598175048828,
          51.021751403808594,
          42.00173568725586,
          215.20286560058594,
          153.2200164794922,
          61.163368225097656,
          422.38409423828125,
          45.814491271972656,
          42.714725494384766,
          254.3698272705078,
          357.9818420410156,
          55.72455596923828,
          41.167015075683594,
          46.42461013793945,
          91.05516815185547,
          84.97862243652344,
          176.8272705078125,
          422.18560791015625,
          48.16888427734375,
          170.5034942626953,
          58.150150299072266,
          81.97605895996094,
          168.40589904785156,
          232.4361114501953,
          254.36309814453125,
          220.13699340820312,
          217.58883666992188,
          231.6319122314453,
          156.51702880859375,
          76.69127655029297,
          48.48990249633789,
          181.42701721191406,
          413.88311767578125,
          246.54946899414062,
          55.5296516418457,
          329.2267150878906,
          33.96921157836914,
          280.9959411621094,
          240.17689514160156,
          92.17671966552734,
          239.76416015625,
          324.8528137207031,
          59.36734390258789,
          47.60164260864258,
          326.9145812988281,
          48.413299560546875,
          240.43983459472656,
          96.92953491210938,
          82.14048767089844,
          88.11408996582031,
          175.49026489257812,
          231.52297973632812,
          123.32882690429688,
          120.1172866821289,
          241.74099731445312,
          215.726318359375,
          278.2177429199219,
          108.54927825927734
         ],
         "yaxis": "y"
        }
       ],
       "layout": {
        "legend": {
         "tracegroupgap": 0
        },
        "margin": {
         "t": 60
        },
        "template": {
         "data": {
          "bar": [
           {
            "error_x": {
             "color": "#2a3f5f"
            },
            "error_y": {
             "color": "#2a3f5f"
            },
            "marker": {
             "line": {
              "color": "#E5ECF6",
              "width": 0.5
             },
             "pattern": {
              "fillmode": "overlay",
              "size": 10,
              "solidity": 0.2
             }
            },
            "type": "bar"
           }
          ],
          "barpolar": [
           {
            "marker": {
             "line": {
              "color": "#E5ECF6",
              "width": 0.5
             },
             "pattern": {
              "fillmode": "overlay",
              "size": 10,
              "solidity": 0.2
             }
            },
            "type": "barpolar"
           }
          ],
          "carpet": [
           {
            "aaxis": {
             "endlinecolor": "#2a3f5f",
             "gridcolor": "white",
             "linecolor": "white",
             "minorgridcolor": "white",
             "startlinecolor": "#2a3f5f"
            },
            "baxis": {
             "endlinecolor": "#2a3f5f",
             "gridcolor": "white",
             "linecolor": "white",
             "minorgridcolor": "white",
             "startlinecolor": "#2a3f5f"
            },
            "type": "carpet"
           }
          ],
          "choropleth": [
           {
            "colorbar": {
             "outlinewidth": 0,
             "ticks": ""
            },
            "type": "choropleth"
           }
          ],
          "contour": [
           {
            "colorbar": {
             "outlinewidth": 0,
             "ticks": ""
            },
            "colorscale": [
             [
              0,
              "#0d0887"
             ],
             [
              0.1111111111111111,
              "#46039f"
             ],
             [
              0.2222222222222222,
              "#7201a8"
             ],
             [
              0.3333333333333333,
              "#9c179e"
             ],
             [
              0.4444444444444444,
              "#bd3786"
             ],
             [
              0.5555555555555556,
              "#d8576b"
             ],
             [
              0.6666666666666666,
              "#ed7953"
             ],
             [
              0.7777777777777778,
              "#fb9f3a"
             ],
             [
              0.8888888888888888,
              "#fdca26"
             ],
             [
              1,
              "#f0f921"
             ]
            ],
            "type": "contour"
           }
          ],
          "contourcarpet": [
           {
            "colorbar": {
             "outlinewidth": 0,
             "ticks": ""
            },
            "type": "contourcarpet"
           }
          ],
          "heatmap": [
           {
            "colorbar": {
             "outlinewidth": 0,
             "ticks": ""
            },
            "colorscale": [
             [
              0,
              "#0d0887"
             ],
             [
              0.1111111111111111,
              "#46039f"
             ],
             [
              0.2222222222222222,
              "#7201a8"
             ],
             [
              0.3333333333333333,
              "#9c179e"
             ],
             [
              0.4444444444444444,
              "#bd3786"
             ],
             [
              0.5555555555555556,
              "#d8576b"
             ],
             [
              0.6666666666666666,
              "#ed7953"
             ],
             [
              0.7777777777777778,
              "#fb9f3a"
             ],
             [
              0.8888888888888888,
              "#fdca26"
             ],
             [
              1,
              "#f0f921"
             ]
            ],
            "type": "heatmap"
           }
          ],
          "heatmapgl": [
           {
            "colorbar": {
             "outlinewidth": 0,
             "ticks": ""
            },
            "colorscale": [
             [
              0,
              "#0d0887"
             ],
             [
              0.1111111111111111,
              "#46039f"
             ],
             [
              0.2222222222222222,
              "#7201a8"
             ],
             [
              0.3333333333333333,
              "#9c179e"
             ],
             [
              0.4444444444444444,
              "#bd3786"
             ],
             [
              0.5555555555555556,
              "#d8576b"
             ],
             [
              0.6666666666666666,
              "#ed7953"
             ],
             [
              0.7777777777777778,
              "#fb9f3a"
             ],
             [
              0.8888888888888888,
              "#fdca26"
             ],
             [
              1,
              "#f0f921"
             ]
            ],
            "type": "heatmapgl"
           }
          ],
          "histogram": [
           {
            "marker": {
             "pattern": {
              "fillmode": "overlay",
              "size": 10,
              "solidity": 0.2
             }
            },
            "type": "histogram"
           }
          ],
          "histogram2d": [
           {
            "colorbar": {
             "outlinewidth": 0,
             "ticks": ""
            },
            "colorscale": [
             [
              0,
              "#0d0887"
             ],
             [
              0.1111111111111111,
              "#46039f"
             ],
             [
              0.2222222222222222,
              "#7201a8"
             ],
             [
              0.3333333333333333,
              "#9c179e"
             ],
             [
              0.4444444444444444,
              "#bd3786"
             ],
             [
              0.5555555555555556,
              "#d8576b"
             ],
             [
              0.6666666666666666,
              "#ed7953"
             ],
             [
              0.7777777777777778,
              "#fb9f3a"
             ],
             [
              0.8888888888888888,
              "#fdca26"
             ],
             [
              1,
              "#f0f921"
             ]
            ],
            "type": "histogram2d"
           }
          ],
          "histogram2dcontour": [
           {
            "colorbar": {
             "outlinewidth": 0,
             "ticks": ""
            },
            "colorscale": [
             [
              0,
              "#0d0887"
             ],
             [
              0.1111111111111111,
              "#46039f"
             ],
             [
              0.2222222222222222,
              "#7201a8"
             ],
             [
              0.3333333333333333,
              "#9c179e"
             ],
             [
              0.4444444444444444,
              "#bd3786"
             ],
             [
              0.5555555555555556,
              "#d8576b"
             ],
             [
              0.6666666666666666,
              "#ed7953"
             ],
             [
              0.7777777777777778,
              "#fb9f3a"
             ],
             [
              0.8888888888888888,
              "#fdca26"
             ],
             [
              1,
              "#f0f921"
             ]
            ],
            "type": "histogram2dcontour"
           }
          ],
          "mesh3d": [
           {
            "colorbar": {
             "outlinewidth": 0,
             "ticks": ""
            },
            "type": "mesh3d"
           }
          ],
          "parcoords": [
           {
            "line": {
             "colorbar": {
              "outlinewidth": 0,
              "ticks": ""
             }
            },
            "type": "parcoords"
           }
          ],
          "pie": [
           {
            "automargin": true,
            "type": "pie"
           }
          ],
          "scatter": [
           {
            "fillpattern": {
             "fillmode": "overlay",
             "size": 10,
             "solidity": 0.2
            },
            "type": "scatter"
           }
          ],
          "scatter3d": [
           {
            "line": {
             "colorbar": {
              "outlinewidth": 0,
              "ticks": ""
             }
            },
            "marker": {
             "colorbar": {
              "outlinewidth": 0,
              "ticks": ""
             }
            },
            "type": "scatter3d"
           }
          ],
          "scattercarpet": [
           {
            "marker": {
             "colorbar": {
              "outlinewidth": 0,
              "ticks": ""
             }
            },
            "type": "scattercarpet"
           }
          ],
          "scattergeo": [
           {
            "marker": {
             "colorbar": {
              "outlinewidth": 0,
              "ticks": ""
             }
            },
            "type": "scattergeo"
           }
          ],
          "scattergl": [
           {
            "marker": {
             "colorbar": {
              "outlinewidth": 0,
              "ticks": ""
             }
            },
            "type": "scattergl"
           }
          ],
          "scattermapbox": [
           {
            "marker": {
             "colorbar": {
              "outlinewidth": 0,
              "ticks": ""
             }
            },
            "type": "scattermapbox"
           }
          ],
          "scatterpolar": [
           {
            "marker": {
             "colorbar": {
              "outlinewidth": 0,
              "ticks": ""
             }
            },
            "type": "scatterpolar"
           }
          ],
          "scatterpolargl": [
           {
            "marker": {
             "colorbar": {
              "outlinewidth": 0,
              "ticks": ""
             }
            },
            "type": "scatterpolargl"
           }
          ],
          "scatterternary": [
           {
            "marker": {
             "colorbar": {
              "outlinewidth": 0,
              "ticks": ""
             }
            },
            "type": "scatterternary"
           }
          ],
          "surface": [
           {
            "colorbar": {
             "outlinewidth": 0,
             "ticks": ""
            },
            "colorscale": [
             [
              0,
              "#0d0887"
             ],
             [
              0.1111111111111111,
              "#46039f"
             ],
             [
              0.2222222222222222,
              "#7201a8"
             ],
             [
              0.3333333333333333,
              "#9c179e"
             ],
             [
              0.4444444444444444,
              "#bd3786"
             ],
             [
              0.5555555555555556,
              "#d8576b"
             ],
             [
              0.6666666666666666,
              "#ed7953"
             ],
             [
              0.7777777777777778,
              "#fb9f3a"
             ],
             [
              0.8888888888888888,
              "#fdca26"
             ],
             [
              1,
              "#f0f921"
             ]
            ],
            "type": "surface"
           }
          ],
          "table": [
           {
            "cells": {
             "fill": {
              "color": "#EBF0F8"
             },
             "line": {
              "color": "white"
             }
            },
            "header": {
             "fill": {
              "color": "#C8D4E3"
             },
             "line": {
              "color": "white"
             }
            },
            "type": "table"
           }
          ]
         },
         "layout": {
          "annotationdefaults": {
           "arrowcolor": "#2a3f5f",
           "arrowhead": 0,
           "arrowwidth": 1
          },
          "autotypenumbers": "strict",
          "coloraxis": {
           "colorbar": {
            "outlinewidth": 0,
            "ticks": ""
           }
          },
          "colorscale": {
           "diverging": [
            [
             0,
             "#8e0152"
            ],
            [
             0.1,
             "#c51b7d"
            ],
            [
             0.2,
             "#de77ae"
            ],
            [
             0.3,
             "#f1b6da"
            ],
            [
             0.4,
             "#fde0ef"
            ],
            [
             0.5,
             "#f7f7f7"
            ],
            [
             0.6,
             "#e6f5d0"
            ],
            [
             0.7,
             "#b8e186"
            ],
            [
             0.8,
             "#7fbc41"
            ],
            [
             0.9,
             "#4d9221"
            ],
            [
             1,
             "#276419"
            ]
           ],
           "sequential": [
            [
             0,
             "#0d0887"
            ],
            [
             0.1111111111111111,
             "#46039f"
            ],
            [
             0.2222222222222222,
             "#7201a8"
            ],
            [
             0.3333333333333333,
             "#9c179e"
            ],
            [
             0.4444444444444444,
             "#bd3786"
            ],
            [
             0.5555555555555556,
             "#d8576b"
            ],
            [
             0.6666666666666666,
             "#ed7953"
            ],
            [
             0.7777777777777778,
             "#fb9f3a"
            ],
            [
             0.8888888888888888,
             "#fdca26"
            ],
            [
             1,
             "#f0f921"
            ]
           ],
           "sequentialminus": [
            [
             0,
             "#0d0887"
            ],
            [
             0.1111111111111111,
             "#46039f"
            ],
            [
             0.2222222222222222,
             "#7201a8"
            ],
            [
             0.3333333333333333,
             "#9c179e"
            ],
            [
             0.4444444444444444,
             "#bd3786"
            ],
            [
             0.5555555555555556,
             "#d8576b"
            ],
            [
             0.6666666666666666,
             "#ed7953"
            ],
            [
             0.7777777777777778,
             "#fb9f3a"
            ],
            [
             0.8888888888888888,
             "#fdca26"
            ],
            [
             1,
             "#f0f921"
            ]
           ]
          },
          "colorway": [
           "#636efa",
           "#EF553B",
           "#00cc96",
           "#ab63fa",
           "#FFA15A",
           "#19d3f3",
           "#FF6692",
           "#B6E880",
           "#FF97FF",
           "#FECB52"
          ],
          "font": {
           "color": "#2a3f5f"
          },
          "geo": {
           "bgcolor": "white",
           "lakecolor": "white",
           "landcolor": "#E5ECF6",
           "showlakes": true,
           "showland": true,
           "subunitcolor": "white"
          },
          "hoverlabel": {
           "align": "left"
          },
          "hovermode": "closest",
          "mapbox": {
           "style": "light"
          },
          "paper_bgcolor": "white",
          "plot_bgcolor": "#E5ECF6",
          "polar": {
           "angularaxis": {
            "gridcolor": "white",
            "linecolor": "white",
            "ticks": ""
           },
           "bgcolor": "#E5ECF6",
           "radialaxis": {
            "gridcolor": "white",
            "linecolor": "white",
            "ticks": ""
           }
          },
          "scene": {
           "xaxis": {
            "backgroundcolor": "#E5ECF6",
            "gridcolor": "white",
            "gridwidth": 2,
            "linecolor": "white",
            "showbackground": true,
            "ticks": "",
            "zerolinecolor": "white"
           },
           "yaxis": {
            "backgroundcolor": "#E5ECF6",
            "gridcolor": "white",
            "gridwidth": 2,
            "linecolor": "white",
            "showbackground": true,
            "ticks": "",
            "zerolinecolor": "white"
           },
           "zaxis": {
            "backgroundcolor": "#E5ECF6",
            "gridcolor": "white",
            "gridwidth": 2,
            "linecolor": "white",
            "showbackground": true,
            "ticks": "",
            "zerolinecolor": "white"
           }
          },
          "shapedefaults": {
           "line": {
            "color": "#2a3f5f"
           }
          },
          "ternary": {
           "aaxis": {
            "gridcolor": "white",
            "linecolor": "white",
            "ticks": ""
           },
           "baxis": {
            "gridcolor": "white",
            "linecolor": "white",
            "ticks": ""
           },
           "bgcolor": "#E5ECF6",
           "caxis": {
            "gridcolor": "white",
            "linecolor": "white",
            "ticks": ""
           }
          },
          "title": {
           "x": 0.05
          },
          "xaxis": {
           "automargin": true,
           "gridcolor": "white",
           "linecolor": "white",
           "ticks": "",
           "title": {
            "standoff": 15
           },
           "zerolinecolor": "white",
           "zerolinewidth": 2
          },
          "yaxis": {
           "automargin": true,
           "gridcolor": "white",
           "linecolor": "white",
           "ticks": "",
           "title": {
            "standoff": 15
           },
           "zerolinecolor": "white",
           "zerolinewidth": 2
          }
         }
        },
        "xaxis": {
         "anchor": "y",
         "domain": [
          0,
          1
         ],
         "title": {
          "text": "Actual y"
         }
        },
        "yaxis": {
         "anchor": "x",
         "domain": [
          0,
          1
         ],
         "title": {
          "text": "Predicted y"
         }
        }
       }
      }
     },
     "metadata": {},
     "output_type": "display_data"
    },
    {
     "data": {
      "image/png": "[encoded data removed]",
      "text/plain": [
       "<Figure size 640x480 with 1 Axes>"
      ]
     },
     "metadata": {},
     "output_type": "display_data"
    }
   ],
   "source": [
    "import xgboost as xgb\n",
    "\n",
    "model = xgb.sklearn.XGBRegressor(tree_method='hist', objective='reg:squarederror', n_estimators = 2500,\n",
    "                         learning_rate=0.01, random_state=random_state)\n",
    "\n",
    "model.fit(X_train, y_train)\n",
    "y_pred = model.predict(X_test)\n",
    "y_train_pred = model.predict(X_train)\n",
    "\n",
    "print(f\"Train\\nScore:{model.score(X_train, y_train_pred)}\")\n",
    "calculate_score(y_train, y_train_pred)\n",
    "\n",
    "print(f\"Test\\nScore:{model.score(X_test, y_test)}\")\n",
    "calculate_score(y_test, y_pred)\n",
    "\n",
    "xgb.plot_importance(model.get_booster(), max_num_features=40)\n",
    "\n",
    "plot(y_test, y_pred)"
   ]
  },
  {
   "cell_type": "code",
   "execution_count": 14,
   "metadata": {},
   "outputs": [],
   "source": [
    "# explainer = shap.TreeExplainer(model)\n",
    "# shap_values = explainer.shap_values(X)\n",
    "# shap.summary_plot(shap_values, X)"
   ]
  },
  {
   "cell_type": "markdown",
   "metadata": {
    "collapsed": false
   },
   "source": [
    "### Model 4: Neural Networks"
   ]
  },
  {
   "cell_type": "code",
   "execution_count": 15,
   "metadata": {
    "collapsed": false
   },
   "outputs": [],
   "source": [
    "X_train, X_val_and_test, y_train, y_val_and_test = train_test_split(X, Y, test_size=0.33, random_state=101)\n",
    "\n",
    "s_scaler = StandardScaler()\n",
    "X_train = s_scaler.fit_transform(X_train.astype(np.float64))\n",
    "X_val_and_test = s_scaler.transform(X_val_and_test.astype(np.float64))\n",
    "\n",
    "X_val, X_test, y_val, y_test = train_test_split(X_val_and_test, y_val_and_test, test_size=0.5)"
   ]
  },
  {
   "cell_type": "code",
   "execution_count": 16,
   "metadata": {
    "collapsed": false
   },
   "outputs": [],
   "source": [
    "from keras.models import Sequential\n",
    "from keras.layers import Dense\n",
    "\n",
    "model = Sequential()\n",
    "\n",
    "model.add(Dense(256, activation='linear', input_shape=(len(X_val.columns), )))\n",
    "model.add(Dense(128, activation='linear'))\n",
    "model.add(Dense(64, activation='linear'))\n",
    "model.add(Dense(32, activation='linear'))\n",
    "model.add(Dense(16, activation='linear'))\n",
    "model.add(Dense(8, activation='linear'))\n",
    "model.add(Dense(1, activation='linear'))\n",
    "\n",
    "model.compile(loss='mean_squared_error', optimizer='adam')"
   ]
  },
  {
   "attachments": {},
   "cell_type": "markdown",
   "metadata": {
    "collapsed": false
   },
   "source": [
    "Input (n layers) -> Hidden Layer(s) (256, 128, ..., 8) -> Output (1 layer): Price"
   ]
  },
  {
   "cell_type": "code",
   "execution_count": 17,
   "metadata": {
    "collapsed": false
   },
   "outputs": [
    {
     "name": "stdout",
     "output_type": "stream",
     "text": [
      "Epoch 1/600\n"
     ]
    },
    {
     "name": "stderr",
     "output_type": "stream",
     "text": [
      "2023-04-14 20:56:35.370695: W tensorflow/tsl/platform/profile_utils/cpu_utils.cc:128] Failed to get CPU frequency: 0 Hz\n"
     ]
    },
    {
     "name": "stdout",
     "output_type": "stream",
     "text": [
      "15/15 [==============================] - 0s 6ms/step - loss: 47235.0742 - val_loss: 38978.9922\n",
      "Epoch 2/600\n",
      "15/15 [==============================] - 0s 2ms/step - loss: 39468.1914 - val_loss: 34384.4453\n",
      "Epoch 3/600\n",
      "15/15 [==============================] - 0s 2ms/step - loss: 34242.7344 - val_loss: 27550.2305\n",
      "Epoch 4/600\n",
      "15/15 [==============================] - 0s 2ms/step - loss: 25486.1797 - val_loss: 17193.5137\n",
      "Epoch 5/600\n",
      "15/15 [==============================] - 0s 2ms/step - loss: 13007.4756 - val_loss: 8170.5049\n",
      "Epoch 6/600\n",
      "15/15 [==============================] - 0s 2ms/step - loss: 8778.4590 - val_loss: 7368.2046\n",
      "Epoch 7/600\n",
      "15/15 [==============================] - 0s 2ms/step - loss: 8175.4531 - val_loss: 6833.2515\n",
      "Epoch 8/600\n",
      "15/15 [==============================] - 0s 2ms/step - loss: 7828.0605 - val_loss: 6675.4160\n",
      "Epoch 9/600\n",
      "15/15 [==============================] - 0s 2ms/step - loss: 8041.5415 - val_loss: 6692.1685\n",
      "Epoch 10/600\n",
      "15/15 [==============================] - 0s 2ms/step - loss: 7662.1587 - val_loss: 6312.5288\n",
      "Epoch 11/600\n",
      "15/15 [==============================] - 0s 2ms/step - loss: 7652.5381 - val_loss: 6544.3232\n",
      "Epoch 12/600\n",
      "15/15 [==============================] - 0s 2ms/step - loss: 7424.7207 - val_loss: 6880.3394\n",
      "Epoch 13/600\n",
      "15/15 [==============================] - 0s 2ms/step - loss: 7809.5288 - val_loss: 6496.6440\n",
      "Epoch 14/600\n",
      "15/15 [==============================] - 0s 2ms/step - loss: 7539.0200 - val_loss: 6524.2021\n",
      "Epoch 15/600\n",
      "15/15 [==============================] - 0s 2ms/step - loss: 7466.2500 - val_loss: 6260.0298\n",
      "Epoch 16/600\n",
      "15/15 [==============================] - 0s 2ms/step - loss: 7458.4287 - val_loss: 6335.9722\n",
      "Epoch 17/600\n",
      "15/15 [==============================] - 0s 2ms/step - loss: 7556.6587 - val_loss: 6616.1509\n",
      "Epoch 18/600\n",
      "15/15 [==============================] - 0s 2ms/step - loss: 7599.9263 - val_loss: 6418.0801\n",
      "Epoch 19/600\n",
      "15/15 [==============================] - 0s 2ms/step - loss: 7514.7495 - val_loss: 6497.0786\n",
      "Epoch 20/600\n",
      "15/15 [==============================] - 0s 2ms/step - loss: 7488.5815 - val_loss: 6411.3052\n",
      "Epoch 21/600\n",
      "15/15 [==============================] - 0s 2ms/step - loss: 7437.8452 - val_loss: 6334.8491\n",
      "Epoch 22/600\n",
      "15/15 [==============================] - 0s 2ms/step - loss: 7478.7505 - val_loss: 6204.9233\n",
      "Epoch 23/600\n",
      "15/15 [==============================] - 0s 2ms/step - loss: 7474.8711 - val_loss: 6512.8096\n",
      "Epoch 24/600\n",
      "15/15 [==============================] - 0s 3ms/step - loss: 7446.2935 - val_loss: 6655.8042\n",
      "Epoch 25/600\n",
      "15/15 [==============================] - 0s 3ms/step - loss: 7549.9692 - val_loss: 6528.8154\n",
      "Epoch 26/600\n",
      "15/15 [==============================] - 0s 2ms/step - loss: 7251.7778 - val_loss: 6430.7388\n",
      "Epoch 27/600\n",
      "15/15 [==============================] - 0s 2ms/step - loss: 7431.2319 - val_loss: 6388.8296\n",
      "Epoch 28/600\n",
      "15/15 [==============================] - 0s 2ms/step - loss: 7405.2397 - val_loss: 6177.2222\n",
      "Epoch 29/600\n",
      "15/15 [==============================] - 0s 2ms/step - loss: 7528.6147 - val_loss: 6465.1953\n",
      "Epoch 30/600\n",
      "15/15 [==============================] - 0s 2ms/step - loss: 7444.2056 - val_loss: 6789.2261\n",
      "Epoch 31/600\n",
      "15/15 [==============================] - 0s 2ms/step - loss: 7604.8120 - val_loss: 6693.8247\n",
      "Epoch 32/600\n",
      "15/15 [==============================] - 0s 2ms/step - loss: 7480.9126 - val_loss: 6315.3521\n",
      "Epoch 33/600\n",
      "15/15 [==============================] - 0s 2ms/step - loss: 7377.3804 - val_loss: 6382.4893\n",
      "Epoch 34/600\n",
      "15/15 [==============================] - 0s 2ms/step - loss: 7340.2725 - val_loss: 6385.6401\n",
      "Epoch 35/600\n",
      "15/15 [==============================] - 0s 2ms/step - loss: 7369.5947 - val_loss: 6229.1660\n",
      "Epoch 36/600\n",
      "15/15 [==============================] - 0s 2ms/step - loss: 7206.5625 - val_loss: 6532.1201\n",
      "Epoch 37/600\n",
      "15/15 [==============================] - 0s 2ms/step - loss: 7183.3301 - val_loss: 6289.5830\n",
      "Epoch 38/600\n",
      "15/15 [==============================] - 0s 2ms/step - loss: 7201.0962 - val_loss: 6239.4341\n",
      "Epoch 39/600\n",
      "15/15 [==============================] - 0s 2ms/step - loss: 7160.3823 - val_loss: 6346.4194\n",
      "Epoch 40/600\n",
      "15/15 [==============================] - 0s 2ms/step - loss: 7256.0483 - val_loss: 6316.3931\n",
      "Epoch 41/600\n",
      "15/15 [==============================] - 0s 2ms/step - loss: 7336.4141 - val_loss: 6457.5405\n",
      "Epoch 42/600\n",
      "15/15 [==============================] - 0s 2ms/step - loss: 7267.4624 - val_loss: 6297.1802\n",
      "Epoch 43/600\n",
      "15/15 [==============================] - 0s 2ms/step - loss: 7273.4692 - val_loss: 6533.6729\n",
      "Epoch 44/600\n",
      "15/15 [==============================] - 0s 2ms/step - loss: 7173.5386 - val_loss: 6219.3457\n",
      "Epoch 45/600\n",
      "15/15 [==============================] - 0s 2ms/step - loss: 7164.3384 - val_loss: 6333.8481\n",
      "Epoch 46/600\n",
      "15/15 [==============================] - 0s 2ms/step - loss: 7173.4673 - val_loss: 6182.2588\n",
      "Epoch 47/600\n",
      "15/15 [==============================] - 0s 2ms/step - loss: 7323.3242 - val_loss: 6776.3428\n",
      "Epoch 48/600\n",
      "15/15 [==============================] - 0s 2ms/step - loss: 7432.4521 - val_loss: 6643.8506\n",
      "Epoch 49/600\n",
      "15/15 [==============================] - 0s 2ms/step - loss: 7259.3706 - val_loss: 6200.7388\n",
      "Epoch 50/600\n",
      "15/15 [==============================] - 0s 2ms/step - loss: 7284.2812 - val_loss: 6315.6235\n",
      "Epoch 51/600\n",
      "15/15 [==============================] - 0s 2ms/step - loss: 7276.6240 - val_loss: 6282.2705\n",
      "Epoch 52/600\n",
      "15/15 [==============================] - 0s 2ms/step - loss: 7237.7959 - val_loss: 6521.3252\n",
      "Epoch 53/600\n",
      "15/15 [==============================] - 0s 2ms/step - loss: 7165.8042 - val_loss: 6466.6191\n",
      "Epoch 54/600\n",
      "15/15 [==============================] - 0s 2ms/step - loss: 7388.0850 - val_loss: 6577.1436\n",
      "Epoch 55/600\n",
      "15/15 [==============================] - 0s 2ms/step - loss: 7360.1484 - val_loss: 6173.2090\n",
      "Epoch 56/600\n",
      "15/15 [==============================] - 0s 3ms/step - loss: 7213.8818 - val_loss: 6469.0049\n",
      "Epoch 57/600\n",
      "15/15 [==============================] - 0s 2ms/step - loss: 7215.3750 - val_loss: 6418.6084\n",
      "Epoch 58/600\n",
      "15/15 [==============================] - 0s 2ms/step - loss: 7305.6963 - val_loss: 6345.4971\n",
      "Epoch 59/600\n",
      "15/15 [==============================] - 0s 2ms/step - loss: 7259.2393 - val_loss: 6595.2598\n",
      "Epoch 60/600\n",
      "15/15 [==============================] - 0s 2ms/step - loss: 7196.3198 - val_loss: 6315.4302\n",
      "Epoch 61/600\n",
      "15/15 [==============================] - 0s 2ms/step - loss: 7264.1089 - val_loss: 6246.1118\n",
      "Epoch 62/600\n",
      "15/15 [==============================] - 0s 2ms/step - loss: 7139.9668 - val_loss: 6299.4658\n",
      "Epoch 63/600\n",
      "15/15 [==============================] - 0s 2ms/step - loss: 7275.8887 - val_loss: 6417.6895\n",
      "Epoch 64/600\n",
      "15/15 [==============================] - 0s 2ms/step - loss: 7351.9268 - val_loss: 6571.8770\n",
      "Epoch 65/600\n",
      "15/15 [==============================] - 0s 2ms/step - loss: 7143.9199 - val_loss: 6155.8364\n",
      "Epoch 66/600\n",
      "15/15 [==============================] - 0s 2ms/step - loss: 7303.9585 - val_loss: 6465.6084\n",
      "Epoch 67/600\n",
      "15/15 [==============================] - 0s 2ms/step - loss: 7361.6055 - val_loss: 6279.1431\n",
      "Epoch 68/600\n",
      "15/15 [==============================] - 0s 2ms/step - loss: 7169.6743 - val_loss: 6556.5015\n",
      "Epoch 69/600\n",
      "15/15 [==============================] - 0s 2ms/step - loss: 7237.6763 - val_loss: 6605.5220\n",
      "Epoch 70/600\n",
      "15/15 [==============================] - 0s 2ms/step - loss: 7277.2212 - val_loss: 6261.7329\n",
      "Epoch 71/600\n",
      "15/15 [==============================] - 0s 2ms/step - loss: 7159.3711 - val_loss: 6414.2358\n",
      "Epoch 72/600\n",
      "15/15 [==============================] - 0s 2ms/step - loss: 7103.6431 - val_loss: 6185.0088\n",
      "Epoch 73/600\n",
      "15/15 [==============================] - 0s 2ms/step - loss: 7111.4438 - val_loss: 6273.4214\n",
      "Epoch 74/600\n",
      "15/15 [==============================] - 0s 2ms/step - loss: 7166.1919 - val_loss: 6461.5591\n",
      "Epoch 75/600\n",
      "15/15 [==============================] - 0s 2ms/step - loss: 7207.9526 - val_loss: 6223.3228\n",
      "Epoch 76/600\n",
      "15/15 [==============================] - 0s 2ms/step - loss: 7224.6753 - val_loss: 6326.6699\n",
      "Epoch 77/600\n",
      "15/15 [==============================] - 0s 2ms/step - loss: 7128.0576 - val_loss: 6353.4390\n",
      "Epoch 78/600\n",
      "15/15 [==============================] - 0s 2ms/step - loss: 7169.4448 - val_loss: 6418.2764\n",
      "Epoch 79/600\n",
      "15/15 [==============================] - 0s 2ms/step - loss: 7148.7871 - val_loss: 6364.4941\n",
      "Epoch 80/600\n",
      "15/15 [==============================] - 0s 2ms/step - loss: 7264.1914 - val_loss: 6330.5747\n",
      "Epoch 81/600\n",
      "15/15 [==============================] - 0s 2ms/step - loss: 7195.6265 - val_loss: 6207.6724\n",
      "Epoch 82/600\n",
      "15/15 [==============================] - 0s 2ms/step - loss: 7261.0522 - val_loss: 6354.6626\n",
      "Epoch 83/600\n",
      "15/15 [==============================] - 0s 2ms/step - loss: 7140.1831 - val_loss: 6653.7373\n",
      "Epoch 84/600\n",
      "15/15 [==============================] - 0s 2ms/step - loss: 7213.4917 - val_loss: 6362.8789\n",
      "Epoch 85/600\n",
      "15/15 [==============================] - 0s 2ms/step - loss: 7188.3184 - val_loss: 6643.7944\n",
      "Epoch 86/600\n",
      "15/15 [==============================] - 0s 2ms/step - loss: 7278.5605 - val_loss: 6469.2827\n",
      "Epoch 87/600\n",
      "15/15 [==============================] - 0s 2ms/step - loss: 7114.5854 - val_loss: 6392.7280\n",
      "Epoch 88/600\n",
      "15/15 [==============================] - 0s 3ms/step - loss: 7120.0405 - val_loss: 6295.5054\n",
      "Epoch 89/600\n",
      "15/15 [==============================] - 0s 2ms/step - loss: 7152.3965 - val_loss: 6406.1060\n",
      "Epoch 90/600\n",
      "15/15 [==============================] - 0s 2ms/step - loss: 7236.8276 - val_loss: 6210.1455\n",
      "Epoch 91/600\n",
      "15/15 [==============================] - 0s 2ms/step - loss: 7133.2417 - val_loss: 6341.9438\n",
      "Epoch 92/600\n",
      "15/15 [==============================] - 0s 2ms/step - loss: 7149.3984 - val_loss: 6213.1670\n",
      "Epoch 93/600\n",
      "15/15 [==============================] - 0s 2ms/step - loss: 7123.0703 - val_loss: 6274.7690\n",
      "Epoch 94/600\n",
      "15/15 [==============================] - 0s 2ms/step - loss: 7123.1318 - val_loss: 6314.3965\n",
      "Epoch 95/600\n",
      "15/15 [==============================] - 0s 2ms/step - loss: 7124.7646 - val_loss: 6483.7930\n",
      "Epoch 96/600\n",
      "15/15 [==============================] - 0s 2ms/step - loss: 7339.1816 - val_loss: 6503.2969\n",
      "Epoch 97/600\n",
      "15/15 [==============================] - 0s 2ms/step - loss: 7296.2310 - val_loss: 6631.9609\n",
      "Epoch 98/600\n",
      "15/15 [==============================] - 0s 2ms/step - loss: 7198.7183 - val_loss: 6526.0708\n",
      "Epoch 99/600\n",
      "15/15 [==============================] - 0s 2ms/step - loss: 7127.8623 - val_loss: 6519.1997\n",
      "Epoch 100/600\n",
      "15/15 [==============================] - 0s 2ms/step - loss: 7187.4341 - val_loss: 6272.8862\n",
      "Epoch 101/600\n",
      "15/15 [==============================] - 0s 2ms/step - loss: 7382.7070 - val_loss: 6291.2314\n",
      "Epoch 102/600\n",
      "15/15 [==============================] - 0s 2ms/step - loss: 7178.5161 - val_loss: 6666.3652\n",
      "Epoch 103/600\n",
      "15/15 [==============================] - 0s 2ms/step - loss: 7141.3633 - val_loss: 6407.3301\n",
      "Epoch 104/600\n",
      "15/15 [==============================] - 0s 2ms/step - loss: 7188.0591 - val_loss: 6477.9805\n",
      "Epoch 105/600\n",
      "15/15 [==============================] - 0s 2ms/step - loss: 7211.8867 - val_loss: 6437.5776\n",
      "Epoch 106/600\n",
      "15/15 [==============================] - 0s 2ms/step - loss: 7085.6719 - val_loss: 6530.4609\n",
      "Epoch 107/600\n",
      "15/15 [==============================] - 0s 2ms/step - loss: 7139.1392 - val_loss: 6308.0693\n",
      "Epoch 108/600\n",
      "15/15 [==============================] - 0s 2ms/step - loss: 7108.6870 - val_loss: 6438.3916\n",
      "Epoch 109/600\n",
      "15/15 [==============================] - 0s 2ms/step - loss: 7215.3408 - val_loss: 6507.9360\n",
      "Epoch 110/600\n",
      "15/15 [==============================] - 0s 2ms/step - loss: 7138.1792 - val_loss: 6448.7925\n",
      "Epoch 111/600\n",
      "15/15 [==============================] - 0s 2ms/step - loss: 7047.0146 - val_loss: 6242.4517\n",
      "Epoch 112/600\n",
      "15/15 [==============================] - 0s 2ms/step - loss: 7073.0039 - val_loss: 6659.4136\n",
      "Epoch 113/600\n",
      "15/15 [==============================] - 0s 4ms/step - loss: 7142.6543 - val_loss: 6260.3296\n",
      "Epoch 114/600\n",
      "15/15 [==============================] - 0s 2ms/step - loss: 7053.2388 - val_loss: 6208.9893\n",
      "Epoch 115/600\n",
      "15/15 [==============================] - 0s 2ms/step - loss: 7078.1655 - val_loss: 6249.4487\n",
      "Epoch 116/600\n",
      "15/15 [==============================] - 0s 2ms/step - loss: 7105.3037 - val_loss: 6327.4507\n",
      "Epoch 117/600\n",
      "15/15 [==============================] - 0s 2ms/step - loss: 7183.4863 - val_loss: 6316.4614\n",
      "Epoch 118/600\n",
      "15/15 [==============================] - 0s 2ms/step - loss: 7131.8481 - val_loss: 6366.9214\n",
      "Epoch 119/600\n",
      "15/15 [==============================] - 0s 2ms/step - loss: 7195.0034 - val_loss: 6312.8672\n",
      "Epoch 120/600\n",
      "15/15 [==============================] - 0s 2ms/step - loss: 7259.5479 - val_loss: 6412.0557\n",
      "Epoch 121/600\n",
      "15/15 [==============================] - 0s 2ms/step - loss: 7123.6665 - val_loss: 6373.1982\n",
      "Epoch 122/600\n",
      "15/15 [==============================] - 0s 2ms/step - loss: 7064.4097 - val_loss: 6363.2261\n",
      "Epoch 123/600\n",
      "15/15 [==============================] - 0s 2ms/step - loss: 7091.9722 - val_loss: 6236.4399\n",
      "Epoch 124/600\n",
      "15/15 [==============================] - 0s 2ms/step - loss: 7096.5947 - val_loss: 6395.3257\n",
      "Epoch 125/600\n",
      "15/15 [==============================] - 0s 2ms/step - loss: 7091.6523 - val_loss: 6201.7642\n",
      "Epoch 126/600\n",
      "15/15 [==============================] - 0s 2ms/step - loss: 7198.7705 - val_loss: 6437.0454\n",
      "Epoch 127/600\n",
      "15/15 [==============================] - 0s 2ms/step - loss: 7156.3530 - val_loss: 6519.8232\n",
      "Epoch 128/600\n",
      "15/15 [==============================] - 0s 2ms/step - loss: 7128.2573 - val_loss: 6514.0791\n",
      "Epoch 129/600\n",
      "15/15 [==============================] - 0s 2ms/step - loss: 7146.0713 - val_loss: 6343.5981\n",
      "Epoch 130/600\n",
      "15/15 [==============================] - 0s 2ms/step - loss: 7095.1401 - val_loss: 6353.4683\n",
      "Epoch 131/600\n",
      "15/15 [==============================] - 0s 2ms/step - loss: 7153.7188 - val_loss: 6487.6079\n",
      "Epoch 132/600\n",
      "15/15 [==============================] - 0s 2ms/step - loss: 7206.5063 - val_loss: 6320.6631\n",
      "Epoch 133/600\n",
      "15/15 [==============================] - 0s 2ms/step - loss: 7127.2529 - val_loss: 6469.7549\n",
      "Epoch 134/600\n",
      "15/15 [==============================] - 0s 2ms/step - loss: 7259.0850 - val_loss: 6318.8887\n",
      "Epoch 135/600\n",
      "15/15 [==============================] - 0s 2ms/step - loss: 7040.8628 - val_loss: 6374.6455\n",
      "Epoch 136/600\n",
      "15/15 [==============================] - 0s 2ms/step - loss: 7077.2710 - val_loss: 6213.2021\n",
      "Epoch 137/600\n",
      "15/15 [==============================] - 0s 2ms/step - loss: 7069.3701 - val_loss: 6476.8647\n",
      "Epoch 138/600\n",
      "15/15 [==============================] - 0s 2ms/step - loss: 7136.1704 - val_loss: 6305.6069\n",
      "Epoch 139/600\n",
      "15/15 [==============================] - 0s 2ms/step - loss: 7092.6963 - val_loss: 6418.5293\n",
      "Epoch 140/600\n",
      "15/15 [==============================] - 0s 3ms/step - loss: 7114.7534 - val_loss: 6243.1162\n",
      "Epoch 141/600\n",
      "15/15 [==============================] - 0s 2ms/step - loss: 7130.4702 - val_loss: 6226.8110\n",
      "Epoch 142/600\n",
      "15/15 [==============================] - 0s 2ms/step - loss: 7095.9980 - val_loss: 6266.2773\n",
      "Epoch 143/600\n",
      "15/15 [==============================] - 0s 2ms/step - loss: 7097.7344 - val_loss: 6358.3979\n",
      "Epoch 144/600\n",
      "15/15 [==============================] - 0s 2ms/step - loss: 7127.7456 - val_loss: 6365.1309\n",
      "Epoch 145/600\n",
      "15/15 [==============================] - 0s 2ms/step - loss: 7113.0410 - val_loss: 6266.0708\n",
      "Epoch 146/600\n",
      "15/15 [==============================] - 0s 2ms/step - loss: 7207.3198 - val_loss: 6315.2974\n",
      "Epoch 147/600\n",
      "15/15 [==============================] - 0s 2ms/step - loss: 7104.4814 - val_loss: 6248.5913\n",
      "Epoch 148/600\n",
      "15/15 [==============================] - 0s 2ms/step - loss: 7106.8164 - val_loss: 6454.0049\n",
      "Epoch 149/600\n",
      "15/15 [==============================] - 0s 2ms/step - loss: 7108.6655 - val_loss: 6337.4399\n",
      "Epoch 150/600\n",
      "15/15 [==============================] - 0s 2ms/step - loss: 7175.0220 - val_loss: 6346.9463\n",
      "Epoch 151/600\n",
      "15/15 [==============================] - 0s 2ms/step - loss: 7140.1626 - val_loss: 6264.3071\n",
      "Epoch 152/600\n",
      "15/15 [==============================] - 0s 2ms/step - loss: 7146.3872 - val_loss: 6454.0000\n",
      "Epoch 153/600\n",
      "15/15 [==============================] - 0s 2ms/step - loss: 7107.9355 - val_loss: 6344.8472\n",
      "Epoch 154/600\n",
      "15/15 [==============================] - 0s 2ms/step - loss: 7164.3770 - val_loss: 6280.2700\n",
      "Epoch 155/600\n",
      "15/15 [==============================] - 0s 2ms/step - loss: 7102.0308 - val_loss: 6311.9956\n",
      "Epoch 156/600\n",
      "15/15 [==============================] - 0s 2ms/step - loss: 7079.7988 - val_loss: 6289.2261\n",
      "Epoch 157/600\n",
      "15/15 [==============================] - 0s 2ms/step - loss: 7090.8462 - val_loss: 6325.8398\n",
      "Epoch 158/600\n",
      "15/15 [==============================] - 0s 2ms/step - loss: 7075.8931 - val_loss: 6229.2935\n",
      "Epoch 159/600\n",
      "15/15 [==============================] - 0s 2ms/step - loss: 7106.9194 - val_loss: 6288.5205\n",
      "Epoch 160/600\n",
      "15/15 [==============================] - 0s 2ms/step - loss: 7195.9360 - val_loss: 6601.6963\n",
      "Epoch 161/600\n",
      "15/15 [==============================] - 0s 2ms/step - loss: 7225.0493 - val_loss: 6361.1582\n",
      "Epoch 162/600\n",
      "15/15 [==============================] - 0s 2ms/step - loss: 7149.6240 - val_loss: 6390.3096\n",
      "Epoch 163/600\n",
      "15/15 [==============================] - 0s 2ms/step - loss: 7079.8105 - val_loss: 6291.0591\n",
      "Epoch 164/600\n",
      "15/15 [==============================] - 0s 2ms/step - loss: 7153.5962 - val_loss: 6409.5234\n",
      "Epoch 165/600\n",
      "15/15 [==============================] - 0s 2ms/step - loss: 7100.5259 - val_loss: 6349.4434\n",
      "Epoch 166/600\n",
      "15/15 [==============================] - 0s 2ms/step - loss: 7084.3335 - val_loss: 6166.5918\n",
      "Epoch 167/600\n",
      "15/15 [==============================] - 0s 2ms/step - loss: 7068.6333 - val_loss: 6222.2607\n",
      "Epoch 168/600\n",
      "15/15 [==============================] - 0s 2ms/step - loss: 7039.7832 - val_loss: 6609.4673\n",
      "Epoch 169/600\n",
      "15/15 [==============================] - 0s 2ms/step - loss: 7198.7012 - val_loss: 6395.6162\n",
      "Epoch 170/600\n",
      "15/15 [==============================] - 0s 2ms/step - loss: 7092.0908 - val_loss: 6319.6289\n",
      "Epoch 171/600\n",
      "15/15 [==============================] - 0s 3ms/step - loss: 7166.9683 - val_loss: 6757.9019\n",
      "Epoch 172/600\n",
      "15/15 [==============================] - 0s 2ms/step - loss: 7109.7422 - val_loss: 6365.8721\n",
      "Epoch 173/600\n",
      "15/15 [==============================] - 0s 2ms/step - loss: 7119.5879 - val_loss: 6484.2378\n",
      "Epoch 174/600\n",
      "15/15 [==============================] - 0s 2ms/step - loss: 7221.3198 - val_loss: 6469.6558\n",
      "Epoch 175/600\n",
      "15/15 [==============================] - 0s 2ms/step - loss: 7018.1641 - val_loss: 6280.3130\n",
      "Epoch 176/600\n",
      "15/15 [==============================] - 0s 2ms/step - loss: 7122.3862 - val_loss: 6359.0767\n",
      "Epoch 177/600\n",
      "15/15 [==============================] - 0s 2ms/step - loss: 7090.5342 - val_loss: 6306.7500\n",
      "Epoch 178/600\n",
      "15/15 [==============================] - 0s 2ms/step - loss: 7041.3950 - val_loss: 6228.9814\n",
      "Epoch 179/600\n",
      "15/15 [==============================] - 0s 2ms/step - loss: 7063.9468 - val_loss: 6422.9556\n",
      "Epoch 180/600\n",
      "15/15 [==============================] - 0s 2ms/step - loss: 7079.1738 - val_loss: 6328.4888\n",
      "Epoch 181/600\n",
      "15/15 [==============================] - 0s 2ms/step - loss: 7126.5928 - val_loss: 6326.4175\n",
      "Epoch 182/600\n",
      "15/15 [==============================] - 0s 2ms/step - loss: 7063.8652 - val_loss: 6395.1450\n",
      "Epoch 183/600\n",
      "15/15 [==============================] - 0s 2ms/step - loss: 7166.8843 - val_loss: 6231.3462\n",
      "Epoch 184/600\n",
      "15/15 [==============================] - 0s 2ms/step - loss: 7148.7593 - val_loss: 6467.8970\n",
      "Epoch 185/600\n",
      "15/15 [==============================] - 0s 2ms/step - loss: 7097.8789 - val_loss: 6221.8755\n",
      "Epoch 186/600\n",
      "15/15 [==============================] - 0s 2ms/step - loss: 7057.4932 - val_loss: 6357.1611\n",
      "Epoch 187/600\n",
      "15/15 [==============================] - 0s 2ms/step - loss: 7004.8379 - val_loss: 6332.6162\n",
      "Epoch 188/600\n",
      "15/15 [==============================] - 0s 2ms/step - loss: 7013.0151 - val_loss: 6301.6021\n",
      "Epoch 189/600\n",
      "15/15 [==============================] - 0s 2ms/step - loss: 7047.3726 - val_loss: 6219.1396\n",
      "Epoch 190/600\n",
      "15/15 [==============================] - 0s 2ms/step - loss: 7033.8438 - val_loss: 6407.5991\n",
      "Epoch 191/600\n",
      "15/15 [==============================] - 0s 2ms/step - loss: 7055.4795 - val_loss: 6210.3940\n",
      "Epoch 192/600\n",
      "15/15 [==============================] - 0s 2ms/step - loss: 7079.2046 - val_loss: 6426.6128\n",
      "Epoch 193/600\n",
      "15/15 [==============================] - 0s 3ms/step - loss: 7016.9326 - val_loss: 6264.8213\n",
      "Epoch 194/600\n",
      "15/15 [==============================] - 0s 2ms/step - loss: 7074.5298 - val_loss: 6328.8623\n",
      "Epoch 195/600\n",
      "15/15 [==============================] - 0s 2ms/step - loss: 7120.0786 - val_loss: 6458.3267\n",
      "Epoch 196/600\n",
      "15/15 [==============================] - 0s 2ms/step - loss: 7346.0669 - val_loss: 6714.1353\n",
      "Epoch 197/600\n",
      "15/15 [==============================] - 0s 2ms/step - loss: 7206.9492 - val_loss: 6463.3882\n",
      "Epoch 198/600\n",
      "15/15 [==============================] - 0s 2ms/step - loss: 7262.4717 - val_loss: 6700.9775\n",
      "Epoch 199/600\n",
      "15/15 [==============================] - 0s 2ms/step - loss: 7200.7720 - val_loss: 6302.9692\n",
      "Epoch 200/600\n",
      "15/15 [==============================] - 0s 2ms/step - loss: 7025.3550 - val_loss: 6269.9243\n",
      "Epoch 201/600\n",
      "15/15 [==============================] - 0s 2ms/step - loss: 7023.6406 - val_loss: 6333.5278\n",
      "Epoch 202/600\n",
      "15/15 [==============================] - 0s 2ms/step - loss: 7035.8652 - val_loss: 6289.6084\n",
      "Epoch 203/600\n",
      "15/15 [==============================] - 0s 2ms/step - loss: 7082.4009 - val_loss: 6366.2002\n",
      "Epoch 204/600\n",
      "15/15 [==============================] - 0s 2ms/step - loss: 7091.2681 - val_loss: 6182.3477\n",
      "Epoch 205/600\n",
      "15/15 [==============================] - 0s 2ms/step - loss: 7011.9077 - val_loss: 6380.2866\n",
      "Epoch 206/600\n",
      "15/15 [==============================] - 0s 2ms/step - loss: 7007.0942 - val_loss: 6329.3828\n",
      "Epoch 207/600\n",
      "15/15 [==============================] - 0s 2ms/step - loss: 7201.2388 - val_loss: 6235.1992\n",
      "Epoch 208/600\n",
      "15/15 [==============================] - 0s 2ms/step - loss: 7052.4253 - val_loss: 6283.4258\n",
      "Epoch 209/600\n",
      "15/15 [==============================] - 0s 2ms/step - loss: 7081.8525 - val_loss: 6268.9692\n",
      "Epoch 210/600\n",
      "15/15 [==============================] - 0s 2ms/step - loss: 7040.2007 - val_loss: 6250.2515\n",
      "Epoch 211/600\n",
      "15/15 [==============================] - 0s 2ms/step - loss: 7111.0439 - val_loss: 6281.8755\n",
      "Epoch 212/600\n",
      "15/15 [==============================] - 0s 2ms/step - loss: 7131.8477 - val_loss: 6377.0591\n",
      "Epoch 213/600\n",
      "15/15 [==============================] - 0s 2ms/step - loss: 7200.0205 - val_loss: 6397.7446\n",
      "Epoch 214/600\n",
      "15/15 [==============================] - 0s 2ms/step - loss: 7031.8188 - val_loss: 6152.7686\n",
      "Epoch 215/600\n",
      "15/15 [==============================] - 0s 2ms/step - loss: 7070.5161 - val_loss: 6341.0156\n",
      "Epoch 216/600\n",
      "15/15 [==============================] - 0s 2ms/step - loss: 7164.0410 - val_loss: 6263.6582\n",
      "Epoch 217/600\n",
      "15/15 [==============================] - 0s 2ms/step - loss: 7029.1606 - val_loss: 6459.6709\n",
      "Epoch 218/600\n",
      "15/15 [==============================] - 0s 2ms/step - loss: 7097.7749 - val_loss: 6424.7588\n",
      "Epoch 219/600\n",
      "15/15 [==============================] - 0s 2ms/step - loss: 7113.9380 - val_loss: 6288.3789\n",
      "Epoch 220/600\n",
      "15/15 [==============================] - 0s 2ms/step - loss: 7106.7207 - val_loss: 6442.4502\n",
      "Epoch 221/600\n",
      "15/15 [==============================] - 0s 3ms/step - loss: 7064.4590 - val_loss: 6583.9678\n",
      "Epoch 222/600\n",
      "15/15 [==============================] - 0s 2ms/step - loss: 7009.8887 - val_loss: 6238.9771\n",
      "Epoch 223/600\n",
      "15/15 [==============================] - 0s 2ms/step - loss: 7084.8813 - val_loss: 6326.6147\n",
      "Epoch 224/600\n",
      "15/15 [==============================] - 0s 2ms/step - loss: 7079.6875 - val_loss: 6280.3853\n",
      "Epoch 225/600\n",
      "15/15 [==============================] - 0s 2ms/step - loss: 7140.3994 - val_loss: 6519.3027\n",
      "Epoch 226/600\n",
      "15/15 [==============================] - 0s 2ms/step - loss: 7126.0059 - val_loss: 6259.1602\n",
      "Epoch 227/600\n",
      "15/15 [==============================] - 0s 2ms/step - loss: 7060.5239 - val_loss: 6278.9893\n",
      "Epoch 228/600\n",
      "15/15 [==============================] - 0s 2ms/step - loss: 7052.6860 - val_loss: 6395.3862\n",
      "Epoch 229/600\n",
      "15/15 [==============================] - 0s 2ms/step - loss: 7007.4521 - val_loss: 6252.1309\n",
      "Epoch 230/600\n",
      "15/15 [==============================] - 0s 2ms/step - loss: 7012.4648 - val_loss: 6286.7964\n",
      "Epoch 231/600\n",
      "15/15 [==============================] - 0s 2ms/step - loss: 7012.3887 - val_loss: 6225.6821\n",
      "Epoch 232/600\n",
      "15/15 [==============================] - 0s 2ms/step - loss: 7047.3306 - val_loss: 6411.2788\n",
      "Epoch 233/600\n",
      "15/15 [==============================] - 0s 2ms/step - loss: 7036.9639 - val_loss: 6240.9521\n",
      "Epoch 234/600\n",
      "15/15 [==============================] - 0s 2ms/step - loss: 7061.2104 - val_loss: 6363.2539\n",
      "Epoch 235/600\n",
      "15/15 [==============================] - 0s 2ms/step - loss: 7028.5776 - val_loss: 6266.2510\n",
      "Epoch 236/600\n",
      "15/15 [==============================] - 0s 2ms/step - loss: 7089.2300 - val_loss: 6418.7637\n",
      "Epoch 237/600\n",
      "15/15 [==============================] - 0s 2ms/step - loss: 7007.8276 - val_loss: 6290.3135\n",
      "Epoch 238/600\n",
      "15/15 [==============================] - 0s 2ms/step - loss: 7186.2622 - val_loss: 6653.4492\n",
      "Epoch 239/600\n",
      "15/15 [==============================] - 0s 2ms/step - loss: 7162.8945 - val_loss: 6249.6021\n",
      "Epoch 240/600\n",
      "15/15 [==============================] - 0s 2ms/step - loss: 7040.3203 - val_loss: 6344.4888\n",
      "Epoch 241/600\n",
      "15/15 [==============================] - 0s 2ms/step - loss: 6954.0981 - val_loss: 6415.1846\n",
      "Epoch 242/600\n",
      "15/15 [==============================] - 0s 2ms/step - loss: 7054.2930 - val_loss: 6230.4199\n",
      "Epoch 243/600\n",
      "15/15 [==============================] - 0s 2ms/step - loss: 7026.4277 - val_loss: 6242.5010\n",
      "Epoch 244/600\n",
      "15/15 [==============================] - 0s 4ms/step - loss: 6998.7485 - val_loss: 6376.2461\n",
      "Epoch 245/600\n",
      "15/15 [==============================] - 0s 2ms/step - loss: 6994.5298 - val_loss: 6456.1514\n",
      "Epoch 246/600\n",
      "15/15 [==============================] - 0s 2ms/step - loss: 7150.2358 - val_loss: 6372.8501\n",
      "Epoch 247/600\n",
      "15/15 [==============================] - 0s 2ms/step - loss: 7027.3091 - val_loss: 6211.3799\n",
      "Epoch 248/600\n",
      "15/15 [==============================] - 0s 2ms/step - loss: 7068.0352 - val_loss: 6326.2812\n",
      "Epoch 249/600\n",
      "15/15 [==============================] - 0s 2ms/step - loss: 6991.6577 - val_loss: 6232.3228\n",
      "Epoch 250/600\n",
      "15/15 [==============================] - 0s 2ms/step - loss: 7078.2607 - val_loss: 6317.8662\n",
      "Epoch 251/600\n",
      "15/15 [==============================] - 0s 2ms/step - loss: 6989.5513 - val_loss: 6322.1465\n",
      "Epoch 252/600\n",
      "15/15 [==============================] - 0s 2ms/step - loss: 7075.0166 - val_loss: 6375.3574\n",
      "Epoch 253/600\n",
      "15/15 [==============================] - 0s 2ms/step - loss: 7197.0400 - val_loss: 6507.9102\n",
      "Epoch 254/600\n",
      "15/15 [==============================] - 0s 2ms/step - loss: 7147.2910 - val_loss: 6384.7495\n",
      "Epoch 255/600\n",
      "15/15 [==============================] - 0s 2ms/step - loss: 7121.1880 - val_loss: 6266.1636\n",
      "Epoch 256/600\n",
      "15/15 [==============================] - 0s 2ms/step - loss: 7067.8701 - val_loss: 6283.0737\n",
      "Epoch 257/600\n",
      "15/15 [==============================] - 0s 2ms/step - loss: 7119.3657 - val_loss: 6206.3574\n",
      "Epoch 258/600\n",
      "15/15 [==============================] - 0s 2ms/step - loss: 7087.6616 - val_loss: 6357.1636\n",
      "Epoch 259/600\n",
      "15/15 [==============================] - 0s 2ms/step - loss: 7106.0015 - val_loss: 6354.9722\n",
      "Epoch 260/600\n",
      "15/15 [==============================] - 0s 2ms/step - loss: 7021.8218 - val_loss: 6297.1572\n",
      "Epoch 261/600\n",
      "15/15 [==============================] - 0s 2ms/step - loss: 7027.4839 - val_loss: 6394.2422\n",
      "Epoch 262/600\n",
      "15/15 [==============================] - 0s 2ms/step - loss: 7136.7056 - val_loss: 6282.8315\n",
      "Epoch 263/600\n",
      "15/15 [==============================] - 0s 2ms/step - loss: 6997.8120 - val_loss: 6397.7695\n",
      "Epoch 264/600\n",
      "15/15 [==============================] - 0s 2ms/step - loss: 7076.2915 - val_loss: 6422.6548\n",
      "Epoch 265/600\n",
      "15/15 [==============================] - 0s 3ms/step - loss: 7162.7505 - val_loss: 6180.6152\n",
      "Epoch 266/600\n",
      "15/15 [==============================] - 0s 2ms/step - loss: 7010.5581 - val_loss: 6287.3433\n",
      "Epoch 267/600\n",
      "15/15 [==============================] - 0s 2ms/step - loss: 6971.2427 - val_loss: 6371.5239\n",
      "Epoch 268/600\n",
      "15/15 [==============================] - 0s 2ms/step - loss: 7023.4976 - val_loss: 6291.4390\n",
      "Epoch 269/600\n",
      "15/15 [==============================] - 0s 2ms/step - loss: 7152.7974 - val_loss: 6287.1128\n",
      "Epoch 270/600\n",
      "15/15 [==============================] - 0s 2ms/step - loss: 7051.4375 - val_loss: 6467.1289\n",
      "Epoch 271/600\n",
      "15/15 [==============================] - 0s 2ms/step - loss: 7027.7974 - val_loss: 6215.6572\n",
      "Epoch 272/600\n",
      "15/15 [==============================] - 0s 2ms/step - loss: 7026.2427 - val_loss: 6441.5112\n",
      "Epoch 273/600\n",
      "15/15 [==============================] - 0s 2ms/step - loss: 7037.5864 - val_loss: 6363.9590\n",
      "Epoch 274/600\n",
      "15/15 [==============================] - 0s 2ms/step - loss: 7120.1675 - val_loss: 6313.0166\n",
      "Epoch 275/600\n",
      "15/15 [==============================] - 0s 2ms/step - loss: 7045.2427 - val_loss: 6503.7700\n",
      "Epoch 276/600\n",
      "15/15 [==============================] - 0s 2ms/step - loss: 7157.8833 - val_loss: 6314.2793\n",
      "Epoch 277/600\n",
      "15/15 [==============================] - 0s 2ms/step - loss: 7075.2778 - val_loss: 6205.8188\n",
      "Epoch 278/600\n",
      "15/15 [==============================] - 0s 2ms/step - loss: 6999.9336 - val_loss: 6303.6406\n",
      "Epoch 279/600\n",
      "15/15 [==============================] - 0s 2ms/step - loss: 7064.3413 - val_loss: 6281.1162\n",
      "Epoch 280/600\n",
      "15/15 [==============================] - 0s 2ms/step - loss: 6995.1826 - val_loss: 6223.4277\n",
      "Epoch 281/600\n",
      "15/15 [==============================] - 0s 2ms/step - loss: 7037.3628 - val_loss: 6349.2109\n",
      "Epoch 282/600\n",
      "15/15 [==============================] - 0s 2ms/step - loss: 7092.5864 - val_loss: 6273.9380\n",
      "Epoch 283/600\n",
      "15/15 [==============================] - 0s 2ms/step - loss: 7178.4116 - val_loss: 6273.4443\n",
      "Epoch 284/600\n",
      "15/15 [==============================] - 0s 2ms/step - loss: 7225.8921 - val_loss: 6268.2427\n",
      "Epoch 285/600\n",
      "15/15 [==============================] - 0s 2ms/step - loss: 7011.7437 - val_loss: 6340.3574\n",
      "Epoch 286/600\n",
      "15/15 [==============================] - 0s 2ms/step - loss: 6993.4590 - val_loss: 6277.0513\n",
      "Epoch 287/600\n",
      "15/15 [==============================] - 0s 2ms/step - loss: 7109.4863 - val_loss: 6313.7969\n",
      "Epoch 288/600\n",
      "15/15 [==============================] - 0s 2ms/step - loss: 7057.8096 - val_loss: 6354.1270\n",
      "Epoch 289/600\n",
      "15/15 [==============================] - 0s 2ms/step - loss: 7008.1548 - val_loss: 6283.8188\n",
      "Epoch 290/600\n",
      "15/15 [==============================] - 0s 2ms/step - loss: 7003.2817 - val_loss: 6231.7725\n",
      "Epoch 291/600\n",
      "15/15 [==============================] - 0s 4ms/step - loss: 7001.1953 - val_loss: 6213.7036\n",
      "Epoch 292/600\n",
      "15/15 [==============================] - 0s 2ms/step - loss: 6948.0996 - val_loss: 6345.8833\n",
      "Epoch 293/600\n",
      "15/15 [==============================] - 0s 2ms/step - loss: 7075.1470 - val_loss: 6329.7837\n",
      "Epoch 294/600\n",
      "15/15 [==============================] - 0s 2ms/step - loss: 7016.4604 - val_loss: 6372.5757\n",
      "Epoch 295/600\n",
      "15/15 [==============================] - 0s 2ms/step - loss: 7014.0044 - val_loss: 6225.6406\n",
      "Epoch 296/600\n",
      "15/15 [==============================] - 0s 2ms/step - loss: 7008.3994 - val_loss: 6364.3296\n",
      "Epoch 297/600\n",
      "15/15 [==============================] - 0s 2ms/step - loss: 7012.3267 - val_loss: 6278.2783\n",
      "Epoch 298/600\n",
      "15/15 [==============================] - 0s 2ms/step - loss: 7013.5176 - val_loss: 6503.0962\n",
      "Epoch 299/600\n",
      "15/15 [==============================] - 0s 2ms/step - loss: 7061.5913 - val_loss: 6288.9092\n",
      "Epoch 300/600\n",
      "15/15 [==============================] - 0s 2ms/step - loss: 6984.6919 - val_loss: 6303.4907\n",
      "Epoch 301/600\n",
      "15/15 [==============================] - 0s 2ms/step - loss: 7099.6006 - val_loss: 6244.5015\n",
      "Epoch 302/600\n",
      "15/15 [==============================] - 0s 2ms/step - loss: 7007.9141 - val_loss: 6543.5078\n",
      "Epoch 303/600\n",
      "15/15 [==============================] - 0s 2ms/step - loss: 7040.8384 - val_loss: 6272.9082\n",
      "Epoch 304/600\n",
      "15/15 [==============================] - 0s 2ms/step - loss: 7040.4937 - val_loss: 6355.4624\n",
      "Epoch 305/600\n",
      "15/15 [==============================] - 0s 2ms/step - loss: 7044.8286 - val_loss: 6304.9741\n",
      "Epoch 306/600\n",
      "15/15 [==============================] - 0s 2ms/step - loss: 7009.2163 - val_loss: 6492.3892\n",
      "Epoch 307/600\n",
      "15/15 [==============================] - 0s 2ms/step - loss: 6999.0615 - val_loss: 6283.5967\n",
      "Epoch 308/600\n",
      "15/15 [==============================] - 0s 2ms/step - loss: 6995.6470 - val_loss: 6195.4014\n",
      "Epoch 309/600\n",
      "15/15 [==============================] - 0s 2ms/step - loss: 7088.0249 - val_loss: 6379.0698\n",
      "Epoch 310/600\n",
      "15/15 [==============================] - 0s 2ms/step - loss: 7088.5356 - val_loss: 6279.7393\n",
      "Epoch 311/600\n",
      "15/15 [==============================] - 0s 2ms/step - loss: 7055.3813 - val_loss: 6382.5190\n",
      "Epoch 312/600\n",
      "15/15 [==============================] - 0s 2ms/step - loss: 6943.2036 - val_loss: 6217.7041\n",
      "Epoch 313/600\n",
      "15/15 [==============================] - 0s 2ms/step - loss: 6983.5762 - val_loss: 6363.9233\n",
      "Epoch 314/600\n",
      "15/15 [==============================] - 0s 4ms/step - loss: 7064.2783 - val_loss: 6327.3862\n",
      "Epoch 315/600\n",
      "15/15 [==============================] - 0s 2ms/step - loss: 7022.0767 - val_loss: 6316.5732\n",
      "Epoch 316/600\n",
      "15/15 [==============================] - 0s 2ms/step - loss: 7000.2153 - val_loss: 6378.1519\n",
      "Epoch 317/600\n",
      "15/15 [==============================] - 0s 2ms/step - loss: 7043.3706 - val_loss: 6253.5259\n",
      "Epoch 318/600\n",
      "15/15 [==============================] - 0s 2ms/step - loss: 7012.5225 - val_loss: 6288.8013\n",
      "Epoch 319/600\n",
      "15/15 [==============================] - 0s 2ms/step - loss: 6997.2397 - val_loss: 6332.2778\n",
      "Epoch 320/600\n",
      "15/15 [==============================] - 0s 2ms/step - loss: 6998.5635 - val_loss: 6330.6323\n",
      "Epoch 321/600\n",
      "15/15 [==============================] - 0s 2ms/step - loss: 7069.2563 - val_loss: 6304.8091\n",
      "Epoch 322/600\n",
      "15/15 [==============================] - 0s 2ms/step - loss: 7012.2520 - val_loss: 6265.4717\n",
      "Epoch 323/600\n",
      "15/15 [==============================] - 0s 2ms/step - loss: 6997.8057 - val_loss: 6290.9365\n",
      "Epoch 324/600\n",
      "15/15 [==============================] - 0s 2ms/step - loss: 7004.3843 - val_loss: 6226.9863\n",
      "Epoch 325/600\n",
      "15/15 [==============================] - 0s 2ms/step - loss: 7030.6069 - val_loss: 6323.4863\n",
      "Epoch 326/600\n",
      "15/15 [==============================] - 0s 2ms/step - loss: 7085.0083 - val_loss: 6286.5933\n",
      "Epoch 327/600\n",
      "15/15 [==============================] - 0s 2ms/step - loss: 7076.4272 - val_loss: 6367.0659\n",
      "Epoch 328/600\n",
      "15/15 [==============================] - 0s 2ms/step - loss: 7033.7002 - val_loss: 6238.2402\n",
      "Epoch 329/600\n",
      "15/15 [==============================] - 0s 2ms/step - loss: 6971.8198 - val_loss: 6385.6333\n",
      "Epoch 330/600\n",
      "15/15 [==============================] - 0s 2ms/step - loss: 6988.0815 - val_loss: 6288.2090\n",
      "Epoch 331/600\n",
      "15/15 [==============================] - 0s 2ms/step - loss: 7140.9727 - val_loss: 6345.7139\n",
      "Epoch 332/600\n",
      "15/15 [==============================] - 0s 2ms/step - loss: 7071.7583 - val_loss: 6279.5845\n",
      "Epoch 333/600\n",
      "15/15 [==============================] - 0s 4ms/step - loss: 7036.5557 - val_loss: 6300.0591\n",
      "Epoch 334/600\n",
      "15/15 [==============================] - 0s 2ms/step - loss: 7011.8530 - val_loss: 6198.8394\n",
      "Epoch 335/600\n",
      "15/15 [==============================] - 0s 2ms/step - loss: 7024.0181 - val_loss: 6484.4399\n",
      "Epoch 336/600\n",
      "15/15 [==============================] - 0s 2ms/step - loss: 7207.2007 - val_loss: 6370.1934\n",
      "Epoch 337/600\n",
      "15/15 [==============================] - 0s 2ms/step - loss: 6992.0176 - val_loss: 6295.2812\n",
      "Epoch 338/600\n",
      "15/15 [==============================] - 0s 2ms/step - loss: 6975.7676 - val_loss: 6414.8970\n",
      "Epoch 339/600\n",
      "15/15 [==============================] - 0s 2ms/step - loss: 7049.0928 - val_loss: 6218.0962\n",
      "Epoch 340/600\n",
      "15/15 [==============================] - 0s 2ms/step - loss: 7000.2510 - val_loss: 6273.0005\n",
      "Epoch 341/600\n",
      "15/15 [==============================] - 0s 2ms/step - loss: 7046.2251 - val_loss: 6352.7036\n",
      "Epoch 342/600\n",
      "15/15 [==============================] - 0s 2ms/step - loss: 7094.5259 - val_loss: 6416.3516\n",
      "Epoch 343/600\n",
      "15/15 [==============================] - 0s 2ms/step - loss: 7170.5327 - val_loss: 6286.4214\n",
      "Epoch 344/600\n",
      "15/15 [==============================] - 0s 2ms/step - loss: 6966.6577 - val_loss: 6351.1660\n",
      "Epoch 345/600\n",
      "15/15 [==============================] - 0s 2ms/step - loss: 6986.7300 - val_loss: 6163.8711\n",
      "Epoch 346/600\n",
      "15/15 [==============================] - 0s 2ms/step - loss: 7015.1880 - val_loss: 6312.3115\n",
      "Epoch 347/600\n",
      "15/15 [==============================] - 0s 2ms/step - loss: 6983.3457 - val_loss: 6247.8921\n",
      "Epoch 348/600\n",
      "15/15 [==============================] - 0s 2ms/step - loss: 7040.0537 - val_loss: 6459.1982\n",
      "Epoch 349/600\n",
      "15/15 [==============================] - 0s 2ms/step - loss: 7031.2856 - val_loss: 6373.2827\n",
      "Epoch 350/600\n",
      "15/15 [==============================] - 0s 3ms/step - loss: 7068.3081 - val_loss: 6296.9868\n",
      "Epoch 351/600\n",
      "15/15 [==============================] - 0s 2ms/step - loss: 7074.4092 - val_loss: 6239.4531\n",
      "Epoch 352/600\n",
      "15/15 [==============================] - 0s 2ms/step - loss: 7043.9282 - val_loss: 6336.7583\n",
      "Epoch 353/600\n",
      "15/15 [==============================] - 0s 2ms/step - loss: 7091.9072 - val_loss: 6230.8374\n",
      "Epoch 354/600\n",
      "15/15 [==============================] - 0s 2ms/step - loss: 7001.9419 - val_loss: 6324.8945\n",
      "Epoch 355/600\n",
      "15/15 [==============================] - 0s 2ms/step - loss: 6980.2891 - val_loss: 6179.7881\n",
      "Epoch 356/600\n",
      "15/15 [==============================] - 0s 2ms/step - loss: 6982.4385 - val_loss: 6291.0405\n",
      "Epoch 357/600\n",
      "15/15 [==============================] - 0s 2ms/step - loss: 7008.4487 - val_loss: 6231.1685\n",
      "Epoch 358/600\n",
      "15/15 [==============================] - 0s 2ms/step - loss: 7037.8130 - val_loss: 6259.1670\n",
      "Epoch 359/600\n",
      "15/15 [==============================] - 0s 2ms/step - loss: 7000.2300 - val_loss: 6389.1758\n",
      "Epoch 360/600\n",
      "15/15 [==============================] - 0s 2ms/step - loss: 6974.8164 - val_loss: 6434.3394\n",
      "Epoch 361/600\n",
      "15/15 [==============================] - 0s 2ms/step - loss: 7072.7500 - val_loss: 6412.2305\n",
      "Epoch 362/600\n",
      "15/15 [==============================] - 0s 2ms/step - loss: 7046.4805 - val_loss: 6249.6943\n",
      "Epoch 363/600\n",
      "15/15 [==============================] - 0s 3ms/step - loss: 7012.6689 - val_loss: 6339.5156\n",
      "Epoch 364/600\n",
      "15/15 [==============================] - 0s 2ms/step - loss: 6987.3008 - val_loss: 6322.7563\n",
      "Epoch 365/600\n",
      "15/15 [==============================] - 0s 2ms/step - loss: 7020.8584 - val_loss: 6260.8735\n",
      "Epoch 366/600\n",
      "15/15 [==============================] - 0s 2ms/step - loss: 6971.0518 - val_loss: 6275.2490\n",
      "Epoch 367/600\n",
      "15/15 [==============================] - 0s 2ms/step - loss: 7060.8477 - val_loss: 6301.9619\n",
      "Epoch 368/600\n",
      "15/15 [==============================] - 0s 3ms/step - loss: 6966.6289 - val_loss: 6320.2979\n",
      "Epoch 369/600\n",
      "15/15 [==============================] - 0s 2ms/step - loss: 6997.5195 - val_loss: 6377.8076\n",
      "Epoch 370/600\n",
      "15/15 [==============================] - 0s 2ms/step - loss: 7022.1040 - val_loss: 6324.0889\n",
      "Epoch 371/600\n",
      "15/15 [==============================] - 0s 2ms/step - loss: 7037.3740 - val_loss: 6208.0010\n",
      "Epoch 372/600\n",
      "15/15 [==============================] - 0s 2ms/step - loss: 7030.5425 - val_loss: 6744.2300\n",
      "Epoch 373/600\n",
      "15/15 [==============================] - 0s 2ms/step - loss: 7105.9756 - val_loss: 6455.0425\n",
      "Epoch 374/600\n",
      "15/15 [==============================] - 0s 2ms/step - loss: 7061.5049 - val_loss: 6428.3687\n",
      "Epoch 375/600\n",
      "15/15 [==============================] - 0s 2ms/step - loss: 7022.6138 - val_loss: 6328.6475\n",
      "Epoch 376/600\n",
      "15/15 [==============================] - 0s 2ms/step - loss: 7060.7573 - val_loss: 6347.7046\n",
      "Epoch 377/600\n",
      "15/15 [==============================] - 0s 2ms/step - loss: 6983.1147 - val_loss: 6271.3042\n",
      "Epoch 378/600\n",
      "15/15 [==============================] - 0s 2ms/step - loss: 6999.7280 - val_loss: 6207.8301\n",
      "Epoch 379/600\n",
      "15/15 [==============================] - 0s 2ms/step - loss: 7002.0229 - val_loss: 6334.5054\n",
      "Epoch 380/600\n",
      "15/15 [==============================] - 0s 2ms/step - loss: 6982.1602 - val_loss: 6322.6763\n",
      "Epoch 381/600\n",
      "15/15 [==============================] - 0s 2ms/step - loss: 7026.5083 - val_loss: 6233.1855\n",
      "Epoch 382/600\n",
      "15/15 [==============================] - 0s 2ms/step - loss: 6982.1782 - val_loss: 6256.2119\n",
      "Epoch 383/600\n",
      "15/15 [==============================] - 0s 2ms/step - loss: 7003.4189 - val_loss: 6230.7256\n",
      "Epoch 384/600\n",
      "15/15 [==============================] - 0s 2ms/step - loss: 6972.8740 - val_loss: 6311.4580\n",
      "Epoch 385/600\n",
      "15/15 [==============================] - 0s 2ms/step - loss: 7009.4458 - val_loss: 6258.8857\n",
      "Epoch 386/600\n",
      "15/15 [==============================] - 0s 2ms/step - loss: 7052.8574 - val_loss: 6342.0645\n",
      "Epoch 387/600\n",
      "15/15 [==============================] - 0s 3ms/step - loss: 6990.6509 - val_loss: 6251.9546\n",
      "Epoch 388/600\n",
      "15/15 [==============================] - 0s 2ms/step - loss: 6984.6470 - val_loss: 6347.5269\n",
      "Epoch 389/600\n",
      "15/15 [==============================] - 0s 2ms/step - loss: 7028.5010 - val_loss: 6279.0176\n",
      "Epoch 390/600\n",
      "15/15 [==============================] - 0s 2ms/step - loss: 7075.8281 - val_loss: 6421.1675\n",
      "Epoch 391/600\n",
      "15/15 [==============================] - 0s 2ms/step - loss: 7056.5400 - val_loss: 6390.2578\n",
      "Epoch 392/600\n",
      "15/15 [==============================] - 0s 2ms/step - loss: 6971.2920 - val_loss: 6246.9951\n",
      "Epoch 393/600\n",
      "15/15 [==============================] - 0s 2ms/step - loss: 6984.5625 - val_loss: 6292.7915\n",
      "Epoch 394/600\n",
      "15/15 [==============================] - 0s 2ms/step - loss: 7014.9736 - val_loss: 6395.3843\n",
      "Epoch 395/600\n",
      "15/15 [==============================] - 0s 2ms/step - loss: 6991.3306 - val_loss: 6274.0151\n",
      "Epoch 396/600\n",
      "15/15 [==============================] - 0s 2ms/step - loss: 7041.1445 - val_loss: 6378.2734\n",
      "Epoch 397/600\n",
      "15/15 [==============================] - 0s 2ms/step - loss: 6971.2236 - val_loss: 6304.4087\n",
      "Epoch 398/600\n",
      "15/15 [==============================] - 0s 2ms/step - loss: 6990.8115 - val_loss: 6235.4937\n",
      "Epoch 399/600\n",
      "15/15 [==============================] - 0s 2ms/step - loss: 7015.8335 - val_loss: 6289.4116\n",
      "Epoch 400/600\n",
      "15/15 [==============================] - 0s 2ms/step - loss: 6958.1445 - val_loss: 6267.5059\n",
      "Epoch 401/600\n",
      "15/15 [==============================] - 0s 2ms/step - loss: 6983.2554 - val_loss: 6303.7373\n",
      "Epoch 402/600\n",
      "15/15 [==============================] - 0s 2ms/step - loss: 6976.2021 - val_loss: 6327.8765\n",
      "Epoch 403/600\n",
      "15/15 [==============================] - 0s 2ms/step - loss: 6967.0151 - val_loss: 6370.5835\n",
      "Epoch 404/600\n",
      "15/15 [==============================] - 0s 2ms/step - loss: 7016.6147 - val_loss: 6369.5894\n",
      "Epoch 405/600\n",
      "15/15 [==============================] - 0s 2ms/step - loss: 7033.9531 - val_loss: 6264.3135\n",
      "Epoch 406/600\n",
      "15/15 [==============================] - 0s 2ms/step - loss: 6996.2432 - val_loss: 6281.3984\n",
      "Epoch 407/600\n",
      "15/15 [==============================] - 0s 3ms/step - loss: 6950.4521 - val_loss: 6285.6201\n",
      "Epoch 408/600\n",
      "15/15 [==============================] - 0s 2ms/step - loss: 6984.0908 - val_loss: 6351.6938\n",
      "Epoch 409/600\n",
      "15/15 [==============================] - 0s 2ms/step - loss: 6962.0112 - val_loss: 6329.4268\n",
      "Epoch 410/600\n",
      "15/15 [==============================] - 0s 2ms/step - loss: 7149.8677 - val_loss: 6285.4712\n",
      "Epoch 411/600\n",
      "15/15 [==============================] - 0s 2ms/step - loss: 6956.5874 - val_loss: 6187.7832\n",
      "Epoch 412/600\n",
      "15/15 [==============================] - 0s 2ms/step - loss: 7107.7598 - val_loss: 6447.1450\n",
      "Epoch 413/600\n",
      "15/15 [==============================] - 0s 2ms/step - loss: 6989.1943 - val_loss: 6338.8560\n",
      "Epoch 414/600\n",
      "15/15 [==============================] - 0s 2ms/step - loss: 7003.7212 - val_loss: 6281.5874\n",
      "Epoch 415/600\n",
      "15/15 [==============================] - 0s 2ms/step - loss: 7045.1299 - val_loss: 6412.1167\n",
      "Epoch 416/600\n",
      "15/15 [==============================] - 0s 2ms/step - loss: 6992.3667 - val_loss: 6302.7134\n",
      "Epoch 417/600\n",
      "15/15 [==============================] - 0s 2ms/step - loss: 7013.6802 - val_loss: 6275.0083\n",
      "Epoch 418/600\n",
      "15/15 [==============================] - 0s 2ms/step - loss: 6970.3647 - val_loss: 6251.2329\n",
      "Epoch 419/600\n",
      "15/15 [==============================] - 0s 2ms/step - loss: 7059.4253 - val_loss: 6495.8525\n",
      "Epoch 420/600\n",
      "15/15 [==============================] - 0s 2ms/step - loss: 7014.4360 - val_loss: 6255.5239\n",
      "Epoch 421/600\n",
      "15/15 [==============================] - 0s 2ms/step - loss: 6993.5225 - val_loss: 6369.1255\n",
      "Epoch 422/600\n",
      "15/15 [==============================] - 0s 2ms/step - loss: 7078.7891 - val_loss: 6225.4736\n",
      "Epoch 423/600\n",
      "15/15 [==============================] - 0s 2ms/step - loss: 7044.3633 - val_loss: 6343.2114\n",
      "Epoch 424/600\n",
      "15/15 [==============================] - 0s 2ms/step - loss: 7016.5537 - val_loss: 6315.2812\n",
      "Epoch 425/600\n",
      "15/15 [==============================] - 0s 2ms/step - loss: 7000.2061 - val_loss: 6370.5464\n",
      "Epoch 426/600\n",
      "15/15 [==============================] - 0s 2ms/step - loss: 6987.4351 - val_loss: 6285.5601\n",
      "Epoch 427/600\n",
      "15/15 [==============================] - 0s 3ms/step - loss: 6966.9277 - val_loss: 6375.1680\n",
      "Epoch 428/600\n",
      "15/15 [==============================] - 0s 2ms/step - loss: 7008.9067 - val_loss: 6323.2007\n",
      "Epoch 429/600\n",
      "15/15 [==============================] - 0s 2ms/step - loss: 6994.3037 - val_loss: 6330.3340\n",
      "Epoch 430/600\n",
      "15/15 [==============================] - 0s 2ms/step - loss: 6955.4229 - val_loss: 6314.7417\n",
      "Epoch 431/600\n",
      "15/15 [==============================] - 0s 2ms/step - loss: 6941.9028 - val_loss: 6347.5591\n",
      "Epoch 432/600\n",
      "15/15 [==============================] - 0s 2ms/step - loss: 7026.7505 - val_loss: 6383.6353\n",
      "Epoch 433/600\n",
      "15/15 [==============================] - 0s 2ms/step - loss: 6966.2896 - val_loss: 6268.6138\n",
      "Epoch 434/600\n",
      "15/15 [==============================] - 0s 2ms/step - loss: 6939.4551 - val_loss: 6286.8706\n",
      "Epoch 435/600\n",
      "15/15 [==============================] - 0s 2ms/step - loss: 6965.3022 - val_loss: 6245.5454\n",
      "Epoch 436/600\n",
      "15/15 [==============================] - 0s 2ms/step - loss: 7005.8965 - val_loss: 6253.4102\n",
      "Epoch 437/600\n",
      "15/15 [==============================] - 0s 2ms/step - loss: 6975.9038 - val_loss: 6368.8467\n",
      "Epoch 438/600\n",
      "15/15 [==============================] - 0s 2ms/step - loss: 6988.3701 - val_loss: 6304.6572\n",
      "Epoch 439/600\n",
      "15/15 [==============================] - 0s 2ms/step - loss: 7054.3643 - val_loss: 6298.5156\n",
      "Epoch 440/600\n",
      "15/15 [==============================] - 0s 2ms/step - loss: 6962.6509 - val_loss: 6254.0400\n",
      "Epoch 441/600\n",
      "15/15 [==============================] - 0s 2ms/step - loss: 7038.3198 - val_loss: 6272.6304\n",
      "Epoch 442/600\n",
      "15/15 [==============================] - 0s 2ms/step - loss: 7015.0791 - val_loss: 6260.9771\n",
      "Epoch 443/600\n",
      "15/15 [==============================] - 0s 2ms/step - loss: 7009.7349 - val_loss: 6632.1680\n",
      "Epoch 444/600\n",
      "15/15 [==============================] - 0s 2ms/step - loss: 7119.0679 - val_loss: 6381.0376\n",
      "Epoch 445/600\n",
      "15/15 [==============================] - 0s 2ms/step - loss: 6985.5952 - val_loss: 6328.2656\n",
      "Epoch 446/600\n",
      "15/15 [==============================] - 0s 4ms/step - loss: 7002.6694 - val_loss: 6247.3208\n",
      "Epoch 447/600\n",
      "15/15 [==============================] - 0s 2ms/step - loss: 7069.4048 - val_loss: 6325.7539\n",
      "Epoch 448/600\n",
      "15/15 [==============================] - 0s 2ms/step - loss: 7103.3257 - val_loss: 6196.6455\n",
      "Epoch 449/600\n",
      "15/15 [==============================] - 0s 2ms/step - loss: 7005.3403 - val_loss: 6199.8257\n",
      "Epoch 450/600\n",
      "15/15 [==============================] - 0s 2ms/step - loss: 6980.9907 - val_loss: 6417.3579\n",
      "Epoch 451/600\n",
      "15/15 [==============================] - 0s 2ms/step - loss: 6962.0527 - val_loss: 6207.5801\n",
      "Epoch 452/600\n",
      "15/15 [==============================] - 0s 2ms/step - loss: 7004.8101 - val_loss: 6689.7134\n",
      "Epoch 453/600\n",
      "15/15 [==============================] - 0s 2ms/step - loss: 7116.0884 - val_loss: 6316.1372\n",
      "Epoch 454/600\n",
      "15/15 [==============================] - 0s 2ms/step - loss: 7016.1870 - val_loss: 6274.7983\n",
      "Epoch 455/600\n",
      "15/15 [==============================] - 0s 2ms/step - loss: 6960.4658 - val_loss: 6263.1030\n",
      "Epoch 456/600\n",
      "15/15 [==============================] - 0s 2ms/step - loss: 6937.6655 - val_loss: 6290.3296\n",
      "Epoch 457/600\n",
      "15/15 [==============================] - 0s 2ms/step - loss: 6984.6953 - val_loss: 6252.0781\n",
      "Epoch 458/600\n",
      "15/15 [==============================] - 0s 2ms/step - loss: 6981.6450 - val_loss: 6278.8677\n",
      "Epoch 459/600\n",
      "15/15 [==============================] - 0s 2ms/step - loss: 6996.2339 - val_loss: 6374.3701\n",
      "Epoch 460/600\n",
      "15/15 [==============================] - 0s 2ms/step - loss: 7014.9688 - val_loss: 6365.5195\n",
      "Epoch 461/600\n",
      "15/15 [==============================] - 0s 2ms/step - loss: 7006.5303 - val_loss: 6212.3271\n",
      "Epoch 462/600\n",
      "15/15 [==============================] - 0s 2ms/step - loss: 6960.4937 - val_loss: 6340.1821\n",
      "Epoch 463/600\n",
      "15/15 [==============================] - 0s 3ms/step - loss: 6948.3198 - val_loss: 6233.8701\n",
      "Epoch 464/600\n",
      "15/15 [==============================] - 0s 2ms/step - loss: 6928.6787 - val_loss: 6260.7056\n",
      "Epoch 465/600\n",
      "15/15 [==============================] - 0s 2ms/step - loss: 6986.8989 - val_loss: 6305.0371\n",
      "Epoch 466/600\n",
      "15/15 [==============================] - 0s 2ms/step - loss: 6980.3838 - val_loss: 6327.8989\n",
      "Epoch 467/600\n",
      "15/15 [==============================] - 0s 2ms/step - loss: 6973.7524 - val_loss: 6218.0977\n",
      "Epoch 468/600\n",
      "15/15 [==============================] - 0s 2ms/step - loss: 6990.1973 - val_loss: 6293.7925\n",
      "Epoch 469/600\n",
      "15/15 [==============================] - 0s 2ms/step - loss: 7033.5137 - val_loss: 6267.7021\n",
      "Epoch 470/600\n",
      "15/15 [==============================] - 0s 2ms/step - loss: 6977.7002 - val_loss: 6242.1118\n",
      "Epoch 471/600\n",
      "15/15 [==============================] - 0s 2ms/step - loss: 6993.6992 - val_loss: 6473.1235\n",
      "Epoch 472/600\n",
      "15/15 [==============================] - 0s 2ms/step - loss: 7019.5342 - val_loss: 6281.8833\n",
      "Epoch 473/600\n",
      "15/15 [==============================] - 0s 2ms/step - loss: 6984.7109 - val_loss: 6229.7881\n",
      "Epoch 474/600\n",
      "15/15 [==============================] - 0s 2ms/step - loss: 6975.1826 - val_loss: 6338.7026\n",
      "Epoch 475/600\n",
      "15/15 [==============================] - 0s 2ms/step - loss: 6969.4204 - val_loss: 6283.1177\n",
      "Epoch 476/600\n",
      "15/15 [==============================] - 0s 2ms/step - loss: 6964.6289 - val_loss: 6311.0610\n",
      "Epoch 477/600\n",
      "15/15 [==============================] - 0s 2ms/step - loss: 7046.1221 - val_loss: 6255.8721\n",
      "Epoch 478/600\n",
      "15/15 [==============================] - 0s 2ms/step - loss: 6976.2363 - val_loss: 6289.1509\n",
      "Epoch 479/600\n",
      "15/15 [==============================] - 0s 2ms/step - loss: 6962.4917 - val_loss: 6270.5698\n",
      "Epoch 480/600\n",
      "15/15 [==============================] - 0s 2ms/step - loss: 6982.7798 - val_loss: 6300.7461\n",
      "Epoch 481/600\n",
      "15/15 [==============================] - 0s 3ms/step - loss: 7082.6733 - val_loss: 6313.1797\n",
      "Epoch 482/600\n",
      "15/15 [==============================] - 0s 2ms/step - loss: 6970.0532 - val_loss: 6302.4067\n",
      "Epoch 483/600\n",
      "15/15 [==============================] - 0s 2ms/step - loss: 7060.7363 - val_loss: 6515.0400\n",
      "Epoch 484/600\n",
      "15/15 [==============================] - 0s 2ms/step - loss: 7087.3394 - val_loss: 6375.5742\n",
      "Epoch 485/600\n",
      "15/15 [==============================] - 0s 2ms/step - loss: 6950.1606 - val_loss: 6246.1299\n",
      "Epoch 486/600\n",
      "15/15 [==============================] - 0s 2ms/step - loss: 6995.2773 - val_loss: 6225.1021\n",
      "Epoch 487/600\n",
      "15/15 [==============================] - 0s 2ms/step - loss: 6959.4692 - val_loss: 6221.1890\n",
      "Epoch 488/600\n",
      "15/15 [==============================] - 0s 2ms/step - loss: 6977.7495 - val_loss: 6331.7598\n",
      "Epoch 489/600\n",
      "15/15 [==============================] - 0s 2ms/step - loss: 6973.2900 - val_loss: 6201.9043\n",
      "Epoch 490/600\n",
      "15/15 [==============================] - 0s 2ms/step - loss: 6983.2764 - val_loss: 6287.2080\n",
      "Epoch 491/600\n",
      "15/15 [==============================] - 0s 2ms/step - loss: 6981.6084 - val_loss: 6471.4380\n",
      "Epoch 492/600\n",
      "15/15 [==============================] - 0s 2ms/step - loss: 7154.7622 - val_loss: 6323.5757\n",
      "Epoch 493/600\n",
      "15/15 [==============================] - 0s 2ms/step - loss: 7142.1929 - val_loss: 6329.3413\n",
      "Epoch 494/600\n",
      "15/15 [==============================] - 0s 2ms/step - loss: 7025.9771 - val_loss: 6253.5918\n",
      "Epoch 495/600\n",
      "15/15 [==============================] - 0s 2ms/step - loss: 7072.6758 - val_loss: 6411.6660\n",
      "Epoch 496/600\n",
      "15/15 [==============================] - 0s 3ms/step - loss: 7017.1328 - val_loss: 6322.8564\n",
      "Epoch 497/600\n",
      "15/15 [==============================] - 0s 2ms/step - loss: 7030.4346 - val_loss: 6365.8101\n",
      "Epoch 498/600\n",
      "15/15 [==============================] - 0s 2ms/step - loss: 6966.4067 - val_loss: 6285.1885\n",
      "Epoch 499/600\n",
      "15/15 [==============================] - 0s 2ms/step - loss: 6940.7729 - val_loss: 6318.3838\n",
      "Epoch 500/600\n",
      "15/15 [==============================] - 0s 2ms/step - loss: 6981.4287 - val_loss: 6262.4370\n",
      "Epoch 501/600\n",
      "15/15 [==============================] - 0s 2ms/step - loss: 7016.4185 - val_loss: 6541.5830\n",
      "Epoch 502/600\n",
      "15/15 [==============================] - 0s 2ms/step - loss: 7022.9678 - val_loss: 6201.2490\n",
      "Epoch 503/600\n",
      "15/15 [==============================] - 0s 2ms/step - loss: 7055.7432 - val_loss: 6434.2095\n",
      "Epoch 504/600\n",
      "15/15 [==============================] - 0s 2ms/step - loss: 7192.3311 - val_loss: 7028.2686\n",
      "Epoch 505/600\n",
      "15/15 [==============================] - 0s 2ms/step - loss: 7157.5664 - val_loss: 6500.3301\n",
      "Epoch 506/600\n",
      "15/15 [==============================] - 0s 2ms/step - loss: 6970.5708 - val_loss: 6291.9072\n",
      "Epoch 507/600\n",
      "15/15 [==============================] - 0s 2ms/step - loss: 6989.0796 - val_loss: 6285.3584\n",
      "Epoch 508/600\n",
      "15/15 [==============================] - 0s 2ms/step - loss: 7014.3188 - val_loss: 6285.6465\n",
      "Epoch 509/600\n",
      "15/15 [==============================] - 0s 2ms/step - loss: 6986.5659 - val_loss: 6200.9893\n",
      "Epoch 510/600\n",
      "15/15 [==============================] - 0s 2ms/step - loss: 6966.7720 - val_loss: 6879.1562\n",
      "Epoch 511/600\n",
      "15/15 [==============================] - 0s 3ms/step - loss: 7263.9688 - val_loss: 6380.5142\n",
      "Epoch 512/600\n",
      "15/15 [==============================] - 0s 2ms/step - loss: 6993.7339 - val_loss: 6268.8174\n",
      "Epoch 513/600\n",
      "15/15 [==============================] - 0s 2ms/step - loss: 6972.2705 - val_loss: 6230.8652\n",
      "Epoch 514/600\n",
      "15/15 [==============================] - 0s 2ms/step - loss: 6993.1235 - val_loss: 6311.7622\n",
      "Epoch 515/600\n",
      "15/15 [==============================] - 0s 2ms/step - loss: 6933.1006 - val_loss: 6239.7295\n",
      "Epoch 516/600\n",
      "15/15 [==============================] - 0s 2ms/step - loss: 6955.0688 - val_loss: 6340.6104\n",
      "Epoch 517/600\n",
      "15/15 [==============================] - 0s 2ms/step - loss: 7020.6626 - val_loss: 6257.5371\n",
      "Epoch 518/600\n",
      "15/15 [==============================] - 0s 2ms/step - loss: 6965.3589 - val_loss: 6272.3530\n",
      "Epoch 519/600\n",
      "15/15 [==============================] - 0s 2ms/step - loss: 6966.6260 - val_loss: 6359.3369\n",
      "Epoch 520/600\n",
      "15/15 [==============================] - 0s 2ms/step - loss: 6975.0415 - val_loss: 6242.5547\n",
      "Epoch 521/600\n",
      "15/15 [==============================] - 0s 2ms/step - loss: 6983.4746 - val_loss: 6321.5688\n",
      "Epoch 522/600\n",
      "15/15 [==============================] - 0s 2ms/step - loss: 6999.1553 - val_loss: 6255.8560\n",
      "Epoch 523/600\n",
      "15/15 [==============================] - 0s 2ms/step - loss: 6939.1836 - val_loss: 6367.9102\n",
      "Epoch 524/600\n",
      "15/15 [==============================] - 0s 2ms/step - loss: 7012.0361 - val_loss: 6366.0132\n",
      "Epoch 525/600\n",
      "15/15 [==============================] - 0s 2ms/step - loss: 6954.7583 - val_loss: 6199.6021\n",
      "Epoch 526/600\n",
      "15/15 [==============================] - 0s 3ms/step - loss: 7008.0908 - val_loss: 6335.9736\n",
      "Epoch 527/600\n",
      "15/15 [==============================] - 0s 2ms/step - loss: 6971.4785 - val_loss: 6419.1626\n",
      "Epoch 528/600\n",
      "15/15 [==============================] - 0s 2ms/step - loss: 6999.5435 - val_loss: 6291.2056\n",
      "Epoch 529/600\n",
      "15/15 [==============================] - 0s 2ms/step - loss: 7043.4653 - val_loss: 6291.4648\n",
      "Epoch 530/600\n",
      "15/15 [==============================] - 0s 2ms/step - loss: 7044.9268 - val_loss: 6264.8877\n",
      "Epoch 531/600\n",
      "15/15 [==============================] - 0s 2ms/step - loss: 6961.6494 - val_loss: 6313.2529\n",
      "Epoch 532/600\n",
      "15/15 [==============================] - 0s 2ms/step - loss: 6950.3945 - val_loss: 6309.7944\n",
      "Epoch 533/600\n",
      "15/15 [==============================] - 0s 2ms/step - loss: 6945.5371 - val_loss: 6246.9956\n",
      "Epoch 534/600\n",
      "15/15 [==============================] - 0s 2ms/step - loss: 6943.8027 - val_loss: 6231.9214\n",
      "Epoch 535/600\n",
      "15/15 [==============================] - 0s 2ms/step - loss: 6960.8477 - val_loss: 6218.2178\n",
      "Epoch 536/600\n",
      "15/15 [==============================] - 0s 2ms/step - loss: 7064.0566 - val_loss: 6221.0596\n",
      "Epoch 537/600\n",
      "15/15 [==============================] - 0s 2ms/step - loss: 7017.0913 - val_loss: 6276.1509\n",
      "Epoch 538/600\n",
      "15/15 [==============================] - 0s 2ms/step - loss: 6951.3701 - val_loss: 6275.5171\n",
      "Epoch 539/600\n",
      "15/15 [==============================] - 0s 2ms/step - loss: 6942.3452 - val_loss: 6266.3418\n",
      "Epoch 540/600\n",
      "15/15 [==============================] - 0s 2ms/step - loss: 6995.9229 - val_loss: 6630.0391\n",
      "Epoch 541/600\n",
      "15/15 [==============================] - 0s 2ms/step - loss: 7109.3667 - val_loss: 6467.2612\n",
      "Epoch 542/600\n",
      "15/15 [==============================] - 0s 2ms/step - loss: 7073.0244 - val_loss: 6329.8315\n",
      "Epoch 543/600\n",
      "15/15 [==============================] - 0s 4ms/step - loss: 6950.7397 - val_loss: 6259.5190\n",
      "Epoch 544/600\n",
      "15/15 [==============================] - 0s 2ms/step - loss: 6970.4033 - val_loss: 6259.5620\n",
      "Epoch 545/600\n",
      "15/15 [==============================] - 0s 2ms/step - loss: 6932.9219 - val_loss: 6221.9702\n",
      "Epoch 546/600\n",
      "15/15 [==============================] - 0s 2ms/step - loss: 6967.5498 - val_loss: 6326.8340\n",
      "Epoch 547/600\n",
      "15/15 [==============================] - 0s 2ms/step - loss: 7000.9893 - val_loss: 6761.8384\n",
      "Epoch 548/600\n",
      "15/15 [==============================] - 0s 2ms/step - loss: 7164.1152 - val_loss: 6437.0107\n",
      "Epoch 549/600\n",
      "15/15 [==============================] - 0s 2ms/step - loss: 7003.8657 - val_loss: 6252.0371\n",
      "Epoch 550/600\n",
      "15/15 [==============================] - 0s 2ms/step - loss: 6964.4814 - val_loss: 6242.8486\n",
      "Epoch 551/600\n",
      "15/15 [==============================] - 0s 2ms/step - loss: 6935.5439 - val_loss: 6244.9312\n",
      "Epoch 552/600\n",
      "15/15 [==============================] - 0s 2ms/step - loss: 6938.6162 - val_loss: 6302.8071\n",
      "Epoch 553/600\n",
      "15/15 [==============================] - 0s 2ms/step - loss: 6920.2402 - val_loss: 6309.6294\n",
      "Epoch 554/600\n",
      "15/15 [==============================] - 0s 2ms/step - loss: 6933.1821 - val_loss: 6310.5142\n",
      "Epoch 555/600\n",
      "15/15 [==============================] - 0s 2ms/step - loss: 6936.5903 - val_loss: 6250.8511\n",
      "Epoch 556/600\n",
      "15/15 [==============================] - 0s 2ms/step - loss: 6940.7485 - val_loss: 6319.3652\n",
      "Epoch 557/600\n",
      "15/15 [==============================] - 0s 2ms/step - loss: 6942.7153 - val_loss: 6268.8828\n",
      "Epoch 558/600\n",
      "15/15 [==============================] - 0s 4ms/step - loss: 6980.1890 - val_loss: 6367.6128\n",
      "Epoch 559/600\n",
      "15/15 [==============================] - 0s 2ms/step - loss: 6997.8232 - val_loss: 6235.1982\n",
      "Epoch 560/600\n",
      "15/15 [==============================] - 0s 2ms/step - loss: 6955.5195 - val_loss: 6241.1934\n",
      "Epoch 561/600\n",
      "15/15 [==============================] - 0s 2ms/step - loss: 6962.9741 - val_loss: 6263.6309\n",
      "Epoch 562/600\n",
      "15/15 [==============================] - 0s 2ms/step - loss: 6950.0015 - val_loss: 6270.4771\n",
      "Epoch 563/600\n",
      "15/15 [==============================] - 0s 2ms/step - loss: 7040.6235 - val_loss: 6381.4858\n",
      "Epoch 564/600\n",
      "15/15 [==============================] - 0s 2ms/step - loss: 7009.7915 - val_loss: 6420.8315\n",
      "Epoch 565/600\n",
      "15/15 [==============================] - 0s 2ms/step - loss: 7091.9409 - val_loss: 6227.7622\n",
      "Epoch 566/600\n",
      "15/15 [==============================] - 0s 2ms/step - loss: 6970.2075 - val_loss: 6341.4316\n",
      "Epoch 567/600\n",
      "15/15 [==============================] - 0s 2ms/step - loss: 6945.9023 - val_loss: 6269.2905\n",
      "Epoch 568/600\n",
      "15/15 [==============================] - 0s 2ms/step - loss: 6987.3188 - val_loss: 6227.6509\n",
      "Epoch 569/600\n",
      "15/15 [==============================] - 0s 2ms/step - loss: 6934.2656 - val_loss: 6342.4258\n",
      "Epoch 570/600\n",
      "15/15 [==============================] - 0s 2ms/step - loss: 7010.3345 - val_loss: 6215.5859\n",
      "Epoch 571/600\n",
      "15/15 [==============================] - 0s 2ms/step - loss: 6966.5122 - val_loss: 6310.8037\n",
      "Epoch 572/600\n",
      "15/15 [==============================] - 0s 2ms/step - loss: 6995.0015 - val_loss: 6259.7314\n",
      "Epoch 573/600\n",
      "15/15 [==============================] - 0s 3ms/step - loss: 6941.6216 - val_loss: 6416.4014\n",
      "Epoch 574/600\n",
      "15/15 [==============================] - 0s 2ms/step - loss: 7012.5410 - val_loss: 6323.1172\n",
      "Epoch 575/600\n",
      "15/15 [==============================] - 0s 2ms/step - loss: 6965.4102 - val_loss: 6214.4824\n",
      "Epoch 576/600\n",
      "15/15 [==============================] - 0s 2ms/step - loss: 6952.1289 - val_loss: 6257.1963\n",
      "Epoch 577/600\n",
      "15/15 [==============================] - 0s 2ms/step - loss: 6928.8726 - val_loss: 6261.2349\n",
      "Epoch 578/600\n",
      "15/15 [==============================] - 0s 2ms/step - loss: 6918.1880 - val_loss: 6256.9521\n",
      "Epoch 579/600\n",
      "15/15 [==============================] - 0s 2ms/step - loss: 6928.4795 - val_loss: 6294.2280\n",
      "Epoch 580/600\n",
      "15/15 [==============================] - 0s 2ms/step - loss: 6922.9966 - val_loss: 6322.2578\n",
      "Epoch 581/600\n",
      "15/15 [==============================] - 0s 2ms/step - loss: 6958.3188 - val_loss: 6293.7139\n",
      "Epoch 582/600\n",
      "15/15 [==============================] - 0s 2ms/step - loss: 6938.8647 - val_loss: 6287.7720\n",
      "Epoch 583/600\n",
      "15/15 [==============================] - 0s 2ms/step - loss: 7091.4360 - val_loss: 6324.3535\n",
      "Epoch 584/600\n",
      "15/15 [==============================] - 0s 2ms/step - loss: 6982.9180 - val_loss: 6445.6914\n",
      "Epoch 585/600\n",
      "15/15 [==============================] - 0s 2ms/step - loss: 7048.8774 - val_loss: 6706.6138\n",
      "Epoch 586/600\n",
      "15/15 [==============================] - 0s 2ms/step - loss: 7088.5537 - val_loss: 6282.5513\n",
      "Epoch 587/600\n",
      "15/15 [==============================] - 0s 2ms/step - loss: 6993.7627 - val_loss: 6276.7944\n",
      "Epoch 588/600\n",
      "15/15 [==============================] - 0s 2ms/step - loss: 6983.6201 - val_loss: 6278.5522\n",
      "Epoch 589/600\n",
      "15/15 [==============================] - 0s 3ms/step - loss: 7020.4082 - val_loss: 6312.1807\n",
      "Epoch 590/600\n",
      "15/15 [==============================] - 0s 2ms/step - loss: 6939.7227 - val_loss: 6208.9517\n",
      "Epoch 591/600\n",
      "15/15 [==============================] - 0s 2ms/step - loss: 6965.0015 - val_loss: 6226.2285\n",
      "Epoch 592/600\n",
      "15/15 [==============================] - 0s 2ms/step - loss: 6949.1401 - val_loss: 6425.6548\n",
      "Epoch 593/600\n",
      "15/15 [==============================] - 0s 2ms/step - loss: 7023.9497 - val_loss: 6304.7808\n",
      "Epoch 594/600\n",
      "15/15 [==============================] - 0s 2ms/step - loss: 6955.7036 - val_loss: 6256.9346\n",
      "Epoch 595/600\n",
      "15/15 [==============================] - 0s 2ms/step - loss: 6952.6841 - val_loss: 6424.2930\n",
      "Epoch 596/600\n",
      "15/15 [==============================] - 0s 2ms/step - loss: 6981.1353 - val_loss: 6292.1421\n",
      "Epoch 597/600\n",
      "15/15 [==============================] - 0s 2ms/step - loss: 6936.9468 - val_loss: 6235.7959\n",
      "Epoch 598/600\n",
      "15/15 [==============================] - 0s 2ms/step - loss: 6955.5386 - val_loss: 6350.6841\n",
      "Epoch 599/600\n",
      "15/15 [==============================] - 0s 2ms/step - loss: 7016.7437 - val_loss: 6597.7612\n",
      "Epoch 600/600\n",
      "15/15 [==============================] - 0s 2ms/step - loss: 7004.7324 - val_loss: 6282.0078\n",
      "Model: \"sequential\"\n",
      "_________________________________________________________________\n",
      " Layer (type)                Output Shape              Param #   \n",
      "=================================================================\n",
      " dense (Dense)               (None, 256)               33024     \n",
      "                                                                 \n",
      " dense_1 (Dense)             (None, 128)               32896     \n",
      "                                                                 \n",
      " dense_2 (Dense)             (None, 64)                8256      \n",
      "                                                                 \n",
      " dense_3 (Dense)             (None, 32)                2080      \n",
      "                                                                 \n",
      " dense_4 (Dense)             (None, 16)                528       \n",
      "                                                                 \n",
      " dense_5 (Dense)             (None, 8)                 136       \n",
      "                                                                 \n",
      " dense_6 (Dense)             (None, 1)                 9         \n",
      "                                                                 \n",
      "=================================================================\n",
      "Total params: 76,929\n",
      "Trainable params: 76,929\n",
      "Non-trainable params: 0\n",
      "_________________________________________________________________\n"
     ]
    }
   ],
   "source": [
    "model.fit(x=X_train,y=y_train,\n",
    "          validation_data=(X_test,y_test),\n",
    "          batch_size=128,epochs=600)\n",
    "model.summary()"
   ]
  },
  {
   "cell_type": "code",
   "execution_count": 18,
   "metadata": {
    "collapsed": false
   },
   "outputs": [
    {
     "data": {
      "text/plain": [
       "<Axes: >"
      ]
     },
     "execution_count": 18,
     "metadata": {},
     "output_type": "execute_result"
    },
    {
     "data": {
      "image/png": "[encoded data removed]",
      "text/plain": [
       "<Figure size 1200x800 with 1 Axes>"
      ]
     },
     "metadata": {},
     "output_type": "display_data"
    }
   ],
   "source": [
    "loss_df = pd.DataFrame(model.history.history)\n",
    "loss_df.plot(figsize=(12,8))\n"
   ]
  },
  {
   "cell_type": "code",
   "execution_count": 19,
   "metadata": {
    "collapsed": false
   },
   "outputs": [
    {
     "name": "stdout",
     "output_type": "stream",
     "text": [
      "15/15 [==============================] - 0s 485us/step\n",
      "RMSE: 79.25911750967121\n",
      "R^2 Score: 0.6414568639385894\n"
     ]
    },
    {
     "data": {
      "application/vnd.plotly.v1+json": {
       "config": {
        "plotlyServerURL": "https://plot.ly"
       },
       "data": [
        {
         "hovertemplate": "Actual y=%{x}<br>Predicted y=%{y}<extra></extra>",
         "legendgroup": "",
         "marker": {
          "color": "#636efa",
          "symbol": "circle"
         },
         "mode": "markers",
         "name": "",
         "orientation": "v",
         "showlegend": false,
         "type": "scatter",
         "x": [
          151,
          235,
          49,
          39,
          51,
          413,
          99,
          100,
          140,
          148,
          383,
          50,
          22,
          67,
          110,
          139,
          41,
          168,
          160,
          66,
          213,
          47,
          150,
          80,
          69,
          38,
          210,
          190,
          247,
          84,
          200,
          310,
          409,
          328,
          209,
          25,
          196,
          97,
          115,
          40,
          183,
          220,
          464,
          154,
          201,
          93,
          135,
          140,
          279,
          127,
          320,
          300,
          386,
          147,
          170,
          223,
          180,
          115,
          130,
          399,
          78,
          98,
          59,
          139,
          232,
          69,
          156,
          300,
          40,
          400,
          59,
          50,
          106,
          55,
          354,
          189,
          399,
          243,
          76,
          150,
          392,
          106,
          59,
          43,
          111,
          131,
          250,
          276,
          50,
          319,
          69,
          235,
          69,
          88,
          522,
          63,
          482,
          511,
          409,
          79,
          53,
          60,
          38,
          141,
          55,
          59,
          160,
          69,
          159,
          38,
          35,
          160,
          129,
          49,
          320,
          80,
          250,
          130,
          410,
          126,
          43,
          258,
          81,
          335,
          450,
          276,
          130,
          395,
          110,
          187,
          174,
          152,
          160,
          119,
          100,
          79,
          75,
          102,
          126,
          103,
          209,
          49,
          49,
          460,
          33,
          148,
          56,
          411,
          62,
          409,
          34,
          59,
          50,
          200,
          56,
          399,
          36,
          500,
          75,
          516,
          190,
          204,
          191,
          43,
          215,
          60,
          232,
          187,
          608,
          234,
          49,
          225,
          190,
          527,
          79,
          117,
          79,
          327,
          402,
          201,
          59,
          150,
          379,
          620,
          47,
          59,
          330,
          60,
          175,
          69,
          408,
          77,
          196,
          96,
          182,
          33,
          28,
          186,
          99,
          169,
          561,
          450,
          187,
          212,
          196,
          88,
          169,
          277,
          38,
          281,
          30,
          200,
          85,
          168,
          575,
          236,
          305,
          64,
          399,
          95,
          49,
          124,
          67,
          95,
          170,
          281,
          224,
          290,
          35,
          55,
          69,
          188,
          93,
          180,
          345,
          140,
          328,
          59,
          399,
          53,
          48,
          178,
          42,
          39,
          105,
          120,
          465,
          33,
          39,
          64,
          150,
          113,
          158,
          90,
          178,
          135,
          89,
          187,
          187,
          88,
          100,
          220,
          488,
          110,
          100,
          457,
          130,
          189,
          115,
          210,
          146,
          181,
          629,
          150,
          35,
          395,
          356,
          202,
          120,
          60,
          246,
          35,
          350,
          247,
          29,
          108,
          200,
          84,
          133,
          124,
          135,
          275,
          22,
          320,
          53,
          279,
          95,
          393,
          201,
          260,
          430,
          150,
          350,
          175,
          163,
          150,
          79,
          187,
          150,
          69,
          260,
          59,
          246,
          90,
          68,
          481,
          250,
          133,
          265,
          96,
          58,
          140,
          200,
          346,
          61,
          239,
          144,
          550,
          211,
          105,
          93,
          49,
          49,
          80,
          129,
          99,
          225,
          29,
          120,
          377,
          89,
          320,
          320,
          125,
          55,
          40,
          43,
          115,
          260,
          60,
          198,
          325,
          179,
          68,
          55,
          365,
          160,
          60,
          110,
          215,
          126,
          200,
          37,
          428,
          105,
          450,
          195,
          59,
          483,
          38,
          402,
          36,
          175,
          118,
          258,
          125,
          243,
          133,
          188,
          55,
          440,
          31,
          95,
          440,
          315,
          120,
          30,
          79,
          246,
          59,
          51,
          250,
          386,
          59,
          118,
          388,
          134,
          69,
          175,
          405,
          82,
          375,
          441,
          178,
          150,
          178,
          45,
          79,
          200,
          100,
          188,
          280,
          226,
          235,
          63,
          100,
          120,
          140,
          243,
          246,
          475,
          165,
          110,
          300,
          305,
          69,
          259,
          20,
          30,
          193,
          450,
          47,
          107,
          50,
          48,
          60,
          92,
          240,
          119,
          180,
          31,
          158,
          125,
          121,
          411,
          101,
          200,
          250,
          416,
          88,
          105,
          179,
          328,
          165,
          300,
          585,
          39,
          80
         ],
         "xaxis": "x",
         "y": [
          154.0883331298828,
          273.6412658691406,
          109.99790954589844,
          156.1026153564453,
          42.66512680053711,
          402.281494140625,
          256.8682861328125,
          153.7490997314453,
          129.3700714111328,
          225.1146697998047,
          294.9214172363281,
          122.8406982421875,
          117.85041809082031,
          -50.823387145996094,
          212.52098083496094,
          179.48477172851562,
          156.1116180419922,
          105.3233413696289,
          115.1822509765625,
          143.7410125732422,
          324.0767517089844,
          -8.72661304473877,
          189.32542419433594,
          190.5376434326172,
          54.889732360839844,
          30.329158782958984,
          262.7314453125,
          188.00331115722656,
          298.1927795410156,
          69.75064086914062,
          137.6673126220703,
          372.0321350097656,
          417.1841125488281,
          391.8922119140625,
          167.97023010253906,
          74.2711410522461,
          203.07337951660156,
          249.05126953125,
          143.92942810058594,
          173.6560821533203,
          144.3579559326172,
          216.5676727294922,
          358.3331604003906,
          125.39942169189453,
          237.82411193847656,
          92.29927062988281,
          136.8597869873047,
          113.23843383789062,
          219.6025848388672,
          214.92237854003906,
          265.9118957519531,
          350.1301574707031,
          309.7719421386719,
          160.11277770996094,
          199.12452697753906,
          241.62489318847656,
          239.6760711669922,
          205.8821258544922,
          249.72105407714844,
          357.0041809082031,
          126.46212768554688,
          251.4207305908203,
          97.48800659179688,
          92.04318237304688,
          300.9475402832031,
          43.08906936645508,
          166.6435089111328,
          253.76416015625,
          35.25322723388672,
          393.2839050292969,
          31.064163208007812,
          78.82714080810547,
          186.57139587402344,
          78.86567687988281,
          338.0421447753906,
          186.28431701660156,
          317.7134704589844,
          184.14125061035156,
          86.28169250488281,
          159.66526794433594,
          337.76043701171875,
          237.8474578857422,
          56.170772552490234,
          53.36723327636719,
          159.0508575439453,
          128.7083282470703,
          298.6450500488281,
          348.7315368652344,
          42.627803802490234,
          324.53619384765625,
          35.772457122802734,
          106.20272827148438,
          78.33570861816406,
          115.916015625,
          350.75592041015625,
          87.14071655273438,
          300.0822448730469,
          285.2181701660156,
          342.2229309082031,
          105.93799591064453,
          105.60578155517578,
          -4.798542499542236,
          86.63627624511719,
          237.9504852294922,
          123.48728942871094,
          19.787263870239258,
          135.9986572265625,
          73.7747802734375,
          177.78976440429688,
          18.908390045166016,
          66.89976501464844,
          221.61351013183594,
          123.28753662109375,
          41.00352478027344,
          203.42799377441406,
          111.76255798339844,
          268.52923583984375,
          143.43148803710938,
          360.7681884765625,
          129.57476806640625,
          56.248573303222656,
          267.6411437988281,
          89.34132385253906,
          322.1594543457031,
          296.7378845214844,
          296.432373046875,
          110.2106704711914,
          375.8332824707031,
          137.35072326660156,
          311.0754089355469,
          130.9481658935547,
          212.64671325683594,
          269.5364685058594,
          148.4329376220703,
          96.65177917480469,
          88.09349060058594,
          150.24984741210938,
          171.2361602783203,
          102.94161224365234,
          98.3038101196289,
          233.68626403808594,
          22.78580093383789,
          4.784997940063477,
          387.509765625,
          22.891361236572266,
          138.65025329589844,
          90.44435119628906,
          388.1772155761719,
          145.63291931152344,
          375.8822937011719,
          140.43885803222656,
          81.486083984375,
          54.58685302734375,
          231.08937072753906,
          146.05908203125,
          266.0373840332031,
          60.51914596557617,
          96.07296752929688,
          114.69554138183594,
          283.00885009765625,
          281.0871887207031,
          199.831298828125,
          95.73594665527344,
          22.159191131591797,
          265.1894836425781,
          103.74923706054688,
          230.44996643066406,
          189.01280212402344,
          216.27821350097656,
          142.02880859375,
          -5.539589881896973,
          276.55242919921875,
          230.8116912841797,
          334.8031311035156,
          151.22886657714844,
          202.91969299316406,
          131.6092987060547,
          359.5118713378906,
          378.69287109375,
          111.77745819091797,
          96.16787719726562,
          161.55584716796875,
          331.46417236328125,
          372.60626220703125,
          217.7214813232422,
          43.49911880493164,
          92.11589050292969,
          65.36689758300781,
          267.1987609863281,
          40.430946350097656,
          363.2753601074219,
          315.8838195800781,
          252.46388244628906,
          102.54122924804688,
          225.0491943359375,
          17.345664978027344,
          33.49200439453125,
          202.0364532470703,
          68.67896270751953,
          275.1524658203125,
          320.5719299316406,
          250.18756103515625,
          157.11439514160156,
          181.62130737304688,
          200.94715881347656,
          103.4476089477539,
          209.98985290527344,
          299.1311340332031,
          60.66704559326172,
          340.73138427734375,
          90.83995819091797,
          225.20584106445312,
          100.7292251586914,
          181.1017608642578,
          388.1509704589844,
          203.4763641357422,
          246.71620178222656,
          -96.73338317871094,
          370.63623046875,
          68.392578125,
          32.260009765625,
          130.0696563720703,
          56.43220520019531,
          155.30946350097656,
          210.45811462402344,
          330.8680725097656,
          259.3219909667969,
          301.9831848144531,
          65.85739135742188,
          95.97187042236328,
          74.69227600097656,
          235.69888305664062,
          70.35694885253906,
          237.79859924316406,
          344.3779602050781,
          180.49090576171875,
          238.65159606933594,
          65.32485961914062,
          324.9826354980469,
          31.045082092285156,
          64.27629852294922,
          148.6533660888672,
          42.305328369140625,
          27.3895320892334,
          171.1094512939453,
          197.6934356689453,
          350.0359802246094,
          63.975242614746094,
          84.46043395996094,
          146.9475555419922,
          168.0033416748047,
          182.0952911376953,
          239.9175567626953,
          182.48590087890625,
          201.83746337890625,
          252.20372009277344,
          156.29725646972656,
          177.8576202392578,
          198.64529418945312,
          117.68646240234375,
          153.05198669433594,
          169.2381134033203,
          387.9604187011719,
          168.60818481445312,
          119.41761779785156,
          262.8692321777344,
          54.620601654052734,
          256.6104431152344,
          148.3753204345703,
          262.2662658691406,
          310.1305847167969,
          127.695556640625,
          385.2994079589844,
          193.6420135498047,
          57.99851989746094,
          309.1053771972656,
          339.4477233886719,
          143.28907775878906,
          121.22750091552734,
          101.60423278808594,
          252.302490234375,
          -7.308948516845703,
          272.6125793457031,
          192.83108520507812,
          49.730194091796875,
          128.06033325195312,
          245.77734375,
          101.25357055664062,
          194.1468963623047,
          170.2605438232422,
          159.80955505371094,
          251.5808563232422,
          142.22230529785156,
          304.4174499511719,
          94.11286926269531,
          307.3517761230469,
          13.03240966796875,
          287.9415283203125,
          167.7380828857422,
          243.07481384277344,
          342.2042236328125,
          177.6080780029297,
          256.0686950683594,
          240.84312438964844,
          151.9860076904297,
          192.28343200683594,
          29.733375549316406,
          206.04232788085938,
          229.74197387695312,
          80.26319122314453,
          240.15745544433594,
          60.183135986328125,
          239.0533447265625,
          135.0469207763672,
          230.06190490722656,
          276.2825927734375,
          298.73193359375,
          134.34793090820312,
          217.3708953857422,
          84.24092102050781,
          108.84493255615234,
          208.50025939941406,
          351.8810729980469,
          342.528564453125,
          212.80494689941406,
          219.34214782714844,
          149.5160675048828,
          323.8324279785156,
          286.034912109375,
          -13.422022819519043,
          87.96446228027344,
          60.02271270751953,
          55.57192611694336,
          158.0652313232422,
          149.15931701660156,
          24.612510681152344,
          292.6132507324219,
          45.86988830566406,
          126.35629272460938,
          243.50550842285156,
          98.21440124511719,
          178.66102600097656,
          330.1560974121094,
          38.259769439697266,
          143.73146057128906,
          63.83976745605469,
          68.50434875488281,
          163.68641662597656,
          281.4037170410156,
          79.48384094238281,
          191.03512573242188,
          337.9722900390625,
          264.5313415527344,
          126.78975677490234,
          161.4606170654297,
          242.35546875,
          199.66009521484375,
          129.4645538330078,
          176.3665771484375,
          292.0787353515625,
          111.3730239868164,
          243.16134643554688,
          62.150428771972656,
          350.07318115234375,
          128.98753356933594,
          440.67431640625,
          274.7762756347656,
          23.724538803100586,
          369.3415222167969,
          57.28459167480469,
          348.51348876953125,
          32.31509017944336,
          211.2333221435547,
          153.43772888183594,
          269.1710510253906,
          193.97943115234375,
          246.24969482421875,
          72.7250747680664,
          234.1914520263672,
          173.27685546875,
          379.6265563964844,
          209.04507446289062,
          142.186767578125,
          313.9096984863281,
          392.0967712402344,
          181.62355041503906,
          59.85675811767578,
          92.82821655273438,
          302.9863586425781,
          90.98345947265625,
          52.63272476196289,
          224.25926208496094,
          298.2513122558594,
          112.8197021484375,
          83.26753234863281,
          125.51576232910156,
          133.9921112060547,
          156.63148498535156,
          242.4715576171875,
          280.6552734375,
          133.4150848388672,
          321.06097412109375,
          296.4251708984375,
          201.76431274414062,
          39.5498161315918,
          217.48193359375,
          34.41961669921875,
          64.96835327148438,
          250.43673706054688,
          136.73855590820312,
          236.76019287109375,
          325.18463134765625,
          210.1004638671875,
          237.17637634277344,
          65.36897277832031,
          98.27772521972656,
          105.28934478759766,
          162.77732849121094,
          281.4836730957031,
          306.4581604003906,
          289.951416015625,
          193.4613800048828,
          200.43930053710938,
          316.2989196777344,
          244.3422393798828,
          68.3404541015625,
          211.00868225097656,
          30.882099151611328,
          128.55905151367188,
          318.2740783691406,
          213.78855895996094,
          118.25818634033203,
          147.27005004882812,
          40.75239181518555,
          70.84637451171875,
          74.17161560058594,
          87.66587829589844,
          289.6183166503906,
          148.01856994628906,
          206.49351501464844,
          174.45773315429688,
          144.0954132080078,
          195.7234649658203,
          133.62872314453125,
          225.17991638183594,
          96.32681274414062,
          161.46292114257812,
          329.2926025390625,
          336.3744201660156,
          40.700443267822266,
          136.65792846679688,
          309.8045959472656,
          310.1414794921875,
          214.96693420410156,
          186.44369506835938,
          361.7350158691406,
          7.6815996170043945,
          69.98565673828125
         ],
         "yaxis": "y"
        }
       ],
       "layout": {
        "legend": {
         "tracegroupgap": 0
        },
        "margin": {
         "t": 60
        },
        "template": {
         "data": {
          "bar": [
           {
            "error_x": {
             "color": "#2a3f5f"
            },
            "error_y": {
             "color": "#2a3f5f"
            },
            "marker": {
             "line": {
              "color": "#E5ECF6",
              "width": 0.5
             },
             "pattern": {
              "fillmode": "overlay",
              "size": 10,
              "solidity": 0.2
             }
            },
            "type": "bar"
           }
          ],
          "barpolar": [
           {
            "marker": {
             "line": {
              "color": "#E5ECF6",
              "width": 0.5
             },
             "pattern": {
              "fillmode": "overlay",
              "size": 10,
              "solidity": 0.2
             }
            },
            "type": "barpolar"
           }
          ],
          "carpet": [
           {
            "aaxis": {
             "endlinecolor": "#2a3f5f",
             "gridcolor": "white",
             "linecolor": "white",
             "minorgridcolor": "white",
             "startlinecolor": "#2a3f5f"
            },
            "baxis": {
             "endlinecolor": "#2a3f5f",
             "gridcolor": "white",
             "linecolor": "white",
             "minorgridcolor": "white",
             "startlinecolor": "#2a3f5f"
            },
            "type": "carpet"
           }
          ],
          "choropleth": [
           {
            "colorbar": {
             "outlinewidth": 0,
             "ticks": ""
            },
            "type": "choropleth"
           }
          ],
          "contour": [
           {
            "colorbar": {
             "outlinewidth": 0,
             "ticks": ""
            },
            "colorscale": [
             [
              0,
              "#0d0887"
             ],
             [
              0.1111111111111111,
              "#46039f"
             ],
             [
              0.2222222222222222,
              "#7201a8"
             ],
             [
              0.3333333333333333,
              "#9c179e"
             ],
             [
              0.4444444444444444,
              "#bd3786"
             ],
             [
              0.5555555555555556,
              "#d8576b"
             ],
             [
              0.6666666666666666,
              "#ed7953"
             ],
             [
              0.7777777777777778,
              "#fb9f3a"
             ],
             [
              0.8888888888888888,
              "#fdca26"
             ],
             [
              1,
              "#f0f921"
             ]
            ],
            "type": "contour"
           }
          ],
          "contourcarpet": [
           {
            "colorbar": {
             "outlinewidth": 0,
             "ticks": ""
            },
            "type": "contourcarpet"
           }
          ],
          "heatmap": [
           {
            "colorbar": {
             "outlinewidth": 0,
             "ticks": ""
            },
            "colorscale": [
             [
              0,
              "#0d0887"
             ],
             [
              0.1111111111111111,
              "#46039f"
             ],
             [
              0.2222222222222222,
              "#7201a8"
             ],
             [
              0.3333333333333333,
              "#9c179e"
             ],
             [
              0.4444444444444444,
              "#bd3786"
             ],
             [
              0.5555555555555556,
              "#d8576b"
             ],
             [
              0.6666666666666666,
              "#ed7953"
             ],
             [
              0.7777777777777778,
              "#fb9f3a"
             ],
             [
              0.8888888888888888,
              "#fdca26"
             ],
             [
              1,
              "#f0f921"
             ]
            ],
            "type": "heatmap"
           }
          ],
          "heatmapgl": [
           {
            "colorbar": {
             "outlinewidth": 0,
             "ticks": ""
            },
            "colorscale": [
             [
              0,
              "#0d0887"
             ],
             [
              0.1111111111111111,
              "#46039f"
             ],
             [
              0.2222222222222222,
              "#7201a8"
             ],
             [
              0.3333333333333333,
              "#9c179e"
             ],
             [
              0.4444444444444444,
              "#bd3786"
             ],
             [
              0.5555555555555556,
              "#d8576b"
             ],
             [
              0.6666666666666666,
              "#ed7953"
             ],
             [
              0.7777777777777778,
              "#fb9f3a"
             ],
             [
              0.8888888888888888,
              "#fdca26"
             ],
             [
              1,
              "#f0f921"
             ]
            ],
            "type": "heatmapgl"
           }
          ],
          "histogram": [
           {
            "marker": {
             "pattern": {
              "fillmode": "overlay",
              "size": 10,
              "solidity": 0.2
             }
            },
            "type": "histogram"
           }
          ],
          "histogram2d": [
           {
            "colorbar": {
             "outlinewidth": 0,
             "ticks": ""
            },
            "colorscale": [
             [
              0,
              "#0d0887"
             ],
             [
              0.1111111111111111,
              "#46039f"
             ],
             [
              0.2222222222222222,
              "#7201a8"
             ],
             [
              0.3333333333333333,
              "#9c179e"
             ],
             [
              0.4444444444444444,
              "#bd3786"
             ],
             [
              0.5555555555555556,
              "#d8576b"
             ],
             [
              0.6666666666666666,
              "#ed7953"
             ],
             [
              0.7777777777777778,
              "#fb9f3a"
             ],
             [
              0.8888888888888888,
              "#fdca26"
             ],
             [
              1,
              "#f0f921"
             ]
            ],
            "type": "histogram2d"
           }
          ],
          "histogram2dcontour": [
           {
            "colorbar": {
             "outlinewidth": 0,
             "ticks": ""
            },
            "colorscale": [
             [
              0,
              "#0d0887"
             ],
             [
              0.1111111111111111,
              "#46039f"
             ],
             [
              0.2222222222222222,
              "#7201a8"
             ],
             [
              0.3333333333333333,
              "#9c179e"
             ],
             [
              0.4444444444444444,
              "#bd3786"
             ],
             [
              0.5555555555555556,
              "#d8576b"
             ],
             [
              0.6666666666666666,
              "#ed7953"
             ],
             [
              0.7777777777777778,
              "#fb9f3a"
             ],
             [
              0.8888888888888888,
              "#fdca26"
             ],
             [
              1,
              "#f0f921"
             ]
            ],
            "type": "histogram2dcontour"
           }
          ],
          "mesh3d": [
           {
            "colorbar": {
             "outlinewidth": 0,
             "ticks": ""
            },
            "type": "mesh3d"
           }
          ],
          "parcoords": [
           {
            "line": {
             "colorbar": {
              "outlinewidth": 0,
              "ticks": ""
             }
            },
            "type": "parcoords"
           }
          ],
          "pie": [
           {
            "automargin": true,
            "type": "pie"
           }
          ],
          "scatter": [
           {
            "fillpattern": {
             "fillmode": "overlay",
             "size": 10,
             "solidity": 0.2
            },
            "type": "scatter"
           }
          ],
          "scatter3d": [
           {
            "line": {
             "colorbar": {
              "outlinewidth": 0,
              "ticks": ""
             }
            },
            "marker": {
             "colorbar": {
              "outlinewidth": 0,
              "ticks": ""
             }
            },
            "type": "scatter3d"
           }
          ],
          "scattercarpet": [
           {
            "marker": {
             "colorbar": {
              "outlinewidth": 0,
              "ticks": ""
             }
            },
            "type": "scattercarpet"
           }
          ],
          "scattergeo": [
           {
            "marker": {
             "colorbar": {
              "outlinewidth": 0,
              "ticks": ""
             }
            },
            "type": "scattergeo"
           }
          ],
          "scattergl": [
           {
            "marker": {
             "colorbar": {
              "outlinewidth": 0,
              "ticks": ""
             }
            },
            "type": "scattergl"
           }
          ],
          "scattermapbox": [
           {
            "marker": {
             "colorbar": {
              "outlinewidth": 0,
              "ticks": ""
             }
            },
            "type": "scattermapbox"
           }
          ],
          "scatterpolar": [
           {
            "marker": {
             "colorbar": {
              "outlinewidth": 0,
              "ticks": ""
             }
            },
            "type": "scatterpolar"
           }
          ],
          "scatterpolargl": [
           {
            "marker": {
             "colorbar": {
              "outlinewidth": 0,
              "ticks": ""
             }
            },
            "type": "scatterpolargl"
           }
          ],
          "scatterternary": [
           {
            "marker": {
             "colorbar": {
              "outlinewidth": 0,
              "ticks": ""
             }
            },
            "type": "scatterternary"
           }
          ],
          "surface": [
           {
            "colorbar": {
             "outlinewidth": 0,
             "ticks": ""
            },
            "colorscale": [
             [
              0,
              "#0d0887"
             ],
             [
              0.1111111111111111,
              "#46039f"
             ],
             [
              0.2222222222222222,
              "#7201a8"
             ],
             [
              0.3333333333333333,
              "#9c179e"
             ],
             [
              0.4444444444444444,
              "#bd3786"
             ],
             [
              0.5555555555555556,
              "#d8576b"
             ],
             [
              0.6666666666666666,
              "#ed7953"
             ],
             [
              0.7777777777777778,
              "#fb9f3a"
             ],
             [
              0.8888888888888888,
              "#fdca26"
             ],
             [
              1,
              "#f0f921"
             ]
            ],
            "type": "surface"
           }
          ],
          "table": [
           {
            "cells": {
             "fill": {
              "color": "#EBF0F8"
             },
             "line": {
              "color": "white"
             }
            },
            "header": {
             "fill": {
              "color": "#C8D4E3"
             },
             "line": {
              "color": "white"
             }
            },
            "type": "table"
           }
          ]
         },
         "layout": {
          "annotationdefaults": {
           "arrowcolor": "#2a3f5f",
           "arrowhead": 0,
           "arrowwidth": 1
          },
          "autotypenumbers": "strict",
          "coloraxis": {
           "colorbar": {
            "outlinewidth": 0,
            "ticks": ""
           }
          },
          "colorscale": {
           "diverging": [
            [
             0,
             "#8e0152"
            ],
            [
             0.1,
             "#c51b7d"
            ],
            [
             0.2,
             "#de77ae"
            ],
            [
             0.3,
             "#f1b6da"
            ],
            [
             0.4,
             "#fde0ef"
            ],
            [
             0.5,
             "#f7f7f7"
            ],
            [
             0.6,
             "#e6f5d0"
            ],
            [
             0.7,
             "#b8e186"
            ],
            [
             0.8,
             "#7fbc41"
            ],
            [
             0.9,
             "#4d9221"
            ],
            [
             1,
             "#276419"
            ]
           ],
           "sequential": [
            [
             0,
             "#0d0887"
            ],
            [
             0.1111111111111111,
             "#46039f"
            ],
            [
             0.2222222222222222,
             "#7201a8"
            ],
            [
             0.3333333333333333,
             "#9c179e"
            ],
            [
             0.4444444444444444,
             "#bd3786"
            ],
            [
             0.5555555555555556,
             "#d8576b"
            ],
            [
             0.6666666666666666,
             "#ed7953"
            ],
            [
             0.7777777777777778,
             "#fb9f3a"
            ],
            [
             0.8888888888888888,
             "#fdca26"
            ],
            [
             1,
             "#f0f921"
            ]
           ],
           "sequentialminus": [
            [
             0,
             "#0d0887"
            ],
            [
             0.1111111111111111,
             "#46039f"
            ],
            [
             0.2222222222222222,
             "#7201a8"
            ],
            [
             0.3333333333333333,
             "#9c179e"
            ],
            [
             0.4444444444444444,
             "#bd3786"
            ],
            [
             0.5555555555555556,
             "#d8576b"
            ],
            [
             0.6666666666666666,
             "#ed7953"
            ],
            [
             0.7777777777777778,
             "#fb9f3a"
            ],
            [
             0.8888888888888888,
             "#fdca26"
            ],
            [
             1,
             "#f0f921"
            ]
           ]
          },
          "colorway": [
           "#636efa",
           "#EF553B",
           "#00cc96",
           "#ab63fa",
           "#FFA15A",
           "#19d3f3",
           "#FF6692",
           "#B6E880",
           "#FF97FF",
           "#FECB52"
          ],
          "font": {
           "color": "#2a3f5f"
          },
          "geo": {
           "bgcolor": "white",
           "lakecolor": "white",
           "landcolor": "#E5ECF6",
           "showlakes": true,
           "showland": true,
           "subunitcolor": "white"
          },
          "hoverlabel": {
           "align": "left"
          },
          "hovermode": "closest",
          "mapbox": {
           "style": "light"
          },
          "paper_bgcolor": "white",
          "plot_bgcolor": "#E5ECF6",
          "polar": {
           "angularaxis": {
            "gridcolor": "white",
            "linecolor": "white",
            "ticks": ""
           },
           "bgcolor": "#E5ECF6",
           "radialaxis": {
            "gridcolor": "white",
            "linecolor": "white",
            "ticks": ""
           }
          },
          "scene": {
           "xaxis": {
            "backgroundcolor": "#E5ECF6",
            "gridcolor": "white",
            "gridwidth": 2,
            "linecolor": "white",
            "showbackground": true,
            "ticks": "",
            "zerolinecolor": "white"
           },
           "yaxis": {
            "backgroundcolor": "#E5ECF6",
            "gridcolor": "white",
            "gridwidth": 2,
            "linecolor": "white",
            "showbackground": true,
            "ticks": "",
            "zerolinecolor": "white"
           },
           "zaxis": {
            "backgroundcolor": "#E5ECF6",
            "gridcolor": "white",
            "gridwidth": 2,
            "linecolor": "white",
            "showbackground": true,
            "ticks": "",
            "zerolinecolor": "white"
           }
          },
          "shapedefaults": {
           "line": {
            "color": "#2a3f5f"
           }
          },
          "ternary": {
           "aaxis": {
            "gridcolor": "white",
            "linecolor": "white",
            "ticks": ""
           },
           "baxis": {
            "gridcolor": "white",
            "linecolor": "white",
            "ticks": ""
           },
           "bgcolor": "#E5ECF6",
           "caxis": {
            "gridcolor": "white",
            "linecolor": "white",
            "ticks": ""
           }
          },
          "title": {
           "x": 0.05
          },
          "xaxis": {
           "automargin": true,
           "gridcolor": "white",
           "linecolor": "white",
           "ticks": "",
           "title": {
            "standoff": 15
           },
           "zerolinecolor": "white",
           "zerolinewidth": 2
          },
          "yaxis": {
           "automargin": true,
           "gridcolor": "white",
           "linecolor": "white",
           "ticks": "",
           "title": {
            "standoff": 15
           },
           "zerolinecolor": "white",
           "zerolinewidth": 2
          }
         }
        },
        "xaxis": {
         "anchor": "y",
         "domain": [
          0,
          1
         ],
         "title": {
          "text": "Actual y"
         }
        },
        "yaxis": {
         "anchor": "x",
         "domain": [
          0,
          1
         ],
         "title": {
          "text": "Predicted y"
         }
        }
       }
      }
     },
     "metadata": {},
     "output_type": "display_data"
    }
   ],
   "source": [
    "y_pred = model.predict(X_test)\n",
    "print('RMSE:', np.sqrt(mean_squared_error(y_test, y_pred)))\n",
    "print('R^2 Score:',explained_variance_score(y_test,y_pred))\n",
    "# Visualizing Our predictions\n",
    "\n",
    "y_pred = np.array(y_pred).flatten()\n",
    "y_test = np.array(y_test)\n",
    "\n",
    "plot(y_test, y_pred)\n"
   ]
  },
  {
   "attachments": {},
   "cell_type": "markdown",
   "metadata": {
    "collapsed": false
   },
   "source": [
    "We can conclude that HistGradientBoostingRegressor and XGBoost Regressor achieve the best results, with the lowest RMSE (~60) and the higher R^2 score (~0.75). All other models achieve decent results, with RMSE around half of standard deviation, and R^2 > 0.5."
   ]
  },
  {
   "attachments": {},
   "cell_type": "markdown",
   "metadata": {},
   "source": [
    "# Part 2: Optimising models\n",
    "\n",
    "We will be using GridSearchCV to find the optimal parameters."
   ]
  },
  {
   "cell_type": "code",
   "execution_count": 20,
   "metadata": {},
   "outputs": [
    {
     "name": "stdout",
     "output_type": "stream",
     "text": [
      "{'learning_rate': 0.1, 'max_iter': 120, 'max_leaf_nodes': 44}\n",
      "R2 Score 0.7788400293670553\n",
      "RMSE : 62.225658781889955\n"
     ]
    }
   ],
   "source": [
    "from sklearn.model_selection import GridSearchCV\n",
    "\n",
    "model = HistGradientBoostingRegressor(random_state=random_state)#.fit(X_train, y_train)\n",
    "\n",
    "params_grid = {\n",
    "    'learning_rate': [0.1, 0.15, 0.2, 0.3],\n",
    "    'max_iter': [80, 100, 120],\n",
    "    'max_leaf_nodes': [18, 31, 38, 44],\n",
    "    # 'l2_regularization': [0, 1, 2],\n",
    "}\n",
    "\n",
    "cv = GridSearchCV(estimator=model, param_grid=params_grid, cv=5, n_jobs=-1, scoring='r2')\n",
    "cv.fit(X_train, y_train)\n",
    "print(cv.best_params_)\n",
    "est = cv.best_estimator_\n",
    "y_pred = est.predict(X_test)\n",
    "calculate_score(y_test, y_pred)"
   ]
  },
  {
   "cell_type": "code",
   "execution_count": 21,
   "metadata": {},
   "outputs": [
    {
     "data": {
      "text/html": [
       "<div>\n",
       "<style scoped>\n",
       "    .dataframe tbody tr th:only-of-type {\n",
       "        vertical-align: middle;\n",
       "    }\n",
       "\n",
       "    .dataframe tbody tr th {\n",
       "        vertical-align: top;\n",
       "    }\n",
       "\n",
       "    .dataframe thead th {\n",
       "        text-align: right;\n",
       "    }\n",
       "</style>\n",
       "<table border=\"1\" class=\"dataframe\">\n",
       "  <thead>\n",
       "    <tr style=\"text-align: right;\">\n",
       "      <th></th>\n",
       "      <th>mean_fit_time</th>\n",
       "      <th>std_fit_time</th>\n",
       "      <th>mean_score_time</th>\n",
       "      <th>std_score_time</th>\n",
       "      <th>param_learning_rate</th>\n",
       "      <th>param_max_iter</th>\n",
       "      <th>param_max_leaf_nodes</th>\n",
       "      <th>params</th>\n",
       "      <th>split0_test_score</th>\n",
       "      <th>split1_test_score</th>\n",
       "      <th>split2_test_score</th>\n",
       "      <th>split3_test_score</th>\n",
       "      <th>split4_test_score</th>\n",
       "      <th>mean_test_score</th>\n",
       "      <th>std_test_score</th>\n",
       "      <th>rank_test_score</th>\n",
       "    </tr>\n",
       "  </thead>\n",
       "  <tbody>\n",
       "    <tr>\n",
       "      <th>11</th>\n",
       "      <td>1.046762</td>\n",
       "      <td>0.019196</td>\n",
       "      <td>0.008227</td>\n",
       "      <td>0.002631</td>\n",
       "      <td>0.1</td>\n",
       "      <td>120</td>\n",
       "      <td>44</td>\n",
       "      <td>{'learning_rate': 0.1, 'max_iter': 120, 'max_l...</td>\n",
       "      <td>0.727084</td>\n",
       "      <td>0.684567</td>\n",
       "      <td>0.657569</td>\n",
       "      <td>0.684615</td>\n",
       "      <td>0.708963</td>\n",
       "      <td>0.692560</td>\n",
       "      <td>0.023716</td>\n",
       "      <td>1</td>\n",
       "    </tr>\n",
       "    <tr>\n",
       "      <th>7</th>\n",
       "      <td>0.841774</td>\n",
       "      <td>0.014593</td>\n",
       "      <td>0.006894</td>\n",
       "      <td>0.002402</td>\n",
       "      <td>0.1</td>\n",
       "      <td>100</td>\n",
       "      <td>44</td>\n",
       "      <td>{'learning_rate': 0.1, 'max_iter': 100, 'max_l...</td>\n",
       "      <td>0.727709</td>\n",
       "      <td>0.682391</td>\n",
       "      <td>0.658033</td>\n",
       "      <td>0.683346</td>\n",
       "      <td>0.707088</td>\n",
       "      <td>0.691714</td>\n",
       "      <td>0.023763</td>\n",
       "      <td>2</td>\n",
       "    </tr>\n",
       "    <tr>\n",
       "      <th>3</th>\n",
       "      <td>0.678878</td>\n",
       "      <td>0.050996</td>\n",
       "      <td>0.005213</td>\n",
       "      <td>0.001415</td>\n",
       "      <td>0.1</td>\n",
       "      <td>80</td>\n",
       "      <td>44</td>\n",
       "      <td>{'learning_rate': 0.1, 'max_iter': 80, 'max_le...</td>\n",
       "      <td>0.727413</td>\n",
       "      <td>0.682332</td>\n",
       "      <td>0.659810</td>\n",
       "      <td>0.679870</td>\n",
       "      <td>0.706243</td>\n",
       "      <td>0.691134</td>\n",
       "      <td>0.023366</td>\n",
       "      <td>3</td>\n",
       "    </tr>\n",
       "    <tr>\n",
       "      <th>17</th>\n",
       "      <td>0.668094</td>\n",
       "      <td>0.013005</td>\n",
       "      <td>0.005185</td>\n",
       "      <td>0.002049</td>\n",
       "      <td>0.15</td>\n",
       "      <td>100</td>\n",
       "      <td>31</td>\n",
       "      <td>{'learning_rate': 0.15, 'max_iter': 100, 'max_...</td>\n",
       "      <td>0.731622</td>\n",
       "      <td>0.697366</td>\n",
       "      <td>0.648345</td>\n",
       "      <td>0.669520</td>\n",
       "      <td>0.704688</td>\n",
       "      <td>0.690308</td>\n",
       "      <td>0.028832</td>\n",
       "      <td>4</td>\n",
       "    </tr>\n",
       "    <tr>\n",
       "      <th>21</th>\n",
       "      <td>0.805972</td>\n",
       "      <td>0.045870</td>\n",
       "      <td>0.004853</td>\n",
       "      <td>0.000106</td>\n",
       "      <td>0.15</td>\n",
       "      <td>120</td>\n",
       "      <td>31</td>\n",
       "      <td>{'learning_rate': 0.15, 'max_iter': 120, 'max_...</td>\n",
       "      <td>0.732237</td>\n",
       "      <td>0.696018</td>\n",
       "      <td>0.649468</td>\n",
       "      <td>0.670988</td>\n",
       "      <td>0.702644</td>\n",
       "      <td>0.690271</td>\n",
       "      <td>0.028228</td>\n",
       "      <td>5</td>\n",
       "    </tr>\n",
       "    <tr>\n",
       "      <th>13</th>\n",
       "      <td>0.551024</td>\n",
       "      <td>0.038811</td>\n",
       "      <td>0.004649</td>\n",
       "      <td>0.001481</td>\n",
       "      <td>0.15</td>\n",
       "      <td>80</td>\n",
       "      <td>31</td>\n",
       "      <td>{'learning_rate': 0.15, 'max_iter': 80, 'max_l...</td>\n",
       "      <td>0.729489</td>\n",
       "      <td>0.696292</td>\n",
       "      <td>0.646778</td>\n",
       "      <td>0.672423</td>\n",
       "      <td>0.704179</td>\n",
       "      <td>0.689832</td>\n",
       "      <td>0.028203</td>\n",
       "      <td>6</td>\n",
       "    </tr>\n",
       "    <tr>\n",
       "      <th>8</th>\n",
       "      <td>0.558032</td>\n",
       "      <td>0.027390</td>\n",
       "      <td>0.005455</td>\n",
       "      <td>0.001476</td>\n",
       "      <td>0.1</td>\n",
       "      <td>120</td>\n",
       "      <td>18</td>\n",
       "      <td>{'learning_rate': 0.1, 'max_iter': 120, 'max_l...</td>\n",
       "      <td>0.741034</td>\n",
       "      <td>0.686020</td>\n",
       "      <td>0.647256</td>\n",
       "      <td>0.657110</td>\n",
       "      <td>0.714749</td>\n",
       "      <td>0.689234</td>\n",
       "      <td>0.035039</td>\n",
       "      <td>7</td>\n",
       "    </tr>\n",
       "    <tr>\n",
       "      <th>15</th>\n",
       "      <td>0.679458</td>\n",
       "      <td>0.050606</td>\n",
       "      <td>0.004490</td>\n",
       "      <td>0.000972</td>\n",
       "      <td>0.15</td>\n",
       "      <td>80</td>\n",
       "      <td>44</td>\n",
       "      <td>{'learning_rate': 0.15, 'max_iter': 80, 'max_l...</td>\n",
       "      <td>0.728459</td>\n",
       "      <td>0.674927</td>\n",
       "      <td>0.654413</td>\n",
       "      <td>0.670581</td>\n",
       "      <td>0.716414</td>\n",
       "      <td>0.688959</td>\n",
       "      <td>0.028433</td>\n",
       "      <td>8</td>\n",
       "    </tr>\n",
       "    <tr>\n",
       "      <th>19</th>\n",
       "      <td>0.837687</td>\n",
       "      <td>0.042866</td>\n",
       "      <td>0.004783</td>\n",
       "      <td>0.000115</td>\n",
       "      <td>0.15</td>\n",
       "      <td>100</td>\n",
       "      <td>44</td>\n",
       "      <td>{'learning_rate': 0.15, 'max_iter': 100, 'max_...</td>\n",
       "      <td>0.727460</td>\n",
       "      <td>0.673145</td>\n",
       "      <td>0.655841</td>\n",
       "      <td>0.669859</td>\n",
       "      <td>0.715479</td>\n",
       "      <td>0.688357</td>\n",
       "      <td>0.027912</td>\n",
       "      <td>9</td>\n",
       "    </tr>\n",
       "    <tr>\n",
       "      <th>23</th>\n",
       "      <td>1.014744</td>\n",
       "      <td>0.055237</td>\n",
       "      <td>0.007480</td>\n",
       "      <td>0.002165</td>\n",
       "      <td>0.15</td>\n",
       "      <td>120</td>\n",
       "      <td>44</td>\n",
       "      <td>{'learning_rate': 0.15, 'max_iter': 120, 'max_...</td>\n",
       "      <td>0.728319</td>\n",
       "      <td>0.673571</td>\n",
       "      <td>0.654644</td>\n",
       "      <td>0.669380</td>\n",
       "      <td>0.715605</td>\n",
       "      <td>0.688304</td>\n",
       "      <td>0.028477</td>\n",
       "      <td>10</td>\n",
       "    </tr>\n",
       "  </tbody>\n",
       "</table>\n",
       "</div>"
      ],
      "text/plain": [
       "    mean_fit_time  std_fit_time  mean_score_time  std_score_time  \\\n",
       "11       1.046762      0.019196         0.008227        0.002631   \n",
       "7        0.841774      0.014593         0.006894        0.002402   \n",
       "3        0.678878      0.050996         0.005213        0.001415   \n",
       "17       0.668094      0.013005         0.005185        0.002049   \n",
       "21       0.805972      0.045870         0.004853        0.000106   \n",
       "13       0.551024      0.038811         0.004649        0.001481   \n",
       "8        0.558032      0.027390         0.005455        0.001476   \n",
       "15       0.679458      0.050606         0.004490        0.000972   \n",
       "19       0.837687      0.042866         0.004783        0.000115   \n",
       "23       1.014744      0.055237         0.007480        0.002165   \n",
       "\n",
       "   param_learning_rate param_max_iter param_max_leaf_nodes  \\\n",
       "11                 0.1            120                   44   \n",
       "7                  0.1            100                   44   \n",
       "3                  0.1             80                   44   \n",
       "17                0.15            100                   31   \n",
       "21                0.15            120                   31   \n",
       "13                0.15             80                   31   \n",
       "8                  0.1            120                   18   \n",
       "15                0.15             80                   44   \n",
       "19                0.15            100                   44   \n",
       "23                0.15            120                   44   \n",
       "\n",
       "                                               params  split0_test_score  \\\n",
       "11  {'learning_rate': 0.1, 'max_iter': 120, 'max_l...           0.727084   \n",
       "7   {'learning_rate': 0.1, 'max_iter': 100, 'max_l...           0.727709   \n",
       "3   {'learning_rate': 0.1, 'max_iter': 80, 'max_le...           0.727413   \n",
       "17  {'learning_rate': 0.15, 'max_iter': 100, 'max_...           0.731622   \n",
       "21  {'learning_rate': 0.15, 'max_iter': 120, 'max_...           0.732237   \n",
       "13  {'learning_rate': 0.15, 'max_iter': 80, 'max_l...           0.729489   \n",
       "8   {'learning_rate': 0.1, 'max_iter': 120, 'max_l...           0.741034   \n",
       "15  {'learning_rate': 0.15, 'max_iter': 80, 'max_l...           0.728459   \n",
       "19  {'learning_rate': 0.15, 'max_iter': 100, 'max_...           0.727460   \n",
       "23  {'learning_rate': 0.15, 'max_iter': 120, 'max_...           0.728319   \n",
       "\n",
       "    split1_test_score  split2_test_score  split3_test_score  \\\n",
       "11           0.684567           0.657569           0.684615   \n",
       "7            0.682391           0.658033           0.683346   \n",
       "3            0.682332           0.659810           0.679870   \n",
       "17           0.697366           0.648345           0.669520   \n",
       "21           0.696018           0.649468           0.670988   \n",
       "13           0.696292           0.646778           0.672423   \n",
       "8            0.686020           0.647256           0.657110   \n",
       "15           0.674927           0.654413           0.670581   \n",
       "19           0.673145           0.655841           0.669859   \n",
       "23           0.673571           0.654644           0.669380   \n",
       "\n",
       "    split4_test_score  mean_test_score  std_test_score  rank_test_score  \n",
       "11           0.708963         0.692560        0.023716                1  \n",
       "7            0.707088         0.691714        0.023763                2  \n",
       "3            0.706243         0.691134        0.023366                3  \n",
       "17           0.704688         0.690308        0.028832                4  \n",
       "21           0.702644         0.690271        0.028228                5  \n",
       "13           0.704179         0.689832        0.028203                6  \n",
       "8            0.714749         0.689234        0.035039                7  \n",
       "15           0.716414         0.688959        0.028433                8  \n",
       "19           0.715479         0.688357        0.027912                9  \n",
       "23           0.715605         0.688304        0.028477               10  "
      ]
     },
     "execution_count": 21,
     "metadata": {},
     "output_type": "execute_result"
    }
   ],
   "source": [
    "v = pd.DataFrame(cv.cv_results_)\n",
    "v.sort_values(by='rank_test_score', inplace=True)\n",
    "v.head(10)"
   ]
  },
  {
   "cell_type": "code",
   "execution_count": 22,
   "metadata": {},
   "outputs": [
    {
     "data": {
      "text/html": [
       "<div>\n",
       "<style scoped>\n",
       "    .dataframe tbody tr th:only-of-type {\n",
       "        vertical-align: middle;\n",
       "    }\n",
       "\n",
       "    .dataframe tbody tr th {\n",
       "        vertical-align: top;\n",
       "    }\n",
       "\n",
       "    .dataframe thead th {\n",
       "        text-align: right;\n",
       "    }\n",
       "</style>\n",
       "<table border=\"1\" class=\"dataframe\">\n",
       "  <thead>\n",
       "    <tr style=\"text-align: right;\">\n",
       "      <th></th>\n",
       "      <th>mean_fit_time</th>\n",
       "      <th>std_fit_time</th>\n",
       "      <th>mean_score_time</th>\n",
       "      <th>std_score_time</th>\n",
       "      <th>param_learning_rate</th>\n",
       "      <th>param_max_iter</th>\n",
       "      <th>param_max_leaf_nodes</th>\n",
       "      <th>params</th>\n",
       "      <th>split0_test_score</th>\n",
       "      <th>split1_test_score</th>\n",
       "      <th>split2_test_score</th>\n",
       "      <th>split3_test_score</th>\n",
       "      <th>split4_test_score</th>\n",
       "      <th>mean_test_score</th>\n",
       "      <th>std_test_score</th>\n",
       "      <th>rank_test_score</th>\n",
       "    </tr>\n",
       "  </thead>\n",
       "  <tbody>\n",
       "    <tr>\n",
       "      <th>5</th>\n",
       "      <td>0.682657</td>\n",
       "      <td>0.045401</td>\n",
       "      <td>0.004647</td>\n",
       "      <td>0.000981</td>\n",
       "      <td>0.1</td>\n",
       "      <td>100</td>\n",
       "      <td>31</td>\n",
       "      <td>{'learning_rate': 0.1, 'max_iter': 100, 'max_l...</td>\n",
       "      <td>0.73435</td>\n",
       "      <td>0.68537</td>\n",
       "      <td>0.645536</td>\n",
       "      <td>0.659592</td>\n",
       "      <td>0.704638</td>\n",
       "      <td>0.685897</td>\n",
       "      <td>0.031687</td>\n",
       "      <td>13</td>\n",
       "    </tr>\n",
       "  </tbody>\n",
       "</table>\n",
       "</div>"
      ],
      "text/plain": [
       "   mean_fit_time  std_fit_time  mean_score_time  std_score_time  \\\n",
       "5       0.682657      0.045401         0.004647        0.000981   \n",
       "\n",
       "  param_learning_rate param_max_iter param_max_leaf_nodes  \\\n",
       "5                 0.1            100                   31   \n",
       "\n",
       "                                              params  split0_test_score  \\\n",
       "5  {'learning_rate': 0.1, 'max_iter': 100, 'max_l...            0.73435   \n",
       "\n",
       "   split1_test_score  split2_test_score  split3_test_score  split4_test_score  \\\n",
       "5            0.68537           0.645536           0.659592           0.704638   \n",
       "\n",
       "   mean_test_score  std_test_score  rank_test_score  \n",
       "5         0.685897        0.031687               13  "
      ]
     },
     "execution_count": 22,
     "metadata": {},
     "output_type": "execute_result"
    }
   ],
   "source": [
    "base = v.query('param_max_leaf_nodes == 31 & param_learning_rate == 0.1 & param_max_iter == 100')\n",
    "base"
   ]
  },
  {
   "attachments": {},
   "cell_type": "markdown",
   "metadata": {},
   "source": [
    "We can see that parameters with {} has higher R^2 score. Note that due to cross-validation, R^2 score in GridSearchCV is lower than the above example, however it still shows the better parameters."
   ]
  },
  {
   "cell_type": "code",
   "execution_count": 23,
   "metadata": {},
   "outputs": [
    {
     "name": "stdout",
     "output_type": "stream",
     "text": [
      "R2 Score 0.7788400293670553\n",
      "RMSE : 62.225658781889955\n"
     ]
    }
   ],
   "source": [
    "model = HistGradientBoostingRegressor(**cv.best_params_, random_state=random_state).fit(X_train, y_train)\n",
    "y_pred = model.predict(X_test)\n",
    "calculate_score(y_test, y_pred)"
   ]
  },
  {
   "attachments": {},
   "cell_type": "markdown",
   "metadata": {},
   "source": [
    "RMSE is lower by a marginal amount, however it still shows improvement in model accuracy."
   ]
  },
  {
   "cell_type": "code",
   "execution_count": 24,
   "metadata": {},
   "outputs": [
    {
     "name": "stdout",
     "output_type": "stream",
     "text": [
      "{'learning_rate': 0.1, 'max_leaves': 40}\n",
      "R2 Score 0.7682571429910623\n",
      "RMSE : 63.697064731680165\n"
     ]
    }
   ],
   "source": [
    "model = xgb.XGBRegressor(tree_method='hist', objective='reg:squarederror', max_bin=512, random_state=random_state, n_estimators=2000)\n",
    "\n",
    "params_grid = {\n",
    "    # 'n_estimators': [1500, 2000, 2500],\n",
    "    'learning_rate': [0.05, 0.1],\n",
    "    'max_leaves': [0, 20, 40, 60],\n",
    "}\n",
    "\n",
    "cv = GridSearchCV(estimator=model, param_grid=params_grid, cv=5, n_jobs=-1, scoring='r2')\n",
    "cv.fit(X_train, y_train)\n",
    "print(cv.best_params_)\n",
    "est = cv.best_estimator_\n",
    "y_pred = est.predict(X_test)\n",
    "calculate_score(y_test, y_pred)"
   ]
  },
  {
   "cell_type": "code",
   "execution_count": 25,
   "metadata": {},
   "outputs": [
    {
     "data": {
      "text/html": [
       "<div>\n",
       "<style scoped>\n",
       "    .dataframe tbody tr th:only-of-type {\n",
       "        vertical-align: middle;\n",
       "    }\n",
       "\n",
       "    .dataframe tbody tr th {\n",
       "        vertical-align: top;\n",
       "    }\n",
       "\n",
       "    .dataframe thead th {\n",
       "        text-align: right;\n",
       "    }\n",
       "</style>\n",
       "<table border=\"1\" class=\"dataframe\">\n",
       "  <thead>\n",
       "    <tr style=\"text-align: right;\">\n",
       "      <th></th>\n",
       "      <th>mean_fit_time</th>\n",
       "      <th>std_fit_time</th>\n",
       "      <th>mean_score_time</th>\n",
       "      <th>std_score_time</th>\n",
       "      <th>param_learning_rate</th>\n",
       "      <th>param_max_leaves</th>\n",
       "      <th>params</th>\n",
       "      <th>split0_test_score</th>\n",
       "      <th>split1_test_score</th>\n",
       "      <th>split2_test_score</th>\n",
       "      <th>split3_test_score</th>\n",
       "      <th>split4_test_score</th>\n",
       "      <th>mean_test_score</th>\n",
       "      <th>std_test_score</th>\n",
       "      <th>rank_test_score</th>\n",
       "    </tr>\n",
       "  </thead>\n",
       "  <tbody>\n",
       "    <tr>\n",
       "      <th>6</th>\n",
       "      <td>6.198277</td>\n",
       "      <td>0.136971</td>\n",
       "      <td>0.024260</td>\n",
       "      <td>0.004974</td>\n",
       "      <td>0.1</td>\n",
       "      <td>40</td>\n",
       "      <td>{'learning_rate': 0.1, 'max_leaves': 40}</td>\n",
       "      <td>0.726160</td>\n",
       "      <td>0.681694</td>\n",
       "      <td>0.668776</td>\n",
       "      <td>0.672603</td>\n",
       "      <td>0.682080</td>\n",
       "      <td>0.686263</td>\n",
       "      <td>0.020604</td>\n",
       "      <td>1</td>\n",
       "    </tr>\n",
       "    <tr>\n",
       "      <th>4</th>\n",
       "      <td>5.986819</td>\n",
       "      <td>0.160551</td>\n",
       "      <td>0.021287</td>\n",
       "      <td>0.006413</td>\n",
       "      <td>0.1</td>\n",
       "      <td>0</td>\n",
       "      <td>{'learning_rate': 0.1, 'max_leaves': 0}</td>\n",
       "      <td>0.738069</td>\n",
       "      <td>0.673877</td>\n",
       "      <td>0.656231</td>\n",
       "      <td>0.670632</td>\n",
       "      <td>0.680111</td>\n",
       "      <td>0.683784</td>\n",
       "      <td>0.028251</td>\n",
       "      <td>2</td>\n",
       "    </tr>\n",
       "    <tr>\n",
       "      <th>2</th>\n",
       "      <td>5.962297</td>\n",
       "      <td>0.101691</td>\n",
       "      <td>0.023294</td>\n",
       "      <td>0.007319</td>\n",
       "      <td>0.05</td>\n",
       "      <td>40</td>\n",
       "      <td>{'learning_rate': 0.05, 'max_leaves': 40}</td>\n",
       "      <td>0.719400</td>\n",
       "      <td>0.670927</td>\n",
       "      <td>0.659615</td>\n",
       "      <td>0.668649</td>\n",
       "      <td>0.682470</td>\n",
       "      <td>0.680212</td>\n",
       "      <td>0.020904</td>\n",
       "      <td>3</td>\n",
       "    </tr>\n",
       "    <tr>\n",
       "      <th>7</th>\n",
       "      <td>5.264090</td>\n",
       "      <td>0.392672</td>\n",
       "      <td>0.013389</td>\n",
       "      <td>0.001161</td>\n",
       "      <td>0.1</td>\n",
       "      <td>60</td>\n",
       "      <td>{'learning_rate': 0.1, 'max_leaves': 60}</td>\n",
       "      <td>0.732256</td>\n",
       "      <td>0.673821</td>\n",
       "      <td>0.662499</td>\n",
       "      <td>0.656165</td>\n",
       "      <td>0.670604</td>\n",
       "      <td>0.679069</td>\n",
       "      <td>0.027303</td>\n",
       "      <td>4</td>\n",
       "    </tr>\n",
       "    <tr>\n",
       "      <th>3</th>\n",
       "      <td>5.945335</td>\n",
       "      <td>0.061285</td>\n",
       "      <td>0.023861</td>\n",
       "      <td>0.003962</td>\n",
       "      <td>0.05</td>\n",
       "      <td>60</td>\n",
       "      <td>{'learning_rate': 0.05, 'max_leaves': 60}</td>\n",
       "      <td>0.738242</td>\n",
       "      <td>0.670791</td>\n",
       "      <td>0.649434</td>\n",
       "      <td>0.660617</td>\n",
       "      <td>0.676158</td>\n",
       "      <td>0.679048</td>\n",
       "      <td>0.030975</td>\n",
       "      <td>5</td>\n",
       "    </tr>\n",
       "    <tr>\n",
       "      <th>0</th>\n",
       "      <td>5.878719</td>\n",
       "      <td>0.052476</td>\n",
       "      <td>0.024477</td>\n",
       "      <td>0.003844</td>\n",
       "      <td>0.05</td>\n",
       "      <td>0</td>\n",
       "      <td>{'learning_rate': 0.05, 'max_leaves': 0}</td>\n",
       "      <td>0.738442</td>\n",
       "      <td>0.665421</td>\n",
       "      <td>0.655055</td>\n",
       "      <td>0.659781</td>\n",
       "      <td>0.664548</td>\n",
       "      <td>0.676650</td>\n",
       "      <td>0.031118</td>\n",
       "      <td>6</td>\n",
       "    </tr>\n",
       "    <tr>\n",
       "      <th>1</th>\n",
       "      <td>4.235926</td>\n",
       "      <td>0.094716</td>\n",
       "      <td>0.018529</td>\n",
       "      <td>0.002851</td>\n",
       "      <td>0.05</td>\n",
       "      <td>20</td>\n",
       "      <td>{'learning_rate': 0.05, 'max_leaves': 20}</td>\n",
       "      <td>0.739455</td>\n",
       "      <td>0.657986</td>\n",
       "      <td>0.658245</td>\n",
       "      <td>0.666722</td>\n",
       "      <td>0.657617</td>\n",
       "      <td>0.676005</td>\n",
       "      <td>0.031907</td>\n",
       "      <td>7</td>\n",
       "    </tr>\n",
       "    <tr>\n",
       "      <th>5</th>\n",
       "      <td>4.507951</td>\n",
       "      <td>0.077094</td>\n",
       "      <td>0.021268</td>\n",
       "      <td>0.002853</td>\n",
       "      <td>0.1</td>\n",
       "      <td>20</td>\n",
       "      <td>{'learning_rate': 0.1, 'max_leaves': 20}</td>\n",
       "      <td>0.734601</td>\n",
       "      <td>0.640113</td>\n",
       "      <td>0.669653</td>\n",
       "      <td>0.676261</td>\n",
       "      <td>0.647450</td>\n",
       "      <td>0.673616</td>\n",
       "      <td>0.033314</td>\n",
       "      <td>8</td>\n",
       "    </tr>\n",
       "  </tbody>\n",
       "</table>\n",
       "</div>"
      ],
      "text/plain": [
       "   mean_fit_time  std_fit_time  mean_score_time  std_score_time  \\\n",
       "6       6.198277      0.136971         0.024260        0.004974   \n",
       "4       5.986819      0.160551         0.021287        0.006413   \n",
       "2       5.962297      0.101691         0.023294        0.007319   \n",
       "7       5.264090      0.392672         0.013389        0.001161   \n",
       "3       5.945335      0.061285         0.023861        0.003962   \n",
       "0       5.878719      0.052476         0.024477        0.003844   \n",
       "1       4.235926      0.094716         0.018529        0.002851   \n",
       "5       4.507951      0.077094         0.021268        0.002853   \n",
       "\n",
       "  param_learning_rate param_max_leaves  \\\n",
       "6                 0.1               40   \n",
       "4                 0.1                0   \n",
       "2                0.05               40   \n",
       "7                 0.1               60   \n",
       "3                0.05               60   \n",
       "0                0.05                0   \n",
       "1                0.05               20   \n",
       "5                 0.1               20   \n",
       "\n",
       "                                      params  split0_test_score  \\\n",
       "6   {'learning_rate': 0.1, 'max_leaves': 40}           0.726160   \n",
       "4    {'learning_rate': 0.1, 'max_leaves': 0}           0.738069   \n",
       "2  {'learning_rate': 0.05, 'max_leaves': 40}           0.719400   \n",
       "7   {'learning_rate': 0.1, 'max_leaves': 60}           0.732256   \n",
       "3  {'learning_rate': 0.05, 'max_leaves': 60}           0.738242   \n",
       "0   {'learning_rate': 0.05, 'max_leaves': 0}           0.738442   \n",
       "1  {'learning_rate': 0.05, 'max_leaves': 20}           0.739455   \n",
       "5   {'learning_rate': 0.1, 'max_leaves': 20}           0.734601   \n",
       "\n",
       "   split1_test_score  split2_test_score  split3_test_score  split4_test_score  \\\n",
       "6           0.681694           0.668776           0.672603           0.682080   \n",
       "4           0.673877           0.656231           0.670632           0.680111   \n",
       "2           0.670927           0.659615           0.668649           0.682470   \n",
       "7           0.673821           0.662499           0.656165           0.670604   \n",
       "3           0.670791           0.649434           0.660617           0.676158   \n",
       "0           0.665421           0.655055           0.659781           0.664548   \n",
       "1           0.657986           0.658245           0.666722           0.657617   \n",
       "5           0.640113           0.669653           0.676261           0.647450   \n",
       "\n",
       "   mean_test_score  std_test_score  rank_test_score  \n",
       "6         0.686263        0.020604                1  \n",
       "4         0.683784        0.028251                2  \n",
       "2         0.680212        0.020904                3  \n",
       "7         0.679069        0.027303                4  \n",
       "3         0.679048        0.030975                5  \n",
       "0         0.676650        0.031118                6  \n",
       "1         0.676005        0.031907                7  \n",
       "5         0.673616        0.033314                8  "
      ]
     },
     "execution_count": 25,
     "metadata": {},
     "output_type": "execute_result"
    }
   ],
   "source": [
    "v = pd.DataFrame(cv.cv_results_)\n",
    "v.sort_values(by='rank_test_score', inplace=True)\n",
    "v.head(10)"
   ]
  },
  {
   "cell_type": "code",
   "execution_count": 26,
   "metadata": {},
   "outputs": [
    {
     "data": {
      "text/html": [
       "<div>\n",
       "<style scoped>\n",
       "    .dataframe tbody tr th:only-of-type {\n",
       "        vertical-align: middle;\n",
       "    }\n",
       "\n",
       "    .dataframe tbody tr th {\n",
       "        vertical-align: top;\n",
       "    }\n",
       "\n",
       "    .dataframe thead th {\n",
       "        text-align: right;\n",
       "    }\n",
       "</style>\n",
       "<table border=\"1\" class=\"dataframe\">\n",
       "  <thead>\n",
       "    <tr style=\"text-align: right;\">\n",
       "      <th></th>\n",
       "      <th>mean_fit_time</th>\n",
       "      <th>std_fit_time</th>\n",
       "      <th>mean_score_time</th>\n",
       "      <th>std_score_time</th>\n",
       "      <th>param_learning_rate</th>\n",
       "      <th>param_max_leaves</th>\n",
       "      <th>params</th>\n",
       "      <th>split0_test_score</th>\n",
       "      <th>split1_test_score</th>\n",
       "      <th>split2_test_score</th>\n",
       "      <th>split3_test_score</th>\n",
       "      <th>split4_test_score</th>\n",
       "      <th>mean_test_score</th>\n",
       "      <th>std_test_score</th>\n",
       "      <th>rank_test_score</th>\n",
       "    </tr>\n",
       "  </thead>\n",
       "  <tbody>\n",
       "    <tr>\n",
       "      <th>4</th>\n",
       "      <td>5.986819</td>\n",
       "      <td>0.160551</td>\n",
       "      <td>0.021287</td>\n",
       "      <td>0.006413</td>\n",
       "      <td>0.1</td>\n",
       "      <td>0</td>\n",
       "      <td>{'learning_rate': 0.1, 'max_leaves': 0}</td>\n",
       "      <td>0.738069</td>\n",
       "      <td>0.673877</td>\n",
       "      <td>0.656231</td>\n",
       "      <td>0.670632</td>\n",
       "      <td>0.680111</td>\n",
       "      <td>0.683784</td>\n",
       "      <td>0.028251</td>\n",
       "      <td>2</td>\n",
       "    </tr>\n",
       "  </tbody>\n",
       "</table>\n",
       "</div>"
      ],
      "text/plain": [
       "   mean_fit_time  std_fit_time  mean_score_time  std_score_time  \\\n",
       "4       5.986819      0.160551         0.021287        0.006413   \n",
       "\n",
       "  param_learning_rate param_max_leaves  \\\n",
       "4                 0.1                0   \n",
       "\n",
       "                                    params  split0_test_score  \\\n",
       "4  {'learning_rate': 0.1, 'max_leaves': 0}           0.738069   \n",
       "\n",
       "   split1_test_score  split2_test_score  split3_test_score  split4_test_score  \\\n",
       "4           0.673877           0.656231           0.670632           0.680111   \n",
       "\n",
       "   mean_test_score  std_test_score  rank_test_score  \n",
       "4         0.683784        0.028251                2  "
      ]
     },
     "execution_count": 26,
     "metadata": {},
     "output_type": "execute_result"
    }
   ],
   "source": [
    "base = v.query('param_max_leaves == 0 & param_learning_rate == 0.1')\n",
    "base"
   ]
  },
  {
   "cell_type": "code",
   "execution_count": 30,
   "metadata": {},
   "outputs": [
    {
     "name": "stdout",
     "output_type": "stream",
     "text": [
      "R2 Score 0.7691028705704575\n",
      "RMSE : 63.58072974754589\n"
     ]
    }
   ],
   "source": [
    "model = xgb.XGBRegressor(**cv.best_params_,).fit(X_train, y_train)\n",
    "y_pred = model.predict(X_test)\n",
    "calculate_score(y_test, y_pred)"
   ]
  }
 ],
 "metadata": {
  "kernelspec": {
   "display_name": "Python 3 (ipykernel)",
   "language": "python",
   "name": "python3"
  },
  "language_info": {
   "codemirror_mode": {
    "name": "ipython",
    "version": 3
   },
   "file_extension": ".py",
   "mimetype": "text/x-python",
   "name": "python",
   "nbconvert_exporter": "python",
   "pygments_lexer": "ipython3",
   "version": "3.10.10"
  }
 },
 "nbformat": 4,
 "nbformat_minor": 2
}
