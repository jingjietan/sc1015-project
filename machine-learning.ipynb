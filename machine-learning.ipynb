{
 "cells": [
  {
   "cell_type": "code",
   "execution_count": 59,
   "metadata": {},
   "outputs": [],
   "source": [
    "random_state = 9999\n",
    "image_output_params = {'width': 1080, 'height': 600, 'scale': 6}\n",
    "render = 'svg' #or None to have interactive plots"
   ]
  },
  {
   "attachments": {},
   "cell_type": "markdown",
   "metadata": {},
   "source": [
    "# Machine-Learning\n",
    "Set-up"
   ]
  },
  {
   "cell_type": "code",
   "execution_count": 60,
   "metadata": {},
   "outputs": [],
   "source": [
    "import numpy as np\n",
    "import pandas as pd\n",
    "import plotly.express as px\n",
    "import plotly.graph_objects as go\n",
    "import plotly.figure_factory as ff\n",
    "import plotly.express as px\n",
    "import plotly.io as pio\n",
    "from plotly.subplots import make_subplots\n",
    "\n",
    "from sklearn.model_selection import train_test_split # Random Split\n",
    "from sklearn.metrics import r2_score, mean_squared_error, explained_variance_score\n",
    "from sklearn.inspection import permutation_importance\n",
    "\n",
    "\n",
    "import warnings\n",
    "warnings.filterwarnings(\"ignore\")"
   ]
  },
  {
   "cell_type": "code",
   "execution_count": 61,
   "metadata": {},
   "outputs": [],
   "source": [
    "df = pd.read_csv('data/clean_listingfinal.csv', index_col=0)\n",
    "# Split data and drop unnecessary data\n",
    "Y = df['price']\n",
    "X = df.drop(['price'], axis=1)\n",
    "X = X.astype('float64')\n",
    "X.head()\n",
    "# Storage\n",
    "result = {'Method':[], 'Train R2':[], 'Train RMSE':[], 'Test R2': [], 'Test RMSE': []}"
   ]
  },
  {
   "cell_type": "code",
   "execution_count": 62,
   "metadata": {},
   "outputs": [
    {
     "data": {
      "text/plain": [
       "'The standard deviation of price of listing is $132.36.'"
      ]
     },
     "execution_count": 62,
     "metadata": {},
     "output_type": "execute_result"
    }
   ],
   "source": [
    "f\"The standard deviation of price of listing is ${df['price'].std():.2f}.\""
   ]
  },
  {
   "cell_type": "code",
   "execution_count": 63,
   "metadata": {},
   "outputs": [],
   "source": [
    "def update_frame(frame: dict, y_train, y_train_pred, y_true, y_pred, method_name):\n",
    "    frame['Method'].append(method_name)\n",
    "    frame['Train R2'].append(r2_score(y_train, y_train_pred))\n",
    "    frame['Train RMSE'].append(np.sqrt(mean_squared_error(y_train, y_train_pred)))\n",
    "    frame['Test R2'].append(r2_score(y_true, y_pred))\n",
    "    frame['Test RMSE'].append(np.sqrt(mean_squared_error(y_true, y_pred)))\n",
    "\n",
    "def plot(y_true, y_pred, title: str, band=True):\n",
    "    \"\"\"Plot predicted value against actual value, with formatting added to figure\n",
    "\n",
    "    Keyword arguments:\n",
    "    y_true: list like, x axis\n",
    "    y_pred: list like, y axis\n",
    "    title: string, added to top-center of figure\n",
    "    band: boolean, If true, add two band lines to the figure with RMSE distance from y=x line\n",
    "    \"\"\"\n",
    "    h = pd.DataFrame(data={'Actual y':y_true, 'Predicted y': y_pred})\n",
    "    \n",
    "    fig = go.Figure()\n",
    "    fig = px.scatter(h, x='Actual y', y='Predicted y', title=title)\n",
    "    fig.add_trace(go.Scatter(x=[0, 600],y=[0, 600],mode=\"lines\",line=go.scatter.Line(color='gray'),showlegend=False)) #Diagonal Line\n",
    "    if band:\n",
    "        RMSE = df['price'].std()\n",
    "        fig.add_traces([\n",
    "            go.Scatter(x=[0, 600],y=[0+RMSE, 600+RMSE],mode='lines',line=go.scatter.Line(dash='dot'),showlegend=False),\n",
    "            go.Scatter(x=[0, 600],y=[0-RMSE, 600-RMSE],mode='lines',line=go.scatter.Line(dash='dot'),showlegend=False)\n",
    "        ])\n",
    "    fig.update_layout(width=700,height=500)\n",
    "        \n",
    "    pio.show(fig)\n",
    "    return fig\n",
    "\n",
    "\n",
    "def simulate(model, XXyy, name: str):\n",
    "    \"\"\"Simulate performance metrics of model using R2 and RMSE and update global result and save plot image\n",
    "\n",
    "    Keyword arguments:\n",
    "    model: Implements Skleanr API and must be fitted\n",
    "    XXyy: output of train_test_split\n",
    "    \"\"\"\n",
    "    # Model must be fitted and implement predict, score methods.\n",
    "    # XXyy: X_train, X_test, y_train, y_test\n",
    "    X_train, X_test, y_train, y_test = XXyy\n",
    "    y_pred = model.predict(X_test)\n",
    "    y_train_pred = model.predict(X_train)\n",
    "\n",
    "    update_frame(result, y_train, y_train_pred, y_test, y_pred, name)\n",
    "\n",
    "    print(\"-\"*30)\n",
    "    print(f\"Train Score: {r2_score(y_train, y_train_pred): .3f}\")\n",
    "    print(f\"Train RMSE: {np.sqrt(mean_squared_error(y_train, y_train_pred)): .3f}\")\n",
    "\n",
    "    print(\"-\"*30)\n",
    "    print(f\"Test Score: {r2_score(y_test, y_pred): .3f}\")\n",
    "    print(f\"Test RMSE: {np.sqrt(mean_squared_error(y_test, y_pred)): .3f}\")\n",
    "    \n",
    "    fig = plot(y_test, y_pred, name)\n",
    "    # fig.write_image(f'images/{name}.png', **image_output_params)\n",
    "\n",
    "\n",
    "def feature_plot(feature_name, feature_score, name: str):\n",
    "    feature_importance = pd.DataFrame({'Feature': feature_name, 'Score': feature_score})\n",
    "    feature_importance.sort_values(by='Score', axis=0, inplace=True, ascending=False)\n",
    "\n",
    "    fig = go.Figure()\n",
    "    fig.add_trace(go.Bar(x=feature_importance.head(15)['Score'], y=feature_importance.head(15)['Feature'], orientation='h'))\n",
    "    fig.update_layout(title={'text': f'{name} Most Relevant Feature'}, xaxis_title='Score', yaxis_title='Feature', height=500, width=700)\n",
    "    pio.show(fig)\n",
    "    # fig.write_image(f'images/{name} Most Relevant Feature.png', **image_output_params)\n",
    "\n",
    "    fig = go.Figure()\n",
    "    fig.add_trace(go.Bar(x=feature_importance.tail(15)['Score'], y=feature_importance.tail(15)['Feature'], orientation='h'))\n",
    "    fig.update_layout(title={'text': f'{name} Least Relevant Feature'}, xaxis_title='Score', yaxis_title='Feature', height=500, width=700)\n",
    "    pio.show(fig)\n",
    "    # fig.write_image(f'images/{name} Least Relevant Feature.png', **image_output_params)"
   ]
  },
  {
   "cell_type": "code",
   "execution_count": 5,
   "metadata": {},
   "outputs": [],
   "source": [
    "# def update_frame(frame: dict, y_train, y_train_pred, y_true, y_pred, method_name):\n",
    "#     frame['Method'].append(method_name)\n",
    "#     frame['Train R2'].append(r2_score(y_train, y_train_pred))\n",
    "#     frame['Train RMSE'].append(np.sqrt(mean_squared_error(y_train, y_train_pred)))\n",
    "#     frame['Test R2'].append(r2_score(y_true, y_pred))\n",
    "#     frame['Test RMSE'].append(np.sqrt(mean_squared_error(y_true, y_pred)))\n",
    "\n",
    "# def plot(y_true, y_pred, title: str, band=True):\n",
    "#     \"\"\"Plot predicted value against actual value, with formatting added to figure\n",
    "\n",
    "#     Keyword arguments:\n",
    "#     y_true: list like, x axis\n",
    "#     y_pred: list like, y axis\n",
    "#     title: string, added to top-center of figure\n",
    "#     band: boolean, If true, add two band lines to the figure with RMSE distance from y=x line\n",
    "#     \"\"\"\n",
    "#     h = pd.DataFrame(data={'Actual y':y_true, 'Predicted y': y_pred})\n",
    "    \n",
    "#     fig = px.scatter(h, x='Actual y', y='Predicted y', title=title)\n",
    "#     fig.add_trace(go.Scatter(x=[0, 600],y=[0, 600],mode=\"lines\",line=go.scatter.Line(color='gray'),showlegend=False)) #Diagonal Line\n",
    "#     if band:\n",
    "#         RMSE = df['price'].std()\n",
    "#         fig.add_traces([\n",
    "#             go.Scatter(x=[0, 600],y=[0+RMSE, 600+RMSE],mode='lines',line=go.scatter.Line(dash='dot'),showlegend=False),\n",
    "#             go.Scatter(x=[0, 600],y=[0-RMSE, 600-RMSE],mode='lines',line=go.scatter.Line(dash='dot'),showlegend=False)\n",
    "#         ])\n",
    "#     fig.show(render)\n",
    "#     return fig\n",
    "\n",
    "# def simulate(model, XXyy, name: str):\n",
    "#     \"\"\"Simulate performance metrics of model using R2 and RMSE and update global result and save plot image\n",
    "\n",
    "#     Keyword arguments:\n",
    "#     model: Implements Skleanr API and must be fitted\n",
    "#     XXyy: output of train_test_split\n",
    "#     \"\"\"\n",
    "#     # Model must be fitted and implement predict, score methods.\n",
    "#     # XXyy: X_train, X_test, y_train, y_test\n",
    "#     X_train, X_test, y_train, y_test = XXyy\n",
    "#     y_pred = model.predict(X_test)\n",
    "#     y_train_pred = model.predict(X_train)\n",
    "\n",
    "#     update_frame(result, y_train, y_train_pred, y_test, y_pred, name)\n",
    "\n",
    "#     print(\"-\"*30)\n",
    "#     print(f\"Train Score: {r2_score(y_train, y_train_pred): .3f}\")\n",
    "#     print(f\"Train RMSE: {np.sqrt(mean_squared_error(y_train, y_train_pred)): .3f}\")\n",
    "\n",
    "#     print(\"-\"*30)\n",
    "#     print(f\"Test Score: {r2_score(y_test, y_pred): .3f}\")\n",
    "#     print(f\"Test RMSE: {np.sqrt(mean_squared_error(y_test, y_pred)): .3f}\")\n",
    "    \n",
    "#     fig = plot(y_test, y_pred, name)\n",
    "#     fig.write_image(f'images/{name}.png', **image_output_params)\n",
    "\n",
    "# def feature_plot(feature_name, feature_score, name: str):\n",
    "#     feature_importance = pd.DataFrame({'Feature': feature_name, 'Score': feature_score})\n",
    "#     feature_importance.sort_values(by='Score', axis=0, inplace=True, ascending=False)\n",
    "\n",
    "#     fig = px.bar(feature_importance.head(20), x='Score', y='Feature', orientation='h')\n",
    "\n",
    "#     fig.update_layout(title={'text': f'{name} Most Relevant Feature'})\n",
    "#     fig.show(render)\n",
    "#     fig.write_image(f'images/{name} Most Relevant Feature.png', **image_output_params)\n",
    "\n",
    "#     fig = px.bar(feature_importance.tail(20), x='Score', y='Feature', orientation='h')\n",
    "#     fig.update_layout(title={'text': f'{name} Least Relevant Feature'})\n",
    "#     fig.show(render)\n",
    "#     fig.write_image(f'images/{name} Least Relevant Feature.png', **image_output_params)\n",
    "        "
   ]
  },
  {
   "attachments": {},
   "cell_type": "markdown",
   "metadata": {},
   "source": [
    "# Part 1:\n",
    "Finding a model that best predicts price. We will being trying :\n",
    "- linear model: Linear Regression\n",
    "- tree-based model: HistGradientBoostRegressor, XGBoost\n",
    "- and to try something new: Neural Network."
   ]
  },
  {
   "attachments": {},
   "cell_type": "markdown",
   "metadata": {},
   "source": [
    "We will be using $R^2$ score to compare the goodness of the model, and RMSE to find the accuracy of the prediction."
   ]
  },
  {
   "cell_type": "markdown",
   "metadata": {
    "collapsed": false
   },
   "source": [
    "### Model 1: Linear Regression"
   ]
  },
  {
   "attachments": {},
   "cell_type": "markdown",
   "metadata": {},
   "source": [
    "We first use linear regression, a method taught for predicting numerical values."
   ]
  },
  {
   "cell_type": "code",
   "execution_count": 64,
   "metadata": {},
   "outputs": [],
   "source": [
    "XXyy = X_train, X_test, y_train, y_test = train_test_split(X, Y, test_size=0.20, random_state=random_state)"
   ]
  },
  {
   "cell_type": "code",
   "execution_count": 67,
   "metadata": {},
   "outputs": [
    {
     "name": "stdout",
     "output_type": "stream",
     "text": [
      "------------------------------\n",
      "Train Score:  0.562\n",
      "Train RMSE:  88.195\n",
      "------------------------------\n",
      "Test Score:  0.579\n",
      "Test RMSE:  83.287\n"
     ]
    },
    {
     "data": {
      "application/vnd.plotly.v1+json": {
       "config": {
        "plotlyServerURL": "https://plot.ly"
       },
       "data": [
        {
         "hovertemplate": "Actual y=%{x}<br>Predicted y=%{y}<extra></extra>",
         "legendgroup": "",
         "marker": {
          "color": "#636efa",
          "symbol": "circle"
         },
         "mode": "markers",
         "name": "",
         "orientation": "v",
         "showlegend": false,
         "type": "scatter",
         "x": [
          100,
          98,
          52,
          160,
          89,
          199,
          420,
          187,
          49,
          79,
          399,
          152,
          400,
          279,
          529,
          100,
          450,
          33,
          49,
          194,
          69,
          100,
          22,
          40,
          386,
          175,
          261,
          59,
          300,
          80,
          63,
          235,
          330,
          79,
          43,
          58,
          50,
          70,
          415,
          204,
          70,
          378,
          44,
          175,
          387,
          260,
          39,
          59,
          50,
          150,
          38,
          448,
          193,
          59,
          109,
          101,
          49,
          130,
          145,
          168,
          50,
          184,
          59,
          133,
          163,
          549,
          60,
          220,
          240,
          70,
          495,
          175,
          179,
          56,
          250,
          399,
          266,
          235,
          114,
          78,
          185,
          470,
          108,
          250,
          81,
          66,
          474,
          130,
          49,
          130,
          49,
          246,
          171,
          230,
          173,
          75,
          180,
          31,
          395,
          400,
          221,
          328,
          45,
          60,
          310,
          65,
          47,
          260,
          85,
          38,
          140,
          399,
          404,
          279,
          65,
          78,
          156,
          55,
          200,
          51,
          328,
          160,
          410,
          39,
          178,
          90,
          300,
          40,
          366,
          140,
          218,
          134,
          373,
          135,
          69,
          188,
          224,
          500,
          250,
          430,
          181,
          60,
          629,
          57,
          95,
          210,
          314,
          195,
          345,
          271,
          90,
          409,
          409,
          349,
          60,
          69,
          140,
          120,
          190,
          103,
          400,
          115,
          134,
          78,
          401,
          80,
          500,
          227,
          39,
          30,
          125,
          228,
          179,
          152,
          165,
          80,
          98,
          315,
          260,
          409,
          399,
          31,
          20,
          70,
          249,
          289,
          470,
          50,
          30,
          250,
          210,
          130,
          331,
          189,
          42,
          148,
          125,
          245,
          85,
          318,
          39,
          229,
          386,
          371,
          24,
          50,
          24,
          456,
          337,
          168,
          65,
          210,
          57,
          110,
          78,
          69,
          50,
          232,
          232,
          189,
          59,
          80,
          27,
          79,
          100,
          80,
          240,
          202,
          482,
          85,
          380,
          206,
          200,
          22,
          113,
          200,
          49,
          59,
          96,
          187,
          394,
          243,
          50,
          99,
          210,
          110,
          404,
          49,
          126,
          49,
          269,
          260,
          181,
          69,
          144,
          120,
          140,
          305,
          180,
          229,
          59,
          105,
          50,
          195,
          140,
          142,
          59,
          223,
          69,
          80,
          270,
          78,
          56,
          151,
          200,
          550,
          276,
          225,
          48,
          137,
          179,
          216,
          222,
          79,
          86,
          430,
          187,
          175,
          208,
          121,
          100,
          59,
          399,
          102,
          46,
          318,
          50,
          196,
          50,
          190,
          173,
          185,
          158,
          320,
          109,
          310,
          49,
          213,
          205,
          116,
          72,
          60,
          47,
          31,
          349,
          463,
          160,
          69,
          301,
          109,
          18,
          226,
          198,
          104,
          40,
          101,
          357,
          400,
          68,
          68,
          575,
          134,
          399,
          173,
          31,
          610,
          284,
          53,
          57,
          55,
          22,
          115,
          517,
          58,
          600,
          85,
          191,
          59,
          55,
          48,
          103,
          219,
          56,
          119,
          127,
          69,
          413,
          137,
          85,
          93,
          117,
          126,
          281,
          38,
          110,
          123,
          508,
          202,
          29,
          290,
          162,
          36,
          225,
          45,
          122,
          414,
          242,
          40,
          70,
          69,
          226,
          38,
          160,
          140,
          98,
          39,
          190,
          59,
          50,
          173,
          204,
          39,
          144,
          89,
          70,
          151,
          184,
          55,
          615,
          188,
          113,
          200,
          75,
          145,
          90,
          52,
          88,
          46,
          85,
          250,
          49,
          42,
          40,
          99,
          246,
          375,
          155,
          69,
          65,
          310,
          130,
          90,
          95,
          162,
          260,
          122,
          324,
          300,
          34,
          190,
          80,
          35,
          144,
          328,
          59,
          59,
          48,
          120,
          209,
          100,
          500,
          40,
          99,
          99,
          156,
          67,
          97,
          150,
          180,
          105,
          188,
          55,
          85,
          110,
          78,
          210,
          155,
          129,
          257,
          145,
          135,
          59,
          140,
          130,
          60,
          211,
          188,
          80,
          219,
          265,
          49,
          56,
          129,
          64,
          93,
          200,
          243,
          168,
          327,
          350,
          39,
          335,
          45,
          193,
          284,
          40,
          404,
          68,
          65,
          39,
          313,
          80,
          53,
          49,
          58,
          126,
          69,
          80,
          110,
          50,
          132,
          80,
          185,
          387,
          27,
          162,
          88,
          153,
          239,
          243,
          99,
          89,
          53,
          131,
          111,
          428,
          150,
          179,
          178,
          295,
          335,
          59,
          33,
          59,
          440,
          142,
          261,
          343,
          188,
          59,
          49,
          109,
          90,
          33,
          80,
          61,
          490,
          69,
          60,
          181,
          66,
          49,
          148,
          429,
          210,
          297,
          500,
          169,
          60,
          90,
          320,
          222,
          136,
          174,
          243
         ],
         "xaxis": "x",
         "y": [
          139.1569389790963,
          91.9790659662432,
          125.24168605211943,
          144.22282576962334,
          53.96192468839243,
          225.53980611713806,
          400.27372922712584,
          143.54544259556275,
          94.87853281678194,
          121.43689811325564,
          315.01657472866134,
          167.53693816456038,
          280.4387412066666,
          260.2056962892568,
          222.7578512323947,
          190.01820938084643,
          458.7421873379503,
          121.841605181824,
          58.030788244958856,
          120.46263737481155,
          64.64712560547264,
          121.15287105324589,
          129.47239830416135,
          78.77794781269498,
          278.51354723461736,
          271.33233868569494,
          277.1320368462458,
          82.28742923236923,
          168.13106634830356,
          61.733848623409855,
          137.2968576019639,
          102.12063467647138,
          173.17722258960976,
          58.95507237111207,
          72.00496201516128,
          162.58256937004347,
          121.42976798811915,
          127.25066246085336,
          160.59363310187544,
          201.3784626432775,
          111.86595958912827,
          376.1723382617183,
          174.74273656674325,
          210.38329029849265,
          359.68004045025145,
          255.29421009735827,
          22.709668719807475,
          27.80213994853669,
          34.74443038427905,
          162.86543914348502,
          90.56680504236144,
          235.2651797739512,
          203.6681931146066,
          25.150746225892476,
          205.16463322168207,
          126.6649091145054,
          72.36738951466404,
          76.16071779204441,
          146.44336991592877,
          227.96034190352995,
          69.46285119491986,
          230.11305087801878,
          116.26908047875497,
          105.13647040083325,
          250.2540739681935,
          333.120528359588,
          48.31191439484425,
          274.4362959902191,
          275.8466908076721,
          165.39817687881876,
          311.89150007177,
          163.17202697018587,
          204.57628297132203,
          24.079880870205436,
          306.137033363976,
          314.32915868291775,
          240.96834947676794,
          261.183296803561,
          138.5455586662598,
          149.63916121926445,
          233.05012815331932,
          403.2910654257015,
          220.0678744359898,
          294.10598427818024,
          160.55013217592315,
          37.13442900935732,
          295.83336193036587,
          185.6111946164992,
          85.22379932197504,
          184.8456297945302,
          53.344941696456075,
          199.65581434404055,
          256.9604397509852,
          222.73547829702918,
          224.16901339276112,
          138.56024278219843,
          162.46288450137473,
          130.66608945051846,
          401.8108058118121,
          264.39183196471913,
          215.61223584272227,
          258.77936419913124,
          117.71375440606391,
          96.92468188479108,
          357.9119200637772,
          106.95934418813374,
          85.45610453241073,
          350.6790066356649,
          208.76970542642522,
          29.37651278403368,
          109.31206211898524,
          318.06394086592206,
          191.52447233952725,
          288.0355512787705,
          91.76345034429872,
          126.2561207018423,
          158.4692803819454,
          161.3510322089925,
          103.02562774096998,
          65.0207778984915,
          371.16211138318556,
          175.12477631757397,
          479.0148729876512,
          81.6123536524803,
          242.06267331436928,
          89.98513300150476,
          279.314013928499,
          106.2605430287113,
          342.7937763297996,
          143.4098213524714,
          200.3663613239933,
          237.26775904329764,
          337.67209269213333,
          300.19405415041626,
          59.69301463075462,
          163.4327773962148,
          228.12898479020905,
          38.12047654245305,
          152.52482954507846,
          381.9274850630402,
          242.1989144165739,
          88.04537581250061,
          311.62984496241575,
          58.03798168811137,
          119.00403416549426,
          145.2230345780211,
          193.75673382053452,
          313.70306563792326,
          292.80488989359515,
          159.81248502438825,
          105.33665811795308,
          355.54967536771244,
          353.73923325535804,
          276.20446947730517,
          75.39237109187707,
          35.935232899444884,
          62.49379669311443,
          35.67159079277971,
          254.80315056631215,
          117.63618272217843,
          340.0895038284042,
          106.98346302908661,
          217.46934456560166,
          197.94745035202618,
          386.32679946316307,
          122.91261947371629,
          331.5985229070169,
          222.35929268796872,
          39.2382936801428,
          -5.759455178668542,
          85.43954526698232,
          227.323336434224,
          273.6763765690812,
          234.86289974604952,
          220.381753143564,
          142.73326077894,
          109.78435943672424,
          402.4407904477199,
          207.65920140892743,
          274.61000960568106,
          275.7130029732731,
          117.04012487397154,
          23.636584673838243,
          138.78108849210727,
          239.20377630171336,
          237.35876761030983,
          411.4297181636721,
          105.49052191252196,
          120.52946706988809,
          216.3327332593104,
          257.525335642708,
          159.0143150897407,
          235.49889887852066,
          111.83220040715058,
          66.27997907552557,
          243.05846549673598,
          164.58018786468827,
          157.82043297283943,
          89.95934681496406,
          272.9696788646713,
          186.02594753032517,
          164.62732422704937,
          288.59589410118167,
          287.42375744508854,
          154.7804338736223,
          46.57759005800376,
          187.2794146281122,
          213.10548355040504,
          272.3889847555288,
          176.62324374090767,
          36.76157897354181,
          299.2018745307349,
          62.87253817798104,
          165.72450214741866,
          125.18047007802002,
          68.43277833881584,
          81.60625366041458,
          292.60880395465597,
          288.19728112832,
          223.66185318865715,
          43.978768515721086,
          121.36252821860367,
          110.42524556496535,
          101.73292027054785,
          123.06676057262536,
          -6.719929183718492,
          300.09837654088835,
          138.7533257185019,
          278.47568610647625,
          229.02424249416774,
          370.03069639248156,
          272.7388844224221,
          206.42279640181795,
          129.78996206189527,
          114.07522930101413,
          230.6262013716065,
          87.35384433302609,
          39.729951045644434,
          52.20868451674902,
          147.19070445447275,
          401.048779134681,
          216.77535482358172,
          80.27265954428054,
          89.58275091002861,
          350.4994877683266,
          238.09061853059353,
          164.09270489738068,
          75.57938288866177,
          77.70243875007013,
          39.43173478852496,
          194.2383377196204,
          224.83612966053877,
          170.37548804482964,
          50.866293109160324,
          302.79540533099737,
          168.72451611680577,
          219.03665864722765,
          225.13119028084583,
          158.374637003259,
          274.42286010522366,
          37.213240772097706,
          226.57469849112886,
          75.20014380099863,
          256.28415370223445,
          127.15162676644651,
          230.68807403347049,
          58.98251433104524,
          226.1808775989965,
          8.75458677427929,
          106.55026301856742,
          342.6760301519903,
          135.04122344887196,
          161.51855627455333,
          193.156842537697,
          109.67557485004858,
          346.82209513475743,
          171.22700364066418,
          93.70633098736508,
          47.901590105527916,
          60.465960776388684,
          182.74428102788656,
          26.207091790285318,
          282.4937107579185,
          114.35774188090957,
          144.95585278712548,
          283.99900990726746,
          147.7108706655106,
          200.91587786814245,
          276.80182395316956,
          161.46659351199267,
          204.4360962907421,
          53.76176143739218,
          326.1528598609026,
          187.00337710720632,
          115.2786555646985,
          257.9669829527661,
          176.51448759403021,
          243.76582572731948,
          170.82926608805784,
          178.7499726919922,
          138.92221768988205,
          251.88921664451888,
          226.37576711276512,
          253.72639846624418,
          124.49691700216691,
          309.8345998011465,
          65.75823178130094,
          336.1500857848224,
          231.07865323076587,
          315.97537394876474,
          82.69844925712127,
          105.20601518904782,
          143.1892069254747,
          129.23846806809775,
          310.49343068951214,
          301.3333364865962,
          114.09573876062274,
          27.80213994853669,
          330.18325147117014,
          209.5388340584385,
          64.10721490029857,
          229.27549214043867,
          221.11154954791263,
          175.6983214620045,
          142.96346538184693,
          140.4985733714329,
          353.8230421619878,
          362.16265383410587,
          64.6340907412028,
          89.0244731010602,
          381.6882266296967,
          226.85740351369685,
          287.46781295871915,
          94.93723145335926,
          120.73321171360826,
          418.3595633653588,
          173.63424110253206,
          51.56145038043765,
          149.43362121950196,
          119.62246841413591,
          120.0325704935665,
          163.89908875280747,
          298.8460871867261,
          138.27719110371385,
          254.84435626939316,
          113.97500394328031,
          75.90431281236746,
          26.120020213467555,
          121.0391720192147,
          36.44491916522017,
          122.71553026975997,
          185.54611282361017,
          189.97020178887283,
          180.01140965566682,
          229.70569820027674,
          27.3918384902412,
          330.4871001307197,
          185.1864728744462,
          133.75916225258513,
          93.0189291227149,
          242.32401240770315,
          76.07753422917337,
          300.46133686821383,
          6.372205121905097,
          73.39206782311616,
          147.03067582672446,
          338.50387016213244,
          132.75522496133402,
          106.12307729198565,
          146.22752738129287,
          187.64318477578666,
          77.90864209373261,
          283.4823436121393,
          60.09053733467583,
          174.40380797468268,
          318.2905496528696,
          209.5562345675061,
          92.24483613598738,
          220.40723983462226,
          142.07983253389804,
          194.4250792182647,
          166.84799443427818,
          260.99277269640584,
          111.83981179900573,
          123.29861521424795,
          18.134931403328515,
          212.34375054379888,
          122.61044143089543,
          89.55775715231378,
          254.51857221082983,
          134.6179761967696,
          29.262946035027046,
          203.94375102563987,
          125.38377382450153,
          299.8045252496362,
          248.89564433800052,
          122.27131450676876,
          73.33634344229277,
          363.9709812060627,
          136.00601307473258,
          115.89492798953552,
          206.73702820160156,
          -3.527107526345013,
          49.1442604823512,
          118.37796501536909,
          34.505309989483024,
          126.4022590389049,
          89.8915128437429,
          164.30806351501434,
          255.76265804265543,
          72.80398101190258,
          57.622995767929844,
          71.32908427483481,
          140.67247512858722,
          293.56009464276565,
          293.46774353355534,
          223.98486757911374,
          45.640256266857165,
          104.11233211703544,
          425.2810136469774,
          85.15333074216812,
          115.62269148874017,
          218.1384631764785,
          253.68948859784294,
          320.5815977772519,
          158.85043297541264,
          278.13119122735134,
          317.18487274244717,
          127.72396853326187,
          217.52054522445192,
          117.30824875357075,
          60.46738896892802,
          255.5608196476324,
          279.64631454821324,
          124.9888654378371,
          103.94854148820212,
          47.18811480683579,
          154.59823659614628,
          266.9365210885701,
          188.29624001048194,
          416.1720960456106,
          42.69109666738199,
          103.67183835459568,
          195.65864255900433,
          104.11108128993243,
          48.66704774150152,
          147.20450299377435,
          213.79671208317973,
          239.13921429817023,
          86.06038572254154,
          190.85069363730796,
          110.85365998663119,
          100.45922492294724,
          181.34679554656876,
          209.10382785709413,
          398.24667517347496,
          125.43946297970865,
          190.978831052276,
          213.9881577254273,
          283.1739464703751,
          164.15186810370253,
          53.50932392147756,
          203.35423531947973,
          132.92562547709662,
          121.04247636936628,
          233.93276081340653,
          228.0724145944117,
          230.3773744914099,
          202.58491486980677,
          344.5421984171551,
          44.557128393850206,
          116.94550720568098,
          188.05594899099034,
          98.7488528392384,
          111.22223028665219,
          321.84150494185394,
          267.9248283447214,
          117.06702064119756,
          344.5973591447462,
          153.4658115309571,
          83.96564399839525,
          336.06635032503414,
          130.2102753362718,
          268.6544156670059,
          347.14524657260995,
          64.92498590515095,
          257.658704682401,
          -4.208480957065845,
          118.05730472826605,
          74.9627840730309,
          344.02216427802034,
          150.42653393303485,
          67.00197136557834,
          70.88465888684935,
          36.231562908280324,
          60.58325047220862,
          84.16668838859445,
          129.29875494443903,
          98.4580413609701,
          60.62467350369856,
          107.63408461706078,
          145.8431468373369,
          214.4995439476641,
          396.9663104042637,
          127.94549181830156,
          117.6184443746682,
          108.81872671983227,
          131.10813922513896,
          201.27356286070324,
          321.08652395273225,
          293.50331714565823,
          60.52108210460811,
          136.44941482253324,
          207.48038900014933,
          285.38494610028977,
          415.3441157439564,
          155.05191612811225,
          297.6400978370731,
          194.13284362136142,
          269.306539596467,
          350.48444932190296,
          23.27537037383646,
          37.260985037613295,
          101.22638621956607,
          378.43386899980214,
          131.57470807496478,
          277.1320368462458,
          347.37055006172886,
          149.8757453094346,
          102.59779344636684,
          46.292042810098806,
          52.10202147845979,
          124.88273107433645,
          90.78890458997394,
          93.71412086739313,
          107.84417528248554,
          166.2576550930532,
          71.42679975129035,
          92.9795061094919,
          246.97235069521176,
          90.14865334797553,
          72.63286223350707,
          261.648119454284,
          379.3678158182272,
          235.78663449005782,
          227.04825467394673,
          151.16761437467687,
          177.38076810458463,
          64.9455845577319,
          172.2074470396202,
          343.7261784557935,
          183.06857011394956,
          212.46150867986253,
          181.28674596156137,
          219.5799078494607
         ],
         "yaxis": "y"
        },
        {
         "line": {
          "color": "gray"
         },
         "mode": "lines",
         "showlegend": false,
         "type": "scatter",
         "x": [
          0,
          600
         ],
         "y": [
          0,
          600
         ]
        },
        {
         "line": {
          "dash": "dot"
         },
         "mode": "lines",
         "showlegend": false,
         "type": "scatter",
         "x": [
          0,
          600
         ],
         "y": [
          132.3645418384225,
          732.3645418384225
         ]
        },
        {
         "line": {
          "dash": "dot"
         },
         "mode": "lines",
         "showlegend": false,
         "type": "scatter",
         "x": [
          0,
          600
         ],
         "y": [
          -132.3645418384225,
          467.6354581615775
         ]
        }
       ],
       "layout": {
        "height": 500,
        "legend": {
         "tracegroupgap": 0
        },
        "template": {
         "data": {
          "bar": [
           {
            "error_x": {
             "color": "#2a3f5f"
            },
            "error_y": {
             "color": "#2a3f5f"
            },
            "marker": {
             "line": {
              "color": "#E5ECF6",
              "width": 0.5
             },
             "pattern": {
              "fillmode": "overlay",
              "size": 10,
              "solidity": 0.2
             }
            },
            "type": "bar"
           }
          ],
          "barpolar": [
           {
            "marker": {
             "line": {
              "color": "#E5ECF6",
              "width": 0.5
             },
             "pattern": {
              "fillmode": "overlay",
              "size": 10,
              "solidity": 0.2
             }
            },
            "type": "barpolar"
           }
          ],
          "carpet": [
           {
            "aaxis": {
             "endlinecolor": "#2a3f5f",
             "gridcolor": "white",
             "linecolor": "white",
             "minorgridcolor": "white",
             "startlinecolor": "#2a3f5f"
            },
            "baxis": {
             "endlinecolor": "#2a3f5f",
             "gridcolor": "white",
             "linecolor": "white",
             "minorgridcolor": "white",
             "startlinecolor": "#2a3f5f"
            },
            "type": "carpet"
           }
          ],
          "choropleth": [
           {
            "colorbar": {
             "outlinewidth": 0,
             "ticks": ""
            },
            "type": "choropleth"
           }
          ],
          "contour": [
           {
            "colorbar": {
             "outlinewidth": 0,
             "ticks": ""
            },
            "colorscale": [
             [
              0,
              "#0d0887"
             ],
             [
              0.1111111111111111,
              "#46039f"
             ],
             [
              0.2222222222222222,
              "#7201a8"
             ],
             [
              0.3333333333333333,
              "#9c179e"
             ],
             [
              0.4444444444444444,
              "#bd3786"
             ],
             [
              0.5555555555555556,
              "#d8576b"
             ],
             [
              0.6666666666666666,
              "#ed7953"
             ],
             [
              0.7777777777777778,
              "#fb9f3a"
             ],
             [
              0.8888888888888888,
              "#fdca26"
             ],
             [
              1,
              "#f0f921"
             ]
            ],
            "type": "contour"
           }
          ],
          "contourcarpet": [
           {
            "colorbar": {
             "outlinewidth": 0,
             "ticks": ""
            },
            "type": "contourcarpet"
           }
          ],
          "heatmap": [
           {
            "colorbar": {
             "outlinewidth": 0,
             "ticks": ""
            },
            "colorscale": [
             [
              0,
              "#0d0887"
             ],
             [
              0.1111111111111111,
              "#46039f"
             ],
             [
              0.2222222222222222,
              "#7201a8"
             ],
             [
              0.3333333333333333,
              "#9c179e"
             ],
             [
              0.4444444444444444,
              "#bd3786"
             ],
             [
              0.5555555555555556,
              "#d8576b"
             ],
             [
              0.6666666666666666,
              "#ed7953"
             ],
             [
              0.7777777777777778,
              "#fb9f3a"
             ],
             [
              0.8888888888888888,
              "#fdca26"
             ],
             [
              1,
              "#f0f921"
             ]
            ],
            "type": "heatmap"
           }
          ],
          "heatmapgl": [
           {
            "colorbar": {
             "outlinewidth": 0,
             "ticks": ""
            },
            "colorscale": [
             [
              0,
              "#0d0887"
             ],
             [
              0.1111111111111111,
              "#46039f"
             ],
             [
              0.2222222222222222,
              "#7201a8"
             ],
             [
              0.3333333333333333,
              "#9c179e"
             ],
             [
              0.4444444444444444,
              "#bd3786"
             ],
             [
              0.5555555555555556,
              "#d8576b"
             ],
             [
              0.6666666666666666,
              "#ed7953"
             ],
             [
              0.7777777777777778,
              "#fb9f3a"
             ],
             [
              0.8888888888888888,
              "#fdca26"
             ],
             [
              1,
              "#f0f921"
             ]
            ],
            "type": "heatmapgl"
           }
          ],
          "histogram": [
           {
            "marker": {
             "pattern": {
              "fillmode": "overlay",
              "size": 10,
              "solidity": 0.2
             }
            },
            "type": "histogram"
           }
          ],
          "histogram2d": [
           {
            "colorbar": {
             "outlinewidth": 0,
             "ticks": ""
            },
            "colorscale": [
             [
              0,
              "#0d0887"
             ],
             [
              0.1111111111111111,
              "#46039f"
             ],
             [
              0.2222222222222222,
              "#7201a8"
             ],
             [
              0.3333333333333333,
              "#9c179e"
             ],
             [
              0.4444444444444444,
              "#bd3786"
             ],
             [
              0.5555555555555556,
              "#d8576b"
             ],
             [
              0.6666666666666666,
              "#ed7953"
             ],
             [
              0.7777777777777778,
              "#fb9f3a"
             ],
             [
              0.8888888888888888,
              "#fdca26"
             ],
             [
              1,
              "#f0f921"
             ]
            ],
            "type": "histogram2d"
           }
          ],
          "histogram2dcontour": [
           {
            "colorbar": {
             "outlinewidth": 0,
             "ticks": ""
            },
            "colorscale": [
             [
              0,
              "#0d0887"
             ],
             [
              0.1111111111111111,
              "#46039f"
             ],
             [
              0.2222222222222222,
              "#7201a8"
             ],
             [
              0.3333333333333333,
              "#9c179e"
             ],
             [
              0.4444444444444444,
              "#bd3786"
             ],
             [
              0.5555555555555556,
              "#d8576b"
             ],
             [
              0.6666666666666666,
              "#ed7953"
             ],
             [
              0.7777777777777778,
              "#fb9f3a"
             ],
             [
              0.8888888888888888,
              "#fdca26"
             ],
             [
              1,
              "#f0f921"
             ]
            ],
            "type": "histogram2dcontour"
           }
          ],
          "mesh3d": [
           {
            "colorbar": {
             "outlinewidth": 0,
             "ticks": ""
            },
            "type": "mesh3d"
           }
          ],
          "parcoords": [
           {
            "line": {
             "colorbar": {
              "outlinewidth": 0,
              "ticks": ""
             }
            },
            "type": "parcoords"
           }
          ],
          "pie": [
           {
            "automargin": true,
            "type": "pie"
           }
          ],
          "scatter": [
           {
            "fillpattern": {
             "fillmode": "overlay",
             "size": 10,
             "solidity": 0.2
            },
            "type": "scatter"
           }
          ],
          "scatter3d": [
           {
            "line": {
             "colorbar": {
              "outlinewidth": 0,
              "ticks": ""
             }
            },
            "marker": {
             "colorbar": {
              "outlinewidth": 0,
              "ticks": ""
             }
            },
            "type": "scatter3d"
           }
          ],
          "scattercarpet": [
           {
            "marker": {
             "colorbar": {
              "outlinewidth": 0,
              "ticks": ""
             }
            },
            "type": "scattercarpet"
           }
          ],
          "scattergeo": [
           {
            "marker": {
             "colorbar": {
              "outlinewidth": 0,
              "ticks": ""
             }
            },
            "type": "scattergeo"
           }
          ],
          "scattergl": [
           {
            "marker": {
             "colorbar": {
              "outlinewidth": 0,
              "ticks": ""
             }
            },
            "type": "scattergl"
           }
          ],
          "scattermapbox": [
           {
            "marker": {
             "colorbar": {
              "outlinewidth": 0,
              "ticks": ""
             }
            },
            "type": "scattermapbox"
           }
          ],
          "scatterpolar": [
           {
            "marker": {
             "colorbar": {
              "outlinewidth": 0,
              "ticks": ""
             }
            },
            "type": "scatterpolar"
           }
          ],
          "scatterpolargl": [
           {
            "marker": {
             "colorbar": {
              "outlinewidth": 0,
              "ticks": ""
             }
            },
            "type": "scatterpolargl"
           }
          ],
          "scatterternary": [
           {
            "marker": {
             "colorbar": {
              "outlinewidth": 0,
              "ticks": ""
             }
            },
            "type": "scatterternary"
           }
          ],
          "surface": [
           {
            "colorbar": {
             "outlinewidth": 0,
             "ticks": ""
            },
            "colorscale": [
             [
              0,
              "#0d0887"
             ],
             [
              0.1111111111111111,
              "#46039f"
             ],
             [
              0.2222222222222222,
              "#7201a8"
             ],
             [
              0.3333333333333333,
              "#9c179e"
             ],
             [
              0.4444444444444444,
              "#bd3786"
             ],
             [
              0.5555555555555556,
              "#d8576b"
             ],
             [
              0.6666666666666666,
              "#ed7953"
             ],
             [
              0.7777777777777778,
              "#fb9f3a"
             ],
             [
              0.8888888888888888,
              "#fdca26"
             ],
             [
              1,
              "#f0f921"
             ]
            ],
            "type": "surface"
           }
          ],
          "table": [
           {
            "cells": {
             "fill": {
              "color": "#EBF0F8"
             },
             "line": {
              "color": "white"
             }
            },
            "header": {
             "fill": {
              "color": "#C8D4E3"
             },
             "line": {
              "color": "white"
             }
            },
            "type": "table"
           }
          ]
         },
         "layout": {
          "annotationdefaults": {
           "arrowcolor": "#2a3f5f",
           "arrowhead": 0,
           "arrowwidth": 1
          },
          "autotypenumbers": "strict",
          "coloraxis": {
           "colorbar": {
            "outlinewidth": 0,
            "ticks": ""
           }
          },
          "colorscale": {
           "diverging": [
            [
             0,
             "#8e0152"
            ],
            [
             0.1,
             "#c51b7d"
            ],
            [
             0.2,
             "#de77ae"
            ],
            [
             0.3,
             "#f1b6da"
            ],
            [
             0.4,
             "#fde0ef"
            ],
            [
             0.5,
             "#f7f7f7"
            ],
            [
             0.6,
             "#e6f5d0"
            ],
            [
             0.7,
             "#b8e186"
            ],
            [
             0.8,
             "#7fbc41"
            ],
            [
             0.9,
             "#4d9221"
            ],
            [
             1,
             "#276419"
            ]
           ],
           "sequential": [
            [
             0,
             "#0d0887"
            ],
            [
             0.1111111111111111,
             "#46039f"
            ],
            [
             0.2222222222222222,
             "#7201a8"
            ],
            [
             0.3333333333333333,
             "#9c179e"
            ],
            [
             0.4444444444444444,
             "#bd3786"
            ],
            [
             0.5555555555555556,
             "#d8576b"
            ],
            [
             0.6666666666666666,
             "#ed7953"
            ],
            [
             0.7777777777777778,
             "#fb9f3a"
            ],
            [
             0.8888888888888888,
             "#fdca26"
            ],
            [
             1,
             "#f0f921"
            ]
           ],
           "sequentialminus": [
            [
             0,
             "#0d0887"
            ],
            [
             0.1111111111111111,
             "#46039f"
            ],
            [
             0.2222222222222222,
             "#7201a8"
            ],
            [
             0.3333333333333333,
             "#9c179e"
            ],
            [
             0.4444444444444444,
             "#bd3786"
            ],
            [
             0.5555555555555556,
             "#d8576b"
            ],
            [
             0.6666666666666666,
             "#ed7953"
            ],
            [
             0.7777777777777778,
             "#fb9f3a"
            ],
            [
             0.8888888888888888,
             "#fdca26"
            ],
            [
             1,
             "#f0f921"
            ]
           ]
          },
          "colorway": [
           "#636efa",
           "#EF553B",
           "#00cc96",
           "#ab63fa",
           "#FFA15A",
           "#19d3f3",
           "#FF6692",
           "#B6E880",
           "#FF97FF",
           "#FECB52"
          ],
          "font": {
           "color": "#2a3f5f"
          },
          "geo": {
           "bgcolor": "white",
           "lakecolor": "white",
           "landcolor": "#E5ECF6",
           "showlakes": true,
           "showland": true,
           "subunitcolor": "white"
          },
          "hoverlabel": {
           "align": "left"
          },
          "hovermode": "closest",
          "mapbox": {
           "style": "light"
          },
          "paper_bgcolor": "white",
          "plot_bgcolor": "#E5ECF6",
          "polar": {
           "angularaxis": {
            "gridcolor": "white",
            "linecolor": "white",
            "ticks": ""
           },
           "bgcolor": "#E5ECF6",
           "radialaxis": {
            "gridcolor": "white",
            "linecolor": "white",
            "ticks": ""
           }
          },
          "scene": {
           "xaxis": {
            "backgroundcolor": "#E5ECF6",
            "gridcolor": "white",
            "gridwidth": 2,
            "linecolor": "white",
            "showbackground": true,
            "ticks": "",
            "zerolinecolor": "white"
           },
           "yaxis": {
            "backgroundcolor": "#E5ECF6",
            "gridcolor": "white",
            "gridwidth": 2,
            "linecolor": "white",
            "showbackground": true,
            "ticks": "",
            "zerolinecolor": "white"
           },
           "zaxis": {
            "backgroundcolor": "#E5ECF6",
            "gridcolor": "white",
            "gridwidth": 2,
            "linecolor": "white",
            "showbackground": true,
            "ticks": "",
            "zerolinecolor": "white"
           }
          },
          "shapedefaults": {
           "line": {
            "color": "#2a3f5f"
           }
          },
          "ternary": {
           "aaxis": {
            "gridcolor": "white",
            "linecolor": "white",
            "ticks": ""
           },
           "baxis": {
            "gridcolor": "white",
            "linecolor": "white",
            "ticks": ""
           },
           "bgcolor": "#E5ECF6",
           "caxis": {
            "gridcolor": "white",
            "linecolor": "white",
            "ticks": ""
           }
          },
          "title": {
           "x": 0.05
          },
          "xaxis": {
           "automargin": true,
           "gridcolor": "white",
           "linecolor": "white",
           "ticks": "",
           "title": {
            "standoff": 15
           },
           "zerolinecolor": "white",
           "zerolinewidth": 2
          },
          "yaxis": {
           "automargin": true,
           "gridcolor": "white",
           "linecolor": "white",
           "ticks": "",
           "title": {
            "standoff": 15
           },
           "zerolinecolor": "white",
           "zerolinewidth": 2
          }
         }
        },
        "title": {
         "text": "Linear Regression"
        },
        "width": 700,
        "xaxis": {
         "anchor": "y",
         "domain": [
          0,
          1
         ],
         "title": {
          "text": "Actual y"
         }
        },
        "yaxis": {
         "anchor": "x",
         "domain": [
          0,
          1
         ],
         "title": {
          "text": "Predicted y"
         }
        }
       }
      }
     },
     "metadata": {},
     "output_type": "display_data"
    },
    {
     "data": {
      "application/vnd.plotly.v1+json": {
       "config": {
        "plotlyServerURL": "https://plot.ly"
       },
       "data": [
        {
         "orientation": "h",
         "type": "bar",
         "x": [
          71.74873,
          39.52878,
          39.28645,
          36.7276,
          33.28629,
          33.05685,
          29.34722,
          25.47959,
          24.69089,
          20.43548,
          19.97493,
          19.12819,
          19.00677,
          15.29729,
          13.8201
         ],
         "y": [
          "room_type_Entire home/apt",
          "Shower gel",
          "Cleaning available during stay",
          "host_response_rate",
          "property_type_Hotel",
          "distance_from_Bus",
          "bedrooms",
          "Bathtub",
          "Crib",
          "distance_from_MRT",
          "BBQ grill",
          "Hair dryer",
          "Gym",
          "Dedicated workspace",
          "Smoke alarm"
         ]
        }
       ],
       "layout": {
        "height": 500,
        "template": {
         "data": {
          "bar": [
           {
            "error_x": {
             "color": "#2a3f5f"
            },
            "error_y": {
             "color": "#2a3f5f"
            },
            "marker": {
             "line": {
              "color": "#E5ECF6",
              "width": 0.5
             },
             "pattern": {
              "fillmode": "overlay",
              "size": 10,
              "solidity": 0.2
             }
            },
            "type": "bar"
           }
          ],
          "barpolar": [
           {
            "marker": {
             "line": {
              "color": "#E5ECF6",
              "width": 0.5
             },
             "pattern": {
              "fillmode": "overlay",
              "size": 10,
              "solidity": 0.2
             }
            },
            "type": "barpolar"
           }
          ],
          "carpet": [
           {
            "aaxis": {
             "endlinecolor": "#2a3f5f",
             "gridcolor": "white",
             "linecolor": "white",
             "minorgridcolor": "white",
             "startlinecolor": "#2a3f5f"
            },
            "baxis": {
             "endlinecolor": "#2a3f5f",
             "gridcolor": "white",
             "linecolor": "white",
             "minorgridcolor": "white",
             "startlinecolor": "#2a3f5f"
            },
            "type": "carpet"
           }
          ],
          "choropleth": [
           {
            "colorbar": {
             "outlinewidth": 0,
             "ticks": ""
            },
            "type": "choropleth"
           }
          ],
          "contour": [
           {
            "colorbar": {
             "outlinewidth": 0,
             "ticks": ""
            },
            "colorscale": [
             [
              0,
              "#0d0887"
             ],
             [
              0.1111111111111111,
              "#46039f"
             ],
             [
              0.2222222222222222,
              "#7201a8"
             ],
             [
              0.3333333333333333,
              "#9c179e"
             ],
             [
              0.4444444444444444,
              "#bd3786"
             ],
             [
              0.5555555555555556,
              "#d8576b"
             ],
             [
              0.6666666666666666,
              "#ed7953"
             ],
             [
              0.7777777777777778,
              "#fb9f3a"
             ],
             [
              0.8888888888888888,
              "#fdca26"
             ],
             [
              1,
              "#f0f921"
             ]
            ],
            "type": "contour"
           }
          ],
          "contourcarpet": [
           {
            "colorbar": {
             "outlinewidth": 0,
             "ticks": ""
            },
            "type": "contourcarpet"
           }
          ],
          "heatmap": [
           {
            "colorbar": {
             "outlinewidth": 0,
             "ticks": ""
            },
            "colorscale": [
             [
              0,
              "#0d0887"
             ],
             [
              0.1111111111111111,
              "#46039f"
             ],
             [
              0.2222222222222222,
              "#7201a8"
             ],
             [
              0.3333333333333333,
              "#9c179e"
             ],
             [
              0.4444444444444444,
              "#bd3786"
             ],
             [
              0.5555555555555556,
              "#d8576b"
             ],
             [
              0.6666666666666666,
              "#ed7953"
             ],
             [
              0.7777777777777778,
              "#fb9f3a"
             ],
             [
              0.8888888888888888,
              "#fdca26"
             ],
             [
              1,
              "#f0f921"
             ]
            ],
            "type": "heatmap"
           }
          ],
          "heatmapgl": [
           {
            "colorbar": {
             "outlinewidth": 0,
             "ticks": ""
            },
            "colorscale": [
             [
              0,
              "#0d0887"
             ],
             [
              0.1111111111111111,
              "#46039f"
             ],
             [
              0.2222222222222222,
              "#7201a8"
             ],
             [
              0.3333333333333333,
              "#9c179e"
             ],
             [
              0.4444444444444444,
              "#bd3786"
             ],
             [
              0.5555555555555556,
              "#d8576b"
             ],
             [
              0.6666666666666666,
              "#ed7953"
             ],
             [
              0.7777777777777778,
              "#fb9f3a"
             ],
             [
              0.8888888888888888,
              "#fdca26"
             ],
             [
              1,
              "#f0f921"
             ]
            ],
            "type": "heatmapgl"
           }
          ],
          "histogram": [
           {
            "marker": {
             "pattern": {
              "fillmode": "overlay",
              "size": 10,
              "solidity": 0.2
             }
            },
            "type": "histogram"
           }
          ],
          "histogram2d": [
           {
            "colorbar": {
             "outlinewidth": 0,
             "ticks": ""
            },
            "colorscale": [
             [
              0,
              "#0d0887"
             ],
             [
              0.1111111111111111,
              "#46039f"
             ],
             [
              0.2222222222222222,
              "#7201a8"
             ],
             [
              0.3333333333333333,
              "#9c179e"
             ],
             [
              0.4444444444444444,
              "#bd3786"
             ],
             [
              0.5555555555555556,
              "#d8576b"
             ],
             [
              0.6666666666666666,
              "#ed7953"
             ],
             [
              0.7777777777777778,
              "#fb9f3a"
             ],
             [
              0.8888888888888888,
              "#fdca26"
             ],
             [
              1,
              "#f0f921"
             ]
            ],
            "type": "histogram2d"
           }
          ],
          "histogram2dcontour": [
           {
            "colorbar": {
             "outlinewidth": 0,
             "ticks": ""
            },
            "colorscale": [
             [
              0,
              "#0d0887"
             ],
             [
              0.1111111111111111,
              "#46039f"
             ],
             [
              0.2222222222222222,
              "#7201a8"
             ],
             [
              0.3333333333333333,
              "#9c179e"
             ],
             [
              0.4444444444444444,
              "#bd3786"
             ],
             [
              0.5555555555555556,
              "#d8576b"
             ],
             [
              0.6666666666666666,
              "#ed7953"
             ],
             [
              0.7777777777777778,
              "#fb9f3a"
             ],
             [
              0.8888888888888888,
              "#fdca26"
             ],
             [
              1,
              "#f0f921"
             ]
            ],
            "type": "histogram2dcontour"
           }
          ],
          "mesh3d": [
           {
            "colorbar": {
             "outlinewidth": 0,
             "ticks": ""
            },
            "type": "mesh3d"
           }
          ],
          "parcoords": [
           {
            "line": {
             "colorbar": {
              "outlinewidth": 0,
              "ticks": ""
             }
            },
            "type": "parcoords"
           }
          ],
          "pie": [
           {
            "automargin": true,
            "type": "pie"
           }
          ],
          "scatter": [
           {
            "fillpattern": {
             "fillmode": "overlay",
             "size": 10,
             "solidity": 0.2
            },
            "type": "scatter"
           }
          ],
          "scatter3d": [
           {
            "line": {
             "colorbar": {
              "outlinewidth": 0,
              "ticks": ""
             }
            },
            "marker": {
             "colorbar": {
              "outlinewidth": 0,
              "ticks": ""
             }
            },
            "type": "scatter3d"
           }
          ],
          "scattercarpet": [
           {
            "marker": {
             "colorbar": {
              "outlinewidth": 0,
              "ticks": ""
             }
            },
            "type": "scattercarpet"
           }
          ],
          "scattergeo": [
           {
            "marker": {
             "colorbar": {
              "outlinewidth": 0,
              "ticks": ""
             }
            },
            "type": "scattergeo"
           }
          ],
          "scattergl": [
           {
            "marker": {
             "colorbar": {
              "outlinewidth": 0,
              "ticks": ""
             }
            },
            "type": "scattergl"
           }
          ],
          "scattermapbox": [
           {
            "marker": {
             "colorbar": {
              "outlinewidth": 0,
              "ticks": ""
             }
            },
            "type": "scattermapbox"
           }
          ],
          "scatterpolar": [
           {
            "marker": {
             "colorbar": {
              "outlinewidth": 0,
              "ticks": ""
             }
            },
            "type": "scatterpolar"
           }
          ],
          "scatterpolargl": [
           {
            "marker": {
             "colorbar": {
              "outlinewidth": 0,
              "ticks": ""
             }
            },
            "type": "scatterpolargl"
           }
          ],
          "scatterternary": [
           {
            "marker": {
             "colorbar": {
              "outlinewidth": 0,
              "ticks": ""
             }
            },
            "type": "scatterternary"
           }
          ],
          "surface": [
           {
            "colorbar": {
             "outlinewidth": 0,
             "ticks": ""
            },
            "colorscale": [
             [
              0,
              "#0d0887"
             ],
             [
              0.1111111111111111,
              "#46039f"
             ],
             [
              0.2222222222222222,
              "#7201a8"
             ],
             [
              0.3333333333333333,
              "#9c179e"
             ],
             [
              0.4444444444444444,
              "#bd3786"
             ],
             [
              0.5555555555555556,
              "#d8576b"
             ],
             [
              0.6666666666666666,
              "#ed7953"
             ],
             [
              0.7777777777777778,
              "#fb9f3a"
             ],
             [
              0.8888888888888888,
              "#fdca26"
             ],
             [
              1,
              "#f0f921"
             ]
            ],
            "type": "surface"
           }
          ],
          "table": [
           {
            "cells": {
             "fill": {
              "color": "#EBF0F8"
             },
             "line": {
              "color": "white"
             }
            },
            "header": {
             "fill": {
              "color": "#C8D4E3"
             },
             "line": {
              "color": "white"
             }
            },
            "type": "table"
           }
          ]
         },
         "layout": {
          "annotationdefaults": {
           "arrowcolor": "#2a3f5f",
           "arrowhead": 0,
           "arrowwidth": 1
          },
          "autotypenumbers": "strict",
          "coloraxis": {
           "colorbar": {
            "outlinewidth": 0,
            "ticks": ""
           }
          },
          "colorscale": {
           "diverging": [
            [
             0,
             "#8e0152"
            ],
            [
             0.1,
             "#c51b7d"
            ],
            [
             0.2,
             "#de77ae"
            ],
            [
             0.3,
             "#f1b6da"
            ],
            [
             0.4,
             "#fde0ef"
            ],
            [
             0.5,
             "#f7f7f7"
            ],
            [
             0.6,
             "#e6f5d0"
            ],
            [
             0.7,
             "#b8e186"
            ],
            [
             0.8,
             "#7fbc41"
            ],
            [
             0.9,
             "#4d9221"
            ],
            [
             1,
             "#276419"
            ]
           ],
           "sequential": [
            [
             0,
             "#0d0887"
            ],
            [
             0.1111111111111111,
             "#46039f"
            ],
            [
             0.2222222222222222,
             "#7201a8"
            ],
            [
             0.3333333333333333,
             "#9c179e"
            ],
            [
             0.4444444444444444,
             "#bd3786"
            ],
            [
             0.5555555555555556,
             "#d8576b"
            ],
            [
             0.6666666666666666,
             "#ed7953"
            ],
            [
             0.7777777777777778,
             "#fb9f3a"
            ],
            [
             0.8888888888888888,
             "#fdca26"
            ],
            [
             1,
             "#f0f921"
            ]
           ],
           "sequentialminus": [
            [
             0,
             "#0d0887"
            ],
            [
             0.1111111111111111,
             "#46039f"
            ],
            [
             0.2222222222222222,
             "#7201a8"
            ],
            [
             0.3333333333333333,
             "#9c179e"
            ],
            [
             0.4444444444444444,
             "#bd3786"
            ],
            [
             0.5555555555555556,
             "#d8576b"
            ],
            [
             0.6666666666666666,
             "#ed7953"
            ],
            [
             0.7777777777777778,
             "#fb9f3a"
            ],
            [
             0.8888888888888888,
             "#fdca26"
            ],
            [
             1,
             "#f0f921"
            ]
           ]
          },
          "colorway": [
           "#636efa",
           "#EF553B",
           "#00cc96",
           "#ab63fa",
           "#FFA15A",
           "#19d3f3",
           "#FF6692",
           "#B6E880",
           "#FF97FF",
           "#FECB52"
          ],
          "font": {
           "color": "#2a3f5f"
          },
          "geo": {
           "bgcolor": "white",
           "lakecolor": "white",
           "landcolor": "#E5ECF6",
           "showlakes": true,
           "showland": true,
           "subunitcolor": "white"
          },
          "hoverlabel": {
           "align": "left"
          },
          "hovermode": "closest",
          "mapbox": {
           "style": "light"
          },
          "paper_bgcolor": "white",
          "plot_bgcolor": "#E5ECF6",
          "polar": {
           "angularaxis": {
            "gridcolor": "white",
            "linecolor": "white",
            "ticks": ""
           },
           "bgcolor": "#E5ECF6",
           "radialaxis": {
            "gridcolor": "white",
            "linecolor": "white",
            "ticks": ""
           }
          },
          "scene": {
           "xaxis": {
            "backgroundcolor": "#E5ECF6",
            "gridcolor": "white",
            "gridwidth": 2,
            "linecolor": "white",
            "showbackground": true,
            "ticks": "",
            "zerolinecolor": "white"
           },
           "yaxis": {
            "backgroundcolor": "#E5ECF6",
            "gridcolor": "white",
            "gridwidth": 2,
            "linecolor": "white",
            "showbackground": true,
            "ticks": "",
            "zerolinecolor": "white"
           },
           "zaxis": {
            "backgroundcolor": "#E5ECF6",
            "gridcolor": "white",
            "gridwidth": 2,
            "linecolor": "white",
            "showbackground": true,
            "ticks": "",
            "zerolinecolor": "white"
           }
          },
          "shapedefaults": {
           "line": {
            "color": "#2a3f5f"
           }
          },
          "ternary": {
           "aaxis": {
            "gridcolor": "white",
            "linecolor": "white",
            "ticks": ""
           },
           "baxis": {
            "gridcolor": "white",
            "linecolor": "white",
            "ticks": ""
           },
           "bgcolor": "#E5ECF6",
           "caxis": {
            "gridcolor": "white",
            "linecolor": "white",
            "ticks": ""
           }
          },
          "title": {
           "x": 0.05
          },
          "xaxis": {
           "automargin": true,
           "gridcolor": "white",
           "linecolor": "white",
           "ticks": "",
           "title": {
            "standoff": 15
           },
           "zerolinecolor": "white",
           "zerolinewidth": 2
          },
          "yaxis": {
           "automargin": true,
           "gridcolor": "white",
           "linecolor": "white",
           "ticks": "",
           "title": {
            "standoff": 15
           },
           "zerolinecolor": "white",
           "zerolinewidth": 2
          }
         }
        },
        "title": {
         "text": "Linear Regression Most Relevant Feature"
        },
        "width": 700,
        "xaxis": {
         "title": {
          "text": "Score"
         }
        },
        "yaxis": {
         "title": {
          "text": "Feature"
         }
        }
       }
      }
     },
     "metadata": {},
     "output_type": "display_data"
    },
    {
     "data": {
      "application/vnd.plotly.v1+json": {
       "config": {
        "plotlyServerURL": "https://plot.ly"
       },
       "data": [
        {
         "orientation": "h",
         "type": "bar",
         "x": [
          -6.36485,
          -6.77991,
          -6.80016,
          -8.26584,
          -9.06128,
          -10.00675,
          -12.83475,
          -13.91724,
          -18.39206,
          -22.01549,
          -22.69024,
          -24.64079,
          -26.00316,
          -37.25923,
          -59.01032
         ],
         "y": [
          "Fire extinguisher",
          "beds",
          "distance_from_School",
          "Refrigerator",
          "Bed linens",
          "Cooking basics",
          "distanceCluster",
          "property_type_House",
          "Lock on bedroom door",
          "Keypad",
          "Single level home",
          "room_type_Hotel room",
          "property_type_Apartment",
          "distance_from_Food",
          "room_type_Shared room"
         ]
        }
       ],
       "layout": {
        "height": 500,
        "template": {
         "data": {
          "bar": [
           {
            "error_x": {
             "color": "#2a3f5f"
            },
            "error_y": {
             "color": "#2a3f5f"
            },
            "marker": {
             "line": {
              "color": "#E5ECF6",
              "width": 0.5
             },
             "pattern": {
              "fillmode": "overlay",
              "size": 10,
              "solidity": 0.2
             }
            },
            "type": "bar"
           }
          ],
          "barpolar": [
           {
            "marker": {
             "line": {
              "color": "#E5ECF6",
              "width": 0.5
             },
             "pattern": {
              "fillmode": "overlay",
              "size": 10,
              "solidity": 0.2
             }
            },
            "type": "barpolar"
           }
          ],
          "carpet": [
           {
            "aaxis": {
             "endlinecolor": "#2a3f5f",
             "gridcolor": "white",
             "linecolor": "white",
             "minorgridcolor": "white",
             "startlinecolor": "#2a3f5f"
            },
            "baxis": {
             "endlinecolor": "#2a3f5f",
             "gridcolor": "white",
             "linecolor": "white",
             "minorgridcolor": "white",
             "startlinecolor": "#2a3f5f"
            },
            "type": "carpet"
           }
          ],
          "choropleth": [
           {
            "colorbar": {
             "outlinewidth": 0,
             "ticks": ""
            },
            "type": "choropleth"
           }
          ],
          "contour": [
           {
            "colorbar": {
             "outlinewidth": 0,
             "ticks": ""
            },
            "colorscale": [
             [
              0,
              "#0d0887"
             ],
             [
              0.1111111111111111,
              "#46039f"
             ],
             [
              0.2222222222222222,
              "#7201a8"
             ],
             [
              0.3333333333333333,
              "#9c179e"
             ],
             [
              0.4444444444444444,
              "#bd3786"
             ],
             [
              0.5555555555555556,
              "#d8576b"
             ],
             [
              0.6666666666666666,
              "#ed7953"
             ],
             [
              0.7777777777777778,
              "#fb9f3a"
             ],
             [
              0.8888888888888888,
              "#fdca26"
             ],
             [
              1,
              "#f0f921"
             ]
            ],
            "type": "contour"
           }
          ],
          "contourcarpet": [
           {
            "colorbar": {
             "outlinewidth": 0,
             "ticks": ""
            },
            "type": "contourcarpet"
           }
          ],
          "heatmap": [
           {
            "colorbar": {
             "outlinewidth": 0,
             "ticks": ""
            },
            "colorscale": [
             [
              0,
              "#0d0887"
             ],
             [
              0.1111111111111111,
              "#46039f"
             ],
             [
              0.2222222222222222,
              "#7201a8"
             ],
             [
              0.3333333333333333,
              "#9c179e"
             ],
             [
              0.4444444444444444,
              "#bd3786"
             ],
             [
              0.5555555555555556,
              "#d8576b"
             ],
             [
              0.6666666666666666,
              "#ed7953"
             ],
             [
              0.7777777777777778,
              "#fb9f3a"
             ],
             [
              0.8888888888888888,
              "#fdca26"
             ],
             [
              1,
              "#f0f921"
             ]
            ],
            "type": "heatmap"
           }
          ],
          "heatmapgl": [
           {
            "colorbar": {
             "outlinewidth": 0,
             "ticks": ""
            },
            "colorscale": [
             [
              0,
              "#0d0887"
             ],
             [
              0.1111111111111111,
              "#46039f"
             ],
             [
              0.2222222222222222,
              "#7201a8"
             ],
             [
              0.3333333333333333,
              "#9c179e"
             ],
             [
              0.4444444444444444,
              "#bd3786"
             ],
             [
              0.5555555555555556,
              "#d8576b"
             ],
             [
              0.6666666666666666,
              "#ed7953"
             ],
             [
              0.7777777777777778,
              "#fb9f3a"
             ],
             [
              0.8888888888888888,
              "#fdca26"
             ],
             [
              1,
              "#f0f921"
             ]
            ],
            "type": "heatmapgl"
           }
          ],
          "histogram": [
           {
            "marker": {
             "pattern": {
              "fillmode": "overlay",
              "size": 10,
              "solidity": 0.2
             }
            },
            "type": "histogram"
           }
          ],
          "histogram2d": [
           {
            "colorbar": {
             "outlinewidth": 0,
             "ticks": ""
            },
            "colorscale": [
             [
              0,
              "#0d0887"
             ],
             [
              0.1111111111111111,
              "#46039f"
             ],
             [
              0.2222222222222222,
              "#7201a8"
             ],
             [
              0.3333333333333333,
              "#9c179e"
             ],
             [
              0.4444444444444444,
              "#bd3786"
             ],
             [
              0.5555555555555556,
              "#d8576b"
             ],
             [
              0.6666666666666666,
              "#ed7953"
             ],
             [
              0.7777777777777778,
              "#fb9f3a"
             ],
             [
              0.8888888888888888,
              "#fdca26"
             ],
             [
              1,
              "#f0f921"
             ]
            ],
            "type": "histogram2d"
           }
          ],
          "histogram2dcontour": [
           {
            "colorbar": {
             "outlinewidth": 0,
             "ticks": ""
            },
            "colorscale": [
             [
              0,
              "#0d0887"
             ],
             [
              0.1111111111111111,
              "#46039f"
             ],
             [
              0.2222222222222222,
              "#7201a8"
             ],
             [
              0.3333333333333333,
              "#9c179e"
             ],
             [
              0.4444444444444444,
              "#bd3786"
             ],
             [
              0.5555555555555556,
              "#d8576b"
             ],
             [
              0.6666666666666666,
              "#ed7953"
             ],
             [
              0.7777777777777778,
              "#fb9f3a"
             ],
             [
              0.8888888888888888,
              "#fdca26"
             ],
             [
              1,
              "#f0f921"
             ]
            ],
            "type": "histogram2dcontour"
           }
          ],
          "mesh3d": [
           {
            "colorbar": {
             "outlinewidth": 0,
             "ticks": ""
            },
            "type": "mesh3d"
           }
          ],
          "parcoords": [
           {
            "line": {
             "colorbar": {
              "outlinewidth": 0,
              "ticks": ""
             }
            },
            "type": "parcoords"
           }
          ],
          "pie": [
           {
            "automargin": true,
            "type": "pie"
           }
          ],
          "scatter": [
           {
            "fillpattern": {
             "fillmode": "overlay",
             "size": 10,
             "solidity": 0.2
            },
            "type": "scatter"
           }
          ],
          "scatter3d": [
           {
            "line": {
             "colorbar": {
              "outlinewidth": 0,
              "ticks": ""
             }
            },
            "marker": {
             "colorbar": {
              "outlinewidth": 0,
              "ticks": ""
             }
            },
            "type": "scatter3d"
           }
          ],
          "scattercarpet": [
           {
            "marker": {
             "colorbar": {
              "outlinewidth": 0,
              "ticks": ""
             }
            },
            "type": "scattercarpet"
           }
          ],
          "scattergeo": [
           {
            "marker": {
             "colorbar": {
              "outlinewidth": 0,
              "ticks": ""
             }
            },
            "type": "scattergeo"
           }
          ],
          "scattergl": [
           {
            "marker": {
             "colorbar": {
              "outlinewidth": 0,
              "ticks": ""
             }
            },
            "type": "scattergl"
           }
          ],
          "scattermapbox": [
           {
            "marker": {
             "colorbar": {
              "outlinewidth": 0,
              "ticks": ""
             }
            },
            "type": "scattermapbox"
           }
          ],
          "scatterpolar": [
           {
            "marker": {
             "colorbar": {
              "outlinewidth": 0,
              "ticks": ""
             }
            },
            "type": "scatterpolar"
           }
          ],
          "scatterpolargl": [
           {
            "marker": {
             "colorbar": {
              "outlinewidth": 0,
              "ticks": ""
             }
            },
            "type": "scatterpolargl"
           }
          ],
          "scatterternary": [
           {
            "marker": {
             "colorbar": {
              "outlinewidth": 0,
              "ticks": ""
             }
            },
            "type": "scatterternary"
           }
          ],
          "surface": [
           {
            "colorbar": {
             "outlinewidth": 0,
             "ticks": ""
            },
            "colorscale": [
             [
              0,
              "#0d0887"
             ],
             [
              0.1111111111111111,
              "#46039f"
             ],
             [
              0.2222222222222222,
              "#7201a8"
             ],
             [
              0.3333333333333333,
              "#9c179e"
             ],
             [
              0.4444444444444444,
              "#bd3786"
             ],
             [
              0.5555555555555556,
              "#d8576b"
             ],
             [
              0.6666666666666666,
              "#ed7953"
             ],
             [
              0.7777777777777778,
              "#fb9f3a"
             ],
             [
              0.8888888888888888,
              "#fdca26"
             ],
             [
              1,
              "#f0f921"
             ]
            ],
            "type": "surface"
           }
          ],
          "table": [
           {
            "cells": {
             "fill": {
              "color": "#EBF0F8"
             },
             "line": {
              "color": "white"
             }
            },
            "header": {
             "fill": {
              "color": "#C8D4E3"
             },
             "line": {
              "color": "white"
             }
            },
            "type": "table"
           }
          ]
         },
         "layout": {
          "annotationdefaults": {
           "arrowcolor": "#2a3f5f",
           "arrowhead": 0,
           "arrowwidth": 1
          },
          "autotypenumbers": "strict",
          "coloraxis": {
           "colorbar": {
            "outlinewidth": 0,
            "ticks": ""
           }
          },
          "colorscale": {
           "diverging": [
            [
             0,
             "#8e0152"
            ],
            [
             0.1,
             "#c51b7d"
            ],
            [
             0.2,
             "#de77ae"
            ],
            [
             0.3,
             "#f1b6da"
            ],
            [
             0.4,
             "#fde0ef"
            ],
            [
             0.5,
             "#f7f7f7"
            ],
            [
             0.6,
             "#e6f5d0"
            ],
            [
             0.7,
             "#b8e186"
            ],
            [
             0.8,
             "#7fbc41"
            ],
            [
             0.9,
             "#4d9221"
            ],
            [
             1,
             "#276419"
            ]
           ],
           "sequential": [
            [
             0,
             "#0d0887"
            ],
            [
             0.1111111111111111,
             "#46039f"
            ],
            [
             0.2222222222222222,
             "#7201a8"
            ],
            [
             0.3333333333333333,
             "#9c179e"
            ],
            [
             0.4444444444444444,
             "#bd3786"
            ],
            [
             0.5555555555555556,
             "#d8576b"
            ],
            [
             0.6666666666666666,
             "#ed7953"
            ],
            [
             0.7777777777777778,
             "#fb9f3a"
            ],
            [
             0.8888888888888888,
             "#fdca26"
            ],
            [
             1,
             "#f0f921"
            ]
           ],
           "sequentialminus": [
            [
             0,
             "#0d0887"
            ],
            [
             0.1111111111111111,
             "#46039f"
            ],
            [
             0.2222222222222222,
             "#7201a8"
            ],
            [
             0.3333333333333333,
             "#9c179e"
            ],
            [
             0.4444444444444444,
             "#bd3786"
            ],
            [
             0.5555555555555556,
             "#d8576b"
            ],
            [
             0.6666666666666666,
             "#ed7953"
            ],
            [
             0.7777777777777778,
             "#fb9f3a"
            ],
            [
             0.8888888888888888,
             "#fdca26"
            ],
            [
             1,
             "#f0f921"
            ]
           ]
          },
          "colorway": [
           "#636efa",
           "#EF553B",
           "#00cc96",
           "#ab63fa",
           "#FFA15A",
           "#19d3f3",
           "#FF6692",
           "#B6E880",
           "#FF97FF",
           "#FECB52"
          ],
          "font": {
           "color": "#2a3f5f"
          },
          "geo": {
           "bgcolor": "white",
           "lakecolor": "white",
           "landcolor": "#E5ECF6",
           "showlakes": true,
           "showland": true,
           "subunitcolor": "white"
          },
          "hoverlabel": {
           "align": "left"
          },
          "hovermode": "closest",
          "mapbox": {
           "style": "light"
          },
          "paper_bgcolor": "white",
          "plot_bgcolor": "#E5ECF6",
          "polar": {
           "angularaxis": {
            "gridcolor": "white",
            "linecolor": "white",
            "ticks": ""
           },
           "bgcolor": "#E5ECF6",
           "radialaxis": {
            "gridcolor": "white",
            "linecolor": "white",
            "ticks": ""
           }
          },
          "scene": {
           "xaxis": {
            "backgroundcolor": "#E5ECF6",
            "gridcolor": "white",
            "gridwidth": 2,
            "linecolor": "white",
            "showbackground": true,
            "ticks": "",
            "zerolinecolor": "white"
           },
           "yaxis": {
            "backgroundcolor": "#E5ECF6",
            "gridcolor": "white",
            "gridwidth": 2,
            "linecolor": "white",
            "showbackground": true,
            "ticks": "",
            "zerolinecolor": "white"
           },
           "zaxis": {
            "backgroundcolor": "#E5ECF6",
            "gridcolor": "white",
            "gridwidth": 2,
            "linecolor": "white",
            "showbackground": true,
            "ticks": "",
            "zerolinecolor": "white"
           }
          },
          "shapedefaults": {
           "line": {
            "color": "#2a3f5f"
           }
          },
          "ternary": {
           "aaxis": {
            "gridcolor": "white",
            "linecolor": "white",
            "ticks": ""
           },
           "baxis": {
            "gridcolor": "white",
            "linecolor": "white",
            "ticks": ""
           },
           "bgcolor": "#E5ECF6",
           "caxis": {
            "gridcolor": "white",
            "linecolor": "white",
            "ticks": ""
           }
          },
          "title": {
           "x": 0.05
          },
          "xaxis": {
           "automargin": true,
           "gridcolor": "white",
           "linecolor": "white",
           "ticks": "",
           "title": {
            "standoff": 15
           },
           "zerolinecolor": "white",
           "zerolinewidth": 2
          },
          "yaxis": {
           "automargin": true,
           "gridcolor": "white",
           "linecolor": "white",
           "ticks": "",
           "title": {
            "standoff": 15
           },
           "zerolinecolor": "white",
           "zerolinewidth": 2
          }
         }
        },
        "title": {
         "text": "Linear Regression Least Relevant Feature"
        },
        "width": 700,
        "xaxis": {
         "title": {
          "text": "Score"
         }
        },
        "yaxis": {
         "title": {
          "text": "Feature"
         }
        }
       }
      }
     },
     "metadata": {},
     "output_type": "display_data"
    }
   ],
   "source": [
    "from sklearn.linear_model import LinearRegression\n",
    "\n",
    "model = LinearRegression()\n",
    "\n",
    "model.fit(X_train, y_train)\n",
    "\n",
    "simulate(model, XXyy, 'Linear Regression')\n",
    "feature_plot([col for col in X.columns], [model.coef_[i].round(5) for i in range(len(X.columns))], 'Linear Regression')"
   ]
  },
  {
   "cell_type": "markdown",
   "metadata": {
    "collapsed": false
   },
   "source": [
    "### Model 2: Gradient Boost Regressor"
   ]
  },
  {
   "attachments": {},
   "cell_type": "markdown",
   "metadata": {},
   "source": [
    "We can use gradient boosting - a type of ensemble machine learning algorithms. Ensemble is a collection of decision trees. Every iteration, a decision tree is added to model to minimise the error. Models are fit using any arbitrary differentiable loss function and gradient descent optimization algorithm, and the goal is to minimise loss gradient. We will be using HistGradientBoostingRegressor from sklearn."
   ]
  },
  {
   "cell_type": "code",
   "execution_count": 68,
   "metadata": {
    "collapsed": false
   },
   "outputs": [
    {
     "name": "stdout",
     "output_type": "stream",
     "text": [
      "------------------------------\n",
      "Train Score:  1.000\n",
      "Train RMSE:  1.450\n",
      "------------------------------\n",
      "Test Score:  0.850\n",
      "Test RMSE:  49.688\n"
     ]
    },
    {
     "data": {
      "application/vnd.plotly.v1+json": {
       "config": {
        "plotlyServerURL": "https://plot.ly"
       },
       "data": [
        {
         "hovertemplate": "Actual y=%{x}<br>Predicted y=%{y}<extra></extra>",
         "legendgroup": "",
         "marker": {
          "color": "#636efa",
          "symbol": "circle"
         },
         "mode": "markers",
         "name": "",
         "orientation": "v",
         "showlegend": false,
         "type": "scatter",
         "x": [
          100,
          98,
          52,
          160,
          89,
          199,
          420,
          187,
          49,
          79,
          399,
          152,
          400,
          279,
          529,
          100,
          450,
          33,
          49,
          194,
          69,
          100,
          22,
          40,
          386,
          175,
          261,
          59,
          300,
          80,
          63,
          235,
          330,
          79,
          43,
          58,
          50,
          70,
          415,
          204,
          70,
          378,
          44,
          175,
          387,
          260,
          39,
          59,
          50,
          150,
          38,
          448,
          193,
          59,
          109,
          101,
          49,
          130,
          145,
          168,
          50,
          184,
          59,
          133,
          163,
          549,
          60,
          220,
          240,
          70,
          495,
          175,
          179,
          56,
          250,
          399,
          266,
          235,
          114,
          78,
          185,
          470,
          108,
          250,
          81,
          66,
          474,
          130,
          49,
          130,
          49,
          246,
          171,
          230,
          173,
          75,
          180,
          31,
          395,
          400,
          221,
          328,
          45,
          60,
          310,
          65,
          47,
          260,
          85,
          38,
          140,
          399,
          404,
          279,
          65,
          78,
          156,
          55,
          200,
          51,
          328,
          160,
          410,
          39,
          178,
          90,
          300,
          40,
          366,
          140,
          218,
          134,
          373,
          135,
          69,
          188,
          224,
          500,
          250,
          430,
          181,
          60,
          629,
          57,
          95,
          210,
          314,
          195,
          345,
          271,
          90,
          409,
          409,
          349,
          60,
          69,
          140,
          120,
          190,
          103,
          400,
          115,
          134,
          78,
          401,
          80,
          500,
          227,
          39,
          30,
          125,
          228,
          179,
          152,
          165,
          80,
          98,
          315,
          260,
          409,
          399,
          31,
          20,
          70,
          249,
          289,
          470,
          50,
          30,
          250,
          210,
          130,
          331,
          189,
          42,
          148,
          125,
          245,
          85,
          318,
          39,
          229,
          386,
          371,
          24,
          50,
          24,
          456,
          337,
          168,
          65,
          210,
          57,
          110,
          78,
          69,
          50,
          232,
          232,
          189,
          59,
          80,
          27,
          79,
          100,
          80,
          240,
          202,
          482,
          85,
          380,
          206,
          200,
          22,
          113,
          200,
          49,
          59,
          96,
          187,
          394,
          243,
          50,
          99,
          210,
          110,
          404,
          49,
          126,
          49,
          269,
          260,
          181,
          69,
          144,
          120,
          140,
          305,
          180,
          229,
          59,
          105,
          50,
          195,
          140,
          142,
          59,
          223,
          69,
          80,
          270,
          78,
          56,
          151,
          200,
          550,
          276,
          225,
          48,
          137,
          179,
          216,
          222,
          79,
          86,
          430,
          187,
          175,
          208,
          121,
          100,
          59,
          399,
          102,
          46,
          318,
          50,
          196,
          50,
          190,
          173,
          185,
          158,
          320,
          109,
          310,
          49,
          213,
          205,
          116,
          72,
          60,
          47,
          31,
          349,
          463,
          160,
          69,
          301,
          109,
          18,
          226,
          198,
          104,
          40,
          101,
          357,
          400,
          68,
          68,
          575,
          134,
          399,
          173,
          31,
          610,
          284,
          53,
          57,
          55,
          22,
          115,
          517,
          58,
          600,
          85,
          191,
          59,
          55,
          48,
          103,
          219,
          56,
          119,
          127,
          69,
          413,
          137,
          85,
          93,
          117,
          126,
          281,
          38,
          110,
          123,
          508,
          202,
          29,
          290,
          162,
          36,
          225,
          45,
          122,
          414,
          242,
          40,
          70,
          69,
          226,
          38,
          160,
          140,
          98,
          39,
          190,
          59,
          50,
          173,
          204,
          39,
          144,
          89,
          70,
          151,
          184,
          55,
          615,
          188,
          113,
          200,
          75,
          145,
          90,
          52,
          88,
          46,
          85,
          250,
          49,
          42,
          40,
          99,
          246,
          375,
          155,
          69,
          65,
          310,
          130,
          90,
          95,
          162,
          260,
          122,
          324,
          300,
          34,
          190,
          80,
          35,
          144,
          328,
          59,
          59,
          48,
          120,
          209,
          100,
          500,
          40,
          99,
          99,
          156,
          67,
          97,
          150,
          180,
          105,
          188,
          55,
          85,
          110,
          78,
          210,
          155,
          129,
          257,
          145,
          135,
          59,
          140,
          130,
          60,
          211,
          188,
          80,
          219,
          265,
          49,
          56,
          129,
          64,
          93,
          200,
          243,
          168,
          327,
          350,
          39,
          335,
          45,
          193,
          284,
          40,
          404,
          68,
          65,
          39,
          313,
          80,
          53,
          49,
          58,
          126,
          69,
          80,
          110,
          50,
          132,
          80,
          185,
          387,
          27,
          162,
          88,
          153,
          239,
          243,
          99,
          89,
          53,
          131,
          111,
          428,
          150,
          179,
          178,
          295,
          335,
          59,
          33,
          59,
          440,
          142,
          261,
          343,
          188,
          59,
          49,
          109,
          90,
          33,
          80,
          61,
          490,
          69,
          60,
          181,
          66,
          49,
          148,
          429,
          210,
          297,
          500,
          169,
          60,
          90,
          320,
          222,
          136,
          174,
          243
         ],
         "xaxis": "x",
         "y": [
          65.92539169127575,
          109.17523794452292,
          112.1650812788719,
          146.33327746292602,
          157.96294649165068,
          253.6411857015193,
          557.7727713212656,
          182.13306422747755,
          53.24177610769597,
          127.31012189521792,
          380.19718371666136,
          141.3830967464392,
          380.003103227928,
          255.03754178781804,
          522.090125322255,
          148.17448762376233,
          445.74572402556504,
          -0.33236893676568374,
          54.292881299435635,
          170.41405155255154,
          73.08508073883732,
          129.27017429890415,
          21.12699112799668,
          87.94342072409857,
          335.4378513232157,
          193.8834906418567,
          217.38922956282912,
          67.63989388996177,
          80.08033646022018,
          152.58642824884728,
          75.68970694922614,
          78.02568828766053,
          115.9310841544095,
          78.0940530992844,
          114.09519689329198,
          44.22527468103741,
          46.564799482642,
          89.38092732273114,
          369.7486570051474,
          233.1624160982802,
          69.76280295130675,
          447.71231079791033,
          61.82595468946003,
          202.56379352784631,
          392.21848873744216,
          171.22821433796634,
          38.64749270346172,
          53.32920441086066,
          62.42774033516413,
          154.92301827435878,
          112.57127052463089,
          438.4987187238448,
          227.35433327993894,
          72.5779286847474,
          108.65496459128809,
          157.760470780327,
          45.04307404567654,
          140.87770491210898,
          152.02254543838623,
          219.51948943633676,
          62.59124700003229,
          165.16282018611597,
          58.16387032394594,
          87.24878171642533,
          142.16714488343163,
          502.5287793595209,
          99.86727551814238,
          186.8954270414253,
          176.0306383658859,
          113.87843593132425,
          399.2595155219797,
          145.9000844929701,
          229.684057400713,
          54.643211379820656,
          192.81178300837024,
          406.07176722652656,
          225.02862414970937,
          211.71861141729613,
          118.09927711226534,
          145.1870928485873,
          165.35495483462716,
          543.4018325957728,
          112.63623051708741,
          304.8266993798117,
          48.397894927504915,
          77.77759935305785,
          340.9431503088457,
          120.43388268001935,
          56.058665042959355,
          113.36505445829204,
          40.218234447005614,
          255.52806342286559,
          153.5174425360445,
          224.00709732192152,
          202.45146835676601,
          135.88516224255812,
          137.790065478453,
          79.22044470854763,
          466.31146194630537,
          431.8588195928394,
          215.3238872252496,
          409.475555912189,
          64.18521921020455,
          78.88611638732623,
          309.4400591624644,
          44.57979607251657,
          74.26856434909301,
          241.25635837932637,
          113.1614296500621,
          52.114633913070605,
          137.93924153827274,
          419.45388992008174,
          215.73882208363682,
          218.77998819756257,
          91.53056166558001,
          70.13389833595433,
          157.3722393122773,
          135.65477499261843,
          123.62508477802376,
          46.21841243736283,
          328.9200778096736,
          181.0359665114019,
          502.6264298623407,
          36.64329356919681,
          167.3187836538292,
          96.36621462688106,
          366.3172928933563,
          119.77561382657218,
          397.8518266389116,
          103.84329503346846,
          250.00253248359803,
          132.21571525853076,
          391.09632373476455,
          222.34926150124284,
          53.54085669782054,
          188.50463229810617,
          210.85255495848315,
          279.2368290080614,
          165.6509053473753,
          454.0132041357834,
          187.33132698468276,
          95.81056157553171,
          509.46685213739124,
          58.75290550383008,
          36.47311477877006,
          249.10951096864434,
          75.49952543456682,
          261.42841170169,
          366.1727664275894,
          256.87407237872634,
          111.21263848405123,
          416.5900146598785,
          370.00821635033145,
          335.40550228126136,
          113.52953855311549,
          76.05308120940754,
          127.66210017183082,
          78.55028193099186,
          206.9976626777326,
          114.05239630444214,
          364.5213258816462,
          137.38593740595218,
          143.85690473342436,
          83.4805270016781,
          421.9638709440875,
          97.90048505679538,
          483.8417153276577,
          205.93105864552942,
          36.18250008675219,
          38.29990824842719,
          108.1646829292236,
          213.19047335650353,
          174.3593552531799,
          180.60761255234982,
          191.82833324507925,
          100.79885150580094,
          116.68883438021707,
          290.5735421376229,
          208.6863789536093,
          468.4693738362901,
          327.06772239489703,
          5.67012374045169,
          44.23451379824738,
          76.71125827900987,
          242.02223688602783,
          229.20451741795893,
          417.1623686485215,
          127.76119109155897,
          36.36776372219173,
          235.6712477857228,
          195.0092559268169,
          140.3558794117389,
          386.015004195892,
          88.47707923385036,
          131.8105597821158,
          248.20408789918082,
          108.43892588290662,
          200.16117244369838,
          74.02443871866527,
          415.0016313447837,
          68.29510416856655,
          114.80025534423754,
          320.4027259725602,
          456.3452888929019,
          19.360432398651746,
          26.91597861786358,
          34.44426201776923,
          475.9740567462604,
          329.75577296041126,
          51.2875126253527,
          128.83779577361958,
          228.49697742688164,
          80.96102074733533,
          95.25116880103188,
          81.75262625662022,
          62.67812074603034,
          117.38180644823264,
          231.1369546564491,
          195.63947360417274,
          204.91463879340884,
          49.55491237498693,
          97.71437656622649,
          16.796729073666402,
          73.1488814510029,
          121.03287449541497,
          78.63247377022759,
          187.42043412605742,
          154.39463274743474,
          335.3853763525318,
          149.33924224991927,
          486.9063884312034,
          188.49138067192422,
          193.86203211199302,
          36.0739866460828,
          140.68048036967608,
          152.97747404644954,
          46.17517676170215,
          51.00178333573861,
          144.8658019415536,
          207.10916193544665,
          441.56844829643484,
          206.16200503095996,
          101.18310519131029,
          125.06423822037664,
          239.94985693668505,
          135.10981576839416,
          224.35114937922808,
          61.42393294204467,
          111.27109087146896,
          50.285112328907275,
          169.48995295377281,
          235.52930870475214,
          159.83365392881186,
          52.85312545258487,
          165.34974978402323,
          144.08197925192198,
          146.60845175929802,
          365.61198526484327,
          180.8152550255277,
          244.54078457037846,
          68.98785305436382,
          92.70149182909557,
          39.08249591045434,
          229.21662484255452,
          145.56219577938114,
          191.1017235112494,
          49.9109541322785,
          234.20003466019222,
          53.76259696718481,
          99.80590045438117,
          261.582407827317,
          146.216355705732,
          30.30066080330095,
          141.2011503972634,
          173.35513667658762,
          493.7889388298811,
          227.61092639368002,
          76.17939134841325,
          100.6132554242955,
          143.68677645547584,
          212.00023121838703,
          200.83205263949597,
          234.92777873008393,
          104.49115735708075,
          105.73764199573807,
          450.5469792885811,
          218.46772592419617,
          197.61096782653348,
          240.7801183023847,
          128.34523161575947,
          121.31644194716995,
          44.92535942148734,
          440.8940582167639,
          141.6364382691467,
          75.15053799251935,
          376.7190101949921,
          69.95450774268502,
          182.94148435057357,
          110.08858207062596,
          221.47550117314347,
          127.79551677842815,
          187.65991340199437,
          187.5828062762437,
          338.3053333357327,
          93.04489859785386,
          380.87025189905717,
          55.782642163259965,
          209.03886556801345,
          202.80417774576864,
          166.95134844338543,
          126.67407107004907,
          57.46502947620628,
          86.36906107607942,
          4.1367773712902975,
          429.92498604952993,
          452.90906933663206,
          124.98894471863836,
          53.32920441086066,
          428.2155025851401,
          134.22711485692454,
          36.65467867423399,
          230.64766842241994,
          233.40178577370895,
          138.81390473740683,
          105.110975230794,
          140.66416440638608,
          367.11412798307686,
          370.18290384703664,
          58.53993027716239,
          72.28307080029103,
          415.09497585688655,
          139.7315196650273,
          386.7707748681373,
          148.73837020903989,
          54.19099850419878,
          474.9929321621068,
          337.9319507469039,
          65.28143603761907,
          46.49329593399441,
          45.507946246622396,
          18.697476486085755,
          160.95982090595774,
          505.8771050911699,
          68.41400213002,
          414.3381203644672,
          59.40479501539964,
          89.65844913922007,
          63.4930444349763,
          153.8283807932257,
          66.8005843778653,
          105.44456836032904,
          228.5698836129894,
          130.54684490894695,
          164.5564435177648,
          168.97189074582755,
          54.211502079068836,
          396.70440543856216,
          150.33060535080082,
          119.94323572481026,
          80.68139928397255,
          147.7760308424132,
          130.52313326565445,
          216.9594921625041,
          65.02228877977869,
          129.30977593996639,
          111.54157106311304,
          440.05612646258425,
          186.64254863952195,
          38.08534278684956,
          357.45421440467777,
          151.94261164147474,
          17.393034094309638,
          223.55027587921597,
          69.39882698385762,
          134.37681278290736,
          371.64650102789284,
          238.96065015545776,
          67.87177638436485,
          126.16790993952588,
          47.89634867595973,
          201.55142989971927,
          56.31181993793213,
          157.35013063341108,
          67.85407460999146,
          75.36497863846857,
          41.847264539966126,
          165.7821236763541,
          53.777844619701376,
          55.90093970793835,
          228.24781740905786,
          197.00710349123864,
          40.445307631594545,
          153.00515372528292,
          145.89809475177526,
          168.0669080580187,
          184.81589118057343,
          175.34481436102584,
          32.21875776822871,
          515.4832726651512,
          176.47695994623467,
          67.7363923254913,
          220.81312621719357,
          78.66299519497055,
          59.951967147807885,
          81.46138147560929,
          107.39031454277188,
          85.47085553659011,
          51.72922361333028,
          70.85519976227107,
          225.8304979512451,
          58.2939783937788,
          61.50001464282759,
          61.52124793423216,
          91.50096455840927,
          249.6087620071398,
          466.8486853256801,
          191.92635707476344,
          95.42038736394814,
          72.4404971288261,
          472.201283155426,
          104.59259711060746,
          127.12510801831428,
          98.63591731097442,
          145.1872408993045,
          180.81351249356263,
          136.8222895811894,
          345.99818621956985,
          429.5071288546304,
          63.91557740850527,
          178.0130347117392,
          97.0552876290406,
          88.35497637728817,
          140.4256137917704,
          320.9316258386481,
          74.59146419281973,
          104.43451112919091,
          54.96304415924318,
          134.30039028693173,
          278.61068056988114,
          182.49936484567598,
          476.52438037591986,
          46.19363147966586,
          51.49823862563311,
          101.18276908772532,
          123.16498582326636,
          89.63327294291413,
          75.56086295625062,
          80.86088285402936,
          187.99474658487892,
          92.31242565443529,
          180.20196251320488,
          104.41713011148619,
          105.9886836405952,
          111.79725727597922,
          69.58920655315494,
          176.4261718140524,
          142.25172056381828,
          116.34859147814818,
          188.11393299152374,
          132.99059459393996,
          96.6780023847606,
          53.013678982668914,
          149.40805948587172,
          98.5938144391622,
          85.38048785386142,
          222.67122955154838,
          194.0417498031975,
          81.94213694393223,
          207.71482852850622,
          267.81731756594087,
          55.81519790186343,
          70.84551372530144,
          106.03223851238371,
          86.80358809982874,
          100.91656180321068,
          197.72070439178282,
          252.37905239209482,
          170.31251866412222,
          359.14529072966565,
          361.46041682850773,
          36.58049097562653,
          354.42555398575416,
          79.48239619342887,
          203.8893271184245,
          363.0596585267563,
          85.01056818951024,
          505.62705649828473,
          45.70760532871829,
          109.98707433707338,
          43.387116738793246,
          355.61948656701713,
          93.90044410998749,
          69.26424423475278,
          55.20150405018364,
          94.41124975335667,
          135.40149392801914,
          44.36226423237298,
          89.7294210392092,
          112.71321321034219,
          63.47978894500582,
          149.98864328738398,
          120.6881556639112,
          136.41962454326307,
          435.96952439190426,
          -2.6381904786866848,
          114.75070974221015,
          133.87898135245615,
          148.68211953017587,
          246.64457441563454,
          196.790805917757,
          164.966773874571,
          97.87722524326813,
          143.05464409465517,
          150.16423676198514,
          229.1435370660138,
          414.1554520255653,
          136.03099160857965,
          194.82142319117253,
          182.32170163001274,
          303.8963864937973,
          345.4316728201041,
          59.874342020297625,
          48.52956200824009,
          99.66631475427532,
          450.4223682614467,
          124.91786261354304,
          217.38922956282912,
          326.25799494903333,
          176.55683158540594,
          72.83224483442802,
          49.1042682683187,
          95.17111278267798,
          71.83175662377847,
          80.12342147301561,
          74.18367798145239,
          99.20575307502283,
          328.6901790363608,
          69.78476071917858,
          67.47820782376299,
          223.0238109437665,
          67.75997041968651,
          43.8965578741537,
          150.99653244380502,
          401.5431732327846,
          90.19461225110648,
          398.6790855727954,
          266.9899601458707,
          195.67067703549586,
          124.27459472656585,
          129.93997755679695,
          385.32631595656795,
          184.78450196992205,
          111.54015193347378,
          169.75274124301447,
          254.90911601310708
         ],
         "yaxis": "y"
        },
        {
         "line": {
          "color": "gray"
         },
         "mode": "lines",
         "showlegend": false,
         "type": "scatter",
         "x": [
          0,
          600
         ],
         "y": [
          0,
          600
         ]
        },
        {
         "line": {
          "dash": "dot"
         },
         "mode": "lines",
         "showlegend": false,
         "type": "scatter",
         "x": [
          0,
          600
         ],
         "y": [
          132.3645418384225,
          732.3645418384225
         ]
        },
        {
         "line": {
          "dash": "dot"
         },
         "mode": "lines",
         "showlegend": false,
         "type": "scatter",
         "x": [
          0,
          600
         ],
         "y": [
          -132.3645418384225,
          467.6354581615775
         ]
        }
       ],
       "layout": {
        "height": 500,
        "legend": {
         "tracegroupgap": 0
        },
        "template": {
         "data": {
          "bar": [
           {
            "error_x": {
             "color": "#2a3f5f"
            },
            "error_y": {
             "color": "#2a3f5f"
            },
            "marker": {
             "line": {
              "color": "#E5ECF6",
              "width": 0.5
             },
             "pattern": {
              "fillmode": "overlay",
              "size": 10,
              "solidity": 0.2
             }
            },
            "type": "bar"
           }
          ],
          "barpolar": [
           {
            "marker": {
             "line": {
              "color": "#E5ECF6",
              "width": 0.5
             },
             "pattern": {
              "fillmode": "overlay",
              "size": 10,
              "solidity": 0.2
             }
            },
            "type": "barpolar"
           }
          ],
          "carpet": [
           {
            "aaxis": {
             "endlinecolor": "#2a3f5f",
             "gridcolor": "white",
             "linecolor": "white",
             "minorgridcolor": "white",
             "startlinecolor": "#2a3f5f"
            },
            "baxis": {
             "endlinecolor": "#2a3f5f",
             "gridcolor": "white",
             "linecolor": "white",
             "minorgridcolor": "white",
             "startlinecolor": "#2a3f5f"
            },
            "type": "carpet"
           }
          ],
          "choropleth": [
           {
            "colorbar": {
             "outlinewidth": 0,
             "ticks": ""
            },
            "type": "choropleth"
           }
          ],
          "contour": [
           {
            "colorbar": {
             "outlinewidth": 0,
             "ticks": ""
            },
            "colorscale": [
             [
              0,
              "#0d0887"
             ],
             [
              0.1111111111111111,
              "#46039f"
             ],
             [
              0.2222222222222222,
              "#7201a8"
             ],
             [
              0.3333333333333333,
              "#9c179e"
             ],
             [
              0.4444444444444444,
              "#bd3786"
             ],
             [
              0.5555555555555556,
              "#d8576b"
             ],
             [
              0.6666666666666666,
              "#ed7953"
             ],
             [
              0.7777777777777778,
              "#fb9f3a"
             ],
             [
              0.8888888888888888,
              "#fdca26"
             ],
             [
              1,
              "#f0f921"
             ]
            ],
            "type": "contour"
           }
          ],
          "contourcarpet": [
           {
            "colorbar": {
             "outlinewidth": 0,
             "ticks": ""
            },
            "type": "contourcarpet"
           }
          ],
          "heatmap": [
           {
            "colorbar": {
             "outlinewidth": 0,
             "ticks": ""
            },
            "colorscale": [
             [
              0,
              "#0d0887"
             ],
             [
              0.1111111111111111,
              "#46039f"
             ],
             [
              0.2222222222222222,
              "#7201a8"
             ],
             [
              0.3333333333333333,
              "#9c179e"
             ],
             [
              0.4444444444444444,
              "#bd3786"
             ],
             [
              0.5555555555555556,
              "#d8576b"
             ],
             [
              0.6666666666666666,
              "#ed7953"
             ],
             [
              0.7777777777777778,
              "#fb9f3a"
             ],
             [
              0.8888888888888888,
              "#fdca26"
             ],
             [
              1,
              "#f0f921"
             ]
            ],
            "type": "heatmap"
           }
          ],
          "heatmapgl": [
           {
            "colorbar": {
             "outlinewidth": 0,
             "ticks": ""
            },
            "colorscale": [
             [
              0,
              "#0d0887"
             ],
             [
              0.1111111111111111,
              "#46039f"
             ],
             [
              0.2222222222222222,
              "#7201a8"
             ],
             [
              0.3333333333333333,
              "#9c179e"
             ],
             [
              0.4444444444444444,
              "#bd3786"
             ],
             [
              0.5555555555555556,
              "#d8576b"
             ],
             [
              0.6666666666666666,
              "#ed7953"
             ],
             [
              0.7777777777777778,
              "#fb9f3a"
             ],
             [
              0.8888888888888888,
              "#fdca26"
             ],
             [
              1,
              "#f0f921"
             ]
            ],
            "type": "heatmapgl"
           }
          ],
          "histogram": [
           {
            "marker": {
             "pattern": {
              "fillmode": "overlay",
              "size": 10,
              "solidity": 0.2
             }
            },
            "type": "histogram"
           }
          ],
          "histogram2d": [
           {
            "colorbar": {
             "outlinewidth": 0,
             "ticks": ""
            },
            "colorscale": [
             [
              0,
              "#0d0887"
             ],
             [
              0.1111111111111111,
              "#46039f"
             ],
             [
              0.2222222222222222,
              "#7201a8"
             ],
             [
              0.3333333333333333,
              "#9c179e"
             ],
             [
              0.4444444444444444,
              "#bd3786"
             ],
             [
              0.5555555555555556,
              "#d8576b"
             ],
             [
              0.6666666666666666,
              "#ed7953"
             ],
             [
              0.7777777777777778,
              "#fb9f3a"
             ],
             [
              0.8888888888888888,
              "#fdca26"
             ],
             [
              1,
              "#f0f921"
             ]
            ],
            "type": "histogram2d"
           }
          ],
          "histogram2dcontour": [
           {
            "colorbar": {
             "outlinewidth": 0,
             "ticks": ""
            },
            "colorscale": [
             [
              0,
              "#0d0887"
             ],
             [
              0.1111111111111111,
              "#46039f"
             ],
             [
              0.2222222222222222,
              "#7201a8"
             ],
             [
              0.3333333333333333,
              "#9c179e"
             ],
             [
              0.4444444444444444,
              "#bd3786"
             ],
             [
              0.5555555555555556,
              "#d8576b"
             ],
             [
              0.6666666666666666,
              "#ed7953"
             ],
             [
              0.7777777777777778,
              "#fb9f3a"
             ],
             [
              0.8888888888888888,
              "#fdca26"
             ],
             [
              1,
              "#f0f921"
             ]
            ],
            "type": "histogram2dcontour"
           }
          ],
          "mesh3d": [
           {
            "colorbar": {
             "outlinewidth": 0,
             "ticks": ""
            },
            "type": "mesh3d"
           }
          ],
          "parcoords": [
           {
            "line": {
             "colorbar": {
              "outlinewidth": 0,
              "ticks": ""
             }
            },
            "type": "parcoords"
           }
          ],
          "pie": [
           {
            "automargin": true,
            "type": "pie"
           }
          ],
          "scatter": [
           {
            "fillpattern": {
             "fillmode": "overlay",
             "size": 10,
             "solidity": 0.2
            },
            "type": "scatter"
           }
          ],
          "scatter3d": [
           {
            "line": {
             "colorbar": {
              "outlinewidth": 0,
              "ticks": ""
             }
            },
            "marker": {
             "colorbar": {
              "outlinewidth": 0,
              "ticks": ""
             }
            },
            "type": "scatter3d"
           }
          ],
          "scattercarpet": [
           {
            "marker": {
             "colorbar": {
              "outlinewidth": 0,
              "ticks": ""
             }
            },
            "type": "scattercarpet"
           }
          ],
          "scattergeo": [
           {
            "marker": {
             "colorbar": {
              "outlinewidth": 0,
              "ticks": ""
             }
            },
            "type": "scattergeo"
           }
          ],
          "scattergl": [
           {
            "marker": {
             "colorbar": {
              "outlinewidth": 0,
              "ticks": ""
             }
            },
            "type": "scattergl"
           }
          ],
          "scattermapbox": [
           {
            "marker": {
             "colorbar": {
              "outlinewidth": 0,
              "ticks": ""
             }
            },
            "type": "scattermapbox"
           }
          ],
          "scatterpolar": [
           {
            "marker": {
             "colorbar": {
              "outlinewidth": 0,
              "ticks": ""
             }
            },
            "type": "scatterpolar"
           }
          ],
          "scatterpolargl": [
           {
            "marker": {
             "colorbar": {
              "outlinewidth": 0,
              "ticks": ""
             }
            },
            "type": "scatterpolargl"
           }
          ],
          "scatterternary": [
           {
            "marker": {
             "colorbar": {
              "outlinewidth": 0,
              "ticks": ""
             }
            },
            "type": "scatterternary"
           }
          ],
          "surface": [
           {
            "colorbar": {
             "outlinewidth": 0,
             "ticks": ""
            },
            "colorscale": [
             [
              0,
              "#0d0887"
             ],
             [
              0.1111111111111111,
              "#46039f"
             ],
             [
              0.2222222222222222,
              "#7201a8"
             ],
             [
              0.3333333333333333,
              "#9c179e"
             ],
             [
              0.4444444444444444,
              "#bd3786"
             ],
             [
              0.5555555555555556,
              "#d8576b"
             ],
             [
              0.6666666666666666,
              "#ed7953"
             ],
             [
              0.7777777777777778,
              "#fb9f3a"
             ],
             [
              0.8888888888888888,
              "#fdca26"
             ],
             [
              1,
              "#f0f921"
             ]
            ],
            "type": "surface"
           }
          ],
          "table": [
           {
            "cells": {
             "fill": {
              "color": "#EBF0F8"
             },
             "line": {
              "color": "white"
             }
            },
            "header": {
             "fill": {
              "color": "#C8D4E3"
             },
             "line": {
              "color": "white"
             }
            },
            "type": "table"
           }
          ]
         },
         "layout": {
          "annotationdefaults": {
           "arrowcolor": "#2a3f5f",
           "arrowhead": 0,
           "arrowwidth": 1
          },
          "autotypenumbers": "strict",
          "coloraxis": {
           "colorbar": {
            "outlinewidth": 0,
            "ticks": ""
           }
          },
          "colorscale": {
           "diverging": [
            [
             0,
             "#8e0152"
            ],
            [
             0.1,
             "#c51b7d"
            ],
            [
             0.2,
             "#de77ae"
            ],
            [
             0.3,
             "#f1b6da"
            ],
            [
             0.4,
             "#fde0ef"
            ],
            [
             0.5,
             "#f7f7f7"
            ],
            [
             0.6,
             "#e6f5d0"
            ],
            [
             0.7,
             "#b8e186"
            ],
            [
             0.8,
             "#7fbc41"
            ],
            [
             0.9,
             "#4d9221"
            ],
            [
             1,
             "#276419"
            ]
           ],
           "sequential": [
            [
             0,
             "#0d0887"
            ],
            [
             0.1111111111111111,
             "#46039f"
            ],
            [
             0.2222222222222222,
             "#7201a8"
            ],
            [
             0.3333333333333333,
             "#9c179e"
            ],
            [
             0.4444444444444444,
             "#bd3786"
            ],
            [
             0.5555555555555556,
             "#d8576b"
            ],
            [
             0.6666666666666666,
             "#ed7953"
            ],
            [
             0.7777777777777778,
             "#fb9f3a"
            ],
            [
             0.8888888888888888,
             "#fdca26"
            ],
            [
             1,
             "#f0f921"
            ]
           ],
           "sequentialminus": [
            [
             0,
             "#0d0887"
            ],
            [
             0.1111111111111111,
             "#46039f"
            ],
            [
             0.2222222222222222,
             "#7201a8"
            ],
            [
             0.3333333333333333,
             "#9c179e"
            ],
            [
             0.4444444444444444,
             "#bd3786"
            ],
            [
             0.5555555555555556,
             "#d8576b"
            ],
            [
             0.6666666666666666,
             "#ed7953"
            ],
            [
             0.7777777777777778,
             "#fb9f3a"
            ],
            [
             0.8888888888888888,
             "#fdca26"
            ],
            [
             1,
             "#f0f921"
            ]
           ]
          },
          "colorway": [
           "#636efa",
           "#EF553B",
           "#00cc96",
           "#ab63fa",
           "#FFA15A",
           "#19d3f3",
           "#FF6692",
           "#B6E880",
           "#FF97FF",
           "#FECB52"
          ],
          "font": {
           "color": "#2a3f5f"
          },
          "geo": {
           "bgcolor": "white",
           "lakecolor": "white",
           "landcolor": "#E5ECF6",
           "showlakes": true,
           "showland": true,
           "subunitcolor": "white"
          },
          "hoverlabel": {
           "align": "left"
          },
          "hovermode": "closest",
          "mapbox": {
           "style": "light"
          },
          "paper_bgcolor": "white",
          "plot_bgcolor": "#E5ECF6",
          "polar": {
           "angularaxis": {
            "gridcolor": "white",
            "linecolor": "white",
            "ticks": ""
           },
           "bgcolor": "#E5ECF6",
           "radialaxis": {
            "gridcolor": "white",
            "linecolor": "white",
            "ticks": ""
           }
          },
          "scene": {
           "xaxis": {
            "backgroundcolor": "#E5ECF6",
            "gridcolor": "white",
            "gridwidth": 2,
            "linecolor": "white",
            "showbackground": true,
            "ticks": "",
            "zerolinecolor": "white"
           },
           "yaxis": {
            "backgroundcolor": "#E5ECF6",
            "gridcolor": "white",
            "gridwidth": 2,
            "linecolor": "white",
            "showbackground": true,
            "ticks": "",
            "zerolinecolor": "white"
           },
           "zaxis": {
            "backgroundcolor": "#E5ECF6",
            "gridcolor": "white",
            "gridwidth": 2,
            "linecolor": "white",
            "showbackground": true,
            "ticks": "",
            "zerolinecolor": "white"
           }
          },
          "shapedefaults": {
           "line": {
            "color": "#2a3f5f"
           }
          },
          "ternary": {
           "aaxis": {
            "gridcolor": "white",
            "linecolor": "white",
            "ticks": ""
           },
           "baxis": {
            "gridcolor": "white",
            "linecolor": "white",
            "ticks": ""
           },
           "bgcolor": "#E5ECF6",
           "caxis": {
            "gridcolor": "white",
            "linecolor": "white",
            "ticks": ""
           }
          },
          "title": {
           "x": 0.05
          },
          "xaxis": {
           "automargin": true,
           "gridcolor": "white",
           "linecolor": "white",
           "ticks": "",
           "title": {
            "standoff": 15
           },
           "zerolinecolor": "white",
           "zerolinewidth": 2
          },
          "yaxis": {
           "automargin": true,
           "gridcolor": "white",
           "linecolor": "white",
           "ticks": "",
           "title": {
            "standoff": 15
           },
           "zerolinecolor": "white",
           "zerolinewidth": 2
          }
         }
        },
        "title": {
         "text": "Gradient Boost Regressor"
        },
        "width": 700,
        "xaxis": {
         "anchor": "y",
         "domain": [
          0,
          1
         ],
         "title": {
          "text": "Actual y"
         }
        },
        "yaxis": {
         "anchor": "x",
         "domain": [
          0,
          1
         ],
         "title": {
          "text": "Predicted y"
         }
        }
       }
      }
     },
     "metadata": {},
     "output_type": "display_data"
    },
    {
     "data": {
      "application/vnd.plotly.v1+json": {
       "config": {
        "plotlyServerURL": "https://plot.ly"
       },
       "data": [
        {
         "orientation": "h",
         "type": "bar",
         "x": [
          0.6652003281777781,
          0.11633420968581473,
          0.03936208632631257,
          0.02350613447640575,
          0.023498674811484533,
          0.01383973954224731,
          0.013222109734661314,
          0.011018279472833981,
          0.010598379942666348,
          0.00795821549666722,
          0.004465716665396968,
          0.004454246490867253,
          0.004197670892212702,
          0.0041381012692513815,
          0.002925434775388802
         ],
         "y": [
          "distanceCluster",
          "room_type_Entire home/apt",
          "accommodates",
          "availability_365",
          "distance_from_MRT",
          "distance_from_Food",
          "host_since_years",
          "distance_from_Mall",
          "Shower gel",
          "property_type_Hotel",
          "room_type_Private room",
          "Smoke alarm",
          "distance_from_School",
          "host_response_rate",
          "bedrooms"
         ]
        }
       ],
       "layout": {
        "height": 500,
        "template": {
         "data": {
          "bar": [
           {
            "error_x": {
             "color": "#2a3f5f"
            },
            "error_y": {
             "color": "#2a3f5f"
            },
            "marker": {
             "line": {
              "color": "#E5ECF6",
              "width": 0.5
             },
             "pattern": {
              "fillmode": "overlay",
              "size": 10,
              "solidity": 0.2
             }
            },
            "type": "bar"
           }
          ],
          "barpolar": [
           {
            "marker": {
             "line": {
              "color": "#E5ECF6",
              "width": 0.5
             },
             "pattern": {
              "fillmode": "overlay",
              "size": 10,
              "solidity": 0.2
             }
            },
            "type": "barpolar"
           }
          ],
          "carpet": [
           {
            "aaxis": {
             "endlinecolor": "#2a3f5f",
             "gridcolor": "white",
             "linecolor": "white",
             "minorgridcolor": "white",
             "startlinecolor": "#2a3f5f"
            },
            "baxis": {
             "endlinecolor": "#2a3f5f",
             "gridcolor": "white",
             "linecolor": "white",
             "minorgridcolor": "white",
             "startlinecolor": "#2a3f5f"
            },
            "type": "carpet"
           }
          ],
          "choropleth": [
           {
            "colorbar": {
             "outlinewidth": 0,
             "ticks": ""
            },
            "type": "choropleth"
           }
          ],
          "contour": [
           {
            "colorbar": {
             "outlinewidth": 0,
             "ticks": ""
            },
            "colorscale": [
             [
              0,
              "#0d0887"
             ],
             [
              0.1111111111111111,
              "#46039f"
             ],
             [
              0.2222222222222222,
              "#7201a8"
             ],
             [
              0.3333333333333333,
              "#9c179e"
             ],
             [
              0.4444444444444444,
              "#bd3786"
             ],
             [
              0.5555555555555556,
              "#d8576b"
             ],
             [
              0.6666666666666666,
              "#ed7953"
             ],
             [
              0.7777777777777778,
              "#fb9f3a"
             ],
             [
              0.8888888888888888,
              "#fdca26"
             ],
             [
              1,
              "#f0f921"
             ]
            ],
            "type": "contour"
           }
          ],
          "contourcarpet": [
           {
            "colorbar": {
             "outlinewidth": 0,
             "ticks": ""
            },
            "type": "contourcarpet"
           }
          ],
          "heatmap": [
           {
            "colorbar": {
             "outlinewidth": 0,
             "ticks": ""
            },
            "colorscale": [
             [
              0,
              "#0d0887"
             ],
             [
              0.1111111111111111,
              "#46039f"
             ],
             [
              0.2222222222222222,
              "#7201a8"
             ],
             [
              0.3333333333333333,
              "#9c179e"
             ],
             [
              0.4444444444444444,
              "#bd3786"
             ],
             [
              0.5555555555555556,
              "#d8576b"
             ],
             [
              0.6666666666666666,
              "#ed7953"
             ],
             [
              0.7777777777777778,
              "#fb9f3a"
             ],
             [
              0.8888888888888888,
              "#fdca26"
             ],
             [
              1,
              "#f0f921"
             ]
            ],
            "type": "heatmap"
           }
          ],
          "heatmapgl": [
           {
            "colorbar": {
             "outlinewidth": 0,
             "ticks": ""
            },
            "colorscale": [
             [
              0,
              "#0d0887"
             ],
             [
              0.1111111111111111,
              "#46039f"
             ],
             [
              0.2222222222222222,
              "#7201a8"
             ],
             [
              0.3333333333333333,
              "#9c179e"
             ],
             [
              0.4444444444444444,
              "#bd3786"
             ],
             [
              0.5555555555555556,
              "#d8576b"
             ],
             [
              0.6666666666666666,
              "#ed7953"
             ],
             [
              0.7777777777777778,
              "#fb9f3a"
             ],
             [
              0.8888888888888888,
              "#fdca26"
             ],
             [
              1,
              "#f0f921"
             ]
            ],
            "type": "heatmapgl"
           }
          ],
          "histogram": [
           {
            "marker": {
             "pattern": {
              "fillmode": "overlay",
              "size": 10,
              "solidity": 0.2
             }
            },
            "type": "histogram"
           }
          ],
          "histogram2d": [
           {
            "colorbar": {
             "outlinewidth": 0,
             "ticks": ""
            },
            "colorscale": [
             [
              0,
              "#0d0887"
             ],
             [
              0.1111111111111111,
              "#46039f"
             ],
             [
              0.2222222222222222,
              "#7201a8"
             ],
             [
              0.3333333333333333,
              "#9c179e"
             ],
             [
              0.4444444444444444,
              "#bd3786"
             ],
             [
              0.5555555555555556,
              "#d8576b"
             ],
             [
              0.6666666666666666,
              "#ed7953"
             ],
             [
              0.7777777777777778,
              "#fb9f3a"
             ],
             [
              0.8888888888888888,
              "#fdca26"
             ],
             [
              1,
              "#f0f921"
             ]
            ],
            "type": "histogram2d"
           }
          ],
          "histogram2dcontour": [
           {
            "colorbar": {
             "outlinewidth": 0,
             "ticks": ""
            },
            "colorscale": [
             [
              0,
              "#0d0887"
             ],
             [
              0.1111111111111111,
              "#46039f"
             ],
             [
              0.2222222222222222,
              "#7201a8"
             ],
             [
              0.3333333333333333,
              "#9c179e"
             ],
             [
              0.4444444444444444,
              "#bd3786"
             ],
             [
              0.5555555555555556,
              "#d8576b"
             ],
             [
              0.6666666666666666,
              "#ed7953"
             ],
             [
              0.7777777777777778,
              "#fb9f3a"
             ],
             [
              0.8888888888888888,
              "#fdca26"
             ],
             [
              1,
              "#f0f921"
             ]
            ],
            "type": "histogram2dcontour"
           }
          ],
          "mesh3d": [
           {
            "colorbar": {
             "outlinewidth": 0,
             "ticks": ""
            },
            "type": "mesh3d"
           }
          ],
          "parcoords": [
           {
            "line": {
             "colorbar": {
              "outlinewidth": 0,
              "ticks": ""
             }
            },
            "type": "parcoords"
           }
          ],
          "pie": [
           {
            "automargin": true,
            "type": "pie"
           }
          ],
          "scatter": [
           {
            "fillpattern": {
             "fillmode": "overlay",
             "size": 10,
             "solidity": 0.2
            },
            "type": "scatter"
           }
          ],
          "scatter3d": [
           {
            "line": {
             "colorbar": {
              "outlinewidth": 0,
              "ticks": ""
             }
            },
            "marker": {
             "colorbar": {
              "outlinewidth": 0,
              "ticks": ""
             }
            },
            "type": "scatter3d"
           }
          ],
          "scattercarpet": [
           {
            "marker": {
             "colorbar": {
              "outlinewidth": 0,
              "ticks": ""
             }
            },
            "type": "scattercarpet"
           }
          ],
          "scattergeo": [
           {
            "marker": {
             "colorbar": {
              "outlinewidth": 0,
              "ticks": ""
             }
            },
            "type": "scattergeo"
           }
          ],
          "scattergl": [
           {
            "marker": {
             "colorbar": {
              "outlinewidth": 0,
              "ticks": ""
             }
            },
            "type": "scattergl"
           }
          ],
          "scattermapbox": [
           {
            "marker": {
             "colorbar": {
              "outlinewidth": 0,
              "ticks": ""
             }
            },
            "type": "scattermapbox"
           }
          ],
          "scatterpolar": [
           {
            "marker": {
             "colorbar": {
              "outlinewidth": 0,
              "ticks": ""
             }
            },
            "type": "scatterpolar"
           }
          ],
          "scatterpolargl": [
           {
            "marker": {
             "colorbar": {
              "outlinewidth": 0,
              "ticks": ""
             }
            },
            "type": "scatterpolargl"
           }
          ],
          "scatterternary": [
           {
            "marker": {
             "colorbar": {
              "outlinewidth": 0,
              "ticks": ""
             }
            },
            "type": "scatterternary"
           }
          ],
          "surface": [
           {
            "colorbar": {
             "outlinewidth": 0,
             "ticks": ""
            },
            "colorscale": [
             [
              0,
              "#0d0887"
             ],
             [
              0.1111111111111111,
              "#46039f"
             ],
             [
              0.2222222222222222,
              "#7201a8"
             ],
             [
              0.3333333333333333,
              "#9c179e"
             ],
             [
              0.4444444444444444,
              "#bd3786"
             ],
             [
              0.5555555555555556,
              "#d8576b"
             ],
             [
              0.6666666666666666,
              "#ed7953"
             ],
             [
              0.7777777777777778,
              "#fb9f3a"
             ],
             [
              0.8888888888888888,
              "#fdca26"
             ],
             [
              1,
              "#f0f921"
             ]
            ],
            "type": "surface"
           }
          ],
          "table": [
           {
            "cells": {
             "fill": {
              "color": "#EBF0F8"
             },
             "line": {
              "color": "white"
             }
            },
            "header": {
             "fill": {
              "color": "#C8D4E3"
             },
             "line": {
              "color": "white"
             }
            },
            "type": "table"
           }
          ]
         },
         "layout": {
          "annotationdefaults": {
           "arrowcolor": "#2a3f5f",
           "arrowhead": 0,
           "arrowwidth": 1
          },
          "autotypenumbers": "strict",
          "coloraxis": {
           "colorbar": {
            "outlinewidth": 0,
            "ticks": ""
           }
          },
          "colorscale": {
           "diverging": [
            [
             0,
             "#8e0152"
            ],
            [
             0.1,
             "#c51b7d"
            ],
            [
             0.2,
             "#de77ae"
            ],
            [
             0.3,
             "#f1b6da"
            ],
            [
             0.4,
             "#fde0ef"
            ],
            [
             0.5,
             "#f7f7f7"
            ],
            [
             0.6,
             "#e6f5d0"
            ],
            [
             0.7,
             "#b8e186"
            ],
            [
             0.8,
             "#7fbc41"
            ],
            [
             0.9,
             "#4d9221"
            ],
            [
             1,
             "#276419"
            ]
           ],
           "sequential": [
            [
             0,
             "#0d0887"
            ],
            [
             0.1111111111111111,
             "#46039f"
            ],
            [
             0.2222222222222222,
             "#7201a8"
            ],
            [
             0.3333333333333333,
             "#9c179e"
            ],
            [
             0.4444444444444444,
             "#bd3786"
            ],
            [
             0.5555555555555556,
             "#d8576b"
            ],
            [
             0.6666666666666666,
             "#ed7953"
            ],
            [
             0.7777777777777778,
             "#fb9f3a"
            ],
            [
             0.8888888888888888,
             "#fdca26"
            ],
            [
             1,
             "#f0f921"
            ]
           ],
           "sequentialminus": [
            [
             0,
             "#0d0887"
            ],
            [
             0.1111111111111111,
             "#46039f"
            ],
            [
             0.2222222222222222,
             "#7201a8"
            ],
            [
             0.3333333333333333,
             "#9c179e"
            ],
            [
             0.4444444444444444,
             "#bd3786"
            ],
            [
             0.5555555555555556,
             "#d8576b"
            ],
            [
             0.6666666666666666,
             "#ed7953"
            ],
            [
             0.7777777777777778,
             "#fb9f3a"
            ],
            [
             0.8888888888888888,
             "#fdca26"
            ],
            [
             1,
             "#f0f921"
            ]
           ]
          },
          "colorway": [
           "#636efa",
           "#EF553B",
           "#00cc96",
           "#ab63fa",
           "#FFA15A",
           "#19d3f3",
           "#FF6692",
           "#B6E880",
           "#FF97FF",
           "#FECB52"
          ],
          "font": {
           "color": "#2a3f5f"
          },
          "geo": {
           "bgcolor": "white",
           "lakecolor": "white",
           "landcolor": "#E5ECF6",
           "showlakes": true,
           "showland": true,
           "subunitcolor": "white"
          },
          "hoverlabel": {
           "align": "left"
          },
          "hovermode": "closest",
          "mapbox": {
           "style": "light"
          },
          "paper_bgcolor": "white",
          "plot_bgcolor": "#E5ECF6",
          "polar": {
           "angularaxis": {
            "gridcolor": "white",
            "linecolor": "white",
            "ticks": ""
           },
           "bgcolor": "#E5ECF6",
           "radialaxis": {
            "gridcolor": "white",
            "linecolor": "white",
            "ticks": ""
           }
          },
          "scene": {
           "xaxis": {
            "backgroundcolor": "#E5ECF6",
            "gridcolor": "white",
            "gridwidth": 2,
            "linecolor": "white",
            "showbackground": true,
            "ticks": "",
            "zerolinecolor": "white"
           },
           "yaxis": {
            "backgroundcolor": "#E5ECF6",
            "gridcolor": "white",
            "gridwidth": 2,
            "linecolor": "white",
            "showbackground": true,
            "ticks": "",
            "zerolinecolor": "white"
           },
           "zaxis": {
            "backgroundcolor": "#E5ECF6",
            "gridcolor": "white",
            "gridwidth": 2,
            "linecolor": "white",
            "showbackground": true,
            "ticks": "",
            "zerolinecolor": "white"
           }
          },
          "shapedefaults": {
           "line": {
            "color": "#2a3f5f"
           }
          },
          "ternary": {
           "aaxis": {
            "gridcolor": "white",
            "linecolor": "white",
            "ticks": ""
           },
           "baxis": {
            "gridcolor": "white",
            "linecolor": "white",
            "ticks": ""
           },
           "bgcolor": "#E5ECF6",
           "caxis": {
            "gridcolor": "white",
            "linecolor": "white",
            "ticks": ""
           }
          },
          "title": {
           "x": 0.05
          },
          "xaxis": {
           "automargin": true,
           "gridcolor": "white",
           "linecolor": "white",
           "ticks": "",
           "title": {
            "standoff": 15
           },
           "zerolinecolor": "white",
           "zerolinewidth": 2
          },
          "yaxis": {
           "automargin": true,
           "gridcolor": "white",
           "linecolor": "white",
           "ticks": "",
           "title": {
            "standoff": 15
           },
           "zerolinecolor": "white",
           "zerolinewidth": 2
          }
         }
        },
        "title": {
         "text": "Gradient Boost Regressor Most Relevant Feature"
        },
        "width": 700,
        "xaxis": {
         "title": {
          "text": "Score"
         }
        },
        "yaxis": {
         "title": {
          "text": "Feature"
         }
        }
       }
      }
     },
     "metadata": {},
     "output_type": "display_data"
    },
    {
     "data": {
      "application/vnd.plotly.v1+json": {
       "config": {
        "plotlyServerURL": "https://plot.ly"
       },
       "data": [
        {
         "orientation": "h",
         "type": "bar",
         "x": [
          0.0005926951979687844,
          0.0005887723333749095,
          0.000561281023288096,
          0.000509648506163507,
          0.0004544424461307539,
          0.00040926188923986475,
          0.00033068742692874407,
          0.00016840594237952367,
          0.000006208625173931281,
          -0.000058263999226371155,
          -0.00008639503016418803,
          -0.00011767914623603826,
          -0.00015011729941647456,
          -0.0004269496722735022,
          -0.0013182729178381036
         ],
         "y": [
          "Hair dryer",
          "property_type_Apartment",
          "Gym",
          "Clothing storage",
          "Fire extinguisher",
          "Free street parking",
          "Bathtub",
          "room_type_Shared room",
          "Keypad",
          "Single level home",
          "Hot water kettle",
          "Refrigerator",
          "Cleaning available during stay",
          "Crib",
          "review_scores_cleanliness"
         ]
        }
       ],
       "layout": {
        "height": 500,
        "template": {
         "data": {
          "bar": [
           {
            "error_x": {
             "color": "#2a3f5f"
            },
            "error_y": {
             "color": "#2a3f5f"
            },
            "marker": {
             "line": {
              "color": "#E5ECF6",
              "width": 0.5
             },
             "pattern": {
              "fillmode": "overlay",
              "size": 10,
              "solidity": 0.2
             }
            },
            "type": "bar"
           }
          ],
          "barpolar": [
           {
            "marker": {
             "line": {
              "color": "#E5ECF6",
              "width": 0.5
             },
             "pattern": {
              "fillmode": "overlay",
              "size": 10,
              "solidity": 0.2
             }
            },
            "type": "barpolar"
           }
          ],
          "carpet": [
           {
            "aaxis": {
             "endlinecolor": "#2a3f5f",
             "gridcolor": "white",
             "linecolor": "white",
             "minorgridcolor": "white",
             "startlinecolor": "#2a3f5f"
            },
            "baxis": {
             "endlinecolor": "#2a3f5f",
             "gridcolor": "white",
             "linecolor": "white",
             "minorgridcolor": "white",
             "startlinecolor": "#2a3f5f"
            },
            "type": "carpet"
           }
          ],
          "choropleth": [
           {
            "colorbar": {
             "outlinewidth": 0,
             "ticks": ""
            },
            "type": "choropleth"
           }
          ],
          "contour": [
           {
            "colorbar": {
             "outlinewidth": 0,
             "ticks": ""
            },
            "colorscale": [
             [
              0,
              "#0d0887"
             ],
             [
              0.1111111111111111,
              "#46039f"
             ],
             [
              0.2222222222222222,
              "#7201a8"
             ],
             [
              0.3333333333333333,
              "#9c179e"
             ],
             [
              0.4444444444444444,
              "#bd3786"
             ],
             [
              0.5555555555555556,
              "#d8576b"
             ],
             [
              0.6666666666666666,
              "#ed7953"
             ],
             [
              0.7777777777777778,
              "#fb9f3a"
             ],
             [
              0.8888888888888888,
              "#fdca26"
             ],
             [
              1,
              "#f0f921"
             ]
            ],
            "type": "contour"
           }
          ],
          "contourcarpet": [
           {
            "colorbar": {
             "outlinewidth": 0,
             "ticks": ""
            },
            "type": "contourcarpet"
           }
          ],
          "heatmap": [
           {
            "colorbar": {
             "outlinewidth": 0,
             "ticks": ""
            },
            "colorscale": [
             [
              0,
              "#0d0887"
             ],
             [
              0.1111111111111111,
              "#46039f"
             ],
             [
              0.2222222222222222,
              "#7201a8"
             ],
             [
              0.3333333333333333,
              "#9c179e"
             ],
             [
              0.4444444444444444,
              "#bd3786"
             ],
             [
              0.5555555555555556,
              "#d8576b"
             ],
             [
              0.6666666666666666,
              "#ed7953"
             ],
             [
              0.7777777777777778,
              "#fb9f3a"
             ],
             [
              0.8888888888888888,
              "#fdca26"
             ],
             [
              1,
              "#f0f921"
             ]
            ],
            "type": "heatmap"
           }
          ],
          "heatmapgl": [
           {
            "colorbar": {
             "outlinewidth": 0,
             "ticks": ""
            },
            "colorscale": [
             [
              0,
              "#0d0887"
             ],
             [
              0.1111111111111111,
              "#46039f"
             ],
             [
              0.2222222222222222,
              "#7201a8"
             ],
             [
              0.3333333333333333,
              "#9c179e"
             ],
             [
              0.4444444444444444,
              "#bd3786"
             ],
             [
              0.5555555555555556,
              "#d8576b"
             ],
             [
              0.6666666666666666,
              "#ed7953"
             ],
             [
              0.7777777777777778,
              "#fb9f3a"
             ],
             [
              0.8888888888888888,
              "#fdca26"
             ],
             [
              1,
              "#f0f921"
             ]
            ],
            "type": "heatmapgl"
           }
          ],
          "histogram": [
           {
            "marker": {
             "pattern": {
              "fillmode": "overlay",
              "size": 10,
              "solidity": 0.2
             }
            },
            "type": "histogram"
           }
          ],
          "histogram2d": [
           {
            "colorbar": {
             "outlinewidth": 0,
             "ticks": ""
            },
            "colorscale": [
             [
              0,
              "#0d0887"
             ],
             [
              0.1111111111111111,
              "#46039f"
             ],
             [
              0.2222222222222222,
              "#7201a8"
             ],
             [
              0.3333333333333333,
              "#9c179e"
             ],
             [
              0.4444444444444444,
              "#bd3786"
             ],
             [
              0.5555555555555556,
              "#d8576b"
             ],
             [
              0.6666666666666666,
              "#ed7953"
             ],
             [
              0.7777777777777778,
              "#fb9f3a"
             ],
             [
              0.8888888888888888,
              "#fdca26"
             ],
             [
              1,
              "#f0f921"
             ]
            ],
            "type": "histogram2d"
           }
          ],
          "histogram2dcontour": [
           {
            "colorbar": {
             "outlinewidth": 0,
             "ticks": ""
            },
            "colorscale": [
             [
              0,
              "#0d0887"
             ],
             [
              0.1111111111111111,
              "#46039f"
             ],
             [
              0.2222222222222222,
              "#7201a8"
             ],
             [
              0.3333333333333333,
              "#9c179e"
             ],
             [
              0.4444444444444444,
              "#bd3786"
             ],
             [
              0.5555555555555556,
              "#d8576b"
             ],
             [
              0.6666666666666666,
              "#ed7953"
             ],
             [
              0.7777777777777778,
              "#fb9f3a"
             ],
             [
              0.8888888888888888,
              "#fdca26"
             ],
             [
              1,
              "#f0f921"
             ]
            ],
            "type": "histogram2dcontour"
           }
          ],
          "mesh3d": [
           {
            "colorbar": {
             "outlinewidth": 0,
             "ticks": ""
            },
            "type": "mesh3d"
           }
          ],
          "parcoords": [
           {
            "line": {
             "colorbar": {
              "outlinewidth": 0,
              "ticks": ""
             }
            },
            "type": "parcoords"
           }
          ],
          "pie": [
           {
            "automargin": true,
            "type": "pie"
           }
          ],
          "scatter": [
           {
            "fillpattern": {
             "fillmode": "overlay",
             "size": 10,
             "solidity": 0.2
            },
            "type": "scatter"
           }
          ],
          "scatter3d": [
           {
            "line": {
             "colorbar": {
              "outlinewidth": 0,
              "ticks": ""
             }
            },
            "marker": {
             "colorbar": {
              "outlinewidth": 0,
              "ticks": ""
             }
            },
            "type": "scatter3d"
           }
          ],
          "scattercarpet": [
           {
            "marker": {
             "colorbar": {
              "outlinewidth": 0,
              "ticks": ""
             }
            },
            "type": "scattercarpet"
           }
          ],
          "scattergeo": [
           {
            "marker": {
             "colorbar": {
              "outlinewidth": 0,
              "ticks": ""
             }
            },
            "type": "scattergeo"
           }
          ],
          "scattergl": [
           {
            "marker": {
             "colorbar": {
              "outlinewidth": 0,
              "ticks": ""
             }
            },
            "type": "scattergl"
           }
          ],
          "scattermapbox": [
           {
            "marker": {
             "colorbar": {
              "outlinewidth": 0,
              "ticks": ""
             }
            },
            "type": "scattermapbox"
           }
          ],
          "scatterpolar": [
           {
            "marker": {
             "colorbar": {
              "outlinewidth": 0,
              "ticks": ""
             }
            },
            "type": "scatterpolar"
           }
          ],
          "scatterpolargl": [
           {
            "marker": {
             "colorbar": {
              "outlinewidth": 0,
              "ticks": ""
             }
            },
            "type": "scatterpolargl"
           }
          ],
          "scatterternary": [
           {
            "marker": {
             "colorbar": {
              "outlinewidth": 0,
              "ticks": ""
             }
            },
            "type": "scatterternary"
           }
          ],
          "surface": [
           {
            "colorbar": {
             "outlinewidth": 0,
             "ticks": ""
            },
            "colorscale": [
             [
              0,
              "#0d0887"
             ],
             [
              0.1111111111111111,
              "#46039f"
             ],
             [
              0.2222222222222222,
              "#7201a8"
             ],
             [
              0.3333333333333333,
              "#9c179e"
             ],
             [
              0.4444444444444444,
              "#bd3786"
             ],
             [
              0.5555555555555556,
              "#d8576b"
             ],
             [
              0.6666666666666666,
              "#ed7953"
             ],
             [
              0.7777777777777778,
              "#fb9f3a"
             ],
             [
              0.8888888888888888,
              "#fdca26"
             ],
             [
              1,
              "#f0f921"
             ]
            ],
            "type": "surface"
           }
          ],
          "table": [
           {
            "cells": {
             "fill": {
              "color": "#EBF0F8"
             },
             "line": {
              "color": "white"
             }
            },
            "header": {
             "fill": {
              "color": "#C8D4E3"
             },
             "line": {
              "color": "white"
             }
            },
            "type": "table"
           }
          ]
         },
         "layout": {
          "annotationdefaults": {
           "arrowcolor": "#2a3f5f",
           "arrowhead": 0,
           "arrowwidth": 1
          },
          "autotypenumbers": "strict",
          "coloraxis": {
           "colorbar": {
            "outlinewidth": 0,
            "ticks": ""
           }
          },
          "colorscale": {
           "diverging": [
            [
             0,
             "#8e0152"
            ],
            [
             0.1,
             "#c51b7d"
            ],
            [
             0.2,
             "#de77ae"
            ],
            [
             0.3,
             "#f1b6da"
            ],
            [
             0.4,
             "#fde0ef"
            ],
            [
             0.5,
             "#f7f7f7"
            ],
            [
             0.6,
             "#e6f5d0"
            ],
            [
             0.7,
             "#b8e186"
            ],
            [
             0.8,
             "#7fbc41"
            ],
            [
             0.9,
             "#4d9221"
            ],
            [
             1,
             "#276419"
            ]
           ],
           "sequential": [
            [
             0,
             "#0d0887"
            ],
            [
             0.1111111111111111,
             "#46039f"
            ],
            [
             0.2222222222222222,
             "#7201a8"
            ],
            [
             0.3333333333333333,
             "#9c179e"
            ],
            [
             0.4444444444444444,
             "#bd3786"
            ],
            [
             0.5555555555555556,
             "#d8576b"
            ],
            [
             0.6666666666666666,
             "#ed7953"
            ],
            [
             0.7777777777777778,
             "#fb9f3a"
            ],
            [
             0.8888888888888888,
             "#fdca26"
            ],
            [
             1,
             "#f0f921"
            ]
           ],
           "sequentialminus": [
            [
             0,
             "#0d0887"
            ],
            [
             0.1111111111111111,
             "#46039f"
            ],
            [
             0.2222222222222222,
             "#7201a8"
            ],
            [
             0.3333333333333333,
             "#9c179e"
            ],
            [
             0.4444444444444444,
             "#bd3786"
            ],
            [
             0.5555555555555556,
             "#d8576b"
            ],
            [
             0.6666666666666666,
             "#ed7953"
            ],
            [
             0.7777777777777778,
             "#fb9f3a"
            ],
            [
             0.8888888888888888,
             "#fdca26"
            ],
            [
             1,
             "#f0f921"
            ]
           ]
          },
          "colorway": [
           "#636efa",
           "#EF553B",
           "#00cc96",
           "#ab63fa",
           "#FFA15A",
           "#19d3f3",
           "#FF6692",
           "#B6E880",
           "#FF97FF",
           "#FECB52"
          ],
          "font": {
           "color": "#2a3f5f"
          },
          "geo": {
           "bgcolor": "white",
           "lakecolor": "white",
           "landcolor": "#E5ECF6",
           "showlakes": true,
           "showland": true,
           "subunitcolor": "white"
          },
          "hoverlabel": {
           "align": "left"
          },
          "hovermode": "closest",
          "mapbox": {
           "style": "light"
          },
          "paper_bgcolor": "white",
          "plot_bgcolor": "#E5ECF6",
          "polar": {
           "angularaxis": {
            "gridcolor": "white",
            "linecolor": "white",
            "ticks": ""
           },
           "bgcolor": "#E5ECF6",
           "radialaxis": {
            "gridcolor": "white",
            "linecolor": "white",
            "ticks": ""
           }
          },
          "scene": {
           "xaxis": {
            "backgroundcolor": "#E5ECF6",
            "gridcolor": "white",
            "gridwidth": 2,
            "linecolor": "white",
            "showbackground": true,
            "ticks": "",
            "zerolinecolor": "white"
           },
           "yaxis": {
            "backgroundcolor": "#E5ECF6",
            "gridcolor": "white",
            "gridwidth": 2,
            "linecolor": "white",
            "showbackground": true,
            "ticks": "",
            "zerolinecolor": "white"
           },
           "zaxis": {
            "backgroundcolor": "#E5ECF6",
            "gridcolor": "white",
            "gridwidth": 2,
            "linecolor": "white",
            "showbackground": true,
            "ticks": "",
            "zerolinecolor": "white"
           }
          },
          "shapedefaults": {
           "line": {
            "color": "#2a3f5f"
           }
          },
          "ternary": {
           "aaxis": {
            "gridcolor": "white",
            "linecolor": "white",
            "ticks": ""
           },
           "baxis": {
            "gridcolor": "white",
            "linecolor": "white",
            "ticks": ""
           },
           "bgcolor": "#E5ECF6",
           "caxis": {
            "gridcolor": "white",
            "linecolor": "white",
            "ticks": ""
           }
          },
          "title": {
           "x": 0.05
          },
          "xaxis": {
           "automargin": true,
           "gridcolor": "white",
           "linecolor": "white",
           "ticks": "",
           "title": {
            "standoff": 15
           },
           "zerolinecolor": "white",
           "zerolinewidth": 2
          },
          "yaxis": {
           "automargin": true,
           "gridcolor": "white",
           "linecolor": "white",
           "ticks": "",
           "title": {
            "standoff": 15
           },
           "zerolinecolor": "white",
           "zerolinewidth": 2
          }
         }
        },
        "title": {
         "text": "Gradient Boost Regressor Least Relevant Feature"
        },
        "width": 700,
        "xaxis": {
         "title": {
          "text": "Score"
         }
        },
        "yaxis": {
         "title": {
          "text": "Feature"
         }
        }
       }
      }
     },
     "metadata": {},
     "output_type": "display_data"
    }
   ],
   "source": [
    "from sklearn.ensemble import HistGradientBoostingRegressor\n",
    "\n",
    "model = HistGradientBoostingRegressor(random_state=random_state, max_iter=1000)\n",
    "\n",
    "model.fit(X_train, y_train)\n",
    "\n",
    "simulate(model, XXyy, name='Gradient Boost Regressor')\n",
    "\n",
    "feature_plot(model.feature_names_in_, \n",
    "             permutation_importance(model, X_test, y_test, random_state=random_state).importances_mean, \n",
    "             'Gradient Boost Regressor')"
   ]
  },
  {
   "cell_type": "markdown",
   "metadata": {},
   "source": [
    "### Model 3: XGBoost Regression"
   ]
  },
  {
   "cell_type": "markdown",
   "metadata": {},
   "source": [
    "We can use gradient boosting - a type of ensemble machine learning algorithms. Ensemble is a collection of decision trees. Every iteration, a decision tree is added to model to minimise the error. Models are fit using any arbitrary differentiable loss function and gradient descent optimization algorithm, and the goal is to minimise loss gradient. We will use XGBoost API to do the model fitting."
   ]
  },
  {
   "cell_type": "code",
   "execution_count": 73,
   "metadata": {},
   "outputs": [
    {
     "name": "stdout",
     "output_type": "stream",
     "text": [
      "------------------------------\n",
      "Train Score:  0.994\n",
      "Train RMSE:  10.340\n",
      "------------------------------\n",
      "Test Score:  0.846\n",
      "Test RMSE:  50.425\n"
     ]
    },
    {
     "data": {
      "application/vnd.plotly.v1+json": {
       "config": {
        "plotlyServerURL": "https://plot.ly"
       },
       "data": [
        {
         "hovertemplate": "Actual y=%{x}<br>Predicted y=%{y}<extra></extra>",
         "legendgroup": "",
         "marker": {
          "color": "#636efa",
          "symbol": "circle"
         },
         "mode": "markers",
         "name": "",
         "orientation": "v",
         "showlegend": false,
         "type": "scatter",
         "x": [
          100,
          98,
          52,
          160,
          89,
          199,
          420,
          187,
          49,
          79,
          399,
          152,
          400,
          279,
          529,
          100,
          450,
          33,
          49,
          194,
          69,
          100,
          22,
          40,
          386,
          175,
          261,
          59,
          300,
          80,
          63,
          235,
          330,
          79,
          43,
          58,
          50,
          70,
          415,
          204,
          70,
          378,
          44,
          175,
          387,
          260,
          39,
          59,
          50,
          150,
          38,
          448,
          193,
          59,
          109,
          101,
          49,
          130,
          145,
          168,
          50,
          184,
          59,
          133,
          163,
          549,
          60,
          220,
          240,
          70,
          495,
          175,
          179,
          56,
          250,
          399,
          266,
          235,
          114,
          78,
          185,
          470,
          108,
          250,
          81,
          66,
          474,
          130,
          49,
          130,
          49,
          246,
          171,
          230,
          173,
          75,
          180,
          31,
          395,
          400,
          221,
          328,
          45,
          60,
          310,
          65,
          47,
          260,
          85,
          38,
          140,
          399,
          404,
          279,
          65,
          78,
          156,
          55,
          200,
          51,
          328,
          160,
          410,
          39,
          178,
          90,
          300,
          40,
          366,
          140,
          218,
          134,
          373,
          135,
          69,
          188,
          224,
          500,
          250,
          430,
          181,
          60,
          629,
          57,
          95,
          210,
          314,
          195,
          345,
          271,
          90,
          409,
          409,
          349,
          60,
          69,
          140,
          120,
          190,
          103,
          400,
          115,
          134,
          78,
          401,
          80,
          500,
          227,
          39,
          30,
          125,
          228,
          179,
          152,
          165,
          80,
          98,
          315,
          260,
          409,
          399,
          31,
          20,
          70,
          249,
          289,
          470,
          50,
          30,
          250,
          210,
          130,
          331,
          189,
          42,
          148,
          125,
          245,
          85,
          318,
          39,
          229,
          386,
          371,
          24,
          50,
          24,
          456,
          337,
          168,
          65,
          210,
          57,
          110,
          78,
          69,
          50,
          232,
          232,
          189,
          59,
          80,
          27,
          79,
          100,
          80,
          240,
          202,
          482,
          85,
          380,
          206,
          200,
          22,
          113,
          200,
          49,
          59,
          96,
          187,
          394,
          243,
          50,
          99,
          210,
          110,
          404,
          49,
          126,
          49,
          269,
          260,
          181,
          69,
          144,
          120,
          140,
          305,
          180,
          229,
          59,
          105,
          50,
          195,
          140,
          142,
          59,
          223,
          69,
          80,
          270,
          78,
          56,
          151,
          200,
          550,
          276,
          225,
          48,
          137,
          179,
          216,
          222,
          79,
          86,
          430,
          187,
          175,
          208,
          121,
          100,
          59,
          399,
          102,
          46,
          318,
          50,
          196,
          50,
          190,
          173,
          185,
          158,
          320,
          109,
          310,
          49,
          213,
          205,
          116,
          72,
          60,
          47,
          31,
          349,
          463,
          160,
          69,
          301,
          109,
          18,
          226,
          198,
          104,
          40,
          101,
          357,
          400,
          68,
          68,
          575,
          134,
          399,
          173,
          31,
          610,
          284,
          53,
          57,
          55,
          22,
          115,
          517,
          58,
          600,
          85,
          191,
          59,
          55,
          48,
          103,
          219,
          56,
          119,
          127,
          69,
          413,
          137,
          85,
          93,
          117,
          126,
          281,
          38,
          110,
          123,
          508,
          202,
          29,
          290,
          162,
          36,
          225,
          45,
          122,
          414,
          242,
          40,
          70,
          69,
          226,
          38,
          160,
          140,
          98,
          39,
          190,
          59,
          50,
          173,
          204,
          39,
          144,
          89,
          70,
          151,
          184,
          55,
          615,
          188,
          113,
          200,
          75,
          145,
          90,
          52,
          88,
          46,
          85,
          250,
          49,
          42,
          40,
          99,
          246,
          375,
          155,
          69,
          65,
          310,
          130,
          90,
          95,
          162,
          260,
          122,
          324,
          300,
          34,
          190,
          80,
          35,
          144,
          328,
          59,
          59,
          48,
          120,
          209,
          100,
          500,
          40,
          99,
          99,
          156,
          67,
          97,
          150,
          180,
          105,
          188,
          55,
          85,
          110,
          78,
          210,
          155,
          129,
          257,
          145,
          135,
          59,
          140,
          130,
          60,
          211,
          188,
          80,
          219,
          265,
          49,
          56,
          129,
          64,
          93,
          200,
          243,
          168,
          327,
          350,
          39,
          335,
          45,
          193,
          284,
          40,
          404,
          68,
          65,
          39,
          313,
          80,
          53,
          49,
          58,
          126,
          69,
          80,
          110,
          50,
          132,
          80,
          185,
          387,
          27,
          162,
          88,
          153,
          239,
          243,
          99,
          89,
          53,
          131,
          111,
          428,
          150,
          179,
          178,
          295,
          335,
          59,
          33,
          59,
          440,
          142,
          261,
          343,
          188,
          59,
          49,
          109,
          90,
          33,
          80,
          61,
          490,
          69,
          60,
          181,
          66,
          49,
          148,
          429,
          210,
          297,
          500,
          169,
          60,
          90,
          320,
          222,
          136,
          174,
          243
         ],
         "xaxis": "x",
         "y": [
          80.24488067626953,
          104.61103057861328,
          110.42882537841797,
          142.5221710205078,
          224.07711791992188,
          233.90997314453125,
          562.9033813476562,
          196.8966522216797,
          55.16921615600586,
          108.96083068847656,
          392.9826965332031,
          149.3134307861328,
          366.8662109375,
          244.8206329345703,
          467.3013610839844,
          114.05655670166016,
          509.69781494140625,
          17.36370277404785,
          51.781036376953125,
          159.51658630371094,
          73.86066436767578,
          126.4782943725586,
          26.506877899169922,
          93.84894561767578,
          361.5659484863281,
          176.25694274902344,
          231.86593627929688,
          69.37808227539062,
          112.0831298828125,
          102.27234649658203,
          70.6298599243164,
          90.94308471679688,
          103.62857055664062,
          73.74484252929688,
          100.87129974365234,
          58.608829498291016,
          63.188255310058594,
          112.95263671875,
          309.9154357910156,
          230.70855712890625,
          64.76961517333984,
          409.87689208984375,
          71.7410888671875,
          201.5062255859375,
          389.1346740722656,
          181.64117431640625,
          38.28525161743164,
          59.25205612182617,
          87.67424774169922,
          148.12274169921875,
          143.49526977539062,
          422.0287780761719,
          223.12591552734375,
          65.63142395019531,
          109.03993225097656,
          146.56851196289062,
          61.47407913208008,
          132.01071166992188,
          136.7695770263672,
          211.4642791748047,
          58.8221321105957,
          160.29443359375,
          67.48072052001953,
          106.53306579589844,
          157.491455078125,
          466.969970703125,
          84.97213745117188,
          168.09715270996094,
          232.37339782714844,
          113.65494537353516,
          367.7060546875,
          123.70104217529297,
          219.6949005126953,
          52.68769073486328,
          256.19317626953125,
          365.9460754394531,
          230.9588623046875,
          207.66799926757812,
          117.8174819946289,
          129.18780517578125,
          181.1026153564453,
          528.4085693359375,
          118.81613159179688,
          271.42620849609375,
          78.3131332397461,
          91.62760925292969,
          335.2602233886719,
          142.86026000976562,
          56.41273880004883,
          118.10997772216797,
          49.470088958740234,
          243.68443298339844,
          174.25009155273438,
          222.0115203857422,
          197.90402221679688,
          117.10262298583984,
          148.97903442382812,
          48.62565994262695,
          551.3602905273438,
          468.5878601074219,
          216.1143341064453,
          428.99847412109375,
          65.38053894042969,
          99.83271789550781,
          346.359375,
          43.54323959350586,
          85.88008880615234,
          245.7227020263672,
          103.46864318847656,
          60.806488037109375,
          137.30810546875,
          390.21661376953125,
          195.5507049560547,
          226.69090270996094,
          113.53213500976562,
          71.06834411621094,
          149.85781860351562,
          166.46510314941406,
          113.7438735961914,
          50.387596130371094,
          373.6905517578125,
          175.6675567626953,
          501.23480224609375,
          39.299251556396484,
          171.1485595703125,
          85.44229888916016,
          374.0657958984375,
          113.42601776123047,
          424.0450134277344,
          95.14863586425781,
          242.04275512695312,
          137.75527954101562,
          376.2795715332031,
          209.85960388183594,
          63.93402099609375,
          192.2107696533203,
          235.81520080566406,
          234.3894500732422,
          173.9217071533203,
          460.87969970703125,
          171.54788208007812,
          98.50121307373047,
          504.1418151855469,
          52.613441467285156,
          74.43707275390625,
          223.0355987548828,
          93.58975982666016,
          290.5235290527344,
          395.2416076660156,
          261.52252197265625,
          113.5661849975586,
          413.8780517578125,
          370.2433776855469,
          357.1388244628906,
          115.0799560546875,
          67.72586059570312,
          111.9178237915039,
          91.81161499023438,
          180.8473663330078,
          117.64498901367188,
          369.4209899902344,
          135.89393615722656,
          155.2005157470703,
          82.69638061523438,
          414.4434814453125,
          110.58094024658203,
          474.880126953125,
          219.120361328125,
          42.43523406982422,
          30.307191848754883,
          89.3433609008789,
          223.7748260498047,
          180.1647186279297,
          175.47021484375,
          198.422607421875,
          101.91826629638672,
          91.05207824707031,
          271.8372497558594,
          204.45457458496094,
          458.5617980957031,
          338.1822814941406,
          59.029380798339844,
          68.61534881591797,
          82.41596984863281,
          244.08106994628906,
          226.97767639160156,
          446.4215087890625,
          113.33598327636719,
          39.86298370361328,
          241.11016845703125,
          186.59716796875,
          139.00352478027344,
          417.8830871582031,
          111.11383819580078,
          110.76458740234375,
          261.46405029296875,
          126.81729888916016,
          191.73048400878906,
          78.13802337646484,
          355.4229736328125,
          67.55203247070312,
          155.57308959960938,
          330.01446533203125,
          425.94970703125,
          23.58562660217285,
          92.16693115234375,
          28.281051635742188,
          386.69952392578125,
          344.50054931640625,
          38.95078659057617,
          180.4102325439453,
          213.2290496826172,
          71.32805633544922,
          93.6783447265625,
          89.72926330566406,
          67.58930206298828,
          141.48085021972656,
          241.18838500976562,
          198.969970703125,
          217.20265197753906,
          46.51742935180664,
          83.2883071899414,
          26.70059585571289,
          76.14942169189453,
          126.24398040771484,
          74.17326354980469,
          217.42298889160156,
          140.66534423828125,
          288.4516906738281,
          154.89645385742188,
          507.3671875,
          204.69886779785156,
          193.79888916015625,
          35.544891357421875,
          133.06634521484375,
          139.70388793945312,
          54.278812408447266,
          51.510860443115234,
          173.50912475585938,
          215.73916625976562,
          434.19989013671875,
          228.10618591308594,
          89.05819702148438,
          107.56568908691406,
          252.19900512695312,
          180.60562133789062,
          335.06585693359375,
          58.4714469909668,
          117.77404022216797,
          49.1150016784668,
          174.4821319580078,
          246.92774963378906,
          176.948974609375,
          77.41783142089844,
          158.4501190185547,
          148.1559295654297,
          156.42286682128906,
          343.46429443359375,
          208.165771484375,
          253.144287109375,
          83.5900650024414,
          101.28165435791016,
          52.12657928466797,
          217.66619873046875,
          141.49855041503906,
          183.65643310546875,
          53.23707962036133,
          215.20736694335938,
          62.04450988769531,
          124.92207336425781,
          232.8125762939453,
          125.28849029541016,
          47.52357482910156,
          156.7889862060547,
          169.09140014648438,
          485.7689208984375,
          187.32350158691406,
          106.98802947998047,
          81.30998229980469,
          148.66815185546875,
          209.70350646972656,
          240.2255096435547,
          225.0179901123047,
          103.59229278564453,
          124.37142944335938,
          447.82611083984375,
          184.0583038330078,
          188.60609436035156,
          233.9201202392578,
          130.52114868164062,
          124.60269165039062,
          51.44781494140625,
          406.4486999511719,
          139.9832763671875,
          86.27559661865234,
          383.42193603515625,
          61.0429573059082,
          185.23680114746094,
          97.04463958740234,
          218.99163818359375,
          143.7544403076172,
          192.9886474609375,
          174.5236053466797,
          341.74591064453125,
          86.17970275878906,
          367.5816345214844,
          49.33763885498047,
          203.673095703125,
          199.2750244140625,
          164.6942138671875,
          110.35566711425781,
          89.64453887939453,
          105.74507904052734,
          46.79125213623047,
          465.4890441894531,
          443.1695861816406,
          124.84876251220703,
          59.25205612182617,
          360.13409423828125,
          118.80785369873047,
          60.66223907470703,
          217.1531219482422,
          215.31771850585938,
          106.1499252319336,
          94.55126190185547,
          140.66522216796875,
          372.1260986328125,
          396.0543212890625,
          99.36148071289062,
          78.5188217163086,
          398.8581237792969,
          142.1077423095703,
          393.79876708984375,
          155.94171142578125,
          48.75757598876953,
          510.4214782714844,
          354.6369934082031,
          67.73656463623047,
          84.35391998291016,
          37.78868103027344,
          17.47287940979004,
          160.45912170410156,
          492.7985534667969,
          36.873199462890625,
          415.23529052734375,
          62.46364212036133,
          64.06076049804688,
          62.347084045410156,
          94.83061981201172,
          62.319740295410156,
          112.40922546386719,
          213.8430938720703,
          119.48331451416016,
          147.34591674804688,
          211.6433563232422,
          59.09087371826172,
          399.04534912109375,
          149.73654174804688,
          144.63291931152344,
          96.34387969970703,
          145.98782348632812,
          147.73158264160156,
          240.92808532714844,
          85.18840026855469,
          176.13868713378906,
          120.36632537841797,
          445.7021789550781,
          182.05674743652344,
          35.64535903930664,
          423.1140441894531,
          138.78280639648438,
          27.087491989135742,
          192.73365783691406,
          102.40208435058594,
          142.29290771484375,
          370.7226257324219,
          239.83987426757812,
          76.7366943359375,
          125.28826904296875,
          59.36212921142578,
          204.9811248779297,
          68.46417999267578,
          154.1056671142578,
          94.8971939086914,
          75.7249526977539,
          34.72455596923828,
          170.44126892089844,
          56.40420913696289,
          61.29508972167969,
          231.7545623779297,
          191.9112091064453,
          40.2282600402832,
          156.73934936523438,
          138.2140350341797,
          141.7727813720703,
          180.38050842285156,
          175.0353546142578,
          43.50948715209961,
          539.6241455078125,
          164.37533569335938,
          93.84809112548828,
          226.31019592285156,
          43.196319580078125,
          77.09996795654297,
          89.14663696289062,
          89.65866088867188,
          98.62580871582031,
          56.789710998535156,
          106.4202880859375,
          222.2004852294922,
          58.392677307128906,
          38.71980285644531,
          52.80527877807617,
          108.72022247314453,
          247.14059448242188,
          440.98895263671875,
          166.8699188232422,
          77.78816223144531,
          66.53499603271484,
          473.0153503417969,
          128.36158752441406,
          129.14248657226562,
          79.26399230957031,
          143.82467651367188,
          174.28076171875,
          136.44302368164062,
          360.0121154785156,
          458.787109375,
          72.46569061279297,
          221.52723693847656,
          95.05562591552734,
          93.0741195678711,
          134.7444610595703,
          334.4166259765625,
          67.9205093383789,
          89.11865234375,
          62.840179443359375,
          139.80564880371094,
          262.8735656738281,
          187.75010681152344,
          470.41729736328125,
          39.65882110595703,
          62.48344039916992,
          97.09307098388672,
          125.37739562988281,
          94.08277893066406,
          94.49272155761719,
          103.6313705444336,
          199.8317413330078,
          97.21817779541016,
          163.5510711669922,
          101.54036712646484,
          83.09741973876953,
          117.60033416748047,
          93.91116333007812,
          213.7094268798828,
          146.64346313476562,
          115.62471771240234,
          206.31863403320312,
          124.92509460449219,
          93.98513793945312,
          50.04633331298828,
          162.90567016601562,
          83.58113861083984,
          77.34796142578125,
          220.17112731933594,
          192.211181640625,
          100.43002319335938,
          213.42543029785156,
          271.59930419921875,
          52.2098388671875,
          78.89511108398438,
          116.83369445800781,
          89.40480041503906,
          84.63471221923828,
          206.48414611816406,
          255.38478088378906,
          152.5157012939453,
          391.17877197265625,
          392.24847412109375,
          37.78181457519531,
          347.5626525878906,
          70.23424530029297,
          167.82582092285156,
          366.9495544433594,
          85.190185546875,
          392.2528991699219,
          74.54344177246094,
          102.30142974853516,
          39.95288848876953,
          369.2691650390625,
          108.58277130126953,
          60.382205963134766,
          56.45068359375,
          87.6773452758789,
          105.61347198486328,
          55.53905487060547,
          84.67892456054688,
          124.17254638671875,
          61.642791748046875,
          162.6221160888672,
          85.84828186035156,
          135.0347442626953,
          393.5896301269531,
          15.745044708251953,
          103.56468963623047,
          125.04641723632812,
          140.4717559814453,
          257.30474853515625,
          193.05198669433594,
          187.0918731689453,
          86.81966400146484,
          71.55780029296875,
          155.71087646484375,
          222.5915985107422,
          461.2320556640625,
          122.61573028564453,
          183.5880584716797,
          206.8093719482422,
          334.5123291015625,
          327.2322998046875,
          62.90299987792969,
          41.22613525390625,
          90.53677368164062,
          460.1561584472656,
          148.06317138671875,
          231.86593627929688,
          335.65155029296875,
          147.16102600097656,
          57.967098236083984,
          53.248634338378906,
          103.95670318603516,
          84.56936645507812,
          81.63152313232422,
          95.02461242675781,
          103.2723388671875,
          230.73348999023438,
          68.71185302734375,
          81.5324478149414,
          236.38279724121094,
          79.78599548339844,
          47.76875686645508,
          178.83363342285156,
          420.3341369628906,
          122.1965560913086,
          407.9815979003906,
          361.610107421875,
          190.0531463623047,
          92.68329620361328,
          157.18670654296875,
          392.24176025390625,
          178.702392578125,
          113.77501678466797,
          168.4803924560547,
          256.8313903808594
         ],
         "yaxis": "y"
        },
        {
         "line": {
          "color": "gray"
         },
         "mode": "lines",
         "showlegend": false,
         "type": "scatter",
         "x": [
          0,
          600
         ],
         "y": [
          0,
          600
         ]
        },
        {
         "line": {
          "dash": "dot"
         },
         "mode": "lines",
         "showlegend": false,
         "type": "scatter",
         "x": [
          0,
          600
         ],
         "y": [
          132.3645418384225,
          732.3645418384225
         ]
        },
        {
         "line": {
          "dash": "dot"
         },
         "mode": "lines",
         "showlegend": false,
         "type": "scatter",
         "x": [
          0,
          600
         ],
         "y": [
          -132.3645418384225,
          467.6354581615775
         ]
        }
       ],
       "layout": {
        "height": 500,
        "legend": {
         "tracegroupgap": 0
        },
        "template": {
         "data": {
          "bar": [
           {
            "error_x": {
             "color": "#2a3f5f"
            },
            "error_y": {
             "color": "#2a3f5f"
            },
            "marker": {
             "line": {
              "color": "#E5ECF6",
              "width": 0.5
             },
             "pattern": {
              "fillmode": "overlay",
              "size": 10,
              "solidity": 0.2
             }
            },
            "type": "bar"
           }
          ],
          "barpolar": [
           {
            "marker": {
             "line": {
              "color": "#E5ECF6",
              "width": 0.5
             },
             "pattern": {
              "fillmode": "overlay",
              "size": 10,
              "solidity": 0.2
             }
            },
            "type": "barpolar"
           }
          ],
          "carpet": [
           {
            "aaxis": {
             "endlinecolor": "#2a3f5f",
             "gridcolor": "white",
             "linecolor": "white",
             "minorgridcolor": "white",
             "startlinecolor": "#2a3f5f"
            },
            "baxis": {
             "endlinecolor": "#2a3f5f",
             "gridcolor": "white",
             "linecolor": "white",
             "minorgridcolor": "white",
             "startlinecolor": "#2a3f5f"
            },
            "type": "carpet"
           }
          ],
          "choropleth": [
           {
            "colorbar": {
             "outlinewidth": 0,
             "ticks": ""
            },
            "type": "choropleth"
           }
          ],
          "contour": [
           {
            "colorbar": {
             "outlinewidth": 0,
             "ticks": ""
            },
            "colorscale": [
             [
              0,
              "#0d0887"
             ],
             [
              0.1111111111111111,
              "#46039f"
             ],
             [
              0.2222222222222222,
              "#7201a8"
             ],
             [
              0.3333333333333333,
              "#9c179e"
             ],
             [
              0.4444444444444444,
              "#bd3786"
             ],
             [
              0.5555555555555556,
              "#d8576b"
             ],
             [
              0.6666666666666666,
              "#ed7953"
             ],
             [
              0.7777777777777778,
              "#fb9f3a"
             ],
             [
              0.8888888888888888,
              "#fdca26"
             ],
             [
              1,
              "#f0f921"
             ]
            ],
            "type": "contour"
           }
          ],
          "contourcarpet": [
           {
            "colorbar": {
             "outlinewidth": 0,
             "ticks": ""
            },
            "type": "contourcarpet"
           }
          ],
          "heatmap": [
           {
            "colorbar": {
             "outlinewidth": 0,
             "ticks": ""
            },
            "colorscale": [
             [
              0,
              "#0d0887"
             ],
             [
              0.1111111111111111,
              "#46039f"
             ],
             [
              0.2222222222222222,
              "#7201a8"
             ],
             [
              0.3333333333333333,
              "#9c179e"
             ],
             [
              0.4444444444444444,
              "#bd3786"
             ],
             [
              0.5555555555555556,
              "#d8576b"
             ],
             [
              0.6666666666666666,
              "#ed7953"
             ],
             [
              0.7777777777777778,
              "#fb9f3a"
             ],
             [
              0.8888888888888888,
              "#fdca26"
             ],
             [
              1,
              "#f0f921"
             ]
            ],
            "type": "heatmap"
           }
          ],
          "heatmapgl": [
           {
            "colorbar": {
             "outlinewidth": 0,
             "ticks": ""
            },
            "colorscale": [
             [
              0,
              "#0d0887"
             ],
             [
              0.1111111111111111,
              "#46039f"
             ],
             [
              0.2222222222222222,
              "#7201a8"
             ],
             [
              0.3333333333333333,
              "#9c179e"
             ],
             [
              0.4444444444444444,
              "#bd3786"
             ],
             [
              0.5555555555555556,
              "#d8576b"
             ],
             [
              0.6666666666666666,
              "#ed7953"
             ],
             [
              0.7777777777777778,
              "#fb9f3a"
             ],
             [
              0.8888888888888888,
              "#fdca26"
             ],
             [
              1,
              "#f0f921"
             ]
            ],
            "type": "heatmapgl"
           }
          ],
          "histogram": [
           {
            "marker": {
             "pattern": {
              "fillmode": "overlay",
              "size": 10,
              "solidity": 0.2
             }
            },
            "type": "histogram"
           }
          ],
          "histogram2d": [
           {
            "colorbar": {
             "outlinewidth": 0,
             "ticks": ""
            },
            "colorscale": [
             [
              0,
              "#0d0887"
             ],
             [
              0.1111111111111111,
              "#46039f"
             ],
             [
              0.2222222222222222,
              "#7201a8"
             ],
             [
              0.3333333333333333,
              "#9c179e"
             ],
             [
              0.4444444444444444,
              "#bd3786"
             ],
             [
              0.5555555555555556,
              "#d8576b"
             ],
             [
              0.6666666666666666,
              "#ed7953"
             ],
             [
              0.7777777777777778,
              "#fb9f3a"
             ],
             [
              0.8888888888888888,
              "#fdca26"
             ],
             [
              1,
              "#f0f921"
             ]
            ],
            "type": "histogram2d"
           }
          ],
          "histogram2dcontour": [
           {
            "colorbar": {
             "outlinewidth": 0,
             "ticks": ""
            },
            "colorscale": [
             [
              0,
              "#0d0887"
             ],
             [
              0.1111111111111111,
              "#46039f"
             ],
             [
              0.2222222222222222,
              "#7201a8"
             ],
             [
              0.3333333333333333,
              "#9c179e"
             ],
             [
              0.4444444444444444,
              "#bd3786"
             ],
             [
              0.5555555555555556,
              "#d8576b"
             ],
             [
              0.6666666666666666,
              "#ed7953"
             ],
             [
              0.7777777777777778,
              "#fb9f3a"
             ],
             [
              0.8888888888888888,
              "#fdca26"
             ],
             [
              1,
              "#f0f921"
             ]
            ],
            "type": "histogram2dcontour"
           }
          ],
          "mesh3d": [
           {
            "colorbar": {
             "outlinewidth": 0,
             "ticks": ""
            },
            "type": "mesh3d"
           }
          ],
          "parcoords": [
           {
            "line": {
             "colorbar": {
              "outlinewidth": 0,
              "ticks": ""
             }
            },
            "type": "parcoords"
           }
          ],
          "pie": [
           {
            "automargin": true,
            "type": "pie"
           }
          ],
          "scatter": [
           {
            "fillpattern": {
             "fillmode": "overlay",
             "size": 10,
             "solidity": 0.2
            },
            "type": "scatter"
           }
          ],
          "scatter3d": [
           {
            "line": {
             "colorbar": {
              "outlinewidth": 0,
              "ticks": ""
             }
            },
            "marker": {
             "colorbar": {
              "outlinewidth": 0,
              "ticks": ""
             }
            },
            "type": "scatter3d"
           }
          ],
          "scattercarpet": [
           {
            "marker": {
             "colorbar": {
              "outlinewidth": 0,
              "ticks": ""
             }
            },
            "type": "scattercarpet"
           }
          ],
          "scattergeo": [
           {
            "marker": {
             "colorbar": {
              "outlinewidth": 0,
              "ticks": ""
             }
            },
            "type": "scattergeo"
           }
          ],
          "scattergl": [
           {
            "marker": {
             "colorbar": {
              "outlinewidth": 0,
              "ticks": ""
             }
            },
            "type": "scattergl"
           }
          ],
          "scattermapbox": [
           {
            "marker": {
             "colorbar": {
              "outlinewidth": 0,
              "ticks": ""
             }
            },
            "type": "scattermapbox"
           }
          ],
          "scatterpolar": [
           {
            "marker": {
             "colorbar": {
              "outlinewidth": 0,
              "ticks": ""
             }
            },
            "type": "scatterpolar"
           }
          ],
          "scatterpolargl": [
           {
            "marker": {
             "colorbar": {
              "outlinewidth": 0,
              "ticks": ""
             }
            },
            "type": "scatterpolargl"
           }
          ],
          "scatterternary": [
           {
            "marker": {
             "colorbar": {
              "outlinewidth": 0,
              "ticks": ""
             }
            },
            "type": "scatterternary"
           }
          ],
          "surface": [
           {
            "colorbar": {
             "outlinewidth": 0,
             "ticks": ""
            },
            "colorscale": [
             [
              0,
              "#0d0887"
             ],
             [
              0.1111111111111111,
              "#46039f"
             ],
             [
              0.2222222222222222,
              "#7201a8"
             ],
             [
              0.3333333333333333,
              "#9c179e"
             ],
             [
              0.4444444444444444,
              "#bd3786"
             ],
             [
              0.5555555555555556,
              "#d8576b"
             ],
             [
              0.6666666666666666,
              "#ed7953"
             ],
             [
              0.7777777777777778,
              "#fb9f3a"
             ],
             [
              0.8888888888888888,
              "#fdca26"
             ],
             [
              1,
              "#f0f921"
             ]
            ],
            "type": "surface"
           }
          ],
          "table": [
           {
            "cells": {
             "fill": {
              "color": "#EBF0F8"
             },
             "line": {
              "color": "white"
             }
            },
            "header": {
             "fill": {
              "color": "#C8D4E3"
             },
             "line": {
              "color": "white"
             }
            },
            "type": "table"
           }
          ]
         },
         "layout": {
          "annotationdefaults": {
           "arrowcolor": "#2a3f5f",
           "arrowhead": 0,
           "arrowwidth": 1
          },
          "autotypenumbers": "strict",
          "coloraxis": {
           "colorbar": {
            "outlinewidth": 0,
            "ticks": ""
           }
          },
          "colorscale": {
           "diverging": [
            [
             0,
             "#8e0152"
            ],
            [
             0.1,
             "#c51b7d"
            ],
            [
             0.2,
             "#de77ae"
            ],
            [
             0.3,
             "#f1b6da"
            ],
            [
             0.4,
             "#fde0ef"
            ],
            [
             0.5,
             "#f7f7f7"
            ],
            [
             0.6,
             "#e6f5d0"
            ],
            [
             0.7,
             "#b8e186"
            ],
            [
             0.8,
             "#7fbc41"
            ],
            [
             0.9,
             "#4d9221"
            ],
            [
             1,
             "#276419"
            ]
           ],
           "sequential": [
            [
             0,
             "#0d0887"
            ],
            [
             0.1111111111111111,
             "#46039f"
            ],
            [
             0.2222222222222222,
             "#7201a8"
            ],
            [
             0.3333333333333333,
             "#9c179e"
            ],
            [
             0.4444444444444444,
             "#bd3786"
            ],
            [
             0.5555555555555556,
             "#d8576b"
            ],
            [
             0.6666666666666666,
             "#ed7953"
            ],
            [
             0.7777777777777778,
             "#fb9f3a"
            ],
            [
             0.8888888888888888,
             "#fdca26"
            ],
            [
             1,
             "#f0f921"
            ]
           ],
           "sequentialminus": [
            [
             0,
             "#0d0887"
            ],
            [
             0.1111111111111111,
             "#46039f"
            ],
            [
             0.2222222222222222,
             "#7201a8"
            ],
            [
             0.3333333333333333,
             "#9c179e"
            ],
            [
             0.4444444444444444,
             "#bd3786"
            ],
            [
             0.5555555555555556,
             "#d8576b"
            ],
            [
             0.6666666666666666,
             "#ed7953"
            ],
            [
             0.7777777777777778,
             "#fb9f3a"
            ],
            [
             0.8888888888888888,
             "#fdca26"
            ],
            [
             1,
             "#f0f921"
            ]
           ]
          },
          "colorway": [
           "#636efa",
           "#EF553B",
           "#00cc96",
           "#ab63fa",
           "#FFA15A",
           "#19d3f3",
           "#FF6692",
           "#B6E880",
           "#FF97FF",
           "#FECB52"
          ],
          "font": {
           "color": "#2a3f5f"
          },
          "geo": {
           "bgcolor": "white",
           "lakecolor": "white",
           "landcolor": "#E5ECF6",
           "showlakes": true,
           "showland": true,
           "subunitcolor": "white"
          },
          "hoverlabel": {
           "align": "left"
          },
          "hovermode": "closest",
          "mapbox": {
           "style": "light"
          },
          "paper_bgcolor": "white",
          "plot_bgcolor": "#E5ECF6",
          "polar": {
           "angularaxis": {
            "gridcolor": "white",
            "linecolor": "white",
            "ticks": ""
           },
           "bgcolor": "#E5ECF6",
           "radialaxis": {
            "gridcolor": "white",
            "linecolor": "white",
            "ticks": ""
           }
          },
          "scene": {
           "xaxis": {
            "backgroundcolor": "#E5ECF6",
            "gridcolor": "white",
            "gridwidth": 2,
            "linecolor": "white",
            "showbackground": true,
            "ticks": "",
            "zerolinecolor": "white"
           },
           "yaxis": {
            "backgroundcolor": "#E5ECF6",
            "gridcolor": "white",
            "gridwidth": 2,
            "linecolor": "white",
            "showbackground": true,
            "ticks": "",
            "zerolinecolor": "white"
           },
           "zaxis": {
            "backgroundcolor": "#E5ECF6",
            "gridcolor": "white",
            "gridwidth": 2,
            "linecolor": "white",
            "showbackground": true,
            "ticks": "",
            "zerolinecolor": "white"
           }
          },
          "shapedefaults": {
           "line": {
            "color": "#2a3f5f"
           }
          },
          "ternary": {
           "aaxis": {
            "gridcolor": "white",
            "linecolor": "white",
            "ticks": ""
           },
           "baxis": {
            "gridcolor": "white",
            "linecolor": "white",
            "ticks": ""
           },
           "bgcolor": "#E5ECF6",
           "caxis": {
            "gridcolor": "white",
            "linecolor": "white",
            "ticks": ""
           }
          },
          "title": {
           "x": 0.05
          },
          "xaxis": {
           "automargin": true,
           "gridcolor": "white",
           "linecolor": "white",
           "ticks": "",
           "title": {
            "standoff": 15
           },
           "zerolinecolor": "white",
           "zerolinewidth": 2
          },
          "yaxis": {
           "automargin": true,
           "gridcolor": "white",
           "linecolor": "white",
           "ticks": "",
           "title": {
            "standoff": 15
           },
           "zerolinecolor": "white",
           "zerolinewidth": 2
          }
         }
        },
        "title": {
         "text": "XGBoost Regressor"
        },
        "width": 700,
        "xaxis": {
         "anchor": "y",
         "domain": [
          0,
          1
         ],
         "title": {
          "text": "Actual y"
         }
        },
        "yaxis": {
         "anchor": "x",
         "domain": [
          0,
          1
         ],
         "title": {
          "text": "Predicted y"
         }
        }
       }
      }
     },
     "metadata": {},
     "output_type": "display_data"
    },
    {
     "data": {
      "application/vnd.plotly.v1+json": {
       "config": {
        "plotlyServerURL": "https://plot.ly"
       },
       "data": [
        {
         "orientation": "h",
         "type": "bar",
         "x": [
          10512,
          9601,
          9061,
          8677,
          8144,
          7804,
          5519,
          5194,
          5129,
          4665,
          4226,
          3178,
          2857,
          2139,
          1541
         ],
         "y": [
          "distance_from_MRT",
          "distance_from_Food",
          "distance_from_Bus",
          "distance_from_Mall",
          "availability_365",
          "distance_from_School",
          "host_response_rate",
          "accommodates",
          "number_of_reviews",
          "host_since_years",
          "review_scores_cleanliness",
          "distanceCluster",
          "property_type_Apartment",
          "beds",
          "room_type_Entire home/apt"
         ]
        }
       ],
       "layout": {
        "height": 500,
        "template": {
         "data": {
          "bar": [
           {
            "error_x": {
             "color": "#2a3f5f"
            },
            "error_y": {
             "color": "#2a3f5f"
            },
            "marker": {
             "line": {
              "color": "#E5ECF6",
              "width": 0.5
             },
             "pattern": {
              "fillmode": "overlay",
              "size": 10,
              "solidity": 0.2
             }
            },
            "type": "bar"
           }
          ],
          "barpolar": [
           {
            "marker": {
             "line": {
              "color": "#E5ECF6",
              "width": 0.5
             },
             "pattern": {
              "fillmode": "overlay",
              "size": 10,
              "solidity": 0.2
             }
            },
            "type": "barpolar"
           }
          ],
          "carpet": [
           {
            "aaxis": {
             "endlinecolor": "#2a3f5f",
             "gridcolor": "white",
             "linecolor": "white",
             "minorgridcolor": "white",
             "startlinecolor": "#2a3f5f"
            },
            "baxis": {
             "endlinecolor": "#2a3f5f",
             "gridcolor": "white",
             "linecolor": "white",
             "minorgridcolor": "white",
             "startlinecolor": "#2a3f5f"
            },
            "type": "carpet"
           }
          ],
          "choropleth": [
           {
            "colorbar": {
             "outlinewidth": 0,
             "ticks": ""
            },
            "type": "choropleth"
           }
          ],
          "contour": [
           {
            "colorbar": {
             "outlinewidth": 0,
             "ticks": ""
            },
            "colorscale": [
             [
              0,
              "#0d0887"
             ],
             [
              0.1111111111111111,
              "#46039f"
             ],
             [
              0.2222222222222222,
              "#7201a8"
             ],
             [
              0.3333333333333333,
              "#9c179e"
             ],
             [
              0.4444444444444444,
              "#bd3786"
             ],
             [
              0.5555555555555556,
              "#d8576b"
             ],
             [
              0.6666666666666666,
              "#ed7953"
             ],
             [
              0.7777777777777778,
              "#fb9f3a"
             ],
             [
              0.8888888888888888,
              "#fdca26"
             ],
             [
              1,
              "#f0f921"
             ]
            ],
            "type": "contour"
           }
          ],
          "contourcarpet": [
           {
            "colorbar": {
             "outlinewidth": 0,
             "ticks": ""
            },
            "type": "contourcarpet"
           }
          ],
          "heatmap": [
           {
            "colorbar": {
             "outlinewidth": 0,
             "ticks": ""
            },
            "colorscale": [
             [
              0,
              "#0d0887"
             ],
             [
              0.1111111111111111,
              "#46039f"
             ],
             [
              0.2222222222222222,
              "#7201a8"
             ],
             [
              0.3333333333333333,
              "#9c179e"
             ],
             [
              0.4444444444444444,
              "#bd3786"
             ],
             [
              0.5555555555555556,
              "#d8576b"
             ],
             [
              0.6666666666666666,
              "#ed7953"
             ],
             [
              0.7777777777777778,
              "#fb9f3a"
             ],
             [
              0.8888888888888888,
              "#fdca26"
             ],
             [
              1,
              "#f0f921"
             ]
            ],
            "type": "heatmap"
           }
          ],
          "heatmapgl": [
           {
            "colorbar": {
             "outlinewidth": 0,
             "ticks": ""
            },
            "colorscale": [
             [
              0,
              "#0d0887"
             ],
             [
              0.1111111111111111,
              "#46039f"
             ],
             [
              0.2222222222222222,
              "#7201a8"
             ],
             [
              0.3333333333333333,
              "#9c179e"
             ],
             [
              0.4444444444444444,
              "#bd3786"
             ],
             [
              0.5555555555555556,
              "#d8576b"
             ],
             [
              0.6666666666666666,
              "#ed7953"
             ],
             [
              0.7777777777777778,
              "#fb9f3a"
             ],
             [
              0.8888888888888888,
              "#fdca26"
             ],
             [
              1,
              "#f0f921"
             ]
            ],
            "type": "heatmapgl"
           }
          ],
          "histogram": [
           {
            "marker": {
             "pattern": {
              "fillmode": "overlay",
              "size": 10,
              "solidity": 0.2
             }
            },
            "type": "histogram"
           }
          ],
          "histogram2d": [
           {
            "colorbar": {
             "outlinewidth": 0,
             "ticks": ""
            },
            "colorscale": [
             [
              0,
              "#0d0887"
             ],
             [
              0.1111111111111111,
              "#46039f"
             ],
             [
              0.2222222222222222,
              "#7201a8"
             ],
             [
              0.3333333333333333,
              "#9c179e"
             ],
             [
              0.4444444444444444,
              "#bd3786"
             ],
             [
              0.5555555555555556,
              "#d8576b"
             ],
             [
              0.6666666666666666,
              "#ed7953"
             ],
             [
              0.7777777777777778,
              "#fb9f3a"
             ],
             [
              0.8888888888888888,
              "#fdca26"
             ],
             [
              1,
              "#f0f921"
             ]
            ],
            "type": "histogram2d"
           }
          ],
          "histogram2dcontour": [
           {
            "colorbar": {
             "outlinewidth": 0,
             "ticks": ""
            },
            "colorscale": [
             [
              0,
              "#0d0887"
             ],
             [
              0.1111111111111111,
              "#46039f"
             ],
             [
              0.2222222222222222,
              "#7201a8"
             ],
             [
              0.3333333333333333,
              "#9c179e"
             ],
             [
              0.4444444444444444,
              "#bd3786"
             ],
             [
              0.5555555555555556,
              "#d8576b"
             ],
             [
              0.6666666666666666,
              "#ed7953"
             ],
             [
              0.7777777777777778,
              "#fb9f3a"
             ],
             [
              0.8888888888888888,
              "#fdca26"
             ],
             [
              1,
              "#f0f921"
             ]
            ],
            "type": "histogram2dcontour"
           }
          ],
          "mesh3d": [
           {
            "colorbar": {
             "outlinewidth": 0,
             "ticks": ""
            },
            "type": "mesh3d"
           }
          ],
          "parcoords": [
           {
            "line": {
             "colorbar": {
              "outlinewidth": 0,
              "ticks": ""
             }
            },
            "type": "parcoords"
           }
          ],
          "pie": [
           {
            "automargin": true,
            "type": "pie"
           }
          ],
          "scatter": [
           {
            "fillpattern": {
             "fillmode": "overlay",
             "size": 10,
             "solidity": 0.2
            },
            "type": "scatter"
           }
          ],
          "scatter3d": [
           {
            "line": {
             "colorbar": {
              "outlinewidth": 0,
              "ticks": ""
             }
            },
            "marker": {
             "colorbar": {
              "outlinewidth": 0,
              "ticks": ""
             }
            },
            "type": "scatter3d"
           }
          ],
          "scattercarpet": [
           {
            "marker": {
             "colorbar": {
              "outlinewidth": 0,
              "ticks": ""
             }
            },
            "type": "scattercarpet"
           }
          ],
          "scattergeo": [
           {
            "marker": {
             "colorbar": {
              "outlinewidth": 0,
              "ticks": ""
             }
            },
            "type": "scattergeo"
           }
          ],
          "scattergl": [
           {
            "marker": {
             "colorbar": {
              "outlinewidth": 0,
              "ticks": ""
             }
            },
            "type": "scattergl"
           }
          ],
          "scattermapbox": [
           {
            "marker": {
             "colorbar": {
              "outlinewidth": 0,
              "ticks": ""
             }
            },
            "type": "scattermapbox"
           }
          ],
          "scatterpolar": [
           {
            "marker": {
             "colorbar": {
              "outlinewidth": 0,
              "ticks": ""
             }
            },
            "type": "scatterpolar"
           }
          ],
          "scatterpolargl": [
           {
            "marker": {
             "colorbar": {
              "outlinewidth": 0,
              "ticks": ""
             }
            },
            "type": "scatterpolargl"
           }
          ],
          "scatterternary": [
           {
            "marker": {
             "colorbar": {
              "outlinewidth": 0,
              "ticks": ""
             }
            },
            "type": "scatterternary"
           }
          ],
          "surface": [
           {
            "colorbar": {
             "outlinewidth": 0,
             "ticks": ""
            },
            "colorscale": [
             [
              0,
              "#0d0887"
             ],
             [
              0.1111111111111111,
              "#46039f"
             ],
             [
              0.2222222222222222,
              "#7201a8"
             ],
             [
              0.3333333333333333,
              "#9c179e"
             ],
             [
              0.4444444444444444,
              "#bd3786"
             ],
             [
              0.5555555555555556,
              "#d8576b"
             ],
             [
              0.6666666666666666,
              "#ed7953"
             ],
             [
              0.7777777777777778,
              "#fb9f3a"
             ],
             [
              0.8888888888888888,
              "#fdca26"
             ],
             [
              1,
              "#f0f921"
             ]
            ],
            "type": "surface"
           }
          ],
          "table": [
           {
            "cells": {
             "fill": {
              "color": "#EBF0F8"
             },
             "line": {
              "color": "white"
             }
            },
            "header": {
             "fill": {
              "color": "#C8D4E3"
             },
             "line": {
              "color": "white"
             }
            },
            "type": "table"
           }
          ]
         },
         "layout": {
          "annotationdefaults": {
           "arrowcolor": "#2a3f5f",
           "arrowhead": 0,
           "arrowwidth": 1
          },
          "autotypenumbers": "strict",
          "coloraxis": {
           "colorbar": {
            "outlinewidth": 0,
            "ticks": ""
           }
          },
          "colorscale": {
           "diverging": [
            [
             0,
             "#8e0152"
            ],
            [
             0.1,
             "#c51b7d"
            ],
            [
             0.2,
             "#de77ae"
            ],
            [
             0.3,
             "#f1b6da"
            ],
            [
             0.4,
             "#fde0ef"
            ],
            [
             0.5,
             "#f7f7f7"
            ],
            [
             0.6,
             "#e6f5d0"
            ],
            [
             0.7,
             "#b8e186"
            ],
            [
             0.8,
             "#7fbc41"
            ],
            [
             0.9,
             "#4d9221"
            ],
            [
             1,
             "#276419"
            ]
           ],
           "sequential": [
            [
             0,
             "#0d0887"
            ],
            [
             0.1111111111111111,
             "#46039f"
            ],
            [
             0.2222222222222222,
             "#7201a8"
            ],
            [
             0.3333333333333333,
             "#9c179e"
            ],
            [
             0.4444444444444444,
             "#bd3786"
            ],
            [
             0.5555555555555556,
             "#d8576b"
            ],
            [
             0.6666666666666666,
             "#ed7953"
            ],
            [
             0.7777777777777778,
             "#fb9f3a"
            ],
            [
             0.8888888888888888,
             "#fdca26"
            ],
            [
             1,
             "#f0f921"
            ]
           ],
           "sequentialminus": [
            [
             0,
             "#0d0887"
            ],
            [
             0.1111111111111111,
             "#46039f"
            ],
            [
             0.2222222222222222,
             "#7201a8"
            ],
            [
             0.3333333333333333,
             "#9c179e"
            ],
            [
             0.4444444444444444,
             "#bd3786"
            ],
            [
             0.5555555555555556,
             "#d8576b"
            ],
            [
             0.6666666666666666,
             "#ed7953"
            ],
            [
             0.7777777777777778,
             "#fb9f3a"
            ],
            [
             0.8888888888888888,
             "#fdca26"
            ],
            [
             1,
             "#f0f921"
            ]
           ]
          },
          "colorway": [
           "#636efa",
           "#EF553B",
           "#00cc96",
           "#ab63fa",
           "#FFA15A",
           "#19d3f3",
           "#FF6692",
           "#B6E880",
           "#FF97FF",
           "#FECB52"
          ],
          "font": {
           "color": "#2a3f5f"
          },
          "geo": {
           "bgcolor": "white",
           "lakecolor": "white",
           "landcolor": "#E5ECF6",
           "showlakes": true,
           "showland": true,
           "subunitcolor": "white"
          },
          "hoverlabel": {
           "align": "left"
          },
          "hovermode": "closest",
          "mapbox": {
           "style": "light"
          },
          "paper_bgcolor": "white",
          "plot_bgcolor": "#E5ECF6",
          "polar": {
           "angularaxis": {
            "gridcolor": "white",
            "linecolor": "white",
            "ticks": ""
           },
           "bgcolor": "#E5ECF6",
           "radialaxis": {
            "gridcolor": "white",
            "linecolor": "white",
            "ticks": ""
           }
          },
          "scene": {
           "xaxis": {
            "backgroundcolor": "#E5ECF6",
            "gridcolor": "white",
            "gridwidth": 2,
            "linecolor": "white",
            "showbackground": true,
            "ticks": "",
            "zerolinecolor": "white"
           },
           "yaxis": {
            "backgroundcolor": "#E5ECF6",
            "gridcolor": "white",
            "gridwidth": 2,
            "linecolor": "white",
            "showbackground": true,
            "ticks": "",
            "zerolinecolor": "white"
           },
           "zaxis": {
            "backgroundcolor": "#E5ECF6",
            "gridcolor": "white",
            "gridwidth": 2,
            "linecolor": "white",
            "showbackground": true,
            "ticks": "",
            "zerolinecolor": "white"
           }
          },
          "shapedefaults": {
           "line": {
            "color": "#2a3f5f"
           }
          },
          "ternary": {
           "aaxis": {
            "gridcolor": "white",
            "linecolor": "white",
            "ticks": ""
           },
           "baxis": {
            "gridcolor": "white",
            "linecolor": "white",
            "ticks": ""
           },
           "bgcolor": "#E5ECF6",
           "caxis": {
            "gridcolor": "white",
            "linecolor": "white",
            "ticks": ""
           }
          },
          "title": {
           "x": 0.05
          },
          "xaxis": {
           "automargin": true,
           "gridcolor": "white",
           "linecolor": "white",
           "ticks": "",
           "title": {
            "standoff": 15
           },
           "zerolinecolor": "white",
           "zerolinewidth": 2
          },
          "yaxis": {
           "automargin": true,
           "gridcolor": "white",
           "linecolor": "white",
           "ticks": "",
           "title": {
            "standoff": 15
           },
           "zerolinecolor": "white",
           "zerolinewidth": 2
          }
         }
        },
        "title": {
         "text": "XGBoost Regressor Most Relevant Feature"
        },
        "width": 700,
        "xaxis": {
         "title": {
          "text": "Score"
         }
        },
        "yaxis": {
         "title": {
          "text": "Feature"
         }
        }
       }
      }
     },
     "metadata": {},
     "output_type": "display_data"
    },
    {
     "data": {
      "application/vnd.plotly.v1+json": {
       "config": {
        "plotlyServerURL": "https://plot.ly"
       },
       "data": [
        {
         "orientation": "h",
         "type": "bar",
         "x": [
          597,
          585,
          578,
          567,
          517,
          499,
          458,
          387,
          351,
          277,
          225,
          207,
          204,
          178,
          87
         ],
         "y": [
          "Refrigerator",
          "room_type_Shared room",
          "BBQ grill",
          "Crib",
          "Microwave",
          "Hot water kettle",
          "Cleaning available during stay",
          "Cooking basics",
          "Bathtub",
          "Paid parking off premises",
          "Free street parking",
          "Dining table",
          "Clothing storage",
          "Single level home",
          "Keypad"
         ]
        }
       ],
       "layout": {
        "height": 500,
        "template": {
         "data": {
          "bar": [
           {
            "error_x": {
             "color": "#2a3f5f"
            },
            "error_y": {
             "color": "#2a3f5f"
            },
            "marker": {
             "line": {
              "color": "#E5ECF6",
              "width": 0.5
             },
             "pattern": {
              "fillmode": "overlay",
              "size": 10,
              "solidity": 0.2
             }
            },
            "type": "bar"
           }
          ],
          "barpolar": [
           {
            "marker": {
             "line": {
              "color": "#E5ECF6",
              "width": 0.5
             },
             "pattern": {
              "fillmode": "overlay",
              "size": 10,
              "solidity": 0.2
             }
            },
            "type": "barpolar"
           }
          ],
          "carpet": [
           {
            "aaxis": {
             "endlinecolor": "#2a3f5f",
             "gridcolor": "white",
             "linecolor": "white",
             "minorgridcolor": "white",
             "startlinecolor": "#2a3f5f"
            },
            "baxis": {
             "endlinecolor": "#2a3f5f",
             "gridcolor": "white",
             "linecolor": "white",
             "minorgridcolor": "white",
             "startlinecolor": "#2a3f5f"
            },
            "type": "carpet"
           }
          ],
          "choropleth": [
           {
            "colorbar": {
             "outlinewidth": 0,
             "ticks": ""
            },
            "type": "choropleth"
           }
          ],
          "contour": [
           {
            "colorbar": {
             "outlinewidth": 0,
             "ticks": ""
            },
            "colorscale": [
             [
              0,
              "#0d0887"
             ],
             [
              0.1111111111111111,
              "#46039f"
             ],
             [
              0.2222222222222222,
              "#7201a8"
             ],
             [
              0.3333333333333333,
              "#9c179e"
             ],
             [
              0.4444444444444444,
              "#bd3786"
             ],
             [
              0.5555555555555556,
              "#d8576b"
             ],
             [
              0.6666666666666666,
              "#ed7953"
             ],
             [
              0.7777777777777778,
              "#fb9f3a"
             ],
             [
              0.8888888888888888,
              "#fdca26"
             ],
             [
              1,
              "#f0f921"
             ]
            ],
            "type": "contour"
           }
          ],
          "contourcarpet": [
           {
            "colorbar": {
             "outlinewidth": 0,
             "ticks": ""
            },
            "type": "contourcarpet"
           }
          ],
          "heatmap": [
           {
            "colorbar": {
             "outlinewidth": 0,
             "ticks": ""
            },
            "colorscale": [
             [
              0,
              "#0d0887"
             ],
             [
              0.1111111111111111,
              "#46039f"
             ],
             [
              0.2222222222222222,
              "#7201a8"
             ],
             [
              0.3333333333333333,
              "#9c179e"
             ],
             [
              0.4444444444444444,
              "#bd3786"
             ],
             [
              0.5555555555555556,
              "#d8576b"
             ],
             [
              0.6666666666666666,
              "#ed7953"
             ],
             [
              0.7777777777777778,
              "#fb9f3a"
             ],
             [
              0.8888888888888888,
              "#fdca26"
             ],
             [
              1,
              "#f0f921"
             ]
            ],
            "type": "heatmap"
           }
          ],
          "heatmapgl": [
           {
            "colorbar": {
             "outlinewidth": 0,
             "ticks": ""
            },
            "colorscale": [
             [
              0,
              "#0d0887"
             ],
             [
              0.1111111111111111,
              "#46039f"
             ],
             [
              0.2222222222222222,
              "#7201a8"
             ],
             [
              0.3333333333333333,
              "#9c179e"
             ],
             [
              0.4444444444444444,
              "#bd3786"
             ],
             [
              0.5555555555555556,
              "#d8576b"
             ],
             [
              0.6666666666666666,
              "#ed7953"
             ],
             [
              0.7777777777777778,
              "#fb9f3a"
             ],
             [
              0.8888888888888888,
              "#fdca26"
             ],
             [
              1,
              "#f0f921"
             ]
            ],
            "type": "heatmapgl"
           }
          ],
          "histogram": [
           {
            "marker": {
             "pattern": {
              "fillmode": "overlay",
              "size": 10,
              "solidity": 0.2
             }
            },
            "type": "histogram"
           }
          ],
          "histogram2d": [
           {
            "colorbar": {
             "outlinewidth": 0,
             "ticks": ""
            },
            "colorscale": [
             [
              0,
              "#0d0887"
             ],
             [
              0.1111111111111111,
              "#46039f"
             ],
             [
              0.2222222222222222,
              "#7201a8"
             ],
             [
              0.3333333333333333,
              "#9c179e"
             ],
             [
              0.4444444444444444,
              "#bd3786"
             ],
             [
              0.5555555555555556,
              "#d8576b"
             ],
             [
              0.6666666666666666,
              "#ed7953"
             ],
             [
              0.7777777777777778,
              "#fb9f3a"
             ],
             [
              0.8888888888888888,
              "#fdca26"
             ],
             [
              1,
              "#f0f921"
             ]
            ],
            "type": "histogram2d"
           }
          ],
          "histogram2dcontour": [
           {
            "colorbar": {
             "outlinewidth": 0,
             "ticks": ""
            },
            "colorscale": [
             [
              0,
              "#0d0887"
             ],
             [
              0.1111111111111111,
              "#46039f"
             ],
             [
              0.2222222222222222,
              "#7201a8"
             ],
             [
              0.3333333333333333,
              "#9c179e"
             ],
             [
              0.4444444444444444,
              "#bd3786"
             ],
             [
              0.5555555555555556,
              "#d8576b"
             ],
             [
              0.6666666666666666,
              "#ed7953"
             ],
             [
              0.7777777777777778,
              "#fb9f3a"
             ],
             [
              0.8888888888888888,
              "#fdca26"
             ],
             [
              1,
              "#f0f921"
             ]
            ],
            "type": "histogram2dcontour"
           }
          ],
          "mesh3d": [
           {
            "colorbar": {
             "outlinewidth": 0,
             "ticks": ""
            },
            "type": "mesh3d"
           }
          ],
          "parcoords": [
           {
            "line": {
             "colorbar": {
              "outlinewidth": 0,
              "ticks": ""
             }
            },
            "type": "parcoords"
           }
          ],
          "pie": [
           {
            "automargin": true,
            "type": "pie"
           }
          ],
          "scatter": [
           {
            "fillpattern": {
             "fillmode": "overlay",
             "size": 10,
             "solidity": 0.2
            },
            "type": "scatter"
           }
          ],
          "scatter3d": [
           {
            "line": {
             "colorbar": {
              "outlinewidth": 0,
              "ticks": ""
             }
            },
            "marker": {
             "colorbar": {
              "outlinewidth": 0,
              "ticks": ""
             }
            },
            "type": "scatter3d"
           }
          ],
          "scattercarpet": [
           {
            "marker": {
             "colorbar": {
              "outlinewidth": 0,
              "ticks": ""
             }
            },
            "type": "scattercarpet"
           }
          ],
          "scattergeo": [
           {
            "marker": {
             "colorbar": {
              "outlinewidth": 0,
              "ticks": ""
             }
            },
            "type": "scattergeo"
           }
          ],
          "scattergl": [
           {
            "marker": {
             "colorbar": {
              "outlinewidth": 0,
              "ticks": ""
             }
            },
            "type": "scattergl"
           }
          ],
          "scattermapbox": [
           {
            "marker": {
             "colorbar": {
              "outlinewidth": 0,
              "ticks": ""
             }
            },
            "type": "scattermapbox"
           }
          ],
          "scatterpolar": [
           {
            "marker": {
             "colorbar": {
              "outlinewidth": 0,
              "ticks": ""
             }
            },
            "type": "scatterpolar"
           }
          ],
          "scatterpolargl": [
           {
            "marker": {
             "colorbar": {
              "outlinewidth": 0,
              "ticks": ""
             }
            },
            "type": "scatterpolargl"
           }
          ],
          "scatterternary": [
           {
            "marker": {
             "colorbar": {
              "outlinewidth": 0,
              "ticks": ""
             }
            },
            "type": "scatterternary"
           }
          ],
          "surface": [
           {
            "colorbar": {
             "outlinewidth": 0,
             "ticks": ""
            },
            "colorscale": [
             [
              0,
              "#0d0887"
             ],
             [
              0.1111111111111111,
              "#46039f"
             ],
             [
              0.2222222222222222,
              "#7201a8"
             ],
             [
              0.3333333333333333,
              "#9c179e"
             ],
             [
              0.4444444444444444,
              "#bd3786"
             ],
             [
              0.5555555555555556,
              "#d8576b"
             ],
             [
              0.6666666666666666,
              "#ed7953"
             ],
             [
              0.7777777777777778,
              "#fb9f3a"
             ],
             [
              0.8888888888888888,
              "#fdca26"
             ],
             [
              1,
              "#f0f921"
             ]
            ],
            "type": "surface"
           }
          ],
          "table": [
           {
            "cells": {
             "fill": {
              "color": "#EBF0F8"
             },
             "line": {
              "color": "white"
             }
            },
            "header": {
             "fill": {
              "color": "#C8D4E3"
             },
             "line": {
              "color": "white"
             }
            },
            "type": "table"
           }
          ]
         },
         "layout": {
          "annotationdefaults": {
           "arrowcolor": "#2a3f5f",
           "arrowhead": 0,
           "arrowwidth": 1
          },
          "autotypenumbers": "strict",
          "coloraxis": {
           "colorbar": {
            "outlinewidth": 0,
            "ticks": ""
           }
          },
          "colorscale": {
           "diverging": [
            [
             0,
             "#8e0152"
            ],
            [
             0.1,
             "#c51b7d"
            ],
            [
             0.2,
             "#de77ae"
            ],
            [
             0.3,
             "#f1b6da"
            ],
            [
             0.4,
             "#fde0ef"
            ],
            [
             0.5,
             "#f7f7f7"
            ],
            [
             0.6,
             "#e6f5d0"
            ],
            [
             0.7,
             "#b8e186"
            ],
            [
             0.8,
             "#7fbc41"
            ],
            [
             0.9,
             "#4d9221"
            ],
            [
             1,
             "#276419"
            ]
           ],
           "sequential": [
            [
             0,
             "#0d0887"
            ],
            [
             0.1111111111111111,
             "#46039f"
            ],
            [
             0.2222222222222222,
             "#7201a8"
            ],
            [
             0.3333333333333333,
             "#9c179e"
            ],
            [
             0.4444444444444444,
             "#bd3786"
            ],
            [
             0.5555555555555556,
             "#d8576b"
            ],
            [
             0.6666666666666666,
             "#ed7953"
            ],
            [
             0.7777777777777778,
             "#fb9f3a"
            ],
            [
             0.8888888888888888,
             "#fdca26"
            ],
            [
             1,
             "#f0f921"
            ]
           ],
           "sequentialminus": [
            [
             0,
             "#0d0887"
            ],
            [
             0.1111111111111111,
             "#46039f"
            ],
            [
             0.2222222222222222,
             "#7201a8"
            ],
            [
             0.3333333333333333,
             "#9c179e"
            ],
            [
             0.4444444444444444,
             "#bd3786"
            ],
            [
             0.5555555555555556,
             "#d8576b"
            ],
            [
             0.6666666666666666,
             "#ed7953"
            ],
            [
             0.7777777777777778,
             "#fb9f3a"
            ],
            [
             0.8888888888888888,
             "#fdca26"
            ],
            [
             1,
             "#f0f921"
            ]
           ]
          },
          "colorway": [
           "#636efa",
           "#EF553B",
           "#00cc96",
           "#ab63fa",
           "#FFA15A",
           "#19d3f3",
           "#FF6692",
           "#B6E880",
           "#FF97FF",
           "#FECB52"
          ],
          "font": {
           "color": "#2a3f5f"
          },
          "geo": {
           "bgcolor": "white",
           "lakecolor": "white",
           "landcolor": "#E5ECF6",
           "showlakes": true,
           "showland": true,
           "subunitcolor": "white"
          },
          "hoverlabel": {
           "align": "left"
          },
          "hovermode": "closest",
          "mapbox": {
           "style": "light"
          },
          "paper_bgcolor": "white",
          "plot_bgcolor": "#E5ECF6",
          "polar": {
           "angularaxis": {
            "gridcolor": "white",
            "linecolor": "white",
            "ticks": ""
           },
           "bgcolor": "#E5ECF6",
           "radialaxis": {
            "gridcolor": "white",
            "linecolor": "white",
            "ticks": ""
           }
          },
          "scene": {
           "xaxis": {
            "backgroundcolor": "#E5ECF6",
            "gridcolor": "white",
            "gridwidth": 2,
            "linecolor": "white",
            "showbackground": true,
            "ticks": "",
            "zerolinecolor": "white"
           },
           "yaxis": {
            "backgroundcolor": "#E5ECF6",
            "gridcolor": "white",
            "gridwidth": 2,
            "linecolor": "white",
            "showbackground": true,
            "ticks": "",
            "zerolinecolor": "white"
           },
           "zaxis": {
            "backgroundcolor": "#E5ECF6",
            "gridcolor": "white",
            "gridwidth": 2,
            "linecolor": "white",
            "showbackground": true,
            "ticks": "",
            "zerolinecolor": "white"
           }
          },
          "shapedefaults": {
           "line": {
            "color": "#2a3f5f"
           }
          },
          "ternary": {
           "aaxis": {
            "gridcolor": "white",
            "linecolor": "white",
            "ticks": ""
           },
           "baxis": {
            "gridcolor": "white",
            "linecolor": "white",
            "ticks": ""
           },
           "bgcolor": "#E5ECF6",
           "caxis": {
            "gridcolor": "white",
            "linecolor": "white",
            "ticks": ""
           }
          },
          "title": {
           "x": 0.05
          },
          "xaxis": {
           "automargin": true,
           "gridcolor": "white",
           "linecolor": "white",
           "ticks": "",
           "title": {
            "standoff": 15
           },
           "zerolinecolor": "white",
           "zerolinewidth": 2
          },
          "yaxis": {
           "automargin": true,
           "gridcolor": "white",
           "linecolor": "white",
           "ticks": "",
           "title": {
            "standoff": 15
           },
           "zerolinecolor": "white",
           "zerolinewidth": 2
          }
         }
        },
        "title": {
         "text": "XGBoost Regressor Least Relevant Feature"
        },
        "width": 700,
        "xaxis": {
         "title": {
          "text": "Score"
         }
        },
        "yaxis": {
         "title": {
          "text": "Feature"
         }
        }
       }
      }
     },
     "metadata": {},
     "output_type": "display_data"
    }
   ],
   "source": [
    "import xgboost as xgb\n",
    "\n",
    "model = xgb.sklearn.XGBRegressor(tree_method='hist', objective='reg:squarederror', n_estimators = 2500,\n",
    "                         learning_rate=0.01, random_state=random_state)\n",
    "\n",
    "model.fit(X_train, y_train)\n",
    "\n",
    "simulate(model, XXyy, 'XGBoost Regressor')\n",
    "\n",
    "booster = model.get_booster()\n",
    "feature_plot(booster.get_score().keys(), booster.get_score().values(), 'XGBoost Regressor')"
   ]
  },
  {
   "attachments": {},
   "cell_type": "markdown",
   "metadata": {
    "collapsed": false
   },
   "source": [
    "### Model 4: Neural Networks\n",
    "\n",
    "We will be using Sklearn MLPRegressor, short for Multi-layer Perception Regressor. Model optimizes for lowest squarer error by gradient descent."
   ]
  },
  {
   "cell_type": "code",
   "execution_count": 74,
   "metadata": {},
   "outputs": [
    {
     "name": "stdout",
     "output_type": "stream",
     "text": [
      "------------------------------\n",
      "Train Score:  0.755\n",
      "Train RMSE:  65.978\n",
      "------------------------------\n",
      "Test Score:  0.703\n",
      "Test RMSE:  69.977\n"
     ]
    },
    {
     "data": {
      "application/vnd.plotly.v1+json": {
       "config": {
        "plotlyServerURL": "https://plot.ly"
       },
       "data": [
        {
         "hovertemplate": "Actual y=%{x}<br>Predicted y=%{y}<extra></extra>",
         "legendgroup": "",
         "marker": {
          "color": "#636efa",
          "symbol": "circle"
         },
         "mode": "markers",
         "name": "",
         "orientation": "v",
         "showlegend": false,
         "type": "scatter",
         "x": [
          100,
          98,
          52,
          160,
          89,
          199,
          420,
          187,
          49,
          79,
          399,
          152,
          400,
          279,
          529,
          100,
          450,
          33,
          49,
          194,
          69,
          100,
          22,
          40,
          386,
          175,
          261,
          59,
          300,
          80,
          63,
          235,
          330,
          79,
          43,
          58,
          50,
          70,
          415,
          204,
          70,
          378,
          44,
          175,
          387,
          260,
          39,
          59,
          50,
          150,
          38,
          448,
          193,
          59,
          109,
          101,
          49,
          130,
          145,
          168,
          50,
          184,
          59,
          133,
          163,
          549,
          60,
          220,
          240,
          70,
          495,
          175,
          179,
          56,
          250,
          399,
          266,
          235,
          114,
          78,
          185,
          470,
          108,
          250,
          81,
          66,
          474,
          130,
          49,
          130,
          49,
          246,
          171,
          230,
          173,
          75,
          180,
          31,
          395,
          400,
          221,
          328,
          45,
          60,
          310,
          65,
          47,
          260,
          85,
          38,
          140,
          399,
          404,
          279,
          65,
          78,
          156,
          55,
          200,
          51,
          328,
          160,
          410,
          39,
          178,
          90,
          300,
          40,
          366,
          140,
          218,
          134,
          373,
          135,
          69,
          188,
          224,
          500,
          250,
          430,
          181,
          60,
          629,
          57,
          95,
          210,
          314,
          195,
          345,
          271,
          90,
          409,
          409,
          349,
          60,
          69,
          140,
          120,
          190,
          103,
          400,
          115,
          134,
          78,
          401,
          80,
          500,
          227,
          39,
          30,
          125,
          228,
          179,
          152,
          165,
          80,
          98,
          315,
          260,
          409,
          399,
          31,
          20,
          70,
          249,
          289,
          470,
          50,
          30,
          250,
          210,
          130,
          331,
          189,
          42,
          148,
          125,
          245,
          85,
          318,
          39,
          229,
          386,
          371,
          24,
          50,
          24,
          456,
          337,
          168,
          65,
          210,
          57,
          110,
          78,
          69,
          50,
          232,
          232,
          189,
          59,
          80,
          27,
          79,
          100,
          80,
          240,
          202,
          482,
          85,
          380,
          206,
          200,
          22,
          113,
          200,
          49,
          59,
          96,
          187,
          394,
          243,
          50,
          99,
          210,
          110,
          404,
          49,
          126,
          49,
          269,
          260,
          181,
          69,
          144,
          120,
          140,
          305,
          180,
          229,
          59,
          105,
          50,
          195,
          140,
          142,
          59,
          223,
          69,
          80,
          270,
          78,
          56,
          151,
          200,
          550,
          276,
          225,
          48,
          137,
          179,
          216,
          222,
          79,
          86,
          430,
          187,
          175,
          208,
          121,
          100,
          59,
          399,
          102,
          46,
          318,
          50,
          196,
          50,
          190,
          173,
          185,
          158,
          320,
          109,
          310,
          49,
          213,
          205,
          116,
          72,
          60,
          47,
          31,
          349,
          463,
          160,
          69,
          301,
          109,
          18,
          226,
          198,
          104,
          40,
          101,
          357,
          400,
          68,
          68,
          575,
          134,
          399,
          173,
          31,
          610,
          284,
          53,
          57,
          55,
          22,
          115,
          517,
          58,
          600,
          85,
          191,
          59,
          55,
          48,
          103,
          219,
          56,
          119,
          127,
          69,
          413,
          137,
          85,
          93,
          117,
          126,
          281,
          38,
          110,
          123,
          508,
          202,
          29,
          290,
          162,
          36,
          225,
          45,
          122,
          414,
          242,
          40,
          70,
          69,
          226,
          38,
          160,
          140,
          98,
          39,
          190,
          59,
          50,
          173,
          204,
          39,
          144,
          89,
          70,
          151,
          184,
          55,
          615,
          188,
          113,
          200,
          75,
          145,
          90,
          52,
          88,
          46,
          85,
          250,
          49,
          42,
          40,
          99,
          246,
          375,
          155,
          69,
          65,
          310,
          130,
          90,
          95,
          162,
          260,
          122,
          324,
          300,
          34,
          190,
          80,
          35,
          144,
          328,
          59,
          59,
          48,
          120,
          209,
          100,
          500,
          40,
          99,
          99,
          156,
          67,
          97,
          150,
          180,
          105,
          188,
          55,
          85,
          110,
          78,
          210,
          155,
          129,
          257,
          145,
          135,
          59,
          140,
          130,
          60,
          211,
          188,
          80,
          219,
          265,
          49,
          56,
          129,
          64,
          93,
          200,
          243,
          168,
          327,
          350,
          39,
          335,
          45,
          193,
          284,
          40,
          404,
          68,
          65,
          39,
          313,
          80,
          53,
          49,
          58,
          126,
          69,
          80,
          110,
          50,
          132,
          80,
          185,
          387,
          27,
          162,
          88,
          153,
          239,
          243,
          99,
          89,
          53,
          131,
          111,
          428,
          150,
          179,
          178,
          295,
          335,
          59,
          33,
          59,
          440,
          142,
          261,
          343,
          188,
          59,
          49,
          109,
          90,
          33,
          80,
          61,
          490,
          69,
          60,
          181,
          66,
          49,
          148,
          429,
          210,
          297,
          500,
          169,
          60,
          90,
          320,
          222,
          136,
          174,
          243
         ],
         "xaxis": "x",
         "y": [
          102.45199478349275,
          122.7208942940252,
          99.20173119290591,
          154.80858666061303,
          112.55227769252036,
          214.26617604675482,
          452.8149174450717,
          139.526583743201,
          67.05482020290081,
          150.54636332856796,
          355.289382094365,
          163.55224762090896,
          301.20463662899556,
          255.72834781099724,
          334.4589752940501,
          113.29928292286945,
          493.6870988937943,
          100.42242637547263,
          47.32280173611795,
          117.66971634432224,
          76.379178420172,
          95.16922683114161,
          120.19388116284205,
          98.00809259352012,
          293.8513170738829,
          200.84166230136995,
          252.2455030624156,
          74.8885255369393,
          101.29630135571344,
          73.83840132792344,
          56.993499732595794,
          143.11301688438056,
          185.30692652657336,
          83.76451535525129,
          100.608376774505,
          125.79020241110888,
          25.310865473133862,
          153.35487891702692,
          217.43150855638353,
          278.06610547990226,
          82.11601111678816,
          399.0819820283044,
          84.67998616445384,
          205.2558175638025,
          360.73885133651527,
          232.72310089683742,
          10.528429189182699,
          70.79405901662464,
          13.115268299074035,
          149.1470490202875,
          109.10910205999788,
          286.30143802106977,
          178.3966213043826,
          72.04245938603852,
          159.3780705212163,
          128.84917472302465,
          106.64323724407372,
          119.54772231130137,
          157.80021596561488,
          170.3854974655272,
          54.8379388490802,
          226.57682298597388,
          82.59326537285786,
          129.73762287800068,
          169.66561519242362,
          406.05836874261274,
          33.677637913801405,
          287.36080671580015,
          208.0811503916752,
          94.96440693095163,
          362.36439726982184,
          126.89628972979823,
          169.33080240595356,
          51.55837566945975,
          280.84903899951655,
          353.5457166151398,
          215.88762066046297,
          234.15958586398054,
          115.96270921834196,
          124.788008113708,
          153.13495033732073,
          445.5961647834929,
          151.35336733331184,
          286.89193119913955,
          75.54164025963229,
          39.98533579158466,
          347.6910567095113,
          139.3091941737701,
          87.70000456876546,
          88.70016369818275,
          46.57189616178918,
          217.85034190875825,
          233.78760982930797,
          180.1746580727471,
          190.56598820336015,
          108.24054185840467,
          118.22103705789952,
          75.93329183180971,
          454.08673989430895,
          284.48340695678434,
          188.20140587557523,
          259.19427784865746,
          60.27657204390823,
          93.27446005574454,
          372.9816117618576,
          96.97818801662983,
          75.51074493202687,
          315.2313958447886,
          167.64514868832794,
          65.09721053684136,
          120.83220477609188,
          354.8781406380548,
          149.61362792785206,
          246.18784747789218,
          104.98422259069352,
          91.98554487750555,
          135.988181846032,
          139.159957333601,
          126.22721575477958,
          39.07664742772208,
          454.47787403851646,
          174.74237508620232,
          529.3616258044328,
          46.909358653762794,
          184.45006393767196,
          64.7359223959529,
          316.99686988021205,
          128.41253838182246,
          372.5434551430792,
          90.35472004423475,
          207.62202915751047,
          123.25832146358292,
          355.42068235156177,
          366.5656870238807,
          60.535197827705325,
          176.08929204891825,
          186.42182908521784,
          105.75187347145503,
          202.2864251609565,
          448.0739825470174,
          245.65392219197702,
          45.76888727349515,
          423.3976194307093,
          37.767996064877174,
          117.14554256744327,
          168.0183272978188,
          83.89801604973358,
          279.22038864817745,
          295.4424114854618,
          214.51199130773153,
          137.04860285813834,
          370.213287272064,
          381.07970137727534,
          321.9641037426376,
          122.11202256787655,
          65.80121147195025,
          99.53278584874217,
          61.933631145742034,
          249.46975894523422,
          128.28650846867012,
          375.1424800454981,
          124.78533846898905,
          151.07684596882783,
          112.54736329545493,
          402.3350707354223,
          83.90241865035898,
          387.68872225095055,
          204.29591097600837,
          30.98517710325969,
          61.469919240693976,
          80.2234618373617,
          228.0065797631986,
          213.91541963080252,
          201.0402199311884,
          141.8660932377928,
          113.2581941429976,
          36.23068297492091,
          324.94066556811146,
          203.23661426414097,
          364.2584758997283,
          311.1086227282158,
          58.29027176247919,
          108.72404914242034,
          89.59827217967485,
          266.9510187838278,
          210.43477748590868,
          448.508693909126,
          120.53376420545845,
          106.60765047483285,
          213.564072626568,
          229.58658504979155,
          117.0636149099529,
          275.4951369605801,
          31.375755624176666,
          113.02598420550547,
          224.5438659774851,
          147.8135622632274,
          125.96022317079961,
          109.3781382321638,
          362.08749317245594,
          17.82583352727804,
          150.17383371163527,
          315.64531273725345,
          263.67254121672437,
          -3.6349506788569923,
          -18.68995425888048,
          44.3393871992879,
          283.55259686596594,
          251.08756137027802,
          68.60245127853912,
          100.82573379108287,
          318.715876697566,
          62.92119234847251,
          134.7435153432171,
          114.1892100030936,
          46.37170389016484,
          111.71637395191671,
          303.3151080156043,
          253.00392414419164,
          186.53346036080472,
          39.109512905511956,
          80.3967617659767,
          70.05479649041114,
          82.47415280451251,
          120.05872452183816,
          103.03567168916099,
          207.51333110558207,
          122.80861461586942,
          272.4245674309108,
          167.96245131996113,
          435.3254670586381,
          235.88524375780855,
          208.11409178273016,
          125.71552311165526,
          135.117426875428,
          207.66378669391332,
          36.53047288879953,
          45.49954059790096,
          119.01018504538561,
          150.54640266096217,
          402.6971110966093,
          297.9842659762504,
          102.21412570459039,
          120.07794652739304,
          390.6300919325322,
          304.7194558602855,
          133.156100347184,
          61.22742947222624,
          100.18332851881526,
          47.23858624458077,
          221.48126490980317,
          215.9583575139311,
          183.1568233848325,
          87.9003215357524,
          217.16639601707732,
          154.69620181417253,
          209.93171496537474,
          256.2319844884595,
          175.20219700165285,
          282.1241631794708,
          69.88214549322961,
          172.00133799665133,
          60.73470357281811,
          223.9938850708909,
          131.823781874987,
          259.0293459661867,
          56.9699799497371,
          213.6330432348061,
          49.26864610089704,
          134.02723619349229,
          286.536131682965,
          114.40016769123466,
          115.03089334967392,
          141.4984546098545,
          150.67727924658826,
          440.0078299684967,
          177.46770724511808,
          73.41531248541357,
          18.342189950989606,
          92.91282126035553,
          179.90385225463174,
          157.46963889286025,
          244.86206928072608,
          88.75701230268443,
          136.5190785567188,
          364.157618912326,
          137.9674035483515,
          177.1264781179688,
          256.42532106437716,
          137.81549963903575,
          152.93837198881982,
          45.89888936902102,
          346.9726454814804,
          176.74448378172173,
          93.24992267189982,
          350.7980356964037,
          97.38039818963976,
          203.49911583235752,
          168.66674224201444,
          205.55484179433762,
          117.81829680347607,
          169.35248764107223,
          175.79251766886244,
          323.15730529108737,
          87.3846783719039,
          341.04266918219497,
          47.26965583985672,
          328.52730021791535,
          185.76157948952857,
          334.6444533207249,
          167.45366947000653,
          133.06491035939132,
          142.85352370635349,
          71.24563138107825,
          357.9380277829319,
          301.5511257166987,
          129.2534061093568,
          70.79405901662464,
          369.25358459253687,
          145.33385781707048,
          127.30742810142364,
          217.4054450304061,
          201.0525169660262,
          139.54232348894075,
          59.42638613060646,
          137.6626062427008,
          408.30989861463917,
          454.25694346992634,
          129.2115682848988,
          113.72725769361423,
          397.9205893715135,
          118.07028194576735,
          313.5022508032031,
          127.80587964692393,
          116.98983478409978,
          467.2784585607133,
          218.22869346536444,
          80.89924906279114,
          35.709663641477576,
          43.83127800734134,
          52.00071654376567,
          154.05943161705437,
          414.6962758114758,
          67.82071171002214,
          229.95202910304627,
          88.32255382407632,
          121.35478382282739,
          67.84926217595377,
          117.1468329708068,
          69.1686020848751,
          87.57073448783959,
          192.96343669852868,
          47.0151297275831,
          161.94943359538766,
          117.53223690520038,
          73.02260670774378,
          370.75117146034734,
          180.3962330094981,
          128.03116766578407,
          101.89731039524841,
          128.7609475566186,
          129.25542565076083,
          259.5363105909224,
          47.283638154415826,
          154.05787250977036,
          123.61095365925496,
          361.55117356922324,
          133.46678820311496,
          40.85499668043183,
          246.69984805024262,
          103.81039408605506,
          56.13004895555743,
          254.28608923888356,
          92.04590645987427,
          163.39030962429717,
          364.9994480363514,
          208.15967530420454,
          81.43904325333243,
          152.5679107602143,
          83.24936926877152,
          194.77895664476097,
          125.96319794353963,
          172.10836143011022,
          88.7701813375235,
          134.02107475958195,
          32.57979657871137,
          193.15231566111868,
          80.78150995945322,
          25.362732697755884,
          266.60068083917804,
          169.0288415554125,
          29.782660484563035,
          150.95084014004064,
          113.71255341308644,
          261.27236389085664,
          176.4951741023213,
          126.52710108576487,
          73.07622515204805,
          460.93356870884236,
          162.74472033328755,
          196.90734670600096,
          204.0428839274927,
          27.875266069860174,
          103.15243626435316,
          106.64934639972671,
          115.00095271948918,
          111.8858931311748,
          15.879347596175503,
          65.71300452364927,
          231.1726340860909,
          40.681949219546105,
          5.814497078858988,
          79.85088888754984,
          84.00776411624518,
          255.92224824242675,
          330.1882659881316,
          216.973976645983,
          76.95386235562562,
          82.46669225500035,
          458.4266023908056,
          106.21796832080331,
          69.22768415531458,
          175.26756502273153,
          246.0518398569542,
          282.804002156375,
          220.6277820232021,
          386.6595217268126,
          298.9850192929793,
          46.34813039095424,
          199.04667085737918,
          129.11967275271763,
          68.76196617415943,
          170.17694618048205,
          299.2659031395917,
          33.85764379864501,
          92.76802541751881,
          35.367946702569824,
          134.07958456130396,
          243.29287284936717,
          169.75310962156726,
          473.305060041988,
          30.111520846023456,
          55.03961565485351,
          166.04807267848142,
          88.81126275795786,
          112.0336961576794,
          46.55366523878084,
          165.1323580024142,
          175.46860016261869,
          90.49871854167866,
          177.48921959395716,
          101.068436342471,
          100.8612435385926,
          150.25500807637076,
          137.28394144967703,
          436.15667866953936,
          135.26424472309935,
          92.53141877708055,
          197.1625900299104,
          188.64034422868255,
          132.96447954956616,
          51.03728913025183,
          182.53634148838265,
          111.08255531567231,
          79.78292262013417,
          230.70152798841917,
          211.41530602994553,
          158.5833139681292,
          189.34017602766966,
          311.4172503945092,
          41.05009318472396,
          103.09989705903942,
          112.58266130595747,
          68.45814628320785,
          45.8676637997017,
          323.3832771177045,
          250.38766707719978,
          151.540271428545,
          401.7769001028072,
          166.11917693935013,
          47.319500824879384,
          359.32596488053855,
          92.68384490786636,
          310.3628378513798,
          402.0162504178137,
          78.81526358587173,
          278.19042131350153,
          52.5765445151768,
          122.83683898529306,
          47.379721777708625,
          379.87203793133807,
          137.20633874083896,
          80.97580032377128,
          38.469512104132455,
          64.70041020436912,
          107.93237134183373,
          36.37786491193367,
          103.29286794572695,
          129.80098915605643,
          43.11544379226375,
          179.6020716983881,
          73.80755621068514,
          187.31235707338172,
          422.33014789857407,
          119.08439792582853,
          132.95064187726385,
          120.58165512271813,
          163.91324624743865,
          221.52798262021156,
          300.09620769719675,
          209.72976441582318,
          62.260106240253826,
          168.55634992184375,
          217.9802520743578,
          244.21439047321223,
          474.74099234842726,
          140.57663193709007,
          231.20781763059415,
          197.82694497253834,
          281.7682470338009,
          399.8958597599346,
          68.91411776622094,
          -1.8231378777380098,
          85.88954110275789,
          455.9813170085239,
          166.58428143771295,
          252.2455030624156,
          349.53637469522516,
          148.714626732887,
          72.74069040522926,
          46.47999579890306,
          81.09112853074804,
          110.25661096194484,
          71.00784440080574,
          87.08411054944197,
          98.66136164456789,
          127.49947354908923,
          71.7279055172257,
          104.8867224365431,
          257.07189959587043,
          108.7949369913921,
          40.23114342538913,
          229.89376503065267,
          433.18378245903693,
          179.70224292728534,
          265.87564177520284,
          121.35662849354314,
          156.4187881444017,
          86.35218987792705,
          144.66289805321773,
          358.5532962594724,
          181.47763546372119,
          162.21139934245227,
          194.8646253082462,
          209.65365270562592
         ],
         "yaxis": "y"
        },
        {
         "line": {
          "color": "gray"
         },
         "mode": "lines",
         "showlegend": false,
         "type": "scatter",
         "x": [
          0,
          600
         ],
         "y": [
          0,
          600
         ]
        },
        {
         "line": {
          "dash": "dot"
         },
         "mode": "lines",
         "showlegend": false,
         "type": "scatter",
         "x": [
          0,
          600
         ],
         "y": [
          132.3645418384225,
          732.3645418384225
         ]
        },
        {
         "line": {
          "dash": "dot"
         },
         "mode": "lines",
         "showlegend": false,
         "type": "scatter",
         "x": [
          0,
          600
         ],
         "y": [
          -132.3645418384225,
          467.6354581615775
         ]
        }
       ],
       "layout": {
        "height": 500,
        "legend": {
         "tracegroupgap": 0
        },
        "template": {
         "data": {
          "bar": [
           {
            "error_x": {
             "color": "#2a3f5f"
            },
            "error_y": {
             "color": "#2a3f5f"
            },
            "marker": {
             "line": {
              "color": "#E5ECF6",
              "width": 0.5
             },
             "pattern": {
              "fillmode": "overlay",
              "size": 10,
              "solidity": 0.2
             }
            },
            "type": "bar"
           }
          ],
          "barpolar": [
           {
            "marker": {
             "line": {
              "color": "#E5ECF6",
              "width": 0.5
             },
             "pattern": {
              "fillmode": "overlay",
              "size": 10,
              "solidity": 0.2
             }
            },
            "type": "barpolar"
           }
          ],
          "carpet": [
           {
            "aaxis": {
             "endlinecolor": "#2a3f5f",
             "gridcolor": "white",
             "linecolor": "white",
             "minorgridcolor": "white",
             "startlinecolor": "#2a3f5f"
            },
            "baxis": {
             "endlinecolor": "#2a3f5f",
             "gridcolor": "white",
             "linecolor": "white",
             "minorgridcolor": "white",
             "startlinecolor": "#2a3f5f"
            },
            "type": "carpet"
           }
          ],
          "choropleth": [
           {
            "colorbar": {
             "outlinewidth": 0,
             "ticks": ""
            },
            "type": "choropleth"
           }
          ],
          "contour": [
           {
            "colorbar": {
             "outlinewidth": 0,
             "ticks": ""
            },
            "colorscale": [
             [
              0,
              "#0d0887"
             ],
             [
              0.1111111111111111,
              "#46039f"
             ],
             [
              0.2222222222222222,
              "#7201a8"
             ],
             [
              0.3333333333333333,
              "#9c179e"
             ],
             [
              0.4444444444444444,
              "#bd3786"
             ],
             [
              0.5555555555555556,
              "#d8576b"
             ],
             [
              0.6666666666666666,
              "#ed7953"
             ],
             [
              0.7777777777777778,
              "#fb9f3a"
             ],
             [
              0.8888888888888888,
              "#fdca26"
             ],
             [
              1,
              "#f0f921"
             ]
            ],
            "type": "contour"
           }
          ],
          "contourcarpet": [
           {
            "colorbar": {
             "outlinewidth": 0,
             "ticks": ""
            },
            "type": "contourcarpet"
           }
          ],
          "heatmap": [
           {
            "colorbar": {
             "outlinewidth": 0,
             "ticks": ""
            },
            "colorscale": [
             [
              0,
              "#0d0887"
             ],
             [
              0.1111111111111111,
              "#46039f"
             ],
             [
              0.2222222222222222,
              "#7201a8"
             ],
             [
              0.3333333333333333,
              "#9c179e"
             ],
             [
              0.4444444444444444,
              "#bd3786"
             ],
             [
              0.5555555555555556,
              "#d8576b"
             ],
             [
              0.6666666666666666,
              "#ed7953"
             ],
             [
              0.7777777777777778,
              "#fb9f3a"
             ],
             [
              0.8888888888888888,
              "#fdca26"
             ],
             [
              1,
              "#f0f921"
             ]
            ],
            "type": "heatmap"
           }
          ],
          "heatmapgl": [
           {
            "colorbar": {
             "outlinewidth": 0,
             "ticks": ""
            },
            "colorscale": [
             [
              0,
              "#0d0887"
             ],
             [
              0.1111111111111111,
              "#46039f"
             ],
             [
              0.2222222222222222,
              "#7201a8"
             ],
             [
              0.3333333333333333,
              "#9c179e"
             ],
             [
              0.4444444444444444,
              "#bd3786"
             ],
             [
              0.5555555555555556,
              "#d8576b"
             ],
             [
              0.6666666666666666,
              "#ed7953"
             ],
             [
              0.7777777777777778,
              "#fb9f3a"
             ],
             [
              0.8888888888888888,
              "#fdca26"
             ],
             [
              1,
              "#f0f921"
             ]
            ],
            "type": "heatmapgl"
           }
          ],
          "histogram": [
           {
            "marker": {
             "pattern": {
              "fillmode": "overlay",
              "size": 10,
              "solidity": 0.2
             }
            },
            "type": "histogram"
           }
          ],
          "histogram2d": [
           {
            "colorbar": {
             "outlinewidth": 0,
             "ticks": ""
            },
            "colorscale": [
             [
              0,
              "#0d0887"
             ],
             [
              0.1111111111111111,
              "#46039f"
             ],
             [
              0.2222222222222222,
              "#7201a8"
             ],
             [
              0.3333333333333333,
              "#9c179e"
             ],
             [
              0.4444444444444444,
              "#bd3786"
             ],
             [
              0.5555555555555556,
              "#d8576b"
             ],
             [
              0.6666666666666666,
              "#ed7953"
             ],
             [
              0.7777777777777778,
              "#fb9f3a"
             ],
             [
              0.8888888888888888,
              "#fdca26"
             ],
             [
              1,
              "#f0f921"
             ]
            ],
            "type": "histogram2d"
           }
          ],
          "histogram2dcontour": [
           {
            "colorbar": {
             "outlinewidth": 0,
             "ticks": ""
            },
            "colorscale": [
             [
              0,
              "#0d0887"
             ],
             [
              0.1111111111111111,
              "#46039f"
             ],
             [
              0.2222222222222222,
              "#7201a8"
             ],
             [
              0.3333333333333333,
              "#9c179e"
             ],
             [
              0.4444444444444444,
              "#bd3786"
             ],
             [
              0.5555555555555556,
              "#d8576b"
             ],
             [
              0.6666666666666666,
              "#ed7953"
             ],
             [
              0.7777777777777778,
              "#fb9f3a"
             ],
             [
              0.8888888888888888,
              "#fdca26"
             ],
             [
              1,
              "#f0f921"
             ]
            ],
            "type": "histogram2dcontour"
           }
          ],
          "mesh3d": [
           {
            "colorbar": {
             "outlinewidth": 0,
             "ticks": ""
            },
            "type": "mesh3d"
           }
          ],
          "parcoords": [
           {
            "line": {
             "colorbar": {
              "outlinewidth": 0,
              "ticks": ""
             }
            },
            "type": "parcoords"
           }
          ],
          "pie": [
           {
            "automargin": true,
            "type": "pie"
           }
          ],
          "scatter": [
           {
            "fillpattern": {
             "fillmode": "overlay",
             "size": 10,
             "solidity": 0.2
            },
            "type": "scatter"
           }
          ],
          "scatter3d": [
           {
            "line": {
             "colorbar": {
              "outlinewidth": 0,
              "ticks": ""
             }
            },
            "marker": {
             "colorbar": {
              "outlinewidth": 0,
              "ticks": ""
             }
            },
            "type": "scatter3d"
           }
          ],
          "scattercarpet": [
           {
            "marker": {
             "colorbar": {
              "outlinewidth": 0,
              "ticks": ""
             }
            },
            "type": "scattercarpet"
           }
          ],
          "scattergeo": [
           {
            "marker": {
             "colorbar": {
              "outlinewidth": 0,
              "ticks": ""
             }
            },
            "type": "scattergeo"
           }
          ],
          "scattergl": [
           {
            "marker": {
             "colorbar": {
              "outlinewidth": 0,
              "ticks": ""
             }
            },
            "type": "scattergl"
           }
          ],
          "scattermapbox": [
           {
            "marker": {
             "colorbar": {
              "outlinewidth": 0,
              "ticks": ""
             }
            },
            "type": "scattermapbox"
           }
          ],
          "scatterpolar": [
           {
            "marker": {
             "colorbar": {
              "outlinewidth": 0,
              "ticks": ""
             }
            },
            "type": "scatterpolar"
           }
          ],
          "scatterpolargl": [
           {
            "marker": {
             "colorbar": {
              "outlinewidth": 0,
              "ticks": ""
             }
            },
            "type": "scatterpolargl"
           }
          ],
          "scatterternary": [
           {
            "marker": {
             "colorbar": {
              "outlinewidth": 0,
              "ticks": ""
             }
            },
            "type": "scatterternary"
           }
          ],
          "surface": [
           {
            "colorbar": {
             "outlinewidth": 0,
             "ticks": ""
            },
            "colorscale": [
             [
              0,
              "#0d0887"
             ],
             [
              0.1111111111111111,
              "#46039f"
             ],
             [
              0.2222222222222222,
              "#7201a8"
             ],
             [
              0.3333333333333333,
              "#9c179e"
             ],
             [
              0.4444444444444444,
              "#bd3786"
             ],
             [
              0.5555555555555556,
              "#d8576b"
             ],
             [
              0.6666666666666666,
              "#ed7953"
             ],
             [
              0.7777777777777778,
              "#fb9f3a"
             ],
             [
              0.8888888888888888,
              "#fdca26"
             ],
             [
              1,
              "#f0f921"
             ]
            ],
            "type": "surface"
           }
          ],
          "table": [
           {
            "cells": {
             "fill": {
              "color": "#EBF0F8"
             },
             "line": {
              "color": "white"
             }
            },
            "header": {
             "fill": {
              "color": "#C8D4E3"
             },
             "line": {
              "color": "white"
             }
            },
            "type": "table"
           }
          ]
         },
         "layout": {
          "annotationdefaults": {
           "arrowcolor": "#2a3f5f",
           "arrowhead": 0,
           "arrowwidth": 1
          },
          "autotypenumbers": "strict",
          "coloraxis": {
           "colorbar": {
            "outlinewidth": 0,
            "ticks": ""
           }
          },
          "colorscale": {
           "diverging": [
            [
             0,
             "#8e0152"
            ],
            [
             0.1,
             "#c51b7d"
            ],
            [
             0.2,
             "#de77ae"
            ],
            [
             0.3,
             "#f1b6da"
            ],
            [
             0.4,
             "#fde0ef"
            ],
            [
             0.5,
             "#f7f7f7"
            ],
            [
             0.6,
             "#e6f5d0"
            ],
            [
             0.7,
             "#b8e186"
            ],
            [
             0.8,
             "#7fbc41"
            ],
            [
             0.9,
             "#4d9221"
            ],
            [
             1,
             "#276419"
            ]
           ],
           "sequential": [
            [
             0,
             "#0d0887"
            ],
            [
             0.1111111111111111,
             "#46039f"
            ],
            [
             0.2222222222222222,
             "#7201a8"
            ],
            [
             0.3333333333333333,
             "#9c179e"
            ],
            [
             0.4444444444444444,
             "#bd3786"
            ],
            [
             0.5555555555555556,
             "#d8576b"
            ],
            [
             0.6666666666666666,
             "#ed7953"
            ],
            [
             0.7777777777777778,
             "#fb9f3a"
            ],
            [
             0.8888888888888888,
             "#fdca26"
            ],
            [
             1,
             "#f0f921"
            ]
           ],
           "sequentialminus": [
            [
             0,
             "#0d0887"
            ],
            [
             0.1111111111111111,
             "#46039f"
            ],
            [
             0.2222222222222222,
             "#7201a8"
            ],
            [
             0.3333333333333333,
             "#9c179e"
            ],
            [
             0.4444444444444444,
             "#bd3786"
            ],
            [
             0.5555555555555556,
             "#d8576b"
            ],
            [
             0.6666666666666666,
             "#ed7953"
            ],
            [
             0.7777777777777778,
             "#fb9f3a"
            ],
            [
             0.8888888888888888,
             "#fdca26"
            ],
            [
             1,
             "#f0f921"
            ]
           ]
          },
          "colorway": [
           "#636efa",
           "#EF553B",
           "#00cc96",
           "#ab63fa",
           "#FFA15A",
           "#19d3f3",
           "#FF6692",
           "#B6E880",
           "#FF97FF",
           "#FECB52"
          ],
          "font": {
           "color": "#2a3f5f"
          },
          "geo": {
           "bgcolor": "white",
           "lakecolor": "white",
           "landcolor": "#E5ECF6",
           "showlakes": true,
           "showland": true,
           "subunitcolor": "white"
          },
          "hoverlabel": {
           "align": "left"
          },
          "hovermode": "closest",
          "mapbox": {
           "style": "light"
          },
          "paper_bgcolor": "white",
          "plot_bgcolor": "#E5ECF6",
          "polar": {
           "angularaxis": {
            "gridcolor": "white",
            "linecolor": "white",
            "ticks": ""
           },
           "bgcolor": "#E5ECF6",
           "radialaxis": {
            "gridcolor": "white",
            "linecolor": "white",
            "ticks": ""
           }
          },
          "scene": {
           "xaxis": {
            "backgroundcolor": "#E5ECF6",
            "gridcolor": "white",
            "gridwidth": 2,
            "linecolor": "white",
            "showbackground": true,
            "ticks": "",
            "zerolinecolor": "white"
           },
           "yaxis": {
            "backgroundcolor": "#E5ECF6",
            "gridcolor": "white",
            "gridwidth": 2,
            "linecolor": "white",
            "showbackground": true,
            "ticks": "",
            "zerolinecolor": "white"
           },
           "zaxis": {
            "backgroundcolor": "#E5ECF6",
            "gridcolor": "white",
            "gridwidth": 2,
            "linecolor": "white",
            "showbackground": true,
            "ticks": "",
            "zerolinecolor": "white"
           }
          },
          "shapedefaults": {
           "line": {
            "color": "#2a3f5f"
           }
          },
          "ternary": {
           "aaxis": {
            "gridcolor": "white",
            "linecolor": "white",
            "ticks": ""
           },
           "baxis": {
            "gridcolor": "white",
            "linecolor": "white",
            "ticks": ""
           },
           "bgcolor": "#E5ECF6",
           "caxis": {
            "gridcolor": "white",
            "linecolor": "white",
            "ticks": ""
           }
          },
          "title": {
           "x": 0.05
          },
          "xaxis": {
           "automargin": true,
           "gridcolor": "white",
           "linecolor": "white",
           "ticks": "",
           "title": {
            "standoff": 15
           },
           "zerolinecolor": "white",
           "zerolinewidth": 2
          },
          "yaxis": {
           "automargin": true,
           "gridcolor": "white",
           "linecolor": "white",
           "ticks": "",
           "title": {
            "standoff": 15
           },
           "zerolinecolor": "white",
           "zerolinewidth": 2
          }
         }
        },
        "title": {
         "text": "MLP Regressor"
        },
        "width": 700,
        "xaxis": {
         "anchor": "y",
         "domain": [
          0,
          1
         ],
         "title": {
          "text": "Actual y"
         }
        },
        "yaxis": {
         "anchor": "x",
         "domain": [
          0,
          1
         ],
         "title": {
          "text": "Predicted y"
         }
        }
       }
      }
     },
     "metadata": {},
     "output_type": "display_data"
    }
   ],
   "source": [
    "from sklearn.neural_network import MLPRegressor\n",
    "\n",
    "model = MLPRegressor(random_state=random_state, max_iter=1000).fit(X_train, y_train)\n",
    "\n",
    "simulate(model, XXyy, 'MLP Regressor')"
   ]
  },
  {
   "attachments": {},
   "cell_type": "markdown",
   "metadata": {
    "collapsed": false
   },
   "source": [
    "We can conclude that HistGradientBoostingRegressor and XGBoost Regressor achieve the best results, with the lowest RMSE (~46) and the higher R^2 score (~0.86). All other models achieve decent results, with RMSE around half of standard deviation, and R^2 > 0.5."
   ]
  },
  {
   "attachments": {},
   "cell_type": "markdown",
   "metadata": {},
   "source": [
    "# Part 2: Optimising models\n",
    "\n",
    "We will be using RandomizedSearchCV, GridSearchCV to find the optimal parameters.\n",
    "- Benefit: Can finds optimal values between the 'grid' in a GridSearchCV, do not need prior experience & intuition.\n",
    "- Downside: Takes significantly longer to find optimal values."
   ]
  },
  {
   "cell_type": "code",
   "execution_count": 75,
   "metadata": {},
   "outputs": [],
   "source": [
    "from scipy.stats import loguniform\n",
    "# Code from scikit-learn-mooc\n",
    "class loguniform_int:\n",
    "    \"\"\"Integer valued version of the log-uniform distribution\"\"\"\n",
    "    def __init__(self, a, b):\n",
    "        self._distribution = loguniform(a, b)\n",
    "\n",
    "    def rvs(self, *args, **kwargs):\n",
    "        \"\"\"Random variable sample\"\"\"\n",
    "        return self._distribution.rvs(*args, **kwargs).astype(int)"
   ]
  },
  {
   "cell_type": "code",
   "execution_count": 76,
   "metadata": {},
   "outputs": [
    {
     "data": {
      "text/html": [
       "<div>\n",
       "<style scoped>\n",
       "    .dataframe tbody tr th:only-of-type {\n",
       "        vertical-align: middle;\n",
       "    }\n",
       "\n",
       "    .dataframe tbody tr th {\n",
       "        vertical-align: top;\n",
       "    }\n",
       "\n",
       "    .dataframe thead th {\n",
       "        text-align: right;\n",
       "    }\n",
       "</style>\n",
       "<table border=\"1\" class=\"dataframe\">\n",
       "  <thead>\n",
       "    <tr style=\"text-align: right;\">\n",
       "      <th></th>\n",
       "      <th>mean_fit_time</th>\n",
       "      <th>std_fit_time</th>\n",
       "      <th>mean_score_time</th>\n",
       "      <th>std_score_time</th>\n",
       "      <th>param_learning_rate</th>\n",
       "      <th>param_max_bins</th>\n",
       "      <th>param_max_leaf_nodes</th>\n",
       "      <th>param_min_samples_leaf</th>\n",
       "      <th>params</th>\n",
       "      <th>split0_test_neg_mean_squared_error</th>\n",
       "      <th>...</th>\n",
       "      <th>split2_test_neg_mean_squared_error</th>\n",
       "      <th>mean_test_neg_mean_squared_error</th>\n",
       "      <th>std_test_neg_mean_squared_error</th>\n",
       "      <th>rank_test_neg_mean_squared_error</th>\n",
       "      <th>split0_test_r2</th>\n",
       "      <th>split1_test_r2</th>\n",
       "      <th>split2_test_r2</th>\n",
       "      <th>mean_test_r2</th>\n",
       "      <th>std_test_r2</th>\n",
       "      <th>rank_test_r2</th>\n",
       "    </tr>\n",
       "  </thead>\n",
       "  <tbody>\n",
       "    <tr>\n",
       "      <th>177</th>\n",
       "      <td>0.271666</td>\n",
       "      <td>0.004113</td>\n",
       "      <td>0.008479</td>\n",
       "      <td>0.002184</td>\n",
       "      <td>0.053614</td>\n",
       "      <td>5</td>\n",
       "      <td>41</td>\n",
       "      <td>7</td>\n",
       "      <td>{'learning_rate': 0.053614116645560865, 'max_b...</td>\n",
       "      <td>-2602.937800</td>\n",
       "      <td>...</td>\n",
       "      <td>-2469.082857</td>\n",
       "      <td>-2802.746871</td>\n",
       "      <td>381.160016</td>\n",
       "      <td>1</td>\n",
       "      <td>0.849761</td>\n",
       "      <td>0.827473</td>\n",
       "      <td>0.848406</td>\n",
       "      <td>0.841880</td>\n",
       "      <td>0.010202</td>\n",
       "      <td>1</td>\n",
       "    </tr>\n",
       "    <tr>\n",
       "      <th>144</th>\n",
       "      <td>0.325021</td>\n",
       "      <td>0.008834</td>\n",
       "      <td>0.010440</td>\n",
       "      <td>0.001215</td>\n",
       "      <td>0.091939</td>\n",
       "      <td>31</td>\n",
       "      <td>48</td>\n",
       "      <td>14</td>\n",
       "      <td>{'learning_rate': 0.09193943265894511, 'max_bi...</td>\n",
       "      <td>-2355.220504</td>\n",
       "      <td>...</td>\n",
       "      <td>-2699.149858</td>\n",
       "      <td>-2830.960841</td>\n",
       "      <td>451.966668</td>\n",
       "      <td>3</td>\n",
       "      <td>0.864059</td>\n",
       "      <td>0.822184</td>\n",
       "      <td>0.834281</td>\n",
       "      <td>0.840175</td>\n",
       "      <td>0.017596</td>\n",
       "      <td>2</td>\n",
       "    </tr>\n",
       "    <tr>\n",
       "      <th>65</th>\n",
       "      <td>0.311312</td>\n",
       "      <td>0.015951</td>\n",
       "      <td>0.009071</td>\n",
       "      <td>0.000109</td>\n",
       "      <td>0.06184</td>\n",
       "      <td>20</td>\n",
       "      <td>106</td>\n",
       "      <td>21</td>\n",
       "      <td>{'learning_rate': 0.06183959239448371, 'max_bi...</td>\n",
       "      <td>-2477.675180</td>\n",
       "      <td>...</td>\n",
       "      <td>-2775.286958</td>\n",
       "      <td>-2829.505514</td>\n",
       "      <td>311.769112</td>\n",
       "      <td>2</td>\n",
       "      <td>0.856991</td>\n",
       "      <td>0.832679</td>\n",
       "      <td>0.829606</td>\n",
       "      <td>0.839759</td>\n",
       "      <td>0.012250</td>\n",
       "      <td>3</td>\n",
       "    </tr>\n",
       "    <tr>\n",
       "      <th>6</th>\n",
       "      <td>0.275449</td>\n",
       "      <td>0.036358</td>\n",
       "      <td>0.008660</td>\n",
       "      <td>0.001525</td>\n",
       "      <td>0.127266</td>\n",
       "      <td>15</td>\n",
       "      <td>36</td>\n",
       "      <td>4</td>\n",
       "      <td>{'learning_rate': 0.1272664479831247, 'max_bin...</td>\n",
       "      <td>-2582.362407</td>\n",
       "      <td>...</td>\n",
       "      <td>-2575.198116</td>\n",
       "      <td>-2852.255630</td>\n",
       "      <td>386.763634</td>\n",
       "      <td>4</td>\n",
       "      <td>0.850949</td>\n",
       "      <td>0.824216</td>\n",
       "      <td>0.841891</td>\n",
       "      <td>0.839019</td>\n",
       "      <td>0.011101</td>\n",
       "      <td>4</td>\n",
       "    </tr>\n",
       "    <tr>\n",
       "      <th>134</th>\n",
       "      <td>0.429982</td>\n",
       "      <td>0.006464</td>\n",
       "      <td>0.010176</td>\n",
       "      <td>0.002150</td>\n",
       "      <td>0.035286</td>\n",
       "      <td>5</td>\n",
       "      <td>68</td>\n",
       "      <td>6</td>\n",
       "      <td>{'learning_rate': 0.03528616523736426, 'max_bi...</td>\n",
       "      <td>-2575.334862</td>\n",
       "      <td>...</td>\n",
       "      <td>-2486.779838</td>\n",
       "      <td>-2859.147668</td>\n",
       "      <td>465.396081</td>\n",
       "      <td>7</td>\n",
       "      <td>0.851355</td>\n",
       "      <td>0.818211</td>\n",
       "      <td>0.847320</td>\n",
       "      <td>0.838962</td>\n",
       "      <td>0.014765</td>\n",
       "      <td>5</td>\n",
       "    </tr>\n",
       "    <tr>\n",
       "      <th>295</th>\n",
       "      <td>0.234014</td>\n",
       "      <td>0.031254</td>\n",
       "      <td>0.008126</td>\n",
       "      <td>0.000075</td>\n",
       "      <td>0.072975</td>\n",
       "      <td>23</td>\n",
       "      <td>30</td>\n",
       "      <td>31</td>\n",
       "      <td>{'learning_rate': 0.07297507164266959, 'max_bi...</td>\n",
       "      <td>-2416.066204</td>\n",
       "      <td>...</td>\n",
       "      <td>-2871.734630</td>\n",
       "      <td>-2856.413129</td>\n",
       "      <td>353.452860</td>\n",
       "      <td>5</td>\n",
       "      <td>0.860547</td>\n",
       "      <td>0.830306</td>\n",
       "      <td>0.823685</td>\n",
       "      <td>0.838179</td>\n",
       "      <td>0.016046</td>\n",
       "      <td>6</td>\n",
       "    </tr>\n",
       "    <tr>\n",
       "      <th>237</th>\n",
       "      <td>0.403707</td>\n",
       "      <td>0.024765</td>\n",
       "      <td>0.011559</td>\n",
       "      <td>0.002416</td>\n",
       "      <td>0.112354</td>\n",
       "      <td>244</td>\n",
       "      <td>163</td>\n",
       "      <td>25</td>\n",
       "      <td>{'learning_rate': 0.11235400233639165, 'max_bi...</td>\n",
       "      <td>-2552.425197</td>\n",
       "      <td>...</td>\n",
       "      <td>-2750.985544</td>\n",
       "      <td>-2858.921292</td>\n",
       "      <td>304.052482</td>\n",
       "      <td>6</td>\n",
       "      <td>0.852677</td>\n",
       "      <td>0.830724</td>\n",
       "      <td>0.831098</td>\n",
       "      <td>0.838167</td>\n",
       "      <td>0.010262</td>\n",
       "      <td>7</td>\n",
       "    </tr>\n",
       "    <tr>\n",
       "      <th>118</th>\n",
       "      <td>0.412457</td>\n",
       "      <td>0.028919</td>\n",
       "      <td>0.009129</td>\n",
       "      <td>0.001196</td>\n",
       "      <td>0.09592</td>\n",
       "      <td>10</td>\n",
       "      <td>69</td>\n",
       "      <td>7</td>\n",
       "      <td>{'learning_rate': 0.09591959482722476, 'max_bi...</td>\n",
       "      <td>-2478.185734</td>\n",
       "      <td>...</td>\n",
       "      <td>-2614.503747</td>\n",
       "      <td>-2875.583519</td>\n",
       "      <td>468.927976</td>\n",
       "      <td>9</td>\n",
       "      <td>0.856962</td>\n",
       "      <td>0.817242</td>\n",
       "      <td>0.839478</td>\n",
       "      <td>0.837894</td>\n",
       "      <td>0.016254</td>\n",
       "      <td>8</td>\n",
       "    </tr>\n",
       "    <tr>\n",
       "      <th>260</th>\n",
       "      <td>0.443023</td>\n",
       "      <td>0.013353</td>\n",
       "      <td>0.009765</td>\n",
       "      <td>0.001469</td>\n",
       "      <td>0.127656</td>\n",
       "      <td>7</td>\n",
       "      <td>71</td>\n",
       "      <td>9</td>\n",
       "      <td>{'learning_rate': 0.12765586692033687, 'max_bi...</td>\n",
       "      <td>-2632.179877</td>\n",
       "      <td>...</td>\n",
       "      <td>-2775.328209</td>\n",
       "      <td>-2865.880344</td>\n",
       "      <td>236.611741</td>\n",
       "      <td>8</td>\n",
       "      <td>0.848074</td>\n",
       "      <td>0.835028</td>\n",
       "      <td>0.829604</td>\n",
       "      <td>0.837568</td>\n",
       "      <td>0.007751</td>\n",
       "      <td>9</td>\n",
       "    </tr>\n",
       "    <tr>\n",
       "      <th>249</th>\n",
       "      <td>0.304507</td>\n",
       "      <td>0.009148</td>\n",
       "      <td>0.009281</td>\n",
       "      <td>0.001433</td>\n",
       "      <td>0.059285</td>\n",
       "      <td>35</td>\n",
       "      <td>42</td>\n",
       "      <td>14</td>\n",
       "      <td>{'learning_rate': 0.05928535988248448, 'max_bi...</td>\n",
       "      <td>-2447.722989</td>\n",
       "      <td>...</td>\n",
       "      <td>-2637.350674</td>\n",
       "      <td>-2882.663956</td>\n",
       "      <td>487.202249</td>\n",
       "      <td>12</td>\n",
       "      <td>0.858720</td>\n",
       "      <td>0.815750</td>\n",
       "      <td>0.838075</td>\n",
       "      <td>0.837515</td>\n",
       "      <td>0.017547</td>\n",
       "      <td>10</td>\n",
       "    </tr>\n",
       "  </tbody>\n",
       "</table>\n",
       "<p>10 rows × 21 columns</p>\n",
       "</div>"
      ],
      "text/plain": [
       "     mean_fit_time  std_fit_time  mean_score_time  std_score_time  \\\n",
       "177       0.271666      0.004113         0.008479        0.002184   \n",
       "144       0.325021      0.008834         0.010440        0.001215   \n",
       "65        0.311312      0.015951         0.009071        0.000109   \n",
       "6         0.275449      0.036358         0.008660        0.001525   \n",
       "134       0.429982      0.006464         0.010176        0.002150   \n",
       "295       0.234014      0.031254         0.008126        0.000075   \n",
       "237       0.403707      0.024765         0.011559        0.002416   \n",
       "118       0.412457      0.028919         0.009129        0.001196   \n",
       "260       0.443023      0.013353         0.009765        0.001469   \n",
       "249       0.304507      0.009148         0.009281        0.001433   \n",
       "\n",
       "    param_learning_rate param_max_bins param_max_leaf_nodes  \\\n",
       "177            0.053614              5                   41   \n",
       "144            0.091939             31                   48   \n",
       "65              0.06184             20                  106   \n",
       "6              0.127266             15                   36   \n",
       "134            0.035286              5                   68   \n",
       "295            0.072975             23                   30   \n",
       "237            0.112354            244                  163   \n",
       "118             0.09592             10                   69   \n",
       "260            0.127656              7                   71   \n",
       "249            0.059285             35                   42   \n",
       "\n",
       "    param_min_samples_leaf                                             params  \\\n",
       "177                      7  {'learning_rate': 0.053614116645560865, 'max_b...   \n",
       "144                     14  {'learning_rate': 0.09193943265894511, 'max_bi...   \n",
       "65                      21  {'learning_rate': 0.06183959239448371, 'max_bi...   \n",
       "6                        4  {'learning_rate': 0.1272664479831247, 'max_bin...   \n",
       "134                      6  {'learning_rate': 0.03528616523736426, 'max_bi...   \n",
       "295                     31  {'learning_rate': 0.07297507164266959, 'max_bi...   \n",
       "237                     25  {'learning_rate': 0.11235400233639165, 'max_bi...   \n",
       "118                      7  {'learning_rate': 0.09591959482722476, 'max_bi...   \n",
       "260                      9  {'learning_rate': 0.12765586692033687, 'max_bi...   \n",
       "249                     14  {'learning_rate': 0.05928535988248448, 'max_bi...   \n",
       "\n",
       "     split0_test_neg_mean_squared_error  ...  \\\n",
       "177                        -2602.937800  ...   \n",
       "144                        -2355.220504  ...   \n",
       "65                         -2477.675180  ...   \n",
       "6                          -2582.362407  ...   \n",
       "134                        -2575.334862  ...   \n",
       "295                        -2416.066204  ...   \n",
       "237                        -2552.425197  ...   \n",
       "118                        -2478.185734  ...   \n",
       "260                        -2632.179877  ...   \n",
       "249                        -2447.722989  ...   \n",
       "\n",
       "     split2_test_neg_mean_squared_error  mean_test_neg_mean_squared_error  \\\n",
       "177                        -2469.082857                      -2802.746871   \n",
       "144                        -2699.149858                      -2830.960841   \n",
       "65                         -2775.286958                      -2829.505514   \n",
       "6                          -2575.198116                      -2852.255630   \n",
       "134                        -2486.779838                      -2859.147668   \n",
       "295                        -2871.734630                      -2856.413129   \n",
       "237                        -2750.985544                      -2858.921292   \n",
       "118                        -2614.503747                      -2875.583519   \n",
       "260                        -2775.328209                      -2865.880344   \n",
       "249                        -2637.350674                      -2882.663956   \n",
       "\n",
       "     std_test_neg_mean_squared_error  rank_test_neg_mean_squared_error  \\\n",
       "177                       381.160016                                 1   \n",
       "144                       451.966668                                 3   \n",
       "65                        311.769112                                 2   \n",
       "6                         386.763634                                 4   \n",
       "134                       465.396081                                 7   \n",
       "295                       353.452860                                 5   \n",
       "237                       304.052482                                 6   \n",
       "118                       468.927976                                 9   \n",
       "260                       236.611741                                 8   \n",
       "249                       487.202249                                12   \n",
       "\n",
       "     split0_test_r2  split1_test_r2  split2_test_r2  mean_test_r2  \\\n",
       "177        0.849761        0.827473        0.848406      0.841880   \n",
       "144        0.864059        0.822184        0.834281      0.840175   \n",
       "65         0.856991        0.832679        0.829606      0.839759   \n",
       "6          0.850949        0.824216        0.841891      0.839019   \n",
       "134        0.851355        0.818211        0.847320      0.838962   \n",
       "295        0.860547        0.830306        0.823685      0.838179   \n",
       "237        0.852677        0.830724        0.831098      0.838167   \n",
       "118        0.856962        0.817242        0.839478      0.837894   \n",
       "260        0.848074        0.835028        0.829604      0.837568   \n",
       "249        0.858720        0.815750        0.838075      0.837515   \n",
       "\n",
       "     std_test_r2  rank_test_r2  \n",
       "177     0.010202             1  \n",
       "144     0.017596             2  \n",
       "65      0.012250             3  \n",
       "6       0.011101             4  \n",
       "134     0.014765             5  \n",
       "295     0.016046             6  \n",
       "237     0.010262             7  \n",
       "118     0.016254             8  \n",
       "260     0.007751             9  \n",
       "249     0.017547            10  \n",
       "\n",
       "[10 rows x 21 columns]"
      ]
     },
     "metadata": {},
     "output_type": "display_data"
    },
    {
     "name": "stdout",
     "output_type": "stream",
     "text": [
      "Best parameters: {'learning_rate': 0.053614116645560865, 'max_bins': 5, 'max_leaf_nodes': 41, 'min_samples_leaf': 7}\n"
     ]
    }
   ],
   "source": [
    "from sklearn.model_selection import GridSearchCV, RandomizedSearchCV\n",
    "\n",
    "model = HistGradientBoostingRegressor(random_state=random_state)\n",
    "\n",
    "param_distributions = {\n",
    "    'max_bins': loguniform_int(2, 255),\n",
    "    'max_leaf_nodes': loguniform_int(2, 256),\n",
    "    'min_samples_leaf': loguniform_int(1, 100),\n",
    "    'learning_rate': loguniform(0.001, 10),\n",
    "}\n",
    "\n",
    "cv = RandomizedSearchCV(model, param_distributions=param_distributions, n_iter=350, cv=3, n_jobs=-1, scoring=['neg_mean_squared_error', 'r2'], refit='r2') .fit(X_train, y_train)\n",
    "\n",
    "v = pd.DataFrame(cv.cv_results_)\n",
    "v.sort_values(by='rank_test_r2', inplace=True)\n",
    "display(v.head(10))\n",
    "\n",
    "print(f\"Best parameters: {cv.best_params_}\")"
   ]
  },
  {
   "attachments": {},
   "cell_type": "markdown",
   "metadata": {},
   "source": [
    "We can see that parameters with rank 1 has higher R^2 score. "
   ]
  },
  {
   "cell_type": "code",
   "execution_count": 77,
   "metadata": {},
   "outputs": [
    {
     "name": "stdout",
     "output_type": "stream",
     "text": [
      "------------------------------\n",
      "Train Score:  0.948\n",
      "Train RMSE:  30.515\n",
      "------------------------------\n",
      "Test Score:  0.857\n",
      "Test RMSE:  48.574\n"
     ]
    },
    {
     "data": {
      "application/vnd.plotly.v1+json": {
       "config": {
        "plotlyServerURL": "https://plot.ly"
       },
       "data": [
        {
         "hovertemplate": "Actual y=%{x}<br>Predicted y=%{y}<extra></extra>",
         "legendgroup": "",
         "marker": {
          "color": "#636efa",
          "symbol": "circle"
         },
         "mode": "markers",
         "name": "",
         "orientation": "v",
         "showlegend": false,
         "type": "scatter",
         "x": [
          100,
          98,
          52,
          160,
          89,
          199,
          420,
          187,
          49,
          79,
          399,
          152,
          400,
          279,
          529,
          100,
          450,
          33,
          49,
          194,
          69,
          100,
          22,
          40,
          386,
          175,
          261,
          59,
          300,
          80,
          63,
          235,
          330,
          79,
          43,
          58,
          50,
          70,
          415,
          204,
          70,
          378,
          44,
          175,
          387,
          260,
          39,
          59,
          50,
          150,
          38,
          448,
          193,
          59,
          109,
          101,
          49,
          130,
          145,
          168,
          50,
          184,
          59,
          133,
          163,
          549,
          60,
          220,
          240,
          70,
          495,
          175,
          179,
          56,
          250,
          399,
          266,
          235,
          114,
          78,
          185,
          470,
          108,
          250,
          81,
          66,
          474,
          130,
          49,
          130,
          49,
          246,
          171,
          230,
          173,
          75,
          180,
          31,
          395,
          400,
          221,
          328,
          45,
          60,
          310,
          65,
          47,
          260,
          85,
          38,
          140,
          399,
          404,
          279,
          65,
          78,
          156,
          55,
          200,
          51,
          328,
          160,
          410,
          39,
          178,
          90,
          300,
          40,
          366,
          140,
          218,
          134,
          373,
          135,
          69,
          188,
          224,
          500,
          250,
          430,
          181,
          60,
          629,
          57,
          95,
          210,
          314,
          195,
          345,
          271,
          90,
          409,
          409,
          349,
          60,
          69,
          140,
          120,
          190,
          103,
          400,
          115,
          134,
          78,
          401,
          80,
          500,
          227,
          39,
          30,
          125,
          228,
          179,
          152,
          165,
          80,
          98,
          315,
          260,
          409,
          399,
          31,
          20,
          70,
          249,
          289,
          470,
          50,
          30,
          250,
          210,
          130,
          331,
          189,
          42,
          148,
          125,
          245,
          85,
          318,
          39,
          229,
          386,
          371,
          24,
          50,
          24,
          456,
          337,
          168,
          65,
          210,
          57,
          110,
          78,
          69,
          50,
          232,
          232,
          189,
          59,
          80,
          27,
          79,
          100,
          80,
          240,
          202,
          482,
          85,
          380,
          206,
          200,
          22,
          113,
          200,
          49,
          59,
          96,
          187,
          394,
          243,
          50,
          99,
          210,
          110,
          404,
          49,
          126,
          49,
          269,
          260,
          181,
          69,
          144,
          120,
          140,
          305,
          180,
          229,
          59,
          105,
          50,
          195,
          140,
          142,
          59,
          223,
          69,
          80,
          270,
          78,
          56,
          151,
          200,
          550,
          276,
          225,
          48,
          137,
          179,
          216,
          222,
          79,
          86,
          430,
          187,
          175,
          208,
          121,
          100,
          59,
          399,
          102,
          46,
          318,
          50,
          196,
          50,
          190,
          173,
          185,
          158,
          320,
          109,
          310,
          49,
          213,
          205,
          116,
          72,
          60,
          47,
          31,
          349,
          463,
          160,
          69,
          301,
          109,
          18,
          226,
          198,
          104,
          40,
          101,
          357,
          400,
          68,
          68,
          575,
          134,
          399,
          173,
          31,
          610,
          284,
          53,
          57,
          55,
          22,
          115,
          517,
          58,
          600,
          85,
          191,
          59,
          55,
          48,
          103,
          219,
          56,
          119,
          127,
          69,
          413,
          137,
          85,
          93,
          117,
          126,
          281,
          38,
          110,
          123,
          508,
          202,
          29,
          290,
          162,
          36,
          225,
          45,
          122,
          414,
          242,
          40,
          70,
          69,
          226,
          38,
          160,
          140,
          98,
          39,
          190,
          59,
          50,
          173,
          204,
          39,
          144,
          89,
          70,
          151,
          184,
          55,
          615,
          188,
          113,
          200,
          75,
          145,
          90,
          52,
          88,
          46,
          85,
          250,
          49,
          42,
          40,
          99,
          246,
          375,
          155,
          69,
          65,
          310,
          130,
          90,
          95,
          162,
          260,
          122,
          324,
          300,
          34,
          190,
          80,
          35,
          144,
          328,
          59,
          59,
          48,
          120,
          209,
          100,
          500,
          40,
          99,
          99,
          156,
          67,
          97,
          150,
          180,
          105,
          188,
          55,
          85,
          110,
          78,
          210,
          155,
          129,
          257,
          145,
          135,
          59,
          140,
          130,
          60,
          211,
          188,
          80,
          219,
          265,
          49,
          56,
          129,
          64,
          93,
          200,
          243,
          168,
          327,
          350,
          39,
          335,
          45,
          193,
          284,
          40,
          404,
          68,
          65,
          39,
          313,
          80,
          53,
          49,
          58,
          126,
          69,
          80,
          110,
          50,
          132,
          80,
          185,
          387,
          27,
          162,
          88,
          153,
          239,
          243,
          99,
          89,
          53,
          131,
          111,
          428,
          150,
          179,
          178,
          295,
          335,
          59,
          33,
          59,
          440,
          142,
          261,
          343,
          188,
          59,
          49,
          109,
          90,
          33,
          80,
          61,
          490,
          69,
          60,
          181,
          66,
          49,
          148,
          429,
          210,
          297,
          500,
          169,
          60,
          90,
          320,
          222,
          136,
          174,
          243
         ],
         "xaxis": "x",
         "y": [
          85.15697634149193,
          122.8484658907588,
          97.84755028925073,
          120.39396777186319,
          120.81561305984172,
          233.65409244770728,
          531.9142344469838,
          185.96423339570222,
          58.141324854226134,
          91.79781752478054,
          417.0751320984864,
          148.79182871033657,
          375.0548333962485,
          245.02856964124032,
          445.38691872776474,
          108.95502597188494,
          494.07346526468245,
          30.261230362464666,
          50.39511633281646,
          135.28772109772245,
          72.63294727610148,
          124.94469464267296,
          34.88386412572078,
          111.79384267131336,
          357.00425129397615,
          198.7216227536711,
          238.09911036357252,
          64.12406275276155,
          77.94961588880928,
          95.87198086068567,
          82.0493607656922,
          111.04614795118634,
          123.33172448153326,
          72.63294727610148,
          102.44533639041286,
          59.44710916562802,
          55.0814221892527,
          108.18972528160664,
          336.5897432346288,
          199.06518557067017,
          69.41164378234154,
          455.3943678716035,
          81.94263928313444,
          196.45937017718566,
          422.80974495832623,
          197.12513476217424,
          45.72614624681453,
          64.66341233709606,
          68.15055189583877,
          187.90743542913293,
          120.65040372564773,
          386.060548438137,
          225.9099651888323,
          69.75970933189755,
          134.070371766099,
          133.41547094476135,
          65.06838108452968,
          127.89230260885803,
          141.26534125004824,
          216.85175502319865,
          53.75877631877036,
          161.76972364537002,
          69.41164378234154,
          120.38922508253407,
          169.02300544666198,
          453.0364331073891,
          66.25119865207269,
          182.94347909318765,
          207.92147211812005,
          103.57789280080294,
          418.53976176009905,
          162.88266666111133,
          228.37584751924695,
          63.474065632377176,
          228.73552880181208,
          433.0738125833166,
          235.81181381454613,
          213.12802923945156,
          117.4400874643634,
          111.11939686229503,
          185.70228700185504,
          480.94853986959754,
          139.365920918411,
          242.22080161573538,
          92.60203696640684,
          93.36945625618809,
          370.26996976720307,
          140.93750136753917,
          64.25050133823486,
          119.05371243842298,
          50.39511633281646,
          225.37837289263135,
          178.8089563631495,
          222.12312175756952,
          182.1478158460132,
          106.24144884347687,
          150.3867740752997,
          119.26662497830056,
          502.2861361066564,
          470.0607271002195,
          224.70283060189462,
          408.3860951659211,
          69.49952660575883,
          98.51239299951982,
          370.85335811975625,
          88.82023366282903,
          87.65344846107457,
          275.28737389525094,
          125.79736186520587,
          82.22481556690498,
          137.1821147058738,
          405.77544571382555,
          212.94452977322393,
          216.4275061991398,
          91.08774015611307,
          83.99451680494536,
          146.30298104927292,
          165.46979091091418,
          113.14326838503975,
          50.3148209951775,
          375.1266062367312,
          166.81785727292458,
          456.7820637568529,
          46.890176783264025,
          179.4260409533946,
          88.12613662949299,
          374.46131449679444,
          139.06664952025787,
          421.36008701550605,
          123.4035628943115,
          224.9079106868526,
          139.64344409320609,
          377.9444334441696,
          167.6938762998677,
          71.13915124775373,
          176.9150985033483,
          236.05466126034736,
          256.76641202591935,
          175.06585963007197,
          457.459606609811,
          167.29076156717704,
          103.56617439729612,
          512.6857088956349,
          53.056529820010084,
          80.59493491880298,
          192.8881251848849,
          77.78186378117675,
          256.3182705276352,
          393.2378088767051,
          229.52410386605044,
          128.99917998224274,
          404.9716415399516,
          400.76522377892485,
          365.921251958397,
          106.2523850667142,
          66.83477268130088,
          130.6179797848526,
          104.28526938761591,
          226.92206762398416,
          100.18579702209502,
          357.4863533114652,
          130.93056942889044,
          158.29202073659638,
          79.80195050497792,
          406.7941827303404,
          81.65086117013371,
          485.5983260124598,
          226.09087059547366,
          46.90455504959478,
          70.0286797606374,
          89.99710320302236,
          226.31973944085112,
          175.51757959060413,
          170.61838856968217,
          205.3472080726075,
          99.25827097709531,
          79.34783863292655,
          280.0045342332172,
          229.66429594411667,
          438.3832389229249,
          348.46379926748597,
          24.796492771402423,
          68.21833681522054,
          80.30652457469293,
          228.77157183527711,
          269.7586950955575,
          504.0138006131945,
          105.7360296495142,
          66.51860041357077,
          227.30934826905812,
          214.1535431002002,
          128.4459295367689,
          350.88886849899353,
          75.42847539898484,
          128.67020227125113,
          201.13181739394093,
          121.37244936074705,
          159.237539586577,
          82.0914164242304,
          363.5416610563521,
          77.95173213906861,
          176.72182842226755,
          347.59783059430305,
          436.9240907819886,
          29.298199580813268,
          59.04441973669937,
          33.49633039539564,
          432.23517588076237,
          346.689263272621,
          67.78977144090602,
          167.97062385929306,
          207.38682256874864,
          65.7405727222478,
          115.28236775574054,
          86.43308804060314,
          58.12861742007837,
          124.59478456136688,
          214.2970178709238,
          222.3963982872394,
          246.09293144317542,
          50.447319609146156,
          97.37262815364002,
          33.31317714750143,
          74.98593046851525,
          135.33677212307046,
          61.64377278784995,
          199.76118314817188,
          159.21786548661765,
          295.7649837247497,
          175.46047489403253,
          434.43598821451815,
          199.69500801785944,
          200.56400646558328,
          34.88386412572078,
          132.49828699498244,
          146.98915785671278,
          48.78375680638048,
          52.53027933859754,
          205.53516380887774,
          188.93425170749342,
          409.523441553122,
          219.4542918182645,
          77.15832496769313,
          118.60798144618322,
          238.61018631479607,
          150.98951585506933,
          320.9093961776014,
          53.04605459775698,
          102.17895419159218,
          50.0510476290207,
          154.60119485978043,
          218.1419683448839,
          177.44415398944082,
          78.74123532484266,
          177.24528906260377,
          151.18876712452533,
          147.9594524339419,
          416.0185438668376,
          216.8637667633493,
          256.5327458892426,
          63.78379996075879,
          121.74918983931705,
          73.1687178528288,
          224.63664765088743,
          126.32043920034562,
          174.99827758388682,
          57.88498096630665,
          224.58252521122597,
          66.35732695674307,
          100.05265726718464,
          233.29206945476906,
          116.50010615757712,
          58.1402908536126,
          143.39482996352737,
          146.01100087688675,
          473.9255551807754,
          197.60503223767284,
          82.20580164048219,
          81.7156184315468,
          145.61404425522707,
          210.66297652208152,
          125.90541020802895,
          235.43863634911116,
          104.20391277083759,
          91.2940229361126,
          415.38290439955045,
          173.2817695944512,
          195.12715223036656,
          213.55368473333246,
          146.44231296182272,
          134.13148462789323,
          50.51772425728887,
          395.88199520204097,
          166.99615100870437,
          70.9299252423599,
          370.8571141157676,
          76.49747900304187,
          183.96664269248666,
          103.79230129534281,
          207.9906540670285,
          92.04887966600481,
          184.3647526931365,
          172.83437750599924,
          361.3453011838225,
          66.71712793868362,
          335.64196006660177,
          51.34789069343462,
          233.03374243029597,
          206.39710864237404,
          177.62363625961547,
          93.37910052125173,
          83.72719764112531,
          85.36342557875193,
          18.785937284117978,
          408.19575901732935,
          359.9297575575193,
          135.41755059363,
          64.66341233709606,
          344.0175624190654,
          137.13678446722196,
          91.04155488025164,
          222.3548774415252,
          233.5602248838389,
          88.8553101001273,
          100.48786971006109,
          138.8329725558255,
          372.4722433244722,
          392.67560660773955,
          59.59380373884897,
          94.74664148788268,
          432.7679786561953,
          139.64344409320609,
          387.02962621615967,
          158.5685129961039,
          82.65718096443065,
          454.00644503808377,
          343.61435724888236,
          61.7644221408169,
          57.46493154386165,
          57.42560589420212,
          28.014275490405268,
          164.21001658261665,
          485.9944643516354,
          81.35053663528927,
          389.3921575491511,
          77.20403163309504,
          96.35999423517961,
          59.832016452521174,
          100.54675727069068,
          64.61053199331324,
          77.66491968545016,
          223.31148404065618,
          52.237705172833856,
          166.3979326465019,
          128.701062666037,
          64.66341233709606,
          405.77544571382555,
          147.52403023700595,
          122.10007333290682,
          91.2365299327206,
          153.6877313712614,
          138.16760569872298,
          217.36225678704955,
          67.98161169270048,
          163.27706734776223,
          154.45829339337456,
          385.79416653830924,
          158.72777995102174,
          52.522017043517245,
          357.2472294032166,
          127.76864160161317,
          51.653391476668986,
          185.0333510542371,
          103.4800326664509,
          147.6096008876051,
          391.1885358489599,
          235.10717262464524,
          97.5301749395507,
          100.96582213156667,
          57.241198370101166,
          198.4577363376351,
          85.32553738731328,
          161.31751962765358,
          94.95267973298311,
          115.49942898786388,
          45.72614624681453,
          166.19394955819394,
          56.04352469338869,
          55.02394980657167,
          221.2833919278596,
          184.5929492355695,
          46.90455504959478,
          141.71948168517287,
          150.19164000699848,
          168.35824327390313,
          171.37713749973992,
          147.55832732496987,
          73.61663252615749,
          446.2584610506678,
          158.06888074477703,
          87.50867137085056,
          228.80702820802082,
          66.129162060426,
          93.5573007255032,
          88.15122433163627,
          91.47329265121886,
          92.51625435069037,
          84.8434817036311,
          87.24951101222486,
          220.7490374552483,
          52.794052704754336,
          54.32084779549103,
          71.96654505467306,
          101.92137594846751,
          229.9165027177022,
          420.4917060084877,
          166.25257791597832,
          74.82732858142502,
          78.46871085537002,
          442.6538533408373,
          121.28533093483723,
          149.6217391835611,
          120.1418941159923,
          172.00019829362233,
          189.09196003327702,
          175.23954123010165,
          356.6065657893704,
          448.65847377841243,
          89.7614248316538,
          161.40349255452676,
          103.86337057608645,
          111.84592859065368,
          143.77405114807007,
          347.1940000885391,
          82.0493607656922,
          76.22415518461617,
          61.77734118131243,
          165.34236282035263,
          230.6456478128338,
          177.59321180708088,
          472.5044618496599,
          46.10870021771353,
          80.61541907449563,
          124.94951934044126,
          137.39674966123508,
          82.52695737673832,
          92.78871025958608,
          78.28735364801771,
          201.5789021978564,
          88.8329174272353,
          159.5978609556251,
          131.6304848381103,
          104.22990609988898,
          128.9868210799821,
          93.46569679461767,
          195.76292206037223,
          134.35972409238607,
          124.43909249254092,
          223.4915227211601,
          140.56363459037635,
          108.16564755170118,
          50.39511633281646,
          157.56661857051697,
          88.16404001758879,
          72.97784668974636,
          221.06946180874647,
          220.78487190900537,
          125.53353791698514,
          223.6583982561852,
          252.50944242141028,
          50.447319609146156,
          71.84544693915359,
          87.34890401474257,
          73.82480459516518,
          74.5439075423975,
          206.1930926554781,
          248.2211373100734,
          147.4905183821981,
          358.83129402369855,
          347.91909072482656,
          46.890176783264025,
          374.64935084446245,
          78.88232726815096,
          200.86527398926592,
          375.31385114193574,
          89.08055196737051,
          396.85411469525013,
          89.15549004995148,
          96.26678213525308,
          46.546108079468276,
          361.4227020194653,
          104.64412166814643,
          64.61053199331324,
          52.794052704754336,
          91.58949199756479,
          105.22946036421497,
          54.87034083938453,
          79.02376581431982,
          130.93056942889044,
          53.34534071741288,
          163.58366486584927,
          95.29261511530258,
          163.89294445014724,
          407.9270172065728,
          44.07381458099701,
          122.2384676937435,
          120.53697370918842,
          162.4184079548847,
          225.72306853993967,
          226.3570639505131,
          171.9265965895451,
          53.939600713270565,
          72.26077793514855,
          152.0882698512876,
          216.2990568085131,
          465.7612063511784,
          107.95783653157521,
          209.17568264502535,
          192.71318941300063,
          341.9095335460394,
          335.7547513732812,
          59.832016452521174,
          96.86688504061466,
          78.78046017092095,
          443.7726496801401,
          154.86062425705737,
          238.09911036357252,
          333.75633916895146,
          160.84466337485716,
          108.6981565424819,
          50.0510476290207,
          99.85102127005864,
          87.58460728560088,
          56.16506533149022,
          73.53203477246915,
          99.51370714579183,
          316.73887141020793,
          72.92011448499237,
          101.71958798226458,
          222.76480841531267,
          82.55568628250715,
          50.658889698973255,
          176.49958452730684,
          428.52412003658236,
          210.89371269178946,
          372.3200651781075,
          314.5628156439583,
          193.05166906642867,
          98.39318556300941,
          127.24349753601139,
          371.2761682658603,
          163.58803574931713,
          128.29563256201618,
          173.34705942302685,
          228.21729839275153
         ],
         "yaxis": "y"
        },
        {
         "line": {
          "color": "gray"
         },
         "mode": "lines",
         "showlegend": false,
         "type": "scatter",
         "x": [
          0,
          600
         ],
         "y": [
          0,
          600
         ]
        },
        {
         "line": {
          "dash": "dot"
         },
         "mode": "lines",
         "showlegend": false,
         "type": "scatter",
         "x": [
          0,
          600
         ],
         "y": [
          132.3645418384225,
          732.3645418384225
         ]
        },
        {
         "line": {
          "dash": "dot"
         },
         "mode": "lines",
         "showlegend": false,
         "type": "scatter",
         "x": [
          0,
          600
         ],
         "y": [
          -132.3645418384225,
          467.6354581615775
         ]
        }
       ],
       "layout": {
        "height": 500,
        "legend": {
         "tracegroupgap": 0
        },
        "template": {
         "data": {
          "bar": [
           {
            "error_x": {
             "color": "#2a3f5f"
            },
            "error_y": {
             "color": "#2a3f5f"
            },
            "marker": {
             "line": {
              "color": "#E5ECF6",
              "width": 0.5
             },
             "pattern": {
              "fillmode": "overlay",
              "size": 10,
              "solidity": 0.2
             }
            },
            "type": "bar"
           }
          ],
          "barpolar": [
           {
            "marker": {
             "line": {
              "color": "#E5ECF6",
              "width": 0.5
             },
             "pattern": {
              "fillmode": "overlay",
              "size": 10,
              "solidity": 0.2
             }
            },
            "type": "barpolar"
           }
          ],
          "carpet": [
           {
            "aaxis": {
             "endlinecolor": "#2a3f5f",
             "gridcolor": "white",
             "linecolor": "white",
             "minorgridcolor": "white",
             "startlinecolor": "#2a3f5f"
            },
            "baxis": {
             "endlinecolor": "#2a3f5f",
             "gridcolor": "white",
             "linecolor": "white",
             "minorgridcolor": "white",
             "startlinecolor": "#2a3f5f"
            },
            "type": "carpet"
           }
          ],
          "choropleth": [
           {
            "colorbar": {
             "outlinewidth": 0,
             "ticks": ""
            },
            "type": "choropleth"
           }
          ],
          "contour": [
           {
            "colorbar": {
             "outlinewidth": 0,
             "ticks": ""
            },
            "colorscale": [
             [
              0,
              "#0d0887"
             ],
             [
              0.1111111111111111,
              "#46039f"
             ],
             [
              0.2222222222222222,
              "#7201a8"
             ],
             [
              0.3333333333333333,
              "#9c179e"
             ],
             [
              0.4444444444444444,
              "#bd3786"
             ],
             [
              0.5555555555555556,
              "#d8576b"
             ],
             [
              0.6666666666666666,
              "#ed7953"
             ],
             [
              0.7777777777777778,
              "#fb9f3a"
             ],
             [
              0.8888888888888888,
              "#fdca26"
             ],
             [
              1,
              "#f0f921"
             ]
            ],
            "type": "contour"
           }
          ],
          "contourcarpet": [
           {
            "colorbar": {
             "outlinewidth": 0,
             "ticks": ""
            },
            "type": "contourcarpet"
           }
          ],
          "heatmap": [
           {
            "colorbar": {
             "outlinewidth": 0,
             "ticks": ""
            },
            "colorscale": [
             [
              0,
              "#0d0887"
             ],
             [
              0.1111111111111111,
              "#46039f"
             ],
             [
              0.2222222222222222,
              "#7201a8"
             ],
             [
              0.3333333333333333,
              "#9c179e"
             ],
             [
              0.4444444444444444,
              "#bd3786"
             ],
             [
              0.5555555555555556,
              "#d8576b"
             ],
             [
              0.6666666666666666,
              "#ed7953"
             ],
             [
              0.7777777777777778,
              "#fb9f3a"
             ],
             [
              0.8888888888888888,
              "#fdca26"
             ],
             [
              1,
              "#f0f921"
             ]
            ],
            "type": "heatmap"
           }
          ],
          "heatmapgl": [
           {
            "colorbar": {
             "outlinewidth": 0,
             "ticks": ""
            },
            "colorscale": [
             [
              0,
              "#0d0887"
             ],
             [
              0.1111111111111111,
              "#46039f"
             ],
             [
              0.2222222222222222,
              "#7201a8"
             ],
             [
              0.3333333333333333,
              "#9c179e"
             ],
             [
              0.4444444444444444,
              "#bd3786"
             ],
             [
              0.5555555555555556,
              "#d8576b"
             ],
             [
              0.6666666666666666,
              "#ed7953"
             ],
             [
              0.7777777777777778,
              "#fb9f3a"
             ],
             [
              0.8888888888888888,
              "#fdca26"
             ],
             [
              1,
              "#f0f921"
             ]
            ],
            "type": "heatmapgl"
           }
          ],
          "histogram": [
           {
            "marker": {
             "pattern": {
              "fillmode": "overlay",
              "size": 10,
              "solidity": 0.2
             }
            },
            "type": "histogram"
           }
          ],
          "histogram2d": [
           {
            "colorbar": {
             "outlinewidth": 0,
             "ticks": ""
            },
            "colorscale": [
             [
              0,
              "#0d0887"
             ],
             [
              0.1111111111111111,
              "#46039f"
             ],
             [
              0.2222222222222222,
              "#7201a8"
             ],
             [
              0.3333333333333333,
              "#9c179e"
             ],
             [
              0.4444444444444444,
              "#bd3786"
             ],
             [
              0.5555555555555556,
              "#d8576b"
             ],
             [
              0.6666666666666666,
              "#ed7953"
             ],
             [
              0.7777777777777778,
              "#fb9f3a"
             ],
             [
              0.8888888888888888,
              "#fdca26"
             ],
             [
              1,
              "#f0f921"
             ]
            ],
            "type": "histogram2d"
           }
          ],
          "histogram2dcontour": [
           {
            "colorbar": {
             "outlinewidth": 0,
             "ticks": ""
            },
            "colorscale": [
             [
              0,
              "#0d0887"
             ],
             [
              0.1111111111111111,
              "#46039f"
             ],
             [
              0.2222222222222222,
              "#7201a8"
             ],
             [
              0.3333333333333333,
              "#9c179e"
             ],
             [
              0.4444444444444444,
              "#bd3786"
             ],
             [
              0.5555555555555556,
              "#d8576b"
             ],
             [
              0.6666666666666666,
              "#ed7953"
             ],
             [
              0.7777777777777778,
              "#fb9f3a"
             ],
             [
              0.8888888888888888,
              "#fdca26"
             ],
             [
              1,
              "#f0f921"
             ]
            ],
            "type": "histogram2dcontour"
           }
          ],
          "mesh3d": [
           {
            "colorbar": {
             "outlinewidth": 0,
             "ticks": ""
            },
            "type": "mesh3d"
           }
          ],
          "parcoords": [
           {
            "line": {
             "colorbar": {
              "outlinewidth": 0,
              "ticks": ""
             }
            },
            "type": "parcoords"
           }
          ],
          "pie": [
           {
            "automargin": true,
            "type": "pie"
           }
          ],
          "scatter": [
           {
            "fillpattern": {
             "fillmode": "overlay",
             "size": 10,
             "solidity": 0.2
            },
            "type": "scatter"
           }
          ],
          "scatter3d": [
           {
            "line": {
             "colorbar": {
              "outlinewidth": 0,
              "ticks": ""
             }
            },
            "marker": {
             "colorbar": {
              "outlinewidth": 0,
              "ticks": ""
             }
            },
            "type": "scatter3d"
           }
          ],
          "scattercarpet": [
           {
            "marker": {
             "colorbar": {
              "outlinewidth": 0,
              "ticks": ""
             }
            },
            "type": "scattercarpet"
           }
          ],
          "scattergeo": [
           {
            "marker": {
             "colorbar": {
              "outlinewidth": 0,
              "ticks": ""
             }
            },
            "type": "scattergeo"
           }
          ],
          "scattergl": [
           {
            "marker": {
             "colorbar": {
              "outlinewidth": 0,
              "ticks": ""
             }
            },
            "type": "scattergl"
           }
          ],
          "scattermapbox": [
           {
            "marker": {
             "colorbar": {
              "outlinewidth": 0,
              "ticks": ""
             }
            },
            "type": "scattermapbox"
           }
          ],
          "scatterpolar": [
           {
            "marker": {
             "colorbar": {
              "outlinewidth": 0,
              "ticks": ""
             }
            },
            "type": "scatterpolar"
           }
          ],
          "scatterpolargl": [
           {
            "marker": {
             "colorbar": {
              "outlinewidth": 0,
              "ticks": ""
             }
            },
            "type": "scatterpolargl"
           }
          ],
          "scatterternary": [
           {
            "marker": {
             "colorbar": {
              "outlinewidth": 0,
              "ticks": ""
             }
            },
            "type": "scatterternary"
           }
          ],
          "surface": [
           {
            "colorbar": {
             "outlinewidth": 0,
             "ticks": ""
            },
            "colorscale": [
             [
              0,
              "#0d0887"
             ],
             [
              0.1111111111111111,
              "#46039f"
             ],
             [
              0.2222222222222222,
              "#7201a8"
             ],
             [
              0.3333333333333333,
              "#9c179e"
             ],
             [
              0.4444444444444444,
              "#bd3786"
             ],
             [
              0.5555555555555556,
              "#d8576b"
             ],
             [
              0.6666666666666666,
              "#ed7953"
             ],
             [
              0.7777777777777778,
              "#fb9f3a"
             ],
             [
              0.8888888888888888,
              "#fdca26"
             ],
             [
              1,
              "#f0f921"
             ]
            ],
            "type": "surface"
           }
          ],
          "table": [
           {
            "cells": {
             "fill": {
              "color": "#EBF0F8"
             },
             "line": {
              "color": "white"
             }
            },
            "header": {
             "fill": {
              "color": "#C8D4E3"
             },
             "line": {
              "color": "white"
             }
            },
            "type": "table"
           }
          ]
         },
         "layout": {
          "annotationdefaults": {
           "arrowcolor": "#2a3f5f",
           "arrowhead": 0,
           "arrowwidth": 1
          },
          "autotypenumbers": "strict",
          "coloraxis": {
           "colorbar": {
            "outlinewidth": 0,
            "ticks": ""
           }
          },
          "colorscale": {
           "diverging": [
            [
             0,
             "#8e0152"
            ],
            [
             0.1,
             "#c51b7d"
            ],
            [
             0.2,
             "#de77ae"
            ],
            [
             0.3,
             "#f1b6da"
            ],
            [
             0.4,
             "#fde0ef"
            ],
            [
             0.5,
             "#f7f7f7"
            ],
            [
             0.6,
             "#e6f5d0"
            ],
            [
             0.7,
             "#b8e186"
            ],
            [
             0.8,
             "#7fbc41"
            ],
            [
             0.9,
             "#4d9221"
            ],
            [
             1,
             "#276419"
            ]
           ],
           "sequential": [
            [
             0,
             "#0d0887"
            ],
            [
             0.1111111111111111,
             "#46039f"
            ],
            [
             0.2222222222222222,
             "#7201a8"
            ],
            [
             0.3333333333333333,
             "#9c179e"
            ],
            [
             0.4444444444444444,
             "#bd3786"
            ],
            [
             0.5555555555555556,
             "#d8576b"
            ],
            [
             0.6666666666666666,
             "#ed7953"
            ],
            [
             0.7777777777777778,
             "#fb9f3a"
            ],
            [
             0.8888888888888888,
             "#fdca26"
            ],
            [
             1,
             "#f0f921"
            ]
           ],
           "sequentialminus": [
            [
             0,
             "#0d0887"
            ],
            [
             0.1111111111111111,
             "#46039f"
            ],
            [
             0.2222222222222222,
             "#7201a8"
            ],
            [
             0.3333333333333333,
             "#9c179e"
            ],
            [
             0.4444444444444444,
             "#bd3786"
            ],
            [
             0.5555555555555556,
             "#d8576b"
            ],
            [
             0.6666666666666666,
             "#ed7953"
            ],
            [
             0.7777777777777778,
             "#fb9f3a"
            ],
            [
             0.8888888888888888,
             "#fdca26"
            ],
            [
             1,
             "#f0f921"
            ]
           ]
          },
          "colorway": [
           "#636efa",
           "#EF553B",
           "#00cc96",
           "#ab63fa",
           "#FFA15A",
           "#19d3f3",
           "#FF6692",
           "#B6E880",
           "#FF97FF",
           "#FECB52"
          ],
          "font": {
           "color": "#2a3f5f"
          },
          "geo": {
           "bgcolor": "white",
           "lakecolor": "white",
           "landcolor": "#E5ECF6",
           "showlakes": true,
           "showland": true,
           "subunitcolor": "white"
          },
          "hoverlabel": {
           "align": "left"
          },
          "hovermode": "closest",
          "mapbox": {
           "style": "light"
          },
          "paper_bgcolor": "white",
          "plot_bgcolor": "#E5ECF6",
          "polar": {
           "angularaxis": {
            "gridcolor": "white",
            "linecolor": "white",
            "ticks": ""
           },
           "bgcolor": "#E5ECF6",
           "radialaxis": {
            "gridcolor": "white",
            "linecolor": "white",
            "ticks": ""
           }
          },
          "scene": {
           "xaxis": {
            "backgroundcolor": "#E5ECF6",
            "gridcolor": "white",
            "gridwidth": 2,
            "linecolor": "white",
            "showbackground": true,
            "ticks": "",
            "zerolinecolor": "white"
           },
           "yaxis": {
            "backgroundcolor": "#E5ECF6",
            "gridcolor": "white",
            "gridwidth": 2,
            "linecolor": "white",
            "showbackground": true,
            "ticks": "",
            "zerolinecolor": "white"
           },
           "zaxis": {
            "backgroundcolor": "#E5ECF6",
            "gridcolor": "white",
            "gridwidth": 2,
            "linecolor": "white",
            "showbackground": true,
            "ticks": "",
            "zerolinecolor": "white"
           }
          },
          "shapedefaults": {
           "line": {
            "color": "#2a3f5f"
           }
          },
          "ternary": {
           "aaxis": {
            "gridcolor": "white",
            "linecolor": "white",
            "ticks": ""
           },
           "baxis": {
            "gridcolor": "white",
            "linecolor": "white",
            "ticks": ""
           },
           "bgcolor": "#E5ECF6",
           "caxis": {
            "gridcolor": "white",
            "linecolor": "white",
            "ticks": ""
           }
          },
          "title": {
           "x": 0.05
          },
          "xaxis": {
           "automargin": true,
           "gridcolor": "white",
           "linecolor": "white",
           "ticks": "",
           "title": {
            "standoff": 15
           },
           "zerolinecolor": "white",
           "zerolinewidth": 2
          },
          "yaxis": {
           "automargin": true,
           "gridcolor": "white",
           "linecolor": "white",
           "ticks": "",
           "title": {
            "standoff": 15
           },
           "zerolinecolor": "white",
           "zerolinewidth": 2
          }
         }
        },
        "title": {
         "text": "RandomSearch CV Gradient Boost Regressor"
        },
        "width": 700,
        "xaxis": {
         "anchor": "y",
         "domain": [
          0,
          1
         ],
         "title": {
          "text": "Actual y"
         }
        },
        "yaxis": {
         "anchor": "x",
         "domain": [
          0,
          1
         ],
         "title": {
          "text": "Predicted y"
         }
        }
       }
      }
     },
     "metadata": {},
     "output_type": "display_data"
    }
   ],
   "source": [
    "model = HistGradientBoostingRegressor(**cv.best_params_, random_state=random_state).fit(X_train, y_train)\n",
    "simulate(model, XXyy, 'RandomSearch CV Gradient Boost Regressor')"
   ]
  },
  {
   "attachments": {},
   "cell_type": "markdown",
   "metadata": {},
   "source": [
    "### Tuning XGBoost Regressor\n",
    "\n",
    "Parameters to tune:\n",
    "- n estimators & learning_rate: Takes longer to achieve same error reduction, however smaller steps taken means we can find the optimal minimum\n",
    "- max_leaves (default 0): By restricting max leaves, we can reduce overfitting.\n",
    "- colsample_bytree (default 1): Fraction of columns to be randomly sampled, might reduce overfitting.\n",
    "- subsample (default 1): Fraction of observations to sample for each tree, lower values reduce overfitting."
   ]
  },
  {
   "cell_type": "code",
   "execution_count": 78,
   "metadata": {},
   "outputs": [
    {
     "data": {
      "text/html": [
       "<div>\n",
       "<style scoped>\n",
       "    .dataframe tbody tr th:only-of-type {\n",
       "        vertical-align: middle;\n",
       "    }\n",
       "\n",
       "    .dataframe tbody tr th {\n",
       "        vertical-align: top;\n",
       "    }\n",
       "\n",
       "    .dataframe thead th {\n",
       "        text-align: right;\n",
       "    }\n",
       "</style>\n",
       "<table border=\"1\" class=\"dataframe\">\n",
       "  <thead>\n",
       "    <tr style=\"text-align: right;\">\n",
       "      <th></th>\n",
       "      <th>mean_fit_time</th>\n",
       "      <th>std_fit_time</th>\n",
       "      <th>mean_score_time</th>\n",
       "      <th>std_score_time</th>\n",
       "      <th>param_colsample_bytree</th>\n",
       "      <th>param_learning_rate</th>\n",
       "      <th>param_max_leaves</th>\n",
       "      <th>param_n_estimators</th>\n",
       "      <th>param_subsample</th>\n",
       "      <th>params</th>\n",
       "      <th>...</th>\n",
       "      <th>split2_test_neg_mean_squared_error</th>\n",
       "      <th>mean_test_neg_mean_squared_error</th>\n",
       "      <th>std_test_neg_mean_squared_error</th>\n",
       "      <th>rank_test_neg_mean_squared_error</th>\n",
       "      <th>split0_test_r2</th>\n",
       "      <th>split1_test_r2</th>\n",
       "      <th>split2_test_r2</th>\n",
       "      <th>mean_test_r2</th>\n",
       "      <th>std_test_r2</th>\n",
       "      <th>rank_test_r2</th>\n",
       "    </tr>\n",
       "  </thead>\n",
       "  <tbody>\n",
       "    <tr>\n",
       "      <th>2</th>\n",
       "      <td>0.844280</td>\n",
       "      <td>0.065768</td>\n",
       "      <td>0.023376</td>\n",
       "      <td>0.000561</td>\n",
       "      <td>0.4</td>\n",
       "      <td>0.03</td>\n",
       "      <td>0</td>\n",
       "      <td>1000</td>\n",
       "      <td>1</td>\n",
       "      <td>{'colsample_bytree': 0.4, 'learning_rate': 0.0...</td>\n",
       "      <td>...</td>\n",
       "      <td>-2399.913603</td>\n",
       "      <td>-2622.057019</td>\n",
       "      <td>272.008135</td>\n",
       "      <td>1</td>\n",
       "      <td>0.857945</td>\n",
       "      <td>0.844596</td>\n",
       "      <td>0.852653</td>\n",
       "      <td>0.851731</td>\n",
       "      <td>0.005488</td>\n",
       "      <td>1</td>\n",
       "    </tr>\n",
       "    <tr>\n",
       "      <th>26</th>\n",
       "      <td>0.863971</td>\n",
       "      <td>0.056118</td>\n",
       "      <td>0.025135</td>\n",
       "      <td>0.007661</td>\n",
       "      <td>0.4</td>\n",
       "      <td>0.03</td>\n",
       "      <td>80</td>\n",
       "      <td>1000</td>\n",
       "      <td>1</td>\n",
       "      <td>{'colsample_bytree': 0.4, 'learning_rate': 0.0...</td>\n",
       "      <td>...</td>\n",
       "      <td>-2399.913603</td>\n",
       "      <td>-2622.057019</td>\n",
       "      <td>272.008135</td>\n",
       "      <td>1</td>\n",
       "      <td>0.857945</td>\n",
       "      <td>0.844596</td>\n",
       "      <td>0.852653</td>\n",
       "      <td>0.851731</td>\n",
       "      <td>0.005488</td>\n",
       "      <td>1</td>\n",
       "    </tr>\n",
       "    <tr>\n",
       "      <th>29</th>\n",
       "      <td>1.332292</td>\n",
       "      <td>0.038675</td>\n",
       "      <td>0.022500</td>\n",
       "      <td>0.000345</td>\n",
       "      <td>0.4</td>\n",
       "      <td>0.03</td>\n",
       "      <td>80</td>\n",
       "      <td>1500</td>\n",
       "      <td>1</td>\n",
       "      <td>{'colsample_bytree': 0.4, 'learning_rate': 0.0...</td>\n",
       "      <td>...</td>\n",
       "      <td>-2416.855481</td>\n",
       "      <td>-2629.580395</td>\n",
       "      <td>267.371380</td>\n",
       "      <td>3</td>\n",
       "      <td>0.857710</td>\n",
       "      <td>0.844516</td>\n",
       "      <td>0.851613</td>\n",
       "      <td>0.851280</td>\n",
       "      <td>0.005392</td>\n",
       "      <td>3</td>\n",
       "    </tr>\n",
       "    <tr>\n",
       "      <th>5</th>\n",
       "      <td>1.250266</td>\n",
       "      <td>0.033335</td>\n",
       "      <td>0.029157</td>\n",
       "      <td>0.002690</td>\n",
       "      <td>0.4</td>\n",
       "      <td>0.03</td>\n",
       "      <td>0</td>\n",
       "      <td>1500</td>\n",
       "      <td>1</td>\n",
       "      <td>{'colsample_bytree': 0.4, 'learning_rate': 0.0...</td>\n",
       "      <td>...</td>\n",
       "      <td>-2416.855481</td>\n",
       "      <td>-2629.580395</td>\n",
       "      <td>267.371380</td>\n",
       "      <td>3</td>\n",
       "      <td>0.857710</td>\n",
       "      <td>0.844516</td>\n",
       "      <td>0.851613</td>\n",
       "      <td>0.851280</td>\n",
       "      <td>0.005392</td>\n",
       "      <td>3</td>\n",
       "    </tr>\n",
       "    <tr>\n",
       "      <th>20</th>\n",
       "      <td>0.855276</td>\n",
       "      <td>0.037238</td>\n",
       "      <td>0.018472</td>\n",
       "      <td>0.002728</td>\n",
       "      <td>0.4</td>\n",
       "      <td>0.03</td>\n",
       "      <td>60</td>\n",
       "      <td>1000</td>\n",
       "      <td>1</td>\n",
       "      <td>{'colsample_bytree': 0.4, 'learning_rate': 0.0...</td>\n",
       "      <td>...</td>\n",
       "      <td>-2416.529425</td>\n",
       "      <td>-2630.288977</td>\n",
       "      <td>278.632105</td>\n",
       "      <td>5</td>\n",
       "      <td>0.858560</td>\n",
       "      <td>0.843627</td>\n",
       "      <td>0.851633</td>\n",
       "      <td>0.851273</td>\n",
       "      <td>0.006102</td>\n",
       "      <td>5</td>\n",
       "    </tr>\n",
       "    <tr>\n",
       "      <th>23</th>\n",
       "      <td>1.253954</td>\n",
       "      <td>0.065905</td>\n",
       "      <td>0.031210</td>\n",
       "      <td>0.008829</td>\n",
       "      <td>0.4</td>\n",
       "      <td>0.03</td>\n",
       "      <td>60</td>\n",
       "      <td>1500</td>\n",
       "      <td>1</td>\n",
       "      <td>{'colsample_bytree': 0.4, 'learning_rate': 0.0...</td>\n",
       "      <td>...</td>\n",
       "      <td>-2424.036432</td>\n",
       "      <td>-2636.802323</td>\n",
       "      <td>276.506326</td>\n",
       "      <td>6</td>\n",
       "      <td>0.858066</td>\n",
       "      <td>0.843448</td>\n",
       "      <td>0.851172</td>\n",
       "      <td>0.850895</td>\n",
       "      <td>0.005971</td>\n",
       "      <td>6</td>\n",
       "    </tr>\n",
       "    <tr>\n",
       "      <th>14</th>\n",
       "      <td>0.853362</td>\n",
       "      <td>0.101341</td>\n",
       "      <td>0.033004</td>\n",
       "      <td>0.007879</td>\n",
       "      <td>0.4</td>\n",
       "      <td>0.03</td>\n",
       "      <td>40</td>\n",
       "      <td>1000</td>\n",
       "      <td>1</td>\n",
       "      <td>{'colsample_bytree': 0.4, 'learning_rate': 0.0...</td>\n",
       "      <td>...</td>\n",
       "      <td>-2480.590171</td>\n",
       "      <td>-2637.209692</td>\n",
       "      <td>260.907717</td>\n",
       "      <td>7</td>\n",
       "      <td>0.859963</td>\n",
       "      <td>0.844610</td>\n",
       "      <td>0.847700</td>\n",
       "      <td>0.850757</td>\n",
       "      <td>0.006630</td>\n",
       "      <td>7</td>\n",
       "    </tr>\n",
       "    <tr>\n",
       "      <th>13</th>\n",
       "      <td>0.864018</td>\n",
       "      <td>0.025934</td>\n",
       "      <td>0.028144</td>\n",
       "      <td>0.002124</td>\n",
       "      <td>0.4</td>\n",
       "      <td>0.03</td>\n",
       "      <td>40</td>\n",
       "      <td>1000</td>\n",
       "      <td>0.8</td>\n",
       "      <td>{'colsample_bytree': 0.4, 'learning_rate': 0.0...</td>\n",
       "      <td>...</td>\n",
       "      <td>-2425.171123</td>\n",
       "      <td>-2641.021126</td>\n",
       "      <td>267.460127</td>\n",
       "      <td>8</td>\n",
       "      <td>0.856860</td>\n",
       "      <td>0.843933</td>\n",
       "      <td>0.851102</td>\n",
       "      <td>0.850632</td>\n",
       "      <td>0.005288</td>\n",
       "      <td>8</td>\n",
       "    </tr>\n",
       "    <tr>\n",
       "      <th>17</th>\n",
       "      <td>1.337431</td>\n",
       "      <td>0.021043</td>\n",
       "      <td>0.031093</td>\n",
       "      <td>0.004122</td>\n",
       "      <td>0.4</td>\n",
       "      <td>0.03</td>\n",
       "      <td>40</td>\n",
       "      <td>1500</td>\n",
       "      <td>1</td>\n",
       "      <td>{'colsample_bytree': 0.4, 'learning_rate': 0.0...</td>\n",
       "      <td>...</td>\n",
       "      <td>-2495.538784</td>\n",
       "      <td>-2642.590411</td>\n",
       "      <td>251.769212</td>\n",
       "      <td>9</td>\n",
       "      <td>0.859438</td>\n",
       "      <td>0.845019</td>\n",
       "      <td>0.846782</td>\n",
       "      <td>0.850413</td>\n",
       "      <td>0.006422</td>\n",
       "      <td>9</td>\n",
       "    </tr>\n",
       "    <tr>\n",
       "      <th>16</th>\n",
       "      <td>1.418115</td>\n",
       "      <td>0.008464</td>\n",
       "      <td>0.033998</td>\n",
       "      <td>0.001947</td>\n",
       "      <td>0.4</td>\n",
       "      <td>0.03</td>\n",
       "      <td>40</td>\n",
       "      <td>1500</td>\n",
       "      <td>0.8</td>\n",
       "      <td>{'colsample_bytree': 0.4, 'learning_rate': 0.0...</td>\n",
       "      <td>...</td>\n",
       "      <td>-2442.228181</td>\n",
       "      <td>-2646.301971</td>\n",
       "      <td>263.250184</td>\n",
       "      <td>10</td>\n",
       "      <td>0.856933</td>\n",
       "      <td>0.843930</td>\n",
       "      <td>0.850055</td>\n",
       "      <td>0.850306</td>\n",
       "      <td>0.005312</td>\n",
       "      <td>10</td>\n",
       "    </tr>\n",
       "  </tbody>\n",
       "</table>\n",
       "<p>10 rows × 22 columns</p>\n",
       "</div>"
      ],
      "text/plain": [
       "    mean_fit_time  std_fit_time  mean_score_time  std_score_time  \\\n",
       "2        0.844280      0.065768         0.023376        0.000561   \n",
       "26       0.863971      0.056118         0.025135        0.007661   \n",
       "29       1.332292      0.038675         0.022500        0.000345   \n",
       "5        1.250266      0.033335         0.029157        0.002690   \n",
       "20       0.855276      0.037238         0.018472        0.002728   \n",
       "23       1.253954      0.065905         0.031210        0.008829   \n",
       "14       0.853362      0.101341         0.033004        0.007879   \n",
       "13       0.864018      0.025934         0.028144        0.002124   \n",
       "17       1.337431      0.021043         0.031093        0.004122   \n",
       "16       1.418115      0.008464         0.033998        0.001947   \n",
       "\n",
       "   param_colsample_bytree param_learning_rate param_max_leaves  \\\n",
       "2                     0.4                0.03                0   \n",
       "26                    0.4                0.03               80   \n",
       "29                    0.4                0.03               80   \n",
       "5                     0.4                0.03                0   \n",
       "20                    0.4                0.03               60   \n",
       "23                    0.4                0.03               60   \n",
       "14                    0.4                0.03               40   \n",
       "13                    0.4                0.03               40   \n",
       "17                    0.4                0.03               40   \n",
       "16                    0.4                0.03               40   \n",
       "\n",
       "   param_n_estimators param_subsample  \\\n",
       "2                1000               1   \n",
       "26               1000               1   \n",
       "29               1500               1   \n",
       "5                1500               1   \n",
       "20               1000               1   \n",
       "23               1500               1   \n",
       "14               1000               1   \n",
       "13               1000             0.8   \n",
       "17               1500               1   \n",
       "16               1500             0.8   \n",
       "\n",
       "                                               params  ...  \\\n",
       "2   {'colsample_bytree': 0.4, 'learning_rate': 0.0...  ...   \n",
       "26  {'colsample_bytree': 0.4, 'learning_rate': 0.0...  ...   \n",
       "29  {'colsample_bytree': 0.4, 'learning_rate': 0.0...  ...   \n",
       "5   {'colsample_bytree': 0.4, 'learning_rate': 0.0...  ...   \n",
       "20  {'colsample_bytree': 0.4, 'learning_rate': 0.0...  ...   \n",
       "23  {'colsample_bytree': 0.4, 'learning_rate': 0.0...  ...   \n",
       "14  {'colsample_bytree': 0.4, 'learning_rate': 0.0...  ...   \n",
       "13  {'colsample_bytree': 0.4, 'learning_rate': 0.0...  ...   \n",
       "17  {'colsample_bytree': 0.4, 'learning_rate': 0.0...  ...   \n",
       "16  {'colsample_bytree': 0.4, 'learning_rate': 0.0...  ...   \n",
       "\n",
       "    split2_test_neg_mean_squared_error  mean_test_neg_mean_squared_error  \\\n",
       "2                         -2399.913603                      -2622.057019   \n",
       "26                        -2399.913603                      -2622.057019   \n",
       "29                        -2416.855481                      -2629.580395   \n",
       "5                         -2416.855481                      -2629.580395   \n",
       "20                        -2416.529425                      -2630.288977   \n",
       "23                        -2424.036432                      -2636.802323   \n",
       "14                        -2480.590171                      -2637.209692   \n",
       "13                        -2425.171123                      -2641.021126   \n",
       "17                        -2495.538784                      -2642.590411   \n",
       "16                        -2442.228181                      -2646.301971   \n",
       "\n",
       "    std_test_neg_mean_squared_error  rank_test_neg_mean_squared_error  \\\n",
       "2                        272.008135                                 1   \n",
       "26                       272.008135                                 1   \n",
       "29                       267.371380                                 3   \n",
       "5                        267.371380                                 3   \n",
       "20                       278.632105                                 5   \n",
       "23                       276.506326                                 6   \n",
       "14                       260.907717                                 7   \n",
       "13                       267.460127                                 8   \n",
       "17                       251.769212                                 9   \n",
       "16                       263.250184                                10   \n",
       "\n",
       "    split0_test_r2  split1_test_r2  split2_test_r2  mean_test_r2  std_test_r2  \\\n",
       "2         0.857945        0.844596        0.852653      0.851731     0.005488   \n",
       "26        0.857945        0.844596        0.852653      0.851731     0.005488   \n",
       "29        0.857710        0.844516        0.851613      0.851280     0.005392   \n",
       "5         0.857710        0.844516        0.851613      0.851280     0.005392   \n",
       "20        0.858560        0.843627        0.851633      0.851273     0.006102   \n",
       "23        0.858066        0.843448        0.851172      0.850895     0.005971   \n",
       "14        0.859963        0.844610        0.847700      0.850757     0.006630   \n",
       "13        0.856860        0.843933        0.851102      0.850632     0.005288   \n",
       "17        0.859438        0.845019        0.846782      0.850413     0.006422   \n",
       "16        0.856933        0.843930        0.850055      0.850306     0.005312   \n",
       "\n",
       "    rank_test_r2  \n",
       "2              1  \n",
       "26             1  \n",
       "29             3  \n",
       "5              3  \n",
       "20             5  \n",
       "23             6  \n",
       "14             7  \n",
       "13             8  \n",
       "17             9  \n",
       "16            10  \n",
       "\n",
       "[10 rows x 22 columns]"
      ]
     },
     "metadata": {},
     "output_type": "display_data"
    },
    {
     "name": "stdout",
     "output_type": "stream",
     "text": [
      "Best parameters: {'colsample_bytree': 0.4, 'learning_rate': 0.03, 'max_leaves': 0, 'n_estimators': 1000, 'subsample': 1}\n"
     ]
    }
   ],
   "source": [
    "model = xgb.XGBRegressor(tree_method='hist', objective='reg:squarederror', seed=random_state)\n",
    "\n",
    "params_grid = {\n",
    "    'n_estimators': [1000, 1500],\n",
    "    'learning_rate': [0.03, 0.05],\n",
    "    'max_leaves': [0, 20, 40, 60, 80],\n",
    "    'colsample_bytree': [0.4, 0.6, 0.8],\n",
    "    'subsample': [0.6, 0.8, 1],\n",
    "}\n",
    "\n",
    "cv = GridSearchCV(estimator=model, param_grid=params_grid, cv=3, n_jobs=-1, scoring=['neg_mean_squared_error', 'r2'], refit='r2').fit(X_train, y_train)\n",
    "\n",
    "v = pd.DataFrame(cv.cv_results_)\n",
    "v.sort_values(by='rank_test_r2', inplace=True)\n",
    "display(v.head(10))\n",
    "\n",
    "print(f\"Best parameters: {cv.best_params_}\")"
   ]
  },
  {
   "cell_type": "code",
   "execution_count": 79,
   "metadata": {},
   "outputs": [
    {
     "name": "stdout",
     "output_type": "stream",
     "text": [
      "------------------------------\n",
      "Train Score:  0.993\n",
      "Train RMSE:  11.468\n",
      "------------------------------\n",
      "Test Score:  0.861\n",
      "Test RMSE:  47.857\n"
     ]
    },
    {
     "data": {
      "application/vnd.plotly.v1+json": {
       "config": {
        "plotlyServerURL": "https://plot.ly"
       },
       "data": [
        {
         "hovertemplate": "Actual y=%{x}<br>Predicted y=%{y}<extra></extra>",
         "legendgroup": "",
         "marker": {
          "color": "#636efa",
          "symbol": "circle"
         },
         "mode": "markers",
         "name": "",
         "orientation": "v",
         "showlegend": false,
         "type": "scatter",
         "x": [
          100,
          98,
          52,
          160,
          89,
          199,
          420,
          187,
          49,
          79,
          399,
          152,
          400,
          279,
          529,
          100,
          450,
          33,
          49,
          194,
          69,
          100,
          22,
          40,
          386,
          175,
          261,
          59,
          300,
          80,
          63,
          235,
          330,
          79,
          43,
          58,
          50,
          70,
          415,
          204,
          70,
          378,
          44,
          175,
          387,
          260,
          39,
          59,
          50,
          150,
          38,
          448,
          193,
          59,
          109,
          101,
          49,
          130,
          145,
          168,
          50,
          184,
          59,
          133,
          163,
          549,
          60,
          220,
          240,
          70,
          495,
          175,
          179,
          56,
          250,
          399,
          266,
          235,
          114,
          78,
          185,
          470,
          108,
          250,
          81,
          66,
          474,
          130,
          49,
          130,
          49,
          246,
          171,
          230,
          173,
          75,
          180,
          31,
          395,
          400,
          221,
          328,
          45,
          60,
          310,
          65,
          47,
          260,
          85,
          38,
          140,
          399,
          404,
          279,
          65,
          78,
          156,
          55,
          200,
          51,
          328,
          160,
          410,
          39,
          178,
          90,
          300,
          40,
          366,
          140,
          218,
          134,
          373,
          135,
          69,
          188,
          224,
          500,
          250,
          430,
          181,
          60,
          629,
          57,
          95,
          210,
          314,
          195,
          345,
          271,
          90,
          409,
          409,
          349,
          60,
          69,
          140,
          120,
          190,
          103,
          400,
          115,
          134,
          78,
          401,
          80,
          500,
          227,
          39,
          30,
          125,
          228,
          179,
          152,
          165,
          80,
          98,
          315,
          260,
          409,
          399,
          31,
          20,
          70,
          249,
          289,
          470,
          50,
          30,
          250,
          210,
          130,
          331,
          189,
          42,
          148,
          125,
          245,
          85,
          318,
          39,
          229,
          386,
          371,
          24,
          50,
          24,
          456,
          337,
          168,
          65,
          210,
          57,
          110,
          78,
          69,
          50,
          232,
          232,
          189,
          59,
          80,
          27,
          79,
          100,
          80,
          240,
          202,
          482,
          85,
          380,
          206,
          200,
          22,
          113,
          200,
          49,
          59,
          96,
          187,
          394,
          243,
          50,
          99,
          210,
          110,
          404,
          49,
          126,
          49,
          269,
          260,
          181,
          69,
          144,
          120,
          140,
          305,
          180,
          229,
          59,
          105,
          50,
          195,
          140,
          142,
          59,
          223,
          69,
          80,
          270,
          78,
          56,
          151,
          200,
          550,
          276,
          225,
          48,
          137,
          179,
          216,
          222,
          79,
          86,
          430,
          187,
          175,
          208,
          121,
          100,
          59,
          399,
          102,
          46,
          318,
          50,
          196,
          50,
          190,
          173,
          185,
          158,
          320,
          109,
          310,
          49,
          213,
          205,
          116,
          72,
          60,
          47,
          31,
          349,
          463,
          160,
          69,
          301,
          109,
          18,
          226,
          198,
          104,
          40,
          101,
          357,
          400,
          68,
          68,
          575,
          134,
          399,
          173,
          31,
          610,
          284,
          53,
          57,
          55,
          22,
          115,
          517,
          58,
          600,
          85,
          191,
          59,
          55,
          48,
          103,
          219,
          56,
          119,
          127,
          69,
          413,
          137,
          85,
          93,
          117,
          126,
          281,
          38,
          110,
          123,
          508,
          202,
          29,
          290,
          162,
          36,
          225,
          45,
          122,
          414,
          242,
          40,
          70,
          69,
          226,
          38,
          160,
          140,
          98,
          39,
          190,
          59,
          50,
          173,
          204,
          39,
          144,
          89,
          70,
          151,
          184,
          55,
          615,
          188,
          113,
          200,
          75,
          145,
          90,
          52,
          88,
          46,
          85,
          250,
          49,
          42,
          40,
          99,
          246,
          375,
          155,
          69,
          65,
          310,
          130,
          90,
          95,
          162,
          260,
          122,
          324,
          300,
          34,
          190,
          80,
          35,
          144,
          328,
          59,
          59,
          48,
          120,
          209,
          100,
          500,
          40,
          99,
          99,
          156,
          67,
          97,
          150,
          180,
          105,
          188,
          55,
          85,
          110,
          78,
          210,
          155,
          129,
          257,
          145,
          135,
          59,
          140,
          130,
          60,
          211,
          188,
          80,
          219,
          265,
          49,
          56,
          129,
          64,
          93,
          200,
          243,
          168,
          327,
          350,
          39,
          335,
          45,
          193,
          284,
          40,
          404,
          68,
          65,
          39,
          313,
          80,
          53,
          49,
          58,
          126,
          69,
          80,
          110,
          50,
          132,
          80,
          185,
          387,
          27,
          162,
          88,
          153,
          239,
          243,
          99,
          89,
          53,
          131,
          111,
          428,
          150,
          179,
          178,
          295,
          335,
          59,
          33,
          59,
          440,
          142,
          261,
          343,
          188,
          59,
          49,
          109,
          90,
          33,
          80,
          61,
          490,
          69,
          60,
          181,
          66,
          49,
          148,
          429,
          210,
          297,
          500,
          169,
          60,
          90,
          320,
          222,
          136,
          174,
          243
         ],
         "xaxis": "x",
         "y": [
          68.42020416259766,
          112.67876434326172,
          112.95707702636719,
          151.10581970214844,
          189.7595672607422,
          240.8535919189453,
          530.0890502929688,
          182.53504943847656,
          55.385009765625,
          103.81059265136719,
          378.73565673828125,
          151.56878662109375,
          379.9474792480469,
          252.88818359375,
          465.63604736328125,
          122.11979675292969,
          506.0795593261719,
          22.737274169921875,
          56.41640090942383,
          156.629150390625,
          69.65319061279297,
          124.12088775634766,
          44.33530044555664,
          88.88170623779297,
          341.58465576171875,
          181.82188415527344,
          231.24986267089844,
          63.16176223754883,
          86.44708251953125,
          94.09434509277344,
          56.38623809814453,
          129.4341583251953,
          131.3887176513672,
          75.22801971435547,
          106.68892669677734,
          72.43850708007812,
          51.802059173583984,
          106.4398193359375,
          330.2373962402344,
          234.68431091308594,
          72.86172485351562,
          388.3974609375,
          70.9000473022461,
          189.02325439453125,
          395.0931701660156,
          175.5083465576172,
          43.071006774902344,
          61.17216110229492,
          79.5145263671875,
          167.80897521972656,
          91.0383529663086,
          357.63079833984375,
          211.26519775390625,
          73.09939575195312,
          132.83804321289062,
          136.28700256347656,
          73.92559051513672,
          115.45503234863281,
          137.946533203125,
          216.64682006835938,
          58.930477142333984,
          163.6675262451172,
          81.03294372558594,
          105.38163757324219,
          154.50318908691406,
          463.251708984375,
          84.18206024169922,
          159.45591735839844,
          219.88290405273438,
          117.79670715332031,
          363.9092712402344,
          175.37176513671875,
          207.26077270507812,
          54.506900787353516,
          263.0449523925781,
          360.36871337890625,
          201.03579711914062,
          220.3030242919922,
          113.21237182617188,
          121.82149505615234,
          176.86276245117188,
          500.436767578125,
          119.21981811523438,
          264.15777587890625,
          50.850013732910156,
          72.3612289428711,
          349.89373779296875,
          136.48141479492188,
          56.817405700683594,
          118.57280731201172,
          51.2138671875,
          240.28848266601562,
          167.287841796875,
          236.94964599609375,
          186.09080505371094,
          115.54579162597656,
          125.6632308959961,
          35.61789321899414,
          426.51263427734375,
          417.5450134277344,
          208.66903686523438,
          375.1237487792969,
          57.09846115112305,
          86.12800598144531,
          337.39111328125,
          56.103580474853516,
          101.836181640625,
          256.472900390625,
          110.03290557861328,
          60.81874084472656,
          122.70169067382812,
          399.2220458984375,
          192.35812377929688,
          245.035400390625,
          117.80828857421875,
          72.43450927734375,
          151.5353240966797,
          144.44668579101562,
          111.75849151611328,
          48.494590759277344,
          397.75421142578125,
          173.6599884033203,
          487.1642761230469,
          36.352378845214844,
          175.2526397705078,
          75.05069732666016,
          373.1286315917969,
          108.624755859375,
          381.6143798828125,
          102.82202911376953,
          227.09153747558594,
          137.28927612304688,
          364.4225769042969,
          245.26934814453125,
          57.81676483154297,
          180.04673767089844,
          220.9154052734375,
          252.92393493652344,
          193.5017547607422,
          426.3739318847656,
          187.4965362548828,
          83.4171142578125,
          466.0943603515625,
          51.87361526489258,
          83.13227081298828,
          189.91281127929688,
          114.56676483154297,
          289.287109375,
          390.6391906738281,
          240.5299835205078,
          116.40322875976562,
          428.47857666015625,
          390.3586730957031,
          354.6456298828125,
          109.00946044921875,
          65.6800537109375,
          96.27752685546875,
          85.73336029052734,
          209.58181762695312,
          130.11343383789062,
          350.57366943359375,
          143.7510986328125,
          151.38006591796875,
          88.1698989868164,
          404.0691833496094,
          114.15897369384766,
          452.46160888671875,
          215.0418701171875,
          41.247947692871094,
          45.35894012451172,
          86.49665069580078,
          219.6127166748047,
          174.8257293701172,
          188.46791076660156,
          202.0620574951172,
          111.87321472167969,
          114.67060089111328,
          301.2149353027344,
          209.06085205078125,
          459.7138366699219,
          321.1573486328125,
          47.819618225097656,
          79.90042877197266,
          60.612945556640625,
          237.74549865722656,
          237.26266479492188,
          459.4002685546875,
          115.74851989746094,
          48.1665153503418,
          238.16236877441406,
          201.011962890625,
          131.9303436279297,
          376.500732421875,
          93.70838165283203,
          105.81221008300781,
          210.32669067382812,
          146.2783203125,
          195.32688903808594,
          97.12004089355469,
          384.5457458496094,
          62.63846206665039,
          132.03512573242188,
          337.9325866699219,
          380.62060546875,
          31.282339096069336,
          82.54998016357422,
          36.196044921875,
          353.8294677734375,
          318.3047180175781,
          52.16292190551758,
          135.62368774414062,
          227.98414611816406,
          72.67851257324219,
          112.7753677368164,
          82.32093048095703,
          58.27961730957031,
          126.84862518310547,
          239.0825653076172,
          191.1662139892578,
          217.14840698242188,
          47.208309173583984,
          66.84864807128906,
          37.31037139892578,
          77.07537841796875,
          105.78784942626953,
          94.22203826904297,
          214.48223876953125,
          155.7025604248047,
          349.98516845703125,
          157.6260223388672,
          495.1822814941406,
          198.33668518066406,
          186.179931640625,
          41.871829986572266,
          163.77818298339844,
          136.11383056640625,
          55.129573822021484,
          47.76734161376953,
          148.87081909179688,
          194.0147705078125,
          408.5783386230469,
          267.09161376953125,
          84.9299087524414,
          102.99757385253906,
          258.37164306640625,
          150.6857147216797,
          328.47198486328125,
          57.596641540527344,
          110.76114654541016,
          51.19453430175781,
          188.62107849121094,
          232.5716094970703,
          165.2419891357422,
          67.56968688964844,
          173.03485107421875,
          165.0655517578125,
          156.5846405029297,
          295.10821533203125,
          229.5996856689453,
          246.47906494140625,
          66.03079223632812,
          104.04185485839844,
          49.261993408203125,
          224.47885131835938,
          147.67373657226562,
          182.53912353515625,
          57.19944381713867,
          233.9514923095703,
          67.17462158203125,
          117.08380126953125,
          236.9631805419922,
          106.69200897216797,
          54.069366455078125,
          152.7711639404297,
          162.02554321289062,
          488.6908264160156,
          189.3633575439453,
          71.79360961914062,
          60.82866287231445,
          135.449951171875,
          206.36424255371094,
          230.12014770507812,
          238.26950073242188,
          119.28487396240234,
          94.32145690917969,
          434.4118957519531,
          168.96463012695312,
          197.92010498046875,
          254.4960174560547,
          132.52085876464844,
          103.23224639892578,
          47.51371383666992,
          401.3373107910156,
          157.19058227539062,
          86.68843078613281,
          382.2014465332031,
          68.46449279785156,
          193.09642028808594,
          122.58031463623047,
          229.47943115234375,
          146.29319763183594,
          194.16038513183594,
          165.11460876464844,
          360.89691162109375,
          103.25390625,
          355.8963317871094,
          49.313228607177734,
          208.23822021484375,
          217.86643981933594,
          169.1207733154297,
          105.68032836914062,
          87.66590881347656,
          102.989013671875,
          36.02997970581055,
          405.00677490234375,
          401.1462707519531,
          121.40264129638672,
          61.17216110229492,
          370.1688537597656,
          115.36279296875,
          41.67152404785156,
          209.2919464111328,
          244.055908203125,
          110.14673614501953,
          107.39186096191406,
          144.46807861328125,
          383.25537109375,
          389.26788330078125,
          82.8504638671875,
          92.16485595703125,
          382.2199401855469,
          149.69931030273438,
          367.2772216796875,
          137.9486541748047,
          54.60219192504883,
          475.40106201171875,
          326.0224609375,
          62.8643798828125,
          70.68727111816406,
          46.35909652709961,
          30.398588180541992,
          182.64125061035156,
          525.260498046875,
          54.665931701660156,
          365.4623718261719,
          76.77985382080078,
          110.65228271484375,
          58.933868408203125,
          91.38872528076172,
          62.66675567626953,
          110.07026672363281,
          215.6894073486328,
          137.57923889160156,
          157.68385314941406,
          157.8977508544922,
          60.677852630615234,
          413.876220703125,
          152.67825317382812,
          124.53193664550781,
          78.60037231445312,
          133.5309295654297,
          133.4884796142578,
          269.35723876953125,
          78.33893585205078,
          135.80972290039062,
          108.0639419555664,
          382.35797119140625,
          164.17141723632812,
          39.047489166259766,
          353.85760498046875,
          134.79159545898438,
          21.536088943481445,
          246.9408721923828,
          91.7309799194336,
          166.0509033203125,
          377.73944091796875,
          229.84205627441406,
          64.75047302246094,
          117.21302795410156,
          60.47285461425781,
          186.84793090820312,
          72.84760284423828,
          165.6368408203125,
          98.12765502929688,
          103.51439666748047,
          35.6080322265625,
          182.16578674316406,
          59.04800033569336,
          55.77509307861328,
          209.96096801757812,
          208.5446014404297,
          39.87348937988281,
          153.5395965576172,
          135.67330932617188,
          139.45486450195312,
          180.07028198242188,
          165.50314331054688,
          49.38921356201172,
          492.13311767578125,
          179.6341552734375,
          119.25222778320312,
          224.41888427734375,
          43.52425765991211,
          86.20719909667969,
          83.24102783203125,
          107.86106872558594,
          91.27011108398438,
          59.369449615478516,
          132.47256469726562,
          227.94508361816406,
          55.88549041748047,
          61.20789337158203,
          43.53336715698242,
          103.63760375976562,
          230.95809936523438,
          420.9120788574219,
          172.1898193359375,
          78.1025390625,
          75.09986114501953,
          450.0149230957031,
          121.18179321289062,
          118.38211059570312,
          87.58223724365234,
          181.27427673339844,
          160.90823364257812,
          148.207275390625,
          361.85223388671875,
          436.4202880859375,
          53.52389144897461,
          174.88937377929688,
          94.34685516357422,
          123.05392456054688,
          139.47869873046875,
          346.4583740234375,
          54.820350646972656,
          92.76956176757812,
          51.59841537475586,
          154.08885192871094,
          223.37486267089844,
          183.8867645263672,
          466.3346252441406,
          33.38112258911133,
          67.21583557128906,
          105.90087890625,
          116.0800552368164,
          86.9505844116211,
          67.66439819335938,
          99.77156066894531,
          197.9071502685547,
          91.71188354492188,
          165.49362182617188,
          65.47161102294922,
          99.3473129272461,
          130.5508575439453,
          92.32600402832031,
          239.3937225341797,
          140.37615966796875,
          121.60942077636719,
          209.2081756591797,
          140.6262664794922,
          100.48467254638672,
          47.08623504638672,
          152.6849365234375,
          83.2494888305664,
          75.47067260742188,
          236.54299926757812,
          197.65777587890625,
          122.05933380126953,
          204.5298309326172,
          291.1395263671875,
          58.56238555908203,
          59.89238739013672,
          121.40443420410156,
          83.69811248779297,
          96.60966491699219,
          185.13934326171875,
          253.3927001953125,
          162.5413055419922,
          389.02099609375,
          334.1253967285156,
          36.11278533935547,
          374.4202575683594,
          61.71147537231445,
          184.40084838867188,
          355.8407287597656,
          82.34439849853516,
          402.816650390625,
          82.83592987060547,
          78.62638092041016,
          38.4318733215332,
          368.7921447753906,
          132.2779998779297,
          64.43498229980469,
          54.39692687988281,
          83.84371185302734,
          118.03822326660156,
          48.11238098144531,
          102.56275177001953,
          128.24929809570312,
          53.12797164916992,
          148.18736267089844,
          116.67120361328125,
          153.7806396484375,
          420.7301940917969,
          39.521026611328125,
          139.5647430419922,
          124.71401977539062,
          138.75709533691406,
          236.06617736816406,
          198.98809814453125,
          192.43043518066406,
          76.67343139648438,
          99.05064392089844,
          146.71240234375,
          243.38287353515625,
          438.0042724609375,
          155.24325561523438,
          202.22021484375,
          181.9459686279297,
          356.55828857421875,
          343.3246154785156,
          60.22264862060547,
          58.929168701171875,
          102.29014587402344,
          446.3657531738281,
          132.1800537109375,
          231.24986267089844,
          330.51043701171875,
          161.1502685546875,
          59.023956298828125,
          52.84523010253906,
          91.53992462158203,
          89.95379638671875,
          72.91659545898438,
          80.82611083984375,
          108.62263488769531,
          281.9060974121094,
          69.27528381347656,
          81.37940216064453,
          207.28245544433594,
          80.30036926269531,
          50.342628479003906,
          144.3670196533203,
          417.2852783203125,
          146.46658325195312,
          371.28265380859375,
          337.8792724609375,
          164.02163696289062,
          93.19507598876953,
          157.0595703125,
          360.5230712890625,
          190.1693115234375,
          111.86456298828125,
          163.04693603515625,
          252.753662109375
         ],
         "yaxis": "y"
        },
        {
         "line": {
          "color": "gray"
         },
         "mode": "lines",
         "showlegend": false,
         "type": "scatter",
         "x": [
          0,
          600
         ],
         "y": [
          0,
          600
         ]
        },
        {
         "line": {
          "dash": "dot"
         },
         "mode": "lines",
         "showlegend": false,
         "type": "scatter",
         "x": [
          0,
          600
         ],
         "y": [
          132.3645418384225,
          732.3645418384225
         ]
        },
        {
         "line": {
          "dash": "dot"
         },
         "mode": "lines",
         "showlegend": false,
         "type": "scatter",
         "x": [
          0,
          600
         ],
         "y": [
          -132.3645418384225,
          467.6354581615775
         ]
        }
       ],
       "layout": {
        "height": 500,
        "legend": {
         "tracegroupgap": 0
        },
        "template": {
         "data": {
          "bar": [
           {
            "error_x": {
             "color": "#2a3f5f"
            },
            "error_y": {
             "color": "#2a3f5f"
            },
            "marker": {
             "line": {
              "color": "#E5ECF6",
              "width": 0.5
             },
             "pattern": {
              "fillmode": "overlay",
              "size": 10,
              "solidity": 0.2
             }
            },
            "type": "bar"
           }
          ],
          "barpolar": [
           {
            "marker": {
             "line": {
              "color": "#E5ECF6",
              "width": 0.5
             },
             "pattern": {
              "fillmode": "overlay",
              "size": 10,
              "solidity": 0.2
             }
            },
            "type": "barpolar"
           }
          ],
          "carpet": [
           {
            "aaxis": {
             "endlinecolor": "#2a3f5f",
             "gridcolor": "white",
             "linecolor": "white",
             "minorgridcolor": "white",
             "startlinecolor": "#2a3f5f"
            },
            "baxis": {
             "endlinecolor": "#2a3f5f",
             "gridcolor": "white",
             "linecolor": "white",
             "minorgridcolor": "white",
             "startlinecolor": "#2a3f5f"
            },
            "type": "carpet"
           }
          ],
          "choropleth": [
           {
            "colorbar": {
             "outlinewidth": 0,
             "ticks": ""
            },
            "type": "choropleth"
           }
          ],
          "contour": [
           {
            "colorbar": {
             "outlinewidth": 0,
             "ticks": ""
            },
            "colorscale": [
             [
              0,
              "#0d0887"
             ],
             [
              0.1111111111111111,
              "#46039f"
             ],
             [
              0.2222222222222222,
              "#7201a8"
             ],
             [
              0.3333333333333333,
              "#9c179e"
             ],
             [
              0.4444444444444444,
              "#bd3786"
             ],
             [
              0.5555555555555556,
              "#d8576b"
             ],
             [
              0.6666666666666666,
              "#ed7953"
             ],
             [
              0.7777777777777778,
              "#fb9f3a"
             ],
             [
              0.8888888888888888,
              "#fdca26"
             ],
             [
              1,
              "#f0f921"
             ]
            ],
            "type": "contour"
           }
          ],
          "contourcarpet": [
           {
            "colorbar": {
             "outlinewidth": 0,
             "ticks": ""
            },
            "type": "contourcarpet"
           }
          ],
          "heatmap": [
           {
            "colorbar": {
             "outlinewidth": 0,
             "ticks": ""
            },
            "colorscale": [
             [
              0,
              "#0d0887"
             ],
             [
              0.1111111111111111,
              "#46039f"
             ],
             [
              0.2222222222222222,
              "#7201a8"
             ],
             [
              0.3333333333333333,
              "#9c179e"
             ],
             [
              0.4444444444444444,
              "#bd3786"
             ],
             [
              0.5555555555555556,
              "#d8576b"
             ],
             [
              0.6666666666666666,
              "#ed7953"
             ],
             [
              0.7777777777777778,
              "#fb9f3a"
             ],
             [
              0.8888888888888888,
              "#fdca26"
             ],
             [
              1,
              "#f0f921"
             ]
            ],
            "type": "heatmap"
           }
          ],
          "heatmapgl": [
           {
            "colorbar": {
             "outlinewidth": 0,
             "ticks": ""
            },
            "colorscale": [
             [
              0,
              "#0d0887"
             ],
             [
              0.1111111111111111,
              "#46039f"
             ],
             [
              0.2222222222222222,
              "#7201a8"
             ],
             [
              0.3333333333333333,
              "#9c179e"
             ],
             [
              0.4444444444444444,
              "#bd3786"
             ],
             [
              0.5555555555555556,
              "#d8576b"
             ],
             [
              0.6666666666666666,
              "#ed7953"
             ],
             [
              0.7777777777777778,
              "#fb9f3a"
             ],
             [
              0.8888888888888888,
              "#fdca26"
             ],
             [
              1,
              "#f0f921"
             ]
            ],
            "type": "heatmapgl"
           }
          ],
          "histogram": [
           {
            "marker": {
             "pattern": {
              "fillmode": "overlay",
              "size": 10,
              "solidity": 0.2
             }
            },
            "type": "histogram"
           }
          ],
          "histogram2d": [
           {
            "colorbar": {
             "outlinewidth": 0,
             "ticks": ""
            },
            "colorscale": [
             [
              0,
              "#0d0887"
             ],
             [
              0.1111111111111111,
              "#46039f"
             ],
             [
              0.2222222222222222,
              "#7201a8"
             ],
             [
              0.3333333333333333,
              "#9c179e"
             ],
             [
              0.4444444444444444,
              "#bd3786"
             ],
             [
              0.5555555555555556,
              "#d8576b"
             ],
             [
              0.6666666666666666,
              "#ed7953"
             ],
             [
              0.7777777777777778,
              "#fb9f3a"
             ],
             [
              0.8888888888888888,
              "#fdca26"
             ],
             [
              1,
              "#f0f921"
             ]
            ],
            "type": "histogram2d"
           }
          ],
          "histogram2dcontour": [
           {
            "colorbar": {
             "outlinewidth": 0,
             "ticks": ""
            },
            "colorscale": [
             [
              0,
              "#0d0887"
             ],
             [
              0.1111111111111111,
              "#46039f"
             ],
             [
              0.2222222222222222,
              "#7201a8"
             ],
             [
              0.3333333333333333,
              "#9c179e"
             ],
             [
              0.4444444444444444,
              "#bd3786"
             ],
             [
              0.5555555555555556,
              "#d8576b"
             ],
             [
              0.6666666666666666,
              "#ed7953"
             ],
             [
              0.7777777777777778,
              "#fb9f3a"
             ],
             [
              0.8888888888888888,
              "#fdca26"
             ],
             [
              1,
              "#f0f921"
             ]
            ],
            "type": "histogram2dcontour"
           }
          ],
          "mesh3d": [
           {
            "colorbar": {
             "outlinewidth": 0,
             "ticks": ""
            },
            "type": "mesh3d"
           }
          ],
          "parcoords": [
           {
            "line": {
             "colorbar": {
              "outlinewidth": 0,
              "ticks": ""
             }
            },
            "type": "parcoords"
           }
          ],
          "pie": [
           {
            "automargin": true,
            "type": "pie"
           }
          ],
          "scatter": [
           {
            "fillpattern": {
             "fillmode": "overlay",
             "size": 10,
             "solidity": 0.2
            },
            "type": "scatter"
           }
          ],
          "scatter3d": [
           {
            "line": {
             "colorbar": {
              "outlinewidth": 0,
              "ticks": ""
             }
            },
            "marker": {
             "colorbar": {
              "outlinewidth": 0,
              "ticks": ""
             }
            },
            "type": "scatter3d"
           }
          ],
          "scattercarpet": [
           {
            "marker": {
             "colorbar": {
              "outlinewidth": 0,
              "ticks": ""
             }
            },
            "type": "scattercarpet"
           }
          ],
          "scattergeo": [
           {
            "marker": {
             "colorbar": {
              "outlinewidth": 0,
              "ticks": ""
             }
            },
            "type": "scattergeo"
           }
          ],
          "scattergl": [
           {
            "marker": {
             "colorbar": {
              "outlinewidth": 0,
              "ticks": ""
             }
            },
            "type": "scattergl"
           }
          ],
          "scattermapbox": [
           {
            "marker": {
             "colorbar": {
              "outlinewidth": 0,
              "ticks": ""
             }
            },
            "type": "scattermapbox"
           }
          ],
          "scatterpolar": [
           {
            "marker": {
             "colorbar": {
              "outlinewidth": 0,
              "ticks": ""
             }
            },
            "type": "scatterpolar"
           }
          ],
          "scatterpolargl": [
           {
            "marker": {
             "colorbar": {
              "outlinewidth": 0,
              "ticks": ""
             }
            },
            "type": "scatterpolargl"
           }
          ],
          "scatterternary": [
           {
            "marker": {
             "colorbar": {
              "outlinewidth": 0,
              "ticks": ""
             }
            },
            "type": "scatterternary"
           }
          ],
          "surface": [
           {
            "colorbar": {
             "outlinewidth": 0,
             "ticks": ""
            },
            "colorscale": [
             [
              0,
              "#0d0887"
             ],
             [
              0.1111111111111111,
              "#46039f"
             ],
             [
              0.2222222222222222,
              "#7201a8"
             ],
             [
              0.3333333333333333,
              "#9c179e"
             ],
             [
              0.4444444444444444,
              "#bd3786"
             ],
             [
              0.5555555555555556,
              "#d8576b"
             ],
             [
              0.6666666666666666,
              "#ed7953"
             ],
             [
              0.7777777777777778,
              "#fb9f3a"
             ],
             [
              0.8888888888888888,
              "#fdca26"
             ],
             [
              1,
              "#f0f921"
             ]
            ],
            "type": "surface"
           }
          ],
          "table": [
           {
            "cells": {
             "fill": {
              "color": "#EBF0F8"
             },
             "line": {
              "color": "white"
             }
            },
            "header": {
             "fill": {
              "color": "#C8D4E3"
             },
             "line": {
              "color": "white"
             }
            },
            "type": "table"
           }
          ]
         },
         "layout": {
          "annotationdefaults": {
           "arrowcolor": "#2a3f5f",
           "arrowhead": 0,
           "arrowwidth": 1
          },
          "autotypenumbers": "strict",
          "coloraxis": {
           "colorbar": {
            "outlinewidth": 0,
            "ticks": ""
           }
          },
          "colorscale": {
           "diverging": [
            [
             0,
             "#8e0152"
            ],
            [
             0.1,
             "#c51b7d"
            ],
            [
             0.2,
             "#de77ae"
            ],
            [
             0.3,
             "#f1b6da"
            ],
            [
             0.4,
             "#fde0ef"
            ],
            [
             0.5,
             "#f7f7f7"
            ],
            [
             0.6,
             "#e6f5d0"
            ],
            [
             0.7,
             "#b8e186"
            ],
            [
             0.8,
             "#7fbc41"
            ],
            [
             0.9,
             "#4d9221"
            ],
            [
             1,
             "#276419"
            ]
           ],
           "sequential": [
            [
             0,
             "#0d0887"
            ],
            [
             0.1111111111111111,
             "#46039f"
            ],
            [
             0.2222222222222222,
             "#7201a8"
            ],
            [
             0.3333333333333333,
             "#9c179e"
            ],
            [
             0.4444444444444444,
             "#bd3786"
            ],
            [
             0.5555555555555556,
             "#d8576b"
            ],
            [
             0.6666666666666666,
             "#ed7953"
            ],
            [
             0.7777777777777778,
             "#fb9f3a"
            ],
            [
             0.8888888888888888,
             "#fdca26"
            ],
            [
             1,
             "#f0f921"
            ]
           ],
           "sequentialminus": [
            [
             0,
             "#0d0887"
            ],
            [
             0.1111111111111111,
             "#46039f"
            ],
            [
             0.2222222222222222,
             "#7201a8"
            ],
            [
             0.3333333333333333,
             "#9c179e"
            ],
            [
             0.4444444444444444,
             "#bd3786"
            ],
            [
             0.5555555555555556,
             "#d8576b"
            ],
            [
             0.6666666666666666,
             "#ed7953"
            ],
            [
             0.7777777777777778,
             "#fb9f3a"
            ],
            [
             0.8888888888888888,
             "#fdca26"
            ],
            [
             1,
             "#f0f921"
            ]
           ]
          },
          "colorway": [
           "#636efa",
           "#EF553B",
           "#00cc96",
           "#ab63fa",
           "#FFA15A",
           "#19d3f3",
           "#FF6692",
           "#B6E880",
           "#FF97FF",
           "#FECB52"
          ],
          "font": {
           "color": "#2a3f5f"
          },
          "geo": {
           "bgcolor": "white",
           "lakecolor": "white",
           "landcolor": "#E5ECF6",
           "showlakes": true,
           "showland": true,
           "subunitcolor": "white"
          },
          "hoverlabel": {
           "align": "left"
          },
          "hovermode": "closest",
          "mapbox": {
           "style": "light"
          },
          "paper_bgcolor": "white",
          "plot_bgcolor": "#E5ECF6",
          "polar": {
           "angularaxis": {
            "gridcolor": "white",
            "linecolor": "white",
            "ticks": ""
           },
           "bgcolor": "#E5ECF6",
           "radialaxis": {
            "gridcolor": "white",
            "linecolor": "white",
            "ticks": ""
           }
          },
          "scene": {
           "xaxis": {
            "backgroundcolor": "#E5ECF6",
            "gridcolor": "white",
            "gridwidth": 2,
            "linecolor": "white",
            "showbackground": true,
            "ticks": "",
            "zerolinecolor": "white"
           },
           "yaxis": {
            "backgroundcolor": "#E5ECF6",
            "gridcolor": "white",
            "gridwidth": 2,
            "linecolor": "white",
            "showbackground": true,
            "ticks": "",
            "zerolinecolor": "white"
           },
           "zaxis": {
            "backgroundcolor": "#E5ECF6",
            "gridcolor": "white",
            "gridwidth": 2,
            "linecolor": "white",
            "showbackground": true,
            "ticks": "",
            "zerolinecolor": "white"
           }
          },
          "shapedefaults": {
           "line": {
            "color": "#2a3f5f"
           }
          },
          "ternary": {
           "aaxis": {
            "gridcolor": "white",
            "linecolor": "white",
            "ticks": ""
           },
           "baxis": {
            "gridcolor": "white",
            "linecolor": "white",
            "ticks": ""
           },
           "bgcolor": "#E5ECF6",
           "caxis": {
            "gridcolor": "white",
            "linecolor": "white",
            "ticks": ""
           }
          },
          "title": {
           "x": 0.05
          },
          "xaxis": {
           "automargin": true,
           "gridcolor": "white",
           "linecolor": "white",
           "ticks": "",
           "title": {
            "standoff": 15
           },
           "zerolinecolor": "white",
           "zerolinewidth": 2
          },
          "yaxis": {
           "automargin": true,
           "gridcolor": "white",
           "linecolor": "white",
           "ticks": "",
           "title": {
            "standoff": 15
           },
           "zerolinecolor": "white",
           "zerolinewidth": 2
          }
         }
        },
        "title": {
         "text": "GridSearch CV XGBoost Regressor"
        },
        "width": 700,
        "xaxis": {
         "anchor": "y",
         "domain": [
          0,
          1
         ],
         "title": {
          "text": "Actual y"
         }
        },
        "yaxis": {
         "anchor": "x",
         "domain": [
          0,
          1
         ],
         "title": {
          "text": "Predicted y"
         }
        }
       }
      }
     },
     "metadata": {},
     "output_type": "display_data"
    }
   ],
   "source": [
    "model = xgb.XGBRegressor(**cv.best_params_,random_state=random_state).fit(X_train, y_train)\n",
    "simulate(model, XXyy, 'GridSearch CV XGBoost Regressor')"
   ]
  },
  {
   "attachments": {},
   "cell_type": "markdown",
   "metadata": {},
   "source": [
    "For XGBoost Regression, with parameters tuned, it is the best model, with R^2 score of 0.88 and RMSE score of 43."
   ]
  },
  {
   "attachments": {},
   "cell_type": "markdown",
   "metadata": {},
   "source": [
    "Using Hyperopt-Sklearn, which is a wrapper of Hyperopt, a library for Distributed Asynchronous Hyper-parameter Optimization."
   ]
  },
  {
   "cell_type": "code",
   "execution_count": 80,
   "metadata": {},
   "outputs": [
    {
     "name": "stdout",
     "output_type": "stream",
     "text": [
      "100%|██████████| 1/1 [00:02<00:00,  2.28s/trial, best loss: 0.7965144022535368]\n",
      "100%|██████████| 2/2 [00:01<00:00,  1.61s/trial, best loss: 0.7965144022535368]\n",
      "100%|██████████| 3/3 [00:02<00:00,  2.07s/trial, best loss: 0.7965144022535368]\n",
      "100%|██████████| 4/4 [00:01<00:00,  1.90s/trial, best loss: 0.18082996106746174]\n",
      "100%|██████████| 5/5 [00:01<00:00,  1.59s/trial, best loss: 0.18082996106746174]\n",
      "100%|██████████| 6/6 [00:02<00:00,  2.43s/trial, best loss: 0.18082996106746174]\n",
      "100%|██████████| 7/7 [00:03<00:00,  3.70s/trial, best loss: 0.18082996106746174]\n",
      "100%|██████████| 8/8 [00:03<00:00,  3.01s/trial, best loss: 0.18082996106746174]\n",
      "100%|██████████| 9/9 [00:01<00:00,  1.65s/trial, best loss: 0.18082996106746174]\n",
      "100%|██████████| 10/10 [00:02<00:00,  2.99s/trial, best loss: 0.18082996106746174]\n",
      "100%|██████████| 11/11 [00:03<00:00,  3.73s/trial, best loss: 0.18082996106746174]\n",
      "100%|██████████| 12/12 [00:02<00:00,  2.24s/trial, best loss: 0.18082996106746174]\n",
      "100%|██████████| 13/13 [00:03<00:00,  3.10s/trial, best loss: 0.18082996106746174]\n",
      "100%|██████████| 14/14 [00:01<00:00,  1.69s/trial, best loss: 0.18082996106746174]\n",
      "100%|██████████| 15/15 [00:02<00:00,  2.74s/trial, best loss: 0.18082996106746174]\n",
      "100%|██████████| 16/16 [00:02<00:00,  2.37s/trial, best loss: 0.18082996106746174]\n",
      "100%|██████████| 17/17 [00:02<00:00,  2.45s/trial, best loss: 0.18082996106746174]\n",
      "100%|██████████| 18/18 [00:03<00:00,  3.25s/trial, best loss: 0.18082996106746174]\n",
      "100%|██████████| 19/19 [00:01<00:00,  1.72s/trial, best loss: 0.18082996106746174]\n",
      "100%|██████████| 20/20 [00:01<00:00,  1.72s/trial, best loss: 0.18082996106746174]\n",
      "------------------------------\n",
      "Train Score:  0.923\n",
      "Train RMSE:  37.037\n",
      "------------------------------\n",
      "Test Score:  0.839\n",
      "Test RMSE:  51.461\n"
     ]
    },
    {
     "data": {
      "application/vnd.plotly.v1+json": {
       "config": {
        "plotlyServerURL": "https://plot.ly"
       },
       "data": [
        {
         "hovertemplate": "Actual y=%{x}<br>Predicted y=%{y}<extra></extra>",
         "legendgroup": "",
         "marker": {
          "color": "#636efa",
          "symbol": "circle"
         },
         "mode": "markers",
         "name": "",
         "orientation": "v",
         "showlegend": false,
         "type": "scatter",
         "x": [
          100,
          98,
          52,
          160,
          89,
          199,
          420,
          187,
          49,
          79,
          399,
          152,
          400,
          279,
          529,
          100,
          450,
          33,
          49,
          194,
          69,
          100,
          22,
          40,
          386,
          175,
          261,
          59,
          300,
          80,
          63,
          235,
          330,
          79,
          43,
          58,
          50,
          70,
          415,
          204,
          70,
          378,
          44,
          175,
          387,
          260,
          39,
          59,
          50,
          150,
          38,
          448,
          193,
          59,
          109,
          101,
          49,
          130,
          145,
          168,
          50,
          184,
          59,
          133,
          163,
          549,
          60,
          220,
          240,
          70,
          495,
          175,
          179,
          56,
          250,
          399,
          266,
          235,
          114,
          78,
          185,
          470,
          108,
          250,
          81,
          66,
          474,
          130,
          49,
          130,
          49,
          246,
          171,
          230,
          173,
          75,
          180,
          31,
          395,
          400,
          221,
          328,
          45,
          60,
          310,
          65,
          47,
          260,
          85,
          38,
          140,
          399,
          404,
          279,
          65,
          78,
          156,
          55,
          200,
          51,
          328,
          160,
          410,
          39,
          178,
          90,
          300,
          40,
          366,
          140,
          218,
          134,
          373,
          135,
          69,
          188,
          224,
          500,
          250,
          430,
          181,
          60,
          629,
          57,
          95,
          210,
          314,
          195,
          345,
          271,
          90,
          409,
          409,
          349,
          60,
          69,
          140,
          120,
          190,
          103,
          400,
          115,
          134,
          78,
          401,
          80,
          500,
          227,
          39,
          30,
          125,
          228,
          179,
          152,
          165,
          80,
          98,
          315,
          260,
          409,
          399,
          31,
          20,
          70,
          249,
          289,
          470,
          50,
          30,
          250,
          210,
          130,
          331,
          189,
          42,
          148,
          125,
          245,
          85,
          318,
          39,
          229,
          386,
          371,
          24,
          50,
          24,
          456,
          337,
          168,
          65,
          210,
          57,
          110,
          78,
          69,
          50,
          232,
          232,
          189,
          59,
          80,
          27,
          79,
          100,
          80,
          240,
          202,
          482,
          85,
          380,
          206,
          200,
          22,
          113,
          200,
          49,
          59,
          96,
          187,
          394,
          243,
          50,
          99,
          210,
          110,
          404,
          49,
          126,
          49,
          269,
          260,
          181,
          69,
          144,
          120,
          140,
          305,
          180,
          229,
          59,
          105,
          50,
          195,
          140,
          142,
          59,
          223,
          69,
          80,
          270,
          78,
          56,
          151,
          200,
          550,
          276,
          225,
          48,
          137,
          179,
          216,
          222,
          79,
          86,
          430,
          187,
          175,
          208,
          121,
          100,
          59,
          399,
          102,
          46,
          318,
          50,
          196,
          50,
          190,
          173,
          185,
          158,
          320,
          109,
          310,
          49,
          213,
          205,
          116,
          72,
          60,
          47,
          31,
          349,
          463,
          160,
          69,
          301,
          109,
          18,
          226,
          198,
          104,
          40,
          101,
          357,
          400,
          68,
          68,
          575,
          134,
          399,
          173,
          31,
          610,
          284,
          53,
          57,
          55,
          22,
          115,
          517,
          58,
          600,
          85,
          191,
          59,
          55,
          48,
          103,
          219,
          56,
          119,
          127,
          69,
          413,
          137,
          85,
          93,
          117,
          126,
          281,
          38,
          110,
          123,
          508,
          202,
          29,
          290,
          162,
          36,
          225,
          45,
          122,
          414,
          242,
          40,
          70,
          69,
          226,
          38,
          160,
          140,
          98,
          39,
          190,
          59,
          50,
          173,
          204,
          39,
          144,
          89,
          70,
          151,
          184,
          55,
          615,
          188,
          113,
          200,
          75,
          145,
          90,
          52,
          88,
          46,
          85,
          250,
          49,
          42,
          40,
          99,
          246,
          375,
          155,
          69,
          65,
          310,
          130,
          90,
          95,
          162,
          260,
          122,
          324,
          300,
          34,
          190,
          80,
          35,
          144,
          328,
          59,
          59,
          48,
          120,
          209,
          100,
          500,
          40,
          99,
          99,
          156,
          67,
          97,
          150,
          180,
          105,
          188,
          55,
          85,
          110,
          78,
          210,
          155,
          129,
          257,
          145,
          135,
          59,
          140,
          130,
          60,
          211,
          188,
          80,
          219,
          265,
          49,
          56,
          129,
          64,
          93,
          200,
          243,
          168,
          327,
          350,
          39,
          335,
          45,
          193,
          284,
          40,
          404,
          68,
          65,
          39,
          313,
          80,
          53,
          49,
          58,
          126,
          69,
          80,
          110,
          50,
          132,
          80,
          185,
          387,
          27,
          162,
          88,
          153,
          239,
          243,
          99,
          89,
          53,
          131,
          111,
          428,
          150,
          179,
          178,
          295,
          335,
          59,
          33,
          59,
          440,
          142,
          261,
          343,
          188,
          59,
          49,
          109,
          90,
          33,
          80,
          61,
          490,
          69,
          60,
          181,
          66,
          49,
          148,
          429,
          210,
          297,
          500,
          169,
          60,
          90,
          320,
          222,
          136,
          174,
          243
         ],
         "xaxis": "x",
         "y": [
          78.53158506870217,
          111.81502904758341,
          85.85855597092421,
          139.94002850197643,
          137.84282275546389,
          213.15327231881827,
          523.4463284580064,
          175.69232892226526,
          61.784609564249465,
          136.91056999244586,
          420.06660381298633,
          169.40687170158375,
          403.31477831574824,
          246.1328127228679,
          469.6623624313959,
          135.77058363510008,
          476.3771497048007,
          87.21311146170129,
          61.9068718732922,
          134.83155694739887,
          70.09965494329468,
          126.81846384030955,
          65.13916839453825,
          107.64761302723817,
          381.92235596154717,
          193.75672468344987,
          234.4278024524241,
          49.05935063653537,
          104.24039169068071,
          131.0923250006946,
          49.38554119034233,
          125.37659125900609,
          136.58652033311756,
          85.41655559764409,
          111.19816304188645,
          61.40390458262313,
          18.884507470631586,
          137.66529639899548,
          352.42946800450045,
          223.8145452882359,
          68.9872038259937,
          417.9631226535331,
          107.77421393003978,
          205.10504379835882,
          413.8396959505829,
          178.7663261352382,
          42.205827124098256,
          50.34621952334097,
          72.75536130254945,
          155.72657050772162,
          115.85646026349006,
          382.4099002365923,
          213.78792984580477,
          71.34347076295023,
          131.18718930857304,
          153.8746760987642,
          71.04862445407426,
          111.42248904678667,
          144.30973421899162,
          236.34651837691905,
          59.77807163544143,
          132.90946872171074,
          74.71263136576538,
          102.71720327017513,
          165.50575066144313,
          464.0272815555935,
          66.18667418059643,
          160.6037402698701,
          179.88077591953927,
          132.96607946465298,
          411.5976383599381,
          122.7873383395428,
          222.69750669618531,
          50.45779872449493,
          193.83223330710203,
          389.8345704739083,
          170.63104979082698,
          201.3827644563656,
          125.03105148019942,
          115.69535525956903,
          167.18798900726782,
          492.74184310016807,
          140.19876679416492,
          237.72379548630124,
          78.95326179890994,
          101.74366006206178,
          369.4834314701121,
          138.37388652693653,
          42.36754790374529,
          131.540434906448,
          53.05196395447151,
          240.1089517872523,
          158.76846981136208,
          228.42830470171447,
          194.41657020922457,
          108.10673232126044,
          116.79463369311541,
          52.48219215533383,
          442.50335296610626,
          332.5931471786475,
          208.5870060064888,
          427.07104018772594,
          69.59813436467562,
          83.60730663468411,
          348.5585375993885,
          34.5316649460858,
          72.972996648728,
          201.8197542296604,
          119.10418493444253,
          64.77899489821706,
          108.883017913234,
          398.6210936500603,
          187.28594813178674,
          210.58026224319227,
          101.89984239730255,
          68.2041260080078,
          147.25188723043476,
          150.71835022990786,
          111.95569429649652,
          49.802163484891196,
          407.59825645691086,
          167.93266190107832,
          469.62888386867405,
          33.62164512065254,
          192.0772273577451,
          61.14437787565721,
          381.5987767508339,
          102.81183751585233,
          432.7086410371712,
          81.47534720405308,
          219.07457436830163,
          119.75257869513909,
          407.93613313932104,
          198.5527982026804,
          61.37461472105524,
          177.54908675427373,
          184.6700926897686,
          291.4348809599723,
          204.8677989484249,
          480.6125820097182,
          143.615560339497,
          67.24974454561251,
          476.00014323070127,
          52.0978448261992,
          98.9189780096834,
          228.630852714835,
          63.76938757361778,
          250.22098914473267,
          383.58500146180864,
          231.79715544958793,
          143.12139593224677,
          433.7761557616985,
          389.5710676851263,
          379.16744385298944,
          128.22680291677247,
          64.71489827209251,
          121.3702623075693,
          81.93970915102945,
          239.6926168936911,
          111.75501958730592,
          365.24763277553086,
          119.08738636628344,
          149.40110797764478,
          88.94462140948528,
          418.08593229956756,
          111.77385767744325,
          482.43671174893154,
          203.65534861540078,
          46.72622816199971,
          31.20062395117279,
          99.11185718083237,
          239.6165444838749,
          168.5071704548825,
          163.6309520875655,
          192.3992306360242,
          103.53094446092766,
          144.45415380591044,
          269.64764815018725,
          187.80294750232366,
          462.94364779580263,
          375.07480069190433,
          53.820632109078886,
          56.77804466656849,
          60.208606826191215,
          269.73409436968535,
          181.18676748638225,
          473.8684223542302,
          101.04511769495275,
          53.154094641748465,
          219.40094806333386,
          176.27530490048915,
          129.66537820189154,
          399.36622335875353,
          36.666229904559295,
          105.89816352460728,
          254.21309838888578,
          142.87017271262454,
          161.70513392658052,
          58.54712911219491,
          421.4141971228523,
          58.080734867692506,
          146.95256362171736,
          355.6032390040622,
          446.5488672844512,
          14.225857182291382,
          72.00750185480425,
          48.15199102591521,
          413.06044115798096,
          333.8527969391778,
          28.30553383719586,
          99.81927451809085,
          197.76176780745257,
          102.34598459770955,
          87.17857882484888,
          81.60988386757558,
          68.74576484474866,
          100.79306806203135,
          182.82343944970575,
          185.99136666982514,
          173.75214048984458,
          42.64224192593516,
          92.42067084381495,
          55.22075897687141,
          79.64612012670977,
          92.88855024795599,
          114.23079103444574,
          181.81282814937745,
          130.78481700172793,
          344.86639411289735,
          166.33692679336005,
          466.286312050009,
          216.10023671925242,
          196.85536812630525,
          87.43483124126368,
          131.28849525962627,
          153.02456412438337,
          68.29266258064483,
          49.534984048602375,
          140.4100422594849,
          191.43884532102294,
          450.2382943342494,
          234.99538988671196,
          59.239353984034395,
          97.18293875702209,
          271.0966195325217,
          157.4596704767905,
          258.38897377196696,
          66.70755977806105,
          113.82100850645841,
          45.21713294777253,
          163.88161679522503,
          216.45866542124185,
          136.35858420762167,
          72.37721901599838,
          149.0953666446232,
          153.78864108568789,
          152.83460662730303,
          376.63823945193485,
          161.28417661403418,
          255.51004121974074,
          60.94219532648024,
          119.53176142004908,
          39.94981072940582,
          241.08022121980832,
          124.9024981321483,
          184.24853864088033,
          47.13182535023402,
          241.1526600233546,
          47.46634184384656,
          131.79869863968253,
          232.97444417867808,
          153.17946212581572,
          40.07478141984058,
          152.44703816975166,
          140.42642491422245,
          474.25812073504625,
          155.13776757099927,
          98.30938671429708,
          57.00145163379483,
          135.09462435383404,
          216.68180408609769,
          134.7802558201737,
          233.9453663049207,
          99.39681310747237,
          99.26567534130106,
          438.36470487292183,
          195.7994116339956,
          204.44386655076804,
          229.6521377340499,
          112.79269935186313,
          97.19005302539762,
          53.84387108091381,
          408.51466146263385,
          156.3499055481524,
          107.27167602383886,
          391.47873875456446,
          44.527719186462754,
          183.24231644129824,
          74.27384243050564,
          219.46170147408554,
          161.69845690516658,
          182.25699939251794,
          201.4364505919543,
          374.15986652245465,
          89.42003460798271,
          370.77621364040084,
          56.885618293504265,
          190.7461185785328,
          221.03530359857547,
          193.5113515571678,
          130.63520554300743,
          79.11526546369913,
          114.59671309597576,
          28.704790843384465,
          410.12316295628625,
          403.81497094757384,
          120.6113821180426,
          50.34621952334097,
          408.8270402050282,
          123.03107287091187,
          80.44762567956495,
          219.77024979888722,
          209.42008299994913,
          149.8031412341582,
          100.36531188564392,
          123.25019624828872,
          395.0047784693883,
          406.2367589857443,
          75.66071137347829,
          63.05054323931565,
          437.3249870538811,
          121.86017504418116,
          358.5755737438676,
          151.0775099112821,
          44.73098730335885,
          485.0224109529898,
          326.3556215181218,
          59.813910496060736,
          117.57681522292567,
          32.10481320163289,
          39.70528705096413,
          144.6892907482238,
          472.37183220324175,
          73.22277959983872,
          399.121392421786,
          65.66167334799057,
          102.88426581618769,
          63.928896067965574,
          104.56044689644406,
          54.76165070108831,
          110.70258100358741,
          215.34363004890656,
          138.71729880764534,
          147.1135220492496,
          168.39369966372038,
          49.187753375399744,
          397.220723441246,
          143.17436061782195,
          105.02096186477817,
          91.19611036061087,
          149.97273945053595,
          139.5855844849681,
          209.3728711487072,
          57.97754293757893,
          123.35817982940804,
          93.24382543672529,
          419.1245379705774,
          148.71845045463118,
          52.37552805444403,
          416.27021824675046,
          142.134223824191,
          55.484574980515696,
          218.15763648558766,
          126.35938858298553,
          170.41407234086103,
          361.4185374652854,
          231.57817708287462,
          80.6485496339174,
          149.42000512302073,
          49.58842191447968,
          156.29547740271386,
          87.61923108286379,
          160.15511232628762,
          108.18012037272831,
          88.93172458914349,
          33.8299813870216,
          175.6595147197788,
          59.51411195575263,
          54.40743723211493,
          238.4727476227863,
          196.65591130496495,
          36.44588187009351,
          162.29697039667656,
          167.8660572382959,
          112.59409300052546,
          157.42847339352818,
          133.88075908159334,
          65.18285092731713,
          499.3582639295124,
          176.87265579332976,
          104.21817376699222,
          232.2198998018881,
          48.86286568174816,
          60.11808743048023,
          80.7459998654475,
          99.68638101187967,
          80.81437102700855,
          56.5727226983591,
          105.60823390146476,
          225.18900718636593,
          57.09792460820736,
          48.216253929210474,
          29.355025472036456,
          107.37348074914452,
          226.71585547642815,
          465.65717949763354,
          158.5220547445277,
          91.6462932485596,
          77.77939934486575,
          453.00255934995374,
          104.72812869457856,
          142.93949662399967,
          101.7942216470989,
          141.20073452312153,
          144.2391990163633,
          159.98798043309597,
          395.2314216318516,
          431.6471272869125,
          83.25456175364043,
          155.7342879396862,
          107.75817209839752,
          62.49825409228465,
          153.6009553747601,
          369.19821590888336,
          72.24924184280674,
          115.41247720751063,
          48.317539182173775,
          144.9244992702665,
          225.6137359332127,
          177.29731732382993,
          450.63074564581814,
          36.01499323290863,
          76.23088272406432,
          104.24313402525524,
          131.1538900471067,
          93.32872056718585,
          89.69234888658694,
          93.96786450048769,
          197.58979185742862,
          114.23932661870745,
          158.01994313003794,
          161.08666798322793,
          107.95340989963412,
          154.82282832008713,
          131.96799275013115,
          195.42444133508295,
          143.35441744922946,
          126.24226759949676,
          209.91768499245865,
          128.27556869584743,
          109.52823538564925,
          41.95955463760423,
          145.74375679312772,
          87.59803644628393,
          73.64184379736196,
          232.35908477266534,
          202.6938820875289,
          130.6423703264679,
          216.5468309044861,
          287.5640206389937,
          67.76229127919562,
          101.65806309248039,
          89.7134437245961,
          94.4052150048986,
          52.76497094211347,
          184.33428929073753,
          236.42383920252806,
          137.2042787379861,
          425.5354261093166,
          364.11246154605954,
          38.656905681107595,
          384.4582434404075,
          87.46815254132159,
          190.59900185908512,
          376.28792053676284,
          88.39889687076433,
          484.11844015625763,
          112.86449742013932,
          85.55026031827782,
          38.93754080023678,
          370.59142019310633,
          85.49322490194277,
          54.63984607799015,
          61.09865733936819,
          69.3772098511843,
          110.38161786784583,
          51.270500741972036,
          93.82858941528164,
          114.92648319498105,
          43.183736210854136,
          146.90597911047638,
          72.71162525481213,
          150.1909016516105,
          426.83097538414887,
          77.81448178552503,
          117.43552382318045,
          136.44820887471172,
          140.70448225940356,
          242.63254549289368,
          195.12861262714358,
          161.2555700030606,
          68.53073636046672,
          137.88394257002787,
          157.8633135268459,
          226.91604147440464,
          420.1265042052768,
          158.83494450827936,
          210.30261721293286,
          206.37140036402243,
          379.37895897853116,
          358.8545930217671,
          66.1166181412588,
          25.530734342170483,
          116.31621527502406,
          456.3873986127969,
          141.3609576937049,
          234.4278024524241,
          331.7145514227521,
          146.00072452327817,
          102.02264355906121,
          52.75685934226756,
          101.59123126261328,
          89.89756116366014,
          92.32556748881534,
          89.6560431540646,
          82.20208073612525,
          313.06551076594326,
          78.8070939314703,
          77.52525665219684,
          231.09501665686741,
          88.67429543529113,
          57.872986109876294,
          165.32936398018188,
          433.6513013774076,
          154.27732948646263,
          423.6004805933764,
          330.6984516727756,
          155.5465874859904,
          102.48385754268742,
          154.75576084411935,
          380.66230903108226,
          179.27210705027824,
          112.9047618346615,
          170.4342608723875,
          239.60774529978744
         ],
         "yaxis": "y"
        },
        {
         "line": {
          "color": "gray"
         },
         "mode": "lines",
         "showlegend": false,
         "type": "scatter",
         "x": [
          0,
          600
         ],
         "y": [
          0,
          600
         ]
        },
        {
         "line": {
          "dash": "dot"
         },
         "mode": "lines",
         "showlegend": false,
         "type": "scatter",
         "x": [
          0,
          600
         ],
         "y": [
          132.3645418384225,
          732.3645418384225
         ]
        },
        {
         "line": {
          "dash": "dot"
         },
         "mode": "lines",
         "showlegend": false,
         "type": "scatter",
         "x": [
          0,
          600
         ],
         "y": [
          -132.3645418384225,
          467.6354581615775
         ]
        }
       ],
       "layout": {
        "height": 500,
        "legend": {
         "tracegroupgap": 0
        },
        "template": {
         "data": {
          "bar": [
           {
            "error_x": {
             "color": "#2a3f5f"
            },
            "error_y": {
             "color": "#2a3f5f"
            },
            "marker": {
             "line": {
              "color": "#E5ECF6",
              "width": 0.5
             },
             "pattern": {
              "fillmode": "overlay",
              "size": 10,
              "solidity": 0.2
             }
            },
            "type": "bar"
           }
          ],
          "barpolar": [
           {
            "marker": {
             "line": {
              "color": "#E5ECF6",
              "width": 0.5
             },
             "pattern": {
              "fillmode": "overlay",
              "size": 10,
              "solidity": 0.2
             }
            },
            "type": "barpolar"
           }
          ],
          "carpet": [
           {
            "aaxis": {
             "endlinecolor": "#2a3f5f",
             "gridcolor": "white",
             "linecolor": "white",
             "minorgridcolor": "white",
             "startlinecolor": "#2a3f5f"
            },
            "baxis": {
             "endlinecolor": "#2a3f5f",
             "gridcolor": "white",
             "linecolor": "white",
             "minorgridcolor": "white",
             "startlinecolor": "#2a3f5f"
            },
            "type": "carpet"
           }
          ],
          "choropleth": [
           {
            "colorbar": {
             "outlinewidth": 0,
             "ticks": ""
            },
            "type": "choropleth"
           }
          ],
          "contour": [
           {
            "colorbar": {
             "outlinewidth": 0,
             "ticks": ""
            },
            "colorscale": [
             [
              0,
              "#0d0887"
             ],
             [
              0.1111111111111111,
              "#46039f"
             ],
             [
              0.2222222222222222,
              "#7201a8"
             ],
             [
              0.3333333333333333,
              "#9c179e"
             ],
             [
              0.4444444444444444,
              "#bd3786"
             ],
             [
              0.5555555555555556,
              "#d8576b"
             ],
             [
              0.6666666666666666,
              "#ed7953"
             ],
             [
              0.7777777777777778,
              "#fb9f3a"
             ],
             [
              0.8888888888888888,
              "#fdca26"
             ],
             [
              1,
              "#f0f921"
             ]
            ],
            "type": "contour"
           }
          ],
          "contourcarpet": [
           {
            "colorbar": {
             "outlinewidth": 0,
             "ticks": ""
            },
            "type": "contourcarpet"
           }
          ],
          "heatmap": [
           {
            "colorbar": {
             "outlinewidth": 0,
             "ticks": ""
            },
            "colorscale": [
             [
              0,
              "#0d0887"
             ],
             [
              0.1111111111111111,
              "#46039f"
             ],
             [
              0.2222222222222222,
              "#7201a8"
             ],
             [
              0.3333333333333333,
              "#9c179e"
             ],
             [
              0.4444444444444444,
              "#bd3786"
             ],
             [
              0.5555555555555556,
              "#d8576b"
             ],
             [
              0.6666666666666666,
              "#ed7953"
             ],
             [
              0.7777777777777778,
              "#fb9f3a"
             ],
             [
              0.8888888888888888,
              "#fdca26"
             ],
             [
              1,
              "#f0f921"
             ]
            ],
            "type": "heatmap"
           }
          ],
          "heatmapgl": [
           {
            "colorbar": {
             "outlinewidth": 0,
             "ticks": ""
            },
            "colorscale": [
             [
              0,
              "#0d0887"
             ],
             [
              0.1111111111111111,
              "#46039f"
             ],
             [
              0.2222222222222222,
              "#7201a8"
             ],
             [
              0.3333333333333333,
              "#9c179e"
             ],
             [
              0.4444444444444444,
              "#bd3786"
             ],
             [
              0.5555555555555556,
              "#d8576b"
             ],
             [
              0.6666666666666666,
              "#ed7953"
             ],
             [
              0.7777777777777778,
              "#fb9f3a"
             ],
             [
              0.8888888888888888,
              "#fdca26"
             ],
             [
              1,
              "#f0f921"
             ]
            ],
            "type": "heatmapgl"
           }
          ],
          "histogram": [
           {
            "marker": {
             "pattern": {
              "fillmode": "overlay",
              "size": 10,
              "solidity": 0.2
             }
            },
            "type": "histogram"
           }
          ],
          "histogram2d": [
           {
            "colorbar": {
             "outlinewidth": 0,
             "ticks": ""
            },
            "colorscale": [
             [
              0,
              "#0d0887"
             ],
             [
              0.1111111111111111,
              "#46039f"
             ],
             [
              0.2222222222222222,
              "#7201a8"
             ],
             [
              0.3333333333333333,
              "#9c179e"
             ],
             [
              0.4444444444444444,
              "#bd3786"
             ],
             [
              0.5555555555555556,
              "#d8576b"
             ],
             [
              0.6666666666666666,
              "#ed7953"
             ],
             [
              0.7777777777777778,
              "#fb9f3a"
             ],
             [
              0.8888888888888888,
              "#fdca26"
             ],
             [
              1,
              "#f0f921"
             ]
            ],
            "type": "histogram2d"
           }
          ],
          "histogram2dcontour": [
           {
            "colorbar": {
             "outlinewidth": 0,
             "ticks": ""
            },
            "colorscale": [
             [
              0,
              "#0d0887"
             ],
             [
              0.1111111111111111,
              "#46039f"
             ],
             [
              0.2222222222222222,
              "#7201a8"
             ],
             [
              0.3333333333333333,
              "#9c179e"
             ],
             [
              0.4444444444444444,
              "#bd3786"
             ],
             [
              0.5555555555555556,
              "#d8576b"
             ],
             [
              0.6666666666666666,
              "#ed7953"
             ],
             [
              0.7777777777777778,
              "#fb9f3a"
             ],
             [
              0.8888888888888888,
              "#fdca26"
             ],
             [
              1,
              "#f0f921"
             ]
            ],
            "type": "histogram2dcontour"
           }
          ],
          "mesh3d": [
           {
            "colorbar": {
             "outlinewidth": 0,
             "ticks": ""
            },
            "type": "mesh3d"
           }
          ],
          "parcoords": [
           {
            "line": {
             "colorbar": {
              "outlinewidth": 0,
              "ticks": ""
             }
            },
            "type": "parcoords"
           }
          ],
          "pie": [
           {
            "automargin": true,
            "type": "pie"
           }
          ],
          "scatter": [
           {
            "fillpattern": {
             "fillmode": "overlay",
             "size": 10,
             "solidity": 0.2
            },
            "type": "scatter"
           }
          ],
          "scatter3d": [
           {
            "line": {
             "colorbar": {
              "outlinewidth": 0,
              "ticks": ""
             }
            },
            "marker": {
             "colorbar": {
              "outlinewidth": 0,
              "ticks": ""
             }
            },
            "type": "scatter3d"
           }
          ],
          "scattercarpet": [
           {
            "marker": {
             "colorbar": {
              "outlinewidth": 0,
              "ticks": ""
             }
            },
            "type": "scattercarpet"
           }
          ],
          "scattergeo": [
           {
            "marker": {
             "colorbar": {
              "outlinewidth": 0,
              "ticks": ""
             }
            },
            "type": "scattergeo"
           }
          ],
          "scattergl": [
           {
            "marker": {
             "colorbar": {
              "outlinewidth": 0,
              "ticks": ""
             }
            },
            "type": "scattergl"
           }
          ],
          "scattermapbox": [
           {
            "marker": {
             "colorbar": {
              "outlinewidth": 0,
              "ticks": ""
             }
            },
            "type": "scattermapbox"
           }
          ],
          "scatterpolar": [
           {
            "marker": {
             "colorbar": {
              "outlinewidth": 0,
              "ticks": ""
             }
            },
            "type": "scatterpolar"
           }
          ],
          "scatterpolargl": [
           {
            "marker": {
             "colorbar": {
              "outlinewidth": 0,
              "ticks": ""
             }
            },
            "type": "scatterpolargl"
           }
          ],
          "scatterternary": [
           {
            "marker": {
             "colorbar": {
              "outlinewidth": 0,
              "ticks": ""
             }
            },
            "type": "scatterternary"
           }
          ],
          "surface": [
           {
            "colorbar": {
             "outlinewidth": 0,
             "ticks": ""
            },
            "colorscale": [
             [
              0,
              "#0d0887"
             ],
             [
              0.1111111111111111,
              "#46039f"
             ],
             [
              0.2222222222222222,
              "#7201a8"
             ],
             [
              0.3333333333333333,
              "#9c179e"
             ],
             [
              0.4444444444444444,
              "#bd3786"
             ],
             [
              0.5555555555555556,
              "#d8576b"
             ],
             [
              0.6666666666666666,
              "#ed7953"
             ],
             [
              0.7777777777777778,
              "#fb9f3a"
             ],
             [
              0.8888888888888888,
              "#fdca26"
             ],
             [
              1,
              "#f0f921"
             ]
            ],
            "type": "surface"
           }
          ],
          "table": [
           {
            "cells": {
             "fill": {
              "color": "#EBF0F8"
             },
             "line": {
              "color": "white"
             }
            },
            "header": {
             "fill": {
              "color": "#C8D4E3"
             },
             "line": {
              "color": "white"
             }
            },
            "type": "table"
           }
          ]
         },
         "layout": {
          "annotationdefaults": {
           "arrowcolor": "#2a3f5f",
           "arrowhead": 0,
           "arrowwidth": 1
          },
          "autotypenumbers": "strict",
          "coloraxis": {
           "colorbar": {
            "outlinewidth": 0,
            "ticks": ""
           }
          },
          "colorscale": {
           "diverging": [
            [
             0,
             "#8e0152"
            ],
            [
             0.1,
             "#c51b7d"
            ],
            [
             0.2,
             "#de77ae"
            ],
            [
             0.3,
             "#f1b6da"
            ],
            [
             0.4,
             "#fde0ef"
            ],
            [
             0.5,
             "#f7f7f7"
            ],
            [
             0.6,
             "#e6f5d0"
            ],
            [
             0.7,
             "#b8e186"
            ],
            [
             0.8,
             "#7fbc41"
            ],
            [
             0.9,
             "#4d9221"
            ],
            [
             1,
             "#276419"
            ]
           ],
           "sequential": [
            [
             0,
             "#0d0887"
            ],
            [
             0.1111111111111111,
             "#46039f"
            ],
            [
             0.2222222222222222,
             "#7201a8"
            ],
            [
             0.3333333333333333,
             "#9c179e"
            ],
            [
             0.4444444444444444,
             "#bd3786"
            ],
            [
             0.5555555555555556,
             "#d8576b"
            ],
            [
             0.6666666666666666,
             "#ed7953"
            ],
            [
             0.7777777777777778,
             "#fb9f3a"
            ],
            [
             0.8888888888888888,
             "#fdca26"
            ],
            [
             1,
             "#f0f921"
            ]
           ],
           "sequentialminus": [
            [
             0,
             "#0d0887"
            ],
            [
             0.1111111111111111,
             "#46039f"
            ],
            [
             0.2222222222222222,
             "#7201a8"
            ],
            [
             0.3333333333333333,
             "#9c179e"
            ],
            [
             0.4444444444444444,
             "#bd3786"
            ],
            [
             0.5555555555555556,
             "#d8576b"
            ],
            [
             0.6666666666666666,
             "#ed7953"
            ],
            [
             0.7777777777777778,
             "#fb9f3a"
            ],
            [
             0.8888888888888888,
             "#fdca26"
            ],
            [
             1,
             "#f0f921"
            ]
           ]
          },
          "colorway": [
           "#636efa",
           "#EF553B",
           "#00cc96",
           "#ab63fa",
           "#FFA15A",
           "#19d3f3",
           "#FF6692",
           "#B6E880",
           "#FF97FF",
           "#FECB52"
          ],
          "font": {
           "color": "#2a3f5f"
          },
          "geo": {
           "bgcolor": "white",
           "lakecolor": "white",
           "landcolor": "#E5ECF6",
           "showlakes": true,
           "showland": true,
           "subunitcolor": "white"
          },
          "hoverlabel": {
           "align": "left"
          },
          "hovermode": "closest",
          "mapbox": {
           "style": "light"
          },
          "paper_bgcolor": "white",
          "plot_bgcolor": "#E5ECF6",
          "polar": {
           "angularaxis": {
            "gridcolor": "white",
            "linecolor": "white",
            "ticks": ""
           },
           "bgcolor": "#E5ECF6",
           "radialaxis": {
            "gridcolor": "white",
            "linecolor": "white",
            "ticks": ""
           }
          },
          "scene": {
           "xaxis": {
            "backgroundcolor": "#E5ECF6",
            "gridcolor": "white",
            "gridwidth": 2,
            "linecolor": "white",
            "showbackground": true,
            "ticks": "",
            "zerolinecolor": "white"
           },
           "yaxis": {
            "backgroundcolor": "#E5ECF6",
            "gridcolor": "white",
            "gridwidth": 2,
            "linecolor": "white",
            "showbackground": true,
            "ticks": "",
            "zerolinecolor": "white"
           },
           "zaxis": {
            "backgroundcolor": "#E5ECF6",
            "gridcolor": "white",
            "gridwidth": 2,
            "linecolor": "white",
            "showbackground": true,
            "ticks": "",
            "zerolinecolor": "white"
           }
          },
          "shapedefaults": {
           "line": {
            "color": "#2a3f5f"
           }
          },
          "ternary": {
           "aaxis": {
            "gridcolor": "white",
            "linecolor": "white",
            "ticks": ""
           },
           "baxis": {
            "gridcolor": "white",
            "linecolor": "white",
            "ticks": ""
           },
           "bgcolor": "#E5ECF6",
           "caxis": {
            "gridcolor": "white",
            "linecolor": "white",
            "ticks": ""
           }
          },
          "title": {
           "x": 0.05
          },
          "xaxis": {
           "automargin": true,
           "gridcolor": "white",
           "linecolor": "white",
           "ticks": "",
           "title": {
            "standoff": 15
           },
           "zerolinecolor": "white",
           "zerolinewidth": 2
          },
          "yaxis": {
           "automargin": true,
           "gridcolor": "white",
           "linecolor": "white",
           "ticks": "",
           "title": {
            "standoff": 15
           },
           "zerolinecolor": "white",
           "zerolinewidth": 2
          }
         }
        },
        "title": {
         "text": "Hyperopt Gradient Boost Regressor"
        },
        "width": 700,
        "xaxis": {
         "anchor": "y",
         "domain": [
          0,
          1
         ],
         "title": {
          "text": "Actual y"
         }
        },
        "yaxis": {
         "anchor": "x",
         "domain": [
          0,
          1
         ],
         "title": {
          "text": "Predicted y"
         }
        }
       }
      }
     },
     "metadata": {},
     "output_type": "display_data"
    }
   ],
   "source": [
    "from hpsklearn import HyperoptEstimator, hist_gradient_boosting_regressor, xgboost_regression\n",
    "from hyperopt import tpe\n",
    "\n",
    "model = HyperoptEstimator(\n",
    "    regressor=hist_gradient_boosting_regressor('HGBR'),\n",
    "    preprocessing=[],\n",
    "    algo=tpe.suggest,\n",
    "    max_evals=20,\n",
    "    n_jobs=-1,\n",
    "    seed=random_state)\n",
    "model.fit(X_train, y_train)\n",
    "\n",
    "simulate(model, XXyy, 'Hyperopt Gradient Boost Regressor')"
   ]
  },
  {
   "cell_type": "code",
   "execution_count": 81,
   "metadata": {},
   "outputs": [
    {
     "name": "stdout",
     "output_type": "stream",
     "text": [
      "100%|██████████| 1/1 [00:23<00:00, 23.81s/trial, best loss: 2.5873840293949106]\n",
      "100%|██████████| 2/2 [00:07<00:00,  7.32s/trial, best loss: 0.1701645663432667]\n",
      "100%|██████████| 3/3 [00:03<00:00,  3.22s/trial, best loss: 0.1701645663432667]\n",
      "100%|██████████| 4/4 [00:20<00:00, 20.53s/trial, best loss: 0.1701645663432667]\n",
      "100%|██████████| 5/5 [00:15<00:00, 15.50s/trial, best loss: 0.1701645663432667]\n",
      "100%|██████████| 6/6 [00:05<00:00,  5.38s/trial, best loss: 0.1701645663432667]\n",
      "100%|██████████| 7/7 [00:52<00:00, 52.25s/trial, best loss: 0.15569479271555708]\n",
      "100%|██████████| 8/8 [00:25<00:00, 25.01s/trial, best loss: 0.15569479271555708]\n",
      "100%|██████████| 9/9 [00:02<00:00,  2.28s/trial, best loss: 0.15569479271555708]\n",
      "100%|██████████| 10/10 [00:10<00:00, 10.66s/trial, best loss: 0.15569479271555708]\n",
      "------------------------------\n",
      "Train Score:  1.000\n",
      "Train RMSE:  0.310\n",
      "------------------------------\n",
      "Test Score:  0.864\n",
      "Test RMSE:  47.392\n"
     ]
    },
    {
     "data": {
      "application/vnd.plotly.v1+json": {
       "config": {
        "plotlyServerURL": "https://plot.ly"
       },
       "data": [
        {
         "hovertemplate": "Actual y=%{x}<br>Predicted y=%{y}<extra></extra>",
         "legendgroup": "",
         "marker": {
          "color": "#636efa",
          "symbol": "circle"
         },
         "mode": "markers",
         "name": "",
         "orientation": "v",
         "showlegend": false,
         "type": "scatter",
         "x": [
          100,
          98,
          52,
          160,
          89,
          199,
          420,
          187,
          49,
          79,
          399,
          152,
          400,
          279,
          529,
          100,
          450,
          33,
          49,
          194,
          69,
          100,
          22,
          40,
          386,
          175,
          261,
          59,
          300,
          80,
          63,
          235,
          330,
          79,
          43,
          58,
          50,
          70,
          415,
          204,
          70,
          378,
          44,
          175,
          387,
          260,
          39,
          59,
          50,
          150,
          38,
          448,
          193,
          59,
          109,
          101,
          49,
          130,
          145,
          168,
          50,
          184,
          59,
          133,
          163,
          549,
          60,
          220,
          240,
          70,
          495,
          175,
          179,
          56,
          250,
          399,
          266,
          235,
          114,
          78,
          185,
          470,
          108,
          250,
          81,
          66,
          474,
          130,
          49,
          130,
          49,
          246,
          171,
          230,
          173,
          75,
          180,
          31,
          395,
          400,
          221,
          328,
          45,
          60,
          310,
          65,
          47,
          260,
          85,
          38,
          140,
          399,
          404,
          279,
          65,
          78,
          156,
          55,
          200,
          51,
          328,
          160,
          410,
          39,
          178,
          90,
          300,
          40,
          366,
          140,
          218,
          134,
          373,
          135,
          69,
          188,
          224,
          500,
          250,
          430,
          181,
          60,
          629,
          57,
          95,
          210,
          314,
          195,
          345,
          271,
          90,
          409,
          409,
          349,
          60,
          69,
          140,
          120,
          190,
          103,
          400,
          115,
          134,
          78,
          401,
          80,
          500,
          227,
          39,
          30,
          125,
          228,
          179,
          152,
          165,
          80,
          98,
          315,
          260,
          409,
          399,
          31,
          20,
          70,
          249,
          289,
          470,
          50,
          30,
          250,
          210,
          130,
          331,
          189,
          42,
          148,
          125,
          245,
          85,
          318,
          39,
          229,
          386,
          371,
          24,
          50,
          24,
          456,
          337,
          168,
          65,
          210,
          57,
          110,
          78,
          69,
          50,
          232,
          232,
          189,
          59,
          80,
          27,
          79,
          100,
          80,
          240,
          202,
          482,
          85,
          380,
          206,
          200,
          22,
          113,
          200,
          49,
          59,
          96,
          187,
          394,
          243,
          50,
          99,
          210,
          110,
          404,
          49,
          126,
          49,
          269,
          260,
          181,
          69,
          144,
          120,
          140,
          305,
          180,
          229,
          59,
          105,
          50,
          195,
          140,
          142,
          59,
          223,
          69,
          80,
          270,
          78,
          56,
          151,
          200,
          550,
          276,
          225,
          48,
          137,
          179,
          216,
          222,
          79,
          86,
          430,
          187,
          175,
          208,
          121,
          100,
          59,
          399,
          102,
          46,
          318,
          50,
          196,
          50,
          190,
          173,
          185,
          158,
          320,
          109,
          310,
          49,
          213,
          205,
          116,
          72,
          60,
          47,
          31,
          349,
          463,
          160,
          69,
          301,
          109,
          18,
          226,
          198,
          104,
          40,
          101,
          357,
          400,
          68,
          68,
          575,
          134,
          399,
          173,
          31,
          610,
          284,
          53,
          57,
          55,
          22,
          115,
          517,
          58,
          600,
          85,
          191,
          59,
          55,
          48,
          103,
          219,
          56,
          119,
          127,
          69,
          413,
          137,
          85,
          93,
          117,
          126,
          281,
          38,
          110,
          123,
          508,
          202,
          29,
          290,
          162,
          36,
          225,
          45,
          122,
          414,
          242,
          40,
          70,
          69,
          226,
          38,
          160,
          140,
          98,
          39,
          190,
          59,
          50,
          173,
          204,
          39,
          144,
          89,
          70,
          151,
          184,
          55,
          615,
          188,
          113,
          200,
          75,
          145,
          90,
          52,
          88,
          46,
          85,
          250,
          49,
          42,
          40,
          99,
          246,
          375,
          155,
          69,
          65,
          310,
          130,
          90,
          95,
          162,
          260,
          122,
          324,
          300,
          34,
          190,
          80,
          35,
          144,
          328,
          59,
          59,
          48,
          120,
          209,
          100,
          500,
          40,
          99,
          99,
          156,
          67,
          97,
          150,
          180,
          105,
          188,
          55,
          85,
          110,
          78,
          210,
          155,
          129,
          257,
          145,
          135,
          59,
          140,
          130,
          60,
          211,
          188,
          80,
          219,
          265,
          49,
          56,
          129,
          64,
          93,
          200,
          243,
          168,
          327,
          350,
          39,
          335,
          45,
          193,
          284,
          40,
          404,
          68,
          65,
          39,
          313,
          80,
          53,
          49,
          58,
          126,
          69,
          80,
          110,
          50,
          132,
          80,
          185,
          387,
          27,
          162,
          88,
          153,
          239,
          243,
          99,
          89,
          53,
          131,
          111,
          428,
          150,
          179,
          178,
          295,
          335,
          59,
          33,
          59,
          440,
          142,
          261,
          343,
          188,
          59,
          49,
          109,
          90,
          33,
          80,
          61,
          490,
          69,
          60,
          181,
          66,
          49,
          148,
          429,
          210,
          297,
          500,
          169,
          60,
          90,
          320,
          222,
          136,
          174,
          243
         ],
         "xaxis": "x",
         "y": [
          77.48052978515625,
          111.79688262939453,
          88.30123901367188,
          143.66302490234375,
          168.4409942626953,
          237.32821655273438,
          541.19873046875,
          193.25135803222656,
          56.66866683959961,
          92.41744232177734,
          391.6282958984375,
          150.15538024902344,
          348.673583984375,
          251.1556854248047,
          495.3661804199219,
          119.42522430419922,
          492.87921142578125,
          22.633975982666016,
          54.485687255859375,
          166.26129150390625,
          72.43789672851562,
          147.38937377929688,
          42.559486389160156,
          79.3375244140625,
          351.7237854003906,
          191.230712890625,
          228.6070556640625,
          65.53838348388672,
          76.43955993652344,
          134.76797485351562,
          71.67801666259766,
          122.8129653930664,
          136.24537658691406,
          79.56675720214844,
          106.97679138183594,
          67.88978576660156,
          63.57014846801758,
          102.18587493896484,
          350.7049560546875,
          210.21771240234375,
          67.584716796875,
          437.07470703125,
          68.3669662475586,
          189.08676147460938,
          427.5135498046875,
          179.77294921875,
          37.73603820800781,
          58.57920455932617,
          73.84126281738281,
          168.6194305419922,
          116.0440673828125,
          435.92498779296875,
          223.36878967285156,
          73.59938049316406,
          133.9351043701172,
          135.55491638183594,
          55.95539474487305,
          131.50645446777344,
          147.91796875,
          215.03038024902344,
          64.62714385986328,
          167.30445861816406,
          77.43180084228516,
          105.03791046142578,
          151.10044860839844,
          481.40472412109375,
          87.0634536743164,
          155.3468780517578,
          197.78591918945312,
          112.2879638671875,
          397.4150085449219,
          153.5341339111328,
          217.71327209472656,
          57.99699783325195,
          215.20042419433594,
          381.41668701171875,
          218.43551635742188,
          218.1849822998047,
          103.15650939941406,
          127.83967590332031,
          168.31124877929688,
          505.92529296875,
          119.94320678710938,
          276.5796813964844,
          73.70745086669922,
          83.91145324707031,
          340.2799377441406,
          122.5828628540039,
          51.01043701171875,
          101.505859375,
          44.560333251953125,
          246.6134033203125,
          177.3715057373047,
          226.15399169921875,
          202.69168090820312,
          105.32984161376953,
          137.93504333496094,
          57.15961456298828,
          471.02362060546875,
          458.28021240234375,
          207.29718017578125,
          394.10772705078125,
          57.91545486450195,
          88.1656265258789,
          326.49566650390625,
          51.28779983520508,
          93.48944091796875,
          253.27047729492188,
          102.45404052734375,
          56.62446594238281,
          137.93145751953125,
          394.3398742675781,
          195.59622192382812,
          224.80201721191406,
          137.65367126464844,
          75.71624755859375,
          151.3775177001953,
          149.70651245117188,
          109.507080078125,
          46.94877624511719,
          370.609375,
          167.97329711914062,
          487.8628845214844,
          37.22777557373047,
          170.56614685058594,
          82.58680725097656,
          375.663818359375,
          122.51335906982422,
          406.353271484375,
          118.44278717041016,
          241.91493225097656,
          137.0415496826172,
          362.5086975097656,
          214.29360961914062,
          64.31517791748047,
          186.38084411621094,
          239.25811767578125,
          270.5111389160156,
          182.5055389404297,
          467.3799743652344,
          198.184814453125,
          102.96194458007812,
          516.7435302734375,
          59.246002197265625,
          83.60968017578125,
          205.97695922851562,
          103.92284393310547,
          262.5554504394531,
          379.3638610839844,
          255.0976104736328,
          102.62381744384766,
          419.5997314453125,
          381.2523498535156,
          342.05352783203125,
          115.24942016601562,
          72.00928497314453,
          121.17461395263672,
          84.96117401123047,
          211.1653289794922,
          115.06239318847656,
          360.5819396972656,
          133.10366821289062,
          153.49330139160156,
          81.96613311767578,
          412.34918212890625,
          90.7647933959961,
          479.154541015625,
          209.8955078125,
          39.68440246582031,
          41.12802505493164,
          96.51565551757812,
          239.9757843017578,
          174.8146209716797,
          178.9844512939453,
          211.41592407226562,
          93.43952941894531,
          101.94046783447266,
          292.38812255859375,
          212.8593292236328,
          487.2919921875,
          332.147216796875,
          34.74980163574219,
          60.82353210449219,
          96.83493041992188,
          243.08193969726562,
          224.9897918701172,
          423.9166259765625,
          115.9679183959961,
          16.17878532409668,
          236.8536376953125,
          207.37298583984375,
          139.82809448242188,
          345.42205810546875,
          113.75715637207031,
          126.80207824707031,
          258.74951171875,
          147.9346466064453,
          205.59242248535156,
          87.02938079833984,
          390.6605529785156,
          54.22031784057617,
          122.24368286132812,
          320.8038024902344,
          413.4481201171875,
          24.37990951538086,
          62.82601547241211,
          27.567180633544922,
          437.047607421875,
          330.34906005859375,
          66.41780090332031,
          148.03988647460938,
          212.48733520507812,
          66.13216400146484,
          110.14244079589844,
          86.22906494140625,
          57.56616973876953,
          136.57510375976562,
          247.5579376220703,
          213.45118713378906,
          225.12115478515625,
          49.191165924072266,
          82.80130767822266,
          42.8468017578125,
          78.9954605102539,
          111.29899597167969,
          87.77322387695312,
          195.87265014648438,
          153.34439086914062,
          299.424560546875,
          163.84194946289062,
          492.8474426269531,
          198.3939666748047,
          177.9110107421875,
          48.84668731689453,
          145.73976135253906,
          141.38331604003906,
          53.132469177246094,
          49.47126007080078,
          138.1778564453125,
          198.90682983398438,
          421.5126953125,
          223.15362548828125,
          70.12545013427734,
          116.90778350830078,
          258.1324462890625,
          149.0694122314453,
          262.4089660644531,
          57.547882080078125,
          124.76370239257812,
          48.40909957885742,
          170.44952392578125,
          240.52780151367188,
          169.16195678710938,
          67.17992401123047,
          180.1490478515625,
          165.38172912597656,
          143.1323699951172,
          328.31451416015625,
          197.74342346191406,
          237.0878143310547,
          67.78656005859375,
          113.44254302978516,
          43.551212310791016,
          232.93289184570312,
          150.1398162841797,
          206.23388671875,
          57.837608337402344,
          226.32666015625,
          59.58591079711914,
          124.16327667236328,
          267.376220703125,
          137.5490264892578,
          61.892478942871094,
          150.74452209472656,
          167.5081787109375,
          483.791748046875,
          197.57760620117188,
          81.4938735961914,
          76.55801391601562,
          152.84800720214844,
          198.361328125,
          205.44061279296875,
          242.92025756835938,
          119.64015197753906,
          99.10836791992188,
          434.07843017578125,
          188.38722229003906,
          178.55078125,
          240.3441162109375,
          135.9356689453125,
          105.47731018066406,
          47.45577621459961,
          417.5523376464844,
          145.37879943847656,
          71.11420440673828,
          363.6979064941406,
          75.49252319335938,
          194.7203826904297,
          103.64675903320312,
          220.4065399169922,
          124.71822357177734,
          190.44528198242188,
          176.02041625976562,
          345.9629211425781,
          88.84651947021484,
          354.98870849609375,
          47.882774353027344,
          209.96395874023438,
          204.71279907226562,
          176.1181640625,
          117.20882415771484,
          81.19099426269531,
          104.17395782470703,
          29.353490829467773,
          425.2628479003906,
          434.18145751953125,
          125.52781677246094,
          58.57920455932617,
          381.4446716308594,
          118.24673461914062,
          55.989566802978516,
          233.15342712402344,
          233.2678985595703,
          109.61767578125,
          108.33161163330078,
          172.77761840820312,
          362.5337829589844,
          389.40576171875,
          78.49278259277344,
          75.08577728271484,
          397.5090637207031,
          146.75132751464844,
          362.4976806640625,
          146.67848205566406,
          22.080873489379883,
          494.1239929199219,
          347.06610107421875,
          63.78727340698242,
          85.78544616699219,
          53.642337799072266,
          16.21652603149414,
          152.3984832763672,
          518.010009765625,
          46.33708190917969,
          404.366455078125,
          73.0392837524414,
          114.2746353149414,
          61.914974212646484,
          102.2866439819336,
          66.0804443359375,
          104.96588134765625,
          210.729736328125,
          113.5447998046875,
          156.70933532714844,
          154.78756713867188,
          58.207950592041016,
          406.5406494140625,
          159.1575927734375,
          123.69573211669922,
          86.42353820800781,
          146.509033203125,
          142.57571411132812,
          233.27066040039062,
          75.30265045166016,
          149.10977172851562,
          119.20638275146484,
          422.4593200683594,
          160.91148376464844,
          30.820730209350586,
          353.8924560546875,
          143.29246520996094,
          33.88585662841797,
          210.21771240234375,
          76.78457641601562,
          144.06321716308594,
          385.7789306640625,
          242.3029022216797,
          76.31751251220703,
          117.8609390258789,
          64.91058349609375,
          221.68768310546875,
          48.568119049072266,
          169.038818359375,
          77.477783203125,
          76.57625579833984,
          40.762718200683594,
          169.78363037109375,
          53.89116668701172,
          56.94930648803711,
          221.46234130859375,
          194.2305450439453,
          40.509918212890625,
          156.74085998535156,
          142.09913635253906,
          158.71910095214844,
          190.4136962890625,
          171.0487060546875,
          46.88424301147461,
          489.14959716796875,
          173.1732940673828,
          83.0693588256836,
          223.91270446777344,
          53.30064010620117,
          65.38652038574219,
          91.06202697753906,
          89.69652557373047,
          84.72803497314453,
          53.85934829711914,
          103.09209442138672,
          226.8984832763672,
          53.4013786315918,
          50.022029876708984,
          71.87335968017578,
          90.25646209716797,
          243.44668579101562,
          440.7187194824219,
          184.3852996826172,
          75.52302551269531,
          66.19764709472656,
          461.6416931152344,
          126.81119537353516,
          121.65706634521484,
          98.45375061035156,
          158.61366271972656,
          179.66297912597656,
          132.372802734375,
          378.2607421875,
          454.07183837890625,
          78.34821319580078,
          177.0745086669922,
          84.24469757080078,
          128.9268798828125,
          137.30067443847656,
          336.86468505859375,
          76.76902770996094,
          90.96788787841797,
          60.62183380126953,
          140.6309051513672,
          258.05841064453125,
          173.7599639892578,
          495.5659484863281,
          42.37187194824219,
          66.05577850341797,
          114.80266571044922,
          112.96141815185547,
          82.92047882080078,
          69.58242797851562,
          59.22072219848633,
          190.5291290283203,
          109.44159698486328,
          171.2567901611328,
          79.12728881835938,
          105.22093200683594,
          121.59943389892578,
          79.69641876220703,
          222.14015197753906,
          145.68783569335938,
          125.27070617675781,
          201.64633178710938,
          135.31103515625,
          85.85710144042969,
          49.096710205078125,
          154.09381103515625,
          89.45475006103516,
          68.70634460449219,
          217.36891174316406,
          180.08848571777344,
          109.32319641113281,
          213.24008178710938,
          280.8394470214844,
          52.93961715698242,
          69.9179916381836,
          110.63814544677734,
          75.11309051513672,
          111.56344604492188,
          217.3302459716797,
          247.4754638671875,
          169.81597900390625,
          352.6475524902344,
          361.2045593261719,
          35.679229736328125,
          355.87774658203125,
          56.669158935546875,
          158.49742126464844,
          341.6413269042969,
          86.69194793701172,
          443.25469970703125,
          75.05033874511719,
          82.28280639648438,
          44.74628829956055,
          357.2621154785156,
          115.08584594726562,
          68.42558288574219,
          53.7091178894043,
          90.51669311523438,
          124.08879852294922,
          51.10020065307617,
          95.98090362548828,
          102.95881652832031,
          61.78490447998047,
          146.0456085205078,
          95.26923370361328,
          132.0279083251953,
          422.2725830078125,
          11.19797134399414,
          108.0595703125,
          143.43170166015625,
          118.2495346069336,
          241.88540649414062,
          196.8302764892578,
          174.405517578125,
          83.9366683959961,
          88.5245590209961,
          152.5513153076172,
          225.55958557128906,
          469.2781982421875,
          142.5316619873047,
          185.72178649902344,
          174.00514221191406,
          341.5080871582031,
          346.73876953125,
          59.58625030517578,
          49.8525276184082,
          88.55941009521484,
          440.4442443847656,
          138.90182495117188,
          228.6070556640625,
          344.10986328125,
          158.42152404785156,
          58.80154800415039,
          53.02543258666992,
          113.30513763427734,
          70.5456314086914,
          69.8252944946289,
          106.10267639160156,
          91.61000061035156,
          305.6754455566406,
          71.55111694335938,
          84.13312530517578,
          213.73558044433594,
          71.50460052490234,
          46.93086624145508,
          168.798828125,
          398.598876953125,
          115.03164672851562,
          357.95550537109375,
          311.7347717285156,
          184.81689453125,
          112.28804016113281,
          126.05709838867188,
          374.50238037109375,
          182.65235900878906,
          110.53950500488281,
          155.90032958984375,
          245.1313018798828
         ],
         "yaxis": "y"
        },
        {
         "line": {
          "color": "gray"
         },
         "mode": "lines",
         "showlegend": false,
         "type": "scatter",
         "x": [
          0,
          600
         ],
         "y": [
          0,
          600
         ]
        },
        {
         "line": {
          "dash": "dot"
         },
         "mode": "lines",
         "showlegend": false,
         "type": "scatter",
         "x": [
          0,
          600
         ],
         "y": [
          132.3645418384225,
          732.3645418384225
         ]
        },
        {
         "line": {
          "dash": "dot"
         },
         "mode": "lines",
         "showlegend": false,
         "type": "scatter",
         "x": [
          0,
          600
         ],
         "y": [
          -132.3645418384225,
          467.6354581615775
         ]
        }
       ],
       "layout": {
        "height": 500,
        "legend": {
         "tracegroupgap": 0
        },
        "template": {
         "data": {
          "bar": [
           {
            "error_x": {
             "color": "#2a3f5f"
            },
            "error_y": {
             "color": "#2a3f5f"
            },
            "marker": {
             "line": {
              "color": "#E5ECF6",
              "width": 0.5
             },
             "pattern": {
              "fillmode": "overlay",
              "size": 10,
              "solidity": 0.2
             }
            },
            "type": "bar"
           }
          ],
          "barpolar": [
           {
            "marker": {
             "line": {
              "color": "#E5ECF6",
              "width": 0.5
             },
             "pattern": {
              "fillmode": "overlay",
              "size": 10,
              "solidity": 0.2
             }
            },
            "type": "barpolar"
           }
          ],
          "carpet": [
           {
            "aaxis": {
             "endlinecolor": "#2a3f5f",
             "gridcolor": "white",
             "linecolor": "white",
             "minorgridcolor": "white",
             "startlinecolor": "#2a3f5f"
            },
            "baxis": {
             "endlinecolor": "#2a3f5f",
             "gridcolor": "white",
             "linecolor": "white",
             "minorgridcolor": "white",
             "startlinecolor": "#2a3f5f"
            },
            "type": "carpet"
           }
          ],
          "choropleth": [
           {
            "colorbar": {
             "outlinewidth": 0,
             "ticks": ""
            },
            "type": "choropleth"
           }
          ],
          "contour": [
           {
            "colorbar": {
             "outlinewidth": 0,
             "ticks": ""
            },
            "colorscale": [
             [
              0,
              "#0d0887"
             ],
             [
              0.1111111111111111,
              "#46039f"
             ],
             [
              0.2222222222222222,
              "#7201a8"
             ],
             [
              0.3333333333333333,
              "#9c179e"
             ],
             [
              0.4444444444444444,
              "#bd3786"
             ],
             [
              0.5555555555555556,
              "#d8576b"
             ],
             [
              0.6666666666666666,
              "#ed7953"
             ],
             [
              0.7777777777777778,
              "#fb9f3a"
             ],
             [
              0.8888888888888888,
              "#fdca26"
             ],
             [
              1,
              "#f0f921"
             ]
            ],
            "type": "contour"
           }
          ],
          "contourcarpet": [
           {
            "colorbar": {
             "outlinewidth": 0,
             "ticks": ""
            },
            "type": "contourcarpet"
           }
          ],
          "heatmap": [
           {
            "colorbar": {
             "outlinewidth": 0,
             "ticks": ""
            },
            "colorscale": [
             [
              0,
              "#0d0887"
             ],
             [
              0.1111111111111111,
              "#46039f"
             ],
             [
              0.2222222222222222,
              "#7201a8"
             ],
             [
              0.3333333333333333,
              "#9c179e"
             ],
             [
              0.4444444444444444,
              "#bd3786"
             ],
             [
              0.5555555555555556,
              "#d8576b"
             ],
             [
              0.6666666666666666,
              "#ed7953"
             ],
             [
              0.7777777777777778,
              "#fb9f3a"
             ],
             [
              0.8888888888888888,
              "#fdca26"
             ],
             [
              1,
              "#f0f921"
             ]
            ],
            "type": "heatmap"
           }
          ],
          "heatmapgl": [
           {
            "colorbar": {
             "outlinewidth": 0,
             "ticks": ""
            },
            "colorscale": [
             [
              0,
              "#0d0887"
             ],
             [
              0.1111111111111111,
              "#46039f"
             ],
             [
              0.2222222222222222,
              "#7201a8"
             ],
             [
              0.3333333333333333,
              "#9c179e"
             ],
             [
              0.4444444444444444,
              "#bd3786"
             ],
             [
              0.5555555555555556,
              "#d8576b"
             ],
             [
              0.6666666666666666,
              "#ed7953"
             ],
             [
              0.7777777777777778,
              "#fb9f3a"
             ],
             [
              0.8888888888888888,
              "#fdca26"
             ],
             [
              1,
              "#f0f921"
             ]
            ],
            "type": "heatmapgl"
           }
          ],
          "histogram": [
           {
            "marker": {
             "pattern": {
              "fillmode": "overlay",
              "size": 10,
              "solidity": 0.2
             }
            },
            "type": "histogram"
           }
          ],
          "histogram2d": [
           {
            "colorbar": {
             "outlinewidth": 0,
             "ticks": ""
            },
            "colorscale": [
             [
              0,
              "#0d0887"
             ],
             [
              0.1111111111111111,
              "#46039f"
             ],
             [
              0.2222222222222222,
              "#7201a8"
             ],
             [
              0.3333333333333333,
              "#9c179e"
             ],
             [
              0.4444444444444444,
              "#bd3786"
             ],
             [
              0.5555555555555556,
              "#d8576b"
             ],
             [
              0.6666666666666666,
              "#ed7953"
             ],
             [
              0.7777777777777778,
              "#fb9f3a"
             ],
             [
              0.8888888888888888,
              "#fdca26"
             ],
             [
              1,
              "#f0f921"
             ]
            ],
            "type": "histogram2d"
           }
          ],
          "histogram2dcontour": [
           {
            "colorbar": {
             "outlinewidth": 0,
             "ticks": ""
            },
            "colorscale": [
             [
              0,
              "#0d0887"
             ],
             [
              0.1111111111111111,
              "#46039f"
             ],
             [
              0.2222222222222222,
              "#7201a8"
             ],
             [
              0.3333333333333333,
              "#9c179e"
             ],
             [
              0.4444444444444444,
              "#bd3786"
             ],
             [
              0.5555555555555556,
              "#d8576b"
             ],
             [
              0.6666666666666666,
              "#ed7953"
             ],
             [
              0.7777777777777778,
              "#fb9f3a"
             ],
             [
              0.8888888888888888,
              "#fdca26"
             ],
             [
              1,
              "#f0f921"
             ]
            ],
            "type": "histogram2dcontour"
           }
          ],
          "mesh3d": [
           {
            "colorbar": {
             "outlinewidth": 0,
             "ticks": ""
            },
            "type": "mesh3d"
           }
          ],
          "parcoords": [
           {
            "line": {
             "colorbar": {
              "outlinewidth": 0,
              "ticks": ""
             }
            },
            "type": "parcoords"
           }
          ],
          "pie": [
           {
            "automargin": true,
            "type": "pie"
           }
          ],
          "scatter": [
           {
            "fillpattern": {
             "fillmode": "overlay",
             "size": 10,
             "solidity": 0.2
            },
            "type": "scatter"
           }
          ],
          "scatter3d": [
           {
            "line": {
             "colorbar": {
              "outlinewidth": 0,
              "ticks": ""
             }
            },
            "marker": {
             "colorbar": {
              "outlinewidth": 0,
              "ticks": ""
             }
            },
            "type": "scatter3d"
           }
          ],
          "scattercarpet": [
           {
            "marker": {
             "colorbar": {
              "outlinewidth": 0,
              "ticks": ""
             }
            },
            "type": "scattercarpet"
           }
          ],
          "scattergeo": [
           {
            "marker": {
             "colorbar": {
              "outlinewidth": 0,
              "ticks": ""
             }
            },
            "type": "scattergeo"
           }
          ],
          "scattergl": [
           {
            "marker": {
             "colorbar": {
              "outlinewidth": 0,
              "ticks": ""
             }
            },
            "type": "scattergl"
           }
          ],
          "scattermapbox": [
           {
            "marker": {
             "colorbar": {
              "outlinewidth": 0,
              "ticks": ""
             }
            },
            "type": "scattermapbox"
           }
          ],
          "scatterpolar": [
           {
            "marker": {
             "colorbar": {
              "outlinewidth": 0,
              "ticks": ""
             }
            },
            "type": "scatterpolar"
           }
          ],
          "scatterpolargl": [
           {
            "marker": {
             "colorbar": {
              "outlinewidth": 0,
              "ticks": ""
             }
            },
            "type": "scatterpolargl"
           }
          ],
          "scatterternary": [
           {
            "marker": {
             "colorbar": {
              "outlinewidth": 0,
              "ticks": ""
             }
            },
            "type": "scatterternary"
           }
          ],
          "surface": [
           {
            "colorbar": {
             "outlinewidth": 0,
             "ticks": ""
            },
            "colorscale": [
             [
              0,
              "#0d0887"
             ],
             [
              0.1111111111111111,
              "#46039f"
             ],
             [
              0.2222222222222222,
              "#7201a8"
             ],
             [
              0.3333333333333333,
              "#9c179e"
             ],
             [
              0.4444444444444444,
              "#bd3786"
             ],
             [
              0.5555555555555556,
              "#d8576b"
             ],
             [
              0.6666666666666666,
              "#ed7953"
             ],
             [
              0.7777777777777778,
              "#fb9f3a"
             ],
             [
              0.8888888888888888,
              "#fdca26"
             ],
             [
              1,
              "#f0f921"
             ]
            ],
            "type": "surface"
           }
          ],
          "table": [
           {
            "cells": {
             "fill": {
              "color": "#EBF0F8"
             },
             "line": {
              "color": "white"
             }
            },
            "header": {
             "fill": {
              "color": "#C8D4E3"
             },
             "line": {
              "color": "white"
             }
            },
            "type": "table"
           }
          ]
         },
         "layout": {
          "annotationdefaults": {
           "arrowcolor": "#2a3f5f",
           "arrowhead": 0,
           "arrowwidth": 1
          },
          "autotypenumbers": "strict",
          "coloraxis": {
           "colorbar": {
            "outlinewidth": 0,
            "ticks": ""
           }
          },
          "colorscale": {
           "diverging": [
            [
             0,
             "#8e0152"
            ],
            [
             0.1,
             "#c51b7d"
            ],
            [
             0.2,
             "#de77ae"
            ],
            [
             0.3,
             "#f1b6da"
            ],
            [
             0.4,
             "#fde0ef"
            ],
            [
             0.5,
             "#f7f7f7"
            ],
            [
             0.6,
             "#e6f5d0"
            ],
            [
             0.7,
             "#b8e186"
            ],
            [
             0.8,
             "#7fbc41"
            ],
            [
             0.9,
             "#4d9221"
            ],
            [
             1,
             "#276419"
            ]
           ],
           "sequential": [
            [
             0,
             "#0d0887"
            ],
            [
             0.1111111111111111,
             "#46039f"
            ],
            [
             0.2222222222222222,
             "#7201a8"
            ],
            [
             0.3333333333333333,
             "#9c179e"
            ],
            [
             0.4444444444444444,
             "#bd3786"
            ],
            [
             0.5555555555555556,
             "#d8576b"
            ],
            [
             0.6666666666666666,
             "#ed7953"
            ],
            [
             0.7777777777777778,
             "#fb9f3a"
            ],
            [
             0.8888888888888888,
             "#fdca26"
            ],
            [
             1,
             "#f0f921"
            ]
           ],
           "sequentialminus": [
            [
             0,
             "#0d0887"
            ],
            [
             0.1111111111111111,
             "#46039f"
            ],
            [
             0.2222222222222222,
             "#7201a8"
            ],
            [
             0.3333333333333333,
             "#9c179e"
            ],
            [
             0.4444444444444444,
             "#bd3786"
            ],
            [
             0.5555555555555556,
             "#d8576b"
            ],
            [
             0.6666666666666666,
             "#ed7953"
            ],
            [
             0.7777777777777778,
             "#fb9f3a"
            ],
            [
             0.8888888888888888,
             "#fdca26"
            ],
            [
             1,
             "#f0f921"
            ]
           ]
          },
          "colorway": [
           "#636efa",
           "#EF553B",
           "#00cc96",
           "#ab63fa",
           "#FFA15A",
           "#19d3f3",
           "#FF6692",
           "#B6E880",
           "#FF97FF",
           "#FECB52"
          ],
          "font": {
           "color": "#2a3f5f"
          },
          "geo": {
           "bgcolor": "white",
           "lakecolor": "white",
           "landcolor": "#E5ECF6",
           "showlakes": true,
           "showland": true,
           "subunitcolor": "white"
          },
          "hoverlabel": {
           "align": "left"
          },
          "hovermode": "closest",
          "mapbox": {
           "style": "light"
          },
          "paper_bgcolor": "white",
          "plot_bgcolor": "#E5ECF6",
          "polar": {
           "angularaxis": {
            "gridcolor": "white",
            "linecolor": "white",
            "ticks": ""
           },
           "bgcolor": "#E5ECF6",
           "radialaxis": {
            "gridcolor": "white",
            "linecolor": "white",
            "ticks": ""
           }
          },
          "scene": {
           "xaxis": {
            "backgroundcolor": "#E5ECF6",
            "gridcolor": "white",
            "gridwidth": 2,
            "linecolor": "white",
            "showbackground": true,
            "ticks": "",
            "zerolinecolor": "white"
           },
           "yaxis": {
            "backgroundcolor": "#E5ECF6",
            "gridcolor": "white",
            "gridwidth": 2,
            "linecolor": "white",
            "showbackground": true,
            "ticks": "",
            "zerolinecolor": "white"
           },
           "zaxis": {
            "backgroundcolor": "#E5ECF6",
            "gridcolor": "white",
            "gridwidth": 2,
            "linecolor": "white",
            "showbackground": true,
            "ticks": "",
            "zerolinecolor": "white"
           }
          },
          "shapedefaults": {
           "line": {
            "color": "#2a3f5f"
           }
          },
          "ternary": {
           "aaxis": {
            "gridcolor": "white",
            "linecolor": "white",
            "ticks": ""
           },
           "baxis": {
            "gridcolor": "white",
            "linecolor": "white",
            "ticks": ""
           },
           "bgcolor": "#E5ECF6",
           "caxis": {
            "gridcolor": "white",
            "linecolor": "white",
            "ticks": ""
           }
          },
          "title": {
           "x": 0.05
          },
          "xaxis": {
           "automargin": true,
           "gridcolor": "white",
           "linecolor": "white",
           "ticks": "",
           "title": {
            "standoff": 15
           },
           "zerolinecolor": "white",
           "zerolinewidth": 2
          },
          "yaxis": {
           "automargin": true,
           "gridcolor": "white",
           "linecolor": "white",
           "ticks": "",
           "title": {
            "standoff": 15
           },
           "zerolinecolor": "white",
           "zerolinewidth": 2
          }
         }
        },
        "title": {
         "text": "Hyperopt XGBoost Regressor"
        },
        "width": 700,
        "xaxis": {
         "anchor": "y",
         "domain": [
          0,
          1
         ],
         "title": {
          "text": "Actual y"
         }
        },
        "yaxis": {
         "anchor": "x",
         "domain": [
          0,
          1
         ],
         "title": {
          "text": "Predicted y"
         }
        }
       }
      }
     },
     "metadata": {},
     "output_type": "display_data"
    }
   ],
   "source": [
    "model = HyperoptEstimator(\n",
    "    regressor=xgboost_regression('XGBR'),\n",
    "    preprocessing=[],\n",
    "    algo=tpe.suggest,\n",
    "    max_evals=10,\n",
    "    n_jobs=-1,\n",
    "    seed=random_state)\n",
    "model.fit(X_train, y_train)\n",
    "\n",
    "simulate(model, XXyy, 'Hyperopt XGBoost Regressor')"
   ]
  },
  {
   "attachments": {},
   "cell_type": "markdown",
   "metadata": {},
   "source": [
    "From the optimization results above, we can see that achieving ~45 RMSE, ~0.87 $R^2$ is the best result we can get."
   ]
  },
  {
   "attachments": {},
   "cell_type": "markdown",
   "metadata": {},
   "source": [
    "From the plots and the RMSE, $R^2$ values, we can see that the prediction runs well when $0 \\leq price \\leq 300$ and as price prediction is less accurate when $300 < price$. One reason for higher prices listing to be inaccurate would be that any speciality of the house, like renovation, is only observable through listing picture and cannot be analyzed numerically or categorically. Further improvements can be made if we attempt to anaylze listing description using sentiment analysis etc."
   ]
  },
  {
   "cell_type": "code",
   "execution_count": 82,
   "metadata": {},
   "outputs": [],
   "source": [
    "# Save for analysis\n",
    "pd.DataFrame(result).to_csv('data/model_results.csv')"
   ]
  },
  {
   "cell_type": "code",
   "execution_count": 83,
   "metadata": {},
   "outputs": [],
   "source": [
    "observartion = pd.read_csv('data/model_results.csv', index_col=0)\n",
    "obs_RMSE = observartion.sort_values(by='Test RMSE', ascending=False)\n",
    "obs_R2 = observartion.sort_values(by='Test R2')"
   ]
  },
  {
   "cell_type": "code",
   "execution_count": 84,
   "metadata": {},
   "outputs": [
    {
     "data": {
      "image/svg+xml": [
       "<svg class=\"main-svg\" xmlns=\"http://www.w3.org/2000/svg\" xmlns:xlink=\"http://www.w3.org/1999/xlink\" width=\"700\" height=\"500\" style=\"\" viewBox=\"0 0 700 500\"><rect x=\"0\" y=\"0\" width=\"700\" height=\"500\" style=\"fill: rgb(255, 255, 255); fill-opacity: 1;\"/><defs id=\"defs-79eebc\"><g class=\"clips\"><clipPath id=\"clip79eebcxyplot\" class=\"plotclip\"><rect width=\"484\" height=\"238\"/></clipPath><clipPath class=\"axesclip\" id=\"clip79eebcx\"><rect x=\"80\" y=\"0\" width=\"484\" height=\"500\"/></clipPath><clipPath class=\"axesclip\" id=\"clip79eebcy\"><rect x=\"0\" y=\"100\" width=\"700\" height=\"238\"/></clipPath><clipPath class=\"axesclip\" id=\"clip79eebcxy\"><rect x=\"80\" y=\"100\" width=\"484\" height=\"238\"/></clipPath></g><g class=\"gradients\"/><g class=\"patterns\"/></defs><g class=\"bglayer\"><rect class=\"bg\" x=\"80\" y=\"100\" width=\"484\" height=\"238\" style=\"fill: rgb(229, 236, 246); fill-opacity: 1; stroke-width: 0;\"/></g><g class=\"layer-below\"><g class=\"imagelayer\"/><g class=\"shapelayer\"/></g><g class=\"cartesianlayer\"><g class=\"subplot xy\"><g class=\"layer-subplot\"><g class=\"shapelayer\"/><g class=\"imagelayer\"/></g><g class=\"minor-gridlayer\"><g class=\"x\"/><g class=\"y\"/></g><g class=\"gridlayer\"><g class=\"x\"/><g class=\"y\"><path class=\"ygrid crisp\" transform=\"translate(0,286.73)\" d=\"M80,0h484\" style=\"stroke: rgb(255, 255, 255); stroke-opacity: 1; stroke-width: 1px;\"/><path class=\"ygrid crisp\" transform=\"translate(0,235.45)\" d=\"M80,0h484\" style=\"stroke: rgb(255, 255, 255); stroke-opacity: 1; stroke-width: 1px;\"/><path class=\"ygrid crisp\" transform=\"translate(0,184.18)\" d=\"M80,0h484\" style=\"stroke: rgb(255, 255, 255); stroke-opacity: 1; stroke-width: 1px;\"/><path class=\"ygrid crisp\" transform=\"translate(0,132.91)\" d=\"M80,0h484\" style=\"stroke: rgb(255, 255, 255); stroke-opacity: 1; stroke-width: 1px;\"/></g></g><g class=\"zerolinelayer\"><path class=\"yzl zl crisp\" transform=\"translate(0,338)\" d=\"M80,0h484\" style=\"stroke: rgb(255, 255, 255); stroke-opacity: 1; stroke-width: 2px;\"/></g><path class=\"xlines-below\"/><path class=\"ylines-below\"/><g class=\"overlines-below\"/><g class=\"xaxislayer-below\"/><g class=\"yaxislayer-below\"/><g class=\"overaxes-below\"/><g class=\"plot\" transform=\"translate(80,100)\" clip-path=\"url(#clip79eebcxyplot)\"><g class=\"barlayer mlayer\"><g class=\"trace bars\" style=\"opacity: 1;\"><g class=\"points\"><g class=\"point\"><path d=\"M6.05,238V11.9H30.25V238Z\" style=\"vector-effect: non-scaling-stroke; opacity: 1; stroke-width: 0.5px; fill: rgb(99, 110, 250); fill-opacity: 1; stroke: rgb(229, 236, 246); stroke-opacity: 1;\"/></g><g class=\"point\"><path d=\"M66.55,238V68.86H90.75V238Z\" style=\"vector-effect: non-scaling-stroke; opacity: 1; stroke-width: 0.5px; fill: rgb(99, 110, 250); fill-opacity: 1; stroke: rgb(229, 236, 246); stroke-opacity: 1;\"/></g><g class=\"point\"><path d=\"M127.05,238V143.05H151.25V238Z\" style=\"vector-effect: non-scaling-stroke; opacity: 1; stroke-width: 0.5px; fill: rgb(99, 110, 250); fill-opacity: 1; stroke: rgb(229, 236, 246); stroke-opacity: 1;\"/></g><g class=\"point\"><path d=\"M187.55,238V211.49H211.75V238Z\" style=\"vector-effect: non-scaling-stroke; opacity: 1; stroke-width: 0.5px; fill: rgb(99, 110, 250); fill-opacity: 1; stroke: rgb(229, 236, 246); stroke-opacity: 1;\"/></g><g class=\"point\"><path d=\"M248.05,238V234.28H272.25V238Z\" style=\"vector-effect: non-scaling-stroke; opacity: 1; stroke-width: 0.5px; fill: rgb(99, 110, 250); fill-opacity: 1; stroke: rgb(229, 236, 246); stroke-opacity: 1;\"/></g><g class=\"point\"><path d=\"M308.55,238V159.77H332.75V238Z\" style=\"vector-effect: non-scaling-stroke; opacity: 1; stroke-width: 0.5px; fill: rgb(99, 110, 250); fill-opacity: 1; stroke: rgb(229, 236, 246); stroke-opacity: 1;\"/></g><g class=\"point\"><path d=\"M369.05,238V208.6H393.25V238Z\" style=\"vector-effect: non-scaling-stroke; opacity: 1; stroke-width: 0.5px; fill: rgb(99, 110, 250); fill-opacity: 1; stroke: rgb(229, 236, 246); stroke-opacity: 1;\"/></g><g class=\"point\"><path d=\"M429.55,238V237.2H453.75V238Z\" style=\"vector-effect: non-scaling-stroke; opacity: 1; stroke-width: 0.5px; fill: rgb(99, 110, 250); fill-opacity: 1; stroke: rgb(229, 236, 246); stroke-opacity: 1;\"/></g></g></g><g class=\"trace bars\" style=\"opacity: 1;\"><g class=\"points\"><g class=\"point\"><path d=\"M30.25,238V24.48H54.45V238Z\" style=\"vector-effect: non-scaling-stroke; opacity: 1; stroke-width: 0.5px; fill: rgb(239, 85, 59); fill-opacity: 1; stroke: rgb(229, 236, 246); stroke-opacity: 1;\"/></g><g class=\"point\"><path d=\"M90.75,238V58.6H114.95V238Z\" style=\"vector-effect: non-scaling-stroke; opacity: 1; stroke-width: 0.5px; fill: rgb(239, 85, 59); fill-opacity: 1; stroke: rgb(229, 236, 246); stroke-opacity: 1;\"/></g><g class=\"point\"><path d=\"M151.25,238V106.07H175.45V238Z\" style=\"vector-effect: non-scaling-stroke; opacity: 1; stroke-width: 0.5px; fill: rgb(239, 85, 59); fill-opacity: 1; stroke: rgb(229, 236, 246); stroke-opacity: 1;\"/></g><g class=\"point\"><path d=\"M211.75,238V108.73H235.95V238Z\" style=\"vector-effect: non-scaling-stroke; opacity: 1; stroke-width: 0.5px; fill: rgb(239, 85, 59); fill-opacity: 1; stroke: rgb(229, 236, 246); stroke-opacity: 1;\"/></g><g class=\"point\"><path d=\"M272.25,238V110.62H296.45V238Z\" style=\"vector-effect: non-scaling-stroke; opacity: 1; stroke-width: 0.5px; fill: rgb(239, 85, 59); fill-opacity: 1; stroke: rgb(229, 236, 246); stroke-opacity: 1;\"/></g><g class=\"point\"><path d=\"M332.75,238V113.47H356.95V238Z\" style=\"vector-effect: non-scaling-stroke; opacity: 1; stroke-width: 0.5px; fill: rgb(239, 85, 59); fill-opacity: 1; stroke: rgb(229, 236, 246); stroke-opacity: 1;\"/></g><g class=\"point\"><path d=\"M393.25,238V115.31H417.45V238Z\" style=\"vector-effect: non-scaling-stroke; opacity: 1; stroke-width: 0.5px; fill: rgb(239, 85, 59); fill-opacity: 1; stroke: rgb(229, 236, 246); stroke-opacity: 1;\"/></g><g class=\"point\"><path d=\"M453.75,238V116.51H477.95V238Z\" style=\"vector-effect: non-scaling-stroke; opacity: 1; stroke-width: 0.5px; fill: rgb(239, 85, 59); fill-opacity: 1; stroke: rgb(229, 236, 246); stroke-opacity: 1;\"/></g></g></g></g></g><g class=\"overplot\"/><path class=\"xlines-above crisp\" d=\"M0,0\" style=\"fill: none;\"/><path class=\"ylines-above crisp\" d=\"M0,0\" style=\"fill: none;\"/><g class=\"overlines-above\"/><g class=\"xaxislayer-above\"><g class=\"xtick\"><text text-anchor=\"start\" x=\"0\" y=\"351\" transform=\"translate(110.25,0) rotate(30,0,345)\" style=\"font-family: 'Open Sans', verdana, arial, sans-serif; font-size: 12px; fill: rgb(42, 63, 95); fill-opacity: 1; white-space: pre; opacity: 1;\">Linear Regression</text></g><g class=\"xtick\"><text text-anchor=\"start\" x=\"0\" y=\"351\" transform=\"translate(170.75,0) rotate(30,0,345)\" style=\"font-family: 'Open Sans', verdana, arial, sans-serif; font-size: 12px; fill: rgb(42, 63, 95); fill-opacity: 1; white-space: pre; opacity: 1;\">MLP Regressor</text></g><g class=\"xtick\"><text text-anchor=\"start\" x=\"0\" y=\"351\" transform=\"translate(231.25,0) rotate(30,0,345)\" style=\"font-family: 'Open Sans', verdana, arial, sans-serif; font-size: 12px; fill: rgb(42, 63, 95); fill-opacity: 1; white-space: pre; opacity: 1;\">Hyperopt Gradient Boost Regressor</text></g><g class=\"xtick\"><text text-anchor=\"start\" x=\"0\" y=\"351\" transform=\"translate(291.75,0) rotate(30,0,345)\" style=\"font-family: 'Open Sans', verdana, arial, sans-serif; font-size: 12px; fill: rgb(42, 63, 95); fill-opacity: 1; white-space: pre; opacity: 1;\">XGBoost Regressor</text></g><g class=\"xtick\"><text text-anchor=\"start\" x=\"0\" y=\"351\" transform=\"translate(352.25,0) rotate(30,0,345)\" style=\"font-family: 'Open Sans', verdana, arial, sans-serif; font-size: 12px; fill: rgb(42, 63, 95); fill-opacity: 1; white-space: pre; opacity: 1;\">Gradient Boost Regressor</text></g><g class=\"xtick\"><text text-anchor=\"start\" x=\"0\" y=\"351\" transform=\"translate(412.75,0) rotate(30,0,345)\" style=\"font-family: 'Open Sans', verdana, arial, sans-serif; font-size: 12px; fill: rgb(42, 63, 95); fill-opacity: 1; white-space: pre; opacity: 1;\">RandomSearch CV Gradient Boost Regressor</text></g><g class=\"xtick\"><text text-anchor=\"start\" x=\"0\" y=\"351\" transform=\"translate(473.25,0) rotate(30,0,345)\" style=\"font-family: 'Open Sans', verdana, arial, sans-serif; font-size: 12px; fill: rgb(42, 63, 95); fill-opacity: 1; white-space: pre; opacity: 1;\">GridSearch CV XGBoost Regressor</text></g><g class=\"xtick\"><text text-anchor=\"start\" x=\"0\" y=\"351\" transform=\"translate(533.75,0) rotate(30,0,345)\" style=\"font-family: 'Open Sans', verdana, arial, sans-serif; font-size: 12px; fill: rgb(42, 63, 95); fill-opacity: 1; white-space: pre; opacity: 1;\">Hyperopt XGBoost Regressor</text></g></g><g class=\"yaxislayer-above\"><g class=\"ytick\"><text text-anchor=\"end\" x=\"79\" y=\"4.199999999999999\" transform=\"translate(0,338)\" style=\"font-family: 'Open Sans', verdana, arial, sans-serif; font-size: 12px; fill: rgb(42, 63, 95); fill-opacity: 1; white-space: pre; opacity: 1;\">0</text></g><g class=\"ytick\"><text text-anchor=\"end\" x=\"79\" y=\"4.199999999999999\" style=\"font-family: 'Open Sans', verdana, arial, sans-serif; font-size: 12px; fill: rgb(42, 63, 95); fill-opacity: 1; white-space: pre; opacity: 1;\" transform=\"translate(0,286.73)\">20</text></g><g class=\"ytick\"><text text-anchor=\"end\" x=\"79\" y=\"4.199999999999999\" style=\"font-family: 'Open Sans', verdana, arial, sans-serif; font-size: 12px; fill: rgb(42, 63, 95); fill-opacity: 1; white-space: pre; opacity: 1;\" transform=\"translate(0,235.45)\">40</text></g><g class=\"ytick\"><text text-anchor=\"end\" x=\"79\" y=\"4.199999999999999\" style=\"font-family: 'Open Sans', verdana, arial, sans-serif; font-size: 12px; fill: rgb(42, 63, 95); fill-opacity: 1; white-space: pre; opacity: 1;\" transform=\"translate(0,184.18)\">60</text></g><g class=\"ytick\"><text text-anchor=\"end\" x=\"79\" y=\"4.199999999999999\" style=\"font-family: 'Open Sans', verdana, arial, sans-serif; font-size: 12px; fill: rgb(42, 63, 95); fill-opacity: 1; white-space: pre; opacity: 1;\" transform=\"translate(0,132.91)\">80</text></g></g><g class=\"overaxes-above\"/></g></g><g class=\"polarlayer\"/><g class=\"smithlayer\"/><g class=\"ternarylayer\"/><g class=\"geolayer\"/><g class=\"funnelarealayer\"/><g class=\"pielayer\"/><g class=\"iciclelayer\"/><g class=\"treemaplayer\"/><g class=\"sunburstlayer\"/><g class=\"glimages\"/><defs id=\"topdefs-79eebc\"><g class=\"clips\"/><clipPath id=\"legend79eebc\"><rect width=\"76\" height=\"48\" x=\"0\" y=\"0\"/></clipPath></defs><g class=\"layer-above\"><g class=\"imagelayer\"/><g class=\"shapelayer\"/></g><g class=\"infolayer\"><g class=\"legend\" pointer-events=\"all\" transform=\"translate(573.6800000000001,100)\"><rect class=\"bg\" shape-rendering=\"crispEdges\" width=\"76\" height=\"48\" x=\"0\" y=\"0\" style=\"stroke: rgb(68, 68, 68); stroke-opacity: 1; fill: rgb(255, 255, 255); fill-opacity: 1; stroke-width: 0px;\"/><g class=\"scrollbox\" transform=\"\" clip-path=\"url(#legend79eebc)\"><g class=\"groups\"><g class=\"traces\" transform=\"translate(0,14.5)\" style=\"opacity: 1;\"><text class=\"legendtext\" text-anchor=\"start\" x=\"40\" y=\"4.680000000000001\" style=\"font-family: 'Open Sans', verdana, arial, sans-serif; font-size: 12px; fill: rgb(42, 63, 95); fill-opacity: 1; white-space: pre;\">Train</text><g class=\"layers\" style=\"opacity: 1;\"><g class=\"legendfill\"/><g class=\"legendlines\"/><g class=\"legendsymbols\"><g class=\"legendpoints\"><path class=\"legendundefined\" d=\"M6,6H-6V-6H6Z\" transform=\"translate(20,0)\" style=\"stroke-width: 0.5px; fill: rgb(99, 110, 250); fill-opacity: 1; stroke: rgb(229, 236, 246); stroke-opacity: 1;\"/></g></g></g><rect class=\"legendtoggle\" x=\"0\" y=\"-9.5\" width=\"70.609375\" height=\"19\" style=\"fill: rgb(0, 0, 0); fill-opacity: 0;\"/></g><g class=\"traces\" transform=\"translate(0,33.5)\" style=\"opacity: 1;\"><text class=\"legendtext\" text-anchor=\"start\" x=\"40\" y=\"4.680000000000001\" style=\"font-family: 'Open Sans', verdana, arial, sans-serif; font-size: 12px; fill: rgb(42, 63, 95); fill-opacity: 1; white-space: pre;\">Test</text><g class=\"layers\" style=\"opacity: 1;\"><g class=\"legendfill\"/><g class=\"legendlines\"/><g class=\"legendsymbols\"><g class=\"legendpoints\"><path class=\"legendundefined\" d=\"M6,6H-6V-6H6Z\" transform=\"translate(20,0)\" style=\"stroke-width: 0.5px; fill: rgb(239, 85, 59); fill-opacity: 1; stroke: rgb(229, 236, 246); stroke-opacity: 1;\"/></g></g></g><rect class=\"legendtoggle\" x=\"0\" y=\"-9.5\" width=\"70.609375\" height=\"19\" style=\"fill: rgb(0, 0, 0); fill-opacity: 0;\"/></g></g></g><rect class=\"scrollbar\" rx=\"20\" ry=\"3\" width=\"0\" height=\"0\" x=\"0\" y=\"0\" style=\"fill: rgb(128, 139, 164); fill-opacity: 1;\"/></g><g class=\"g-gtitle\"><text class=\"gtitle\" x=\"35\" y=\"50\" text-anchor=\"start\" dy=\"0em\" style=\"font-family: 'Open Sans', verdana, arial, sans-serif; font-size: 17px; fill: rgb(42, 63, 95); opacity: 1; font-weight: normal; white-space: pre;\">Root Mean Square Error sorted by Test Data</text></g><g class=\"g-xtitle\"/><g class=\"g-ytitle\"/></g></svg>"
      ]
     },
     "metadata": {},
     "output_type": "display_data"
    },
    {
     "data": {
      "image/svg+xml": [
       "<svg class=\"main-svg\" xmlns=\"http://www.w3.org/2000/svg\" xmlns:xlink=\"http://www.w3.org/1999/xlink\" width=\"700\" height=\"500\" style=\"\" viewBox=\"0 0 700 500\"><rect x=\"0\" y=\"0\" width=\"700\" height=\"500\" style=\"fill: rgb(255, 255, 255); fill-opacity: 1;\"/><defs id=\"defs-daa6cb\"><g class=\"clips\"><clipPath id=\"clipdaa6cbxyplot\" class=\"plotclip\"><rect width=\"484\" height=\"238\"/></clipPath><clipPath class=\"axesclip\" id=\"clipdaa6cbx\"><rect x=\"80\" y=\"0\" width=\"484\" height=\"500\"/></clipPath><clipPath class=\"axesclip\" id=\"clipdaa6cby\"><rect x=\"0\" y=\"100\" width=\"700\" height=\"238\"/></clipPath><clipPath class=\"axesclip\" id=\"clipdaa6cbxy\"><rect x=\"80\" y=\"100\" width=\"484\" height=\"238\"/></clipPath></g><g class=\"gradients\"/><g class=\"patterns\"/></defs><g class=\"bglayer\"><rect class=\"bg\" x=\"80\" y=\"100\" width=\"484\" height=\"238\" style=\"fill: rgb(229, 236, 246); fill-opacity: 1; stroke-width: 0;\"/></g><g class=\"layer-below\"><g class=\"imagelayer\"/><g class=\"shapelayer\"/></g><g class=\"cartesianlayer\"><g class=\"subplot xy\"><g class=\"layer-subplot\"><g class=\"shapelayer\"/><g class=\"imagelayer\"/></g><g class=\"minor-gridlayer\"><g class=\"x\"/><g class=\"y\"/></g><g class=\"gridlayer\"><g class=\"x\"/><g class=\"y\"><path class=\"ygrid crisp\" transform=\"translate(0,292.78)\" d=\"M80,0h484\" style=\"stroke: rgb(255, 255, 255); stroke-opacity: 1; stroke-width: 1px;\"/><path class=\"ygrid crisp\" transform=\"translate(0,247.56)\" d=\"M80,0h484\" style=\"stroke: rgb(255, 255, 255); stroke-opacity: 1; stroke-width: 1px;\"/><path class=\"ygrid crisp\" transform=\"translate(0,202.34)\" d=\"M80,0h484\" style=\"stroke: rgb(255, 255, 255); stroke-opacity: 1; stroke-width: 1px;\"/><path class=\"ygrid crisp\" transform=\"translate(0,157.12)\" d=\"M80,0h484\" style=\"stroke: rgb(255, 255, 255); stroke-opacity: 1; stroke-width: 1px;\"/><path class=\"ygrid crisp\" transform=\"translate(0,111.9)\" d=\"M80,0h484\" style=\"stroke: rgb(255, 255, 255); stroke-opacity: 1; stroke-width: 1px;\"/></g></g><g class=\"zerolinelayer\"><path class=\"yzl zl crisp\" transform=\"translate(0,338)\" d=\"M80,0h484\" style=\"stroke: rgb(255, 255, 255); stroke-opacity: 1; stroke-width: 2px;\"/></g><path class=\"xlines-below\"/><path class=\"ylines-below\"/><g class=\"overlines-below\"/><g class=\"xaxislayer-below\"/><g class=\"yaxislayer-below\"/><g class=\"overaxes-below\"/><g class=\"plot\" transform=\"translate(80,100)\" clip-path=\"url(#clipdaa6cbxyplot)\"><g class=\"barlayer mlayer\"><g class=\"trace bars\" style=\"opacity: 1;\"><g class=\"points\"><g class=\"point\"><path d=\"M6.05,238V110.96H30.25V238Z\" style=\"vector-effect: non-scaling-stroke; opacity: 1; stroke-width: 0.5px; fill: rgb(99, 110, 250); fill-opacity: 1; stroke: rgb(229, 236, 246); stroke-opacity: 1;\"/></g><g class=\"point\"><path d=\"M66.55,238V67.34H90.75V238Z\" style=\"vector-effect: non-scaling-stroke; opacity: 1; stroke-width: 0.5px; fill: rgb(99, 110, 250); fill-opacity: 1; stroke: rgb(229, 236, 246); stroke-opacity: 1;\"/></g><g class=\"point\"><path d=\"M127.05,238V29.37H151.25V238Z\" style=\"vector-effect: non-scaling-stroke; opacity: 1; stroke-width: 0.5px; fill: rgb(99, 110, 250); fill-opacity: 1; stroke: rgb(229, 236, 246); stroke-opacity: 1;\"/></g><g class=\"point\"><path d=\"M187.55,238V13.26H211.75V238Z\" style=\"vector-effect: non-scaling-stroke; opacity: 1; stroke-width: 0.5px; fill: rgb(99, 110, 250); fill-opacity: 1; stroke: rgb(229, 236, 246); stroke-opacity: 1;\"/></g><g class=\"point\"><path d=\"M248.05,238V11.93H272.25V238Z\" style=\"vector-effect: non-scaling-stroke; opacity: 1; stroke-width: 0.5px; fill: rgb(99, 110, 250); fill-opacity: 1; stroke: rgb(229, 236, 246); stroke-opacity: 1;\"/></g><g class=\"point\"><path d=\"M308.55,238V23.76H332.75V238Z\" style=\"vector-effect: non-scaling-stroke; opacity: 1; stroke-width: 0.5px; fill: rgb(99, 110, 250); fill-opacity: 1; stroke: rgb(229, 236, 246); stroke-opacity: 1;\"/></g><g class=\"point\"><path d=\"M369.05,238V13.57H393.25V238Z\" style=\"vector-effect: non-scaling-stroke; opacity: 1; stroke-width: 0.5px; fill: rgb(99, 110, 250); fill-opacity: 1; stroke: rgb(229, 236, 246); stroke-opacity: 1;\"/></g><g class=\"point\"><path d=\"M429.55,238V11.9H453.75V238Z\" style=\"vector-effect: non-scaling-stroke; opacity: 1; stroke-width: 0.5px; fill: rgb(99, 110, 250); fill-opacity: 1; stroke: rgb(229, 236, 246); stroke-opacity: 1;\"/></g></g></g><g class=\"trace bars\" style=\"opacity: 1;\"><g class=\"points\"><g class=\"point\"><path d=\"M30.25,238V107.17H54.45V238Z\" style=\"vector-effect: non-scaling-stroke; opacity: 1; stroke-width: 0.5px; fill: rgb(239, 85, 59); fill-opacity: 1; stroke: rgb(229, 236, 246); stroke-opacity: 1;\"/></g><g class=\"point\"><path d=\"M90.75,238V79.15H114.95V238Z\" style=\"vector-effect: non-scaling-stroke; opacity: 1; stroke-width: 0.5px; fill: rgb(239, 85, 59); fill-opacity: 1; stroke: rgb(229, 236, 246); stroke-opacity: 1;\"/></g><g class=\"point\"><path d=\"M151.25,238V48.27H175.45V238Z\" style=\"vector-effect: non-scaling-stroke; opacity: 1; stroke-width: 0.5px; fill: rgb(239, 85, 59); fill-opacity: 1; stroke: rgb(229, 236, 246); stroke-opacity: 1;\"/></g><g class=\"point\"><path d=\"M211.75,238V46.82H235.95V238Z\" style=\"vector-effect: non-scaling-stroke; opacity: 1; stroke-width: 0.5px; fill: rgb(239, 85, 59); fill-opacity: 1; stroke: rgb(229, 236, 246); stroke-opacity: 1;\"/></g><g class=\"point\"><path d=\"M272.25,238V45.81H296.45V238Z\" style=\"vector-effect: non-scaling-stroke; opacity: 1; stroke-width: 0.5px; fill: rgb(239, 85, 59); fill-opacity: 1; stroke: rgb(229, 236, 246); stroke-opacity: 1;\"/></g><g class=\"point\"><path d=\"M332.75,238V44.3H356.95V238Z\" style=\"vector-effect: non-scaling-stroke; opacity: 1; stroke-width: 0.5px; fill: rgb(239, 85, 59); fill-opacity: 1; stroke: rgb(229, 236, 246); stroke-opacity: 1;\"/></g><g class=\"point\"><path d=\"M393.25,238V43.35H417.45V238Z\" style=\"vector-effect: non-scaling-stroke; opacity: 1; stroke-width: 0.5px; fill: rgb(239, 85, 59); fill-opacity: 1; stroke: rgb(229, 236, 246); stroke-opacity: 1;\"/></g><g class=\"point\"><path d=\"M453.75,238V42.74H477.95V238Z\" style=\"vector-effect: non-scaling-stroke; opacity: 1; stroke-width: 0.5px; fill: rgb(239, 85, 59); fill-opacity: 1; stroke: rgb(229, 236, 246); stroke-opacity: 1;\"/></g></g></g></g></g><g class=\"overplot\"/><path class=\"xlines-above crisp\" d=\"M0,0\" style=\"fill: none;\"/><path class=\"ylines-above crisp\" d=\"M0,0\" style=\"fill: none;\"/><g class=\"overlines-above\"/><g class=\"xaxislayer-above\"><g class=\"xtick\"><text text-anchor=\"start\" x=\"0\" y=\"351\" transform=\"translate(110.25,0) rotate(30,0,345)\" style=\"font-family: 'Open Sans', verdana, arial, sans-serif; font-size: 12px; fill: rgb(42, 63, 95); fill-opacity: 1; white-space: pre; opacity: 1;\">Linear Regression</text></g><g class=\"xtick\"><text text-anchor=\"start\" x=\"0\" y=\"351\" transform=\"translate(170.75,0) rotate(30,0,345)\" style=\"font-family: 'Open Sans', verdana, arial, sans-serif; font-size: 12px; fill: rgb(42, 63, 95); fill-opacity: 1; white-space: pre; opacity: 1;\">MLP Regressor</text></g><g class=\"xtick\"><text text-anchor=\"start\" x=\"0\" y=\"351\" transform=\"translate(231.25,0) rotate(30,0,345)\" style=\"font-family: 'Open Sans', verdana, arial, sans-serif; font-size: 12px; fill: rgb(42, 63, 95); fill-opacity: 1; white-space: pre; opacity: 1;\">Hyperopt Gradient Boost Regressor</text></g><g class=\"xtick\"><text text-anchor=\"start\" x=\"0\" y=\"351\" transform=\"translate(291.75,0) rotate(30,0,345)\" style=\"font-family: 'Open Sans', verdana, arial, sans-serif; font-size: 12px; fill: rgb(42, 63, 95); fill-opacity: 1; white-space: pre; opacity: 1;\">XGBoost Regressor</text></g><g class=\"xtick\"><text text-anchor=\"start\" x=\"0\" y=\"351\" transform=\"translate(352.25,0) rotate(30,0,345)\" style=\"font-family: 'Open Sans', verdana, arial, sans-serif; font-size: 12px; fill: rgb(42, 63, 95); fill-opacity: 1; white-space: pre; opacity: 1;\">Gradient Boost Regressor</text></g><g class=\"xtick\"><text text-anchor=\"start\" x=\"0\" y=\"351\" transform=\"translate(412.75,0) rotate(30,0,345)\" style=\"font-family: 'Open Sans', verdana, arial, sans-serif; font-size: 12px; fill: rgb(42, 63, 95); fill-opacity: 1; white-space: pre; opacity: 1;\">RandomSearch CV Gradient Boost Regressor</text></g><g class=\"xtick\"><text text-anchor=\"start\" x=\"0\" y=\"351\" transform=\"translate(473.25,0) rotate(30,0,345)\" style=\"font-family: 'Open Sans', verdana, arial, sans-serif; font-size: 12px; fill: rgb(42, 63, 95); fill-opacity: 1; white-space: pre; opacity: 1;\">GridSearch CV XGBoost Regressor</text></g><g class=\"xtick\"><text text-anchor=\"start\" x=\"0\" y=\"351\" transform=\"translate(533.75,0) rotate(30,0,345)\" style=\"font-family: 'Open Sans', verdana, arial, sans-serif; font-size: 12px; fill: rgb(42, 63, 95); fill-opacity: 1; white-space: pre; opacity: 1;\">Hyperopt XGBoost Regressor</text></g></g><g class=\"yaxislayer-above\"><g class=\"ytick\"><text text-anchor=\"end\" x=\"79\" y=\"4.199999999999999\" transform=\"translate(0,338)\" style=\"font-family: 'Open Sans', verdana, arial, sans-serif; font-size: 12px; fill: rgb(42, 63, 95); fill-opacity: 1; white-space: pre; opacity: 1;\">0</text></g><g class=\"ytick\"><text text-anchor=\"end\" x=\"79\" y=\"4.199999999999999\" style=\"font-family: 'Open Sans', verdana, arial, sans-serif; font-size: 12px; fill: rgb(42, 63, 95); fill-opacity: 1; white-space: pre; opacity: 1;\" transform=\"translate(0,292.78)\">0.2</text></g><g class=\"ytick\"><text text-anchor=\"end\" x=\"79\" y=\"4.199999999999999\" style=\"font-family: 'Open Sans', verdana, arial, sans-serif; font-size: 12px; fill: rgb(42, 63, 95); fill-opacity: 1; white-space: pre; opacity: 1;\" transform=\"translate(0,247.56)\">0.4</text></g><g class=\"ytick\"><text text-anchor=\"end\" x=\"79\" y=\"4.199999999999999\" style=\"font-family: 'Open Sans', verdana, arial, sans-serif; font-size: 12px; fill: rgb(42, 63, 95); fill-opacity: 1; white-space: pre; opacity: 1;\" transform=\"translate(0,202.34)\">0.6</text></g><g class=\"ytick\"><text text-anchor=\"end\" x=\"79\" y=\"4.199999999999999\" style=\"font-family: 'Open Sans', verdana, arial, sans-serif; font-size: 12px; fill: rgb(42, 63, 95); fill-opacity: 1; white-space: pre; opacity: 1;\" transform=\"translate(0,157.12)\">0.8</text></g><g class=\"ytick\"><text text-anchor=\"end\" x=\"79\" y=\"4.199999999999999\" style=\"font-family: 'Open Sans', verdana, arial, sans-serif; font-size: 12px; fill: rgb(42, 63, 95); fill-opacity: 1; white-space: pre; opacity: 1;\" transform=\"translate(0,111.9)\">1</text></g></g><g class=\"overaxes-above\"/></g></g><g class=\"polarlayer\"/><g class=\"smithlayer\"/><g class=\"ternarylayer\"/><g class=\"geolayer\"/><g class=\"funnelarealayer\"/><g class=\"pielayer\"/><g class=\"iciclelayer\"/><g class=\"treemaplayer\"/><g class=\"sunburstlayer\"/><g class=\"glimages\"/><defs id=\"topdefs-daa6cb\"><g class=\"clips\"/><clipPath id=\"legenddaa6cb\"><rect width=\"76\" height=\"48\" x=\"0\" y=\"0\"/></clipPath></defs><g class=\"layer-above\"><g class=\"imagelayer\"/><g class=\"shapelayer\"/></g><g class=\"infolayer\"><g class=\"legend\" pointer-events=\"all\" transform=\"translate(573.6800000000001,100)\"><rect class=\"bg\" shape-rendering=\"crispEdges\" width=\"76\" height=\"48\" x=\"0\" y=\"0\" style=\"stroke: rgb(68, 68, 68); stroke-opacity: 1; fill: rgb(255, 255, 255); fill-opacity: 1; stroke-width: 0px;\"/><g class=\"scrollbox\" transform=\"\" clip-path=\"url(#legenddaa6cb)\"><g class=\"groups\"><g class=\"traces\" transform=\"translate(0,14.5)\" style=\"opacity: 1;\"><text class=\"legendtext\" text-anchor=\"start\" x=\"40\" y=\"4.680000000000001\" style=\"font-family: 'Open Sans', verdana, arial, sans-serif; font-size: 12px; fill: rgb(42, 63, 95); fill-opacity: 1; white-space: pre;\">Train</text><g class=\"layers\" style=\"opacity: 1;\"><g class=\"legendfill\"/><g class=\"legendlines\"/><g class=\"legendsymbols\"><g class=\"legendpoints\"><path class=\"legendundefined\" d=\"M6,6H-6V-6H6Z\" transform=\"translate(20,0)\" style=\"stroke-width: 0.5px; fill: rgb(99, 110, 250); fill-opacity: 1; stroke: rgb(229, 236, 246); stroke-opacity: 1;\"/></g></g></g><rect class=\"legendtoggle\" x=\"0\" y=\"-9.5\" width=\"70.609375\" height=\"19\" style=\"fill: rgb(0, 0, 0); fill-opacity: 0;\"/></g><g class=\"traces\" transform=\"translate(0,33.5)\" style=\"opacity: 1;\"><text class=\"legendtext\" text-anchor=\"start\" x=\"40\" y=\"4.680000000000001\" style=\"font-family: 'Open Sans', verdana, arial, sans-serif; font-size: 12px; fill: rgb(42, 63, 95); fill-opacity: 1; white-space: pre;\">Test</text><g class=\"layers\" style=\"opacity: 1;\"><g class=\"legendfill\"/><g class=\"legendlines\"/><g class=\"legendsymbols\"><g class=\"legendpoints\"><path class=\"legendundefined\" d=\"M6,6H-6V-6H6Z\" transform=\"translate(20,0)\" style=\"stroke-width: 0.5px; fill: rgb(239, 85, 59); fill-opacity: 1; stroke: rgb(229, 236, 246); stroke-opacity: 1;\"/></g></g></g><rect class=\"legendtoggle\" x=\"0\" y=\"-9.5\" width=\"70.609375\" height=\"19\" style=\"fill: rgb(0, 0, 0); fill-opacity: 0;\"/></g></g></g><rect class=\"scrollbar\" rx=\"20\" ry=\"3\" width=\"0\" height=\"0\" x=\"0\" y=\"0\" style=\"fill: rgb(128, 139, 164); fill-opacity: 1;\"/></g><g class=\"g-gtitle\"><text class=\"gtitle\" x=\"35\" y=\"50\" text-anchor=\"start\" dy=\"0em\" style=\"font-family: 'Open Sans', verdana, arial, sans-serif; font-size: 17px; fill: rgb(42, 63, 95); opacity: 1; font-weight: normal; white-space: pre;\">R2 sorted by Test Data</text></g><g class=\"g-xtitle\"/><g class=\"g-ytitle\"/></g></svg>"
      ]
     },
     "metadata": {},
     "output_type": "display_data"
    }
   ],
   "source": [
    "fig = go.Figure(data=[\n",
    "        go.Bar(name='Train', x=obs_RMSE['Method'], y=obs_RMSE['Train RMSE']),\n",
    "        go.Bar(name='Test', x=obs_RMSE['Method'], y=obs_RMSE['Test RMSE'])\n",
    "    ], layout={'title': 'Root Mean Square Error sorted by Test Data'})\n",
    "fig.show(render)\n",
    "# fig.write_image('images/RMSE Analysis.png', **image_output_params)\n",
    "\n",
    "fig = go.Figure(data=[\n",
    "        go.Bar(name='Train', x=obs_R2['Method'], y=obs_R2['Train R2']),\n",
    "        go.Bar(name='Test', x=obs_R2['Method'], y=obs_R2['Test R2'])\n",
    "    ], layout={'title': 'R2 sorted by Test Data'})\n",
    "fig.show(render)\n",
    "# fig.write_image('images/R2 Analysis.png', **image_output_params)"
   ]
  },
  {
   "cell_type": "code",
   "execution_count": 85,
   "metadata": {},
   "outputs": [
    {
     "data": {
      "application/vnd.plotly.v1+json": {
       "config": {
        "plotlyServerURL": "https://plot.ly"
       },
       "data": [
        {
         "name": "Train",
         "type": "bar",
         "x": [
          "Linear Regression",
          "MLP Regressor",
          "Hyperopt Gradient Boost Regressor",
          "XGBoost Regressor",
          "Gradient Boost Regressor",
          "RandomSearch CV Gradient Boost Regressor",
          "GridSearch CV XGBoost Regressor",
          "Hyperopt XGBoost Regressor"
         ],
         "xaxis": "x",
         "y": [
          88.19535887694337,
          65.97754012981032,
          37.03716161425896,
          10.340300509609046,
          1.4503310915921517,
          30.515029161994576,
          11.467570870326272,
          0.3103868083267873
         ],
         "yaxis": "y"
        },
        {
         "name": "Test",
         "type": "bar",
         "x": [
          "Linear Regression",
          "MLP Regressor",
          "Hyperopt Gradient Boost Regressor",
          "XGBoost Regressor",
          "Gradient Boost Regressor",
          "RandomSearch CV Gradient Boost Regressor",
          "GridSearch CV XGBoost Regressor",
          "Hyperopt XGBoost Regressor"
         ],
         "xaxis": "x",
         "y": [
          83.28680742384523,
          69.97746066993744,
          51.46123729857673,
          50.42524909318891,
          49.68768778100262,
          48.57415387039667,
          47.85703101806682,
          47.39163906840263
         ],
         "yaxis": "y"
        },
        {
         "name": "Train",
         "type": "bar",
         "x": [
          "Linear Regression",
          "MLP Regressor",
          "Hyperopt Gradient Boost Regressor",
          "XGBoost Regressor",
          "Gradient Boost Regressor",
          "RandomSearch CV Gradient Boost Regressor",
          "GridSearch CV XGBoost Regressor",
          "Hyperopt XGBoost Regressor"
         ],
         "xaxis": "x2",
         "y": [
          0.5618724301191165,
          0.7548107878105272,
          0.9227346969302704,
          0.9939775189799176,
          0.9998815204396962,
          0.947551062127634,
          0.9925928355838928,
          0.9999945735522024
         ],
         "yaxis": "y2"
        },
        {
         "name": "Test",
         "type": "bar",
         "x": [
          "Linear Regression",
          "MLP Regressor",
          "Hyperopt Gradient Boost Regressor",
          "XGBoost Regressor",
          "Gradient Boost Regressor",
          "RandomSearch CV Gradient Boost Regressor",
          "GridSearch CV XGBoost Regressor",
          "Hyperopt XGBoost Regressor"
         ],
         "xaxis": "x2",
         "y": [
          0.578651542275401,
          0.7025559153099823,
          0.8391394954469643,
          0.8455510062075028,
          0.8500361596871228,
          0.8566824196687627,
          0.8608829105303125,
          0.8635754790626856
         ],
         "yaxis": "y2"
        }
       ],
       "layout": {
        "annotations": [
         {
          "font": {
           "size": 16
          },
          "showarrow": false,
          "text": "Root Mean Square Error sorted by Test Data",
          "x": 0.5,
          "xanchor": "center",
          "xref": "paper",
          "y": 1,
          "yanchor": "bottom",
          "yref": "paper"
         },
         {
          "font": {
           "size": 16
          },
          "showarrow": false,
          "text": "R2 sorted by Test Data",
          "x": 0.5,
          "xanchor": "center",
          "xref": "paper",
          "y": 0.375,
          "yanchor": "bottom",
          "yref": "paper"
         }
        ],
        "height": 800,
        "template": {
         "data": {
          "bar": [
           {
            "error_x": {
             "color": "#2a3f5f"
            },
            "error_y": {
             "color": "#2a3f5f"
            },
            "marker": {
             "line": {
              "color": "#E5ECF6",
              "width": 0.5
             },
             "pattern": {
              "fillmode": "overlay",
              "size": 10,
              "solidity": 0.2
             }
            },
            "type": "bar"
           }
          ],
          "barpolar": [
           {
            "marker": {
             "line": {
              "color": "#E5ECF6",
              "width": 0.5
             },
             "pattern": {
              "fillmode": "overlay",
              "size": 10,
              "solidity": 0.2
             }
            },
            "type": "barpolar"
           }
          ],
          "carpet": [
           {
            "aaxis": {
             "endlinecolor": "#2a3f5f",
             "gridcolor": "white",
             "linecolor": "white",
             "minorgridcolor": "white",
             "startlinecolor": "#2a3f5f"
            },
            "baxis": {
             "endlinecolor": "#2a3f5f",
             "gridcolor": "white",
             "linecolor": "white",
             "minorgridcolor": "white",
             "startlinecolor": "#2a3f5f"
            },
            "type": "carpet"
           }
          ],
          "choropleth": [
           {
            "colorbar": {
             "outlinewidth": 0,
             "ticks": ""
            },
            "type": "choropleth"
           }
          ],
          "contour": [
           {
            "colorbar": {
             "outlinewidth": 0,
             "ticks": ""
            },
            "colorscale": [
             [
              0,
              "#0d0887"
             ],
             [
              0.1111111111111111,
              "#46039f"
             ],
             [
              0.2222222222222222,
              "#7201a8"
             ],
             [
              0.3333333333333333,
              "#9c179e"
             ],
             [
              0.4444444444444444,
              "#bd3786"
             ],
             [
              0.5555555555555556,
              "#d8576b"
             ],
             [
              0.6666666666666666,
              "#ed7953"
             ],
             [
              0.7777777777777778,
              "#fb9f3a"
             ],
             [
              0.8888888888888888,
              "#fdca26"
             ],
             [
              1,
              "#f0f921"
             ]
            ],
            "type": "contour"
           }
          ],
          "contourcarpet": [
           {
            "colorbar": {
             "outlinewidth": 0,
             "ticks": ""
            },
            "type": "contourcarpet"
           }
          ],
          "heatmap": [
           {
            "colorbar": {
             "outlinewidth": 0,
             "ticks": ""
            },
            "colorscale": [
             [
              0,
              "#0d0887"
             ],
             [
              0.1111111111111111,
              "#46039f"
             ],
             [
              0.2222222222222222,
              "#7201a8"
             ],
             [
              0.3333333333333333,
              "#9c179e"
             ],
             [
              0.4444444444444444,
              "#bd3786"
             ],
             [
              0.5555555555555556,
              "#d8576b"
             ],
             [
              0.6666666666666666,
              "#ed7953"
             ],
             [
              0.7777777777777778,
              "#fb9f3a"
             ],
             [
              0.8888888888888888,
              "#fdca26"
             ],
             [
              1,
              "#f0f921"
             ]
            ],
            "type": "heatmap"
           }
          ],
          "heatmapgl": [
           {
            "colorbar": {
             "outlinewidth": 0,
             "ticks": ""
            },
            "colorscale": [
             [
              0,
              "#0d0887"
             ],
             [
              0.1111111111111111,
              "#46039f"
             ],
             [
              0.2222222222222222,
              "#7201a8"
             ],
             [
              0.3333333333333333,
              "#9c179e"
             ],
             [
              0.4444444444444444,
              "#bd3786"
             ],
             [
              0.5555555555555556,
              "#d8576b"
             ],
             [
              0.6666666666666666,
              "#ed7953"
             ],
             [
              0.7777777777777778,
              "#fb9f3a"
             ],
             [
              0.8888888888888888,
              "#fdca26"
             ],
             [
              1,
              "#f0f921"
             ]
            ],
            "type": "heatmapgl"
           }
          ],
          "histogram": [
           {
            "marker": {
             "pattern": {
              "fillmode": "overlay",
              "size": 10,
              "solidity": 0.2
             }
            },
            "type": "histogram"
           }
          ],
          "histogram2d": [
           {
            "colorbar": {
             "outlinewidth": 0,
             "ticks": ""
            },
            "colorscale": [
             [
              0,
              "#0d0887"
             ],
             [
              0.1111111111111111,
              "#46039f"
             ],
             [
              0.2222222222222222,
              "#7201a8"
             ],
             [
              0.3333333333333333,
              "#9c179e"
             ],
             [
              0.4444444444444444,
              "#bd3786"
             ],
             [
              0.5555555555555556,
              "#d8576b"
             ],
             [
              0.6666666666666666,
              "#ed7953"
             ],
             [
              0.7777777777777778,
              "#fb9f3a"
             ],
             [
              0.8888888888888888,
              "#fdca26"
             ],
             [
              1,
              "#f0f921"
             ]
            ],
            "type": "histogram2d"
           }
          ],
          "histogram2dcontour": [
           {
            "colorbar": {
             "outlinewidth": 0,
             "ticks": ""
            },
            "colorscale": [
             [
              0,
              "#0d0887"
             ],
             [
              0.1111111111111111,
              "#46039f"
             ],
             [
              0.2222222222222222,
              "#7201a8"
             ],
             [
              0.3333333333333333,
              "#9c179e"
             ],
             [
              0.4444444444444444,
              "#bd3786"
             ],
             [
              0.5555555555555556,
              "#d8576b"
             ],
             [
              0.6666666666666666,
              "#ed7953"
             ],
             [
              0.7777777777777778,
              "#fb9f3a"
             ],
             [
              0.8888888888888888,
              "#fdca26"
             ],
             [
              1,
              "#f0f921"
             ]
            ],
            "type": "histogram2dcontour"
           }
          ],
          "mesh3d": [
           {
            "colorbar": {
             "outlinewidth": 0,
             "ticks": ""
            },
            "type": "mesh3d"
           }
          ],
          "parcoords": [
           {
            "line": {
             "colorbar": {
              "outlinewidth": 0,
              "ticks": ""
             }
            },
            "type": "parcoords"
           }
          ],
          "pie": [
           {
            "automargin": true,
            "type": "pie"
           }
          ],
          "scatter": [
           {
            "fillpattern": {
             "fillmode": "overlay",
             "size": 10,
             "solidity": 0.2
            },
            "type": "scatter"
           }
          ],
          "scatter3d": [
           {
            "line": {
             "colorbar": {
              "outlinewidth": 0,
              "ticks": ""
             }
            },
            "marker": {
             "colorbar": {
              "outlinewidth": 0,
              "ticks": ""
             }
            },
            "type": "scatter3d"
           }
          ],
          "scattercarpet": [
           {
            "marker": {
             "colorbar": {
              "outlinewidth": 0,
              "ticks": ""
             }
            },
            "type": "scattercarpet"
           }
          ],
          "scattergeo": [
           {
            "marker": {
             "colorbar": {
              "outlinewidth": 0,
              "ticks": ""
             }
            },
            "type": "scattergeo"
           }
          ],
          "scattergl": [
           {
            "marker": {
             "colorbar": {
              "outlinewidth": 0,
              "ticks": ""
             }
            },
            "type": "scattergl"
           }
          ],
          "scattermapbox": [
           {
            "marker": {
             "colorbar": {
              "outlinewidth": 0,
              "ticks": ""
             }
            },
            "type": "scattermapbox"
           }
          ],
          "scatterpolar": [
           {
            "marker": {
             "colorbar": {
              "outlinewidth": 0,
              "ticks": ""
             }
            },
            "type": "scatterpolar"
           }
          ],
          "scatterpolargl": [
           {
            "marker": {
             "colorbar": {
              "outlinewidth": 0,
              "ticks": ""
             }
            },
            "type": "scatterpolargl"
           }
          ],
          "scatterternary": [
           {
            "marker": {
             "colorbar": {
              "outlinewidth": 0,
              "ticks": ""
             }
            },
            "type": "scatterternary"
           }
          ],
          "surface": [
           {
            "colorbar": {
             "outlinewidth": 0,
             "ticks": ""
            },
            "colorscale": [
             [
              0,
              "#0d0887"
             ],
             [
              0.1111111111111111,
              "#46039f"
             ],
             [
              0.2222222222222222,
              "#7201a8"
             ],
             [
              0.3333333333333333,
              "#9c179e"
             ],
             [
              0.4444444444444444,
              "#bd3786"
             ],
             [
              0.5555555555555556,
              "#d8576b"
             ],
             [
              0.6666666666666666,
              "#ed7953"
             ],
             [
              0.7777777777777778,
              "#fb9f3a"
             ],
             [
              0.8888888888888888,
              "#fdca26"
             ],
             [
              1,
              "#f0f921"
             ]
            ],
            "type": "surface"
           }
          ],
          "table": [
           {
            "cells": {
             "fill": {
              "color": "#EBF0F8"
             },
             "line": {
              "color": "white"
             }
            },
            "header": {
             "fill": {
              "color": "#C8D4E3"
             },
             "line": {
              "color": "white"
             }
            },
            "type": "table"
           }
          ]
         },
         "layout": {
          "annotationdefaults": {
           "arrowcolor": "#2a3f5f",
           "arrowhead": 0,
           "arrowwidth": 1
          },
          "autotypenumbers": "strict",
          "coloraxis": {
           "colorbar": {
            "outlinewidth": 0,
            "ticks": ""
           }
          },
          "colorscale": {
           "diverging": [
            [
             0,
             "#8e0152"
            ],
            [
             0.1,
             "#c51b7d"
            ],
            [
             0.2,
             "#de77ae"
            ],
            [
             0.3,
             "#f1b6da"
            ],
            [
             0.4,
             "#fde0ef"
            ],
            [
             0.5,
             "#f7f7f7"
            ],
            [
             0.6,
             "#e6f5d0"
            ],
            [
             0.7,
             "#b8e186"
            ],
            [
             0.8,
             "#7fbc41"
            ],
            [
             0.9,
             "#4d9221"
            ],
            [
             1,
             "#276419"
            ]
           ],
           "sequential": [
            [
             0,
             "#0d0887"
            ],
            [
             0.1111111111111111,
             "#46039f"
            ],
            [
             0.2222222222222222,
             "#7201a8"
            ],
            [
             0.3333333333333333,
             "#9c179e"
            ],
            [
             0.4444444444444444,
             "#bd3786"
            ],
            [
             0.5555555555555556,
             "#d8576b"
            ],
            [
             0.6666666666666666,
             "#ed7953"
            ],
            [
             0.7777777777777778,
             "#fb9f3a"
            ],
            [
             0.8888888888888888,
             "#fdca26"
            ],
            [
             1,
             "#f0f921"
            ]
           ],
           "sequentialminus": [
            [
             0,
             "#0d0887"
            ],
            [
             0.1111111111111111,
             "#46039f"
            ],
            [
             0.2222222222222222,
             "#7201a8"
            ],
            [
             0.3333333333333333,
             "#9c179e"
            ],
            [
             0.4444444444444444,
             "#bd3786"
            ],
            [
             0.5555555555555556,
             "#d8576b"
            ],
            [
             0.6666666666666666,
             "#ed7953"
            ],
            [
             0.7777777777777778,
             "#fb9f3a"
            ],
            [
             0.8888888888888888,
             "#fdca26"
            ],
            [
             1,
             "#f0f921"
            ]
           ]
          },
          "colorway": [
           "#636efa",
           "#EF553B",
           "#00cc96",
           "#ab63fa",
           "#FFA15A",
           "#19d3f3",
           "#FF6692",
           "#B6E880",
           "#FF97FF",
           "#FECB52"
          ],
          "font": {
           "color": "#2a3f5f"
          },
          "geo": {
           "bgcolor": "white",
           "lakecolor": "white",
           "landcolor": "#E5ECF6",
           "showlakes": true,
           "showland": true,
           "subunitcolor": "white"
          },
          "hoverlabel": {
           "align": "left"
          },
          "hovermode": "closest",
          "mapbox": {
           "style": "light"
          },
          "paper_bgcolor": "white",
          "plot_bgcolor": "#E5ECF6",
          "polar": {
           "angularaxis": {
            "gridcolor": "white",
            "linecolor": "white",
            "ticks": ""
           },
           "bgcolor": "#E5ECF6",
           "radialaxis": {
            "gridcolor": "white",
            "linecolor": "white",
            "ticks": ""
           }
          },
          "scene": {
           "xaxis": {
            "backgroundcolor": "#E5ECF6",
            "gridcolor": "white",
            "gridwidth": 2,
            "linecolor": "white",
            "showbackground": true,
            "ticks": "",
            "zerolinecolor": "white"
           },
           "yaxis": {
            "backgroundcolor": "#E5ECF6",
            "gridcolor": "white",
            "gridwidth": 2,
            "linecolor": "white",
            "showbackground": true,
            "ticks": "",
            "zerolinecolor": "white"
           },
           "zaxis": {
            "backgroundcolor": "#E5ECF6",
            "gridcolor": "white",
            "gridwidth": 2,
            "linecolor": "white",
            "showbackground": true,
            "ticks": "",
            "zerolinecolor": "white"
           }
          },
          "shapedefaults": {
           "line": {
            "color": "#2a3f5f"
           }
          },
          "ternary": {
           "aaxis": {
            "gridcolor": "white",
            "linecolor": "white",
            "ticks": ""
           },
           "baxis": {
            "gridcolor": "white",
            "linecolor": "white",
            "ticks": ""
           },
           "bgcolor": "#E5ECF6",
           "caxis": {
            "gridcolor": "white",
            "linecolor": "white",
            "ticks": ""
           }
          },
          "title": {
           "x": 0.05
          },
          "xaxis": {
           "automargin": true,
           "gridcolor": "white",
           "linecolor": "white",
           "ticks": "",
           "title": {
            "standoff": 15
           },
           "zerolinecolor": "white",
           "zerolinewidth": 2
          },
          "yaxis": {
           "automargin": true,
           "gridcolor": "white",
           "linecolor": "white",
           "ticks": "",
           "title": {
            "standoff": 15
           },
           "zerolinecolor": "white",
           "zerolinewidth": 2
          }
         }
        },
        "width": 800,
        "xaxis": {
         "anchor": "y",
         "domain": [
          0,
          1
         ]
        },
        "xaxis2": {
         "anchor": "y2",
         "domain": [
          0,
          1
         ]
        },
        "yaxis": {
         "anchor": "x",
         "domain": [
          0.625,
          1
         ]
        },
        "yaxis2": {
         "anchor": "x2",
         "domain": [
          0,
          0.375
         ]
        }
       }
      }
     },
     "metadata": {},
     "output_type": "display_data"
    }
   ],
   "source": [
    "fig = make_subplots(rows=2, cols=1, subplot_titles=('Root Mean Square Error sorted by Test Data', 'R2 sorted by Test Data'))\n",
    "\n",
    "fig.add_trace(go.Bar(name='Train', x=obs_RMSE['Method'], y=obs_RMSE['Train RMSE']), row=1, col=1)\n",
    "fig.add_trace(go.Bar(name='Test', x=obs_RMSE['Method'], y=obs_RMSE['Test RMSE']), row=1, col=1)\n",
    "\n",
    "fig.add_trace(go.Bar(name='Train', x=obs_R2['Method'], y=obs_R2['Train R2']), row=2, col=1)\n",
    "fig.add_trace(go.Bar(name='Test', x=obs_R2['Method'], y=obs_R2['Test R2']), row=2, col=1)\n",
    "\n",
    "fig.update_layout(height=800, width=800)\n",
    "fig.show()\n",
    "# fig.write_image('images/RMSE_R2_Analysis.png', **image_output_params)"
   ]
  },
  {
   "cell_type": "code",
   "execution_count": null,
   "metadata": {},
   "outputs": [],
   "source": []
  }
 ],
 "metadata": {
  "kernelspec": {
   "display_name": "Python 3 (ipykernel)",
   "language": "python",
   "name": "python3"
  },
  "language_info": {
   "codemirror_mode": {
    "name": "ipython",
    "version": 3
   },
   "file_extension": ".py",
   "mimetype": "text/x-python",
   "name": "python",
   "nbconvert_exporter": "python",
   "pygments_lexer": "ipython3",
   "version": "3.9.13"
  }
 },
 "nbformat": 4,
 "nbformat_minor": 2
}
