{
 "cells": [
  {
   "cell_type": "code",
   "execution_count": 1,
   "metadata": {},
   "outputs": [],
   "source": [
    "random_state = 2457"
   ]
  },
  {
   "cell_type": "markdown",
   "metadata": {},
   "source": [
    "# Machine-Learning"
   ]
  },
  {
   "cell_type": "code",
   "execution_count": 2,
   "metadata": {},
   "outputs": [],
   "source": [
    "import numpy as np\n",
    "import pandas as pd\n",
    "import seaborn as sns\n",
    "import matplotlib.pyplot as plt\n",
    "import plotly.express as px\n",
    "import shap\n",
    "\n",
    "from sklearn.model_selection import train_test_split # Random Split\n",
    "from sklearn.metrics import r2_score, mean_squared_error, explained_variance_score\n",
    "from sklearn.preprocessing import StandardScaler\n",
    "\n",
    "from sklearn import set_config\n",
    "set_config(transform_output=\"pandas\") # Keeps feature names after pipeline"
   ]
  },
  {
   "cell_type": "code",
   "execution_count": 3,
   "metadata": {
    "collapsed": false
   },
   "outputs": [],
   "source": [
    "def calculate_score(y_true, y_pred):\n",
    "    print(f\"R2 Score {r2_score(y_true, y_pred)}\")\n",
    "    print(f\"RMSE : {np.sqrt(mean_squared_error(y_true, y_pred))}\")\n",
    "\n",
    "def plot(y_true, y_pred):\n",
    "    # Plotly express plot\n",
    "    h = pd.DataFrame(data={'Actual y':y_true, 'Predicted y': y_pred})\n",
    "    fig = px.scatter(h, x='Actual y', y='Predicted y')\n",
    "    fig.show()"
   ]
  },
  {
   "cell_type": "code",
   "execution_count": 4,
   "metadata": {},
   "outputs": [
    {
     "data": {
      "text/html": [
       "<div>\n",
       "<style scoped>\n",
       "    .dataframe tbody tr th:only-of-type {\n",
       "        vertical-align: middle;\n",
       "    }\n",
       "\n",
       "    .dataframe tbody tr th {\n",
       "        vertical-align: top;\n",
       "    }\n",
       "\n",
       "    .dataframe thead th {\n",
       "        text-align: right;\n",
       "    }\n",
       "</style>\n",
       "<table border=\"1\" class=\"dataframe\">\n",
       "  <thead>\n",
       "    <tr style=\"text-align: right;\">\n",
       "      <th></th>\n",
       "      <th>Unnamed: 0</th>\n",
       "      <th>neighbourhood_cleansed_Ang Mo Kio</th>\n",
       "      <th>neighbourhood_cleansed_Bedok</th>\n",
       "      <th>neighbourhood_cleansed_Bishan</th>\n",
       "      <th>neighbourhood_cleansed_Bukit Batok</th>\n",
       "      <th>neighbourhood_cleansed_Bukit Merah</th>\n",
       "      <th>neighbourhood_cleansed_Bukit Panjang</th>\n",
       "      <th>neighbourhood_cleansed_Bukit Timah</th>\n",
       "      <th>neighbourhood_cleansed_Central Water Catchment</th>\n",
       "      <th>neighbourhood_cleansed_Choa Chu Kang</th>\n",
       "      <th>...</th>\n",
       "      <th>Free parking on premises</th>\n",
       "      <th>Refrigerator</th>\n",
       "      <th>Microwave</th>\n",
       "      <th>Building staff</th>\n",
       "      <th>Iron</th>\n",
       "      <th>distance_from_MRT</th>\n",
       "      <th>distance_from_Bus</th>\n",
       "      <th>distance_from_Mall</th>\n",
       "      <th>distance_from_School</th>\n",
       "      <th>distance_from_Food</th>\n",
       "    </tr>\n",
       "  </thead>\n",
       "  <tbody>\n",
       "    <tr>\n",
       "      <th>0</th>\n",
       "      <td>0</td>\n",
       "      <td>0.0</td>\n",
       "      <td>0.0</td>\n",
       "      <td>0.0</td>\n",
       "      <td>0.0</td>\n",
       "      <td>0.0</td>\n",
       "      <td>0.0</td>\n",
       "      <td>0.0</td>\n",
       "      <td>0.0</td>\n",
       "      <td>0.0</td>\n",
       "      <td>...</td>\n",
       "      <td>True</td>\n",
       "      <td>True</td>\n",
       "      <td>False</td>\n",
       "      <td>False</td>\n",
       "      <td>False</td>\n",
       "      <td>0.842953</td>\n",
       "      <td>0.180102</td>\n",
       "      <td>7.976199</td>\n",
       "      <td>3.515767</td>\n",
       "      <td>0.785094</td>\n",
       "    </tr>\n",
       "    <tr>\n",
       "      <th>1</th>\n",
       "      <td>1</td>\n",
       "      <td>0.0</td>\n",
       "      <td>0.0</td>\n",
       "      <td>0.0</td>\n",
       "      <td>0.0</td>\n",
       "      <td>0.0</td>\n",
       "      <td>0.0</td>\n",
       "      <td>0.0</td>\n",
       "      <td>0.0</td>\n",
       "      <td>0.0</td>\n",
       "      <td>...</td>\n",
       "      <td>True</td>\n",
       "      <td>False</td>\n",
       "      <td>False</td>\n",
       "      <td>False</td>\n",
       "      <td>False</td>\n",
       "      <td>0.880282</td>\n",
       "      <td>0.205346</td>\n",
       "      <td>7.952045</td>\n",
       "      <td>3.786036</td>\n",
       "      <td>0.502588</td>\n",
       "    </tr>\n",
       "    <tr>\n",
       "      <th>2</th>\n",
       "      <td>2</td>\n",
       "      <td>0.0</td>\n",
       "      <td>0.0</td>\n",
       "      <td>0.0</td>\n",
       "      <td>0.0</td>\n",
       "      <td>1.0</td>\n",
       "      <td>0.0</td>\n",
       "      <td>0.0</td>\n",
       "      <td>0.0</td>\n",
       "      <td>0.0</td>\n",
       "      <td>...</td>\n",
       "      <td>False</td>\n",
       "      <td>False</td>\n",
       "      <td>False</td>\n",
       "      <td>False</td>\n",
       "      <td>False</td>\n",
       "      <td>0.549557</td>\n",
       "      <td>0.117975</td>\n",
       "      <td>4.230675</td>\n",
       "      <td>1.095807</td>\n",
       "      <td>0.169376</td>\n",
       "    </tr>\n",
       "    <tr>\n",
       "      <th>3</th>\n",
       "      <td>3</td>\n",
       "      <td>0.0</td>\n",
       "      <td>0.0</td>\n",
       "      <td>0.0</td>\n",
       "      <td>0.0</td>\n",
       "      <td>1.0</td>\n",
       "      <td>0.0</td>\n",
       "      <td>0.0</td>\n",
       "      <td>0.0</td>\n",
       "      <td>0.0</td>\n",
       "      <td>...</td>\n",
       "      <td>False</td>\n",
       "      <td>False</td>\n",
       "      <td>True</td>\n",
       "      <td>False</td>\n",
       "      <td>False</td>\n",
       "      <td>0.609339</td>\n",
       "      <td>0.040906</td>\n",
       "      <td>3.862544</td>\n",
       "      <td>0.685090</td>\n",
       "      <td>0.208523</td>\n",
       "    </tr>\n",
       "    <tr>\n",
       "      <th>4</th>\n",
       "      <td>4</td>\n",
       "      <td>0.0</td>\n",
       "      <td>0.0</td>\n",
       "      <td>0.0</td>\n",
       "      <td>0.0</td>\n",
       "      <td>0.0</td>\n",
       "      <td>0.0</td>\n",
       "      <td>0.0</td>\n",
       "      <td>0.0</td>\n",
       "      <td>0.0</td>\n",
       "      <td>...</td>\n",
       "      <td>True</td>\n",
       "      <td>False</td>\n",
       "      <td>False</td>\n",
       "      <td>False</td>\n",
       "      <td>True</td>\n",
       "      <td>0.738518</td>\n",
       "      <td>0.210803</td>\n",
       "      <td>7.816646</td>\n",
       "      <td>3.809634</td>\n",
       "      <td>0.506811</td>\n",
       "    </tr>\n",
       "  </tbody>\n",
       "</table>\n",
       "<p>5 rows × 130 columns</p>\n",
       "</div>"
      ],
      "text/plain": [
       "   Unnamed: 0  neighbourhood_cleansed_Ang Mo Kio  \\\n",
       "0           0                                0.0   \n",
       "1           1                                0.0   \n",
       "2           2                                0.0   \n",
       "3           3                                0.0   \n",
       "4           4                                0.0   \n",
       "\n",
       "   neighbourhood_cleansed_Bedok  neighbourhood_cleansed_Bishan  \\\n",
       "0                           0.0                            0.0   \n",
       "1                           0.0                            0.0   \n",
       "2                           0.0                            0.0   \n",
       "3                           0.0                            0.0   \n",
       "4                           0.0                            0.0   \n",
       "\n",
       "   neighbourhood_cleansed_Bukit Batok  neighbourhood_cleansed_Bukit Merah  \\\n",
       "0                                 0.0                                 0.0   \n",
       "1                                 0.0                                 0.0   \n",
       "2                                 0.0                                 1.0   \n",
       "3                                 0.0                                 1.0   \n",
       "4                                 0.0                                 0.0   \n",
       "\n",
       "   neighbourhood_cleansed_Bukit Panjang  neighbourhood_cleansed_Bukit Timah  \\\n",
       "0                                   0.0                                 0.0   \n",
       "1                                   0.0                                 0.0   \n",
       "2                                   0.0                                 0.0   \n",
       "3                                   0.0                                 0.0   \n",
       "4                                   0.0                                 0.0   \n",
       "\n",
       "   neighbourhood_cleansed_Central Water Catchment  \\\n",
       "0                                             0.0   \n",
       "1                                             0.0   \n",
       "2                                             0.0   \n",
       "3                                             0.0   \n",
       "4                                             0.0   \n",
       "\n",
       "   neighbourhood_cleansed_Choa Chu Kang  ...  Free parking on premises  \\\n",
       "0                                   0.0  ...                      True   \n",
       "1                                   0.0  ...                      True   \n",
       "2                                   0.0  ...                     False   \n",
       "3                                   0.0  ...                     False   \n",
       "4                                   0.0  ...                      True   \n",
       "\n",
       "   Refrigerator  Microwave  Building staff   Iron  distance_from_MRT  \\\n",
       "0          True      False           False  False           0.842953   \n",
       "1         False      False           False  False           0.880282   \n",
       "2         False      False           False  False           0.549557   \n",
       "3         False       True           False  False           0.609339   \n",
       "4         False      False           False   True           0.738518   \n",
       "\n",
       "   distance_from_Bus  distance_from_Mall  distance_from_School  \\\n",
       "0           0.180102            7.976199              3.515767   \n",
       "1           0.205346            7.952045              3.786036   \n",
       "2           0.117975            4.230675              1.095807   \n",
       "3           0.040906            3.862544              0.685090   \n",
       "4           0.210803            7.816646              3.809634   \n",
       "\n",
       "   distance_from_Food  \n",
       "0            0.785094  \n",
       "1            0.502588  \n",
       "2            0.169376  \n",
       "3            0.208523  \n",
       "4            0.506811  \n",
       "\n",
       "[5 rows x 130 columns]"
      ]
     },
     "execution_count": 4,
     "metadata": {},
     "output_type": "execute_result"
    }
   ],
   "source": [
    "df = pd.read_csv('data/clean_listing.csv')\n",
    "df.head()"
   ]
  },
  {
   "cell_type": "code",
   "execution_count": 5,
   "metadata": {},
   "outputs": [
    {
     "name": "stdout",
     "output_type": "stream",
     "text": [
      "The standard deviation of price of listing is $132.36.\n"
     ]
    }
   ],
   "source": [
    "print(f\"The standard deviation of price of listing is ${df['price'].std():.2f}.\")"
   ]
  },
  {
   "cell_type": "code",
   "execution_count": 6,
   "metadata": {},
   "outputs": [],
   "source": [
    "# Split data and drop unnecessary data\n",
    "Y = df['price']\n",
    "X = df.drop(['price', 'Unnamed: 0', 'latitude', 'longitude'], axis=1)\n",
    "X = X.astype('float64')"
   ]
  },
  {
   "cell_type": "code",
   "execution_count": 7,
   "metadata": {},
   "outputs": [],
   "source": [
    "X_train, X_test, y_train, y_test = train_test_split(X, Y, test_size=0.20, random_state=random_state)"
   ]
  },
  {
   "cell_type": "code",
   "execution_count": 8,
   "metadata": {
    "collapsed": false
   },
   "outputs": [
    {
     "data": {
      "text/html": [
       "<div>\n",
       "<style scoped>\n",
       "    .dataframe tbody tr th:only-of-type {\n",
       "        vertical-align: middle;\n",
       "    }\n",
       "\n",
       "    .dataframe tbody tr th {\n",
       "        vertical-align: top;\n",
       "    }\n",
       "\n",
       "    .dataframe thead th {\n",
       "        text-align: right;\n",
       "    }\n",
       "</style>\n",
       "<table border=\"1\" class=\"dataframe\">\n",
       "  <thead>\n",
       "    <tr style=\"text-align: right;\">\n",
       "      <th></th>\n",
       "      <th>neighbourhood_cleansed_Ang Mo Kio</th>\n",
       "      <th>neighbourhood_cleansed_Bedok</th>\n",
       "      <th>neighbourhood_cleansed_Bishan</th>\n",
       "      <th>neighbourhood_cleansed_Bukit Batok</th>\n",
       "      <th>neighbourhood_cleansed_Bukit Merah</th>\n",
       "      <th>neighbourhood_cleansed_Bukit Panjang</th>\n",
       "      <th>neighbourhood_cleansed_Bukit Timah</th>\n",
       "      <th>neighbourhood_cleansed_Central Water Catchment</th>\n",
       "      <th>neighbourhood_cleansed_Choa Chu Kang</th>\n",
       "      <th>neighbourhood_cleansed_Clementi</th>\n",
       "      <th>...</th>\n",
       "      <th>Free parking on premises</th>\n",
       "      <th>Refrigerator</th>\n",
       "      <th>Microwave</th>\n",
       "      <th>Building staff</th>\n",
       "      <th>Iron</th>\n",
       "      <th>distance_from_MRT</th>\n",
       "      <th>distance_from_Bus</th>\n",
       "      <th>distance_from_Mall</th>\n",
       "      <th>distance_from_School</th>\n",
       "      <th>distance_from_Food</th>\n",
       "    </tr>\n",
       "  </thead>\n",
       "  <tbody>\n",
       "    <tr>\n",
       "      <th>0</th>\n",
       "      <td>0.0</td>\n",
       "      <td>0.0</td>\n",
       "      <td>0.0</td>\n",
       "      <td>0.0</td>\n",
       "      <td>0.0</td>\n",
       "      <td>0.0</td>\n",
       "      <td>0.0</td>\n",
       "      <td>0.0</td>\n",
       "      <td>0.0</td>\n",
       "      <td>0.0</td>\n",
       "      <td>...</td>\n",
       "      <td>1.0</td>\n",
       "      <td>1.0</td>\n",
       "      <td>0.0</td>\n",
       "      <td>0.0</td>\n",
       "      <td>0.0</td>\n",
       "      <td>0.842953</td>\n",
       "      <td>0.180102</td>\n",
       "      <td>7.976199</td>\n",
       "      <td>3.515767</td>\n",
       "      <td>0.785094</td>\n",
       "    </tr>\n",
       "    <tr>\n",
       "      <th>1</th>\n",
       "      <td>0.0</td>\n",
       "      <td>0.0</td>\n",
       "      <td>0.0</td>\n",
       "      <td>0.0</td>\n",
       "      <td>0.0</td>\n",
       "      <td>0.0</td>\n",
       "      <td>0.0</td>\n",
       "      <td>0.0</td>\n",
       "      <td>0.0</td>\n",
       "      <td>0.0</td>\n",
       "      <td>...</td>\n",
       "      <td>1.0</td>\n",
       "      <td>0.0</td>\n",
       "      <td>0.0</td>\n",
       "      <td>0.0</td>\n",
       "      <td>0.0</td>\n",
       "      <td>0.880282</td>\n",
       "      <td>0.205346</td>\n",
       "      <td>7.952045</td>\n",
       "      <td>3.786036</td>\n",
       "      <td>0.502588</td>\n",
       "    </tr>\n",
       "    <tr>\n",
       "      <th>2</th>\n",
       "      <td>0.0</td>\n",
       "      <td>0.0</td>\n",
       "      <td>0.0</td>\n",
       "      <td>0.0</td>\n",
       "      <td>1.0</td>\n",
       "      <td>0.0</td>\n",
       "      <td>0.0</td>\n",
       "      <td>0.0</td>\n",
       "      <td>0.0</td>\n",
       "      <td>0.0</td>\n",
       "      <td>...</td>\n",
       "      <td>0.0</td>\n",
       "      <td>0.0</td>\n",
       "      <td>0.0</td>\n",
       "      <td>0.0</td>\n",
       "      <td>0.0</td>\n",
       "      <td>0.549557</td>\n",
       "      <td>0.117975</td>\n",
       "      <td>4.230675</td>\n",
       "      <td>1.095807</td>\n",
       "      <td>0.169376</td>\n",
       "    </tr>\n",
       "    <tr>\n",
       "      <th>3</th>\n",
       "      <td>0.0</td>\n",
       "      <td>0.0</td>\n",
       "      <td>0.0</td>\n",
       "      <td>0.0</td>\n",
       "      <td>1.0</td>\n",
       "      <td>0.0</td>\n",
       "      <td>0.0</td>\n",
       "      <td>0.0</td>\n",
       "      <td>0.0</td>\n",
       "      <td>0.0</td>\n",
       "      <td>...</td>\n",
       "      <td>0.0</td>\n",
       "      <td>0.0</td>\n",
       "      <td>1.0</td>\n",
       "      <td>0.0</td>\n",
       "      <td>0.0</td>\n",
       "      <td>0.609339</td>\n",
       "      <td>0.040906</td>\n",
       "      <td>3.862544</td>\n",
       "      <td>0.685090</td>\n",
       "      <td>0.208523</td>\n",
       "    </tr>\n",
       "    <tr>\n",
       "      <th>4</th>\n",
       "      <td>0.0</td>\n",
       "      <td>0.0</td>\n",
       "      <td>0.0</td>\n",
       "      <td>0.0</td>\n",
       "      <td>0.0</td>\n",
       "      <td>0.0</td>\n",
       "      <td>0.0</td>\n",
       "      <td>0.0</td>\n",
       "      <td>0.0</td>\n",
       "      <td>0.0</td>\n",
       "      <td>...</td>\n",
       "      <td>1.0</td>\n",
       "      <td>0.0</td>\n",
       "      <td>0.0</td>\n",
       "      <td>0.0</td>\n",
       "      <td>1.0</td>\n",
       "      <td>0.738518</td>\n",
       "      <td>0.210803</td>\n",
       "      <td>7.816646</td>\n",
       "      <td>3.809634</td>\n",
       "      <td>0.506811</td>\n",
       "    </tr>\n",
       "  </tbody>\n",
       "</table>\n",
       "<p>5 rows × 126 columns</p>\n",
       "</div>"
      ],
      "text/plain": [
       "   neighbourhood_cleansed_Ang Mo Kio  neighbourhood_cleansed_Bedok  \\\n",
       "0                                0.0                           0.0   \n",
       "1                                0.0                           0.0   \n",
       "2                                0.0                           0.0   \n",
       "3                                0.0                           0.0   \n",
       "4                                0.0                           0.0   \n",
       "\n",
       "   neighbourhood_cleansed_Bishan  neighbourhood_cleansed_Bukit Batok  \\\n",
       "0                            0.0                                 0.0   \n",
       "1                            0.0                                 0.0   \n",
       "2                            0.0                                 0.0   \n",
       "3                            0.0                                 0.0   \n",
       "4                            0.0                                 0.0   \n",
       "\n",
       "   neighbourhood_cleansed_Bukit Merah  neighbourhood_cleansed_Bukit Panjang  \\\n",
       "0                                 0.0                                   0.0   \n",
       "1                                 0.0                                   0.0   \n",
       "2                                 1.0                                   0.0   \n",
       "3                                 1.0                                   0.0   \n",
       "4                                 0.0                                   0.0   \n",
       "\n",
       "   neighbourhood_cleansed_Bukit Timah  \\\n",
       "0                                 0.0   \n",
       "1                                 0.0   \n",
       "2                                 0.0   \n",
       "3                                 0.0   \n",
       "4                                 0.0   \n",
       "\n",
       "   neighbourhood_cleansed_Central Water Catchment  \\\n",
       "0                                             0.0   \n",
       "1                                             0.0   \n",
       "2                                             0.0   \n",
       "3                                             0.0   \n",
       "4                                             0.0   \n",
       "\n",
       "   neighbourhood_cleansed_Choa Chu Kang  neighbourhood_cleansed_Clementi  ...  \\\n",
       "0                                   0.0                              0.0  ...   \n",
       "1                                   0.0                              0.0  ...   \n",
       "2                                   0.0                              0.0  ...   \n",
       "3                                   0.0                              0.0  ...   \n",
       "4                                   0.0                              0.0  ...   \n",
       "\n",
       "   Free parking on premises  Refrigerator  Microwave  Building staff  Iron  \\\n",
       "0                       1.0           1.0        0.0             0.0   0.0   \n",
       "1                       1.0           0.0        0.0             0.0   0.0   \n",
       "2                       0.0           0.0        0.0             0.0   0.0   \n",
       "3                       0.0           0.0        1.0             0.0   0.0   \n",
       "4                       1.0           0.0        0.0             0.0   1.0   \n",
       "\n",
       "   distance_from_MRT  distance_from_Bus  distance_from_Mall  \\\n",
       "0           0.842953           0.180102            7.976199   \n",
       "1           0.880282           0.205346            7.952045   \n",
       "2           0.549557           0.117975            4.230675   \n",
       "3           0.609339           0.040906            3.862544   \n",
       "4           0.738518           0.210803            7.816646   \n",
       "\n",
       "   distance_from_School  distance_from_Food  \n",
       "0              3.515767            0.785094  \n",
       "1              3.786036            0.502588  \n",
       "2              1.095807            0.169376  \n",
       "3              0.685090            0.208523  \n",
       "4              3.809634            0.506811  \n",
       "\n",
       "[5 rows x 126 columns]"
      ]
     },
     "execution_count": 8,
     "metadata": {},
     "output_type": "execute_result"
    }
   ],
   "source": [
    "X.head()"
   ]
  },
  {
   "attachments": {},
   "cell_type": "markdown",
   "metadata": {},
   "source": [
    "# Part 1:\n",
    "Finding a model that best predicts price. We will being trying :\n",
    "- linear model: Linear Regression\n",
    "- tree-based model: HistGradientBoostRegressor, XGBoost\n",
    "- and to try something new: Neural Network."
   ]
  },
  {
   "attachments": {},
   "cell_type": "markdown",
   "metadata": {},
   "source": [
    "We will be using $R^2$ score to compare the goodness of the model, and RMSE to find the accuracy of the prediction."
   ]
  },
  {
   "cell_type": "markdown",
   "metadata": {
    "collapsed": false
   },
   "source": [
    "### Model 1: Linear Regression"
   ]
  },
  {
   "cell_type": "code",
   "execution_count": 9,
   "metadata": {},
   "outputs": [
    {
     "name": "stdout",
     "output_type": "stream",
     "text": [
      "Train\n",
      " Score: 0.6200800522823017\n",
      "R2 Score 0.6200800522823017\n",
      "RMSE : 82.06905348209689\n",
      "Test\n",
      " Score: 0.5715708739889218\n",
      "R2 Score 0.5715708739889218\n",
      "RMSE : 84.21673673425332\n"
     ]
    },
    {
     "data": {
      "application/vnd.plotly.v1+json": {
       "config": {
        "plotlyServerURL": "https://plot.ly"
       },
       "data": [
        {
         "hovertemplate": "Actual y=%{x}<br>Predicted y=%{y}<extra></extra>",
         "legendgroup": "",
         "marker": {
          "color": "#636efa",
          "symbol": "circle"
         },
         "mode": "markers",
         "name": "",
         "orientation": "v",
         "showlegend": false,
         "type": "scatter",
         "x": [
          106,
          350,
          319,
          48,
          69,
          130,
          276,
          205,
          108,
          21,
          200,
          98,
          42,
          79,
          404,
          246,
          110,
          335,
          270,
          70,
          39,
          59,
          145,
          70,
          34,
          68,
          270,
          187,
          49,
          243,
          39,
          168,
          149,
          150,
          145,
          305,
          430,
          85,
          50,
          200,
          241,
          30,
          165,
          85,
          410,
          69,
          103,
          40,
          196,
          88,
          130,
          90,
          320,
          137,
          357,
          217,
          191,
          155,
          95,
          45,
          141,
          50,
          148,
          246,
          70,
          250,
          31,
          203,
          49,
          202,
          59,
          356,
          158,
          206,
          279,
          156,
          79,
          195,
          100,
          320,
          188,
          160,
          204,
          155,
          162,
          143,
          168,
          149,
          110,
          394,
          173,
          330,
          225,
          20,
          44,
          49,
          127,
          366,
          25,
          224,
          80,
          88,
          59,
          105,
          38,
          80,
          79,
          99,
          281,
          145,
          60,
          59,
          150,
          99,
          130,
          145,
          60,
          54,
          230,
          501,
          375,
          56,
          516,
          528,
          402,
          59,
          75,
          50,
          279,
          167,
          47,
          230,
          49,
          457,
          200,
          150,
          40,
          28,
          35,
          68,
          175,
          75,
          65,
          79,
          280,
          55,
          120,
          59,
          360,
          328,
          115,
          403,
          75,
          540,
          277,
          497,
          244,
          130,
          70,
          139,
          131,
          307,
          150,
          567,
          300,
          67,
          190,
          33,
          38,
          628,
          59,
          65,
          77,
          49,
          115,
          68,
          458,
          135,
          99,
          75,
          124,
          260,
          140,
          52,
          93,
          59,
          45,
          24,
          128,
          30,
          200,
          53,
          246,
          39,
          367,
          405,
          105,
          170,
          247,
          240,
          88,
          102,
          75,
          150,
          175,
          239,
          39,
          328,
          172,
          499,
          320,
          133,
          62,
          390,
          200,
          100,
          148,
          79,
          145,
          90,
          60,
          60,
          85,
          250,
          120,
          40,
          90,
          484,
          61,
          343,
          25,
          343,
          285,
          39,
          176,
          62,
          25,
          86,
          188,
          100,
          129,
          110,
          74,
          145,
          109,
          527,
          29,
          38,
          115,
          200,
          49,
          39,
          150,
          89,
          217,
          95,
          240,
          575,
          90,
          91,
          350,
          88,
          180,
          90,
          49,
          65,
          172,
          299,
          300,
          89,
          375,
          69,
          39,
          65,
          193,
          125,
          79,
          346,
          120,
          36,
          257,
          78,
          174,
          165,
          130,
          186,
          539,
          79,
          200,
          208,
          185,
          175,
          43,
          409,
          109,
          238,
          90,
          50,
          362,
          196,
          72,
          93,
          101,
          368,
          409,
          57,
          475,
          105,
          100,
          200,
          246,
          33,
          217,
          495,
          384,
          80,
          136,
          69,
          260,
          59,
          124,
          28,
          99,
          433,
          409,
          60,
          180,
          315,
          69,
          251,
          188,
          144,
          37,
          482,
          120,
          38,
          313,
          195,
          196,
          395,
          242,
          69,
          66,
          118,
          40,
          80,
          452,
          85,
          90,
          107,
          420,
          293,
          36,
          42,
          140,
          110,
          80,
          24,
          70,
          55,
          253,
          399,
          90,
          106,
          67,
          144,
          110,
          399,
          70,
          247,
          220,
          181,
          158,
          26,
          55,
          108,
          507,
          457,
          260,
          59,
          199,
          514,
          46,
          69,
          88,
          241,
          188,
          432,
          39,
          100,
          144,
          99,
          69,
          119,
          31,
          300,
          341,
          386,
          265,
          31,
          399,
          270,
          400,
          223,
          135,
          57,
          45,
          49,
          68,
          550,
          457,
          38,
          46,
          207,
          47,
          85,
          250,
          30,
          323,
          60,
          43,
          171,
          78,
          168,
          160,
          67,
          50,
          187,
          114,
          163,
          90,
          53,
          30,
          50,
          78,
          51,
          173,
          55,
          69,
          78,
          43,
          189,
          187,
          395,
          150,
          160,
          126,
          68,
          58,
          529,
          335,
          49,
          215,
          198,
          40,
          120,
          152,
          208,
          27,
          120,
          151,
          250,
          95,
          233,
          140,
          49,
          134,
          99,
          500,
          115,
          90,
          243,
          96,
          335,
          200,
          104,
          56,
          297,
          38,
          107,
          134,
          155,
          225,
          221,
          149,
          300,
          392,
          600,
          118,
          69,
          118,
          59,
          88,
          279,
          246,
          140,
          165,
          127,
          181,
          198,
          410,
          85,
          45,
          345,
          225,
          309,
          354,
          65,
          461,
          169,
          180,
          100,
          50,
          260,
          212,
          60,
          180,
          59,
          190,
          110,
          395,
          56,
          144,
          251,
          155,
          95,
          300,
          130,
          235,
          350,
          80,
          160,
          237,
          65,
          20,
          200,
          187,
          60,
          281,
          155,
          120,
          196,
          180,
          98,
          105,
          135,
          230,
          90,
          66,
          200,
          60,
          413,
          40,
          550,
          140
         ],
         "xaxis": "x",
         "y": [
          69.1881560872909,
          246.33239698715903,
          326.2410560876762,
          106.6918185641905,
          124.09086805220264,
          121.38966012759754,
          295.63934803578684,
          212.49625435057288,
          182.45510720625848,
          44.077446027755535,
          197.61515281638304,
          257.89002359273496,
          75.78077611054427,
          13.623261196964023,
          170.1306303479252,
          238.80639685448466,
          141.13886668410996,
          344.31381481283796,
          190.92860550961365,
          56.22690353278877,
          31.05442927847824,
          48.10789209272952,
          190.04093103090162,
          126.66099308338596,
          140.47042413531702,
          -23.405043674276143,
          362.73682317140964,
          191.95411726320262,
          53.63110454251836,
          227.30996213049173,
          28.208441087515368,
          154.89191881926652,
          190.50211197464557,
          163.1538860238472,
          60.378799919767246,
          217.7167477287607,
          359.82845997721085,
          29.02212719092485,
          49.01562181958549,
          200.74022326430514,
          219.4111379398518,
          23.583436831874337,
          234.03434944229548,
          6.716824830524956,
          362.0704774640781,
          44.78693051755057,
          53.31378939906123,
          53.9801729867655,
          231.98932268386142,
          130.285498653567,
          55.2603210251344,
          77.31788943284741,
          432.8046165796605,
          178.44034981860415,
          312.50378838950763,
          282.4669791398724,
          101.3428221945235,
          215.1751538749142,
          209.27284542288191,
          97.41118376310862,
          253.3601656416797,
          121.96182467164412,
          192.63609591324962,
          290.3317379560513,
          226.7652936923804,
          363.5824189201421,
          167.26119779754754,
          168.99284710040757,
          82.48877451084978,
          182.33036180359557,
          27.941892771689176,
          420.825596357452,
          215.76689263664412,
          164.53097397624555,
          220.82693588924417,
          168.80820591073694,
          152.99204250450302,
          299.49419822306714,
          82.44089922486856,
          109.09627170728658,
          241.99591692109163,
          139.09727264452465,
          193.87989283146666,
          261.9604249552944,
          152.40961730540556,
          195.36930360969353,
          88.90045756453966,
          176.75877153189998,
          153.21016827701794,
          271.9220635519652,
          176.41431501320648,
          77.8483476032921,
          207.33924703459883,
          51.24432507687307,
          86.0268539879687,
          29.747924504318377,
          85.39898855498527,
          311.2369732540741,
          95.17504247824084,
          259.9239289158371,
          122.88565984870516,
          155.05156402093445,
          73.17129532792924,
          137.52655907667616,
          99.34699061425218,
          137.48735668636425,
          92.14631466071708,
          173.29848936977294,
          364.81658576264084,
          210.98575366459215,
          121.6607950092513,
          79.45055730388394,
          43.84615381537551,
          40.400746606502125,
          80.53331676554774,
          186.63848773203625,
          97.59303597813178,
          77.72373678828669,
          255.3615375840584,
          192.5379347211381,
          419.8547670251743,
          120.54176601209372,
          307.17503079217704,
          347.33464263402385,
          401.4087445792185,
          103.798631800117,
          197.1312543926801,
          115.01632387644581,
          173.87630634490617,
          232.7225312083661,
          64.66998891319659,
          188.55584555371377,
          17.1069645993919,
          243.65621334944768,
          159.65410129456794,
          235.22939422046386,
          79.46712058534618,
          3.987943017012981,
          43.03592429225315,
          119.63981337800786,
          199.68987309362328,
          110.43668707252655,
          98.3055971035223,
          134.84372209160287,
          216.15548948166077,
          179.19854728868512,
          165.17700257023535,
          76.28457009107959,
          323.35741396150917,
          321.83621113908544,
          44.255074072983334,
          382.3570795630301,
          73.62775828233322,
          232.81457788031156,
          220.12173703960798,
          272.23945354902366,
          166.66490885925765,
          113.2545514649407,
          98.2444422686705,
          126.6107109856708,
          168.91333411489407,
          285.8814242161186,
          36.07836899333023,
          346.47965707027623,
          84.45980948880052,
          90.154623874272,
          298.783677512494,
          12.95873269927533,
          -13.780308113478242,
          235.0617082339988,
          32.00108306195797,
          80.5438765363094,
          79.84728443366298,
          66.59736857689235,
          144.24135811880853,
          92.17371028636022,
          154.38694872368887,
          134.23298786723427,
          223.46270993222765,
          45.259442062762155,
          104.82282544309622,
          234.49007535332288,
          186.7598586100246,
          111.79002229573761,
          83.34228630357573,
          131.53019813694212,
          80.7273863569295,
          126.8418529741194,
          68.29827158978969,
          58.50689193898128,
          360.8965365100223,
          116.54418231566316,
          170.09560079942239,
          149.05386033469057,
          355.90748764086266,
          309.590119446202,
          144.53031537266526,
          179.5915565527671,
          191.0200494284877,
          108.74853773491094,
          57.137574106505056,
          185.92805569028414,
          117.53694495710133,
          231.92409672803092,
          223.75320155100144,
          241.29487435551334,
          21.341164716614216,
          316.37402259137224,
          248.6658516478123,
          251.43559336824575,
          269.5318051062021,
          208.22501605553765,
          87.84634156728775,
          334.4605744222209,
          60.466890653495966,
          0.16153322803769754,
          133.35566772541694,
          80.52664116869605,
          210.66312224764982,
          161.77935469962927,
          98.07900462970319,
          7.013563647076808,
          171.08475177493716,
          423.93136592053406,
          172.21120397940655,
          37.17557282334025,
          142.4442459431811,
          287.0078702908541,
          111.72520118656824,
          35.69814392721552,
          36.557694900806,
          335.69010800564234,
          307.5729872675697,
          47.73067149613584,
          344.49242623914927,
          90.94539590113668,
          96.89920485086384,
          43.419510176413496,
          148.28061249820433,
          136.3786920210491,
          171.19235661237207,
          181.50443830879328,
          133.2078526340199,
          188.07996637004257,
          97.62701288948554,
          290.73695477621334,
          50.51056078572751,
          -77.085594527351,
          40.14161453793234,
          247.10078586914375,
          20.429395686541206,
          24.13734897704343,
          148.14244400473814,
          211.10583888084454,
          306.0188259437342,
          158.8591583913481,
          293.04333885910654,
          419.0913335008624,
          105.88422221098133,
          117.1600533407827,
          359.9103264365073,
          125.55429403859631,
          198.5182594921614,
          143.90195989084037,
          27.047523655555388,
          66.95486580597125,
          229.37506043818524,
          239.45703654307215,
          329.29703685088043,
          194.49221887910787,
          308.76010687654275,
          69.71250616160705,
          87.85514066972883,
          75.6079702816761,
          202.49824766955135,
          28.357997124453355,
          138.2494390182469,
          339.9032114281962,
          163.87628113402081,
          51.68654305607731,
          173.62741953284566,
          118.14958937211335,
          130.659993352715,
          157.29327583018255,
          62.31842867722875,
          198.54750710753171,
          302.9092840355203,
          98.91670243726058,
          251.7830569104177,
          257.01991562539587,
          221.41479211124738,
          222.96153961688026,
          29.944908305775137,
          452.81048910408975,
          155.34147212158047,
          241.1091354423649,
          149.31397408454723,
          131.19065567075154,
          307.4755436940351,
          204.44764592857757,
          108.60673188910768,
          67.51353492986783,
          123.61760815040111,
          387.8052951728017,
          438.17240036364535,
          94.60892705434804,
          303.24841296322074,
          153.01905590913753,
          193.6509033099835,
          280.1616863591486,
          294.83303824062597,
          58.62641347138881,
          218.57091240658946,
          313.94730503080154,
          272.78494703231615,
          175.5524696742571,
          120.24862435744772,
          53.35497984574164,
          367.3935127743104,
          238.5252937064036,
          146.8247050537451,
          73.12701143746699,
          201.2925350368933,
          248.64615042945474,
          409.80551063184487,
          77.81993316061553,
          369.65249905134317,
          346.6487870870337,
          69.60097897943616,
          286.1501832312771,
          259.96675961464683,
          58.79643097310699,
          70.37067902537031,
          311.71404093003946,
          53.507027377528686,
          57.45556646092027,
          303.07221222005376,
          379.72715445824184,
          290.8213766451289,
          431.8493837647719,
          169.26952082156043,
          72.47946880824874,
          87.31569215432154,
          156.02884735482985,
          200.59662150146815,
          104.46833377263545,
          408.796807433336,
          212.14830288847702,
          80.29995178343434,
          108.30874575760677,
          404.3757547935121,
          277.7826470948414,
          127.89608375049028,
          85.65984495066516,
          227.95866123293985,
          145.1478733085445,
          115.9040520538066,
          -1.325361106147497,
          137.68093228224927,
          118.54073028376402,
          327.67162937682826,
          325.27055022096516,
          160.30529144788767,
          101.7512696703578,
          246.03736825536492,
          125.56079545255743,
          192.96936992861845,
          335.06787723073546,
          138.88957200793604,
          324.9405484934999,
          216.3700191499227,
          133.22765511385265,
          225.65406676387784,
          167.66582872181226,
          142.14723216485515,
          86.19170407166186,
          220.6814565263062,
          266.5575594294844,
          271.5895419231278,
          45.02571049768738,
          250.18391630530158,
          362.94581157691795,
          62.71114925031357,
          85.01574658836877,
          56.880720519496435,
          247.0234833166184,
          249.79769034520814,
          249.50225797960042,
          118.74924274162083,
          157.32680709209427,
          175.16822734694168,
          126.02711841039411,
          71.17814881619708,
          -1.8717027053526323,
          197.2496838024425,
          187.7899163720074,
          321.0899344319985,
          301.75611495464756,
          316.28739763719364,
          143.32468664848267,
          273.2336327437521,
          31.568643845041073,
          206.12184613790674,
          201.6703492509701,
          146.81836134667526,
          69.8458486363962,
          101.74114942122797,
          25.331268298704664,
          129.34154755118027,
          271.5277403793018,
          353.77139972829616,
          81.08064287288303,
          83.29389799330862,
          196.89114543302233,
          22.849947957745584,
          125.25947906697348,
          264.0635152216193,
          135.6641394857437,
          240.5119832986707,
          152.96317665951733,
          87.61184618726263,
          207.97682952807423,
          152.6286066799503,
          128.10749158736485,
          265.44862745646657,
          -75.15012563781029,
          42.29130934688756,
          190.1294233426513,
          89.28320929845171,
          167.6370342330176,
          78.10757446418668,
          72.98497574949069,
          -7.183618868805112,
          48.3613805415691,
          139.88026892255314,
          45.945065365326165,
          259.48954060407436,
          102.63351093773807,
          116.03250551124941,
          87.01142358386149,
          41.4750867148642,
          139.8462912421926,
          292.8384580164129,
          402.8897938360477,
          38.13820359773816,
          134.51975725514566,
          180.63562018957236,
          255.47455334457766,
          149.9751711618972,
          312.25095480984044,
          389.70169808658454,
          66.65971336379309,
          398.68652204713754,
          159.72486489796768,
          108.03609816493459,
          180.49455542416302,
          149.6460312356421,
          262.85260268278756,
          136.44748582509519,
          243.74728510745655,
          196.2423492748086,
          277.9908148788054,
          125.67989967989634,
          242.83069669442074,
          135.01610014347364,
          17.036186619477,
          159.3048576588597,
          47.55268840092644,
          370.0193964181163,
          151.5381231973838,
          178.87098887613195,
          226.54228875615348,
          130.74368254807737,
          352.5923000979376,
          149.7061771338731,
          77.94271128748926,
          133.7211986891647,
          240.37571283700834,
          74.18531283537372,
          168.45380250217693,
          207.21955712987673,
          187.82264533091592,
          300.54041804339283,
          176.25197167658922,
          313.5913245505953,
          284.6538099367883,
          340.37668681168213,
          331.10084940479226,
          120.708551935771,
          52.957574759535916,
          91.26851942650622,
          67.56792779553614,
          124.11406950344838,
          144.67030625035406,
          229.40778899930086,
          188.88266888619637,
          234.16862881933537,
          175.65657169295687,
          311.2708280905564,
          245.5670644978993,
          425.49952787349815,
          138.17959586004235,
          92.74097275486236,
          363.07882104353365,
          294.38336405816034,
          267.7383962722145,
          413.3713517569229,
          74.88355645337164,
          385.0345925505968,
          264.55642455405734,
          206.17926798817405,
          57.26103979218128,
          39.77316908672927,
          141.00047993499464,
          229.89245181461388,
          95.37765748214886,
          147.23715252925177,
          249.42359885807946,
          194.2759452349464,
          129.11099423062274,
          396.313510210485,
          -14.934569105503925,
          217.01490187006863,
          221.23113198989807,
          137.32882622437887,
          188.9239709551423,
          282.0861287796326,
          87.27715754943348,
          265.69606972022535,
          356.67927086660933,
          78.2178673391797,
          225.72596980195004,
          201.91154616329857,
          107.31996078063762,
          -66.58234400900018,
          82.09118479638653,
          75.8049527687996,
          41.88329684998844,
          314.4694922955705,
          177.85580116628375,
          159.4280713756159,
          272.7911205002251,
          240.9072091649707,
          178.33968562024825,
          158.3979452414734,
          244.800680016404,
          300.874706162981,
          72.1573940826282,
          162.8282242195273,
          223.59937529498433,
          48.912086021330424,
          350.25051416178434,
          90.23666674676497,
          398.66299361047345,
          155.15236059843681
         ],
         "yaxis": "y"
        }
       ],
       "layout": {
        "legend": {
         "tracegroupgap": 0
        },
        "margin": {
         "t": 60
        },
        "template": {
         "data": {
          "bar": [
           {
            "error_x": {
             "color": "#2a3f5f"
            },
            "error_y": {
             "color": "#2a3f5f"
            },
            "marker": {
             "line": {
              "color": "#E5ECF6",
              "width": 0.5
             },
             "pattern": {
              "fillmode": "overlay",
              "size": 10,
              "solidity": 0.2
             }
            },
            "type": "bar"
           }
          ],
          "barpolar": [
           {
            "marker": {
             "line": {
              "color": "#E5ECF6",
              "width": 0.5
             },
             "pattern": {
              "fillmode": "overlay",
              "size": 10,
              "solidity": 0.2
             }
            },
            "type": "barpolar"
           }
          ],
          "carpet": [
           {
            "aaxis": {
             "endlinecolor": "#2a3f5f",
             "gridcolor": "white",
             "linecolor": "white",
             "minorgridcolor": "white",
             "startlinecolor": "#2a3f5f"
            },
            "baxis": {
             "endlinecolor": "#2a3f5f",
             "gridcolor": "white",
             "linecolor": "white",
             "minorgridcolor": "white",
             "startlinecolor": "#2a3f5f"
            },
            "type": "carpet"
           }
          ],
          "choropleth": [
           {
            "colorbar": {
             "outlinewidth": 0,
             "ticks": ""
            },
            "type": "choropleth"
           }
          ],
          "contour": [
           {
            "colorbar": {
             "outlinewidth": 0,
             "ticks": ""
            },
            "colorscale": [
             [
              0,
              "#0d0887"
             ],
             [
              0.1111111111111111,
              "#46039f"
             ],
             [
              0.2222222222222222,
              "#7201a8"
             ],
             [
              0.3333333333333333,
              "#9c179e"
             ],
             [
              0.4444444444444444,
              "#bd3786"
             ],
             [
              0.5555555555555556,
              "#d8576b"
             ],
             [
              0.6666666666666666,
              "#ed7953"
             ],
             [
              0.7777777777777778,
              "#fb9f3a"
             ],
             [
              0.8888888888888888,
              "#fdca26"
             ],
             [
              1,
              "#f0f921"
             ]
            ],
            "type": "contour"
           }
          ],
          "contourcarpet": [
           {
            "colorbar": {
             "outlinewidth": 0,
             "ticks": ""
            },
            "type": "contourcarpet"
           }
          ],
          "heatmap": [
           {
            "colorbar": {
             "outlinewidth": 0,
             "ticks": ""
            },
            "colorscale": [
             [
              0,
              "#0d0887"
             ],
             [
              0.1111111111111111,
              "#46039f"
             ],
             [
              0.2222222222222222,
              "#7201a8"
             ],
             [
              0.3333333333333333,
              "#9c179e"
             ],
             [
              0.4444444444444444,
              "#bd3786"
             ],
             [
              0.5555555555555556,
              "#d8576b"
             ],
             [
              0.6666666666666666,
              "#ed7953"
             ],
             [
              0.7777777777777778,
              "#fb9f3a"
             ],
             [
              0.8888888888888888,
              "#fdca26"
             ],
             [
              1,
              "#f0f921"
             ]
            ],
            "type": "heatmap"
           }
          ],
          "heatmapgl": [
           {
            "colorbar": {
             "outlinewidth": 0,
             "ticks": ""
            },
            "colorscale": [
             [
              0,
              "#0d0887"
             ],
             [
              0.1111111111111111,
              "#46039f"
             ],
             [
              0.2222222222222222,
              "#7201a8"
             ],
             [
              0.3333333333333333,
              "#9c179e"
             ],
             [
              0.4444444444444444,
              "#bd3786"
             ],
             [
              0.5555555555555556,
              "#d8576b"
             ],
             [
              0.6666666666666666,
              "#ed7953"
             ],
             [
              0.7777777777777778,
              "#fb9f3a"
             ],
             [
              0.8888888888888888,
              "#fdca26"
             ],
             [
              1,
              "#f0f921"
             ]
            ],
            "type": "heatmapgl"
           }
          ],
          "histogram": [
           {
            "marker": {
             "pattern": {
              "fillmode": "overlay",
              "size": 10,
              "solidity": 0.2
             }
            },
            "type": "histogram"
           }
          ],
          "histogram2d": [
           {
            "colorbar": {
             "outlinewidth": 0,
             "ticks": ""
            },
            "colorscale": [
             [
              0,
              "#0d0887"
             ],
             [
              0.1111111111111111,
              "#46039f"
             ],
             [
              0.2222222222222222,
              "#7201a8"
             ],
             [
              0.3333333333333333,
              "#9c179e"
             ],
             [
              0.4444444444444444,
              "#bd3786"
             ],
             [
              0.5555555555555556,
              "#d8576b"
             ],
             [
              0.6666666666666666,
              "#ed7953"
             ],
             [
              0.7777777777777778,
              "#fb9f3a"
             ],
             [
              0.8888888888888888,
              "#fdca26"
             ],
             [
              1,
              "#f0f921"
             ]
            ],
            "type": "histogram2d"
           }
          ],
          "histogram2dcontour": [
           {
            "colorbar": {
             "outlinewidth": 0,
             "ticks": ""
            },
            "colorscale": [
             [
              0,
              "#0d0887"
             ],
             [
              0.1111111111111111,
              "#46039f"
             ],
             [
              0.2222222222222222,
              "#7201a8"
             ],
             [
              0.3333333333333333,
              "#9c179e"
             ],
             [
              0.4444444444444444,
              "#bd3786"
             ],
             [
              0.5555555555555556,
              "#d8576b"
             ],
             [
              0.6666666666666666,
              "#ed7953"
             ],
             [
              0.7777777777777778,
              "#fb9f3a"
             ],
             [
              0.8888888888888888,
              "#fdca26"
             ],
             [
              1,
              "#f0f921"
             ]
            ],
            "type": "histogram2dcontour"
           }
          ],
          "mesh3d": [
           {
            "colorbar": {
             "outlinewidth": 0,
             "ticks": ""
            },
            "type": "mesh3d"
           }
          ],
          "parcoords": [
           {
            "line": {
             "colorbar": {
              "outlinewidth": 0,
              "ticks": ""
             }
            },
            "type": "parcoords"
           }
          ],
          "pie": [
           {
            "automargin": true,
            "type": "pie"
           }
          ],
          "scatter": [
           {
            "fillpattern": {
             "fillmode": "overlay",
             "size": 10,
             "solidity": 0.2
            },
            "type": "scatter"
           }
          ],
          "scatter3d": [
           {
            "line": {
             "colorbar": {
              "outlinewidth": 0,
              "ticks": ""
             }
            },
            "marker": {
             "colorbar": {
              "outlinewidth": 0,
              "ticks": ""
             }
            },
            "type": "scatter3d"
           }
          ],
          "scattercarpet": [
           {
            "marker": {
             "colorbar": {
              "outlinewidth": 0,
              "ticks": ""
             }
            },
            "type": "scattercarpet"
           }
          ],
          "scattergeo": [
           {
            "marker": {
             "colorbar": {
              "outlinewidth": 0,
              "ticks": ""
             }
            },
            "type": "scattergeo"
           }
          ],
          "scattergl": [
           {
            "marker": {
             "colorbar": {
              "outlinewidth": 0,
              "ticks": ""
             }
            },
            "type": "scattergl"
           }
          ],
          "scattermapbox": [
           {
            "marker": {
             "colorbar": {
              "outlinewidth": 0,
              "ticks": ""
             }
            },
            "type": "scattermapbox"
           }
          ],
          "scatterpolar": [
           {
            "marker": {
             "colorbar": {
              "outlinewidth": 0,
              "ticks": ""
             }
            },
            "type": "scatterpolar"
           }
          ],
          "scatterpolargl": [
           {
            "marker": {
             "colorbar": {
              "outlinewidth": 0,
              "ticks": ""
             }
            },
            "type": "scatterpolargl"
           }
          ],
          "scatterternary": [
           {
            "marker": {
             "colorbar": {
              "outlinewidth": 0,
              "ticks": ""
             }
            },
            "type": "scatterternary"
           }
          ],
          "surface": [
           {
            "colorbar": {
             "outlinewidth": 0,
             "ticks": ""
            },
            "colorscale": [
             [
              0,
              "#0d0887"
             ],
             [
              0.1111111111111111,
              "#46039f"
             ],
             [
              0.2222222222222222,
              "#7201a8"
             ],
             [
              0.3333333333333333,
              "#9c179e"
             ],
             [
              0.4444444444444444,
              "#bd3786"
             ],
             [
              0.5555555555555556,
              "#d8576b"
             ],
             [
              0.6666666666666666,
              "#ed7953"
             ],
             [
              0.7777777777777778,
              "#fb9f3a"
             ],
             [
              0.8888888888888888,
              "#fdca26"
             ],
             [
              1,
              "#f0f921"
             ]
            ],
            "type": "surface"
           }
          ],
          "table": [
           {
            "cells": {
             "fill": {
              "color": "#EBF0F8"
             },
             "line": {
              "color": "white"
             }
            },
            "header": {
             "fill": {
              "color": "#C8D4E3"
             },
             "line": {
              "color": "white"
             }
            },
            "type": "table"
           }
          ]
         },
         "layout": {
          "annotationdefaults": {
           "arrowcolor": "#2a3f5f",
           "arrowhead": 0,
           "arrowwidth": 1
          },
          "autotypenumbers": "strict",
          "coloraxis": {
           "colorbar": {
            "outlinewidth": 0,
            "ticks": ""
           }
          },
          "colorscale": {
           "diverging": [
            [
             0,
             "#8e0152"
            ],
            [
             0.1,
             "#c51b7d"
            ],
            [
             0.2,
             "#de77ae"
            ],
            [
             0.3,
             "#f1b6da"
            ],
            [
             0.4,
             "#fde0ef"
            ],
            [
             0.5,
             "#f7f7f7"
            ],
            [
             0.6,
             "#e6f5d0"
            ],
            [
             0.7,
             "#b8e186"
            ],
            [
             0.8,
             "#7fbc41"
            ],
            [
             0.9,
             "#4d9221"
            ],
            [
             1,
             "#276419"
            ]
           ],
           "sequential": [
            [
             0,
             "#0d0887"
            ],
            [
             0.1111111111111111,
             "#46039f"
            ],
            [
             0.2222222222222222,
             "#7201a8"
            ],
            [
             0.3333333333333333,
             "#9c179e"
            ],
            [
             0.4444444444444444,
             "#bd3786"
            ],
            [
             0.5555555555555556,
             "#d8576b"
            ],
            [
             0.6666666666666666,
             "#ed7953"
            ],
            [
             0.7777777777777778,
             "#fb9f3a"
            ],
            [
             0.8888888888888888,
             "#fdca26"
            ],
            [
             1,
             "#f0f921"
            ]
           ],
           "sequentialminus": [
            [
             0,
             "#0d0887"
            ],
            [
             0.1111111111111111,
             "#46039f"
            ],
            [
             0.2222222222222222,
             "#7201a8"
            ],
            [
             0.3333333333333333,
             "#9c179e"
            ],
            [
             0.4444444444444444,
             "#bd3786"
            ],
            [
             0.5555555555555556,
             "#d8576b"
            ],
            [
             0.6666666666666666,
             "#ed7953"
            ],
            [
             0.7777777777777778,
             "#fb9f3a"
            ],
            [
             0.8888888888888888,
             "#fdca26"
            ],
            [
             1,
             "#f0f921"
            ]
           ]
          },
          "colorway": [
           "#636efa",
           "#EF553B",
           "#00cc96",
           "#ab63fa",
           "#FFA15A",
           "#19d3f3",
           "#FF6692",
           "#B6E880",
           "#FF97FF",
           "#FECB52"
          ],
          "font": {
           "color": "#2a3f5f"
          },
          "geo": {
           "bgcolor": "white",
           "lakecolor": "white",
           "landcolor": "#E5ECF6",
           "showlakes": true,
           "showland": true,
           "subunitcolor": "white"
          },
          "hoverlabel": {
           "align": "left"
          },
          "hovermode": "closest",
          "mapbox": {
           "style": "light"
          },
          "paper_bgcolor": "white",
          "plot_bgcolor": "#E5ECF6",
          "polar": {
           "angularaxis": {
            "gridcolor": "white",
            "linecolor": "white",
            "ticks": ""
           },
           "bgcolor": "#E5ECF6",
           "radialaxis": {
            "gridcolor": "white",
            "linecolor": "white",
            "ticks": ""
           }
          },
          "scene": {
           "xaxis": {
            "backgroundcolor": "#E5ECF6",
            "gridcolor": "white",
            "gridwidth": 2,
            "linecolor": "white",
            "showbackground": true,
            "ticks": "",
            "zerolinecolor": "white"
           },
           "yaxis": {
            "backgroundcolor": "#E5ECF6",
            "gridcolor": "white",
            "gridwidth": 2,
            "linecolor": "white",
            "showbackground": true,
            "ticks": "",
            "zerolinecolor": "white"
           },
           "zaxis": {
            "backgroundcolor": "#E5ECF6",
            "gridcolor": "white",
            "gridwidth": 2,
            "linecolor": "white",
            "showbackground": true,
            "ticks": "",
            "zerolinecolor": "white"
           }
          },
          "shapedefaults": {
           "line": {
            "color": "#2a3f5f"
           }
          },
          "ternary": {
           "aaxis": {
            "gridcolor": "white",
            "linecolor": "white",
            "ticks": ""
           },
           "baxis": {
            "gridcolor": "white",
            "linecolor": "white",
            "ticks": ""
           },
           "bgcolor": "#E5ECF6",
           "caxis": {
            "gridcolor": "white",
            "linecolor": "white",
            "ticks": ""
           }
          },
          "title": {
           "x": 0.05
          },
          "xaxis": {
           "automargin": true,
           "gridcolor": "white",
           "linecolor": "white",
           "ticks": "",
           "title": {
            "standoff": 15
           },
           "zerolinecolor": "white",
           "zerolinewidth": 2
          },
          "yaxis": {
           "automargin": true,
           "gridcolor": "white",
           "linecolor": "white",
           "ticks": "",
           "title": {
            "standoff": 15
           },
           "zerolinecolor": "white",
           "zerolinewidth": 2
          }
         }
        },
        "xaxis": {
         "anchor": "y",
         "domain": [
          0,
          1
         ],
         "title": {
          "text": "Actual y"
         }
        },
        "yaxis": {
         "anchor": "x",
         "domain": [
          0,
          1
         ],
         "title": {
          "text": "Predicted y"
         }
        }
       }
      }
     },
     "metadata": {},
     "output_type": "display_data"
    }
   ],
   "source": [
    "from sklearn.linear_model import LinearRegression\n",
    "\n",
    "model = LinearRegression()\n",
    "\n",
    "model.fit(X_train, y_train)\n",
    "\n",
    "y_train_pred = model.predict(X_train)\n",
    "y_pred = model.predict(X_test)\n",
    "\n",
    "print(f\"Train\\n Score: {model.score(X_train, y_train)}\")\n",
    "calculate_score(y_train, y_train_pred)\n",
    "\n",
    "print(f\"Test\\n Score: {model.score(X_test, y_test)}\")\n",
    "calculate_score(y_test, y_pred)\n",
    "\n",
    "plot(y_test, y_pred)"
   ]
  },
  {
   "cell_type": "code",
   "execution_count": 10,
   "metadata": {},
   "outputs": [],
   "source": [
    "# explainer = shap.Explainer(model.predict, X_test)\n",
    "# shap_values = explainer(X)\n",
    "# shap.plots.waterfall(shap_values[20], max_display=14)"
   ]
  },
  {
   "cell_type": "code",
   "execution_count": 11,
   "metadata": {},
   "outputs": [],
   "source": [
    "# for i in range(X.shape[1]):\n",
    "#     print(X.columns[i], \"=\", model.coef_[i].round(5))"
   ]
  },
  {
   "cell_type": "markdown",
   "metadata": {
    "collapsed": false
   },
   "source": [
    "### Model 2: Gradient Boost Regressor"
   ]
  },
  {
   "attachments": {},
   "cell_type": "markdown",
   "metadata": {},
   "source": [
    "We can use gradient boosting - a type of ensemble machine learning algorithms. Ensemble is a collection of decision trees. Every iteration, a decision tree is added to model to minimise the error. Models are fit using any arbitrary differentiable loss function and gradient descent optimization algorithm, and the goal is to minimise loss gradient. We will be using HistGradientBoostingRegressor from sklearn."
   ]
  },
  {
   "cell_type": "code",
   "execution_count": 12,
   "metadata": {
    "collapsed": false
   },
   "outputs": [
    {
     "name": "stdout",
     "output_type": "stream",
     "text": [
      "Train\n",
      "Score: 0.9448898387887369\n",
      "R2 Score 0.9448898387887369\n",
      "RMSE : 31.25713849021717\n",
      "Test\n",
      "Score: 0.7488838246495966\n",
      "R2 Score 0.7488838246495966\n",
      "RMSE : 64.47572871633652\n"
     ]
    },
    {
     "data": {
      "application/vnd.plotly.v1+json": {
       "config": {
        "plotlyServerURL": "https://plot.ly"
       },
       "data": [
        {
         "hovertemplate": "Actual y=%{x}<br>Predicted y=%{y}<extra></extra>",
         "legendgroup": "",
         "marker": {
          "color": "#636efa",
          "symbol": "circle"
         },
         "mode": "markers",
         "name": "",
         "orientation": "v",
         "showlegend": false,
         "type": "scatter",
         "x": [
          106,
          350,
          319,
          48,
          69,
          130,
          276,
          205,
          108,
          21,
          200,
          98,
          42,
          79,
          404,
          246,
          110,
          335,
          270,
          70,
          39,
          59,
          145,
          70,
          34,
          68,
          270,
          187,
          49,
          243,
          39,
          168,
          149,
          150,
          145,
          305,
          430,
          85,
          50,
          200,
          241,
          30,
          165,
          85,
          410,
          69,
          103,
          40,
          196,
          88,
          130,
          90,
          320,
          137,
          357,
          217,
          191,
          155,
          95,
          45,
          141,
          50,
          148,
          246,
          70,
          250,
          31,
          203,
          49,
          202,
          59,
          356,
          158,
          206,
          279,
          156,
          79,
          195,
          100,
          320,
          188,
          160,
          204,
          155,
          162,
          143,
          168,
          149,
          110,
          394,
          173,
          330,
          225,
          20,
          44,
          49,
          127,
          366,
          25,
          224,
          80,
          88,
          59,
          105,
          38,
          80,
          79,
          99,
          281,
          145,
          60,
          59,
          150,
          99,
          130,
          145,
          60,
          54,
          230,
          501,
          375,
          56,
          516,
          528,
          402,
          59,
          75,
          50,
          279,
          167,
          47,
          230,
          49,
          457,
          200,
          150,
          40,
          28,
          35,
          68,
          175,
          75,
          65,
          79,
          280,
          55,
          120,
          59,
          360,
          328,
          115,
          403,
          75,
          540,
          277,
          497,
          244,
          130,
          70,
          139,
          131,
          307,
          150,
          567,
          300,
          67,
          190,
          33,
          38,
          628,
          59,
          65,
          77,
          49,
          115,
          68,
          458,
          135,
          99,
          75,
          124,
          260,
          140,
          52,
          93,
          59,
          45,
          24,
          128,
          30,
          200,
          53,
          246,
          39,
          367,
          405,
          105,
          170,
          247,
          240,
          88,
          102,
          75,
          150,
          175,
          239,
          39,
          328,
          172,
          499,
          320,
          133,
          62,
          390,
          200,
          100,
          148,
          79,
          145,
          90,
          60,
          60,
          85,
          250,
          120,
          40,
          90,
          484,
          61,
          343,
          25,
          343,
          285,
          39,
          176,
          62,
          25,
          86,
          188,
          100,
          129,
          110,
          74,
          145,
          109,
          527,
          29,
          38,
          115,
          200,
          49,
          39,
          150,
          89,
          217,
          95,
          240,
          575,
          90,
          91,
          350,
          88,
          180,
          90,
          49,
          65,
          172,
          299,
          300,
          89,
          375,
          69,
          39,
          65,
          193,
          125,
          79,
          346,
          120,
          36,
          257,
          78,
          174,
          165,
          130,
          186,
          539,
          79,
          200,
          208,
          185,
          175,
          43,
          409,
          109,
          238,
          90,
          50,
          362,
          196,
          72,
          93,
          101,
          368,
          409,
          57,
          475,
          105,
          100,
          200,
          246,
          33,
          217,
          495,
          384,
          80,
          136,
          69,
          260,
          59,
          124,
          28,
          99,
          433,
          409,
          60,
          180,
          315,
          69,
          251,
          188,
          144,
          37,
          482,
          120,
          38,
          313,
          195,
          196,
          395,
          242,
          69,
          66,
          118,
          40,
          80,
          452,
          85,
          90,
          107,
          420,
          293,
          36,
          42,
          140,
          110,
          80,
          24,
          70,
          55,
          253,
          399,
          90,
          106,
          67,
          144,
          110,
          399,
          70,
          247,
          220,
          181,
          158,
          26,
          55,
          108,
          507,
          457,
          260,
          59,
          199,
          514,
          46,
          69,
          88,
          241,
          188,
          432,
          39,
          100,
          144,
          99,
          69,
          119,
          31,
          300,
          341,
          386,
          265,
          31,
          399,
          270,
          400,
          223,
          135,
          57,
          45,
          49,
          68,
          550,
          457,
          38,
          46,
          207,
          47,
          85,
          250,
          30,
          323,
          60,
          43,
          171,
          78,
          168,
          160,
          67,
          50,
          187,
          114,
          163,
          90,
          53,
          30,
          50,
          78,
          51,
          173,
          55,
          69,
          78,
          43,
          189,
          187,
          395,
          150,
          160,
          126,
          68,
          58,
          529,
          335,
          49,
          215,
          198,
          40,
          120,
          152,
          208,
          27,
          120,
          151,
          250,
          95,
          233,
          140,
          49,
          134,
          99,
          500,
          115,
          90,
          243,
          96,
          335,
          200,
          104,
          56,
          297,
          38,
          107,
          134,
          155,
          225,
          221,
          149,
          300,
          392,
          600,
          118,
          69,
          118,
          59,
          88,
          279,
          246,
          140,
          165,
          127,
          181,
          198,
          410,
          85,
          45,
          345,
          225,
          309,
          354,
          65,
          461,
          169,
          180,
          100,
          50,
          260,
          212,
          60,
          180,
          59,
          190,
          110,
          395,
          56,
          144,
          251,
          155,
          95,
          300,
          130,
          235,
          350,
          80,
          160,
          237,
          65,
          20,
          200,
          187,
          60,
          281,
          155,
          120,
          196,
          180,
          98,
          105,
          135,
          230,
          90,
          66,
          200,
          60,
          413,
          40,
          550,
          140
         ],
         "xaxis": "x",
         "y": [
          122.29644579895974,
          236.81312570492807,
          324.4487919507999,
          78.74950292173749,
          76.61465832942694,
          88.6182354423069,
          270.7391298861825,
          274.54122585618796,
          142.39573704377145,
          84.85870515797957,
          199.47286533685798,
          166.0742705109698,
          91.48127289401593,
          95.61320724909547,
          169.67137013633746,
          186.38824047788574,
          127.30201938653389,
          321.2506449721071,
          194.36941054271648,
          94.56566108019442,
          40.22929689445975,
          49.58425991600186,
          105.4808829768495,
          142.1680659725676,
          87.1970545644787,
          73.80910876411714,
          282.7053273166884,
          176.06404574572528,
          96.91476433903863,
          238.25213930865627,
          35.6331230429153,
          133.3511659663769,
          86.93464403599947,
          139.80430351731044,
          91.03278668587093,
          184.2796992465005,
          401.41027343111926,
          101.64632040825572,
          47.41204296468954,
          170.82458504431764,
          228.98185731665646,
          73.99227205314978,
          171.78044224846815,
          95.00729178020254,
          368.0364578874191,
          90.30282832237008,
          117.27260469843348,
          81.77679642689917,
          211.3192349026402,
          88.52512229110411,
          96.8620439888614,
          82.56439210123033,
          364.81276797445344,
          158.50233204354043,
          388.003002204538,
          255.6856247802805,
          126.91401568943394,
          215.63576131713106,
          141.67546185079493,
          55.19180098232275,
          229.411544694842,
          78.11367169183438,
          260.1451446058796,
          239.92580312302943,
          132.18879985585906,
          305.5841572592065,
          37.12633881591051,
          203.69636988292768,
          115.88630174824594,
          222.2828509776942,
          52.05714703817701,
          356.4969415694596,
          183.0042328723393,
          142.3453420175945,
          264.2950202940107,
          168.82494099623875,
          149.28989287628082,
          236.24786444502683,
          39.03706789050037,
          220.16759843164004,
          235.37794975438686,
          94.0804325939843,
          228.70956099867848,
          253.63347955821666,
          139.06838459924725,
          186.68948395645705,
          75.83713112833563,
          135.58090038941518,
          134.47242012022386,
          180.67816883191338,
          203.53923106685102,
          273.3745439909612,
          327.9337220674966,
          29.80014513025597,
          81.34105607004743,
          51.27898858047086,
          115.90173350913099,
          372.87728351233665,
          147.87665035885883,
          287.3482054268446,
          81.50649906588231,
          171.28454029695988,
          58.84080536530264,
          149.24271620020295,
          74.9844305804616,
          103.33709308794255,
          63.4501352335469,
          121.50702268705344,
          452.67341589021873,
          133.1430918748342,
          73.14818697997164,
          95.6775171937434,
          88.12101487260695,
          82.74389862281214,
          183.53567818800906,
          217.88799636711911,
          101.24583040609677,
          71.12001783973687,
          231.8296676613471,
          338.8024009835431,
          510.4908407764766,
          73.47056676820965,
          464.3951030741484,
          402.76899802851744,
          403.36770483465364,
          59.540367237519426,
          156.355566476463,
          89.40115394705128,
          195.8329272494582,
          260.4688690211195,
          80.43645757600308,
          225.4663841301649,
          49.68136631351838,
          309.9872700083319,
          175.10150440160626,
          178.53715585548537,
          86.90527282505133,
          48.7289711072267,
          50.03187498961315,
          119.92521265276456,
          205.9524307984558,
          62.44880785662101,
          67.1354628474125,
          76.84862174009733,
          243.07204070385754,
          47.83235320603539,
          123.43527987778086,
          74.76471580162621,
          435.5983852386399,
          345.8702982047172,
          111.97138053909154,
          396.3674658453555,
          76.74952273929192,
          248.52421989028772,
          232.51688537947373,
          467.24844066896935,
          137.1287161411823,
          122.57509731887873,
          113.70437461529775,
          67.95444363659033,
          129.06210931249512,
          316.0729315857325,
          76.04529689380779,
          305.92119459614145,
          129.1667916285357,
          119.8850024389556,
          253.72009192452913,
          53.75191692469514,
          77.68980217153795,
          279.50777060080503,
          51.66616525042281,
          103.73441000725971,
          107.75540182545627,
          42.342097714460444,
          115.58646746651439,
          108.42623365154678,
          190.40177544502464,
          228.63301390649823,
          156.3967997281814,
          86.5249637634177,
          109.73081812023396,
          326.6263617394864,
          157.53523002971554,
          55.39336071246982,
          87.09846905115859,
          67.84045561055687,
          108.05553798293056,
          59.03086077824791,
          102.8296804476719,
          135.72106860528035,
          182.27077520393956,
          65.73313771190494,
          134.00285986627898,
          50.541349376386215,
          398.442979631509,
          414.6986233679339,
          116.3410673156813,
          202.69739833021845,
          231.9287324744558,
          165.14857623420264,
          65.52296066413632,
          159.370734262089,
          92.94373164779653,
          182.78906217416502,
          215.0931241785401,
          223.2642320833722,
          44.30964553111232,
          321.2403274543493,
          152.5631010657627,
          242.11478829935297,
          383.36778252146104,
          169.65986109230565,
          76.6291816297129,
          337.77187684925,
          67.25281969510957,
          72.55538636397286,
          143.95008801779204,
          85.88044478531519,
          190.55846922492765,
          99.39692028598503,
          106.19003355007592,
          127.7584035274735,
          60.627104836058486,
          359.87542415921075,
          168.50699867376383,
          49.852270302378166,
          84.11778693193223,
          391.8178049471364,
          70.75893590688095,
          63.033662600400696,
          62.03663889770563,
          339.9012037968931,
          425.4080039689134,
          46.67922855993034,
          272.3432612815425,
          50.73227228920003,
          45.90557356115266,
          95.12170899371479,
          200.50932710873766,
          123.33128214261299,
          115.73041815694911,
          73.34303737136132,
          94.79002807281995,
          131.49564553499152,
          105.63241514223206,
          493.61582732452234,
          43.271792734753966,
          42.85084297182439,
          81.99359096505754,
          236.5660112475258,
          48.394235067772186,
          40.69004509290563,
          169.07475259388957,
          90.81868137476957,
          349.76055123004693,
          94.63384898101648,
          256.5735148469794,
          481.0463083319466,
          118.23062669818724,
          88.25431390769121,
          359.28618488549546,
          86.90475852024396,
          186.87252371969888,
          118.15319778687696,
          56.55710054921028,
          54.145601916145374,
          147.55238426947307,
          276.2598779264171,
          327.7729578982272,
          117.91020677011066,
          360.9210285321756,
          63.28561804302716,
          40.892912091115306,
          85.19667170261252,
          213.79891575311314,
          117.3509683302163,
          87.54069780268979,
          339.8369102084411,
          137.88588371072765,
          58.499015408283654,
          219.87982529133717,
          74.75592662967509,
          125.71680588536177,
          127.53735661845855,
          102.21897129942809,
          211.65613898784463,
          296.1416003439584,
          73.6359774292348,
          303.84630556819576,
          246.92757693262718,
          193.9933703526104,
          194.98396936717188,
          51.02206312590461,
          395.8094207919078,
          107.91467813961175,
          237.10427006943956,
          118.14432611518475,
          89.67548139182665,
          364.74659489901626,
          179.88208981563923,
          126.57942391430252,
          85.422154384798,
          128.52966384614112,
          452.71117660292214,
          405.74079431138364,
          68.61330619638449,
          303.3619697899939,
          141.84126982434248,
          109.76697466275253,
          232.73961282605984,
          248.1188851509237,
          76.75968566837305,
          156.95255231760575,
          429.00208432646656,
          227.98760873951022,
          98.59934374173508,
          123.19964289965742,
          61.654923831920534,
          297.7891681799129,
          94.90275443382637,
          129.07481396765874,
          53.20406646080216,
          218.34914590755,
          315.3557424367091,
          378.0444087620666,
          122.81373083949596,
          268.84544292357214,
          341.00957606479403,
          70.59812847117605,
          282.66636554132094,
          300.3464143487777,
          112.26939629377983,
          39.2507170353105,
          473.3772512174854,
          131.46711097190376,
          59.85811676303629,
          365.01059673960884,
          311.48204056161114,
          233.06614949972703,
          513.980042123732,
          180.47295942291254,
          61.14449362868753,
          87.75279205173926,
          171.47540760135286,
          89.6648165825348,
          122.921483511812,
          391.71551007391565,
          69.84687304013524,
          117.19503408068628,
          104.49178107364402,
          375.10183897077343,
          228.25704687093975,
          79.22645207337166,
          52.833796488082115,
          175.42161453719908,
          128.7245302267928,
          88.58888400147292,
          57.80362450023712,
          72.13028277011755,
          62.85282862104516,
          281.17042028415284,
          290.95110204133556,
          87.09201143888328,
          83.8688460408649,
          92.91757034133751,
          173.4148943628291,
          156.15219518899673,
          318.2446124318033,
          104.46962995971018,
          279.1259140111455,
          204.6778444925692,
          163.56975402014015,
          175.51632944921363,
          151.6989185969547,
          76.26582785109969,
          108.66606225825726,
          422.8636562381292,
          376.09624471626717,
          292.7525913219737,
          65.79950275289667,
          206.65400806330544,
          451.7817281326788,
          224.08310120796983,
          70.95363549647486,
          86.70991454122691,
          224.97347250631466,
          200.5996168199546,
          269.2516973922688,
          154.86946807958378,
          91.32493449822498,
          130.9992842982384,
          89.74554589291456,
          50.94909945696172,
          55.8235263918157,
          111.61274783803185,
          239.95599605058203,
          349.5650118191099,
          200.758973601583,
          376.5209782260962,
          83.52660370040415,
          322.73506793891033,
          114.21878372795884,
          273.36745394746225,
          184.69025837901583,
          168.0161301380537,
          64.37944402675642,
          32.12736253538156,
          49.143431793161234,
          57.500117757462334,
          318.29853977995384,
          318.0945716592744,
          86.76628196193825,
          53.276352464839924,
          166.14477070477562,
          50.598017381410045,
          127.41170544035342,
          283.4121377396648,
          126.3300497525954,
          290.34933679124816,
          113.63986641672759,
          74.67649622903933,
          177.25123818045526,
          96.36763000277834,
          112.04823812552561,
          156.86438477677268,
          60.01508922231721,
          56.51215496043748,
          209.63334628493513,
          130.92625027009947,
          176.17201860548252,
          114.08988546138494,
          123.83938189662906,
          65.8531186754178,
          56.97356746961146,
          83.83464456756631,
          53.031327952196115,
          193.15067766382012,
          71.28823658996481,
          65.66887007876478,
          123.64023230258962,
          48.524014483926194,
          175.0204378802474,
          231.15136686959448,
          450.9295471600567,
          117.43799168759271,
          118.0630331509869,
          109.32287770659822,
          180.18740856346514,
          124.22903477608386,
          416.46428513654746,
          250.3211260809312,
          61.413114335255756,
          336.0851066732481,
          103.08241023275501,
          57.71518641115285,
          164.8467349385893,
          130.31000980929886,
          167.7577525928527,
          128.68471363557683,
          166.92821669750992,
          164.32520813305305,
          290.6954922128777,
          107.80894107945421,
          295.1873037284792,
          106.70945128666493,
          51.010596101437066,
          131.78488605339126,
          48.85909438444705,
          403.7839205077521,
          125.61982704639196,
          114.53164409783489,
          250.8641517823963,
          75.23648258010807,
          383.06821862127174,
          215.73657815036557,
          102.64142536857258,
          137.81244233585844,
          251.841125577759,
          88.03394239510288,
          134.37357631929598,
          137.37966964309146,
          137.8162806767458,
          393.8198235564522,
          203.56795192284991,
          289.79897571864774,
          362.83096477898243,
          389.17833890013105,
          328.7184583805588,
          117.64016779648358,
          58.07927442180173,
          122.01983320730828,
          99.09963164338907,
          88.94339393665531,
          181.69503040929948,
          223.64209917097665,
          164.59381906362617,
          151.2289333768085,
          113.05902730017091,
          245.94914185400017,
          280.56466976823504,
          418.73316413860607,
          140.51107944853936,
          36.72887764281064,
          417.58594541521825,
          254.68954988921493,
          288.18053172344963,
          368.42308147191414,
          55.50982579933528,
          429.21316791701037,
          197.1912815416528,
          143.61042510516194,
          102.83269084069639,
          40.05025613996168,
          156.73176413291935,
          157.69195526300857,
          140.07494934542265,
          134.76843652930899,
          166.63838459835603,
          171.02460956464515,
          134.92539435687473,
          380.63931997520854,
          68.76371637115268,
          190.86503328369375,
          198.255214049308,
          153.30164203935985,
          90.2368728016746,
          339.7870671391279,
          123.80316563344992,
          323.3195419088825,
          422.40268254966776,
          61.17676703861932,
          182.29353690063948,
          206.50480858977843,
          90.47714677239479,
          82.09504480184765,
          117.90987613991639,
          145.09830739037946,
          92.43680521748807,
          390.91196849536254,
          145.108395596851,
          118.98552106374535,
          264.589880674134,
          282.39932622775757,
          149.2552764159484,
          72.91284311352281,
          180.33457027904785,
          255.63111532145754,
          85.03578026467571,
          126.58980630287347,
          159.94413498951346,
          124.80593637094528,
          376.3461285720355,
          64.5251697645352,
          444.2637057201824,
          149.8285382435754
         ],
         "yaxis": "y"
        }
       ],
       "layout": {
        "legend": {
         "tracegroupgap": 0
        },
        "margin": {
         "t": 60
        },
        "template": {
         "data": {
          "bar": [
           {
            "error_x": {
             "color": "#2a3f5f"
            },
            "error_y": {
             "color": "#2a3f5f"
            },
            "marker": {
             "line": {
              "color": "#E5ECF6",
              "width": 0.5
             },
             "pattern": {
              "fillmode": "overlay",
              "size": 10,
              "solidity": 0.2
             }
            },
            "type": "bar"
           }
          ],
          "barpolar": [
           {
            "marker": {
             "line": {
              "color": "#E5ECF6",
              "width": 0.5
             },
             "pattern": {
              "fillmode": "overlay",
              "size": 10,
              "solidity": 0.2
             }
            },
            "type": "barpolar"
           }
          ],
          "carpet": [
           {
            "aaxis": {
             "endlinecolor": "#2a3f5f",
             "gridcolor": "white",
             "linecolor": "white",
             "minorgridcolor": "white",
             "startlinecolor": "#2a3f5f"
            },
            "baxis": {
             "endlinecolor": "#2a3f5f",
             "gridcolor": "white",
             "linecolor": "white",
             "minorgridcolor": "white",
             "startlinecolor": "#2a3f5f"
            },
            "type": "carpet"
           }
          ],
          "choropleth": [
           {
            "colorbar": {
             "outlinewidth": 0,
             "ticks": ""
            },
            "type": "choropleth"
           }
          ],
          "contour": [
           {
            "colorbar": {
             "outlinewidth": 0,
             "ticks": ""
            },
            "colorscale": [
             [
              0,
              "#0d0887"
             ],
             [
              0.1111111111111111,
              "#46039f"
             ],
             [
              0.2222222222222222,
              "#7201a8"
             ],
             [
              0.3333333333333333,
              "#9c179e"
             ],
             [
              0.4444444444444444,
              "#bd3786"
             ],
             [
              0.5555555555555556,
              "#d8576b"
             ],
             [
              0.6666666666666666,
              "#ed7953"
             ],
             [
              0.7777777777777778,
              "#fb9f3a"
             ],
             [
              0.8888888888888888,
              "#fdca26"
             ],
             [
              1,
              "#f0f921"
             ]
            ],
            "type": "contour"
           }
          ],
          "contourcarpet": [
           {
            "colorbar": {
             "outlinewidth": 0,
             "ticks": ""
            },
            "type": "contourcarpet"
           }
          ],
          "heatmap": [
           {
            "colorbar": {
             "outlinewidth": 0,
             "ticks": ""
            },
            "colorscale": [
             [
              0,
              "#0d0887"
             ],
             [
              0.1111111111111111,
              "#46039f"
             ],
             [
              0.2222222222222222,
              "#7201a8"
             ],
             [
              0.3333333333333333,
              "#9c179e"
             ],
             [
              0.4444444444444444,
              "#bd3786"
             ],
             [
              0.5555555555555556,
              "#d8576b"
             ],
             [
              0.6666666666666666,
              "#ed7953"
             ],
             [
              0.7777777777777778,
              "#fb9f3a"
             ],
             [
              0.8888888888888888,
              "#fdca26"
             ],
             [
              1,
              "#f0f921"
             ]
            ],
            "type": "heatmap"
           }
          ],
          "heatmapgl": [
           {
            "colorbar": {
             "outlinewidth": 0,
             "ticks": ""
            },
            "colorscale": [
             [
              0,
              "#0d0887"
             ],
             [
              0.1111111111111111,
              "#46039f"
             ],
             [
              0.2222222222222222,
              "#7201a8"
             ],
             [
              0.3333333333333333,
              "#9c179e"
             ],
             [
              0.4444444444444444,
              "#bd3786"
             ],
             [
              0.5555555555555556,
              "#d8576b"
             ],
             [
              0.6666666666666666,
              "#ed7953"
             ],
             [
              0.7777777777777778,
              "#fb9f3a"
             ],
             [
              0.8888888888888888,
              "#fdca26"
             ],
             [
              1,
              "#f0f921"
             ]
            ],
            "type": "heatmapgl"
           }
          ],
          "histogram": [
           {
            "marker": {
             "pattern": {
              "fillmode": "overlay",
              "size": 10,
              "solidity": 0.2
             }
            },
            "type": "histogram"
           }
          ],
          "histogram2d": [
           {
            "colorbar": {
             "outlinewidth": 0,
             "ticks": ""
            },
            "colorscale": [
             [
              0,
              "#0d0887"
             ],
             [
              0.1111111111111111,
              "#46039f"
             ],
             [
              0.2222222222222222,
              "#7201a8"
             ],
             [
              0.3333333333333333,
              "#9c179e"
             ],
             [
              0.4444444444444444,
              "#bd3786"
             ],
             [
              0.5555555555555556,
              "#d8576b"
             ],
             [
              0.6666666666666666,
              "#ed7953"
             ],
             [
              0.7777777777777778,
              "#fb9f3a"
             ],
             [
              0.8888888888888888,
              "#fdca26"
             ],
             [
              1,
              "#f0f921"
             ]
            ],
            "type": "histogram2d"
           }
          ],
          "histogram2dcontour": [
           {
            "colorbar": {
             "outlinewidth": 0,
             "ticks": ""
            },
            "colorscale": [
             [
              0,
              "#0d0887"
             ],
             [
              0.1111111111111111,
              "#46039f"
             ],
             [
              0.2222222222222222,
              "#7201a8"
             ],
             [
              0.3333333333333333,
              "#9c179e"
             ],
             [
              0.4444444444444444,
              "#bd3786"
             ],
             [
              0.5555555555555556,
              "#d8576b"
             ],
             [
              0.6666666666666666,
              "#ed7953"
             ],
             [
              0.7777777777777778,
              "#fb9f3a"
             ],
             [
              0.8888888888888888,
              "#fdca26"
             ],
             [
              1,
              "#f0f921"
             ]
            ],
            "type": "histogram2dcontour"
           }
          ],
          "mesh3d": [
           {
            "colorbar": {
             "outlinewidth": 0,
             "ticks": ""
            },
            "type": "mesh3d"
           }
          ],
          "parcoords": [
           {
            "line": {
             "colorbar": {
              "outlinewidth": 0,
              "ticks": ""
             }
            },
            "type": "parcoords"
           }
          ],
          "pie": [
           {
            "automargin": true,
            "type": "pie"
           }
          ],
          "scatter": [
           {
            "fillpattern": {
             "fillmode": "overlay",
             "size": 10,
             "solidity": 0.2
            },
            "type": "scatter"
           }
          ],
          "scatter3d": [
           {
            "line": {
             "colorbar": {
              "outlinewidth": 0,
              "ticks": ""
             }
            },
            "marker": {
             "colorbar": {
              "outlinewidth": 0,
              "ticks": ""
             }
            },
            "type": "scatter3d"
           }
          ],
          "scattercarpet": [
           {
            "marker": {
             "colorbar": {
              "outlinewidth": 0,
              "ticks": ""
             }
            },
            "type": "scattercarpet"
           }
          ],
          "scattergeo": [
           {
            "marker": {
             "colorbar": {
              "outlinewidth": 0,
              "ticks": ""
             }
            },
            "type": "scattergeo"
           }
          ],
          "scattergl": [
           {
            "marker": {
             "colorbar": {
              "outlinewidth": 0,
              "ticks": ""
             }
            },
            "type": "scattergl"
           }
          ],
          "scattermapbox": [
           {
            "marker": {
             "colorbar": {
              "outlinewidth": 0,
              "ticks": ""
             }
            },
            "type": "scattermapbox"
           }
          ],
          "scatterpolar": [
           {
            "marker": {
             "colorbar": {
              "outlinewidth": 0,
              "ticks": ""
             }
            },
            "type": "scatterpolar"
           }
          ],
          "scatterpolargl": [
           {
            "marker": {
             "colorbar": {
              "outlinewidth": 0,
              "ticks": ""
             }
            },
            "type": "scatterpolargl"
           }
          ],
          "scatterternary": [
           {
            "marker": {
             "colorbar": {
              "outlinewidth": 0,
              "ticks": ""
             }
            },
            "type": "scatterternary"
           }
          ],
          "surface": [
           {
            "colorbar": {
             "outlinewidth": 0,
             "ticks": ""
            },
            "colorscale": [
             [
              0,
              "#0d0887"
             ],
             [
              0.1111111111111111,
              "#46039f"
             ],
             [
              0.2222222222222222,
              "#7201a8"
             ],
             [
              0.3333333333333333,
              "#9c179e"
             ],
             [
              0.4444444444444444,
              "#bd3786"
             ],
             [
              0.5555555555555556,
              "#d8576b"
             ],
             [
              0.6666666666666666,
              "#ed7953"
             ],
             [
              0.7777777777777778,
              "#fb9f3a"
             ],
             [
              0.8888888888888888,
              "#fdca26"
             ],
             [
              1,
              "#f0f921"
             ]
            ],
            "type": "surface"
           }
          ],
          "table": [
           {
            "cells": {
             "fill": {
              "color": "#EBF0F8"
             },
             "line": {
              "color": "white"
             }
            },
            "header": {
             "fill": {
              "color": "#C8D4E3"
             },
             "line": {
              "color": "white"
             }
            },
            "type": "table"
           }
          ]
         },
         "layout": {
          "annotationdefaults": {
           "arrowcolor": "#2a3f5f",
           "arrowhead": 0,
           "arrowwidth": 1
          },
          "autotypenumbers": "strict",
          "coloraxis": {
           "colorbar": {
            "outlinewidth": 0,
            "ticks": ""
           }
          },
          "colorscale": {
           "diverging": [
            [
             0,
             "#8e0152"
            ],
            [
             0.1,
             "#c51b7d"
            ],
            [
             0.2,
             "#de77ae"
            ],
            [
             0.3,
             "#f1b6da"
            ],
            [
             0.4,
             "#fde0ef"
            ],
            [
             0.5,
             "#f7f7f7"
            ],
            [
             0.6,
             "#e6f5d0"
            ],
            [
             0.7,
             "#b8e186"
            ],
            [
             0.8,
             "#7fbc41"
            ],
            [
             0.9,
             "#4d9221"
            ],
            [
             1,
             "#276419"
            ]
           ],
           "sequential": [
            [
             0,
             "#0d0887"
            ],
            [
             0.1111111111111111,
             "#46039f"
            ],
            [
             0.2222222222222222,
             "#7201a8"
            ],
            [
             0.3333333333333333,
             "#9c179e"
            ],
            [
             0.4444444444444444,
             "#bd3786"
            ],
            [
             0.5555555555555556,
             "#d8576b"
            ],
            [
             0.6666666666666666,
             "#ed7953"
            ],
            [
             0.7777777777777778,
             "#fb9f3a"
            ],
            [
             0.8888888888888888,
             "#fdca26"
            ],
            [
             1,
             "#f0f921"
            ]
           ],
           "sequentialminus": [
            [
             0,
             "#0d0887"
            ],
            [
             0.1111111111111111,
             "#46039f"
            ],
            [
             0.2222222222222222,
             "#7201a8"
            ],
            [
             0.3333333333333333,
             "#9c179e"
            ],
            [
             0.4444444444444444,
             "#bd3786"
            ],
            [
             0.5555555555555556,
             "#d8576b"
            ],
            [
             0.6666666666666666,
             "#ed7953"
            ],
            [
             0.7777777777777778,
             "#fb9f3a"
            ],
            [
             0.8888888888888888,
             "#fdca26"
            ],
            [
             1,
             "#f0f921"
            ]
           ]
          },
          "colorway": [
           "#636efa",
           "#EF553B",
           "#00cc96",
           "#ab63fa",
           "#FFA15A",
           "#19d3f3",
           "#FF6692",
           "#B6E880",
           "#FF97FF",
           "#FECB52"
          ],
          "font": {
           "color": "#2a3f5f"
          },
          "geo": {
           "bgcolor": "white",
           "lakecolor": "white",
           "landcolor": "#E5ECF6",
           "showlakes": true,
           "showland": true,
           "subunitcolor": "white"
          },
          "hoverlabel": {
           "align": "left"
          },
          "hovermode": "closest",
          "mapbox": {
           "style": "light"
          },
          "paper_bgcolor": "white",
          "plot_bgcolor": "#E5ECF6",
          "polar": {
           "angularaxis": {
            "gridcolor": "white",
            "linecolor": "white",
            "ticks": ""
           },
           "bgcolor": "#E5ECF6",
           "radialaxis": {
            "gridcolor": "white",
            "linecolor": "white",
            "ticks": ""
           }
          },
          "scene": {
           "xaxis": {
            "backgroundcolor": "#E5ECF6",
            "gridcolor": "white",
            "gridwidth": 2,
            "linecolor": "white",
            "showbackground": true,
            "ticks": "",
            "zerolinecolor": "white"
           },
           "yaxis": {
            "backgroundcolor": "#E5ECF6",
            "gridcolor": "white",
            "gridwidth": 2,
            "linecolor": "white",
            "showbackground": true,
            "ticks": "",
            "zerolinecolor": "white"
           },
           "zaxis": {
            "backgroundcolor": "#E5ECF6",
            "gridcolor": "white",
            "gridwidth": 2,
            "linecolor": "white",
            "showbackground": true,
            "ticks": "",
            "zerolinecolor": "white"
           }
          },
          "shapedefaults": {
           "line": {
            "color": "#2a3f5f"
           }
          },
          "ternary": {
           "aaxis": {
            "gridcolor": "white",
            "linecolor": "white",
            "ticks": ""
           },
           "baxis": {
            "gridcolor": "white",
            "linecolor": "white",
            "ticks": ""
           },
           "bgcolor": "#E5ECF6",
           "caxis": {
            "gridcolor": "white",
            "linecolor": "white",
            "ticks": ""
           }
          },
          "title": {
           "x": 0.05
          },
          "xaxis": {
           "automargin": true,
           "gridcolor": "white",
           "linecolor": "white",
           "ticks": "",
           "title": {
            "standoff": 15
           },
           "zerolinecolor": "white",
           "zerolinewidth": 2
          },
          "yaxis": {
           "automargin": true,
           "gridcolor": "white",
           "linecolor": "white",
           "ticks": "",
           "title": {
            "standoff": 15
           },
           "zerolinecolor": "white",
           "zerolinewidth": 2
          }
         }
        },
        "xaxis": {
         "anchor": "y",
         "domain": [
          0,
          1
         ],
         "title": {
          "text": "Actual y"
         }
        },
        "yaxis": {
         "anchor": "x",
         "domain": [
          0,
          1
         ],
         "title": {
          "text": "Predicted y"
         }
        }
       }
      }
     },
     "metadata": {},
     "output_type": "display_data"
    }
   ],
   "source": [
    "from sklearn.ensemble import HistGradientBoostingRegressor\n",
    "\n",
    "reg = HistGradientBoostingRegressor(random_state=random_state)\n",
    "\n",
    "reg.fit(X_train, y_train)\n",
    "\n",
    "y_train_pred = reg.predict(X_train)\n",
    "y_pred = reg.predict(X_test)\n",
    "\n",
    "print(f\"Train\\nScore: {reg.score(X_train, y_train)}\")\n",
    "calculate_score(y_train, y_train_pred)\n",
    "\n",
    "print(f\"Test\\nScore: {reg.score(X_test, y_test)}\")\n",
    "calculate_score(y_test, y_pred)\n",
    "\n",
    "plot(y_test, y_pred)"
   ]
  },
  {
   "cell_type": "markdown",
   "metadata": {},
   "source": [
    "### Model 3: XGBoost Regression"
   ]
  },
  {
   "cell_type": "markdown",
   "metadata": {},
   "source": [
    "We can use gradient boosting - a type of ensemble machine learning algorithms. Ensemble is a collection of decision trees. Every iteration, a decision tree is added to model to minimise the error. Models are fit using any arbitrary differentiable loss function and gradient descent optimization algorithm, and the goal is to minimise loss gradient. We will use XGBoost API to do the model fitting."
   ]
  },
  {
   "cell_type": "code",
   "execution_count": 13,
   "metadata": {},
   "outputs": [
    {
     "name": "stdout",
     "output_type": "stream",
     "text": [
      "Train\n",
      "Score:0.9921366410732897\n",
      "R2 Score 0.9921366410732897\n",
      "RMSE : 11.806941898381032\n",
      "Test\n",
      "Score:0.7407141980087499\n",
      "R2 Score 0.7407141980087499\n",
      "RMSE : 65.51613714590538\n"
     ]
    },
    {
     "data": {
      "application/vnd.plotly.v1+json": {
       "config": {
        "plotlyServerURL": "https://plot.ly"
       },
       "data": [
        {
         "hovertemplate": "Actual y=%{x}<br>Predicted y=%{y}<extra></extra>",
         "legendgroup": "",
         "marker": {
          "color": "#636efa",
          "symbol": "circle"
         },
         "mode": "markers",
         "name": "",
         "orientation": "v",
         "showlegend": false,
         "type": "scatter",
         "x": [
          106,
          350,
          319,
          48,
          69,
          130,
          276,
          205,
          108,
          21,
          200,
          98,
          42,
          79,
          404,
          246,
          110,
          335,
          270,
          70,
          39,
          59,
          145,
          70,
          34,
          68,
          270,
          187,
          49,
          243,
          39,
          168,
          149,
          150,
          145,
          305,
          430,
          85,
          50,
          200,
          241,
          30,
          165,
          85,
          410,
          69,
          103,
          40,
          196,
          88,
          130,
          90,
          320,
          137,
          357,
          217,
          191,
          155,
          95,
          45,
          141,
          50,
          148,
          246,
          70,
          250,
          31,
          203,
          49,
          202,
          59,
          356,
          158,
          206,
          279,
          156,
          79,
          195,
          100,
          320,
          188,
          160,
          204,
          155,
          162,
          143,
          168,
          149,
          110,
          394,
          173,
          330,
          225,
          20,
          44,
          49,
          127,
          366,
          25,
          224,
          80,
          88,
          59,
          105,
          38,
          80,
          79,
          99,
          281,
          145,
          60,
          59,
          150,
          99,
          130,
          145,
          60,
          54,
          230,
          501,
          375,
          56,
          516,
          528,
          402,
          59,
          75,
          50,
          279,
          167,
          47,
          230,
          49,
          457,
          200,
          150,
          40,
          28,
          35,
          68,
          175,
          75,
          65,
          79,
          280,
          55,
          120,
          59,
          360,
          328,
          115,
          403,
          75,
          540,
          277,
          497,
          244,
          130,
          70,
          139,
          131,
          307,
          150,
          567,
          300,
          67,
          190,
          33,
          38,
          628,
          59,
          65,
          77,
          49,
          115,
          68,
          458,
          135,
          99,
          75,
          124,
          260,
          140,
          52,
          93,
          59,
          45,
          24,
          128,
          30,
          200,
          53,
          246,
          39,
          367,
          405,
          105,
          170,
          247,
          240,
          88,
          102,
          75,
          150,
          175,
          239,
          39,
          328,
          172,
          499,
          320,
          133,
          62,
          390,
          200,
          100,
          148,
          79,
          145,
          90,
          60,
          60,
          85,
          250,
          120,
          40,
          90,
          484,
          61,
          343,
          25,
          343,
          285,
          39,
          176,
          62,
          25,
          86,
          188,
          100,
          129,
          110,
          74,
          145,
          109,
          527,
          29,
          38,
          115,
          200,
          49,
          39,
          150,
          89,
          217,
          95,
          240,
          575,
          90,
          91,
          350,
          88,
          180,
          90,
          49,
          65,
          172,
          299,
          300,
          89,
          375,
          69,
          39,
          65,
          193,
          125,
          79,
          346,
          120,
          36,
          257,
          78,
          174,
          165,
          130,
          186,
          539,
          79,
          200,
          208,
          185,
          175,
          43,
          409,
          109,
          238,
          90,
          50,
          362,
          196,
          72,
          93,
          101,
          368,
          409,
          57,
          475,
          105,
          100,
          200,
          246,
          33,
          217,
          495,
          384,
          80,
          136,
          69,
          260,
          59,
          124,
          28,
          99,
          433,
          409,
          60,
          180,
          315,
          69,
          251,
          188,
          144,
          37,
          482,
          120,
          38,
          313,
          195,
          196,
          395,
          242,
          69,
          66,
          118,
          40,
          80,
          452,
          85,
          90,
          107,
          420,
          293,
          36,
          42,
          140,
          110,
          80,
          24,
          70,
          55,
          253,
          399,
          90,
          106,
          67,
          144,
          110,
          399,
          70,
          247,
          220,
          181,
          158,
          26,
          55,
          108,
          507,
          457,
          260,
          59,
          199,
          514,
          46,
          69,
          88,
          241,
          188,
          432,
          39,
          100,
          144,
          99,
          69,
          119,
          31,
          300,
          341,
          386,
          265,
          31,
          399,
          270,
          400,
          223,
          135,
          57,
          45,
          49,
          68,
          550,
          457,
          38,
          46,
          207,
          47,
          85,
          250,
          30,
          323,
          60,
          43,
          171,
          78,
          168,
          160,
          67,
          50,
          187,
          114,
          163,
          90,
          53,
          30,
          50,
          78,
          51,
          173,
          55,
          69,
          78,
          43,
          189,
          187,
          395,
          150,
          160,
          126,
          68,
          58,
          529,
          335,
          49,
          215,
          198,
          40,
          120,
          152,
          208,
          27,
          120,
          151,
          250,
          95,
          233,
          140,
          49,
          134,
          99,
          500,
          115,
          90,
          243,
          96,
          335,
          200,
          104,
          56,
          297,
          38,
          107,
          134,
          155,
          225,
          221,
          149,
          300,
          392,
          600,
          118,
          69,
          118,
          59,
          88,
          279,
          246,
          140,
          165,
          127,
          181,
          198,
          410,
          85,
          45,
          345,
          225,
          309,
          354,
          65,
          461,
          169,
          180,
          100,
          50,
          260,
          212,
          60,
          180,
          59,
          190,
          110,
          395,
          56,
          144,
          251,
          155,
          95,
          300,
          130,
          235,
          350,
          80,
          160,
          237,
          65,
          20,
          200,
          187,
          60,
          281,
          155,
          120,
          196,
          180,
          98,
          105,
          135,
          230,
          90,
          66,
          200,
          60,
          413,
          40,
          550,
          140
         ],
         "xaxis": "x",
         "y": [
          68.65711975097656,
          261.9989929199219,
          309.8695983886719,
          68.14020538330078,
          131.17160034179688,
          85.34510040283203,
          309.41033935546875,
          321.11712646484375,
          130.8953857421875,
          83.11138153076172,
          176.24119567871094,
          160.85682678222656,
          88.3370132446289,
          78.6953125,
          205.58242797851562,
          222.2799072265625,
          124.07318115234375,
          366.1896057128906,
          227.2364044189453,
          75.96512603759766,
          39.413665771484375,
          48.966514587402344,
          136.29335021972656,
          131.0066375732422,
          98.20067596435547,
          66.7979507446289,
          282.8611755371094,
          162.32754516601562,
          90.9326400756836,
          222.47947692871094,
          40.6491584777832,
          155.73716735839844,
          103.61382293701172,
          126.01004791259766,
          118.77135467529297,
          155.9937744140625,
          408.05120849609375,
          118.4111099243164,
          48.966678619384766,
          191.0851287841797,
          223.02764892578125,
          53.58363342285156,
          183.93447875976562,
          103.25872039794922,
          399.02996826171875,
          88.00190734863281,
          112.7582015991211,
          74.07966613769531,
          196.2233123779297,
          92.07657623291016,
          97.49139404296875,
          96.7654037475586,
          348.7856750488281,
          151.46705627441406,
          373.8123474121094,
          227.98617553710938,
          140.56637573242188,
          192.62738037109375,
          135.55137634277344,
          45.238277435302734,
          182.97027587890625,
          66.3772964477539,
          212.04541015625,
          255.10275268554688,
          188.4793701171875,
          274.119873046875,
          33.53882598876953,
          206.3902130126953,
          64.4894027709961,
          194.94447326660156,
          56.4460563659668,
          366.4129333496094,
          143.09915161132812,
          161.1021728515625,
          271.9759521484375,
          170.88633728027344,
          139.67788696289062,
          245.06675720214844,
          84.4271011352539,
          229.79055786132812,
          225.17727661132812,
          80.0984115600586,
          207.5254669189453,
          251.86355590820312,
          146.2073211669922,
          163.9479522705078,
          83.5920639038086,
          141.9764862060547,
          133.56390380859375,
          175.3158721923828,
          196.00335693359375,
          271.6459655761719,
          264.839111328125,
          38.86891555786133,
          56.83369445800781,
          42.76709747314453,
          115.63983917236328,
          365.9517822265625,
          117.11873626708984,
          268.53466796875,
          80.32166290283203,
          99.27706146240234,
          78.13603210449219,
          154.44207763671875,
          67.25222778320312,
          114.76710510253906,
          70.5213394165039,
          103.71121215820312,
          494.1518249511719,
          137.72071838378906,
          96.78182983398438,
          85.86222839355469,
          106.67900848388672,
          51.82678985595703,
          128.3958740234375,
          170.21719360351562,
          113.16138458251953,
          64.59110260009766,
          297.3714599609375,
          347.87603759765625,
          559.1516723632812,
          71.70860290527344,
          532.4197998046875,
          368.361572265625,
          399.4761047363281,
          57.54542541503906,
          124.5888671875,
          68.18321228027344,
          174.4160919189453,
          246.5379180908203,
          80.30398559570312,
          209.202392578125,
          51.26881408691406,
          294.7043151855469,
          236.60589599609375,
          170.9723663330078,
          144.77943420410156,
          47.61933135986328,
          55.39336395263672,
          98.92351531982422,
          257.63226318359375,
          67.03443145751953,
          72.30317687988281,
          84.62627410888672,
          232.98399353027344,
          65.79061889648438,
          136.80564880371094,
          86.69593048095703,
          450.375244140625,
          321.3474426269531,
          115.17244720458984,
          388.96514892578125,
          88.80718231201172,
          244.0419921875,
          236.2126007080078,
          447.2232971191406,
          137.75534057617188,
          110.69982147216797,
          119.45549774169922,
          83.60563659667969,
          121.1263427734375,
          293.9109191894531,
          95.57660675048828,
          302.6027526855469,
          180.16009521484375,
          100.77288055419922,
          261.4349670410156,
          26.47866439819336,
          74.58287048339844,
          272.23876953125,
          54.630638122558594,
          106.204833984375,
          80.88741302490234,
          51.25801467895508,
          126.21690368652344,
          95.3219985961914,
          202.21875,
          197.00259399414062,
          181.44732666015625,
          64.10826873779297,
          105.14741516113281,
          334.8256530761719,
          150.1332244873047,
          76.14043426513672,
          87.33390045166016,
          73.04054260253906,
          87.59593963623047,
          33.69747543334961,
          95.40056610107422,
          94.91610717773438,
          175.95985412597656,
          63.416202545166016,
          193.46861267089844,
          48.184043884277344,
          389.8689880371094,
          416.5148010253906,
          115.49610137939453,
          204.12078857421875,
          236.725830078125,
          131.23463439941406,
          61.690059661865234,
          171.2022705078125,
          80.6939468383789,
          197.51339721679688,
          246.425048828125,
          261.63653564453125,
          38.24284362792969,
          342.6286926269531,
          157.699951171875,
          263.6201171875,
          385.796875,
          176.95193481445312,
          75.73149108886719,
          350.8724060058594,
          76.13240051269531,
          55.99750900268555,
          138.44432067871094,
          64.59085845947266,
          157.05088806152344,
          98.41935729980469,
          102.50193786621094,
          98.77346801757812,
          115.85083770751953,
          361.8264465332031,
          154.32290649414062,
          78.27104187011719,
          82.48404693603516,
          380.4434509277344,
          140.73171997070312,
          42.82023620605469,
          97.03804779052734,
          327.2291259765625,
          448.881103515625,
          40.430335998535156,
          338.76171875,
          61.2907600402832,
          38.43803405761719,
          132.38526916503906,
          163.72653198242188,
          122.42072296142578,
          125.26150512695312,
          134.26766967773438,
          86.1538314819336,
          143.30703735351562,
          101.5245361328125,
          463.4092712402344,
          25.34879493713379,
          51.0922737121582,
          103.2777099609375,
          236.86331176757812,
          53.66520690917969,
          39.32221603393555,
          186.0841522216797,
          157.9749298095703,
          364.7927551269531,
          112.01327514648438,
          243.26185607910156,
          417.489501953125,
          135.95924377441406,
          95.50341033935547,
          358.0660095214844,
          87.25818634033203,
          186.76119995117188,
          142.42910766601562,
          56.40577697753906,
          71.33946228027344,
          151.7082061767578,
          238.68763732910156,
          321.89459228515625,
          155.0030975341797,
          345.7872314453125,
          60.5556640625,
          27.564807891845703,
          75.77449035644531,
          231.87796020507812,
          95.67581176757812,
          97.91221618652344,
          332.1637268066406,
          145.80137634277344,
          58.9821662902832,
          217.9314727783203,
          76.59109497070312,
          162.4954833984375,
          142.4114532470703,
          112.63224792480469,
          226.86029052734375,
          317.5489196777344,
          69.38525390625,
          371.3470153808594,
          219.97024536132812,
          198.29283142089844,
          241.28623962402344,
          53.173362731933594,
          409.47247314453125,
          103.5982666015625,
          235.20553588867188,
          121.87731170654297,
          102.24555206298828,
          383.6084289550781,
          193.38739013671875,
          134.5150604248047,
          90.52190399169922,
          179.30484008789062,
          510.05517578125,
          419.37353515625,
          53.88227844238281,
          297.5180969238281,
          143.5454559326172,
          116.1276626586914,
          205.04058837890625,
          244.51959228515625,
          48.225833892822266,
          170.8803253173828,
          497.8939208984375,
          199.61611938476562,
          115.03308868408203,
          124.85944366455078,
          49.22818374633789,
          304.99365234375,
          164.3982696533203,
          130.1581268310547,
          72.59312438964844,
          241.9149627685547,
          354.6315002441406,
          400.4930419921875,
          137.98057556152344,
          266.3322448730469,
          323.3127136230469,
          67.5907974243164,
          256.1853942871094,
          234.88865661621094,
          107.97284698486328,
          40.524810791015625,
          498.1029357910156,
          92.77738189697266,
          63.537193298339844,
          349.9854736328125,
          334.9925537109375,
          238.85736083984375,
          576.0527954101562,
          200.09292602539062,
          70.176513671875,
          70.20625305175781,
          166.9954071044922,
          112.616943359375,
          98.59941101074219,
          409.842041015625,
          53.019500732421875,
          106.65798950195312,
          106.68082427978516,
          350.89678955078125,
          256.3947448730469,
          46.246673583984375,
          62.952110290527344,
          233.32705688476562,
          126.05353546142578,
          96.66282653808594,
          61.2180061340332,
          79.13178253173828,
          72.23651123046875,
          231.08485412597656,
          327.2772216796875,
          94.93587493896484,
          82.78321075439453,
          91.21485137939453,
          143.10354614257812,
          152.78868103027344,
          306.8603820800781,
          107.57324981689453,
          266.3795166015625,
          225.72427368164062,
          170.6893310546875,
          166.5418701171875,
          107.79199981689453,
          63.83100509643555,
          106.40786743164062,
          426.1407165527344,
          367.1725769042969,
          261.9322814941406,
          61.77750015258789,
          205.4369659423828,
          491.7377014160156,
          187.48489379882812,
          60.871883392333984,
          92.89414978027344,
          244.8941192626953,
          220.0784149169922,
          282.8294677734375,
          205.1969757080078,
          86.44963073730469,
          127.72274017333984,
          93.59032440185547,
          52.77500534057617,
          73.43991088867188,
          116.99539184570312,
          231.91659545898438,
          317.7804260253906,
          195.62423706054688,
          320.3970947265625,
          75.69822692871094,
          319.3685302734375,
          128.47132873535156,
          268.8352355957031,
          186.2192840576172,
          134.13412475585938,
          69.2906494140625,
          45.81792449951172,
          51.336769104003906,
          61.422386169433594,
          256.50738525390625,
          345.6918029785156,
          91.9073715209961,
          64.71430969238281,
          173.1099090576172,
          52.72714614868164,
          124.29106140136719,
          272.9255676269531,
          138.9589385986328,
          301.8166198730469,
          75.2011947631836,
          46.39014434814453,
          199.7357177734375,
          114.49474334716797,
          101.88602447509766,
          168.46176147460938,
          81.67792510986328,
          49.91664505004883,
          198.61195373535156,
          123.85504913330078,
          162.5619659423828,
          117.75318908691406,
          128.35496520996094,
          131.16661071777344,
          54.06520080566406,
          77.57762145996094,
          71.11862182617188,
          215.86087036132812,
          95.1006851196289,
          67.62550354003906,
          68.39733123779297,
          53.30944061279297,
          188.56700134277344,
          259.4278564453125,
          443.3081970214844,
          102.33203887939453,
          165.99066162109375,
          118.31136322021484,
          128.1577606201172,
          83.99761199951172,
          389.8590087890625,
          324.9570007324219,
          54.85005569458008,
          300.570068359375,
          151.45648193359375,
          54.79490661621094,
          147.92742919921875,
          141.653564453125,
          189.52464294433594,
          78.47150421142578,
          138.52500915527344,
          163.87249755859375,
          278.97265625,
          109.16044616699219,
          254.10958862304688,
          120.97254943847656,
          52.04398727416992,
          133.96929931640625,
          52.45256042480469,
          493.77008056640625,
          111.38529205322266,
          137.58493041992188,
          253.57083129882812,
          100.06916809082031,
          393.887451171875,
          251.08859252929688,
          114.56558227539062,
          160.050048828125,
          264.9660949707031,
          56.446189880371094,
          126.83444213867188,
          138.177734375,
          152.63929748535156,
          395.7948303222656,
          214.91624450683594,
          285.59173583984375,
          380.9449768066406,
          381.93975830078125,
          281.3198547363281,
          146.23287963867188,
          47.85979080200195,
          110.06086730957031,
          91.91791534423828,
          87.89115905761719,
          175.2786865234375,
          224.84324645996094,
          201.03880310058594,
          155.39154052734375,
          132.56483459472656,
          163.6457977294922,
          257.9704895019531,
          419.07537841796875,
          145.6702880859375,
          39.501922607421875,
          419.7235107421875,
          229.6475830078125,
          246.58633422851562,
          405.68939208984375,
          45.469940185546875,
          400.9868469238281,
          189.71974182128906,
          108.47108459472656,
          88.8989486694336,
          50.48671340942383,
          148.8632354736328,
          166.60340881347656,
          156.19137573242188,
          131.02516174316406,
          130.59844970703125,
          153.9515838623047,
          138.20208740234375,
          351.4880065917969,
          70.75301361083984,
          196.03086853027344,
          186.59324645996094,
          150.5171356201172,
          98.08128356933594,
          297.2145080566406,
          127.50484466552734,
          289.83465576171875,
          433.75213623046875,
          65.80705261230469,
          212.6295928955078,
          201.2754364013672,
          78.2831039428711,
          114.26570892333984,
          101.78148651123047,
          140.8551483154297,
          109.37556457519531,
          370.0531005859375,
          154.25392150878906,
          133.71682739257812,
          233.90576171875,
          270.9214172363281,
          127.99706268310547,
          57.493865966796875,
          162.06935119628906,
          219.33380126953125,
          81.09874725341797,
          89.61500549316406,
          184.8874969482422,
          102.41326141357422,
          414.15802001953125,
          77.52920532226562,
          476.1582336425781,
          145.24777221679688
         ],
         "yaxis": "y"
        }
       ],
       "layout": {
        "legend": {
         "tracegroupgap": 0
        },
        "margin": {
         "t": 60
        },
        "template": {
         "data": {
          "bar": [
           {
            "error_x": {
             "color": "#2a3f5f"
            },
            "error_y": {
             "color": "#2a3f5f"
            },
            "marker": {
             "line": {
              "color": "#E5ECF6",
              "width": 0.5
             },
             "pattern": {
              "fillmode": "overlay",
              "size": 10,
              "solidity": 0.2
             }
            },
            "type": "bar"
           }
          ],
          "barpolar": [
           {
            "marker": {
             "line": {
              "color": "#E5ECF6",
              "width": 0.5
             },
             "pattern": {
              "fillmode": "overlay",
              "size": 10,
              "solidity": 0.2
             }
            },
            "type": "barpolar"
           }
          ],
          "carpet": [
           {
            "aaxis": {
             "endlinecolor": "#2a3f5f",
             "gridcolor": "white",
             "linecolor": "white",
             "minorgridcolor": "white",
             "startlinecolor": "#2a3f5f"
            },
            "baxis": {
             "endlinecolor": "#2a3f5f",
             "gridcolor": "white",
             "linecolor": "white",
             "minorgridcolor": "white",
             "startlinecolor": "#2a3f5f"
            },
            "type": "carpet"
           }
          ],
          "choropleth": [
           {
            "colorbar": {
             "outlinewidth": 0,
             "ticks": ""
            },
            "type": "choropleth"
           }
          ],
          "contour": [
           {
            "colorbar": {
             "outlinewidth": 0,
             "ticks": ""
            },
            "colorscale": [
             [
              0,
              "#0d0887"
             ],
             [
              0.1111111111111111,
              "#46039f"
             ],
             [
              0.2222222222222222,
              "#7201a8"
             ],
             [
              0.3333333333333333,
              "#9c179e"
             ],
             [
              0.4444444444444444,
              "#bd3786"
             ],
             [
              0.5555555555555556,
              "#d8576b"
             ],
             [
              0.6666666666666666,
              "#ed7953"
             ],
             [
              0.7777777777777778,
              "#fb9f3a"
             ],
             [
              0.8888888888888888,
              "#fdca26"
             ],
             [
              1,
              "#f0f921"
             ]
            ],
            "type": "contour"
           }
          ],
          "contourcarpet": [
           {
            "colorbar": {
             "outlinewidth": 0,
             "ticks": ""
            },
            "type": "contourcarpet"
           }
          ],
          "heatmap": [
           {
            "colorbar": {
             "outlinewidth": 0,
             "ticks": ""
            },
            "colorscale": [
             [
              0,
              "#0d0887"
             ],
             [
              0.1111111111111111,
              "#46039f"
             ],
             [
              0.2222222222222222,
              "#7201a8"
             ],
             [
              0.3333333333333333,
              "#9c179e"
             ],
             [
              0.4444444444444444,
              "#bd3786"
             ],
             [
              0.5555555555555556,
              "#d8576b"
             ],
             [
              0.6666666666666666,
              "#ed7953"
             ],
             [
              0.7777777777777778,
              "#fb9f3a"
             ],
             [
              0.8888888888888888,
              "#fdca26"
             ],
             [
              1,
              "#f0f921"
             ]
            ],
            "type": "heatmap"
           }
          ],
          "heatmapgl": [
           {
            "colorbar": {
             "outlinewidth": 0,
             "ticks": ""
            },
            "colorscale": [
             [
              0,
              "#0d0887"
             ],
             [
              0.1111111111111111,
              "#46039f"
             ],
             [
              0.2222222222222222,
              "#7201a8"
             ],
             [
              0.3333333333333333,
              "#9c179e"
             ],
             [
              0.4444444444444444,
              "#bd3786"
             ],
             [
              0.5555555555555556,
              "#d8576b"
             ],
             [
              0.6666666666666666,
              "#ed7953"
             ],
             [
              0.7777777777777778,
              "#fb9f3a"
             ],
             [
              0.8888888888888888,
              "#fdca26"
             ],
             [
              1,
              "#f0f921"
             ]
            ],
            "type": "heatmapgl"
           }
          ],
          "histogram": [
           {
            "marker": {
             "pattern": {
              "fillmode": "overlay",
              "size": 10,
              "solidity": 0.2
             }
            },
            "type": "histogram"
           }
          ],
          "histogram2d": [
           {
            "colorbar": {
             "outlinewidth": 0,
             "ticks": ""
            },
            "colorscale": [
             [
              0,
              "#0d0887"
             ],
             [
              0.1111111111111111,
              "#46039f"
             ],
             [
              0.2222222222222222,
              "#7201a8"
             ],
             [
              0.3333333333333333,
              "#9c179e"
             ],
             [
              0.4444444444444444,
              "#bd3786"
             ],
             [
              0.5555555555555556,
              "#d8576b"
             ],
             [
              0.6666666666666666,
              "#ed7953"
             ],
             [
              0.7777777777777778,
              "#fb9f3a"
             ],
             [
              0.8888888888888888,
              "#fdca26"
             ],
             [
              1,
              "#f0f921"
             ]
            ],
            "type": "histogram2d"
           }
          ],
          "histogram2dcontour": [
           {
            "colorbar": {
             "outlinewidth": 0,
             "ticks": ""
            },
            "colorscale": [
             [
              0,
              "#0d0887"
             ],
             [
              0.1111111111111111,
              "#46039f"
             ],
             [
              0.2222222222222222,
              "#7201a8"
             ],
             [
              0.3333333333333333,
              "#9c179e"
             ],
             [
              0.4444444444444444,
              "#bd3786"
             ],
             [
              0.5555555555555556,
              "#d8576b"
             ],
             [
              0.6666666666666666,
              "#ed7953"
             ],
             [
              0.7777777777777778,
              "#fb9f3a"
             ],
             [
              0.8888888888888888,
              "#fdca26"
             ],
             [
              1,
              "#f0f921"
             ]
            ],
            "type": "histogram2dcontour"
           }
          ],
          "mesh3d": [
           {
            "colorbar": {
             "outlinewidth": 0,
             "ticks": ""
            },
            "type": "mesh3d"
           }
          ],
          "parcoords": [
           {
            "line": {
             "colorbar": {
              "outlinewidth": 0,
              "ticks": ""
             }
            },
            "type": "parcoords"
           }
          ],
          "pie": [
           {
            "automargin": true,
            "type": "pie"
           }
          ],
          "scatter": [
           {
            "fillpattern": {
             "fillmode": "overlay",
             "size": 10,
             "solidity": 0.2
            },
            "type": "scatter"
           }
          ],
          "scatter3d": [
           {
            "line": {
             "colorbar": {
              "outlinewidth": 0,
              "ticks": ""
             }
            },
            "marker": {
             "colorbar": {
              "outlinewidth": 0,
              "ticks": ""
             }
            },
            "type": "scatter3d"
           }
          ],
          "scattercarpet": [
           {
            "marker": {
             "colorbar": {
              "outlinewidth": 0,
              "ticks": ""
             }
            },
            "type": "scattercarpet"
           }
          ],
          "scattergeo": [
           {
            "marker": {
             "colorbar": {
              "outlinewidth": 0,
              "ticks": ""
             }
            },
            "type": "scattergeo"
           }
          ],
          "scattergl": [
           {
            "marker": {
             "colorbar": {
              "outlinewidth": 0,
              "ticks": ""
             }
            },
            "type": "scattergl"
           }
          ],
          "scattermapbox": [
           {
            "marker": {
             "colorbar": {
              "outlinewidth": 0,
              "ticks": ""
             }
            },
            "type": "scattermapbox"
           }
          ],
          "scatterpolar": [
           {
            "marker": {
             "colorbar": {
              "outlinewidth": 0,
              "ticks": ""
             }
            },
            "type": "scatterpolar"
           }
          ],
          "scatterpolargl": [
           {
            "marker": {
             "colorbar": {
              "outlinewidth": 0,
              "ticks": ""
             }
            },
            "type": "scatterpolargl"
           }
          ],
          "scatterternary": [
           {
            "marker": {
             "colorbar": {
              "outlinewidth": 0,
              "ticks": ""
             }
            },
            "type": "scatterternary"
           }
          ],
          "surface": [
           {
            "colorbar": {
             "outlinewidth": 0,
             "ticks": ""
            },
            "colorscale": [
             [
              0,
              "#0d0887"
             ],
             [
              0.1111111111111111,
              "#46039f"
             ],
             [
              0.2222222222222222,
              "#7201a8"
             ],
             [
              0.3333333333333333,
              "#9c179e"
             ],
             [
              0.4444444444444444,
              "#bd3786"
             ],
             [
              0.5555555555555556,
              "#d8576b"
             ],
             [
              0.6666666666666666,
              "#ed7953"
             ],
             [
              0.7777777777777778,
              "#fb9f3a"
             ],
             [
              0.8888888888888888,
              "#fdca26"
             ],
             [
              1,
              "#f0f921"
             ]
            ],
            "type": "surface"
           }
          ],
          "table": [
           {
            "cells": {
             "fill": {
              "color": "#EBF0F8"
             },
             "line": {
              "color": "white"
             }
            },
            "header": {
             "fill": {
              "color": "#C8D4E3"
             },
             "line": {
              "color": "white"
             }
            },
            "type": "table"
           }
          ]
         },
         "layout": {
          "annotationdefaults": {
           "arrowcolor": "#2a3f5f",
           "arrowhead": 0,
           "arrowwidth": 1
          },
          "autotypenumbers": "strict",
          "coloraxis": {
           "colorbar": {
            "outlinewidth": 0,
            "ticks": ""
           }
          },
          "colorscale": {
           "diverging": [
            [
             0,
             "#8e0152"
            ],
            [
             0.1,
             "#c51b7d"
            ],
            [
             0.2,
             "#de77ae"
            ],
            [
             0.3,
             "#f1b6da"
            ],
            [
             0.4,
             "#fde0ef"
            ],
            [
             0.5,
             "#f7f7f7"
            ],
            [
             0.6,
             "#e6f5d0"
            ],
            [
             0.7,
             "#b8e186"
            ],
            [
             0.8,
             "#7fbc41"
            ],
            [
             0.9,
             "#4d9221"
            ],
            [
             1,
             "#276419"
            ]
           ],
           "sequential": [
            [
             0,
             "#0d0887"
            ],
            [
             0.1111111111111111,
             "#46039f"
            ],
            [
             0.2222222222222222,
             "#7201a8"
            ],
            [
             0.3333333333333333,
             "#9c179e"
            ],
            [
             0.4444444444444444,
             "#bd3786"
            ],
            [
             0.5555555555555556,
             "#d8576b"
            ],
            [
             0.6666666666666666,
             "#ed7953"
            ],
            [
             0.7777777777777778,
             "#fb9f3a"
            ],
            [
             0.8888888888888888,
             "#fdca26"
            ],
            [
             1,
             "#f0f921"
            ]
           ],
           "sequentialminus": [
            [
             0,
             "#0d0887"
            ],
            [
             0.1111111111111111,
             "#46039f"
            ],
            [
             0.2222222222222222,
             "#7201a8"
            ],
            [
             0.3333333333333333,
             "#9c179e"
            ],
            [
             0.4444444444444444,
             "#bd3786"
            ],
            [
             0.5555555555555556,
             "#d8576b"
            ],
            [
             0.6666666666666666,
             "#ed7953"
            ],
            [
             0.7777777777777778,
             "#fb9f3a"
            ],
            [
             0.8888888888888888,
             "#fdca26"
            ],
            [
             1,
             "#f0f921"
            ]
           ]
          },
          "colorway": [
           "#636efa",
           "#EF553B",
           "#00cc96",
           "#ab63fa",
           "#FFA15A",
           "#19d3f3",
           "#FF6692",
           "#B6E880",
           "#FF97FF",
           "#FECB52"
          ],
          "font": {
           "color": "#2a3f5f"
          },
          "geo": {
           "bgcolor": "white",
           "lakecolor": "white",
           "landcolor": "#E5ECF6",
           "showlakes": true,
           "showland": true,
           "subunitcolor": "white"
          },
          "hoverlabel": {
           "align": "left"
          },
          "hovermode": "closest",
          "mapbox": {
           "style": "light"
          },
          "paper_bgcolor": "white",
          "plot_bgcolor": "#E5ECF6",
          "polar": {
           "angularaxis": {
            "gridcolor": "white",
            "linecolor": "white",
            "ticks": ""
           },
           "bgcolor": "#E5ECF6",
           "radialaxis": {
            "gridcolor": "white",
            "linecolor": "white",
            "ticks": ""
           }
          },
          "scene": {
           "xaxis": {
            "backgroundcolor": "#E5ECF6",
            "gridcolor": "white",
            "gridwidth": 2,
            "linecolor": "white",
            "showbackground": true,
            "ticks": "",
            "zerolinecolor": "white"
           },
           "yaxis": {
            "backgroundcolor": "#E5ECF6",
            "gridcolor": "white",
            "gridwidth": 2,
            "linecolor": "white",
            "showbackground": true,
            "ticks": "",
            "zerolinecolor": "white"
           },
           "zaxis": {
            "backgroundcolor": "#E5ECF6",
            "gridcolor": "white",
            "gridwidth": 2,
            "linecolor": "white",
            "showbackground": true,
            "ticks": "",
            "zerolinecolor": "white"
           }
          },
          "shapedefaults": {
           "line": {
            "color": "#2a3f5f"
           }
          },
          "ternary": {
           "aaxis": {
            "gridcolor": "white",
            "linecolor": "white",
            "ticks": ""
           },
           "baxis": {
            "gridcolor": "white",
            "linecolor": "white",
            "ticks": ""
           },
           "bgcolor": "#E5ECF6",
           "caxis": {
            "gridcolor": "white",
            "linecolor": "white",
            "ticks": ""
           }
          },
          "title": {
           "x": 0.05
          },
          "xaxis": {
           "automargin": true,
           "gridcolor": "white",
           "linecolor": "white",
           "ticks": "",
           "title": {
            "standoff": 15
           },
           "zerolinecolor": "white",
           "zerolinewidth": 2
          },
          "yaxis": {
           "automargin": true,
           "gridcolor": "white",
           "linecolor": "white",
           "ticks": "",
           "title": {
            "standoff": 15
           },
           "zerolinecolor": "white",
           "zerolinewidth": 2
          }
         }
        },
        "xaxis": {
         "anchor": "y",
         "domain": [
          0,
          1
         ],
         "title": {
          "text": "Actual y"
         }
        },
        "yaxis": {
         "anchor": "x",
         "domain": [
          0,
          1
         ],
         "title": {
          "text": "Predicted y"
         }
        }
       }
      }
     },
     "metadata": {},
     "output_type": "display_data"
    },
    {
     "data": {
      "image/png": "[encoded data removed]",
      "text/plain": [
       "<Figure size 640x480 with 1 Axes>"
      ]
     },
     "metadata": {},
     "output_type": "display_data"
    }
   ],
   "source": [
    "import xgboost as xgb\n",
    "\n",
    "model = xgb.sklearn.XGBRegressor(tree_method='hist', objective='reg:squarederror', n_estimators = 2500,\n",
    "                         learning_rate=0.01, random_state=random_state)\n",
    "\n",
    "model.fit(X_train, y_train)\n",
    "y_pred = model.predict(X_test)\n",
    "y_train_pred = model.predict(X_train)\n",
    "\n",
    "print(f\"Train\\nScore:{model.score(X_train, y_train)}\")\n",
    "calculate_score(y_train, y_train_pred)\n",
    "\n",
    "print(f\"Test\\nScore:{model.score(X_test, y_test)}\")\n",
    "calculate_score(y_test, y_pred)\n",
    "\n",
    "xgb.plot_importance(model.get_booster(), max_num_features=40)\n",
    "\n",
    "plot(y_test, y_pred)"
   ]
  },
  {
   "cell_type": "code",
   "execution_count": 14,
   "metadata": {},
   "outputs": [],
   "source": [
    "# explainer = shap.TreeExplainer(model)\n",
    "# shap_values = explainer.shap_values(X)\n",
    "# shap.summary_plot(shap_values, X)"
   ]
  },
  {
   "cell_type": "markdown",
   "metadata": {
    "collapsed": false
   },
   "source": [
    "### Model 4: Neural Networks"
   ]
  },
  {
   "cell_type": "code",
   "execution_count": 15,
   "metadata": {
    "collapsed": false
   },
   "outputs": [],
   "source": [
    "X_train, X_val_and_test, y_train, y_val_and_test = train_test_split(X, Y, test_size=0.33, random_state=random_state)\n",
    "\n",
    "s_scaler = StandardScaler()\n",
    "X_train = s_scaler.fit_transform(X_train.astype(np.float64))\n",
    "X_val_and_test = s_scaler.transform(X_val_and_test.astype(np.float64))\n",
    "\n",
    "X_val, X_test, y_val, y_test = train_test_split(X_val_and_test, y_val_and_test, test_size=0.5, random_state=random_state)"
   ]
  },
  {
   "cell_type": "code",
   "execution_count": 16,
   "metadata": {
    "collapsed": false
   },
   "outputs": [],
   "source": [
    "from keras.models import Sequential\n",
    "from keras.layers import Dense\n",
    "\n",
    "model = Sequential()\n",
    "\n",
    "model.add(Dense(256, activation='linear', input_shape=(len(X_val.columns), )))\n",
    "model.add(Dense(128, activation='linear'))\n",
    "model.add(Dense(64, activation='linear'))\n",
    "model.add(Dense(32, activation='linear'))\n",
    "model.add(Dense(16, activation='linear'))\n",
    "model.add(Dense(8, activation='linear'))\n",
    "model.add(Dense(1, activation='linear'))\n",
    "\n",
    "model.compile(loss='mean_squared_error', optimizer='adam')"
   ]
  },
  {
   "attachments": {},
   "cell_type": "markdown",
   "metadata": {
    "collapsed": false
   },
   "source": [
    "Input (n layers) -> Hidden Layer(s) (256, 128, ..., 8) -> Output (1 layer): Price"
   ]
  },
  {
   "cell_type": "code",
   "execution_count": 17,
   "metadata": {
    "collapsed": false
   },
   "outputs": [
    {
     "name": "stderr",
     "output_type": "stream",
     "text": [
      "2023-04-15 16:16:04.596266: W tensorflow/tsl/platform/profile_utils/cpu_utils.cc:128] Failed to get CPU frequency: 0 Hz\n"
     ]
    },
    {
     "name": "stdout",
     "output_type": "stream",
     "text": [
      "Model: \"sequential\"\n",
      "_________________________________________________________________\n",
      " Layer (type)                Output Shape              Param #   \n",
      "=================================================================\n",
      " dense (Dense)               (None, 256)               32512     \n",
      "                                                                 \n",
      " dense_1 (Dense)             (None, 128)               32896     \n",
      "                                                                 \n",
      " dense_2 (Dense)             (None, 64)                8256      \n",
      "                                                                 \n",
      " dense_3 (Dense)             (None, 32)                2080      \n",
      "                                                                 \n",
      " dense_4 (Dense)             (None, 16)                528       \n",
      "                                                                 \n",
      " dense_5 (Dense)             (None, 8)                 136       \n",
      "                                                                 \n",
      " dense_6 (Dense)             (None, 1)                 9         \n",
      "                                                                 \n",
      "=================================================================\n",
      "Total params: 76,417\n",
      "Trainable params: 76,417\n",
      "Non-trainable params: 0\n",
      "_________________________________________________________________\n"
     ]
    }
   ],
   "source": [
    "model.fit(x=X_train,y=y_train,\n",
    "          validation_data=(X_val,y_val),\n",
    "          batch_size=128,epochs=600,verbose=False)\n",
    "model.summary()"
   ]
  },
  {
   "cell_type": "code",
   "execution_count": 18,
   "metadata": {
    "collapsed": false
   },
   "outputs": [
    {
     "data": {
      "text/plain": [
       "<Axes: >"
      ]
     },
     "execution_count": 18,
     "metadata": {},
     "output_type": "execute_result"
    },
    {
     "data": {
      "image/png": "[encoded data removed]",
      "text/plain": [
       "<Figure size 1200x800 with 1 Axes>"
      ]
     },
     "metadata": {},
     "output_type": "display_data"
    }
   ],
   "source": [
    "loss_df = pd.DataFrame(model.history.history)\n",
    "loss_df.plot(figsize=(12,8))\n"
   ]
  },
  {
   "cell_type": "code",
   "execution_count": 19,
   "metadata": {
    "collapsed": false
   },
   "outputs": [
    {
     "name": "stdout",
     "output_type": "stream",
     "text": [
      "15/15 [==============================] - 0s 523us/step\n",
      "RMSE: 87.39830850909578\n",
      "R^2 Score: 0.5420254256965471\n"
     ]
    },
    {
     "data": {
      "application/vnd.plotly.v1+json": {
       "config": {
        "plotlyServerURL": "https://plot.ly"
       },
       "data": [
        {
         "hovertemplate": "Actual y=%{x}<br>Predicted y=%{y}<extra></extra>",
         "legendgroup": "",
         "marker": {
          "color": "#636efa",
          "symbol": "circle"
         },
         "mode": "markers",
         "name": "",
         "orientation": "v",
         "showlegend": false,
         "type": "scatter",
         "x": [
          228,
          118,
          247,
          89,
          140,
          69,
          150,
          174,
          212,
          45,
          567,
          39,
          256,
          194,
          457,
          59,
          48,
          99,
          346,
          180,
          47,
          90,
          60,
          386,
          155,
          67,
          107,
          140,
          25,
          43,
          47,
          200,
          79,
          270,
          399,
          170,
          51,
          66,
          85,
          155,
          55,
          20,
          426,
          60,
          246,
          90,
          432,
          90,
          203,
          260,
          79,
          38,
          173,
          67,
          79,
          50,
          223,
          107,
          188,
          59,
          99,
          120,
          25,
          349,
          180,
          209,
          223,
          206,
          90,
          57,
          61,
          130,
          191,
          68,
          49,
          240,
          200,
          249,
          388,
          189,
          121,
          514,
          33,
          85,
          150,
          120,
          241,
          109,
          270,
          110,
          450,
          105,
          49,
          255,
          165,
          180,
          160,
          60,
          246,
          249,
          198,
          49,
          80,
          246,
          100,
          43,
          297,
          501,
          57,
          38,
          66,
          50,
          148,
          105,
          240,
          40,
          39,
          75,
          79,
          80,
          98,
          45,
          220,
          145,
          78,
          45,
          49,
          60,
          335,
          85,
          168,
          150,
          40,
          353,
          281,
          299,
          144,
          251,
          130,
          390,
          434,
          516,
          325,
          362,
          288,
          94,
          110,
          49,
          163,
          24,
          65,
          125,
          392,
          528,
          39,
          49,
          75,
          38,
          265,
          214,
          44,
          180,
          235,
          508,
          26,
          59,
          88,
          187,
          131,
          107,
          46,
          328,
          24,
          300,
          193,
          206,
          251,
          130,
          180,
          72,
          188,
          36,
          51,
          202,
          188,
          78,
          160,
          529,
          88,
          343,
          70,
          57,
          167,
          180,
          30,
          69,
          208,
          60,
          270,
          80,
          115,
          50,
          30,
          200,
          42,
          140,
          110,
          148,
          243,
          200,
          190,
          153,
          69,
          186,
          180,
          260,
          70,
          38,
          279,
          70,
          225,
          130,
          53,
          527,
          217,
          31,
          176,
          243,
          40,
          400,
          50,
          260,
          399,
          188,
          160,
          80,
          200,
          135,
          345,
          133,
          145,
          39,
          38,
          120,
          43,
          394,
          191,
          57,
          250,
          169,
          159,
          150,
          49,
          49,
          59,
          180,
          50,
          229,
          200,
          98,
          69,
          150,
          59,
          188,
          45,
          168,
          31,
          182,
          386,
          90,
          368,
          613,
          170,
          59,
          458,
          57,
          577,
          238,
          110,
          270,
          210,
          232,
          68,
          145,
          56,
          28,
          69,
          57,
          409,
          75,
          20,
          68,
          50,
          250,
          210,
          88,
          25,
          290,
          196,
          39,
          53,
          221,
          343,
          250,
          387,
          24,
          100,
          60,
          104,
          266,
          163,
          61,
          187,
          49,
          52,
          475,
          196,
          195,
          281,
          461,
          100,
          230,
          150,
          175,
          225,
          127,
          258,
          86,
          175,
          204,
          450,
          200,
          29,
          239,
          119,
          200,
          413,
          95,
          335,
          69,
          231,
          59,
          68,
          136,
          500,
          22,
          95,
          137,
          31,
          395,
          409,
          35,
          85,
          211,
          49,
          150,
          141,
          283,
          178,
          400,
          50,
          233,
          254,
          628,
          135,
          220,
          353,
          151,
          26,
          410,
          149,
          205,
          55,
          156,
          69,
          388,
          148,
          145,
          53,
          30,
          200,
          118,
          67,
          220,
          237,
          45,
          181,
          500,
          217,
          115,
          257,
          250,
          95,
          250,
          279,
          59,
          49,
          187,
          37,
          202,
          375,
          59,
          60,
          345,
          74,
          55,
          335,
          169,
          328,
          354,
          313,
          129,
          404,
          100,
          276,
          180,
          53,
          37,
          168,
          56,
          36,
          155,
          38,
          50,
          241,
          375,
          59,
          43,
          55,
          39,
          70,
          55,
          612,
          69,
          403,
          59,
          66,
          106,
          38,
          67,
          406,
          180,
          151,
          96,
          60,
          59,
          124,
          145,
          410,
          39,
          135,
          88,
          45,
          507,
          90,
          242,
          330,
          450
         ],
         "xaxis": "x",
         "y": [
          281.0879211425781,
          125.09933471679688,
          328.027099609375,
          146.61434936523438,
          174.64862060546875,
          171.90377807617188,
          239.60928344726562,
          246.02389526367188,
          239.53665161132812,
          90.10797119140625,
          337.0062561035156,
          25.089202880859375,
          227.69403076171875,
          104.07489776611328,
          362.91632080078125,
          72.71865844726562,
          126.66084289550781,
          67.31700897216797,
          330.07135009765625,
          249.56561279296875,
          21.849164962768555,
          151.6140899658203,
          39.66184997558594,
          283.3521728515625,
          214.37954711914062,
          247.72573852539062,
          149.09056091308594,
          189.57374572753906,
          100.39703369140625,
          80.71609497070312,
          203.96282958984375,
          296.6614074707031,
          102.12181854248047,
          249.82940673828125,
          246.57711791992188,
          177.28262329101562,
          54.37043762207031,
          85.272216796875,
          28.34111785888672,
          258.7952880859375,
          29.90167808532715,
          -82.30494689941406,
          275.4515380859375,
          76.46115112304688,
          177.86285400390625,
          111.08963012695312,
          256.1946105957031,
          87.62628173828125,
          161.80162048339844,
          281.10791015625,
          101.22282409667969,
          24.585155487060547,
          170.1673583984375,
          -69.85562133789062,
          142.12020874023438,
          92.54319763183594,
          216.88967895507812,
          112.13949584960938,
          264.2277526855469,
          46.785072326660156,
          57.28260040283203,
          184.20809936523438,
          37.499664306640625,
          289.8978271484375,
          223.7532196044922,
          252.39378356933594,
          190.12060546875,
          168.92433166503906,
          154.29910278320312,
          65.52313232421875,
          217.35464477539062,
          88.27316284179688,
          99.47779083251953,
          36.234413146972656,
          31.116775512695312,
          293.25555419921875,
          207.18760681152344,
          211.04833984375,
          248.4747314453125,
          167.7946319580078,
          237.41680908203125,
          357.7288818359375,
          7.662525177001953,
          110.36593627929688,
          189.1629638671875,
          219.5983123779297,
          239.79644775390625,
          122.16645812988281,
          167.502197265625,
          195.33274841308594,
          162.05386352539062,
          118.16598510742188,
          21.80353546142578,
          393.9427490234375,
          164.2397003173828,
          161.1960906982422,
          199.0548858642578,
          14.010921478271484,
          298.365478515625,
          218.60528564453125,
          150.70504760742188,
          53.638214111328125,
          154.01730346679688,
          232.79513549804688,
          24.99176788330078,
          86.59796142578125,
          227.21783447265625,
          181.65017700195312,
          179.9849090576172,
          -26.892946243286133,
          136.1611328125,
          45.34906005859375,
          109.49102783203125,
          157.61785888671875,
          107.22325897216797,
          190.089599609375,
          55.900840759277344,
          112.21332550048828,
          95.95101165771484,
          119.20140838623047,
          194.17721557617188,
          91.47607421875,
          428.8981628417969,
          173.42770385742188,
          98.38360595703125,
          97.69036865234375,
          46.236637115478516,
          103.95817565917969,
          374.72979736328125,
          -1.5532169342041016,
          143.60023498535156,
          159.81399536132812,
          94.03093719482422,
          320.519287109375,
          294.6102600097656,
          252.14556884765625,
          71.8510971069336,
          288.4085388183594,
          59.132171630859375,
          327.8231201171875,
          458.8157653808594,
          319.9735107421875,
          362.2861328125,
          300.53411865234375,
          220.689453125,
          118.31025695800781,
          130.41799926757812,
          27.777381896972656,
          147.6806640625,
          12.208698272705078,
          70.28291320800781,
          12.807140350341797,
          317.5150451660156,
          364.2166748046875,
          17.220561981201172,
          88.39263153076172,
          210.69378662109375,
          36.900848388671875,
          328.17510986328125,
          156.81753540039062,
          87.83061218261719,
          243.65069580078125,
          267.05517578125,
          338.230224609375,
          20.859586715698242,
          67.86642456054688,
          139.35694885253906,
          74.25711822509766,
          165.8199462890625,
          101.22474670410156,
          130.644287109375,
          314.74847412109375,
          125.17720031738281,
          280.48858642578125,
          192.25796508789062,
          229.9501190185547,
          236.45895385742188,
          56.520362854003906,
          231.68087768554688,
          105.90359497070312,
          282.05078125,
          39.16836166381836,
          45.75775909423828,
          195.86004638671875,
          241.13992309570312,
          100.25978088378906,
          262.6761474609375,
          356.9366455078125,
          142.32635498046875,
          41.37162780761719,
          89.8060073852539,
          97.90939331054688,
          228.66844177246094,
          220.0762939453125,
          116.33245849609375,
          153.46974182128906,
          244.70663452148438,
          128.4934844970703,
          284.30792236328125,
          75.34929656982422,
          58.74919891357422,
          118.04190063476562,
          54.61042022705078,
          253.39862060546875,
          65.67134857177734,
          146.54669189453125,
          220.14474487304688,
          206.9722900390625,
          241.85757446289062,
          259.052734375,
          177.21560668945312,
          241.0390625,
          95.00434875488281,
          198.11099243164062,
          216.2649383544922,
          374.04449462890625,
          51.138832092285156,
          -83.00971984863281,
          150.88217163085938,
          229.2275390625,
          78.50487518310547,
          114.05322265625,
          77.95243835449219,
          305.98870849609375,
          311.19830322265625,
          180.97560119628906,
          344.31915283203125,
          336.76165771484375,
          51.88104248046875,
          361.90478515625,
          11.315576553344727,
          152.29693603515625,
          329.6199951171875,
          150.24107360839844,
          126.57923889160156,
          180.1624755859375,
          219.52236938476562,
          236.77072143554688,
          209.43887329101562,
          210.7274169921875,
          204.32200622558594,
          85.17977905273438,
          43.001747131347656,
          160.18943786621094,
          28.17122459411621,
          266.66351318359375,
          173.3948974609375,
          70.43240356445312,
          218.97491455078125,
          264.1936340332031,
          222.83056640625,
          64.84506225585938,
          28.773664474487305,
          50.50366973876953,
          93.43312072753906,
          251.78868103027344,
          28.414596557617188,
          229.40695190429688,
          258.06231689453125,
          262.06646728515625,
          49.645206451416016,
          19.812904357910156,
          79.53141784667969,
          257.3975524902344,
          41.355167388916016,
          179.2448272705078,
          157.90496826171875,
          250.9899139404297,
          300.139404296875,
          80.82711029052734,
          380.30450439453125,
          196.66433715820312,
          189.789306640625,
          48.272945404052734,
          157.22024536132812,
          92.31953430175781,
          398.46942138671875,
          259.51544189453125,
          201.61166381835938,
          98.91592407226562,
          396.6976318359375,
          186.50216674804688,
          -31.611820220947266,
          53.13557434082031,
          108.81167602539062,
          80.15970611572266,
          75.18350219726562,
          133.2008819580078,
          432.7867431640625,
          104.1875,
          54.199249267578125,
          66.12181854248047,
          72.6090087890625,
          304.38226318359375,
          260.51751708984375,
          129.66122436523438,
          101.93135070800781,
          191.06240844726562,
          235.00180053710938,
          25.080951690673828,
          66.51332092285156,
          167.70535278320312,
          323.2648620605469,
          329.14007568359375,
          429.88494873046875,
          96.53689575195312,
          79.13594055175781,
          145.30770874023438,
          76.30378723144531,
          334.46868896484375,
          282.4356994628906,
          110.35181427001953,
          179.82586669921875,
          27.223979949951172,
          44.62667465209961,
          307.58917236328125,
          250.3887939453125,
          295.718505859375,
          387.3486328125,
          397.417724609375,
          115.00859069824219,
          306.2161865234375,
          71.55897521972656,
          202.31430053710938,
          210.23825073242188,
          80.49949645996094,
          306.50042724609375,
          53.331565856933594,
          228.21282958984375,
          191.37472534179688,
          278.831298828125,
          84.17921447753906,
          64.81491088867188,
          225.68679809570312,
          9.23446273803711,
          151.99459838867188,
          349.162353515625,
          112.15249633789062,
          352.5999755859375,
          109.33033752441406,
          251.47511291503906,
          49.82306671142578,
          105.49119567871094,
          162.7870635986328,
          65.48295593261719,
          126.54076385498047,
          196.71969604492188,
          185.27450561523438,
          165.781005859375,
          438.0443115234375,
          443.3643798828125,
          34.22901153564453,
          208.42138671875,
          287.3419189453125,
          57.15904235839844,
          104.85636901855469,
          244.31483459472656,
          325.9869384765625,
          294.69244384765625,
          203.46368408203125,
          47.79181671142578,
          247.1119384765625,
          266.5941467285156,
          229.44424438476562,
          130.25682067871094,
          267.47662353515625,
          319.3357238769531,
          193.29550170898438,
          185.763427734375,
          388.6568908691406,
          286.73736572265625,
          205.47817993164062,
          144.374755859375,
          157.53799438476562,
          54.57124328613281,
          243.38726806640625,
          190.4826202392578,
          200.1650848388672,
          130.54412841796875,
          50.16874694824219,
          171.7892303466797,
          148.14974975585938,
          121.97190856933594,
          315.6828918457031,
          216.84893798828125,
          99.47647094726562,
          131.8822021484375,
          352.1216125488281,
          203.22396850585938,
          137.3783721923828,
          161.09140014648438,
          414.384033203125,
          127.23211669921875,
          138.69790649414062,
          159.68215942382812,
          81.22172546386719,
          59.19414520263672,
          177.1370849609375,
          118.5064697265625,
          132.422607421875,
          292.08636474609375,
          276.75408935546875,
          90.289794921875,
          350.268310546875,
          129.6277313232422,
          108.91038513183594,
          343.7252197265625,
          257.85009765625,
          216.89498901367188,
          420.7296142578125,
          294.66241455078125,
          158.508544921875,
          434.9952392578125,
          149.63671875,
          293.29144287109375,
          140.6842498779297,
          88.44815826416016,
          78.23622131347656,
          90.60818481445312,
          -29.212385177612305,
          105.36052703857422,
          121.70736694335938,
          89.48231506347656,
          134.34771728515625,
          252.5570068359375,
          417.693603515625,
          75.75456237792969,
          49.2756462097168,
          76.21791076660156,
          37.80796432495117,
          138.57901000976562,
          69.46465301513672,
          269.07574462890625,
          88.23930358886719,
          357.97894287109375,
          17.0888671875,
          123.25320434570312,
          86.21636962890625,
          92.75459289550781,
          77.7870101928711,
          297.28472900390625,
          219.52566528320312,
          183.95556640625,
          129.20220947265625,
          83.39987182617188,
          30.102706909179688,
          105.76654052734375,
          205.00790405273438,
          355.9313659667969,
          14.983284950256348,
          135.1796875,
          116.2893295288086,
          36.85200500488281,
          236.53488159179688,
          228.79739379882812,
          171.73696899414062,
          78.76844787597656,
          452.30792236328125
         ],
         "yaxis": "y"
        }
       ],
       "layout": {
        "legend": {
         "tracegroupgap": 0
        },
        "margin": {
         "t": 60
        },
        "template": {
         "data": {
          "bar": [
           {
            "error_x": {
             "color": "#2a3f5f"
            },
            "error_y": {
             "color": "#2a3f5f"
            },
            "marker": {
             "line": {
              "color": "#E5ECF6",
              "width": 0.5
             },
             "pattern": {
              "fillmode": "overlay",
              "size": 10,
              "solidity": 0.2
             }
            },
            "type": "bar"
           }
          ],
          "barpolar": [
           {
            "marker": {
             "line": {
              "color": "#E5ECF6",
              "width": 0.5
             },
             "pattern": {
              "fillmode": "overlay",
              "size": 10,
              "solidity": 0.2
             }
            },
            "type": "barpolar"
           }
          ],
          "carpet": [
           {
            "aaxis": {
             "endlinecolor": "#2a3f5f",
             "gridcolor": "white",
             "linecolor": "white",
             "minorgridcolor": "white",
             "startlinecolor": "#2a3f5f"
            },
            "baxis": {
             "endlinecolor": "#2a3f5f",
             "gridcolor": "white",
             "linecolor": "white",
             "minorgridcolor": "white",
             "startlinecolor": "#2a3f5f"
            },
            "type": "carpet"
           }
          ],
          "choropleth": [
           {
            "colorbar": {
             "outlinewidth": 0,
             "ticks": ""
            },
            "type": "choropleth"
           }
          ],
          "contour": [
           {
            "colorbar": {
             "outlinewidth": 0,
             "ticks": ""
            },
            "colorscale": [
             [
              0,
              "#0d0887"
             ],
             [
              0.1111111111111111,
              "#46039f"
             ],
             [
              0.2222222222222222,
              "#7201a8"
             ],
             [
              0.3333333333333333,
              "#9c179e"
             ],
             [
              0.4444444444444444,
              "#bd3786"
             ],
             [
              0.5555555555555556,
              "#d8576b"
             ],
             [
              0.6666666666666666,
              "#ed7953"
             ],
             [
              0.7777777777777778,
              "#fb9f3a"
             ],
             [
              0.8888888888888888,
              "#fdca26"
             ],
             [
              1,
              "#f0f921"
             ]
            ],
            "type": "contour"
           }
          ],
          "contourcarpet": [
           {
            "colorbar": {
             "outlinewidth": 0,
             "ticks": ""
            },
            "type": "contourcarpet"
           }
          ],
          "heatmap": [
           {
            "colorbar": {
             "outlinewidth": 0,
             "ticks": ""
            },
            "colorscale": [
             [
              0,
              "#0d0887"
             ],
             [
              0.1111111111111111,
              "#46039f"
             ],
             [
              0.2222222222222222,
              "#7201a8"
             ],
             [
              0.3333333333333333,
              "#9c179e"
             ],
             [
              0.4444444444444444,
              "#bd3786"
             ],
             [
              0.5555555555555556,
              "#d8576b"
             ],
             [
              0.6666666666666666,
              "#ed7953"
             ],
             [
              0.7777777777777778,
              "#fb9f3a"
             ],
             [
              0.8888888888888888,
              "#fdca26"
             ],
             [
              1,
              "#f0f921"
             ]
            ],
            "type": "heatmap"
           }
          ],
          "heatmapgl": [
           {
            "colorbar": {
             "outlinewidth": 0,
             "ticks": ""
            },
            "colorscale": [
             [
              0,
              "#0d0887"
             ],
             [
              0.1111111111111111,
              "#46039f"
             ],
             [
              0.2222222222222222,
              "#7201a8"
             ],
             [
              0.3333333333333333,
              "#9c179e"
             ],
             [
              0.4444444444444444,
              "#bd3786"
             ],
             [
              0.5555555555555556,
              "#d8576b"
             ],
             [
              0.6666666666666666,
              "#ed7953"
             ],
             [
              0.7777777777777778,
              "#fb9f3a"
             ],
             [
              0.8888888888888888,
              "#fdca26"
             ],
             [
              1,
              "#f0f921"
             ]
            ],
            "type": "heatmapgl"
           }
          ],
          "histogram": [
           {
            "marker": {
             "pattern": {
              "fillmode": "overlay",
              "size": 10,
              "solidity": 0.2
             }
            },
            "type": "histogram"
           }
          ],
          "histogram2d": [
           {
            "colorbar": {
             "outlinewidth": 0,
             "ticks": ""
            },
            "colorscale": [
             [
              0,
              "#0d0887"
             ],
             [
              0.1111111111111111,
              "#46039f"
             ],
             [
              0.2222222222222222,
              "#7201a8"
             ],
             [
              0.3333333333333333,
              "#9c179e"
             ],
             [
              0.4444444444444444,
              "#bd3786"
             ],
             [
              0.5555555555555556,
              "#d8576b"
             ],
             [
              0.6666666666666666,
              "#ed7953"
             ],
             [
              0.7777777777777778,
              "#fb9f3a"
             ],
             [
              0.8888888888888888,
              "#fdca26"
             ],
             [
              1,
              "#f0f921"
             ]
            ],
            "type": "histogram2d"
           }
          ],
          "histogram2dcontour": [
           {
            "colorbar": {
             "outlinewidth": 0,
             "ticks": ""
            },
            "colorscale": [
             [
              0,
              "#0d0887"
             ],
             [
              0.1111111111111111,
              "#46039f"
             ],
             [
              0.2222222222222222,
              "#7201a8"
             ],
             [
              0.3333333333333333,
              "#9c179e"
             ],
             [
              0.4444444444444444,
              "#bd3786"
             ],
             [
              0.5555555555555556,
              "#d8576b"
             ],
             [
              0.6666666666666666,
              "#ed7953"
             ],
             [
              0.7777777777777778,
              "#fb9f3a"
             ],
             [
              0.8888888888888888,
              "#fdca26"
             ],
             [
              1,
              "#f0f921"
             ]
            ],
            "type": "histogram2dcontour"
           }
          ],
          "mesh3d": [
           {
            "colorbar": {
             "outlinewidth": 0,
             "ticks": ""
            },
            "type": "mesh3d"
           }
          ],
          "parcoords": [
           {
            "line": {
             "colorbar": {
              "outlinewidth": 0,
              "ticks": ""
             }
            },
            "type": "parcoords"
           }
          ],
          "pie": [
           {
            "automargin": true,
            "type": "pie"
           }
          ],
          "scatter": [
           {
            "fillpattern": {
             "fillmode": "overlay",
             "size": 10,
             "solidity": 0.2
            },
            "type": "scatter"
           }
          ],
          "scatter3d": [
           {
            "line": {
             "colorbar": {
              "outlinewidth": 0,
              "ticks": ""
             }
            },
            "marker": {
             "colorbar": {
              "outlinewidth": 0,
              "ticks": ""
             }
            },
            "type": "scatter3d"
           }
          ],
          "scattercarpet": [
           {
            "marker": {
             "colorbar": {
              "outlinewidth": 0,
              "ticks": ""
             }
            },
            "type": "scattercarpet"
           }
          ],
          "scattergeo": [
           {
            "marker": {
             "colorbar": {
              "outlinewidth": 0,
              "ticks": ""
             }
            },
            "type": "scattergeo"
           }
          ],
          "scattergl": [
           {
            "marker": {
             "colorbar": {
              "outlinewidth": 0,
              "ticks": ""
             }
            },
            "type": "scattergl"
           }
          ],
          "scattermapbox": [
           {
            "marker": {
             "colorbar": {
              "outlinewidth": 0,
              "ticks": ""
             }
            },
            "type": "scattermapbox"
           }
          ],
          "scatterpolar": [
           {
            "marker": {
             "colorbar": {
              "outlinewidth": 0,
              "ticks": ""
             }
            },
            "type": "scatterpolar"
           }
          ],
          "scatterpolargl": [
           {
            "marker": {
             "colorbar": {
              "outlinewidth": 0,
              "ticks": ""
             }
            },
            "type": "scatterpolargl"
           }
          ],
          "scatterternary": [
           {
            "marker": {
             "colorbar": {
              "outlinewidth": 0,
              "ticks": ""
             }
            },
            "type": "scatterternary"
           }
          ],
          "surface": [
           {
            "colorbar": {
             "outlinewidth": 0,
             "ticks": ""
            },
            "colorscale": [
             [
              0,
              "#0d0887"
             ],
             [
              0.1111111111111111,
              "#46039f"
             ],
             [
              0.2222222222222222,
              "#7201a8"
             ],
             [
              0.3333333333333333,
              "#9c179e"
             ],
             [
              0.4444444444444444,
              "#bd3786"
             ],
             [
              0.5555555555555556,
              "#d8576b"
             ],
             [
              0.6666666666666666,
              "#ed7953"
             ],
             [
              0.7777777777777778,
              "#fb9f3a"
             ],
             [
              0.8888888888888888,
              "#fdca26"
             ],
             [
              1,
              "#f0f921"
             ]
            ],
            "type": "surface"
           }
          ],
          "table": [
           {
            "cells": {
             "fill": {
              "color": "#EBF0F8"
             },
             "line": {
              "color": "white"
             }
            },
            "header": {
             "fill": {
              "color": "#C8D4E3"
             },
             "line": {
              "color": "white"
             }
            },
            "type": "table"
           }
          ]
         },
         "layout": {
          "annotationdefaults": {
           "arrowcolor": "#2a3f5f",
           "arrowhead": 0,
           "arrowwidth": 1
          },
          "autotypenumbers": "strict",
          "coloraxis": {
           "colorbar": {
            "outlinewidth": 0,
            "ticks": ""
           }
          },
          "colorscale": {
           "diverging": [
            [
             0,
             "#8e0152"
            ],
            [
             0.1,
             "#c51b7d"
            ],
            [
             0.2,
             "#de77ae"
            ],
            [
             0.3,
             "#f1b6da"
            ],
            [
             0.4,
             "#fde0ef"
            ],
            [
             0.5,
             "#f7f7f7"
            ],
            [
             0.6,
             "#e6f5d0"
            ],
            [
             0.7,
             "#b8e186"
            ],
            [
             0.8,
             "#7fbc41"
            ],
            [
             0.9,
             "#4d9221"
            ],
            [
             1,
             "#276419"
            ]
           ],
           "sequential": [
            [
             0,
             "#0d0887"
            ],
            [
             0.1111111111111111,
             "#46039f"
            ],
            [
             0.2222222222222222,
             "#7201a8"
            ],
            [
             0.3333333333333333,
             "#9c179e"
            ],
            [
             0.4444444444444444,
             "#bd3786"
            ],
            [
             0.5555555555555556,
             "#d8576b"
            ],
            [
             0.6666666666666666,
             "#ed7953"
            ],
            [
             0.7777777777777778,
             "#fb9f3a"
            ],
            [
             0.8888888888888888,
             "#fdca26"
            ],
            [
             1,
             "#f0f921"
            ]
           ],
           "sequentialminus": [
            [
             0,
             "#0d0887"
            ],
            [
             0.1111111111111111,
             "#46039f"
            ],
            [
             0.2222222222222222,
             "#7201a8"
            ],
            [
             0.3333333333333333,
             "#9c179e"
            ],
            [
             0.4444444444444444,
             "#bd3786"
            ],
            [
             0.5555555555555556,
             "#d8576b"
            ],
            [
             0.6666666666666666,
             "#ed7953"
            ],
            [
             0.7777777777777778,
             "#fb9f3a"
            ],
            [
             0.8888888888888888,
             "#fdca26"
            ],
            [
             1,
             "#f0f921"
            ]
           ]
          },
          "colorway": [
           "#636efa",
           "#EF553B",
           "#00cc96",
           "#ab63fa",
           "#FFA15A",
           "#19d3f3",
           "#FF6692",
           "#B6E880",
           "#FF97FF",
           "#FECB52"
          ],
          "font": {
           "color": "#2a3f5f"
          },
          "geo": {
           "bgcolor": "white",
           "lakecolor": "white",
           "landcolor": "#E5ECF6",
           "showlakes": true,
           "showland": true,
           "subunitcolor": "white"
          },
          "hoverlabel": {
           "align": "left"
          },
          "hovermode": "closest",
          "mapbox": {
           "style": "light"
          },
          "paper_bgcolor": "white",
          "plot_bgcolor": "#E5ECF6",
          "polar": {
           "angularaxis": {
            "gridcolor": "white",
            "linecolor": "white",
            "ticks": ""
           },
           "bgcolor": "#E5ECF6",
           "radialaxis": {
            "gridcolor": "white",
            "linecolor": "white",
            "ticks": ""
           }
          },
          "scene": {
           "xaxis": {
            "backgroundcolor": "#E5ECF6",
            "gridcolor": "white",
            "gridwidth": 2,
            "linecolor": "white",
            "showbackground": true,
            "ticks": "",
            "zerolinecolor": "white"
           },
           "yaxis": {
            "backgroundcolor": "#E5ECF6",
            "gridcolor": "white",
            "gridwidth": 2,
            "linecolor": "white",
            "showbackground": true,
            "ticks": "",
            "zerolinecolor": "white"
           },
           "zaxis": {
            "backgroundcolor": "#E5ECF6",
            "gridcolor": "white",
            "gridwidth": 2,
            "linecolor": "white",
            "showbackground": true,
            "ticks": "",
            "zerolinecolor": "white"
           }
          },
          "shapedefaults": {
           "line": {
            "color": "#2a3f5f"
           }
          },
          "ternary": {
           "aaxis": {
            "gridcolor": "white",
            "linecolor": "white",
            "ticks": ""
           },
           "baxis": {
            "gridcolor": "white",
            "linecolor": "white",
            "ticks": ""
           },
           "bgcolor": "#E5ECF6",
           "caxis": {
            "gridcolor": "white",
            "linecolor": "white",
            "ticks": ""
           }
          },
          "title": {
           "x": 0.05
          },
          "xaxis": {
           "automargin": true,
           "gridcolor": "white",
           "linecolor": "white",
           "ticks": "",
           "title": {
            "standoff": 15
           },
           "zerolinecolor": "white",
           "zerolinewidth": 2
          },
          "yaxis": {
           "automargin": true,
           "gridcolor": "white",
           "linecolor": "white",
           "ticks": "",
           "title": {
            "standoff": 15
           },
           "zerolinecolor": "white",
           "zerolinewidth": 2
          }
         }
        },
        "xaxis": {
         "anchor": "y",
         "domain": [
          0,
          1
         ],
         "title": {
          "text": "Actual y"
         }
        },
        "yaxis": {
         "anchor": "x",
         "domain": [
          0,
          1
         ],
         "title": {
          "text": "Predicted y"
         }
        }
       }
      }
     },
     "metadata": {},
     "output_type": "display_data"
    }
   ],
   "source": [
    "y_pred = model.predict(X_test)\n",
    "print('RMSE:', np.sqrt(mean_squared_error(y_test, y_pred)))\n",
    "print('R^2 Score:',explained_variance_score(y_test,y_pred))\n",
    "# Visualizing Our predictions\n",
    "\n",
    "y_pred = np.array(y_pred).flatten()\n",
    "y_test = np.array(y_test)\n",
    "\n",
    "plot(y_test, y_pred)\n"
   ]
  },
  {
   "attachments": {},
   "cell_type": "markdown",
   "metadata": {
    "collapsed": false
   },
   "source": [
    "We can conclude that HistGradientBoostingRegressor and XGBoost Regressor achieve the best results, with the lowest RMSE (~60) and the higher R^2 score (~0.75). All other models achieve decent results, with RMSE around half of standard deviation, and R^2 > 0.5."
   ]
  },
  {
   "attachments": {},
   "cell_type": "markdown",
   "metadata": {},
   "source": [
    "# Part 2: Optimising models\n",
    "\n",
    "We will be using RandomizedSearchCV, GridSearchCV to find the optimal parameters.\n",
    "- Benefit: Can finds optimal values between the 'grid' in a GridSearchCV, do not need prior experience & intuition.\n",
    "- Downside: Takes significantly longer to find optimal values."
   ]
  },
  {
   "cell_type": "code",
   "execution_count": 20,
   "metadata": {},
   "outputs": [],
   "source": [
    "X_train, X_test, y_train, y_test = train_test_split(X, Y, test_size=0.20, random_state=random_state)"
   ]
  },
  {
   "cell_type": "code",
   "execution_count": 21,
   "metadata": {},
   "outputs": [],
   "source": [
    "from scipy.stats import loguniform\n",
    "# Code from scikit-learn-mooc\n",
    "class loguniform_int:\n",
    "    \"\"\"Integer valued version of the log-uniform distribution\"\"\"\n",
    "    def __init__(self, a, b):\n",
    "        self._distribution = loguniform(a, b)\n",
    "\n",
    "    def rvs(self, *args, **kwargs):\n",
    "        \"\"\"Random variable sample\"\"\"\n",
    "        return self._distribution.rvs(*args, **kwargs).astype(int)"
   ]
  },
  {
   "cell_type": "code",
   "execution_count": 22,
   "metadata": {},
   "outputs": [
    {
     "name": "stderr",
     "output_type": "stream",
     "text": [
      "/opt/homebrew/Caskroom/mambaforge/base/envs/datascience/lib/python3.10/site-packages/joblib/externals/loky/process_executor.py:702: UserWarning:\n",
      "\n",
      "A worker stopped while some jobs were given to the executor. This can be caused by a too short worker timeout or by a memory leak.\n",
      "\n"
     ]
    },
    {
     "name": "stdout",
     "output_type": "stream",
     "text": [
      "{'learning_rate': 0.05818511709746038, 'max_bins': 166, 'max_leaf_nodes': 189, 'min_samples_leaf': 12}\n",
      "R2 Score 0.7477210612614842\n",
      "RMSE : 64.62482988851468\n"
     ]
    }
   ],
   "source": [
    "from sklearn.model_selection import GridSearchCV, RandomizedSearchCV\n",
    "\n",
    "model = HistGradientBoostingRegressor(random_state=random_state)#.fit(X_train, y_train)\n",
    "\n",
    "param_distributions = {\n",
    "    'max_bins': loguniform_int(2, 255),\n",
    "    'max_leaf_nodes': loguniform_int(2, 256),\n",
    "    'min_samples_leaf': loguniform_int(1, 100),\n",
    "    'learning_rate': loguniform(0.001, 10),\n",
    "}\n",
    "\n",
    "cv = RandomizedSearchCV(model, param_distributions=param_distributions, n_iter=350, cv=3, n_jobs=-1) \n",
    "\n",
    "cv.fit(X_train, y_train)\n",
    "print(cv.best_params_)\n",
    "est = cv.best_estimator_\n",
    "y_pred = est.predict(X_test)\n",
    "calculate_score(y_test, y_pred)"
   ]
  },
  {
   "cell_type": "code",
   "execution_count": 23,
   "metadata": {},
   "outputs": [
    {
     "data": {
      "text/html": [
       "<div>\n",
       "<style scoped>\n",
       "    .dataframe tbody tr th:only-of-type {\n",
       "        vertical-align: middle;\n",
       "    }\n",
       "\n",
       "    .dataframe tbody tr th {\n",
       "        vertical-align: top;\n",
       "    }\n",
       "\n",
       "    .dataframe thead th {\n",
       "        text-align: right;\n",
       "    }\n",
       "</style>\n",
       "<table border=\"1\" class=\"dataframe\">\n",
       "  <thead>\n",
       "    <tr style=\"text-align: right;\">\n",
       "      <th></th>\n",
       "      <th>mean_fit_time</th>\n",
       "      <th>std_fit_time</th>\n",
       "      <th>mean_score_time</th>\n",
       "      <th>std_score_time</th>\n",
       "      <th>param_learning_rate</th>\n",
       "      <th>param_max_bins</th>\n",
       "      <th>param_max_leaf_nodes</th>\n",
       "      <th>param_min_samples_leaf</th>\n",
       "      <th>params</th>\n",
       "      <th>split0_test_score</th>\n",
       "      <th>split1_test_score</th>\n",
       "      <th>split2_test_score</th>\n",
       "      <th>mean_test_score</th>\n",
       "      <th>std_test_score</th>\n",
       "      <th>rank_test_score</th>\n",
       "    </tr>\n",
       "  </thead>\n",
       "  <tbody>\n",
       "    <tr>\n",
       "      <th>3</th>\n",
       "      <td>1.215724</td>\n",
       "      <td>0.069551</td>\n",
       "      <td>0.013997</td>\n",
       "      <td>0.007213</td>\n",
       "      <td>0.058185</td>\n",
       "      <td>166</td>\n",
       "      <td>189</td>\n",
       "      <td>12</td>\n",
       "      <td>{'learning_rate': 0.05818511709746038, 'max_bi...</td>\n",
       "      <td>0.707553</td>\n",
       "      <td>0.711222</td>\n",
       "      <td>0.719196</td>\n",
       "      <td>0.712657</td>\n",
       "      <td>0.004861</td>\n",
       "      <td>1</td>\n",
       "    </tr>\n",
       "    <tr>\n",
       "      <th>349</th>\n",
       "      <td>0.714858</td>\n",
       "      <td>0.063971</td>\n",
       "      <td>0.007805</td>\n",
       "      <td>0.000117</td>\n",
       "      <td>0.049106</td>\n",
       "      <td>64</td>\n",
       "      <td>77</td>\n",
       "      <td>8</td>\n",
       "      <td>{'learning_rate': 0.049105672320482, 'max_bins...</td>\n",
       "      <td>0.711231</td>\n",
       "      <td>0.698478</td>\n",
       "      <td>0.721706</td>\n",
       "      <td>0.710472</td>\n",
       "      <td>0.009498</td>\n",
       "      <td>2</td>\n",
       "    </tr>\n",
       "    <tr>\n",
       "      <th>169</th>\n",
       "      <td>0.284046</td>\n",
       "      <td>0.010421</td>\n",
       "      <td>0.007526</td>\n",
       "      <td>0.002686</td>\n",
       "      <td>0.161721</td>\n",
       "      <td>6</td>\n",
       "      <td>19</td>\n",
       "      <td>7</td>\n",
       "      <td>{'learning_rate': 0.16172087781890432, 'max_bi...</td>\n",
       "      <td>0.703903</td>\n",
       "      <td>0.713591</td>\n",
       "      <td>0.713024</td>\n",
       "      <td>0.710173</td>\n",
       "      <td>0.004439</td>\n",
       "      <td>3</td>\n",
       "    </tr>\n",
       "    <tr>\n",
       "      <th>114</th>\n",
       "      <td>1.037351</td>\n",
       "      <td>0.007325</td>\n",
       "      <td>0.008823</td>\n",
       "      <td>0.001233</td>\n",
       "      <td>0.082084</td>\n",
       "      <td>121</td>\n",
       "      <td>76</td>\n",
       "      <td>3</td>\n",
       "      <td>{'learning_rate': 0.08208368756756042, 'max_bi...</td>\n",
       "      <td>0.723825</td>\n",
       "      <td>0.703797</td>\n",
       "      <td>0.693873</td>\n",
       "      <td>0.707165</td>\n",
       "      <td>0.012457</td>\n",
       "      <td>4</td>\n",
       "    </tr>\n",
       "    <tr>\n",
       "      <th>21</th>\n",
       "      <td>0.330501</td>\n",
       "      <td>0.017328</td>\n",
       "      <td>0.007128</td>\n",
       "      <td>0.002263</td>\n",
       "      <td>0.22011</td>\n",
       "      <td>6</td>\n",
       "      <td>32</td>\n",
       "      <td>6</td>\n",
       "      <td>{'learning_rate': 0.22011040568084472, 'max_bi...</td>\n",
       "      <td>0.695189</td>\n",
       "      <td>0.703642</td>\n",
       "      <td>0.722006</td>\n",
       "      <td>0.706946</td>\n",
       "      <td>0.011194</td>\n",
       "      <td>5</td>\n",
       "    </tr>\n",
       "    <tr>\n",
       "      <th>347</th>\n",
       "      <td>0.710071</td>\n",
       "      <td>0.025141</td>\n",
       "      <td>0.008948</td>\n",
       "      <td>0.000867</td>\n",
       "      <td>0.077416</td>\n",
       "      <td>64</td>\n",
       "      <td>109</td>\n",
       "      <td>25</td>\n",
       "      <td>{'learning_rate': 0.0774158116324961, 'max_bin...</td>\n",
       "      <td>0.695732</td>\n",
       "      <td>0.701396</td>\n",
       "      <td>0.720234</td>\n",
       "      <td>0.705787</td>\n",
       "      <td>0.010474</td>\n",
       "      <td>6</td>\n",
       "    </tr>\n",
       "    <tr>\n",
       "      <th>248</th>\n",
       "      <td>0.372029</td>\n",
       "      <td>0.015290</td>\n",
       "      <td>0.007210</td>\n",
       "      <td>0.001997</td>\n",
       "      <td>0.169132</td>\n",
       "      <td>3</td>\n",
       "      <td>33</td>\n",
       "      <td>2</td>\n",
       "      <td>{'learning_rate': 0.16913159664373933, 'max_bi...</td>\n",
       "      <td>0.697509</td>\n",
       "      <td>0.708481</td>\n",
       "      <td>0.703654</td>\n",
       "      <td>0.703214</td>\n",
       "      <td>0.004490</td>\n",
       "      <td>7</td>\n",
       "    </tr>\n",
       "    <tr>\n",
       "      <th>214</th>\n",
       "      <td>0.408716</td>\n",
       "      <td>0.016182</td>\n",
       "      <td>0.007260</td>\n",
       "      <td>0.002307</td>\n",
       "      <td>0.112936</td>\n",
       "      <td>5</td>\n",
       "      <td>45</td>\n",
       "      <td>3</td>\n",
       "      <td>{'learning_rate': 0.11293603972021438, 'max_bi...</td>\n",
       "      <td>0.704836</td>\n",
       "      <td>0.704376</td>\n",
       "      <td>0.700411</td>\n",
       "      <td>0.703208</td>\n",
       "      <td>0.001986</td>\n",
       "      <td>8</td>\n",
       "    </tr>\n",
       "    <tr>\n",
       "      <th>314</th>\n",
       "      <td>0.388424</td>\n",
       "      <td>0.016633</td>\n",
       "      <td>0.006831</td>\n",
       "      <td>0.001632</td>\n",
       "      <td>0.042092</td>\n",
       "      <td>15</td>\n",
       "      <td>28</td>\n",
       "      <td>5</td>\n",
       "      <td>{'learning_rate': 0.04209207567737261, 'max_bi...</td>\n",
       "      <td>0.702071</td>\n",
       "      <td>0.703060</td>\n",
       "      <td>0.704155</td>\n",
       "      <td>0.703095</td>\n",
       "      <td>0.000851</td>\n",
       "      <td>9</td>\n",
       "    </tr>\n",
       "    <tr>\n",
       "      <th>78</th>\n",
       "      <td>0.390836</td>\n",
       "      <td>0.007399</td>\n",
       "      <td>0.004671</td>\n",
       "      <td>0.000590</td>\n",
       "      <td>0.124497</td>\n",
       "      <td>141</td>\n",
       "      <td>21</td>\n",
       "      <td>7</td>\n",
       "      <td>{'learning_rate': 0.12449656169738635, 'max_bi...</td>\n",
       "      <td>0.700913</td>\n",
       "      <td>0.697668</td>\n",
       "      <td>0.710014</td>\n",
       "      <td>0.702865</td>\n",
       "      <td>0.005226</td>\n",
       "      <td>10</td>\n",
       "    </tr>\n",
       "  </tbody>\n",
       "</table>\n",
       "</div>"
      ],
      "text/plain": [
       "     mean_fit_time  std_fit_time  mean_score_time  std_score_time  \\\n",
       "3         1.215724      0.069551         0.013997        0.007213   \n",
       "349       0.714858      0.063971         0.007805        0.000117   \n",
       "169       0.284046      0.010421         0.007526        0.002686   \n",
       "114       1.037351      0.007325         0.008823        0.001233   \n",
       "21        0.330501      0.017328         0.007128        0.002263   \n",
       "347       0.710071      0.025141         0.008948        0.000867   \n",
       "248       0.372029      0.015290         0.007210        0.001997   \n",
       "214       0.408716      0.016182         0.007260        0.002307   \n",
       "314       0.388424      0.016633         0.006831        0.001632   \n",
       "78        0.390836      0.007399         0.004671        0.000590   \n",
       "\n",
       "    param_learning_rate param_max_bins param_max_leaf_nodes  \\\n",
       "3              0.058185            166                  189   \n",
       "349            0.049106             64                   77   \n",
       "169            0.161721              6                   19   \n",
       "114            0.082084            121                   76   \n",
       "21              0.22011              6                   32   \n",
       "347            0.077416             64                  109   \n",
       "248            0.169132              3                   33   \n",
       "214            0.112936              5                   45   \n",
       "314            0.042092             15                   28   \n",
       "78             0.124497            141                   21   \n",
       "\n",
       "    param_min_samples_leaf                                             params  \\\n",
       "3                       12  {'learning_rate': 0.05818511709746038, 'max_bi...   \n",
       "349                      8  {'learning_rate': 0.049105672320482, 'max_bins...   \n",
       "169                      7  {'learning_rate': 0.16172087781890432, 'max_bi...   \n",
       "114                      3  {'learning_rate': 0.08208368756756042, 'max_bi...   \n",
       "21                       6  {'learning_rate': 0.22011040568084472, 'max_bi...   \n",
       "347                     25  {'learning_rate': 0.0774158116324961, 'max_bin...   \n",
       "248                      2  {'learning_rate': 0.16913159664373933, 'max_bi...   \n",
       "214                      3  {'learning_rate': 0.11293603972021438, 'max_bi...   \n",
       "314                      5  {'learning_rate': 0.04209207567737261, 'max_bi...   \n",
       "78                       7  {'learning_rate': 0.12449656169738635, 'max_bi...   \n",
       "\n",
       "     split0_test_score  split1_test_score  split2_test_score  mean_test_score  \\\n",
       "3             0.707553           0.711222           0.719196         0.712657   \n",
       "349           0.711231           0.698478           0.721706         0.710472   \n",
       "169           0.703903           0.713591           0.713024         0.710173   \n",
       "114           0.723825           0.703797           0.693873         0.707165   \n",
       "21            0.695189           0.703642           0.722006         0.706946   \n",
       "347           0.695732           0.701396           0.720234         0.705787   \n",
       "248           0.697509           0.708481           0.703654         0.703214   \n",
       "214           0.704836           0.704376           0.700411         0.703208   \n",
       "314           0.702071           0.703060           0.704155         0.703095   \n",
       "78            0.700913           0.697668           0.710014         0.702865   \n",
       "\n",
       "     std_test_score  rank_test_score  \n",
       "3          0.004861                1  \n",
       "349        0.009498                2  \n",
       "169        0.004439                3  \n",
       "114        0.012457                4  \n",
       "21         0.011194                5  \n",
       "347        0.010474                6  \n",
       "248        0.004490                7  \n",
       "214        0.001986                8  \n",
       "314        0.000851                9  \n",
       "78         0.005226               10  "
      ]
     },
     "execution_count": 23,
     "metadata": {},
     "output_type": "execute_result"
    }
   ],
   "source": [
    "v = pd.DataFrame(cv.cv_results_)\n",
    "v.sort_values(by='rank_test_score', inplace=True)\n",
    "v.head(10)"
   ]
  },
  {
   "cell_type": "code",
   "execution_count": 24,
   "metadata": {},
   "outputs": [
    {
     "name": "stdout",
     "output_type": "stream",
     "text": [
      "Best parameters: {'learning_rate': 0.05818511709746038, 'max_bins': 166, 'max_leaf_nodes': 189, 'min_samples_leaf': 12}\n"
     ]
    }
   ],
   "source": [
    "print(f\"Best parameters: {v.iloc[0]['params']}\")"
   ]
  },
  {
   "attachments": {},
   "cell_type": "markdown",
   "metadata": {},
   "source": [
    "We can see that parameters with rank 1 has higher R^2 score. "
   ]
  },
  {
   "attachments": {},
   "cell_type": "markdown",
   "metadata": {},
   "source": [
    "Note that due to cross-validation, R^2 score in GridSearchCV is lower than the above example, however it still shows the better parameters."
   ]
  },
  {
   "cell_type": "code",
   "execution_count": 25,
   "metadata": {},
   "outputs": [
    {
     "name": "stdout",
     "output_type": "stream",
     "text": [
      "R2 Score 0.7477210612614842\n",
      "RMSE : 64.62482988851468\n"
     ]
    }
   ],
   "source": [
    "model = HistGradientBoostingRegressor(**cv.best_params_, random_state=random_state).fit(X_train, y_train)\n",
    "y_pred = model.predict(X_test)\n",
    "calculate_score(y_test, y_pred)"
   ]
  },
  {
   "cell_type": "code",
   "execution_count": 26,
   "metadata": {},
   "outputs": [
    {
     "data": {
      "application/vnd.plotly.v1+json": {
       "config": {
        "plotlyServerURL": "https://plot.ly"
       },
       "data": [
        {
         "hovertemplate": "Actual y=%{x}<br>Predicted y=%{y}<extra></extra>",
         "legendgroup": "",
         "marker": {
          "color": "#636efa",
          "symbol": "circle"
         },
         "mode": "markers",
         "name": "",
         "orientation": "v",
         "showlegend": false,
         "type": "scatter",
         "x": [
          106,
          350,
          319,
          48,
          69,
          130,
          276,
          205,
          108,
          21,
          200,
          98,
          42,
          79,
          404,
          246,
          110,
          335,
          270,
          70,
          39,
          59,
          145,
          70,
          34,
          68,
          270,
          187,
          49,
          243,
          39,
          168,
          149,
          150,
          145,
          305,
          430,
          85,
          50,
          200,
          241,
          30,
          165,
          85,
          410,
          69,
          103,
          40,
          196,
          88,
          130,
          90,
          320,
          137,
          357,
          217,
          191,
          155,
          95,
          45,
          141,
          50,
          148,
          246,
          70,
          250,
          31,
          203,
          49,
          202,
          59,
          356,
          158,
          206,
          279,
          156,
          79,
          195,
          100,
          320,
          188,
          160,
          204,
          155,
          162,
          143,
          168,
          149,
          110,
          394,
          173,
          330,
          225,
          20,
          44,
          49,
          127,
          366,
          25,
          224,
          80,
          88,
          59,
          105,
          38,
          80,
          79,
          99,
          281,
          145,
          60,
          59,
          150,
          99,
          130,
          145,
          60,
          54,
          230,
          501,
          375,
          56,
          516,
          528,
          402,
          59,
          75,
          50,
          279,
          167,
          47,
          230,
          49,
          457,
          200,
          150,
          40,
          28,
          35,
          68,
          175,
          75,
          65,
          79,
          280,
          55,
          120,
          59,
          360,
          328,
          115,
          403,
          75,
          540,
          277,
          497,
          244,
          130,
          70,
          139,
          131,
          307,
          150,
          567,
          300,
          67,
          190,
          33,
          38,
          628,
          59,
          65,
          77,
          49,
          115,
          68,
          458,
          135,
          99,
          75,
          124,
          260,
          140,
          52,
          93,
          59,
          45,
          24,
          128,
          30,
          200,
          53,
          246,
          39,
          367,
          405,
          105,
          170,
          247,
          240,
          88,
          102,
          75,
          150,
          175,
          239,
          39,
          328,
          172,
          499,
          320,
          133,
          62,
          390,
          200,
          100,
          148,
          79,
          145,
          90,
          60,
          60,
          85,
          250,
          120,
          40,
          90,
          484,
          61,
          343,
          25,
          343,
          285,
          39,
          176,
          62,
          25,
          86,
          188,
          100,
          129,
          110,
          74,
          145,
          109,
          527,
          29,
          38,
          115,
          200,
          49,
          39,
          150,
          89,
          217,
          95,
          240,
          575,
          90,
          91,
          350,
          88,
          180,
          90,
          49,
          65,
          172,
          299,
          300,
          89,
          375,
          69,
          39,
          65,
          193,
          125,
          79,
          346,
          120,
          36,
          257,
          78,
          174,
          165,
          130,
          186,
          539,
          79,
          200,
          208,
          185,
          175,
          43,
          409,
          109,
          238,
          90,
          50,
          362,
          196,
          72,
          93,
          101,
          368,
          409,
          57,
          475,
          105,
          100,
          200,
          246,
          33,
          217,
          495,
          384,
          80,
          136,
          69,
          260,
          59,
          124,
          28,
          99,
          433,
          409,
          60,
          180,
          315,
          69,
          251,
          188,
          144,
          37,
          482,
          120,
          38,
          313,
          195,
          196,
          395,
          242,
          69,
          66,
          118,
          40,
          80,
          452,
          85,
          90,
          107,
          420,
          293,
          36,
          42,
          140,
          110,
          80,
          24,
          70,
          55,
          253,
          399,
          90,
          106,
          67,
          144,
          110,
          399,
          70,
          247,
          220,
          181,
          158,
          26,
          55,
          108,
          507,
          457,
          260,
          59,
          199,
          514,
          46,
          69,
          88,
          241,
          188,
          432,
          39,
          100,
          144,
          99,
          69,
          119,
          31,
          300,
          341,
          386,
          265,
          31,
          399,
          270,
          400,
          223,
          135,
          57,
          45,
          49,
          68,
          550,
          457,
          38,
          46,
          207,
          47,
          85,
          250,
          30,
          323,
          60,
          43,
          171,
          78,
          168,
          160,
          67,
          50,
          187,
          114,
          163,
          90,
          53,
          30,
          50,
          78,
          51,
          173,
          55,
          69,
          78,
          43,
          189,
          187,
          395,
          150,
          160,
          126,
          68,
          58,
          529,
          335,
          49,
          215,
          198,
          40,
          120,
          152,
          208,
          27,
          120,
          151,
          250,
          95,
          233,
          140,
          49,
          134,
          99,
          500,
          115,
          90,
          243,
          96,
          335,
          200,
          104,
          56,
          297,
          38,
          107,
          134,
          155,
          225,
          221,
          149,
          300,
          392,
          600,
          118,
          69,
          118,
          59,
          88,
          279,
          246,
          140,
          165,
          127,
          181,
          198,
          410,
          85,
          45,
          345,
          225,
          309,
          354,
          65,
          461,
          169,
          180,
          100,
          50,
          260,
          212,
          60,
          180,
          59,
          190,
          110,
          395,
          56,
          144,
          251,
          155,
          95,
          300,
          130,
          235,
          350,
          80,
          160,
          237,
          65,
          20,
          200,
          187,
          60,
          281,
          155,
          120,
          196,
          180,
          98,
          105,
          135,
          230,
          90,
          66,
          200,
          60,
          413,
          40,
          550,
          140
         ],
         "xaxis": "x",
         "y": [
          128.2019200903514,
          217.86021763057815,
          333.3584773182562,
          57.84017120698546,
          108.81667343284747,
          99.06933311261587,
          294.65672967736157,
          293.18576097635184,
          126.66248687258445,
          76.16028360812338,
          233.01788101340748,
          150.25334735400475,
          129.626648300189,
          93.18967116712814,
          181.16824455639863,
          192.3261979108234,
          139.24164508806038,
          336.2062209299462,
          229.72600539538004,
          69.49325982148704,
          38.58580078341393,
          54.51675353900302,
          119.25600283477334,
          146.91417535980332,
          89.4482763022292,
          102.59197796224144,
          255.60984649553103,
          184.22228935543419,
          88.52491711017923,
          210.36287318279335,
          42.25541028586763,
          169.5254123792249,
          104.95062463383972,
          134.47029613034914,
          172.4675364952534,
          134.07305783577348,
          462.61893818976444,
          118.24474843494725,
          51.398148875832696,
          184.8928359245094,
          225.8861112160352,
          67.8360623286955,
          161.77519894603978,
          113.13790406627405,
          336.3130126216086,
          107.88759688362931,
          98.86870328621109,
          95.53834722147593,
          199.5461035406318,
          123.76638991425364,
          141.03344086529415,
          159.4302956071937,
          385.4782413894593,
          141.66922983891263,
          396.2771349061695,
          234.46346401360924,
          119.71363526664747,
          218.86683453767398,
          125.72066195307615,
          47.45687429810358,
          193.33915734916914,
          57.11782058341714,
          196.0743706190519,
          259.9559593812476,
          195.4402699756388,
          287.22207325773707,
          39.53300672105405,
          206.4690431767954,
          123.08431011031773,
          258.12581188633544,
          60.02174989500435,
          358.6652229530066,
          132.60656924663868,
          119.41000608928506,
          264.5539442618946,
          184.05776557204405,
          154.08431450215613,
          238.58468065972338,
          70.53803703312404,
          231.52032626404682,
          219.95726512239276,
          69.12265754150353,
          192.79049131131472,
          213.121495728361,
          131.27999327586375,
          169.12602832485115,
          93.43268462223469,
          148.46697530398356,
          139.68597328668994,
          182.32400253868755,
          177.5802537260382,
          306.73606417908786,
          283.6817211816957,
          56.53338027162846,
          88.0032028940179,
          50.0793535176558,
          163.6674486920741,
          368.413845453673,
          121.90671516237072,
          270.0548204338657,
          83.70244156827239,
          117.64598114214579,
          69.92947069355164,
          155.5532765018343,
          78.6547638847176,
          112.77594024478817,
          75.1084971645184,
          107.53923402898995,
          485.5118492832492,
          143.92948869865774,
          63.56200528928079,
          92.23040115986744,
          74.77216017767576,
          60.06606263921531,
          184.3336035457978,
          189.63388191587384,
          134.33710052922814,
          54.00013001545038,
          208.53285415043635,
          344.13313658456275,
          538.1616223233799,
          59.851678634699645,
          487.1094089657192,
          412.803349760872,
          430.7005523573542,
          63.61344841326838,
          113.68023924179028,
          105.0945209286884,
          204.08473610645208,
          221.802965963242,
          95.38117117578271,
          232.75864682828222,
          51.730176870480975,
          311.84621340679803,
          206.34696065433013,
          197.15405988345077,
          47.52272553628921,
          28.69314250316885,
          82.1787156468906,
          100.5433007302677,
          230.93758280235912,
          79.96033314373709,
          72.54877053856423,
          77.19302430116564,
          284.58952164681057,
          78.75614985317591,
          110.87574945792683,
          66.86296458738187,
          411.453334304509,
          313.21720834609636,
          112.12662955096926,
          386.5551013536425,
          98.01093846768525,
          274.0589604920238,
          188.24635779393338,
          450.89174459839177,
          156.86287477471285,
          97.32651730482581,
          103.0214317449193,
          65.60235866028549,
          127.03392990156527,
          281.48319952904166,
          59.15403453208404,
          291.64242145572996,
          137.1036749382232,
          71.16522590870782,
          210.97097854018068,
          28.555485510065182,
          97.15508541784611,
          230.62258842367007,
          55.37331660501583,
          95.49979647686705,
          72.0124489783577,
          52.3353227616366,
          110.62026166119959,
          88.5349934645632,
          203.49539576972685,
          211.43710133933854,
          133.73130833945999,
          63.45653963910093,
          163.27068248645543,
          321.4151863223924,
          162.8565035049798,
          68.46175051546308,
          94.66017194373296,
          60.028517403064896,
          94.65338993703935,
          49.77861581533039,
          83.03706103521138,
          142.65059468142996,
          167.4692151802024,
          70.27725317737789,
          137.0360721461867,
          47.57074212808179,
          433.91525430594663,
          392.8813161982922,
          130.05288802275354,
          220.9078427801351,
          212.84316790502902,
          174.19459598896992,
          68.85035525906558,
          153.74341836915696,
          65.32155532289819,
          168.84781085497897,
          237.2738977282952,
          267.12740301136904,
          36.87742697363816,
          326.8904419753405,
          164.9363617219302,
          262.9647921699123,
          377.1410004721744,
          157.66021653181048,
          94.10948120468942,
          357.45760456429366,
          73.28813884315835,
          83.83963797621514,
          142.09441926607215,
          67.59418083202331,
          191.66573613240038,
          85.72553018431059,
          114.22577448361928,
          114.67053314409064,
          107.67317521755866,
          357.60581622710384,
          180.29337889599128,
          44.79583326924275,
          86.32357180073647,
          415.94696546685054,
          81.73986074909148,
          83.6223887235091,
          66.21657609510707,
          323.09229696434693,
          410.9088151050293,
          42.2934409960265,
          325.8106312908962,
          69.70153719404156,
          40.382743925377625,
          106.46765152994296,
          147.92085928487205,
          133.99851181021597,
          142.05240535719773,
          111.46695121161135,
          81.77932101907909,
          136.02364725483102,
          99.12236889149251,
          462.19382149302396,
          23.297179078201957,
          57.985172743658815,
          86.25500183024693,
          227.28776689541607,
          51.35191959111289,
          40.82838776839642,
          170.35382975440547,
          83.65148597291282,
          341.6015572463136,
          93.71995305408073,
          240.74673817565605,
          428.5313785913415,
          117.41896303215673,
          92.79224010368712,
          328.75913959891926,
          115.13430586184161,
          214.30534594824175,
          114.22370050750148,
          60.7472755074346,
          64.80052077961983,
          160.08705175805704,
          285.08696590478604,
          331.20250862106326,
          102.01471592907292,
          363.5530314453353,
          57.20693930427998,
          49.59660974282861,
          87.93669964726047,
          231.04872569200325,
          90.46703618154743,
          77.37520592550125,
          332.68766568350077,
          138.46715292718653,
          66.3442838056863,
          217.09132129099112,
          77.64887431898384,
          149.49289569996566,
          146.39323668022047,
          116.6894499147085,
          260.1650073168723,
          304.197222815267,
          77.74386736074813,
          342.06557618062817,
          245.47428085307078,
          195.71151403581035,
          222.62837587043785,
          54.39210454171767,
          433.79087704184957,
          166.6469649117575,
          214.85296075116142,
          107.37889707924109,
          95.34915076559645,
          353.19767469615965,
          216.80092397202793,
          99.30068700001358,
          91.03229431312636,
          166.52640914613102,
          412.92819140097765,
          422.52463764717646,
          58.09765327860588,
          301.77184640353295,
          170.4761745141362,
          117.63841927239389,
          209.51591630381904,
          243.5936989030668,
          67.49924149903272,
          210.53422580900755,
          480.6400418951876,
          237.58752794295063,
          132.8810847075169,
          117.47412486010192,
          60.172651126858305,
          330.4906389982467,
          111.66559643571213,
          120.2888841904465,
          42.6087249233207,
          229.6231162406237,
          252.09960440047746,
          426.9094479863535,
          120.41250319891292,
          254.36768835157062,
          346.51172151155413,
          76.31083952941972,
          300.9513646151751,
          299.40711234540737,
          91.20352794473779,
          49.56570458908788,
          503.6912907458608,
          109.09454384474353,
          89.19083892089856,
          346.8581086107783,
          296.1908933137191,
          223.27085215295767,
          561.7999192468236,
          221.80717138834203,
          72.54007542240728,
          69.40048499233251,
          125.36934150862379,
          110.8750608273725,
          91.47757148016014,
          406.6146363060058,
          93.82761221337046,
          128.4273753058807,
          129.57579709267554,
          357.9404882656019,
          275.9959508925448,
          49.108460407478624,
          93.61920413665018,
          221.27802422801477,
          146.5152414713398,
          88.6117620631363,
          37.29624120650019,
          64.7747706018517,
          59.15693066704291,
          239.77724765103287,
          271.5972720944178,
          99.81833784364186,
          91.2415623964609,
          99.31701239100725,
          190.71041409838838,
          120.72400850104842,
          345.39228170580486,
          92.6021798344062,
          291.9956085357468,
          210.22355253530384,
          174.87024009862063,
          158.23031586753945,
          134.09482309725647,
          90.90658770572836,
          109.43881830304636,
          414.9400282561165,
          322.44618568675895,
          300.1810099512933,
          64.2953674475689,
          200.41519558085665,
          476.9572208290714,
          161.1242824600466,
          65.40435135040396,
          59.39877118757704,
          217.4708518937371,
          191.98853615908047,
          239.61263569717843,
          115.09428679380486,
          120.76285296954332,
          142.71896396471587,
          100.90609281415662,
          64.08011083335882,
          98.54961850709226,
          101.57855667625965,
          235.39072830227585,
          331.60074831365716,
          262.20481850459714,
          372.7646448655525,
          61.132831790123525,
          317.6181513803541,
          158.3353414334342,
          259.4601713107961,
          154.361013457867,
          169.0505175827005,
          66.52284627328602,
          48.63478349944205,
          51.164277017398454,
          79.4411993040776,
          283.883256957484,
          394.38130383852786,
          84.18008579717322,
          54.065551696190724,
          167.5350327615424,
          54.71296777915111,
          85.62625283506411,
          272.1967601723179,
          150.99730223831864,
          269.61862754655186,
          113.73316605063134,
          98.91771512392287,
          186.7309134653923,
          84.81909442698023,
          108.78661245497565,
          164.88694719318767,
          62.28473002868576,
          63.76138435220156,
          191.0776694373779,
          155.6491183008456,
          147.71114819391173,
          112.93993920467366,
          101.59601492867925,
          133.44561959862665,
          56.00921195178753,
          79.44516810078977,
          50.31317951135164,
          196.84336060087074,
          80.08609011773329,
          76.27405304689059,
          92.35121832240189,
          46.79163530030502,
          194.09786535736043,
          209.12605400672214,
          452.4506491121525,
          123.4090247588905,
          126.87462830778848,
          136.0035718219972,
          98.71234262026614,
          95.8879631079428,
          443.69987992232984,
          289.5958452869399,
          47.7670972974938,
          300.2114424242344,
          109.14993003402213,
          52.627986743482204,
          141.52182721232458,
          136.3861420437382,
          190.11087690972587,
          103.58506669284682,
          144.00226332399677,
          138.15887049354768,
          264.7689542644079,
          123.79696006157718,
          218.92512968784683,
          132.3220897543687,
          53.92635013746424,
          138.19872561108633,
          52.68641973276397,
          430.0778830608877,
          123.52337017783668,
          115.98608182311946,
          252.02416836825682,
          85.03437547947318,
          373.04518855902364,
          256.2181511598209,
          111.23643984676309,
          143.9762121749067,
          228.7306134204737,
          76.55355533458875,
          109.45214741796562,
          131.29271424378092,
          152.96144463570394,
          355.1639068794248,
          201.496314225447,
          237.01422250065906,
          381.1777046707183,
          380.4648233712856,
          282.3586015173532,
          131.28694552942903,
          74.36520183002494,
          137.1567547778098,
          109.04504501195805,
          99.56917694052255,
          95.44352674226043,
          254.61812992062943,
          166.82746977920172,
          150.62092395950174,
          108.83602316612793,
          195.4898032686321,
          272.54887632374624,
          377.9417457394217,
          146.0286233456938,
          45.69626635946579,
          373.3903340564678,
          243.24105495937116,
          290.32810145936827,
          362.33056592664144,
          43.47699401162634,
          407.0462783148597,
          206.13189306209114,
          124.90217389696178,
          67.06867267253313,
          78.29869847757725,
          131.08495123501456,
          186.0273597619972,
          119.82435281941795,
          135.363713357005,
          110.28815942836242,
          164.8840731207347,
          148.81867672581848,
          408.90699706241355,
          74.36765890678787,
          132.32993574291226,
          192.0088933841425,
          104.2904778603817,
          78.31682973711787,
          344.86609059199606,
          120.62064960078311,
          308.33623595603194,
          435.3189352589064,
          79.93453460867809,
          231.56807250287295,
          238.70406430209158,
          65.5214410631227,
          121.24766348253264,
          88.43119067915949,
          145.20979376707987,
          51.2676190447632,
          382.8174892919923,
          149.91750481135122,
          91.68653895227642,
          247.1439926162043,
          276.3506561261841,
          111.58615151449726,
          52.82161232766881,
          201.76828781918064,
          231.13404360850114,
          105.1672308511096,
          124.57101733708109,
          190.74801275252534,
          96.66524179648239,
          397.8187704877576,
          81.66314889952275,
          454.75480473319647,
          147.23578997703973
         ],
         "yaxis": "y"
        }
       ],
       "layout": {
        "legend": {
         "tracegroupgap": 0
        },
        "margin": {
         "t": 60
        },
        "template": {
         "data": {
          "bar": [
           {
            "error_x": {
             "color": "#2a3f5f"
            },
            "error_y": {
             "color": "#2a3f5f"
            },
            "marker": {
             "line": {
              "color": "#E5ECF6",
              "width": 0.5
             },
             "pattern": {
              "fillmode": "overlay",
              "size": 10,
              "solidity": 0.2
             }
            },
            "type": "bar"
           }
          ],
          "barpolar": [
           {
            "marker": {
             "line": {
              "color": "#E5ECF6",
              "width": 0.5
             },
             "pattern": {
              "fillmode": "overlay",
              "size": 10,
              "solidity": 0.2
             }
            },
            "type": "barpolar"
           }
          ],
          "carpet": [
           {
            "aaxis": {
             "endlinecolor": "#2a3f5f",
             "gridcolor": "white",
             "linecolor": "white",
             "minorgridcolor": "white",
             "startlinecolor": "#2a3f5f"
            },
            "baxis": {
             "endlinecolor": "#2a3f5f",
             "gridcolor": "white",
             "linecolor": "white",
             "minorgridcolor": "white",
             "startlinecolor": "#2a3f5f"
            },
            "type": "carpet"
           }
          ],
          "choropleth": [
           {
            "colorbar": {
             "outlinewidth": 0,
             "ticks": ""
            },
            "type": "choropleth"
           }
          ],
          "contour": [
           {
            "colorbar": {
             "outlinewidth": 0,
             "ticks": ""
            },
            "colorscale": [
             [
              0,
              "#0d0887"
             ],
             [
              0.1111111111111111,
              "#46039f"
             ],
             [
              0.2222222222222222,
              "#7201a8"
             ],
             [
              0.3333333333333333,
              "#9c179e"
             ],
             [
              0.4444444444444444,
              "#bd3786"
             ],
             [
              0.5555555555555556,
              "#d8576b"
             ],
             [
              0.6666666666666666,
              "#ed7953"
             ],
             [
              0.7777777777777778,
              "#fb9f3a"
             ],
             [
              0.8888888888888888,
              "#fdca26"
             ],
             [
              1,
              "#f0f921"
             ]
            ],
            "type": "contour"
           }
          ],
          "contourcarpet": [
           {
            "colorbar": {
             "outlinewidth": 0,
             "ticks": ""
            },
            "type": "contourcarpet"
           }
          ],
          "heatmap": [
           {
            "colorbar": {
             "outlinewidth": 0,
             "ticks": ""
            },
            "colorscale": [
             [
              0,
              "#0d0887"
             ],
             [
              0.1111111111111111,
              "#46039f"
             ],
             [
              0.2222222222222222,
              "#7201a8"
             ],
             [
              0.3333333333333333,
              "#9c179e"
             ],
             [
              0.4444444444444444,
              "#bd3786"
             ],
             [
              0.5555555555555556,
              "#d8576b"
             ],
             [
              0.6666666666666666,
              "#ed7953"
             ],
             [
              0.7777777777777778,
              "#fb9f3a"
             ],
             [
              0.8888888888888888,
              "#fdca26"
             ],
             [
              1,
              "#f0f921"
             ]
            ],
            "type": "heatmap"
           }
          ],
          "heatmapgl": [
           {
            "colorbar": {
             "outlinewidth": 0,
             "ticks": ""
            },
            "colorscale": [
             [
              0,
              "#0d0887"
             ],
             [
              0.1111111111111111,
              "#46039f"
             ],
             [
              0.2222222222222222,
              "#7201a8"
             ],
             [
              0.3333333333333333,
              "#9c179e"
             ],
             [
              0.4444444444444444,
              "#bd3786"
             ],
             [
              0.5555555555555556,
              "#d8576b"
             ],
             [
              0.6666666666666666,
              "#ed7953"
             ],
             [
              0.7777777777777778,
              "#fb9f3a"
             ],
             [
              0.8888888888888888,
              "#fdca26"
             ],
             [
              1,
              "#f0f921"
             ]
            ],
            "type": "heatmapgl"
           }
          ],
          "histogram": [
           {
            "marker": {
             "pattern": {
              "fillmode": "overlay",
              "size": 10,
              "solidity": 0.2
             }
            },
            "type": "histogram"
           }
          ],
          "histogram2d": [
           {
            "colorbar": {
             "outlinewidth": 0,
             "ticks": ""
            },
            "colorscale": [
             [
              0,
              "#0d0887"
             ],
             [
              0.1111111111111111,
              "#46039f"
             ],
             [
              0.2222222222222222,
              "#7201a8"
             ],
             [
              0.3333333333333333,
              "#9c179e"
             ],
             [
              0.4444444444444444,
              "#bd3786"
             ],
             [
              0.5555555555555556,
              "#d8576b"
             ],
             [
              0.6666666666666666,
              "#ed7953"
             ],
             [
              0.7777777777777778,
              "#fb9f3a"
             ],
             [
              0.8888888888888888,
              "#fdca26"
             ],
             [
              1,
              "#f0f921"
             ]
            ],
            "type": "histogram2d"
           }
          ],
          "histogram2dcontour": [
           {
            "colorbar": {
             "outlinewidth": 0,
             "ticks": ""
            },
            "colorscale": [
             [
              0,
              "#0d0887"
             ],
             [
              0.1111111111111111,
              "#46039f"
             ],
             [
              0.2222222222222222,
              "#7201a8"
             ],
             [
              0.3333333333333333,
              "#9c179e"
             ],
             [
              0.4444444444444444,
              "#bd3786"
             ],
             [
              0.5555555555555556,
              "#d8576b"
             ],
             [
              0.6666666666666666,
              "#ed7953"
             ],
             [
              0.7777777777777778,
              "#fb9f3a"
             ],
             [
              0.8888888888888888,
              "#fdca26"
             ],
             [
              1,
              "#f0f921"
             ]
            ],
            "type": "histogram2dcontour"
           }
          ],
          "mesh3d": [
           {
            "colorbar": {
             "outlinewidth": 0,
             "ticks": ""
            },
            "type": "mesh3d"
           }
          ],
          "parcoords": [
           {
            "line": {
             "colorbar": {
              "outlinewidth": 0,
              "ticks": ""
             }
            },
            "type": "parcoords"
           }
          ],
          "pie": [
           {
            "automargin": true,
            "type": "pie"
           }
          ],
          "scatter": [
           {
            "fillpattern": {
             "fillmode": "overlay",
             "size": 10,
             "solidity": 0.2
            },
            "type": "scatter"
           }
          ],
          "scatter3d": [
           {
            "line": {
             "colorbar": {
              "outlinewidth": 0,
              "ticks": ""
             }
            },
            "marker": {
             "colorbar": {
              "outlinewidth": 0,
              "ticks": ""
             }
            },
            "type": "scatter3d"
           }
          ],
          "scattercarpet": [
           {
            "marker": {
             "colorbar": {
              "outlinewidth": 0,
              "ticks": ""
             }
            },
            "type": "scattercarpet"
           }
          ],
          "scattergeo": [
           {
            "marker": {
             "colorbar": {
              "outlinewidth": 0,
              "ticks": ""
             }
            },
            "type": "scattergeo"
           }
          ],
          "scattergl": [
           {
            "marker": {
             "colorbar": {
              "outlinewidth": 0,
              "ticks": ""
             }
            },
            "type": "scattergl"
           }
          ],
          "scattermapbox": [
           {
            "marker": {
             "colorbar": {
              "outlinewidth": 0,
              "ticks": ""
             }
            },
            "type": "scattermapbox"
           }
          ],
          "scatterpolar": [
           {
            "marker": {
             "colorbar": {
              "outlinewidth": 0,
              "ticks": ""
             }
            },
            "type": "scatterpolar"
           }
          ],
          "scatterpolargl": [
           {
            "marker": {
             "colorbar": {
              "outlinewidth": 0,
              "ticks": ""
             }
            },
            "type": "scatterpolargl"
           }
          ],
          "scatterternary": [
           {
            "marker": {
             "colorbar": {
              "outlinewidth": 0,
              "ticks": ""
             }
            },
            "type": "scatterternary"
           }
          ],
          "surface": [
           {
            "colorbar": {
             "outlinewidth": 0,
             "ticks": ""
            },
            "colorscale": [
             [
              0,
              "#0d0887"
             ],
             [
              0.1111111111111111,
              "#46039f"
             ],
             [
              0.2222222222222222,
              "#7201a8"
             ],
             [
              0.3333333333333333,
              "#9c179e"
             ],
             [
              0.4444444444444444,
              "#bd3786"
             ],
             [
              0.5555555555555556,
              "#d8576b"
             ],
             [
              0.6666666666666666,
              "#ed7953"
             ],
             [
              0.7777777777777778,
              "#fb9f3a"
             ],
             [
              0.8888888888888888,
              "#fdca26"
             ],
             [
              1,
              "#f0f921"
             ]
            ],
            "type": "surface"
           }
          ],
          "table": [
           {
            "cells": {
             "fill": {
              "color": "#EBF0F8"
             },
             "line": {
              "color": "white"
             }
            },
            "header": {
             "fill": {
              "color": "#C8D4E3"
             },
             "line": {
              "color": "white"
             }
            },
            "type": "table"
           }
          ]
         },
         "layout": {
          "annotationdefaults": {
           "arrowcolor": "#2a3f5f",
           "arrowhead": 0,
           "arrowwidth": 1
          },
          "autotypenumbers": "strict",
          "coloraxis": {
           "colorbar": {
            "outlinewidth": 0,
            "ticks": ""
           }
          },
          "colorscale": {
           "diverging": [
            [
             0,
             "#8e0152"
            ],
            [
             0.1,
             "#c51b7d"
            ],
            [
             0.2,
             "#de77ae"
            ],
            [
             0.3,
             "#f1b6da"
            ],
            [
             0.4,
             "#fde0ef"
            ],
            [
             0.5,
             "#f7f7f7"
            ],
            [
             0.6,
             "#e6f5d0"
            ],
            [
             0.7,
             "#b8e186"
            ],
            [
             0.8,
             "#7fbc41"
            ],
            [
             0.9,
             "#4d9221"
            ],
            [
             1,
             "#276419"
            ]
           ],
           "sequential": [
            [
             0,
             "#0d0887"
            ],
            [
             0.1111111111111111,
             "#46039f"
            ],
            [
             0.2222222222222222,
             "#7201a8"
            ],
            [
             0.3333333333333333,
             "#9c179e"
            ],
            [
             0.4444444444444444,
             "#bd3786"
            ],
            [
             0.5555555555555556,
             "#d8576b"
            ],
            [
             0.6666666666666666,
             "#ed7953"
            ],
            [
             0.7777777777777778,
             "#fb9f3a"
            ],
            [
             0.8888888888888888,
             "#fdca26"
            ],
            [
             1,
             "#f0f921"
            ]
           ],
           "sequentialminus": [
            [
             0,
             "#0d0887"
            ],
            [
             0.1111111111111111,
             "#46039f"
            ],
            [
             0.2222222222222222,
             "#7201a8"
            ],
            [
             0.3333333333333333,
             "#9c179e"
            ],
            [
             0.4444444444444444,
             "#bd3786"
            ],
            [
             0.5555555555555556,
             "#d8576b"
            ],
            [
             0.6666666666666666,
             "#ed7953"
            ],
            [
             0.7777777777777778,
             "#fb9f3a"
            ],
            [
             0.8888888888888888,
             "#fdca26"
            ],
            [
             1,
             "#f0f921"
            ]
           ]
          },
          "colorway": [
           "#636efa",
           "#EF553B",
           "#00cc96",
           "#ab63fa",
           "#FFA15A",
           "#19d3f3",
           "#FF6692",
           "#B6E880",
           "#FF97FF",
           "#FECB52"
          ],
          "font": {
           "color": "#2a3f5f"
          },
          "geo": {
           "bgcolor": "white",
           "lakecolor": "white",
           "landcolor": "#E5ECF6",
           "showlakes": true,
           "showland": true,
           "subunitcolor": "white"
          },
          "hoverlabel": {
           "align": "left"
          },
          "hovermode": "closest",
          "mapbox": {
           "style": "light"
          },
          "paper_bgcolor": "white",
          "plot_bgcolor": "#E5ECF6",
          "polar": {
           "angularaxis": {
            "gridcolor": "white",
            "linecolor": "white",
            "ticks": ""
           },
           "bgcolor": "#E5ECF6",
           "radialaxis": {
            "gridcolor": "white",
            "linecolor": "white",
            "ticks": ""
           }
          },
          "scene": {
           "xaxis": {
            "backgroundcolor": "#E5ECF6",
            "gridcolor": "white",
            "gridwidth": 2,
            "linecolor": "white",
            "showbackground": true,
            "ticks": "",
            "zerolinecolor": "white"
           },
           "yaxis": {
            "backgroundcolor": "#E5ECF6",
            "gridcolor": "white",
            "gridwidth": 2,
            "linecolor": "white",
            "showbackground": true,
            "ticks": "",
            "zerolinecolor": "white"
           },
           "zaxis": {
            "backgroundcolor": "#E5ECF6",
            "gridcolor": "white",
            "gridwidth": 2,
            "linecolor": "white",
            "showbackground": true,
            "ticks": "",
            "zerolinecolor": "white"
           }
          },
          "shapedefaults": {
           "line": {
            "color": "#2a3f5f"
           }
          },
          "ternary": {
           "aaxis": {
            "gridcolor": "white",
            "linecolor": "white",
            "ticks": ""
           },
           "baxis": {
            "gridcolor": "white",
            "linecolor": "white",
            "ticks": ""
           },
           "bgcolor": "#E5ECF6",
           "caxis": {
            "gridcolor": "white",
            "linecolor": "white",
            "ticks": ""
           }
          },
          "title": {
           "x": 0.05
          },
          "xaxis": {
           "automargin": true,
           "gridcolor": "white",
           "linecolor": "white",
           "ticks": "",
           "title": {
            "standoff": 15
           },
           "zerolinecolor": "white",
           "zerolinewidth": 2
          },
          "yaxis": {
           "automargin": true,
           "gridcolor": "white",
           "linecolor": "white",
           "ticks": "",
           "title": {
            "standoff": 15
           },
           "zerolinecolor": "white",
           "zerolinewidth": 2
          }
         }
        },
        "xaxis": {
         "anchor": "y",
         "domain": [
          0,
          1
         ],
         "title": {
          "text": "Actual y"
         }
        },
        "yaxis": {
         "anchor": "x",
         "domain": [
          0,
          1
         ],
         "title": {
          "text": "Predicted y"
         }
        }
       }
      }
     },
     "metadata": {},
     "output_type": "display_data"
    }
   ],
   "source": [
    "plot(y_test, y_pred)"
   ]
  },
  {
   "attachments": {},
   "cell_type": "markdown",
   "metadata": {},
   "source": [
    "### Tuning XGBoost Regressor\n",
    "\n",
    "Parameters to tune:\n",
    "- n estimators & learning_rate: Takes longer to achieve same error reduction, however smaller steps taken means we can find the optimal minimum\n",
    "- max_leaves (default 0): By restricting max leaves, we can reduce overfitting.\n",
    "- colsample_bytree (default 1): Fraction of columns to be randomly sampled, might reduce overfitting.\n",
    "- subsample (default 1): Fraction of observations to sample for each tree, lower values reduce overfitting."
   ]
  },
  {
   "cell_type": "code",
   "execution_count": 27,
   "metadata": {},
   "outputs": [
    {
     "name": "stderr",
     "output_type": "stream",
     "text": [
      "/opt/homebrew/Caskroom/mambaforge/base/envs/datascience/lib/python3.10/site-packages/joblib/externals/loky/process_executor.py:702: UserWarning:\n",
      "\n",
      "A worker stopped while some jobs were given to the executor. This can be caused by a too short worker timeout or by a memory leak.\n",
      "\n"
     ]
    },
    {
     "name": "stdout",
     "output_type": "stream",
     "text": [
      "{'colsample_bytree': 0.4, 'learning_rate': 0.03, 'max_leaves': 0, 'n_estimators': 1500, 'subsample': 0.6}\n",
      "R2 Score 0.7515609992310798\n",
      "RMSE : 64.13111668336165\n"
     ]
    }
   ],
   "source": [
    "model = xgb.XGBRegressor(tree_method='hist', objective='reg:squarederror', seed=random_state)\n",
    "\n",
    "params_grid = {\n",
    "    'n_estimators': [1000, 1500],\n",
    "    'learning_rate': [0.03, 0.05],\n",
    "    'max_leaves': [0, 20, 40, 60, 80],\n",
    "    'colsample_bytree': [0.4, 0.6, 0.8],\n",
    "    'subsample': [0.6, 0.8, 1],\n",
    "    # 'alpha': [0, 1],\n",
    "    # 'lambda': [1, 2],\n",
    "    # 'gamma': [0, 1],\n",
    "\n",
    "}\n",
    "\n",
    "cv = GridSearchCV(estimator=model, param_grid=params_grid, cv=3, n_jobs=-1) #cv=3 to reduce waiting time\n",
    "\n",
    "cv.fit(X_train, y_train)\n",
    "print(cv.best_params_)\n",
    "est = cv.best_estimator_\n",
    "y_pred = est.predict(X_test)\n",
    "calculate_score(y_test, y_pred)"
   ]
  },
  {
   "cell_type": "code",
   "execution_count": 28,
   "metadata": {},
   "outputs": [
    {
     "data": {
      "text/html": [
       "<div>\n",
       "<style scoped>\n",
       "    .dataframe tbody tr th:only-of-type {\n",
       "        vertical-align: middle;\n",
       "    }\n",
       "\n",
       "    .dataframe tbody tr th {\n",
       "        vertical-align: top;\n",
       "    }\n",
       "\n",
       "    .dataframe thead th {\n",
       "        text-align: right;\n",
       "    }\n",
       "</style>\n",
       "<table border=\"1\" class=\"dataframe\">\n",
       "  <thead>\n",
       "    <tr style=\"text-align: right;\">\n",
       "      <th></th>\n",
       "      <th>mean_fit_time</th>\n",
       "      <th>std_fit_time</th>\n",
       "      <th>mean_score_time</th>\n",
       "      <th>std_score_time</th>\n",
       "      <th>param_colsample_bytree</th>\n",
       "      <th>param_learning_rate</th>\n",
       "      <th>param_max_leaves</th>\n",
       "      <th>param_n_estimators</th>\n",
       "      <th>param_subsample</th>\n",
       "      <th>params</th>\n",
       "      <th>split0_test_score</th>\n",
       "      <th>split1_test_score</th>\n",
       "      <th>split2_test_score</th>\n",
       "      <th>mean_test_score</th>\n",
       "      <th>std_test_score</th>\n",
       "      <th>rank_test_score</th>\n",
       "    </tr>\n",
       "  </thead>\n",
       "  <tbody>\n",
       "    <tr>\n",
       "      <th>3</th>\n",
       "      <td>2.733026</td>\n",
       "      <td>0.052307</td>\n",
       "      <td>0.031163</td>\n",
       "      <td>0.002705</td>\n",
       "      <td>0.4</td>\n",
       "      <td>0.03</td>\n",
       "      <td>0</td>\n",
       "      <td>1500</td>\n",
       "      <td>0.6</td>\n",
       "      <td>{'colsample_bytree': 0.4, 'learning_rate': 0.0...</td>\n",
       "      <td>0.720836</td>\n",
       "      <td>0.732092</td>\n",
       "      <td>0.742668</td>\n",
       "      <td>0.731865</td>\n",
       "      <td>0.008914</td>\n",
       "      <td>1</td>\n",
       "    </tr>\n",
       "    <tr>\n",
       "      <th>27</th>\n",
       "      <td>3.022928</td>\n",
       "      <td>0.046704</td>\n",
       "      <td>0.043395</td>\n",
       "      <td>0.011315</td>\n",
       "      <td>0.4</td>\n",
       "      <td>0.03</td>\n",
       "      <td>80</td>\n",
       "      <td>1500</td>\n",
       "      <td>0.6</td>\n",
       "      <td>{'colsample_bytree': 0.4, 'learning_rate': 0.0...</td>\n",
       "      <td>0.720836</td>\n",
       "      <td>0.732092</td>\n",
       "      <td>0.742668</td>\n",
       "      <td>0.731865</td>\n",
       "      <td>0.008914</td>\n",
       "      <td>1</td>\n",
       "    </tr>\n",
       "    <tr>\n",
       "      <th>21</th>\n",
       "      <td>2.676250</td>\n",
       "      <td>0.097209</td>\n",
       "      <td>0.036094</td>\n",
       "      <td>0.007443</td>\n",
       "      <td>0.4</td>\n",
       "      <td>0.03</td>\n",
       "      <td>60</td>\n",
       "      <td>1500</td>\n",
       "      <td>0.6</td>\n",
       "      <td>{'colsample_bytree': 0.4, 'learning_rate': 0.0...</td>\n",
       "      <td>0.720762</td>\n",
       "      <td>0.731685</td>\n",
       "      <td>0.742797</td>\n",
       "      <td>0.731748</td>\n",
       "      <td>0.008996</td>\n",
       "      <td>3</td>\n",
       "    </tr>\n",
       "    <tr>\n",
       "      <th>59</th>\n",
       "      <td>3.685268</td>\n",
       "      <td>0.131350</td>\n",
       "      <td>0.048539</td>\n",
       "      <td>0.008409</td>\n",
       "      <td>0.4</td>\n",
       "      <td>0.05</td>\n",
       "      <td>80</td>\n",
       "      <td>1500</td>\n",
       "      <td>1</td>\n",
       "      <td>{'colsample_bytree': 0.4, 'learning_rate': 0.0...</td>\n",
       "      <td>0.729686</td>\n",
       "      <td>0.729632</td>\n",
       "      <td>0.735826</td>\n",
       "      <td>0.731715</td>\n",
       "      <td>0.002907</td>\n",
       "      <td>4</td>\n",
       "    </tr>\n",
       "    <tr>\n",
       "      <th>35</th>\n",
       "      <td>2.821607</td>\n",
       "      <td>0.083813</td>\n",
       "      <td>0.041890</td>\n",
       "      <td>0.006666</td>\n",
       "      <td>0.4</td>\n",
       "      <td>0.05</td>\n",
       "      <td>0</td>\n",
       "      <td>1500</td>\n",
       "      <td>1</td>\n",
       "      <td>{'colsample_bytree': 0.4, 'learning_rate': 0.0...</td>\n",
       "      <td>0.729686</td>\n",
       "      <td>0.729632</td>\n",
       "      <td>0.735826</td>\n",
       "      <td>0.731715</td>\n",
       "      <td>0.002907</td>\n",
       "      <td>4</td>\n",
       "    </tr>\n",
       "    <tr>\n",
       "      <th>56</th>\n",
       "      <td>2.241684</td>\n",
       "      <td>0.023851</td>\n",
       "      <td>0.033629</td>\n",
       "      <td>0.001484</td>\n",
       "      <td>0.4</td>\n",
       "      <td>0.05</td>\n",
       "      <td>80</td>\n",
       "      <td>1000</td>\n",
       "      <td>1</td>\n",
       "      <td>{'colsample_bytree': 0.4, 'learning_rate': 0.0...</td>\n",
       "      <td>0.729606</td>\n",
       "      <td>0.729502</td>\n",
       "      <td>0.735809</td>\n",
       "      <td>0.731639</td>\n",
       "      <td>0.002949</td>\n",
       "      <td>6</td>\n",
       "    </tr>\n",
       "    <tr>\n",
       "      <th>32</th>\n",
       "      <td>1.998235</td>\n",
       "      <td>0.078758</td>\n",
       "      <td>0.027301</td>\n",
       "      <td>0.004303</td>\n",
       "      <td>0.4</td>\n",
       "      <td>0.05</td>\n",
       "      <td>0</td>\n",
       "      <td>1000</td>\n",
       "      <td>1</td>\n",
       "      <td>{'colsample_bytree': 0.4, 'learning_rate': 0.0...</td>\n",
       "      <td>0.729606</td>\n",
       "      <td>0.729502</td>\n",
       "      <td>0.735809</td>\n",
       "      <td>0.731639</td>\n",
       "      <td>0.002949</td>\n",
       "      <td>6</td>\n",
       "    </tr>\n",
       "    <tr>\n",
       "      <th>53</th>\n",
       "      <td>3.457081</td>\n",
       "      <td>0.071336</td>\n",
       "      <td>0.041532</td>\n",
       "      <td>0.003777</td>\n",
       "      <td>0.4</td>\n",
       "      <td>0.05</td>\n",
       "      <td>60</td>\n",
       "      <td>1500</td>\n",
       "      <td>1</td>\n",
       "      <td>{'colsample_bytree': 0.4, 'learning_rate': 0.0...</td>\n",
       "      <td>0.728463</td>\n",
       "      <td>0.730335</td>\n",
       "      <td>0.735811</td>\n",
       "      <td>0.731537</td>\n",
       "      <td>0.003118</td>\n",
       "      <td>8</td>\n",
       "    </tr>\n",
       "    <tr>\n",
       "      <th>50</th>\n",
       "      <td>2.226660</td>\n",
       "      <td>0.152337</td>\n",
       "      <td>0.028288</td>\n",
       "      <td>0.000394</td>\n",
       "      <td>0.4</td>\n",
       "      <td>0.05</td>\n",
       "      <td>60</td>\n",
       "      <td>1000</td>\n",
       "      <td>1</td>\n",
       "      <td>{'colsample_bytree': 0.4, 'learning_rate': 0.0...</td>\n",
       "      <td>0.728031</td>\n",
       "      <td>0.730342</td>\n",
       "      <td>0.735809</td>\n",
       "      <td>0.731394</td>\n",
       "      <td>0.003261</td>\n",
       "      <td>9</td>\n",
       "    </tr>\n",
       "    <tr>\n",
       "      <th>24</th>\n",
       "      <td>1.948669</td>\n",
       "      <td>0.137765</td>\n",
       "      <td>0.029391</td>\n",
       "      <td>0.005960</td>\n",
       "      <td>0.4</td>\n",
       "      <td>0.03</td>\n",
       "      <td>80</td>\n",
       "      <td>1000</td>\n",
       "      <td>0.6</td>\n",
       "      <td>{'colsample_bytree': 0.4, 'learning_rate': 0.0...</td>\n",
       "      <td>0.720389</td>\n",
       "      <td>0.731913</td>\n",
       "      <td>0.741789</td>\n",
       "      <td>0.731364</td>\n",
       "      <td>0.008745</td>\n",
       "      <td>10</td>\n",
       "    </tr>\n",
       "  </tbody>\n",
       "</table>\n",
       "</div>"
      ],
      "text/plain": [
       "    mean_fit_time  std_fit_time  mean_score_time  std_score_time  \\\n",
       "3        2.733026      0.052307         0.031163        0.002705   \n",
       "27       3.022928      0.046704         0.043395        0.011315   \n",
       "21       2.676250      0.097209         0.036094        0.007443   \n",
       "59       3.685268      0.131350         0.048539        0.008409   \n",
       "35       2.821607      0.083813         0.041890        0.006666   \n",
       "56       2.241684      0.023851         0.033629        0.001484   \n",
       "32       1.998235      0.078758         0.027301        0.004303   \n",
       "53       3.457081      0.071336         0.041532        0.003777   \n",
       "50       2.226660      0.152337         0.028288        0.000394   \n",
       "24       1.948669      0.137765         0.029391        0.005960   \n",
       "\n",
       "   param_colsample_bytree param_learning_rate param_max_leaves  \\\n",
       "3                     0.4                0.03                0   \n",
       "27                    0.4                0.03               80   \n",
       "21                    0.4                0.03               60   \n",
       "59                    0.4                0.05               80   \n",
       "35                    0.4                0.05                0   \n",
       "56                    0.4                0.05               80   \n",
       "32                    0.4                0.05                0   \n",
       "53                    0.4                0.05               60   \n",
       "50                    0.4                0.05               60   \n",
       "24                    0.4                0.03               80   \n",
       "\n",
       "   param_n_estimators param_subsample  \\\n",
       "3                1500             0.6   \n",
       "27               1500             0.6   \n",
       "21               1500             0.6   \n",
       "59               1500               1   \n",
       "35               1500               1   \n",
       "56               1000               1   \n",
       "32               1000               1   \n",
       "53               1500               1   \n",
       "50               1000               1   \n",
       "24               1000             0.6   \n",
       "\n",
       "                                               params  split0_test_score  \\\n",
       "3   {'colsample_bytree': 0.4, 'learning_rate': 0.0...           0.720836   \n",
       "27  {'colsample_bytree': 0.4, 'learning_rate': 0.0...           0.720836   \n",
       "21  {'colsample_bytree': 0.4, 'learning_rate': 0.0...           0.720762   \n",
       "59  {'colsample_bytree': 0.4, 'learning_rate': 0.0...           0.729686   \n",
       "35  {'colsample_bytree': 0.4, 'learning_rate': 0.0...           0.729686   \n",
       "56  {'colsample_bytree': 0.4, 'learning_rate': 0.0...           0.729606   \n",
       "32  {'colsample_bytree': 0.4, 'learning_rate': 0.0...           0.729606   \n",
       "53  {'colsample_bytree': 0.4, 'learning_rate': 0.0...           0.728463   \n",
       "50  {'colsample_bytree': 0.4, 'learning_rate': 0.0...           0.728031   \n",
       "24  {'colsample_bytree': 0.4, 'learning_rate': 0.0...           0.720389   \n",
       "\n",
       "    split1_test_score  split2_test_score  mean_test_score  std_test_score  \\\n",
       "3            0.732092           0.742668         0.731865        0.008914   \n",
       "27           0.732092           0.742668         0.731865        0.008914   \n",
       "21           0.731685           0.742797         0.731748        0.008996   \n",
       "59           0.729632           0.735826         0.731715        0.002907   \n",
       "35           0.729632           0.735826         0.731715        0.002907   \n",
       "56           0.729502           0.735809         0.731639        0.002949   \n",
       "32           0.729502           0.735809         0.731639        0.002949   \n",
       "53           0.730335           0.735811         0.731537        0.003118   \n",
       "50           0.730342           0.735809         0.731394        0.003261   \n",
       "24           0.731913           0.741789         0.731364        0.008745   \n",
       "\n",
       "    rank_test_score  \n",
       "3                 1  \n",
       "27                1  \n",
       "21                3  \n",
       "59                4  \n",
       "35                4  \n",
       "56                6  \n",
       "32                6  \n",
       "53                8  \n",
       "50                9  \n",
       "24               10  "
      ]
     },
     "execution_count": 28,
     "metadata": {},
     "output_type": "execute_result"
    }
   ],
   "source": [
    "v = pd.DataFrame(cv.cv_results_)\n",
    "v.sort_values(by='rank_test_score', inplace=True)\n",
    "v.head(10)"
   ]
  },
  {
   "cell_type": "code",
   "execution_count": 29,
   "metadata": {},
   "outputs": [
    {
     "name": "stdout",
     "output_type": "stream",
     "text": [
      "Best parameters: {'colsample_bytree': 0.4, 'learning_rate': 0.03, 'max_leaves': 0, 'n_estimators': 1500, 'subsample': 0.6}\n"
     ]
    }
   ],
   "source": [
    "print(f\"Best parameters: {v.iloc[0]['params']}\")"
   ]
  },
  {
   "cell_type": "code",
   "execution_count": 30,
   "metadata": {},
   "outputs": [
    {
     "name": "stdout",
     "output_type": "stream",
     "text": [
      "R2 Score 0.7518946043669279\n",
      "RMSE : 64.08804442658327\n"
     ]
    }
   ],
   "source": [
    "model = xgb.XGBRegressor(**cv.best_params_,).fit(X_train, y_train)\n",
    "y_pred = model.predict(X_test)\n",
    "calculate_score(y_test, y_pred)"
   ]
  },
  {
   "attachments": {},
   "cell_type": "markdown",
   "metadata": {},
   "source": [
    "For XGBoost Regression, with parameters tuned, it is the best model, with R^2 score of 0.8 and RMSE score of 56."
   ]
  },
  {
   "cell_type": "code",
   "execution_count": 31,
   "metadata": {},
   "outputs": [
    {
     "data": {
      "application/vnd.plotly.v1+json": {
       "config": {
        "plotlyServerURL": "https://plot.ly"
       },
       "data": [
        {
         "hovertemplate": "Actual y=%{x}<br>Predicted y=%{y}<extra></extra>",
         "legendgroup": "",
         "marker": {
          "color": "#636efa",
          "symbol": "circle"
         },
         "mode": "markers",
         "name": "",
         "orientation": "v",
         "showlegend": false,
         "type": "scatter",
         "x": [
          106,
          350,
          319,
          48,
          69,
          130,
          276,
          205,
          108,
          21,
          200,
          98,
          42,
          79,
          404,
          246,
          110,
          335,
          270,
          70,
          39,
          59,
          145,
          70,
          34,
          68,
          270,
          187,
          49,
          243,
          39,
          168,
          149,
          150,
          145,
          305,
          430,
          85,
          50,
          200,
          241,
          30,
          165,
          85,
          410,
          69,
          103,
          40,
          196,
          88,
          130,
          90,
          320,
          137,
          357,
          217,
          191,
          155,
          95,
          45,
          141,
          50,
          148,
          246,
          70,
          250,
          31,
          203,
          49,
          202,
          59,
          356,
          158,
          206,
          279,
          156,
          79,
          195,
          100,
          320,
          188,
          160,
          204,
          155,
          162,
          143,
          168,
          149,
          110,
          394,
          173,
          330,
          225,
          20,
          44,
          49,
          127,
          366,
          25,
          224,
          80,
          88,
          59,
          105,
          38,
          80,
          79,
          99,
          281,
          145,
          60,
          59,
          150,
          99,
          130,
          145,
          60,
          54,
          230,
          501,
          375,
          56,
          516,
          528,
          402,
          59,
          75,
          50,
          279,
          167,
          47,
          230,
          49,
          457,
          200,
          150,
          40,
          28,
          35,
          68,
          175,
          75,
          65,
          79,
          280,
          55,
          120,
          59,
          360,
          328,
          115,
          403,
          75,
          540,
          277,
          497,
          244,
          130,
          70,
          139,
          131,
          307,
          150,
          567,
          300,
          67,
          190,
          33,
          38,
          628,
          59,
          65,
          77,
          49,
          115,
          68,
          458,
          135,
          99,
          75,
          124,
          260,
          140,
          52,
          93,
          59,
          45,
          24,
          128,
          30,
          200,
          53,
          246,
          39,
          367,
          405,
          105,
          170,
          247,
          240,
          88,
          102,
          75,
          150,
          175,
          239,
          39,
          328,
          172,
          499,
          320,
          133,
          62,
          390,
          200,
          100,
          148,
          79,
          145,
          90,
          60,
          60,
          85,
          250,
          120,
          40,
          90,
          484,
          61,
          343,
          25,
          343,
          285,
          39,
          176,
          62,
          25,
          86,
          188,
          100,
          129,
          110,
          74,
          145,
          109,
          527,
          29,
          38,
          115,
          200,
          49,
          39,
          150,
          89,
          217,
          95,
          240,
          575,
          90,
          91,
          350,
          88,
          180,
          90,
          49,
          65,
          172,
          299,
          300,
          89,
          375,
          69,
          39,
          65,
          193,
          125,
          79,
          346,
          120,
          36,
          257,
          78,
          174,
          165,
          130,
          186,
          539,
          79,
          200,
          208,
          185,
          175,
          43,
          409,
          109,
          238,
          90,
          50,
          362,
          196,
          72,
          93,
          101,
          368,
          409,
          57,
          475,
          105,
          100,
          200,
          246,
          33,
          217,
          495,
          384,
          80,
          136,
          69,
          260,
          59,
          124,
          28,
          99,
          433,
          409,
          60,
          180,
          315,
          69,
          251,
          188,
          144,
          37,
          482,
          120,
          38,
          313,
          195,
          196,
          395,
          242,
          69,
          66,
          118,
          40,
          80,
          452,
          85,
          90,
          107,
          420,
          293,
          36,
          42,
          140,
          110,
          80,
          24,
          70,
          55,
          253,
          399,
          90,
          106,
          67,
          144,
          110,
          399,
          70,
          247,
          220,
          181,
          158,
          26,
          55,
          108,
          507,
          457,
          260,
          59,
          199,
          514,
          46,
          69,
          88,
          241,
          188,
          432,
          39,
          100,
          144,
          99,
          69,
          119,
          31,
          300,
          341,
          386,
          265,
          31,
          399,
          270,
          400,
          223,
          135,
          57,
          45,
          49,
          68,
          550,
          457,
          38,
          46,
          207,
          47,
          85,
          250,
          30,
          323,
          60,
          43,
          171,
          78,
          168,
          160,
          67,
          50,
          187,
          114,
          163,
          90,
          53,
          30,
          50,
          78,
          51,
          173,
          55,
          69,
          78,
          43,
          189,
          187,
          395,
          150,
          160,
          126,
          68,
          58,
          529,
          335,
          49,
          215,
          198,
          40,
          120,
          152,
          208,
          27,
          120,
          151,
          250,
          95,
          233,
          140,
          49,
          134,
          99,
          500,
          115,
          90,
          243,
          96,
          335,
          200,
          104,
          56,
          297,
          38,
          107,
          134,
          155,
          225,
          221,
          149,
          300,
          392,
          600,
          118,
          69,
          118,
          59,
          88,
          279,
          246,
          140,
          165,
          127,
          181,
          198,
          410,
          85,
          45,
          345,
          225,
          309,
          354,
          65,
          461,
          169,
          180,
          100,
          50,
          260,
          212,
          60,
          180,
          59,
          190,
          110,
          395,
          56,
          144,
          251,
          155,
          95,
          300,
          130,
          235,
          350,
          80,
          160,
          237,
          65,
          20,
          200,
          187,
          60,
          281,
          155,
          120,
          196,
          180,
          98,
          105,
          135,
          230,
          90,
          66,
          200,
          60,
          413,
          40,
          550,
          140
         ],
         "xaxis": "x",
         "y": [
          61.464508056640625,
          303.58203125,
          342.7067565917969,
          65.94302368164062,
          114.49050903320312,
          92.00047302246094,
          301.46893310546875,
          259.8526306152344,
          120.84652709960938,
          65.41120147705078,
          194.088623046875,
          169.03060913085938,
          90.31707763671875,
          85.1248550415039,
          195.64913940429688,
          172.5079803466797,
          111.43270111083984,
          357.9447326660156,
          241.01234436035156,
          82.09234619140625,
          39.52326965332031,
          49.10020446777344,
          130.6558074951172,
          135.6615753173828,
          81.95332336425781,
          63.66037368774414,
          287.4525451660156,
          175.1010284423828,
          116.37588500976562,
          245.71804809570312,
          41.75334930419922,
          150.40744018554688,
          111.17454528808594,
          137.08889770507812,
          121.79588317871094,
          143.76185607910156,
          413.7364196777344,
          116.19425201416016,
          49.395050048828125,
          187.74859619140625,
          221.2212371826172,
          57.91551208496094,
          180.75975036621094,
          88.87301635742188,
          443.35711669921875,
          75.04141998291016,
          131.20584106445312,
          57.23963928222656,
          213.8076934814453,
          102.29972076416016,
          91.59432983398438,
          90.11058807373047,
          373.4632873535156,
          147.54603576660156,
          391.8438415527344,
          247.265380859375,
          139.91612243652344,
          203.90347290039062,
          128.021728515625,
          49.5289192199707,
          192.65126037597656,
          71.96428680419922,
          220.97183227539062,
          255.532958984375,
          151.59124755859375,
          285.4517822265625,
          41.814979553222656,
          207.54837036132812,
          95.09891510009766,
          255.1055450439453,
          60.93060302734375,
          360.4560241699219,
          155.31683349609375,
          134.82498168945312,
          247.2216796875,
          168.9875030517578,
          116.29842376708984,
          239.14239501953125,
          92.40222930908203,
          225.54116821289062,
          234.31256103515625,
          90.81155395507812,
          209.68231201171875,
          224.6913604736328,
          135.8625030517578,
          183.7708282470703,
          110.7394790649414,
          136.00460815429688,
          149.92572021484375,
          225.794677734375,
          172.00723266601562,
          218.59536743164062,
          261.06512451171875,
          45.915618896484375,
          64.5682601928711,
          43.248985290527344,
          148.62289428710938,
          307.7657775878906,
          119.14229583740234,
          274.2569580078125,
          71.81269073486328,
          121.56499481201172,
          63.74674987792969,
          148.18014526367188,
          65.18394470214844,
          117.63958740234375,
          74.08007049560547,
          128.4065704345703,
          501.3576354980469,
          163.82093811035156,
          70.13507080078125,
          89.86138153076172,
          110.8858642578125,
          70.91166687011719,
          115.21955108642578,
          183.3845977783203,
          99.53457641601562,
          57.45845413208008,
          264.49298095703125,
          319.3370056152344,
          514.166748046875,
          55.16218185424805,
          531.364990234375,
          433.0263671875,
          416.2250061035156,
          47.073448181152344,
          108.95907592773438,
          81.82208251953125,
          202.85366821289062,
          270.41375732421875,
          75.49061584472656,
          220.3486328125,
          51.762691497802734,
          243.1274871826172,
          214.32229614257812,
          171.4869384765625,
          131.85435485839844,
          51.33705139160156,
          74.01837158203125,
          115.6727523803711,
          227.70248413085938,
          86.0350112915039,
          70.87701416015625,
          79.14418029785156,
          268.2585754394531,
          59.352848052978516,
          121.97909545898438,
          55.4979133605957,
          433.2125244140625,
          319.3652648925781,
          115.67529296875,
          325.2521057128906,
          94.74149322509766,
          254.5818634033203,
          201.88668823242188,
          478.97491455078125,
          144.64376831054688,
          125.02405548095703,
          116.0419921875,
          76.303466796875,
          136.30490112304688,
          308.9820556640625,
          66.95677947998047,
          355.10540771484375,
          184.38656616210938,
          103.70230865478516,
          207.54083251953125,
          49.1812629699707,
          76.34251403808594,
          229.7774658203125,
          52.21829605102539,
          66.27191925048828,
          78.55931091308594,
          45.59638214111328,
          115.63665771484375,
          107.13343048095703,
          205.80197143554688,
          205.73016357421875,
          162.19271850585938,
          66.38469696044922,
          133.64691162109375,
          293.22259521484375,
          155.43341064453125,
          81.4956283569336,
          73.8971176147461,
          75.25757598876953,
          95.65809631347656,
          67.66307830810547,
          96.23521423339844,
          106.39896392822266,
          193.9579620361328,
          66.83999633789062,
          141.7856903076172,
          50.039146423339844,
          419.19256591796875,
          405.6240234375,
          142.85910034179688,
          238.85215759277344,
          210.10951232910156,
          137.84567260742188,
          57.776798248291016,
          170.99551391601562,
          75.36116790771484,
          190.1326904296875,
          203.8983917236328,
          226.7200164794922,
          40.54920196533203,
          332.8541259765625,
          155.81277465820312,
          252.5322265625,
          286.76629638671875,
          172.81695556640625,
          98.76156616210938,
          348.23126220703125,
          90.3641586303711,
          74.28545379638672,
          146.80224609375,
          77.54115295410156,
          171.1000213623047,
          123.96285247802734,
          86.56491088867188,
          84.02281951904297,
          77.91130828857422,
          375.46685791015625,
          176.55613708496094,
          39.892738342285156,
          92.04704284667969,
          372.78912353515625,
          104.9782943725586,
          53.86286163330078,
          94.76982116699219,
          339.6402893066406,
          379.40985107421875,
          37.94700622558594,
          286.7802429199219,
          60.391056060791016,
          28.36666488647461,
          128.25083923339844,
          153.45034790039062,
          103.57830810546875,
          124.61923217773438,
          122.67511749267578,
          88.40406036376953,
          158.21241760253906,
          110.10926055908203,
          492.9883117675781,
          35.4210319519043,
          45.98179244995117,
          81.64279174804688,
          241.96250915527344,
          53.45911407470703,
          40.44404602050781,
          184.53245544433594,
          140.07870483398438,
          288.5018615722656,
          121.47171783447266,
          256.51446533203125,
          449.3636169433594,
          123.46088409423828,
          94.9218978881836,
          382.02203369140625,
          89.94513702392578,
          181.83303833007812,
          126.0632095336914,
          50.809024810791016,
          98.72461700439453,
          149.7106170654297,
          255.55059814453125,
          315.88037109375,
          138.33900451660156,
          339.7200927734375,
          62.087093353271484,
          43.859397888183594,
          85.34040832519531,
          223.34481811523438,
          88.30144500732422,
          90.4328842163086,
          342.0177307128906,
          173.1483917236328,
          53.2373046875,
          208.54302978515625,
          75.83811950683594,
          157.98736572265625,
          142.0884246826172,
          108.49061584472656,
          188.78919982910156,
          260.7712707519531,
          75.46271514892578,
          336.6125183105469,
          241.45205688476562,
          189.97012329101562,
          205.31735229492188,
          53.63700485229492,
          425.94500732421875,
          118.91606140136719,
          241.54820251464844,
          114.67176055908203,
          102.38703918457031,
          334.0589599609375,
          197.50804138183594,
          120.47006225585938,
          102.95257568359375,
          163.87142944335938,
          462.3987121582031,
          437.0352478027344,
          57.28000259399414,
          276.17803955078125,
          126.97354888916016,
          99.722412109375,
          319.8103942871094,
          256.3655700683594,
          54.67786407470703,
          172.93206787109375,
          469.99395751953125,
          208.63124084472656,
          128.58799743652344,
          119.82548522949219,
          57.14320755004883,
          302.77471923828125,
          145.8203582763672,
          127.49882507324219,
          69.39947509765625,
          208.25057983398438,
          360.08453369140625,
          392.107421875,
          114.01778411865234,
          247.60110473632812,
          325.2977600097656,
          73.69398498535156,
          269.07208251953125,
          250.40823364257812,
          139.80052185058594,
          52.10365676879883,
          456.9630126953125,
          83.79257202148438,
          40.06219482421875,
          352.9824523925781,
          308.9407653808594,
          226.49632263183594,
          511.37255859375,
          196.10496520996094,
          67.75186920166016,
          71.36145782470703,
          161.75184631347656,
          146.1859893798828,
          126.6345443725586,
          426.60076904296875,
          80.83277130126953,
          119.1773681640625,
          120.45328521728516,
          447.2508239746094,
          246.978515625,
          58.68620300292969,
          55.26508712768555,
          211.41079711914062,
          111.47835540771484,
          108.34574890136719,
          27.9722900390625,
          96.47893524169922,
          70.7119140625,
          273.12603759765625,
          324.572265625,
          116.8924789428711,
          116.68670654296875,
          130.54644775390625,
          130.45437622070312,
          170.76864624023438,
          302.7455139160156,
          78.92790985107422,
          293.3417663574219,
          206.5762939453125,
          177.5832977294922,
          170.70452880859375,
          157.96453857421875,
          86.02388000488281,
          93.28800964355469,
          367.6034851074219,
          309.9737854003906,
          296.6562194824219,
          65.49115753173828,
          231.93240356445312,
          446.0665283203125,
          258.71075439453125,
          65.19601440429688,
          80.64817810058594,
          261.6343688964844,
          209.58843994140625,
          292.7342834472656,
          153.2150421142578,
          106.82584381103516,
          142.71075439453125,
          115.8153305053711,
          52.1959114074707,
          103.90760803222656,
          117.173828125,
          232.3908233642578,
          339.3656311035156,
          260.59600830078125,
          329.7242126464844,
          83.32394409179688,
          268.2135925292969,
          163.039306640625,
          271.5644836425781,
          192.57168579101562,
          174.76412963867188,
          66.64192962646484,
          52.336814880371094,
          55.50166320800781,
          86.94811248779297,
          310.8674621582031,
          323.6360778808594,
          80.58644104003906,
          81.29710388183594,
          156.8417205810547,
          53.76093673706055,
          160.28233337402344,
          250.26402282714844,
          98.20157623291016,
          307.21685791015625,
          68.33983612060547,
          66.53462982177734,
          190.29095458984375,
          84.20919799804688,
          114.41515350341797,
          177.22384643554688,
          119.09258270263672,
          59.251399993896484,
          192.71022033691406,
          113.55156707763672,
          165.4952850341797,
          145.4909210205078,
          125.4173583984375,
          106.44554901123047,
          61.26725769042969,
          87.37299346923828,
          109.27637481689453,
          233.11288452148438,
          93.44458770751953,
          74.3305435180664,
          93.0603256225586,
          56.09739303588867,
          187.63995361328125,
          234.423583984375,
          445.76519775390625,
          86.37837982177734,
          140.5682830810547,
          146.43170166015625,
          146.6198272705078,
          86.6600570678711,
          391.50604248046875,
          280.17236328125,
          56.68571472167969,
          286.6218566894531,
          135.28057861328125,
          59.87004089355469,
          160.0977020263672,
          155.11962890625,
          185.44869995117188,
          96.09945678710938,
          161.91305541992188,
          175.2191619873047,
          281.4112243652344,
          103.30389404296875,
          221.54193115234375,
          102.22184753417969,
          52.37101364135742,
          139.66885375976562,
          53.83258056640625,
          467.46148681640625,
          97.6568374633789,
          130.48825073242188,
          235.0187225341797,
          97.10594940185547,
          354.8644714355469,
          227.91998291015625,
          90.20565795898438,
          135.32899475097656,
          274.24981689453125,
          51.44572448730469,
          126.29138946533203,
          130.9727325439453,
          165.5635986328125,
          357.2554931640625,
          210.98773193359375,
          311.1662292480469,
          353.86920166015625,
          377.4268798828125,
          306.7848205566406,
          127.47441864013672,
          51.91344451904297,
          123.25286102294922,
          101.49309539794922,
          105.4757308959961,
          123.05707550048828,
          228.64878845214844,
          177.31039428710938,
          163.46202087402344,
          129.1478729248047,
          221.28492736816406,
          233.24993896484375,
          415.8992004394531,
          159.46463012695312,
          48.421295166015625,
          351.9037780761719,
          255.41973876953125,
          276.7232971191406,
          372.0678405761719,
          58.175254821777344,
          393.7803955078125,
          197.63485717773438,
          118.9193344116211,
          125.3111801147461,
          65.22344207763672,
          138.8438720703125,
          190.22149658203125,
          166.21319580078125,
          137.20970153808594,
          128.30772399902344,
          181.74208068847656,
          105.6145248413086,
          363.2168273925781,
          81.30363464355469,
          204.78604125976562,
          192.8048095703125,
          155.3864288330078,
          86.47313690185547,
          339.0841369628906,
          131.98365783691406,
          310.9668884277344,
          409.68072509765625,
          77.53645324707031,
          229.76760864257812,
          302.7415466308594,
          100.09213256835938,
          87.76897430419922,
          87.71904754638672,
          155.868408203125,
          135.72459411621094,
          354.1072998046875,
          153.89996337890625,
          99.1005859375,
          290.2196350097656,
          257.324462890625,
          121.50715637207031,
          66.61039733886719,
          203.02523803710938,
          250.89215087890625,
          78.6377944946289,
          128.97531127929688,
          193.3633575439453,
          110.63961029052734,
          396.3453369140625,
          100.8778076171875,
          494.7204895019531,
          163.5196075439453
         ],
         "yaxis": "y"
        }
       ],
       "layout": {
        "legend": {
         "tracegroupgap": 0
        },
        "margin": {
         "t": 60
        },
        "template": {
         "data": {
          "bar": [
           {
            "error_x": {
             "color": "#2a3f5f"
            },
            "error_y": {
             "color": "#2a3f5f"
            },
            "marker": {
             "line": {
              "color": "#E5ECF6",
              "width": 0.5
             },
             "pattern": {
              "fillmode": "overlay",
              "size": 10,
              "solidity": 0.2
             }
            },
            "type": "bar"
           }
          ],
          "barpolar": [
           {
            "marker": {
             "line": {
              "color": "#E5ECF6",
              "width": 0.5
             },
             "pattern": {
              "fillmode": "overlay",
              "size": 10,
              "solidity": 0.2
             }
            },
            "type": "barpolar"
           }
          ],
          "carpet": [
           {
            "aaxis": {
             "endlinecolor": "#2a3f5f",
             "gridcolor": "white",
             "linecolor": "white",
             "minorgridcolor": "white",
             "startlinecolor": "#2a3f5f"
            },
            "baxis": {
             "endlinecolor": "#2a3f5f",
             "gridcolor": "white",
             "linecolor": "white",
             "minorgridcolor": "white",
             "startlinecolor": "#2a3f5f"
            },
            "type": "carpet"
           }
          ],
          "choropleth": [
           {
            "colorbar": {
             "outlinewidth": 0,
             "ticks": ""
            },
            "type": "choropleth"
           }
          ],
          "contour": [
           {
            "colorbar": {
             "outlinewidth": 0,
             "ticks": ""
            },
            "colorscale": [
             [
              0,
              "#0d0887"
             ],
             [
              0.1111111111111111,
              "#46039f"
             ],
             [
              0.2222222222222222,
              "#7201a8"
             ],
             [
              0.3333333333333333,
              "#9c179e"
             ],
             [
              0.4444444444444444,
              "#bd3786"
             ],
             [
              0.5555555555555556,
              "#d8576b"
             ],
             [
              0.6666666666666666,
              "#ed7953"
             ],
             [
              0.7777777777777778,
              "#fb9f3a"
             ],
             [
              0.8888888888888888,
              "#fdca26"
             ],
             [
              1,
              "#f0f921"
             ]
            ],
            "type": "contour"
           }
          ],
          "contourcarpet": [
           {
            "colorbar": {
             "outlinewidth": 0,
             "ticks": ""
            },
            "type": "contourcarpet"
           }
          ],
          "heatmap": [
           {
            "colorbar": {
             "outlinewidth": 0,
             "ticks": ""
            },
            "colorscale": [
             [
              0,
              "#0d0887"
             ],
             [
              0.1111111111111111,
              "#46039f"
             ],
             [
              0.2222222222222222,
              "#7201a8"
             ],
             [
              0.3333333333333333,
              "#9c179e"
             ],
             [
              0.4444444444444444,
              "#bd3786"
             ],
             [
              0.5555555555555556,
              "#d8576b"
             ],
             [
              0.6666666666666666,
              "#ed7953"
             ],
             [
              0.7777777777777778,
              "#fb9f3a"
             ],
             [
              0.8888888888888888,
              "#fdca26"
             ],
             [
              1,
              "#f0f921"
             ]
            ],
            "type": "heatmap"
           }
          ],
          "heatmapgl": [
           {
            "colorbar": {
             "outlinewidth": 0,
             "ticks": ""
            },
            "colorscale": [
             [
              0,
              "#0d0887"
             ],
             [
              0.1111111111111111,
              "#46039f"
             ],
             [
              0.2222222222222222,
              "#7201a8"
             ],
             [
              0.3333333333333333,
              "#9c179e"
             ],
             [
              0.4444444444444444,
              "#bd3786"
             ],
             [
              0.5555555555555556,
              "#d8576b"
             ],
             [
              0.6666666666666666,
              "#ed7953"
             ],
             [
              0.7777777777777778,
              "#fb9f3a"
             ],
             [
              0.8888888888888888,
              "#fdca26"
             ],
             [
              1,
              "#f0f921"
             ]
            ],
            "type": "heatmapgl"
           }
          ],
          "histogram": [
           {
            "marker": {
             "pattern": {
              "fillmode": "overlay",
              "size": 10,
              "solidity": 0.2
             }
            },
            "type": "histogram"
           }
          ],
          "histogram2d": [
           {
            "colorbar": {
             "outlinewidth": 0,
             "ticks": ""
            },
            "colorscale": [
             [
              0,
              "#0d0887"
             ],
             [
              0.1111111111111111,
              "#46039f"
             ],
             [
              0.2222222222222222,
              "#7201a8"
             ],
             [
              0.3333333333333333,
              "#9c179e"
             ],
             [
              0.4444444444444444,
              "#bd3786"
             ],
             [
              0.5555555555555556,
              "#d8576b"
             ],
             [
              0.6666666666666666,
              "#ed7953"
             ],
             [
              0.7777777777777778,
              "#fb9f3a"
             ],
             [
              0.8888888888888888,
              "#fdca26"
             ],
             [
              1,
              "#f0f921"
             ]
            ],
            "type": "histogram2d"
           }
          ],
          "histogram2dcontour": [
           {
            "colorbar": {
             "outlinewidth": 0,
             "ticks": ""
            },
            "colorscale": [
             [
              0,
              "#0d0887"
             ],
             [
              0.1111111111111111,
              "#46039f"
             ],
             [
              0.2222222222222222,
              "#7201a8"
             ],
             [
              0.3333333333333333,
              "#9c179e"
             ],
             [
              0.4444444444444444,
              "#bd3786"
             ],
             [
              0.5555555555555556,
              "#d8576b"
             ],
             [
              0.6666666666666666,
              "#ed7953"
             ],
             [
              0.7777777777777778,
              "#fb9f3a"
             ],
             [
              0.8888888888888888,
              "#fdca26"
             ],
             [
              1,
              "#f0f921"
             ]
            ],
            "type": "histogram2dcontour"
           }
          ],
          "mesh3d": [
           {
            "colorbar": {
             "outlinewidth": 0,
             "ticks": ""
            },
            "type": "mesh3d"
           }
          ],
          "parcoords": [
           {
            "line": {
             "colorbar": {
              "outlinewidth": 0,
              "ticks": ""
             }
            },
            "type": "parcoords"
           }
          ],
          "pie": [
           {
            "automargin": true,
            "type": "pie"
           }
          ],
          "scatter": [
           {
            "fillpattern": {
             "fillmode": "overlay",
             "size": 10,
             "solidity": 0.2
            },
            "type": "scatter"
           }
          ],
          "scatter3d": [
           {
            "line": {
             "colorbar": {
              "outlinewidth": 0,
              "ticks": ""
             }
            },
            "marker": {
             "colorbar": {
              "outlinewidth": 0,
              "ticks": ""
             }
            },
            "type": "scatter3d"
           }
          ],
          "scattercarpet": [
           {
            "marker": {
             "colorbar": {
              "outlinewidth": 0,
              "ticks": ""
             }
            },
            "type": "scattercarpet"
           }
          ],
          "scattergeo": [
           {
            "marker": {
             "colorbar": {
              "outlinewidth": 0,
              "ticks": ""
             }
            },
            "type": "scattergeo"
           }
          ],
          "scattergl": [
           {
            "marker": {
             "colorbar": {
              "outlinewidth": 0,
              "ticks": ""
             }
            },
            "type": "scattergl"
           }
          ],
          "scattermapbox": [
           {
            "marker": {
             "colorbar": {
              "outlinewidth": 0,
              "ticks": ""
             }
            },
            "type": "scattermapbox"
           }
          ],
          "scatterpolar": [
           {
            "marker": {
             "colorbar": {
              "outlinewidth": 0,
              "ticks": ""
             }
            },
            "type": "scatterpolar"
           }
          ],
          "scatterpolargl": [
           {
            "marker": {
             "colorbar": {
              "outlinewidth": 0,
              "ticks": ""
             }
            },
            "type": "scatterpolargl"
           }
          ],
          "scatterternary": [
           {
            "marker": {
             "colorbar": {
              "outlinewidth": 0,
              "ticks": ""
             }
            },
            "type": "scatterternary"
           }
          ],
          "surface": [
           {
            "colorbar": {
             "outlinewidth": 0,
             "ticks": ""
            },
            "colorscale": [
             [
              0,
              "#0d0887"
             ],
             [
              0.1111111111111111,
              "#46039f"
             ],
             [
              0.2222222222222222,
              "#7201a8"
             ],
             [
              0.3333333333333333,
              "#9c179e"
             ],
             [
              0.4444444444444444,
              "#bd3786"
             ],
             [
              0.5555555555555556,
              "#d8576b"
             ],
             [
              0.6666666666666666,
              "#ed7953"
             ],
             [
              0.7777777777777778,
              "#fb9f3a"
             ],
             [
              0.8888888888888888,
              "#fdca26"
             ],
             [
              1,
              "#f0f921"
             ]
            ],
            "type": "surface"
           }
          ],
          "table": [
           {
            "cells": {
             "fill": {
              "color": "#EBF0F8"
             },
             "line": {
              "color": "white"
             }
            },
            "header": {
             "fill": {
              "color": "#C8D4E3"
             },
             "line": {
              "color": "white"
             }
            },
            "type": "table"
           }
          ]
         },
         "layout": {
          "annotationdefaults": {
           "arrowcolor": "#2a3f5f",
           "arrowhead": 0,
           "arrowwidth": 1
          },
          "autotypenumbers": "strict",
          "coloraxis": {
           "colorbar": {
            "outlinewidth": 0,
            "ticks": ""
           }
          },
          "colorscale": {
           "diverging": [
            [
             0,
             "#8e0152"
            ],
            [
             0.1,
             "#c51b7d"
            ],
            [
             0.2,
             "#de77ae"
            ],
            [
             0.3,
             "#f1b6da"
            ],
            [
             0.4,
             "#fde0ef"
            ],
            [
             0.5,
             "#f7f7f7"
            ],
            [
             0.6,
             "#e6f5d0"
            ],
            [
             0.7,
             "#b8e186"
            ],
            [
             0.8,
             "#7fbc41"
            ],
            [
             0.9,
             "#4d9221"
            ],
            [
             1,
             "#276419"
            ]
           ],
           "sequential": [
            [
             0,
             "#0d0887"
            ],
            [
             0.1111111111111111,
             "#46039f"
            ],
            [
             0.2222222222222222,
             "#7201a8"
            ],
            [
             0.3333333333333333,
             "#9c179e"
            ],
            [
             0.4444444444444444,
             "#bd3786"
            ],
            [
             0.5555555555555556,
             "#d8576b"
            ],
            [
             0.6666666666666666,
             "#ed7953"
            ],
            [
             0.7777777777777778,
             "#fb9f3a"
            ],
            [
             0.8888888888888888,
             "#fdca26"
            ],
            [
             1,
             "#f0f921"
            ]
           ],
           "sequentialminus": [
            [
             0,
             "#0d0887"
            ],
            [
             0.1111111111111111,
             "#46039f"
            ],
            [
             0.2222222222222222,
             "#7201a8"
            ],
            [
             0.3333333333333333,
             "#9c179e"
            ],
            [
             0.4444444444444444,
             "#bd3786"
            ],
            [
             0.5555555555555556,
             "#d8576b"
            ],
            [
             0.6666666666666666,
             "#ed7953"
            ],
            [
             0.7777777777777778,
             "#fb9f3a"
            ],
            [
             0.8888888888888888,
             "#fdca26"
            ],
            [
             1,
             "#f0f921"
            ]
           ]
          },
          "colorway": [
           "#636efa",
           "#EF553B",
           "#00cc96",
           "#ab63fa",
           "#FFA15A",
           "#19d3f3",
           "#FF6692",
           "#B6E880",
           "#FF97FF",
           "#FECB52"
          ],
          "font": {
           "color": "#2a3f5f"
          },
          "geo": {
           "bgcolor": "white",
           "lakecolor": "white",
           "landcolor": "#E5ECF6",
           "showlakes": true,
           "showland": true,
           "subunitcolor": "white"
          },
          "hoverlabel": {
           "align": "left"
          },
          "hovermode": "closest",
          "mapbox": {
           "style": "light"
          },
          "paper_bgcolor": "white",
          "plot_bgcolor": "#E5ECF6",
          "polar": {
           "angularaxis": {
            "gridcolor": "white",
            "linecolor": "white",
            "ticks": ""
           },
           "bgcolor": "#E5ECF6",
           "radialaxis": {
            "gridcolor": "white",
            "linecolor": "white",
            "ticks": ""
           }
          },
          "scene": {
           "xaxis": {
            "backgroundcolor": "#E5ECF6",
            "gridcolor": "white",
            "gridwidth": 2,
            "linecolor": "white",
            "showbackground": true,
            "ticks": "",
            "zerolinecolor": "white"
           },
           "yaxis": {
            "backgroundcolor": "#E5ECF6",
            "gridcolor": "white",
            "gridwidth": 2,
            "linecolor": "white",
            "showbackground": true,
            "ticks": "",
            "zerolinecolor": "white"
           },
           "zaxis": {
            "backgroundcolor": "#E5ECF6",
            "gridcolor": "white",
            "gridwidth": 2,
            "linecolor": "white",
            "showbackground": true,
            "ticks": "",
            "zerolinecolor": "white"
           }
          },
          "shapedefaults": {
           "line": {
            "color": "#2a3f5f"
           }
          },
          "ternary": {
           "aaxis": {
            "gridcolor": "white",
            "linecolor": "white",
            "ticks": ""
           },
           "baxis": {
            "gridcolor": "white",
            "linecolor": "white",
            "ticks": ""
           },
           "bgcolor": "#E5ECF6",
           "caxis": {
            "gridcolor": "white",
            "linecolor": "white",
            "ticks": ""
           }
          },
          "title": {
           "x": 0.05
          },
          "xaxis": {
           "automargin": true,
           "gridcolor": "white",
           "linecolor": "white",
           "ticks": "",
           "title": {
            "standoff": 15
           },
           "zerolinecolor": "white",
           "zerolinewidth": 2
          },
          "yaxis": {
           "automargin": true,
           "gridcolor": "white",
           "linecolor": "white",
           "ticks": "",
           "title": {
            "standoff": 15
           },
           "zerolinecolor": "white",
           "zerolinewidth": 2
          }
         }
        },
        "xaxis": {
         "anchor": "y",
         "domain": [
          0,
          1
         ],
         "title": {
          "text": "Actual y"
         }
        },
        "yaxis": {
         "anchor": "x",
         "domain": [
          0,
          1
         ],
         "title": {
          "text": "Predicted y"
         }
        }
       }
      }
     },
     "metadata": {},
     "output_type": "display_data"
    }
   ],
   "source": [
    "plot(y_test, y_pred)"
   ]
  },
  {
   "attachments": {},
   "cell_type": "markdown",
   "metadata": {},
   "source": [
    "## Part 3: Evaluation\n"
   ]
  }
 ],
 "metadata": {
  "kernelspec": {
   "display_name": "Python 3 (ipykernel)",
   "language": "python",
   "name": "python3"
  },
  "language_info": {
   "codemirror_mode": {
    "name": "ipython",
    "version": 3
   },
   "file_extension": ".py",
   "mimetype": "text/x-python",
   "name": "python",
   "nbconvert_exporter": "python",
   "pygments_lexer": "ipython3",
   "version": "3.10.10"
  }
 },
 "nbformat": 4,
 "nbformat_minor": 2
}
